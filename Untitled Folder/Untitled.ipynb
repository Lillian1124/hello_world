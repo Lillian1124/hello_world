{
 "cells": [
  {
   "cell_type": "code",
   "execution_count": 1,
   "metadata": {},
   "outputs": [],
   "source": [
    "def fastaq_2_fasta(fastaq):\n",
    "    fasta_dict = {}\n",
    "    fasta_q_split = fastaq.split('\\n+\\n')[:-1]\n",
    "    for fastaq in fasta_q_split:\n",
    "        fasta = fastaq.split('\\n')[-2:]\n",
    "        fasta_dict['>'+fasta[0]] = fasta[1] \n",
    "    return fasta_dict"
   ]
  },
  {
   "cell_type": "code",
   "execution_count": 2,
   "metadata": {},
   "outputs": [
    {
     "ename": "FileNotFoundError",
     "evalue": "[Errno 2] No such file or directory: './data/Data-set-1/fastaq_file.fastq'",
     "output_type": "error",
     "traceback": [
      "\u001b[1;31m---------------------------------------------------------------------------\u001b[0m",
      "\u001b[1;31mFileNotFoundError\u001b[0m                         Traceback (most recent call last)",
      "\u001b[1;32m<ipython-input-2-8324ce603b23>\u001b[0m in \u001b[0;36m<module>\u001b[1;34m()\u001b[0m\n\u001b[0;32m      1\u001b[0m \u001b[0mfile_read_name\u001b[0m \u001b[1;33m=\u001b[0m \u001b[1;34m'./data/Data-set-1/fastaq_file.fastq'\u001b[0m\u001b[1;33m\u001b[0m\u001b[0m\n\u001b[0;32m      2\u001b[0m \u001b[1;33m\u001b[0m\u001b[0m\n\u001b[1;32m----> 3\u001b[1;33m \u001b[1;32mwith\u001b[0m \u001b[0mopen\u001b[0m\u001b[1;33m(\u001b[0m\u001b[0mfile_read_name\u001b[0m\u001b[1;33m)\u001b[0m \u001b[1;32mas\u001b[0m \u001b[0mfastafile\u001b[0m\u001b[1;33m:\u001b[0m\u001b[1;33m\u001b[0m\u001b[0m\n\u001b[0m\u001b[0;32m      4\u001b[0m     \u001b[0mfileRead\u001b[0m \u001b[1;33m=\u001b[0m \u001b[0mfastafile\u001b[0m\u001b[1;33m.\u001b[0m\u001b[0mread\u001b[0m\u001b[1;33m(\u001b[0m\u001b[1;33m)\u001b[0m\u001b[1;33m\u001b[0m\u001b[0m\n\u001b[0;32m      5\u001b[0m \u001b[1;33m\u001b[0m\u001b[0m\n",
      "\u001b[1;31mFileNotFoundError\u001b[0m: [Errno 2] No such file or directory: './data/Data-set-1/fastaq_file.fastq'"
     ]
    }
   ],
   "source": [
    "file_read_name = './data/Data-set-1/fastaq_file.fastq'\n",
    " \n",
    "with open(file_read_name) as fastafile:\n",
    "    fileRead = fastafile.read()\n",
    " \n",
    "fasta = fastaq_2_fasta(fileRead)\n",
    " \n",
    "file_save_name = './fastaq_to_fasta.fasta'\n",
    " \n",
    "with open(file_save_name,'w') as save_file:\n",
    "    for name in fasta:\n",
    "        string = name+'\\n'+fasta[name]+'\\n'\n",
    "        save_file.write(string)"
   ]
  },
  {
   "cell_type": "code",
   "execution_count": null,
   "metadata": {},
   "outputs": [],
   "source": []
  }
 ],
 "metadata": {
  "kernelspec": {
   "display_name": "Python 3",
   "language": "python",
   "name": "python3"
  },
  "language_info": {
   "codemirror_mode": {
    "name": "ipython",
    "version": 3
   },
   "file_extension": ".py",
   "mimetype": "text/x-python",
   "name": "python",
   "nbconvert_exporter": "python",
   "pygments_lexer": "ipython3",
   "version": "3.6.5"
  }
 },
 "nbformat": 4,
 "nbformat_minor": 2
}
