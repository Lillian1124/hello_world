{
 "cells": [
  {
   "cell_type": "markdown",
   "metadata": {},
   "source": [
    "# Lecture 22 2018-11-01: Matplotlib\n",
    "\n",
    "Plotting data with matplotlib package"
   ]
  },
  {
   "cell_type": "code",
<<<<<<< HEAD:Lecture Notes/LN 22 2018-11-01 Pandas.ipynb
   "execution_count": 6,
=======
   "execution_count": 1,
>>>>>>> 014dcaf825f59edc4e2c7a2a97b1d3783c891293:Lecture Notes/LN 22 index error copy.ipynb
   "metadata": {},
   "outputs": [],
   "source": [
    "import pandas as pd\n",
    "from pandas import Series, DataFrame   # use these so often, this can be helpful"
   ]
  },
  {
<<<<<<< HEAD:Lecture Notes/LN 22 2018-11-01 Pandas.ipynb
   "cell_type": "markdown",
   "metadata": {},
   "source": [
    "## Miscelaneous stuff"
   ]
  },
  {
   "cell_type": "markdown",
   "metadata": {},
   "source": [
    "### Writing DataFrames to a file\n",
    "The *to_csv('filename')* method in a pandas DataFrame writes that DataFrame to an external file named 'filename'. (similarly, *to_excel()* writes to an excel formatter file, *to_html* to an html file, and so on.)\n",
    "\n",
    "Useful parameters include:\n",
    "\n",
    "Parameter | default | meaning\n",
    ":-------- | :------ | :----------\n",
    "sep       | ','     | string that separates columns. use '\\t' to create tab delimited files\n",
    "columns   | all     | list of columns to write to output\n",
    "header    | True    | whether to include a header line\n"
   ]
  },
  {
   "cell_type": "code",
   "execution_count": 9,
   "metadata": {},
   "outputs": [
    {
     "data": {
      "text/html": [
       "<div>\n",
       "<style scoped>\n",
       "    .dataframe tbody tr th:only-of-type {\n",
       "        vertical-align: middle;\n",
       "    }\n",
       "\n",
       "    .dataframe tbody tr th {\n",
       "        vertical-align: top;\n",
       "    }\n",
       "\n",
       "    .dataframe thead th {\n",
       "        text-align: right;\n",
       "    }\n",
       "</style>\n",
       "<table border=\"1\" class=\"dataframe\">\n",
       "  <thead>\n",
       "    <tr style=\"text-align: right;\">\n",
       "      <th></th>\n",
       "      <th>week</th>\n",
       "      <th>day</th>\n",
       "      <th>v1</th>\n",
       "      <th>v2</th>\n",
       "      <th>dumb_column</th>\n",
       "      <th>dumber_column</th>\n",
       "    </tr>\n",
       "  </thead>\n",
       "  <tbody>\n",
       "    <tr>\n",
       "      <th>zero</th>\n",
       "      <td>w1</td>\n",
       "      <td>d1</td>\n",
       "      <td>1</td>\n",
       "      <td>10</td>\n",
       "      <td>99</td>\n",
       "      <td>66</td>\n",
       "    </tr>\n",
       "    <tr>\n",
       "      <th>one</th>\n",
       "      <td>w1</td>\n",
       "      <td>d3</td>\n",
       "      <td>2</td>\n",
       "      <td>20</td>\n",
       "      <td>99</td>\n",
       "      <td>66</td>\n",
       "    </tr>\n",
       "    <tr>\n",
       "      <th>two</th>\n",
       "      <td>w2</td>\n",
       "      <td>d1</td>\n",
       "      <td>3</td>\n",
       "      <td>30</td>\n",
       "      <td>99</td>\n",
       "      <td>66</td>\n",
       "    </tr>\n",
       "    <tr>\n",
       "      <th>three</th>\n",
       "      <td>w2</td>\n",
       "      <td>d2</td>\n",
       "      <td>4</td>\n",
       "      <td>40</td>\n",
       "      <td>99</td>\n",
       "      <td>66</td>\n",
       "    </tr>\n",
       "    <tr>\n",
       "      <th>four</th>\n",
       "      <td>w2</td>\n",
       "      <td>d2</td>\n",
       "      <td>5</td>\n",
       "      <td>60</td>\n",
       "      <td>99</td>\n",
       "      <td>66</td>\n",
       "    </tr>\n",
       "  </tbody>\n",
       "</table>\n",
       "</div>"
      ],
      "text/plain": [
       "      week day  v1  v2  dumb_column  dumber_column\n",
       "zero    w1  d1   1  10           99             66\n",
       "one     w1  d3   2  20           99             66\n",
       "two     w2  d1   3  30           99             66\n",
       "three   w2  d2   4  40           99             66\n",
       "four    w2  d2   5  60           99             66"
      ]
     },
     "execution_count": 9,
     "metadata": {},
     "output_type": "execute_result"
    }
   ],
   "source": [
    "# output a (dumb) tab delimited file\n",
    "\n",
    "test_df=DataFrame( \n",
    "   [  ['w1','d1',1,10, 99, 66],\n",
    "      ['w1','d3',2,20, 99, 66],\n",
    "      ['w2','d1',3,30, 99, 66],\n",
    "      ['w2','d2',4,40, 99, 66],\n",
    "      ['w2','d2',5,60, 99, 66],\n",
    "      ], \n",
    "    columns=['week','day','v1','v2', 'dumb_column', 'dumber_column'],\n",
    "    index=['zero', 'one', 'two', 'three', 'four']\n",
    "   )\n",
    "\n",
    "test_df"
   ]
  },
  {
   "cell_type": "code",
   "execution_count": 10,
   "metadata": {},
   "outputs": [],
   "source": [
    "test_df.to_csv('test_file.txt',\n",
    "               sep='\\t',\n",
    "               columns=['week','day','v1','v2',]\n",
    "              )"
   ]
  },
  {
   "cell_type": "code",
   "execution_count": 11,
   "metadata": {},
   "outputs": [
    {
     "name": "stderr",
     "output_type": "stream",
     "text": [
      "'cat' is not recognized as an internal or external command,\n",
      "operable program or batch file.\n"
     ]
    }
   ],
   "source": [
    "!cat test_file.txt"
   ]
  },
  {
   "cell_type": "markdown",
   "metadata": {},
   "source": [
    "### dropping columns in a DataFrame in old versions of Pandas/Python\n",
    "\n",
    "the *DataFrame.drop()* method has signature\n",
    "\n",
    "\n",
    ">def drop(columns=None, axis=0)\n",
    "\n",
    "So the first parameter is the value for *columns*, either a single column name or a list of column names, and the second is the axis if present. In both cases, the parameter name (\"columns\" and \"axis\") is optional. So these are equivalent:\n",
    "\n",
    "'''\n",
    "test_df.drop(columns='dumb_column', axis=1)\n",
    "test_df.drop(columns=['dumb_column'], axis=1)\n",
    "test_df.drop(columns='dumb_column')             # use of 'columns=' implies 'axis=1'\n",
    "test_df.drop(columns=['dumb_column'])           # use of 'columns=' implies 'axis=1'\n",
    "test_df.drop('dumb_column', axis=1)\n",
    "test_df.drop('dumb_column', 1)\n",
    "'''\n",
    "\n",
    "I prefer to use parameter names so that the reader doesn't have to remember which positional parameter is for what item, and avoid redundancies ('column' implies 'axis=1'). So, my preference above is:\n",
    "\n",
    ">test_df.drop(columns='dumb_column')\n",
    "\n"
   ]
  },
  {
   "cell_type": "markdown",
   "metadata": {},
   "source": [
    "**in older versions of pandas** the drop method has different parameters and defaults. The first parameter is *labels=* and there is no *columns=*. The default axis is 0.\n",
    "\n",
    "So, what in a newer version would be\n",
    "\n",
    ">test_df.drop(columns=['dumb_column', 'dumber_column'], inplace=True)\n",
    "\n",
    "in an older version of pandas would be\n",
    "\n",
    ">test_df.drop(['dumb_column', 'dumber_column'], axis=1, inplace=True)"
   ]
  },
  {
   "cell_type": "code",
   "execution_count": 12,
   "metadata": {},
   "outputs": [
    {
     "data": {
      "text/html": [
       "<div>\n",
       "<style scoped>\n",
       "    .dataframe tbody tr th:only-of-type {\n",
       "        vertical-align: middle;\n",
       "    }\n",
       "\n",
       "    .dataframe tbody tr th {\n",
       "        vertical-align: top;\n",
       "    }\n",
       "\n",
       "    .dataframe thead th {\n",
       "        text-align: right;\n",
       "    }\n",
       "</style>\n",
       "<table border=\"1\" class=\"dataframe\">\n",
       "  <thead>\n",
       "    <tr style=\"text-align: right;\">\n",
       "      <th></th>\n",
       "      <th>week</th>\n",
       "      <th>day</th>\n",
       "      <th>v1</th>\n",
       "      <th>v2</th>\n",
       "    </tr>\n",
       "  </thead>\n",
       "  <tbody>\n",
       "    <tr>\n",
       "      <th>zero</th>\n",
       "      <td>w1</td>\n",
       "      <td>d1</td>\n",
       "      <td>1</td>\n",
       "      <td>10</td>\n",
       "    </tr>\n",
       "    <tr>\n",
       "      <th>one</th>\n",
       "      <td>w1</td>\n",
       "      <td>d3</td>\n",
       "      <td>2</td>\n",
       "      <td>20</td>\n",
       "    </tr>\n",
       "    <tr>\n",
       "      <th>two</th>\n",
       "      <td>w2</td>\n",
       "      <td>d1</td>\n",
       "      <td>3</td>\n",
       "      <td>30</td>\n",
       "    </tr>\n",
       "    <tr>\n",
       "      <th>three</th>\n",
       "      <td>w2</td>\n",
       "      <td>d2</td>\n",
       "      <td>4</td>\n",
       "      <td>40</td>\n",
       "    </tr>\n",
       "    <tr>\n",
       "      <th>four</th>\n",
       "      <td>w2</td>\n",
       "      <td>d2</td>\n",
       "      <td>5</td>\n",
       "      <td>60</td>\n",
       "    </tr>\n",
       "  </tbody>\n",
       "</table>\n",
       "</div>"
      ],
      "text/plain": [
       "      week day  v1  v2\n",
       "zero    w1  d1   1  10\n",
       "one     w1  d3   2  20\n",
       "two     w2  d1   3  30\n",
       "three   w2  d2   4  40\n",
       "four    w2  d2   5  60"
      ]
     },
     "execution_count": 12,
     "metadata": {},
     "output_type": "execute_result"
    }
   ],
   "source": [
    "x = test_df.drop(columns=['dumb_column', 'dumber_column'])\n",
    "x"
   ]
  },
  {
   "cell_type": "markdown",
   "metadata": {},
   "source": [
    "## Matplotlib\n",
    "\n",
    "matplotlib is a (very) large package for creating figures and plots. \n",
    "\n",
    "See examples\n",
    "\n",
    ">https://matplotlib.org/gallery/index.html\n",
    "\n",
    "Matplotlib is designed to produce graphics which are many different kinds of objects, nested inside one another.\n",
    "\n",
    "Objects include figures, subplots, axes, points, lines, legends, text, and more. \n",
    "Some of these objects are created from data, such as DataFrames. \n",
    "For example, the subplot's *plot()* method can create several *line* objects, one for each column.\n",
    "\n",
    "Each object has values for style-related values, such as fonts, colors, widths, labels, and more. \n",
    "These can be set when the object is created, or by methods in the object. \n",
    "\n",
    "The strength of matplotlib is this great flexibility. The weakness is this complexity: you have to know which object controls the feature you want to manipulate. \n",
    "\n",
    "We will begin with the *plot()* method to produce line plots, to explore how to create graphics and manipulate style related values. "
   ]
  },
  {
   "cell_type": "markdown",
   "metadata": {},
   "source": [
    "*Technical note:* Matplotlib calls a \"backend\" program to create an actual graphic from your matplotlib methods. In jupyter notebook, you probably want the graphics to appear \"inline\", that is, in a cell. But jupyter resets graphics when you change cells. \n",
    "\n",
    "So, you need to put all your matplotlib commands in a single cell. This is annoying when interactively creating graphics. I hope someday jupyter fixes this. (I haven't tried jupyter lab, which may fix it.)"
   ]
  },
  {
   "cell_type": "code",
   "execution_count": 13,
   "metadata": {},
   "outputs": [],
   "source": [
    "from matplotlib import pyplot as plt\n",
    "\n",
    "%matplotlib inline"
   ]
  },
  {
   "cell_type": "markdown",
   "metadata": {},
   "source": [
    "### figures and subplots\n",
    "\n",
    "A *figure* object contains everything created by matplotlib.\n",
    "\n",
    "Each part of the figure is a separate object: axes, lines, legends, and so on.\n",
    "\n",
    "*figure* objects contain one or more *AxesSubplot* objects, which most people refer to as *subplots*, to enable multiple plots on one figure. Two ways to set them up:\n",
    "\n",
    "1. create the figure with *plt.figure()*, then add subplots to the figure object with that figure's *add_subplot()* method. To add subplots laid out in an x by y matrix, and to use the zth one (counting from one for some strange reason): \n",
    "\n",
    ">fig.add_subplot(x,y,z)\n",
    "\n",
    "2. (Recommended) use the *subplots(x,y)* method in *matplotlib.pyplot*, which we importated as *plt*, to create a figure with *x* rows and *y* columns of subplots, returning a tuple with the figure object and a list of the subplots objects.\n",
    "\n",
    "It used to be the case that creating a figure *does not* display it. In this case, *show()* method in that figure. This makes it easy to build up figures incrementally without having to redraw the figure at each step.\n",
    "\n",
    "The *figsize=(x,y)* parameter changes the size of your figure. x and y are \"inches\", which are defined indirectly by the dpi parrameter (dots per inch). "
   ]
  },
  {
   "cell_type": "code",
   "execution_count": 14,
   "metadata": {},
   "outputs": [],
   "source": [
    "import numpy as np\n",
    "from numpy.random import randn as randn"
   ]
  },
  {
   "cell_type": "code",
   "execution_count": 50,
   "metadata": {},
   "outputs": [
    {
     "data": {
      "image/png": "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\n",
      "text/plain": [
       "<Figure size 864x432 with 4 Axes>"
      ]
     },
     "metadata": {},
     "output_type": "display_data"
    }
   ],
   "source": [
    "fig, axes = plt.subplots(2,2, figsize=(12,6))    # with just one subplot, axes is an Axes, not a list. \n",
    "\n",
    "this_axis = axes[0,1]\n",
    "line_one = this_axis.plot(randn(50).cumsum())   # returns a line object\n",
    "line_two = this_axis.plot(randn(50).cumsum())\n",
    "\n",
    "#fig.show()"
   ]
  },
  {
   "cell_type": "code",
   "execution_count": 51,
   "metadata": {},
   "outputs": [
    {
     "data": {
      "image/png": "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\n",
      "text/plain": [
       "<Figure size 864x432 with 4 Axes>"
      ]
     },
     "execution_count": 51,
     "metadata": {},
     "output_type": "execute_result"
    }
   ],
   "source": [
    "fig"
   ]
  },
  {
   "cell_type": "code",
   "execution_count": 16,
   "metadata": {},
   "outputs": [
    {
     "data": {
      "text/plain": [
       "<matplotlib.axes._subplots.AxesSubplot at 0x18af1fb1128>"
      ]
     },
     "execution_count": 16,
     "metadata": {},
     "output_type": "execute_result"
    }
   ],
   "source": [
    "this_axis"
   ]
  },
  {
   "cell_type": "code",
   "execution_count": null,
   "metadata": {},
   "outputs": [],
   "source": []
  },
  {
   "cell_type": "code",
   "execution_count": 17,
   "metadata": {},
   "outputs": [
    {
     "data": {
      "text/plain": [
       "[<matplotlib.lines.Line2D at 0x18af2032518>]"
      ]
     },
     "execution_count": 17,
     "metadata": {},
     "output_type": "execute_result"
    }
   ],
   "source": [
    "line_one"
   ]
  },
  {
   "cell_type": "code",
   "execution_count": 18,
   "metadata": {},
   "outputs": [
    {
     "data": {
      "text/plain": [
       "array([[<matplotlib.axes._subplots.AxesSubplot object at 0x0000018AF1D05B00>,\n",
       "        <matplotlib.axes._subplots.AxesSubplot object at 0x0000018AF1FB1128>],\n",
       "       [<matplotlib.axes._subplots.AxesSubplot object at 0x0000018AF1FDB780>,\n",
       "        <matplotlib.axes._subplots.AxesSubplot object at 0x0000018AF2003E10>]],\n",
       "      dtype=object)"
      ]
     },
     "execution_count": 18,
     "metadata": {},
     "output_type": "execute_result"
    }
   ],
   "source": [
    "axes"
   ]
  },
  {
   "cell_type": "code",
   "execution_count": 19,
   "metadata": {},
   "outputs": [
    {
     "data": {
      "image/png": "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\n",
      "text/plain": [
       "<Figure size 864x432 with 4 Axes>"
      ]
     },
     "execution_count": 19,
     "metadata": {},
     "output_type": "execute_result"
    }
   ],
   "source": [
    "fig"
   ]
  },
  {
   "cell_type": "markdown",
   "metadata": {},
   "source": [
    "### Subplots\n",
    "\n",
    "Introspect into an subplot object to see all the methods and parameters. \n",
    "There are different methods for different types of plot, and many parameters."
   ]
  },
  {
   "cell_type": "code",
   "execution_count": 20,
   "metadata": {},
   "outputs": [],
   "source": [
    "plt.subplots?"
   ]
  },
  {
   "cell_type": "code",
   "execution_count": 21,
   "metadata": {
    "scrolled": true
   },
   "outputs": [
    {
     "data": {
      "image/png": "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\n",
      "text/plain": [
       "<Figure size 432x288 with 4 Axes>"
      ]
     },
     "metadata": {},
     "output_type": "display_data"
    }
   ],
   "source": [
    "fig, axes = plt.subplots(2,2, sharex=True, sharey=True)\n",
    "\n",
    "this_axis = axes[0,1]\n",
    "line_one = this_axis.plot(randn(50).cumsum())   # returns a line object\n",
    "line_two = this_axis.plot(randn(50).cumsum())\n",
    "\n",
    "#fig.show()"
   ]
  },
  {
   "cell_type": "code",
   "execution_count": 22,
   "metadata": {},
   "outputs": [
    {
     "data": {
      "image/png": "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\n",
      "text/plain": [
       "<Figure size 432x288 with 4 Axes>"
      ]
     },
     "execution_count": 22,
     "metadata": {},
     "output_type": "execute_result"
    }
   ],
   "source": [
    "this_axis = axes[1,0]   # change to another axis\n",
    "\n",
    "line_one = this_axis.plot(randn(50).cumsum())\n",
    "line_two = this_axis.plot(randn(50).cumsum())\n",
    "\n",
    "fig"
   ]
  },
  {
   "cell_type": "markdown",
   "metadata": {},
   "source": [
    "one can tweak various parameters to change how axes look using *get_* and *set_* methods in the axis object.\n",
    "*get_* gets the value(s) of a paramter, and *set_* sets the values of the same parameters. \n",
    "\n",
    "We show examples of this below. \n"
   ]
  },
  {
   "cell_type": "code",
   "execution_count": 23,
   "metadata": {},
   "outputs": [
    {
     "ename": "AttributeError",
     "evalue": "'AxesSubplot' object has no attribute 'get'",
     "output_type": "error",
     "traceback": [
      "\u001b[1;31m---------------------------------------------------------------------------\u001b[0m",
      "\u001b[1;31mAttributeError\u001b[0m                            Traceback (most recent call last)",
      "\u001b[1;32m<ipython-input-23-ef479c753e9d>\u001b[0m in \u001b[0;36m<module>\u001b[1;34m()\u001b[0m\n\u001b[1;32m----> 1\u001b[1;33m \u001b[0mthis_axis\u001b[0m\u001b[1;33m.\u001b[0m\u001b[0mget\u001b[0m\u001b[1;33m\u001b[0m\u001b[0m\n\u001b[0m\u001b[0;32m      2\u001b[0m \u001b[1;31m#this_axis.set\u001b[0m\u001b[1;33m\u001b[0m\u001b[1;33m\u001b[0m\u001b[0m\n",
      "\u001b[1;31mAttributeError\u001b[0m: 'AxesSubplot' object has no attribute 'get'"
     ]
    }
   ],
   "source": [
    "this_axis.get\n",
    "#this_axis.set"
   ]
  },
  {
   "cell_type": "markdown",
   "metadata": {},
   "source": [
    "#### plotting data in a subplot\n",
    "There are many methods that draw in axes. Various kinds of plot methods plot data, hline draws a line, and so on. \n",
    "\n",
    "*plot()* is one of several method that draw data in an axis. \n",
    "\n",
    "*plot()* produces line objects from the data and places them in an axis, for example\n",
    "\n",
    "Plotting methods produce objects of the appropriate type. For example, plot() and hline() create lines, hist() returns a description of rectangles, etc.\n",
    "\n",
    "Each of these object has methods and properties (such as color, style, etc.)\n",
    "To change parameters of any matplot lib object (figures, subplots, lines, text, ticks, labels, etc.), look for the right *set_parameter* method.\n",
    "\n",
    "We focus on *plot()* for now."
   ]
  },
  {
   "cell_type": "code",
   "execution_count": 24,
   "metadata": {},
   "outputs": [],
   "source": [
    "#this_axis.plot?\n",
    "#this_axis.hist?\n",
    "#this_axis.scatter?\n",
    "#this_axis.bar?"
   ]
  },
  {
   "cell_type": "markdown",
   "metadata": {},
   "source": [
    "##### Setting style parameters\n",
    "\n",
    "This can be done by accessing relevant *get_* and *set_* methods, or by specifying parameters when the object is created. \n",
    "\n",
    "We show this with line objects here, but the same techniques work with most matplotlib objects. \n",
    "\n",
    "**WARNING WARNING WARNING***\n",
    "\n",
    "Never *ever*, *ever*, *ever* tryto set a value with an assignment. The correct syntax is always:\n",
    "\n",
    ">set_parameter(value)\n",
    "\n",
    "*never* *never* *never*\n",
    "\n",
    ">set_parameter = value\n",
    "\n",
    "This last changes the *method* 'set_parameter' into an alias for the object named 'value'. \n",
    "This is hard to detect and harder to fix (I usually end up stopping the kernel and starting over)"
   ]
  },
  {
   "cell_type": "code",
   "execution_count": 25,
   "metadata": {},
   "outputs": [],
   "source": [
    "this_line = line_one[0]   # easier to use line object than a list with just one line object\n",
    "that_line = line_two[0]"
   ]
  },
  {
   "cell_type": "code",
   "execution_count": 26,
   "metadata": {},
   "outputs": [
    {
     "name": "stdout",
     "output_type": "stream",
     "text": [
      "old color of this_line is #1f77b4\n"
     ]
    },
    {
     "data": {
      "image/png": "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\n",
      "text/plain": [
       "<Figure size 432x288 with 4 Axes>"
      ]
     },
     "execution_count": 26,
     "metadata": {},
     "output_type": "execute_result"
    }
   ],
   "source": [
    "print('old color of this_line is', this_line.get_color())\n",
    "this_line.set_color('k') # or 'black'\n",
    "this_line.set_linestyle('--')\n",
    "that_line.set_color('green') # or 'g'\n",
    "\n",
    "#fig.show()\n",
    "fig"
   ]
  },
  {
   "cell_type": "code",
   "execution_count": 27,
   "metadata": {
    "scrolled": true
   },
   "outputs": [],
   "source": [
    "this_line.set_linestyle?"
   ]
  },
  {
   "cell_type": "code",
   "execution_count": 28,
   "metadata": {},
   "outputs": [
    {
     "data": {
      "image/png": "iVBORw0KGgoAAAANSUhEUgAAAXYAAAD8CAYAAABjAo9vAAAABHNCSVQICAgIfAhkiAAAAAlwSFlzAAALEgAACxIB0t1+/AAAADl0RVh0U29mdHdhcmUAbWF0cGxvdGxpYiB2ZXJzaW9uIDIuMi4yLCBodHRwOi8vbWF0cGxvdGxpYi5vcmcvhp/UCwAAIABJREFUeJzs3XlcFVX/wPHPuYCsyuaGKCII7juKWy5palpZmlppamqL1dOu9dhTWk97WY+/FtNKs01zy0pb3LcUFdxAcEUBZZFF2dd7z++PEWTnAhcu4Hm/Xrzgzp175sx1/M6Z75xzRkgpURRFURoOnbkroCiKopiWCuyKoigNjArsiqIoDYwK7IqiKA2MCuyKoigNjArsiqIoDYwK7IqiKA2MCuyKoigNjArsiqIoDYylOTbatGlT6enpaY5NK7eAoKCgBCllM3NsWx3bSk0y9tg2S2D39PQkMDDQHJtWbgFCiAhzbVsd20pNMvbYVqkYRVGUBsbowC6EWCGEuCqECCm0zEUIsU0Ice7Gb+eaqaaiKIpirMq02L8FxhRb9gqwQ0rpA+y48VpRFEUxI6MDu5RyL5BUbPF4YNWNv1cB95qoXoqiKEoVVTfH3kJKGQNw43fz6ldJURRFqY5au3kqhHhMCBEohAiMj4+vrc0qSo1Tx7ZS11Q3sMcJIdwAbvy+WtaKUsrlUko/KaVfs2Zm6WKsKDVCHdtKXVPdwP4bMOPG3zOAX6tZnqIoilJNlenuuBo4CHQQQlwWQswG3gPuEEKcA+648VpRFEUxI6NHnkopHyzjrREmqouiKIpiAmrkqaIoRkvOyOXwxeK9npW6RgV2RVGMkpqVy0NfBzB52UEuJaSbuzpKOVRgVxSlQtl5eh7/PojTsakA7DhdZgc4pQ4wy+yOiqLUfZtPRpOSmYe9tQV/Bsdy4EIiH0/uwdLdF9h5Oo7Zg9uZu4pKGVRgVxSlhNDoFJ7+6ViRZQvGdmRC79aciUvlm30XScnKpYmNlZlqqJRHBXZFUUr461QsOgF/PjsEC53AykLQ1tUegJGdWrBsTzj7ziYwrrubmWuqlEbl2BVFKWHrqVj8PF3o0LIx7Zs7FAR1gF5tnHCys2LH6Tgz1lApjwrsiqIUEZGYzunYVEZ3aVnq+5YWOob5NmP3mXj0BlnLtVOMoQK7oihF/H0qFoBRnVuUuc6ITi1ISs/heNS12qqWUgkqsCuKUsTfp+Lo7NaENi52Za4zxLcZljrBjjDV7bEuUoFdUZQCV1OzOBp5rcw0TD5HWyv6errwV0gsBpWOqXNUYFcUpcD20KtICaO7lp2GyfdAvzaEJ6Tz+8noWqiZUhkqsCuKAoCUkj+CY2jrakeHFo0rXP/u7q3o2LIxn2w7S67eUAs1VIylAruiKGTn6Zm3/iT7zycwoVdrhBAVfkanE7w0qgOXEjNYH3S5FmqpGEsFdkW5xcWnZvPQV4dYH3SZZ0b48K/b2xv92RGdmtPbw4kl28+RlauvwVoqlaECu6Lc4p768SinopP5/KHevHCHLzpdxa31fEII5o3uSGxKFt8fjKjBWiqVoQK7otzCjkdd5/ClJOaP7ljl6QEGeLtym09TPtt1nmvpOSauoVIVKrAryi1s5T8XaWxtyeS+bapVzn/GdSY1K5clO86ZqGZKdajArii3qNjkLLacjGFy3zY4WFdvPsAOLRvzkL8H3wdEcC4u1UQ1VKpKBXZFuUV9d/ASBimZOdDTJOU9P9IXu0YWvLUlzCTlKVVnksAuhLgkhAgWQhwXQgSaokxFUUwjKT2nRD/zzBw9Px2O5I7OLcqdOqAyXB2seXaED3vOxrPrjJpqwJxMOR/7cCllggnLUxSlmi7EpzFi8R6sLATezRxo62qHlBCfls31jFxmDTLtU5CmD/Dk+4AIPvzrDMN8mxnVH14xPZWKUZQGLCwmBYAJvVrTysmW8Ph0IpMyyNNLpvi1oV87F5Nur5Gljmdu9yE0JoW/TxWdr11KyfGo67y07gRzVh25Jab8zR/NW9u9hUzVYpfAViGEBJZJKZcXX0EI8RjwGICHh4eJNqso5leXj+3IpAwAXr+7M/bVvEFqrPE9W/H5rvP8b/tZRnVugU4nCI1O4ZWNJzl5ORlLnSDPIDl4IZHBPk1rpU7msvdcAk/+eBRnOyvmje7IlL5tsKjEOIGqMlWLfZCUsjdwJ/CUEGJI8RWklMullH5SSr9mzZqZaLOKYn51+diOSsqgqUOjWgvqoD2I49mRPpyOTeXPkFgCLyUxZflB4lKyeHN8FwIWjKCxtSW/HLtSa3Uyl4MXErGyEPi0aMyCX4K574t/aqXXkEkCu5Qy+sbvq8AvQD9TlKsoSvVEJGaY7OZoZdzVvRU+zR14e0so0745RFMHazbMHcj0AZ40dbBmbDc3/gqJITOnYU9DcOhiIt1bO/HzY/1Z8kBPLl/L5K5P9/N9QARS1lwqqtqBXQhhL4RonP83MAoIqW65iqJUX2RSBh5mCOwWOsFzI32JTs7Cq6kD654YQGvnm/W4r7c76Tl6tobG1nrdakt6dh7Bl5Pp7+WCEILxPd3567nb8Pdy5bVNITz6XVCN5d5N0WJvAewXQpwADgNbpJR/maBcRVGqIVdvIPp6plkCO8DYbi35ZoYfax7vT1MH6yLv9fN0wd3JtkGnY4IirpFnkPi3cy1Y1ryxDd/O7Mvrd3Vm79l4xv7fPgIvJZl829UO7FLKcClljxs/XaSUb5uiYoqiVE/09UwMErMFdiEEIzq1oImNVYn3dDrB+J6t2HcugfjUbDPUruYdupiIhU7Qp61zkeU6nWDW4HZsmDsQKwsdU5YHsGL/RZNuW3V3VJQGKiJR6xFjrsBekft6uaM3SH4/0TCfwHQoPIlu7o5l3rju1tqRzc8MZkTH5ry5OZQ1hyNNtm0V2BWlgcrv6ujhWjcDu0+LxnR1b8KPhyLIzmtYN1Ezc/ScuHwdf6/yxwk0sbHi86m9GerbjAW/BPP3KdPcc1CBXVEaqKikDBpZ6GjR2MbcVSnTi3d04EJ8Oou3nq21bdZkb5R8RyOvkauX9PdyrXBdKwsdS6f1pntrJ/61+hiHwhOrvX0V2BWlgYpMyqC1i22lHpxR24Z3bM60/h58tS+cA+erNiPJofBEjkVeM2rdX45dZsC7OzlwoXLbikzMYOGvIaRk5Rq1fkB4IjoBfsXy62Wxa2TJypl9aeNsy9bQuIo/UAEV2BWlgYpIzKBtHc2vF/bq2M60a2rPi+tOkJxhXODMtyHoMg9+FcD89ScrXDdPb2Dx1rPEpmQxY8VhNhj5nFYpJa9uCmbVwQi+2htu1GcOhSfR1d2RxqXcOC6Ls30jNs4dxH/GdTL6M2VRgV1RGiApJVFm6sNeWbaNLPjflJ7Ep2bzwtrj5BWbibIsqw9H8tL6E9hYWXA+Po207Lxy198SHMPla5ksntSDvp4uvLjuBEt3X6hwO9vDrrLvXAJNHaz5Zv9FEtJK78Wz8ehl5v4QxMiP93AkIgn/KszD42hnZZKJ01RgV5QG6HpGLqnZeWYZdVoV3Vs7sfDuzuw4fZUFvwRXmAcP3Lyc3N9eYGT7Jiye1AMp4dSV5DLXl1Ly5Z5w2jd34L5e7nz7SD9GdW7BJ9vOkpxZ9lVCdp6et7aE0r65Az/O8ScrV88Xu0qeDL7eF84La08QfCWZdk3teXKYN4/e5mX8F2BitTeBhKIotSYiqW53dSzNwwM8iU/L4f92nMPVwZqXx3QsdT39kRX4Bc7DzxKmiQyuuX8PwMnLyfiXcbNyz9l4wmJS+PD+7uh0gkY6wZPD27M1NI6/T8Uy2a/0RwOu/OcSEYkZfDerHx1aNub+Pq354VAEc25rRysnWwB+CIjgrS1hjO3Wkv97oBeWFuZvL5u/BoqimEROngHDjalw87s6tnW1N2eVKu35kT485O/B0t0X+P7gpZIrHPkaiy3Ps0vfg+C+76KLCsB1wyQ6OuZxspwW+9LdF3BztGF8T/eCZT1aO9LW1a7MfvRJ6Tl8uuMcIzu1YIivNrnbMyN8kFLy+q+n+GpvOAt+CeY/m0K4vWNz/jelbgR1UC12RanXEtKy+fV4NLvPXOXQxSRu79CcpdN6E3UjsLdxsTVzDStHCMF/x3clNjmLNzeH0sXdkd42cXD2Tzi3HSL2c9iqH+/Zz+fPO0eCd1tYN5P3rZfyzOWXSy0zKCKJQxeT+M+4TjSy1BXZ1t3dW/HF7vPEp2bTrHHRaQ82Hr1Meo6el0b7Fixr7WzHtP5tWfnPJbaHxWFrZcHYbi35eHLPImWbmwrsilJPZeTkMWXZQS7Ep+PdzJ7B7Zvy16lY1gZGEZmYQVMHa+wa1b//4hY6wSeTe3LXZ/v4+bul9Mr7AIGEFl2J6v4vph32Y9F9HbRunB3HQb/H6BqwjLjMa1zPyMHJrlFBWVJK3v/rDE0dGvFgv5Jz5d/doxWf7TrPnyExTB/gWeRzawOj6NHGiY4tmxT5zIKxnZjWvy1NHaxpYmNZ8manlLBvMXS8C5qXnk6qaXXnFKMoinHiTsH+T3jzt1OEJ6Tz3ax+7HhxGF9P92Ogtytv/B7KkYgkPOpZa70wRzsrvrqvNa/kfsElK2+uPX4C5v7D68n30MTBngm9b6ZU8B6Ohcyln+40wcXSMbvPxnP4YhLPjPApdWh/h5aN6dCiMb8dL5qOOXE5mbNxaUwpJfduZaHDu5kDjrZl9GCJPgo7/wu/PA4G84yoVYFdUeqCtKuQYeQsf3s+gO2LSDj6K3OHehfkf3U6wUeTemChE4THp9erG6clSEnHQ/+msUUuc9Iep9eSU4z8eA+7zsQzY4AnNlYWN9f1GIi0aMRtumBOXr4Z2A0GyQd/ncHDxY4H+pb9ZKt7erYiMOIaV65nFixbGxiFjZWOu3q4Vb7uIRu13zHH4eh3lf+8CajArih1wXf3wqq7QV96X+wD5xO4+9P9PP7NXnJOa7NiL7Rdy/Mjinapa+Vky1v3dgXq343TIo58Dee3YznmLf731BReHtOR1s62dHN3ZFr/tkXXbWSH8BjA7Y1OcfLy9YLFv52IJiwmhRdH+Zab/767eysANt2YQjgzR8/vx6MZ29Wt1Jkpy2UwwKlfwHcMtB0EO94s/YR9ORACvqxc2ZVQ/xJwitLQxJ+Fq6cAkEe+4tWYwfg0d2DmQE+EEJyOTeHx74NoYmtFv8zDNDJksYZRPKDfCidXQ58ZRYob39OdRhY6/DxN+6DqGpFwTksttekHTVppr/cthpNrof1I6DuHbkLQrbUjc4d5l12O93C8Ly7iStRFwI/UrFwWbztDZ7cmBYG7LB6udgzwcmXx1jOkZOXSztWe1Ow8JvctvQtkuS4fhpQrMHIRNO8My26DXW/DuMU315ESfn8O4oLBa1iN5OFVYFcUczv9u/bbvQ+GnW+zLeV9fsKJwxeTeGl0B2atPIKdtQXrnhhAq+0/Ii+4cNe/voOf7oHd70K3SdCoaNrlzm5VSCHUNoMB1kyFhDPa6ybukBINljbg/wQMnQfGjsL0Gg4swictiIjEsby07gQx17P4YHYPo+bK+WqGH29vCWXZHm3KgLaudlUaOUrIBq3+He4E68bQ91E48hX0ehha9dTWCd+tBXXQrkzGfVT57VRApWIUxdzCfgd3P7hvOeRm8orVauYMbsfW0DhGfryH5MxcVszsSyt7AWf/QnS6Cwc7W7jjTUiNgYAvzL0HVXP2Ty2o3/4ajH5Xa7UPfh6eC4Yx74CtcRNoAdCyO7nWLgy2CGbKsgCORl7n/x7sxQDvimdXBHCwtuTdCd1Z+UhfPF3teGyIV+WH9hv0EPor+NyhBXWA4QvArin8/szNNNuBT8GhBXSZACdWQ1bKzTKSr5jkhqsK7IpS0zKSYPd7kFfKHCPXoyD6GHS6C5q2568mk5hosY//dE/hpzn+9GzjxOdTe9OllSNc2Ak5adB5vPbZtgO0LnV7P4KrYbW7T9UlJez7GJzawqDnYMCTMOlbGLkQHJpVvjydDuE9jNt0IVxNzeTjyT0Y28kFzvwFvzwBXwyAaxEVFjO8Q3N2zxvOVP+2Fa5bQsQ/kBYHXSfeXGbrBGM/gJgTcGgpxIbAhR3g/zgMeFr79zz5s7Zu8hX4ZhRseaHy2y5GBXZFqWnRx7SUyeGvSr53eov2u+Pd5OoNLLp+J6mWLnDgU/y9XPnlyUEM69BcWyfsN7BxBM8hNz8/7mOwdoB1j0BuZsny66pL++FKIAx6BixMkxG29BlBc3Gdn0bkMj5pJXzkC6unwJk/tBPf8R8rV6A+D/5ZAulGzo8esgGs7MFndNHlne8F3zth59uw9T/aOn6zoHUfaNVbOy4ykuCHiZCVrL1XTSYJ7EKIMUKIM0KI80KIV0xRpqI0GO1HgPcI2PthyR4SYb9Ds07QtD0noq4Tn21JfLvxcPbvogElLwdO/wEdxoHlzQE4NG4B9y2D+DD469+1sz+msP8TsG8GPaearkyv4QD03z9Tu4rxHAxT18NL56HdbRC8TrtSMNb57bDtddjzXtHlmdch8lDRZSkxELxeGzBV7H4HQmh5dJ0FhO+C3tNvppn6Paqlo74aDkkX4IEfwa1H5fa7FNUO7EIIC+Bz4E6gM/CgEKJzdctVlAZl1H8hO0Xr8ZEvPQEiD2hpGGDfuQSEgKaDZoAhV2sB5jv7F2QnQ+d7SpbdfoSWzghaqeV4q0tKOLUJlg7WgpupRR/X0hH9nwQrEw6icnTXblL2mgZPHdaCpM8d2omw2yRICteunowVduOm9tHvtX+rfBsfhRWjtBNtvq2vgj4XhpdxcnVsDaPfAfvm0H/uzeVdJoCti5Ymum8ZeA01vn7lMEWLvR9wXkoZLqXMAdYA401QrqI0HC26QM+H4NAySLqoBc+TP4M0QKe7Adh/PoHu7o408ewFLbtpN9ZASwns/C+4eGtdAEtz+3/A1QcOLa9ePa9Hwk9TYN0MiAuBP18ps299lSRfgXUztRZr39mmKzff+M9g/OfQzLfo8k53g0UjrVVtDH0enNkCrftCXubNNNq5bXBuKzRqDJuegGuXtF4uIRvgthfApZypevvMgBdPg3Oh/L2VDdz/DTy4GrpOqMyelssUgd0diCr0+vKNZYqiFDb8VbCwgvWz4Iv+8PcCaN4FWnYnJSuX41HXGezTVFu3x4Pa0PT4M3DsO0g4q/WCsShjwIyFFfiMgstHIDeravUzGGDlOLi0D0a9rd3MTDwHJ36qWnnFpcRog7AyEmHqBu1+QW2xdda+n5ANxvU6ifgHMq/BwGe09NfhZVoK5u8F2gn2sV0ggbXTYctL4NxOu2qqiM6i5DLv27XukSZkisBeWp+gEoksIcRjQohAIURgfHy8CTarKHWD0cd2k1baf/7oo1pQu3sJzPoLhCDgQiJ6g+Q2nxs9QrpNAmGhtRR3vQseA7T8bXk8B4E+G64EVW1HYk9CcqQ2mGbg01rvG3c/rUdPVU8W+a5Hwqq7tF4j0zZoNw5rW9eJkBarBe2KhP0OlrY30lzPakH++3u1E+zod6CpD9z3pdbbJfEcjP1Qa33XEaYI7JeBwkO0WgMlJjiWUi6XUvpJKf2aNatCdyZFqaOMPbazcvUcaTubwxMPIWf9DX1mgo02c+D+8wnYNbKgt8eNm2oOzbW0y5GvIP0qjHqr4sE6HgMAYVzgKk1+Pj0/3SMEjHhdG0kZ+E3VygSt58+Xt0FqnHYzs02/qpdVHb5joJGDdhO1PAYDnN4MPiOhkT14+GvfbfQxrXXte6PXS8exMOY9GPyClsuvQ0zRz+gI4COEaAdcAR4AHjJBuYrSIARFXGPRb6cIi0kh78aDMJ4eLnhxlC9CCA6cT2Bd4GVu82ladE6THg/Aub+hy33Q2q/iDdm5QIuuWlfCofMrX9ELO6Fld+2kks9rqDbsfd9irTdH/sCb8uRmQuIFLf98frt2U9etJ0xaWX4OuqY1stP6/Yds1G5idhwLbr1AV6x9eyVIG/jVqdCN6mH/hg2ztYFUhU+whW+E1iHVDuxSyjwhxNPA34AFsEJKearaNVOUBsLR1hIHa0seH+pFrzbObA+L47Nd5wHo186FR78LxNPVnrfv61b0gx3vgqEvQ59HjN+Y5yAIWqV1jyzcLbIiWSkQdUjLKRc37N+wYrSWnuhZQZst85rWmybl8o0FQpse4I43wdK63I/WiqHzIfky7P8Y9n0E7n1g5paivXPCfgPdjXsW+byGwrzztV/fKjLJyAAp5R/AHxWuqCi3oPbNG7P6sf4Fr2/v2Bwh4LNd59HtBt8Wjflxjj+uDsUCn2UjbUh6ZbQdBIe+1NIGHv7Gf+7iXjDkaTnl4tr4a/O4hG2uOLDv+VBL3dzzGbTsCs6elZsaoKa5esMjW7TxBMHr4M/5Wl/1sR9q72elaF09vYZqo0brKTUJmKLUMp1O8Pa93bCxsuBMbCqfP9QbZ/tKtK7L03aQ9jtif+UC+/ntWhe+1qXkv8WNJxUd/Q5y0rW8c2kSzmu9R3o/rP3UZXYu2rD+axEQ8LmWO2/jDz/eD6nRcPcn5q5htagpBRTFDHQ6wcK7u/DTo/1NF9QB7F21kayXKnEDVUptwFC7IWWnbzreBXlZcH5H2eVse03rSXL7a5WrszmNXKjdV9j0pNYVMzYYJn9f9niBekIFdkVpaDwHafny8gYWndumdWPMvAaJ57XuiKWlYfK1HaSlVE5vLv398D3anCy3vVD05mtdZ2kN96/QTlqJF+DBNdpN1XpOpWIUpaFpO0ib5/vyEW0GyMJyM7WJqI58rb0OWHqzx015gd3CEjqM1QK7PrfoQCkptda6k4c2TUB909QHZm7W5lFv0cXctTEJFdgVpaHxHAwIWDlGm0nQobn2Y99MG2CTcFabMrbrBNjxXy2/7tpeu9FZno53aTMkXtqn5aTznf1bG6gz/os6NUinUtzNMGCqBqnArigNjUNzbXRnbLA20jM1FtLjtVSDzgoe/uVmYH74F63fuzHD+72HayeKsM03Py+lNmulkwd0n1xz+6RUigrsitIQtR9RfmolnxDalLbGsLoxxP70Zu2ZnjZNtGlorwTCXZ+UPY+NUuvUzVNFUYznN0ubwvabUdoslXs/gsatTDuvulJtKrArimI87+Hw8EZtyP2yIdq8NIOerRujSpUCKrArilI5XsPg0Z1aLr9xK22ecaVOUTl2RVEqz9Ub5h6A3AzTPgVJMQkV2BVFqRpLa5WCqaNUKkZRFKWBUYFdURSlgVGBXVEUpYFRgV1RFKWBUYFdURSlgVGBXVEUpYFRgV1RFKWBUYFdURSlgalWYBdCLBJCXBFCHL/xU/8fPaIoilLPmWLk6SdSyo9MUI6iKIpiAioVoyiK0sCYIrA/LYQ4KYRYIYRwLmslIcRjQohAIURgfHy8CTarKHWDOraVuqbCwC6E2C6ECCnlZzywFPAGegIxwOKyypFSLpdS+kkp/Zo1a2ayHVAUc1PHtlLXVJhjl1KONKYgIcRXwOZq10hRFEWplur2inEr9PI+IKR61VEURVGqq7q9Yj4QQvQEJHAJeLzaNVIURVGqpVqBXUr5sKkqoiiKopiG6u6oKIrSwAgpZe1vVIh4IKKMt5sCCbVYndrW0PcPzL+PbaWUZumeUs6xbe7vpDY09H2sC/tn1LFtlsBeHiFEoJTSz9z1qCkNff/g1tjHyroVvpOGvo/1af9UKkZRFKWBUYFdURSlgamLgX25uStQwxr6/sGtsY+VdSt8Jw19H+vN/tW5HLuiKIpSPXWxxa4oiqJUgwrsiqIoDYwK7IqiKA2MCuyKoigNjArsiqIoDYwK7IqiKA2MCuyKoigNjArsiqIoDYwK7IqiKA2MCuyKoigNjArsiqIoDYwK7IqiKA2MCuyKoigNjArsiqIoDYylOTbatGlT6enpaY5NK7eAoKCgBHM981Qd20pNMvbYNktg9/T0JDAw0BybVm4BQoiyHpRe49SxrdQkY49tlYpRFEVpYIwO7EKIFUKIq0KIkELLXIQQ24QQ5278dq6Zaiq17ULSBQ5GHSTkagixabEmK1dv0BOVHFViecT1COLT4022HUW5lVWmxf4tMKbYsleAHVJKH2DHjddKPXfkyhF8P/Nl4IqBdFvaDbfFbszYNIPEjMRql/3C3y/Qbkk79kfuL1gWmRxJr2W9mPP7HKPK2HVxF+/ue5eM3Ixq10dRGiKjc+xSyr1CCM9ii8cDw278vQrYDbxsgnopZqI36HnyjydpYd+Cr+/5mvScdI5EH+GTgE/449wfvDjgRa6kXOFI9BFcbF3Y9MAmGlk0MqrsS9cvsTRwKXqp58END3L88eM0sW7Cgxse5FrWNXZd3EWeIQ9LXfmH5Vv73uJMwhleHPiiKXZZURqc6ubYW0gpYwBu/G5e/Sop5vT10a8JjA7ko1EfMdZnLJO6TOKDOz7g6GNH8Xb25t87/s23J74F4M/zf/LmnjfLLOt47HGy8rIKXr+55010QsdvD/zG1fSrzNg0g9d2vcaBqANM6jyJ1JxUgqKDyq3fsZhj7Ly4k2f9nzX6hKIotxwppdE/gCcQUuj19WLvXyvns48BgUCgh4eHVOqe+PR46fyesxy6cqg0GAwl3s/T58mI6xFSb9BLKaWcuWmm1L2hk/9E/lNi3eMxxyWLkAO+HiDj0+Pl6fjTUveGTj7/1/NSSik/PfSpZBGSRcg5v86RcWlxkkXId/e9W24dp26YKhu/01hez7xe5jpAoKzEcV3dH3VsK7XF2GO7ui32OCGEG8CN31fLOYEsl1L6SSn9mjUzSxdjpQILdiwgJTuFz8d+jhCixPsWOgs8HD3QCe2wWTJmCW2atGH6L9NJy0krsu660HXohI6jMUcZtGIQz/z1DLaWtrwyWLsN81Tfp5jeYzr93Pux5M4lNLdvTpdmXdh1aVeZ9YtKjmJNyBoe7f0ojjaOJtzz6lHHtlLXVDew/wbMuPH3DODXapanmMmVlCusOLaCJ/s+SZfmXYz6TBPrJqy6dxXh18JZsGNBwXIpJetD1zPcczg7pu8gISOBrRe28lz/52hur2XrhBCsuncVAbMDsLOyA2C453D2R+4nR59T6vaWHFoy59Z8AAAgAElEQVQCwLP9n63OripKg1eZ7o6rgYNAByHEZSHEbOA94A4hxDngjhuvlXpoWdAyDNLAc/2fq9TnhnoOZU7vOSwLWlbQLTI0PpQziWeY2GkigzwG8c+sf3ih/wvMHzS/xOcLXxkMbzecjNwMjlw5UmK9a5nXWB60nMldJuPh6FHJvVOUW4vRgV1K+aCU0k1KaSWlbC2l/EZKmSilHCGl9LnxO6kmK6vUjOy8bJYFLWOsz1i8nL0q/fn5g+aTq8/l00OfArA+dD0CwX2d7gOgY9OOLB69mCbWTcotZ2jboQhEkXRMbFosr+18jfaftic9N52XBr5U6fopyq1GjTxV2BC2gavpV3m639NV+nx7l/ZM6DSBLwK/IDU7lQ1hGxjsMZiWDi0rVY6rnSvdW3Rn58WdAGw5uwWvJV68ve9thrQdwv5H9tPbrXeV6qgotxIV2BU+P/I57V3aM8p7VJXLmDdwHtezrvPy9pcJvhrMxE4Tq1TOcM/hHIg6wIbQDUxYO4HOzTpz+unT/DLlFwa0GVDl+inKrUQF9lvc0ZijHIg6wFN9nyro7VIV/q39GdJ2CEsDlwIwodOEKpUzvN1wsvXZ3L/ufrq36M62h7fh6+pb5Xopyq1IBfY64GjMUQIuB9TqNhMyEvj66NfM+nUWdlZ2zOw5s9plzhs4DwB/d3/aOLapUhlD2g7BxtIGv1Z+bJ22FWdbNf2QolSWWabtVYqaunEqZxLO8O6Id5k/aH6pfchNaeWxlTz6+6PopR5vZ2+WjluKk41Ttcsd6zOWh7o9xH0d76tyGU42ToTMDcGtsVtBN0hFUSpHBXYzi0+P53TCadwbu/PKjlc4FnuMb+75BvtG9jWyvey8bBbsXECfVn34ctyX9GzZ02QnEp3Q8eOEH6tdjreLtwlqoyi3LhXYzexA1AEA1ty/hv2R+1mwYwHxGfH8OfXPKs2FojfouXv13TjaOPJIz0cY0W4EFjqLgve/P/k9sWmxfHfvd/Ry62Wy/VAUpe5Qgd3M9kfux9rCmr6t+jLYYzCtGrdixqYZzNw0kx8m/FDpG5pHoo/w53ntpLAmZA1tmrThp4k/MdhjMHqDng8PfEivlr0Y6TWyhvZIURRzUzdPzWx/1H76uvfF2tIagOk9pvPuiHdZHbKa+dtKjtSsyB/n/kAndFx69hJr71+LjaUN434aR1B0EL+e+ZWziWd5edDLNZ7HVxTFfFSL3YwycjMIig7ihQEvFFn+8qCXuZJyhcUHF9O/dX/u73y/0WVuObeFAa0H4NbYjUldJjGgzQAGrxjM6B9G08KhBV7OXkzsXLU+5oqi1A+qxW5GR64cIdeQy2CPwUWWCyH435j/0d6lPf8L+J/R5cWkxnA05ijjfMYVLGvdpDU7pu+gkUUjQuNDeWnASxU+yEJRlPpNBXYzyn883MA2A0u8Z6Gz4Ik+T/BP1D8ExwUXLL+ScoU1IWvy5wEv4q/zfwFat8PCvF282TF9BwsGL+CRXo+YchcURamDVGA3o/1R++nSrAsuti6lvj+z50ysLawLRnPqDXomrp3IgxseZH3o+hLrbzm3hVaNW9G9RfcS73Vq1om3R7yNjaWNaXdCUZQ6RwV2M9Eb9ByIOlAiDVOYq50rD3R9gO9Pfk9qdipLDi3h0JVDNLdvztN/Pk1S5s3JNHP1uWy9sJWx7ceqG6OKcotTgd1MQq6GkJKdUm5gB5jrN5e0nDQW7V7Ef3b+h7t97+bvaX+TmJHIS1tvTmH7T9Q/pOakMs53XDmlKYpyK1CB3Uzy8+sVBfZ+7v3o7dabjwM+xsrCiqXjltKzZU/mDZzHyuMr2Ri2kYvXLrL21FqsdFaMaDeiNqqvKEodpgK7GRikgZXHV9LOqR1tHduWu64Qgqf6PgXA4lGLcW/iDsDrQ1/Hx8WHiWsn4vV/XiwNXMpQz6E0tm5c4/VXFKX6pJQYDIaC1xERERw9erTUjhGVpfq9mcGq46sIignih/t+MCofPrPnTDo364y/u3/BMlsrW3bP3M1f5//CQlhgobNgSNshNVltRVFMKCYmhhMnTtCzZ0/c3Nxwdnbm6NGjeHh40LRp02qVrQJ7LUvJTuHfO/7NgNYDeKjbQ0Z9Rid09G/dv8TyVo1bMavXLFNXUVGUWnDhwgVSU1NJTU3Fzc2NJk2aMGbMGGxtbatdtkkCuxDiEpAK6IE8KaWfKcptiN7e+zZx6XH8/uDvqveKotxi9Ho9OTk52NraMnDgQC5duoSnp2fB+6YI6mDaFvtwKWWCCctrMKSUnEs6xz+R//BJwCfM7DmTvu59zV0tRVFq2YULFwgODqZ79+74+Pjg7V0zU1SrVIwJ/RzyM9vDtxOTFkNcehyp2alk5mVyPes6KdkpALRp0oZ3bn/HzDVVFMUcUlJS0Ov12NvXzPMW8pkqsEtgqxBCAsuklMtNVG69kZGbwcxftZGink6etHRoiZezF7aWtjRu1JgeLXvg7+5P52adi8yPrijKrcPPzw8fHx+aNGlSo9sxVWAfJKWMFkI0B7YJIU5LKfcWXkEI8RjwGICHh4eJNlt37AjfQVZeFr8/+Lua6/wW09CPbcW0HB0da3wbJunHLqWMvvH7KvAL0K+UdZZLKf2klH7NmjUzxWbrlM1nN+PQyEF1ObwFNfRjW6mevLw8Dh06RGpqaq1ts9qBXQhhL4RonP83MAoIqW659YmUks3nNjPae3SVHmenKErDFRYWRkREBAEBASYZfGQMU7TYWwD7hRAngMPAFinlXyYot944Hnuc6NRo7vK9y9xVURQAsrNjOHZsKNnZseauyi2vQ4cOtG3bFj8/v1rr4lztwC6lDJdS9rjx00VK+bYpKlafbD67GYHgzvZ3mrsqyi2mcAAv/PelS/8lOXk/ERH/NXcVb3mNGjXC398fZ2fnWtum6u5oApvPbaafez9aOLQwd1WUW0zhAC6lJDl5P+HhrxAf/zNgIDZ2JW3bvoa1dUtzV1WpRWoSsGqKS4vj8JXDKg2j1Lrs7Bji4lYCBmJiVhAbq/0dF/cDUmqTS0mpV612M7l27Rp79uzh4sWLtb5tFdir6Y9zfwCowK7UukuX/lsogOcgZc6Nd/QFf0uZQ2zsSpVrr2FJSUkcPHiQiIiIgmXR0dHExcWRmJhY6/VRgb2aNoRtwL2xOz1a9DB3VapNSllrd+2V6slvrd8M5oYbPyWpVnvNi4+PJyoqivj4+IJl7du3x9/fHy8vr1qvjwrs1XDq6im2nNvC7F6z6/2EXnq9nh49evD888+buyqKEQq31isiZQ7JyQdquEa3Nnd3d/z8/NDr9ezYsYOcnBysra1p27YtLi6lP9O4JqnAXg3v/fMe9lb2POP/jLmrUm0bN24kODiYDRs2qFZ7PZCScrBQa7109vY9GTZMMmBANJaWTVQ6pgY5ODjg5eVFVlYWiYmJRVIy5qB6xVRR+LVwVgev5rn+z+Fq52ru6lSLlJIPP/yQ9u3bc/r06Xp/9XEr6Nv3mNHr5vecCQ9/haysi3Tu/LPqJVNDOnfuTLt27UhOTiYkJAQvLy/s7OxqvR4NosW+ceNGMjIyanWbH/7zIRY6C14Y8EKtbrcm7Nu3jyNHjvDiiy9iYWHBgQMHuHTpUqnrGgwG9Hp97VZQqbLCPWfi4n4gOXlfvci318YAK1NtIzU1lTNnzpCUlESzZs1o3bo1Fy5cIDQ0lLy8PBPVtnLqfWAPDAxk4sSJLF++HCkls2bNIiSkZmc0iEmNYcXxFTzS8xFaNW5Vo9uqDZGRkfj6+jJjxgySkpIYMWIEixYtKrHe6dOnad26NVu2bKn9St7iqhqEiubi9YAkNnYlqakn6vTI1NoYYGWqbcTFxXHixAnOnTtXsMzf359OnTrRuLF5nkFc7wP7hx9+iKOjI7NmzeLy5cv8/vvvPPXUUzW6zTf2vEGeIY/5g+bX6HZqy7Rp0wgLC8PW1hYXFxfmzp3L999/X+RAvXLlCllZWaSnp/P777+bsba3pqoEoZI9ZzRS6gkLm1pheaZsNVemrMJXGTXVVbO8bVR2vx0dHfH29sbNzQ0AnU6Hm5sb3bp1M1tas14H9gsXLrB+/Xrmzp1LkyZNaNOmDa+88gp79+7l+PHjNbLNnRd3sixoGc/5P4eXc+13YzIlKSWbNm1CSolOd/NQePnll7G1teX5558vuJH6v//9j759++Ln58fmzZuLPF1dqVlVDXRl9ZyRMoeMjFMVlmfKVnNlyiraP/9mV01TnmiKbyM8/JUqT8fQrFkz+vTpU+GUzbU5f0+9DuyLFy/G0tKSZ5652Stl9uzZ2Nvbs2TJEpNvLzU7lVm/zsLX1Ze3bn/L5OXXtvfff5/77ruPjRs3FlneokUL3njjDbZs2cLGjRvJyspi5cqVjB8/npkzZxIbG8vRo0eN3s5vv/1Gu3bteOihh/j5559JTk429a40aGUFuooY03OmeFDLV9bJJCQkhD/++IPs7Gyj61+ZE1Pxq4zCA6xMdaIpbRv59x/Cw1+psauF2py/p94GdoPBwOnTp5k+fXrBJRCAk5MTM2bM4KeffiIuLs6k23x5+8tEJkey4p4V2FqZ5qGz5vLLL7/w73//mwceeIAJEyaUeP/ZZ5/ltttuIy0tjQ0bNpCYmMgTTzzBnXfeiU6nMzodk5mZyZNPPomlpSXbt2/ngQcewMvLi7CwMFPvUoNUXqCrSN++xxg2TGJv37PMdQoHtcIBp7STSVJSEmfPnsHC4iAGg/GjKStzYirtKsNgyCMwsEfBlAmVDbjFW8qlX8lo9x+KT8dQ2kmvsKysLOLj48nNza2wDjWdXiqs3gZ2nU7Hjh07+PTTT0u898wzzzB79myTpQsyczN5a+9bLA1cyvP9n2eQxyCTlGsuJ06cYNq0afj7+7NixYpS84CWlpbs2bOHGTNm8OWXX9K+fXtuv/12mjZtyrvvvssdd9xh1LZsbW3Zvn07hw8fJiYmhj179jBgwIAafzRYQ1FWoAsK6m10cMgP8MOGSdzc5iJE8WcG3Lypmj9LZGknE4PhOtbWieTmXiIqyrhJXCt7Yir9KiOX3Nyrhcqo3Ejawi1lrT7flXMloy+1JV/W9mJjY9m1axeHDx+usA61OX9PvQ3sUkqEENjY2JR4r0OHDnzxxRc0bdqUrKysag24WROyhg6fdeC1Xa8xsdPEBpGCWbhwIXZ2dmzatAlb27KvPIQQpKWlER0dzezZswvy8PPnz2fw4MFlfi4xMZEFCxawcOFCpJR07NgRZ2dnLCwsGDJkCJs3b8bd3R29Xk96ejpffvklvr6+atRrKZKT95Ya6HJyYqoUHMpLz+QHnNJOJlLqiY9/EweHZ7G3X01MzEoyMqJLLaf49MGllVVW3QufhPIHVwlhfePdm/PiGNvqLd5SDg//NwZDJq1aPVlQvk5XMobcVPSkV5xOp8PZ2RlX17LHslTnqquq6m1g79q1K6+++mq566xbtw5bW1t0Oh1Nmzblxx9/rNQ2tl3YxoMbHqSZfTN2z9jN+snr630KBuCpp55iyZIltGxp3CCVmTNnFulpJKUkMDCQI0eOlFj3gw8+oF27drz33nucPXuWtLS0UsvMzc1l/PjxNG/enLlz5xIfH8+qVatqfTxCXefoOATQlRqIqhIcCgfO4kFNyhxiYlYQF7eqIAjl5rYlI+Mu9HorEhM3AwZycnqRkPA+hw59W2qaonALubQTSWWmONBODCXTHMa2egufWAyGPOLifqBwOsTYqRnK2p6Hhwd33HEHHTt2NKoOla1/VdXLwJ6WlkZoaGiFI7p69OjBu+++y8KFC+nQoQPTpk1j7jNzORpt3I2/d/a/g3tjdw7MOsBQz6GmqHqdcMcdd/DQQw8Zta6DgwOvvfZaif64U6ZMYeHChUWWrVq1ipdffpmhQ4dy8uRJVq9eXWY/XisrK/r168eQIUPYtm0bp0+f5vz582YZpVfXXL9+nezs7FLzsqa8pC894ORgMGQUnEi8vHaQlvYw9vZ/kJcnkTIHITLR61tw/XpeiTRF8Tp37/5nkRZ4ZaY4KFxWcVqrd1WJB4wU/7tod89ctBb4ze+urCsYW9suJU56xU+kxmYCqntyq4p6OaVAaGgoAF26dCl3vS5duhSs8+qrrzJ//nx2WO3gm2++Ie6lOJxty36iScDlAHZf2s3iUYuxtrQuc736JH/qgAkTJtC+ffsqlyOE4IEHHuCdd97hnXfeYcGCBWRlZfHqq68ybNgwNm3ahIWFRYXlvP7666XWMX8btyKDwcDFixdJSUmhZcufS9zIi4//ucQlfVUfpFF6UNO2l1+uk5MTPj6tiYv7CmtrEAKsrMJwclqEldVp8tMUbm6Pcf78M9jYtCtx4vH1/bzIFgq36Au/l50dQ2joAwVTHpR24hGiEW5uc5BSEhOzrMgDRkr7u6zWeP535+8fXup3d+bMk8TGniv2mZv7c+3aNU6cOEH//v0L0sHF65+vMtM/mEq9bLHnB/bOnTsb/RkrKyveev8tIl0iyTXksjV0a7ln3Pf/eR97nT0/PP9Dkak467PDhw/z8ssvs2vXrmqX9cYbbzBt2jReffVVFixYgLW1Nfv27eOnn34yKqiX5sqVK/Tr14/169dXu371lcFg4MqVKyQmJnDlypYSN/JMeUlfPJ+df2M1J6cD6enDCA9/G1dXV+zsfsDG5luESAJACAONGoUhhCyogzbgad+NOpadSy7eoi88ArZ4d8CyWrrXru0p9QEjhf+OjV1Zxv0J47678lrZUkqOHTvG1atXOX36dMH7xW/SmnNkb71ssZ86dQpra+tKz3O8JmQNydlaH+o5C+dw1v8sr732Won1QuND2XR6E53jOxMbGUtOTvl9geuLlStXYmtry5QpU6pdlqWlJatWrcLOzo7Vq1fz6KOP0q5du2qV2bJlSxISEvj000+ZNGlStetYH1laWuLh4UFS0t8YDJnF3tUjZdF5ekx1SV84bZGRcS85Ob25eHEtrVufuBFEQaezxd8/HJAcOuSFwZBFdnZPDAYnpNxdUMei9Svaai+eSgoLm0pGRlipj/Mrq6VbuDVdOPgW/VuPk9NQ+vXTphc5cqQX6elFBy2W990V33bh1rgQgoEDBxIWFka3bt2KfH/59dfr00u9KqktJmmxCyHGCCHOCCHOCyFeMUWZ5enduzdPP/00lpaVOy8tDVxKl2Zd6NysM46dHXn99ddLDM4B+OCfD7CzsuPyhsvExMTQoUOHCvup1nUZGRmsXr2a+++/32RdDXU6HV9++SVPPPEEkZGR1S7PwsKCp556in379hEUFGSCGtYfer2egwcPkpCQQPfu3bG3/wmdruSVYv5UvIV/THGpXzjg2tjswcrqFLa2uwgLm1oitZK/blraVFJSniUzc3SZ5RbPhRfvHZI/AtbYx/mV/4CRm38Xv1oofnVS2e/u4sX/cvVqakG9bGxs6NWrV8HVaXk3ac0xL0+1A7sQwgL4HLgT6Aw8KIQwPkdSBQ8++CAfffRRpT5z5MoRgmKCeMLvCfzd/clumo1/f39mzpxZ5JmEa0+t5fuT3zOu5ThSYlOYPHky6enplRppWRdt2rSJlJQUHnnkEZOWK4QouGFqCrNnz8bJyYkhQ4bw9tvG9ZWuD/K7dpblwoULREVFERQURFaWdnNxwICYGgnipSmcerCxCcDZ+U2ESCIjI7REaiU/xdGoURC2tn9jY7OzSFk6nW1B3d3c5mIwZJbZjfIm4x7nV5kHjFS2v39ZsrNjOHfOQHLyK4SHXyhRXkU3aY2Zl8fUTNFi7wecl1KGS23P1gDjTVBuqXJzc7l27VqlP/dl4JfYWdnxcPeH8Xf3JyEzgQ+/+hAhBNOnT0ev1/Pbmd+YunEqA9sMpO2FtlhYWPDmm28CsHfvXlPvSq26cuUKHTp0MFkArinOzs4EBQUxbtw4k48cNperV6/y22+/ERgYWOY67dq1o1OnTvTo0YOIiLe4fv0Qx49/SXh4eK3UsW/fYwwYkMXQoYZiOXerIuvlpziGDZOMGhWGj48z9vZ7MBjsSE+/m9TUGQUt7uLpiYpy3sW3U1ogNGaahJuq3t+/sEuX/oul5UWEyEKI5BKjUcs72ZQ1L09N5+BNEdjdgahCry/fWFaEEOIxIUSgECKwOjcjjx8/jouLC5s3by5YFhofSvi10v8DGKSBwOhAVoesZmq3qTjaONLPvZ9WUXmZzz//HBcXF34P/Z1J6ybRq2Uvtjy0hf69+zNv3jw6dOiAr69vvQ/s8+bN49SpU0Um+6qrvLy8WLt2LZ988gkAly5dMtu81sao6Nh2dHREr9eTm5tb5lz2VlZWdOvWDWdnSVzcSvLyWhMR0Zng4BNFRlAXv+F/8eJFk8y9k5aWxrZt2wgODi7YhjHd9G6uY0F6+gNkZo5Gr7cmOflAiXx6/gmh7BGwZW8nX1kpldK6VFanv3++/JOTre1WXF2fwdo6oMho1IpHshbep5snq5qeN8YUN09L65dWoruJlHI5sBzAz8+vxPt6g57HNz/ObR63MaPnjDI3durUKQB8fX2RUvJJwCe8vP1l2jm14/TTp9EJLXDl6HN48e8XWRe6jrj0OGwsbfhXv38B0K1FN2wtbTl85TAfT/2YiVMm4rnEkw6uHfhr2l80sW7CxIkTmThxIgBDhgxh3bp16PX6Kvf4MKf09HTs7e3rXd0tLCy4cOEC3bp1Y9GiRcyfXzenSa7o2La2tmbs2LFG9dHPD4aWlhewtj5E06auSHlPwfthYWHEx8fTvXt3rK2tCQoKQgjBqFGjqjX3d0pKCpmZmcTHx6PX67G0tDQq7VN4nbCwMBo3boyb2zXy8q5y6JBXmV0zy2p529v3NPk9g7K6XVYkKyuLixffKihHp8s/gWon5/ybpPkjWX19Py/1Jm2+/O/Aze2xIlcyVe2uWh5TBPbLQJtCr1sDpY81LkeeIY+I5AhW/rYSG0sbpnQtvedGaGgojRo1wqWVCxPWTmDT6U10a96N4KvBbDm7hbs73A3At8e/5bMjnzGh0wTu8b2H0e1H09JB+/IsdZb0adWHQ1cOIYTg+5PfczX9Ki47XQjpEoKbmxsODg4Fk4s99thjjBkzBoPBUO+CI8CoUaPw9PSs9MjbusDb25sxY8awcOFC7r33Xnx9fc1dpSopK6jr9XoOHDhAy5YtadPGviBXKwQ4On6MXm9LXt4sLCxaYjAYCA8PJyMjg9zcXOzs7HBzc8PJyQl7e/syt20wGCq8UmvVqhW33XYbrq6ule6UkK9Tp04Ff58/X/ZoS1/fz2u0b3dZQ/grG0BPnDhBZGR/mjQ5jLV1yTRa8ZukxXvyaL13vinRW6e0G9Km7jljiuvyI4CPEKKd0K6tHgB+q2wh1pbWPOXyFO56d6ZunMqm05tIzkpm7am1zN82n/h07RL31KlTdOjYgSkbp7D57GY+Gf0JQY8F0bpJaz4J0C7dc/Q5vLPvHfzd/Vk/aT0zes4oCOr5/N39ORpzlKy8LBYfXExXl64Ywg2MHDmScePG0bdv34JL0r59+zJx4kSsrIrmG6vLVA+NfuONN/D09GTy5MklUhYXL17kwIEDdO3a1STbMofPP/8ca2trZs2aVeRGd31RdDRkdpFpE65evUpMTAzh4eFERLxVZjBMSUlBCMEdd9xBnz59aN68OdbW1gwcOJAuXbqUGrj1ej1bt25l/fr1pX5vUsoix0vLli1NdoybY7RlPlMN4c/MzERKawYM2FHGvDIlR7IWVtZ3UNoNaVPn2qvdYpdS5gkhngb+BiyAFVLKU1Up60TgCaLei6L7R92ZtE7rx5xn0A68gMsBbJ++ndDQUJzudGLnxZ18dfdXzOk9B4Cn+z7NKzte4XjscY5cOUJEcgRLxy0tcwRjP/d+ZOuzeXvv25xNPMvqiasZ8/AYpkyZwtatW5k1a1aRz548eZKLFy8yfnz17wtLKXnsscc4duwYhw4dqvZVQFRUFG3atGHdunXY2dmxYsWKgv/oq1evBjB6CoG6yM3NjU8//ZTp06fj7e3N1atXadq0qbmrZbT8fOrRo8u5fLkTXl5e9OnTBwBXV1f69euHhYUFsbGvlBoIoqMTCA7eho+PD927d8fb27vg/cLHaGZmJufOnaN79+6AlsrKzc3Fycmp1EmqIiMjCQ4Opl+/fjRv3twk+5qamkp4eDguLuvp29e74g/UAFOdVIYNG0ZGRkbBRHkV3SQtflVQ2lVJWa14U7fahalajZXh5+cnS+shkJSURNu2bRk9fjS2E21xb+zOXb53cfHaRaZvms7sXrNpE92Gt6++zZ2+d7JpyqaCA/ta5jVaf9Kaezvey4GoAzS3b07A7IAyA3vE9Qg8l3hiISxo49iGc/86h6XOkry8PFauXMmYMWNo0+ZmhmnGjBn8+eefxMXFVXu4+8mTJ+nbty85OTn88ssv3HvvvZUuIyUlhb179zJmzBgsLCwQQvDmm2+ycOFCnnvuOT7++GPy8vJo3749Hh4e7Nu3r1p1rgsuXLhAQEAAU6dOLXc9IUSQlNKvlqpVRPFjOzs7pmAwj17vQ2LiW3h4eNC/f3+jy4yLi2Pv3r14enri5+dX6vGXnp7O3r17SU1N5a677ipI/aSnp2NjY1Oi8SClZO/evcTFxeHn51fpwX5luXz5MgcOHMDZ2ZmRI0c2qKkhysufw83pDsoL0GWVYey9BaOPbW0+hdr96dOnjyzLvHnzpE6nk+fOnZNSSvntt99KGxsb6f2ot2QR0vV9V9n8w+YyLi2uxGef3PykZBGSRcg/zv5R5jaklNJgMMgWH7aQLEIuCVhS7rpSSvnNN99IQB4+fLjCdY1x6tQp6eHhIW+//fYqfX7p0qUl6mMwGOSzzz4r58yZI/V6vTxy5IgE5NKlS01S5/oCCJRmOK5lKcf26dNz5e7djeSuXcjdu7g1mwQAAA0sSURBVBvJU6eerdI+Xbt2TRoMhjLfz8vLk4cPH5aHDh2SqampRpWp1+vlpUuXyi23svR6vTx8+LBMSkoyWZnmkJubW+77hw/3lLt2UeLn8OGeNVovY4/tOnHwFxYTEyOtra3l7Nmz5bJlyyQg+/TpI1u5t5IWUy0ki5CbwjaV+tkzCWcki5D9vupn1ME64ecJ0vk9Z5maXfF/hOvXr0sHBwf58MMPV7huWcLCwuTq1asLXr/33nsSkMHBwZUuq0+fPrJ79+4l9lOv1xcsu379uvzhhx9kdnZ2letcH9WVwJ6VFS337LEp8h9/zx5bmZUVI6WUcu/evXLnzp0yPT295r4MqZ3wL1++LA8ePCjz8vJqdFulSUhIkHq9vta2ZzAYqnWySk9Pl+vWrZP79u0z6UnPFIw9tutcp+aWLVvyn//8B39/fzp06MCUKVPYv38/EZciWDtpLfMc5nFPh3tK/ayvqy+rJ65m5fiVRl0CfnbnZ/wz6x8cGjlUuK6joyOzZs1izZo1xMTEVHq/AL7++mtmzJhBamoqAHPmzOH999/H3V3r9p+Tk8Mnn3zCiRMnyi3n2LFjBAUFMWfOnBL7qdPpCpY5OjoydepUGjUqu7+wUnPKe/pRRsYV4uPjiY+Pr9TzQ6tCCMGpU6eIjIzk0qVLhISE1Nq4gNDQUHbs2FFksixTS0tLIysrq8g2AwICyhwzUJGkpCSt1Uv9nWW0TuXY67rz58/Ts2dPfvrpJ+65p/STS3m6d+9O8+bN2b59e4n3oqKimDx5MgEBAfTs2ZNjx8rOtz311FN88803xMTE4Oxc9tTDt6q6kmMvLyfbqtWTNGnyGrm5uUXu5dSUyMhIMjIySEhIIDo6utJ5/qrKvz/QpUuXSs3GaiyDwcAff/yBm5sbffr0ITMzkz///BO9Xs/QoUOrfFM4Ozub3NxcHBwqbvTVJmOP7Xo5u6O5tG/fntjY2Cr9Y0dHRxMcHMz7779fZLmUkvfee48FCxbQuHFjnnzySf71r3+VWY6UkgMHDnD//feroF7HlTZDYP6N1Js9KNoUvFfaXN6m4uHhAWiPLczKyqqRIFuaFi1aMG7cuBp7gEpqaiqZmZlERkbSu3dvbG1tGT58ONevX69WTx9ra2usrevvcxhUYK8kBwcHpJRcu3YNFxeXguHeFQ0A2bZtGwCjRxedCU8IwYEDB+jVqxdr1qypcACOEIKgoCBSUlKqsReKOZQ3GrKsh0+YmqurKyNGjKjVFENNPhXL0dGRe++9l4yMjIJ9cnZ2rlKjJycnh7CwMLp27VovByIWVudy7PXBI488gpeXF23atMHa2rrgvkB5AgICaNGiRcH8zYX9+uuvHD16tCConz9/nsmTJxMVFVVi3ZycHHQ6HU5OTqbZGaVWlDYaMiZmBUFBA0hNPVHiEXg1yRx54+zsbKKioko9pqvLysoKR0fHUt9LSEjg3Llzpb5X3IEDBzhz5gwnT540ZfXMQgX2KnjooYcYNGgQI0eOZN68eYwYMaLC+dq/+OILjh07VmrLvvgyS0tLNmzYwOefF225HT58mNatWxMQEFD9nVBqVVnPF01NDSh1iHlDk5qaysGDBwkLC6u1bWZkZLBr1y5OnDhh1EPSe/Togaura61PW1ETMz2qVEwVjBo1ilGjRpVYnpaWxs8//8ykSZNKPMxCCFEw90xFPD09mTBhAsuXL+e11177//buNjSq9Arg+P+Q6c5MFMkmTYNJ1I1VjEJ0CyJCSJDgQrs23RZFWuoi2GjBLqgV7G7ph34QaWtt+0VKbCwsWExLW3ARoWbXFRRlrX3xPWoIFVclTsybo4Ex9vTD3EyT3bxN7p25M3fOD8LMvZm5Oc/MyZk7z733eVLjgBw+fJjh4eGs9Y8a70w1v2hyWNckt/OY5qqSkhLmz59PaWmpZ9sc/bCorKyccMiM4uJiampqCIfDM+paefXVV2lqasr6N5qx3XCLFv3Ek2MttsfuoRs3btDS0kJ7e/u49a2trWzbti2t0692795Nf38/+/btQ1WJxWK0t7ezdetWz2ZAMtkz2fyiEwniXnsoFKKhoWHaCejT0dvby8DAwJTDFq9evZq6ujrC4TBdXV2cP3+ec+fOjftfjMfjqfvZLuqfHbO+u/s9T4bztT12D61Zs4a6ujra2trYsWNHav3x48cZHBxM64BMfX09e/fu5dChQ6xdu5YHDx6QSCTYuXNnJkI3WfT5GXfGy9ZgWfluwYIFaQ1H/eTJEwYHB2lsbEw9p7+/n46ODqqqqqivr89kuBOaako9N9/arLB7SERoaWlh165dXLlyhVWrVhGPx7lw4QJ79uxJe3sHDx5k2bJlbNq0idraWpqamqwbJgAm6m+fyTgj+U5VefbsGYlEwpMumVAolNYpjYsXL6aysnLcBXtDQ0OEQqGMnrkzmYmn1EtyOzCYdcV4bMuWLYTDYdra2nj69CmbN2/mxYsXs7qgSUTYvn07kUiEY8eOceDAgQxEbLLNzyFt/dTX18epU6e4dOmSL3+/vLw8dSYbQCwWo7q6mubm5nFjyWfLTEaLnO0BVdtj91hpaSkbN27kzp077N+/n9OnT9Pa2urqa56I0NDQ4GGUxk+ZnGQil5WUlBCNRpkzZw6q6qo/u6enJzVcdUVFRdrPv3r1Kp2dndTV1bF8+XLP51qYienmb3Wz126FPQOOHj1KJBLh+fPnbNiwgcbGRr9DMsZ3RUVFNDc3e7Kthw8f0t3dTSQSmVVhr6io4O7du77OATz2A36i4SfcfIuzwp4BkUhylpXi4mIr6sZkQE1NDdFodFZFHf4/1MHo/6rfvP4WZ4XdGJNVqkoikXA1FktJSYnrq69zpahngh08NcZkTTwe58SJE5w5cwaAgYEBHj9+7HNUwWOF3RiTNdFolJGRERKJROr27NmzU15k9FmdnZ10d3dPO4xHIXPVFSMiPwW2AzFn1Y9V9ZTboIwxwVRUVJTq2xYR+vr6gORcqZMN5DXWy5cvuXnzJiMjI1RUVPhyNks+8KKP/deq+ksPtmOMKQDRaDR1f+HChZSVlVFeXj6j56oqK1euZGhoKDWGkvk8O3hqjPFNcXFxWld9hkIhlixZksGIgsGLPvZ3ROSqiPxeRGxKH2PMrAwPDzM8PJxa7u3t5eLFi3R0dGRtjtagmLawi8iHInJ9gp+3gN8CXwZeBx4Bh6bYzg4RuSwil2Ox2GQPMybvWG67d+/ePU6ePMn169dT64aGhrh//z4rVqwgFAoRj8e5fft2ajJ4M7lpu2JUdf1MNiQivwNOTrGdI8ARSE74O9MAjcl1ltvujU5lN3Y+4aqqKhKJROp89Z6eHq5du0Z/f39WJuLOZ27Pipmvqo+cxW8B16d6vDHGTGTevHmsX79+3Pgx4XCY2tra1HJZWRkiQnV1tR8h5hW3B09/ISKvAwr8B/i+64iMMQVpugmo586dy7p16zydhSmoXBV2VX3bq0CMMWYqoVCIsrIyv8PIC3blqTHGBIwVdmOMCRhRzf5BfBGJAfcm+fUXgd4shpNtQW8f+N/GRao6s0sZPTZFbvv9mmRD0NuYC+2bUW77UtinIiKXVXW133FkStDbB4XRxnQVwmsS9DbmU/usK8YYYwLGCrsxxgRMLhb2I34HkGFBbx8URhvTVQivSdDbmDfty7k+dmOMMe7k4h67McYYF3KmsIvIV0Xktoh0ici7fsfjBRFZICIfi8gtEbkhIruc9aUi0iEid53bvB7uWESKRORfInLSWa4RkU+c9v1RRF7xO0Y/BS23CyWvIX9zOycKu4gUAYeBrwErgO+IyAp/o/LECLBXVZcDa4EfOO16F/hIVZcCHznL+WwXcGvM8s9Jzqy1FOgHvudLVDkgoLldKHkNeZrbOVHYgTVAl6p2q2oCaAfe8jkm11T1kar+07n/lGSCVJFs2/vOw94HvulPhO6JSDWwAWhzlgVoAv7sPCSv2+eBwOV2IeQ15Hdu50phrwLuj1n+1FkXGCLyGvAV4BOgYnS4Y+f2S/5F5tpvgH3Af53lMmBAVUenvAnce5mmQOd2gPMa8ji3c6WwywTrAnO6jojMBf4C7FbVIb/j8YqIfB14rKr/GLt6gocG5r2chcC+HkHNa8j/3M6Vyaw/BRaMWa4GHvoUi6dE5Askk/8PqvpXZ3XP6CQlIjIfeOxfhK7UA98QkTeBCDCP5F5OiYiEnD2bwLyXsxTI3A54XkOe53au7LH/HVjqHHF+Bfg28IHPMbnm9MkdBW6p6q/G/OoDYKtzfytwItuxeUFV31PValV9jeR7dkZVvwt8DGxyHpa37fNI4HI76HkN+Z/bOVHYnU+/d4C/kTwQ8ydVveFvVJ6oB94GmkTk387Pm8DPgDdE5C7whrMcJD8CfigiXST7JY/6HI9vAprbhZrXkCe5bVeeGmNMwOTEHrsxxhjvWGE3xpiAscJujDEBY4XdGGMCxgq7McYEjBV2Y4wJGCvsxhgTMFbYjTEmYP4HrVg79R4aO7wAAAAASUVORK5CYII=\n",
      "text/plain": [
       "<Figure size 432x288 with 4 Axes>"
      ]
     },
     "execution_count": 28,
     "metadata": {},
     "output_type": "execute_result"
    }
   ],
   "source": [
    "this_axis = axes[1,1]   # change to another axis\n",
    "\n",
    "_ = this_axis.plot(randn(50).cumsum(), 'y^')\n",
    "_ = this_axis.plot(randn(50).cumsum(), \n",
    "    color='darkgray', \n",
    "    label='LINE ONE', \n",
    "    linewidth=2,\n",
    "    linestyle=':', \n",
    "    )\n",
    "\n",
    "fig"
   ]
  },
  {
   "cell_type": "code",
   "execution_count": 29,
   "metadata": {},
   "outputs": [],
   "source": [
    "#this_axis.plot?\n",
    "#plt.Line2D?"
   ]
  },
  {
   "cell_type": "markdown",
   "metadata": {},
   "source": [
    "One can adjust style parameters for the figure object (and everything it contains, all subplots). \n",
    "It is particularly useful to adjust spacing around subplots, with the *subplots_adjust()* method in the figure object (this is also available directly from matplotlib, see the book.)"
   ]
  },
  {
   "cell_type": "code",
   "execution_count": 30,
   "metadata": {},
   "outputs": [
    {
     "data": {
      "image/png": "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\n",
      "text/plain": [
       "<Figure size 432x288 with 4 Axes>"
      ]
     },
     "execution_count": 30,
     "metadata": {},
     "output_type": "execute_result"
    }
   ],
=======
   "cell_type": "code",
   "execution_count": 2,
   "metadata": {},
   "outputs": [],
>>>>>>> 014dcaf825f59edc4e2c7a2a97b1d3783c891293:Lecture Notes/LN 22 index error copy.ipynb
   "source": [
    "from matplotlib import pyplot as plt\n",
    "%matplotlib inline"
   ]
  },
  {
   "cell_type": "markdown",
   "metadata": {},
   "source": [
    "### Exercise with real data"
   ]
  },
  {
   "cell_type": "code",
<<<<<<< HEAD:Lecture Notes/LN 22 2018-11-01 Pandas.ipynb
   "execution_count": 31,
=======
   "execution_count": 3,
>>>>>>> 014dcaf825f59edc4e2c7a2a97b1d3783c891293:Lecture Notes/LN 22 index error copy.ipynb
   "metadata": {
    "scrolled": true
   },
   "outputs": [
    {
     "name": "stderr",
     "output_type": "stream",
     "text": [
      "'head' is not recognized as an internal or external command,\n",
      "operable program or batch file.\n"
     ]
    }
   ],
   "source": [
    "!head microbiome_data.txt"
   ]
  },
  {
   "cell_type": "code",
<<<<<<< HEAD:Lecture Notes/LN 22 2018-11-01 Pandas.ipynb
   "execution_count": 32,
=======
   "execution_count": 4,
>>>>>>> 014dcaf825f59edc4e2c7a2a97b1d3783c891293:Lecture Notes/LN 22 index error copy.ipynb
   "metadata": {
    "scrolled": true
   },
   "outputs": [],
   "source": [
    "x=pd.read_csv('microbiome_data.txt', \n",
    "              comment='#', \n",
    "              sep='\\t', \n",
    "              header=0,\n",
    "              index_col=0\n",
    "             )\n",
    "\n",
    "# make useful sub-dataframes\n",
    "x_abundances = x.iloc[:,:-3]\n",
    "x_diversity = x.iloc[:,-3:]"
   ]
  },
  {
   "cell_type": "code",
   "execution_count": 5,
   "metadata": {},
   "outputs": [
    {
     "data": {
      "text/html": [
       "<div>\n",
       "<style scoped>\n",
       "    .dataframe tbody tr th:only-of-type {\n",
       "        vertical-align: middle;\n",
       "    }\n",
       "\n",
       "    .dataframe tbody tr th {\n",
       "        vertical-align: top;\n",
       "    }\n",
       "\n",
       "    .dataframe thead th {\n",
       "        text-align: right;\n",
       "    }\n",
       "</style>\n",
       "<table border=\"1\" class=\"dataframe\">\n",
       "  <thead>\n",
       "    <tr style=\"text-align: right;\">\n",
       "      <th></th>\n",
       "      <th>Lactobacillus_crispatus</th>\n",
       "      <th>Lactobacillus_iners</th>\n",
       "      <th>Lactobacillus_gasseri</th>\n",
       "      <th>Lactobacillus_jensenii</th>\n",
       "      <th>Atopobium_vaginae</th>\n",
       "      <th>Megasphaera_sp._type_1</th>\n",
       "      <th>Streptococcus_anginosus</th>\n",
       "      <th>Prevotella_genogroup_3</th>\n",
       "      <th>Clostridiales</th>\n",
       "      <th>Enterococcus_faecalis</th>\n",
       "      <th>Corynebacterium_accolens</th>\n",
       "    </tr>\n",
       "    <tr>\n",
       "      <th>patientID</th>\n",
       "      <th></th>\n",
       "      <th></th>\n",
       "      <th></th>\n",
       "      <th></th>\n",
       "      <th></th>\n",
       "      <th></th>\n",
       "      <th></th>\n",
       "      <th></th>\n",
       "      <th></th>\n",
       "      <th></th>\n",
       "      <th></th>\n",
       "    </tr>\n",
       "  </thead>\n",
       "  <tbody>\n",
       "    <tr>\n",
       "      <th>AYAC01</th>\n",
       "      <td>0.494516</td>\n",
       "      <td>0.046142</td>\n",
       "      <td>0.001394</td>\n",
       "      <td>0.000831</td>\n",
       "      <td>0.099390</td>\n",
       "      <td>0.323563</td>\n",
       "      <td>0.000025</td>\n",
       "      <td>0.001861</td>\n",
       "      <td>0.013861</td>\n",
       "      <td>0.000073</td>\n",
       "      <td>0.018342</td>\n",
       "    </tr>\n",
       "    <tr>\n",
       "      <th>AYAC02</th>\n",
       "      <td>0.675226</td>\n",
       "      <td>0.284146</td>\n",
       "      <td>0.001843</td>\n",
       "      <td>0.037587</td>\n",
       "      <td>0.000045</td>\n",
       "      <td>0.000000</td>\n",
       "      <td>0.000029</td>\n",
       "      <td>0.000000</td>\n",
       "      <td>0.000000</td>\n",
       "      <td>0.000445</td>\n",
       "      <td>0.000680</td>\n",
       "    </tr>\n",
       "    <tr>\n",
       "      <th>AYAC03</th>\n",
       "      <td>0.298899</td>\n",
       "      <td>0.336644</td>\n",
       "      <td>0.000821</td>\n",
       "      <td>0.000069</td>\n",
       "      <td>0.143627</td>\n",
       "      <td>0.161324</td>\n",
       "      <td>0.000479</td>\n",
       "      <td>0.044008</td>\n",
       "      <td>0.004456</td>\n",
       "      <td>0.000041</td>\n",
       "      <td>0.009631</td>\n",
       "    </tr>\n",
       "    <tr>\n",
       "      <th>AYAC04</th>\n",
       "      <td>0.882867</td>\n",
       "      <td>0.091084</td>\n",
       "      <td>0.004370</td>\n",
       "      <td>0.021186</td>\n",
       "      <td>0.000000</td>\n",
       "      <td>0.000049</td>\n",
       "      <td>0.000025</td>\n",
       "      <td>0.000000</td>\n",
       "      <td>0.000105</td>\n",
       "      <td>0.000050</td>\n",
       "      <td>0.000265</td>\n",
       "    </tr>\n",
       "    <tr>\n",
       "      <th>AYAC05</th>\n",
       "      <td>0.001224</td>\n",
       "      <td>0.774687</td>\n",
       "      <td>0.001111</td>\n",
       "      <td>0.177701</td>\n",
       "      <td>0.000578</td>\n",
       "      <td>0.000000</td>\n",
       "      <td>0.029465</td>\n",
       "      <td>0.000000</td>\n",
       "      <td>0.000759</td>\n",
       "      <td>0.001376</td>\n",
       "      <td>0.013099</td>\n",
       "    </tr>\n",
       "  </tbody>\n",
       "</table>\n",
       "</div>"
      ],
      "text/plain": [
       "           Lactobacillus_crispatus  Lactobacillus_iners  \\\n",
       "patientID                                                 \n",
       " AYAC01                   0.494516             0.046142   \n",
       " AYAC02                   0.675226             0.284146   \n",
       " AYAC03                   0.298899             0.336644   \n",
       " AYAC04                   0.882867             0.091084   \n",
       " AYAC05                   0.001224             0.774687   \n",
       "\n",
       "           Lactobacillus_gasseri  Lactobacillus_jensenii  Atopobium_vaginae  \\\n",
       "patientID                                                                     \n",
       " AYAC01                 0.001394                0.000831           0.099390   \n",
       " AYAC02                 0.001843                0.037587           0.000045   \n",
       " AYAC03                 0.000821                0.000069           0.143627   \n",
       " AYAC04                 0.004370                0.021186           0.000000   \n",
       " AYAC05                 0.001111                0.177701           0.000578   \n",
       "\n",
       "           Megasphaera_sp._type_1  Streptococcus_anginosus  \\\n",
       "patientID                                                    \n",
       " AYAC01                  0.323563                 0.000025   \n",
       " AYAC02                  0.000000                 0.000029   \n",
       " AYAC03                  0.161324                 0.000479   \n",
       " AYAC04                  0.000049                 0.000025   \n",
       " AYAC05                  0.000000                 0.029465   \n",
       "\n",
       "           Prevotella_genogroup_3  Clostridiales  Enterococcus_faecalis  \\\n",
       "patientID                                                                 \n",
       " AYAC01                  0.001861       0.013861               0.000073   \n",
       " AYAC02                  0.000000       0.000000               0.000445   \n",
       " AYAC03                  0.044008       0.004456               0.000041   \n",
       " AYAC04                  0.000000       0.000105               0.000050   \n",
       " AYAC05                  0.000000       0.000759               0.001376   \n",
       "\n",
       "           Corynebacterium_accolens  \n",
       "patientID                            \n",
       " AYAC01                    0.018342  \n",
       " AYAC02                    0.000680  \n",
       " AYAC03                    0.009631  \n",
       " AYAC04                    0.000265  \n",
       " AYAC05                    0.013099  "
      ]
     },
     "execution_count": 5,
     "metadata": {},
     "output_type": "execute_result"
    }
   ],
   "source": [
    "x_abundances.head()"
   ]
  },
  {
   "cell_type": "markdown",
   "metadata": {},
   "source": [
    "Create the figure and subplot"
   ]
  },
  {
   "cell_type": "code",
<<<<<<< HEAD:Lecture Notes/LN 22 2018-11-01 Pandas.ipynb
   "execution_count": 33,
   "metadata": {},
=======
   "execution_count": 6,
   "metadata": {
    "scrolled": false
   },
>>>>>>> 014dcaf825f59edc4e2c7a2a97b1d3783c891293:Lecture Notes/LN 22 index error copy.ipynb
   "outputs": [
    {
     "data": {
      "image/png": "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\n",
      "text/plain": [
       "<Figure size 432x288 with 2 Axes>"
      ]
     },
     "metadata": {
      "needs_background": "light"
     },
     "output_type": "display_data"
    }
   ],
   "source": [
    "fig, axes = plt.subplots(1, 2, sharey=True)\n",
    "fig.subplots_adjust(wspace=0, hspace=0) # change figure width and height"
   ]
  },
  {
   "cell_type": "code",
   "execution_count": 8,
   "metadata": {},
   "outputs": [
    {
     "data": {
      "text/html": [
       "<div>\n",
       "<style scoped>\n",
       "    .dataframe tbody tr th:only-of-type {\n",
       "        vertical-align: middle;\n",
       "    }\n",
       "\n",
       "    .dataframe tbody tr th {\n",
       "        vertical-align: top;\n",
       "    }\n",
       "\n",
       "    .dataframe thead th {\n",
       "        text-align: right;\n",
       "    }\n",
       "</style>\n",
       "<table border=\"1\" class=\"dataframe\">\n",
       "  <thead>\n",
       "    <tr style=\"text-align: right;\">\n",
       "      <th></th>\n",
       "      <th>Lactobacillus_crispatus</th>\n",
       "      <th>Lactobacillus_iners</th>\n",
       "      <th>Lactobacillus_gasseri</th>\n",
       "      <th>Lactobacillus_jensenii</th>\n",
       "      <th>Atopobium_vaginae</th>\n",
       "      <th>Megasphaera_sp._type_1</th>\n",
       "      <th>Streptococcus_anginosus</th>\n",
       "      <th>Prevotella_genogroup_3</th>\n",
       "      <th>Clostridiales</th>\n",
       "      <th>Enterococcus_faecalis</th>\n",
       "      <th>Corynebacterium_accolens</th>\n",
       "    </tr>\n",
       "    <tr>\n",
       "      <th>patientID</th>\n",
       "      <th></th>\n",
       "      <th></th>\n",
       "      <th></th>\n",
       "      <th></th>\n",
       "      <th></th>\n",
       "      <th></th>\n",
       "      <th></th>\n",
       "      <th></th>\n",
       "      <th></th>\n",
       "      <th></th>\n",
       "      <th></th>\n",
       "    </tr>\n",
       "  </thead>\n",
       "  <tbody>\n",
       "    <tr>\n",
       "      <th>AYAC01</th>\n",
       "      <td>0.494516</td>\n",
       "      <td>0.046142</td>\n",
       "      <td>0.001394</td>\n",
       "      <td>0.000831</td>\n",
       "      <td>0.099390</td>\n",
       "      <td>0.323563</td>\n",
       "      <td>0.000025</td>\n",
       "      <td>0.001861</td>\n",
       "      <td>0.013861</td>\n",
       "      <td>0.000073</td>\n",
       "      <td>0.018342</td>\n",
       "    </tr>\n",
       "    <tr>\n",
       "      <th>AYAC02</th>\n",
       "      <td>0.675226</td>\n",
       "      <td>0.284146</td>\n",
       "      <td>0.001843</td>\n",
       "      <td>0.037587</td>\n",
       "      <td>0.000045</td>\n",
       "      <td>0.000000</td>\n",
       "      <td>0.000029</td>\n",
       "      <td>0.000000</td>\n",
       "      <td>0.000000</td>\n",
       "      <td>0.000445</td>\n",
       "      <td>0.000680</td>\n",
       "    </tr>\n",
       "    <tr>\n",
       "      <th>AYAC03</th>\n",
       "      <td>0.298899</td>\n",
       "      <td>0.336644</td>\n",
       "      <td>0.000821</td>\n",
       "      <td>0.000069</td>\n",
       "      <td>0.143627</td>\n",
       "      <td>0.161324</td>\n",
       "      <td>0.000479</td>\n",
       "      <td>0.044008</td>\n",
       "      <td>0.004456</td>\n",
       "      <td>0.000041</td>\n",
       "      <td>0.009631</td>\n",
       "    </tr>\n",
       "    <tr>\n",
       "      <th>AYAC04</th>\n",
       "      <td>0.882867</td>\n",
       "      <td>0.091084</td>\n",
       "      <td>0.004370</td>\n",
       "      <td>0.021186</td>\n",
       "      <td>0.000000</td>\n",
       "      <td>0.000049</td>\n",
       "      <td>0.000025</td>\n",
       "      <td>0.000000</td>\n",
       "      <td>0.000105</td>\n",
       "      <td>0.000050</td>\n",
       "      <td>0.000265</td>\n",
       "    </tr>\n",
       "    <tr>\n",
       "      <th>AYAC05</th>\n",
       "      <td>0.001224</td>\n",
       "      <td>0.774687</td>\n",
       "      <td>0.001111</td>\n",
       "      <td>0.177701</td>\n",
       "      <td>0.000578</td>\n",
       "      <td>0.000000</td>\n",
       "      <td>0.029465</td>\n",
       "      <td>0.000000</td>\n",
       "      <td>0.000759</td>\n",
       "      <td>0.001376</td>\n",
       "      <td>0.013099</td>\n",
       "    </tr>\n",
       "  </tbody>\n",
       "</table>\n",
       "</div>"
      ],
      "text/plain": [
       "           Lactobacillus_crispatus  Lactobacillus_iners  \\\n",
       "patientID                                                 \n",
       " AYAC01                   0.494516             0.046142   \n",
       " AYAC02                   0.675226             0.284146   \n",
       " AYAC03                   0.298899             0.336644   \n",
       " AYAC04                   0.882867             0.091084   \n",
       " AYAC05                   0.001224             0.774687   \n",
       "\n",
       "           Lactobacillus_gasseri  Lactobacillus_jensenii  Atopobium_vaginae  \\\n",
       "patientID                                                                     \n",
       " AYAC01                 0.001394                0.000831           0.099390   \n",
       " AYAC02                 0.001843                0.037587           0.000045   \n",
       " AYAC03                 0.000821                0.000069           0.143627   \n",
       " AYAC04                 0.004370                0.021186           0.000000   \n",
       " AYAC05                 0.001111                0.177701           0.000578   \n",
       "\n",
       "           Megasphaera_sp._type_1  Streptococcus_anginosus  \\\n",
       "patientID                                                    \n",
       " AYAC01                  0.323563                 0.000025   \n",
       " AYAC02                  0.000000                 0.000029   \n",
       " AYAC03                  0.161324                 0.000479   \n",
       " AYAC04                  0.000049                 0.000025   \n",
       " AYAC05                  0.000000                 0.029465   \n",
       "\n",
       "           Prevotella_genogroup_3  Clostridiales  Enterococcus_faecalis  \\\n",
       "patientID                                                                 \n",
       " AYAC01                  0.001861       0.013861               0.000073   \n",
       " AYAC02                  0.000000       0.000000               0.000445   \n",
       " AYAC03                  0.044008       0.004456               0.000041   \n",
       " AYAC04                  0.000000       0.000105               0.000050   \n",
       " AYAC05                  0.000000       0.000759               0.001376   \n",
       "\n",
       "           Corynebacterium_accolens  \n",
       "patientID                            \n",
       " AYAC01                    0.018342  \n",
       " AYAC02                    0.000680  \n",
       " AYAC03                    0.009631  \n",
       " AYAC04                    0.000265  \n",
       " AYAC05                    0.013099  "
      ]
     },
     "execution_count": 8,
     "metadata": {},
     "output_type": "execute_result"
    }
   ],
   "source": [
    "test_abundances = x_abundances\n",
    "test_abundances.head()"
   ]
  },
  {
   "cell_type": "code",
   "execution_count": 9,
   "metadata": {},
   "outputs": [
    {
     "data": {
      "text/html": [
       "<div>\n",
       "<style scoped>\n",
       "    .dataframe tbody tr th:only-of-type {\n",
       "        vertical-align: middle;\n",
       "    }\n",
       "\n",
       "    .dataframe tbody tr th {\n",
       "        vertical-align: top;\n",
       "    }\n",
       "\n",
       "    .dataframe thead th {\n",
       "        text-align: right;\n",
       "    }\n",
       "</style>\n",
       "<table border=\"1\" class=\"dataframe\">\n",
       "  <thead>\n",
       "    <tr style=\"text-align: right;\">\n",
       "      <th></th>\n",
       "      <th>Lactobacillus_crispatus</th>\n",
       "      <th>Lactobacillus_iners</th>\n",
       "      <th>Lactobacillus_gasseri</th>\n",
       "      <th>Lactobacillus_jensenii</th>\n",
       "      <th>Atopobium_vaginae</th>\n",
       "      <th>Megasphaera_sp._type_1</th>\n",
       "      <th>Streptococcus_anginosus</th>\n",
       "      <th>Prevotella_genogroup_3</th>\n",
       "      <th>Clostridiales</th>\n",
       "      <th>Enterococcus_faecalis</th>\n",
       "      <th>Corynebacterium_accolens</th>\n",
       "    </tr>\n",
       "  </thead>\n",
       "  <tbody>\n",
       "    <tr>\n",
       "      <th>0</th>\n",
       "      <td>0.494516</td>\n",
       "      <td>0.046142</td>\n",
       "      <td>0.001394</td>\n",
       "      <td>0.000831</td>\n",
       "      <td>0.099390</td>\n",
       "      <td>0.323563</td>\n",
       "      <td>0.000025</td>\n",
       "      <td>0.001861</td>\n",
       "      <td>0.013861</td>\n",
       "      <td>0.000073</td>\n",
       "      <td>0.018342</td>\n",
       "    </tr>\n",
       "    <tr>\n",
       "      <th>1</th>\n",
       "      <td>0.675226</td>\n",
       "      <td>0.284146</td>\n",
       "      <td>0.001843</td>\n",
       "      <td>0.037587</td>\n",
       "      <td>0.000045</td>\n",
       "      <td>0.000000</td>\n",
       "      <td>0.000029</td>\n",
       "      <td>0.000000</td>\n",
       "      <td>0.000000</td>\n",
       "      <td>0.000445</td>\n",
       "      <td>0.000680</td>\n",
       "    </tr>\n",
       "    <tr>\n",
       "      <th>2</th>\n",
       "      <td>0.298899</td>\n",
       "      <td>0.336644</td>\n",
       "      <td>0.000821</td>\n",
       "      <td>0.000069</td>\n",
       "      <td>0.143627</td>\n",
       "      <td>0.161324</td>\n",
       "      <td>0.000479</td>\n",
       "      <td>0.044008</td>\n",
       "      <td>0.004456</td>\n",
       "      <td>0.000041</td>\n",
       "      <td>0.009631</td>\n",
       "    </tr>\n",
       "    <tr>\n",
       "      <th>3</th>\n",
       "      <td>0.882867</td>\n",
       "      <td>0.091084</td>\n",
       "      <td>0.004370</td>\n",
       "      <td>0.021186</td>\n",
       "      <td>0.000000</td>\n",
       "      <td>0.000049</td>\n",
       "      <td>0.000025</td>\n",
       "      <td>0.000000</td>\n",
       "      <td>0.000105</td>\n",
       "      <td>0.000050</td>\n",
       "      <td>0.000265</td>\n",
       "    </tr>\n",
       "    <tr>\n",
       "      <th>4</th>\n",
       "      <td>0.001224</td>\n",
       "      <td>0.774687</td>\n",
       "      <td>0.001111</td>\n",
       "      <td>0.177701</td>\n",
       "      <td>0.000578</td>\n",
       "      <td>0.000000</td>\n",
       "      <td>0.029465</td>\n",
       "      <td>0.000000</td>\n",
       "      <td>0.000759</td>\n",
       "      <td>0.001376</td>\n",
       "      <td>0.013099</td>\n",
       "    </tr>\n",
       "  </tbody>\n",
       "</table>\n",
       "</div>"
      ],
      "text/plain": [
       "   Lactobacillus_crispatus  Lactobacillus_iners  Lactobacillus_gasseri  \\\n",
       "0                 0.494516             0.046142               0.001394   \n",
       "1                 0.675226             0.284146               0.001843   \n",
       "2                 0.298899             0.336644               0.000821   \n",
       "3                 0.882867             0.091084               0.004370   \n",
       "4                 0.001224             0.774687               0.001111   \n",
       "\n",
       "   Lactobacillus_jensenii  Atopobium_vaginae  Megasphaera_sp._type_1  \\\n",
       "0                0.000831           0.099390                0.323563   \n",
       "1                0.037587           0.000045                0.000000   \n",
       "2                0.000069           0.143627                0.161324   \n",
       "3                0.021186           0.000000                0.000049   \n",
       "4                0.177701           0.000578                0.000000   \n",
       "\n",
       "   Streptococcus_anginosus  Prevotella_genogroup_3  Clostridiales  \\\n",
       "0                 0.000025                0.001861       0.013861   \n",
       "1                 0.000029                0.000000       0.000000   \n",
       "2                 0.000479                0.044008       0.004456   \n",
       "3                 0.000025                0.000000       0.000105   \n",
       "4                 0.029465                0.000000       0.000759   \n",
       "\n",
       "   Enterococcus_faecalis  Corynebacterium_accolens  \n",
       "0               0.000073                  0.018342  \n",
       "1               0.000445                  0.000680  \n",
       "2               0.000041                  0.009631  \n",
       "3               0.000050                  0.000265  \n",
       "4               0.001376                  0.013099  "
      ]
     },
     "execution_count": 9,
     "metadata": {},
     "output_type": "execute_result"
    }
   ],
   "source": [
    "test_abundances = x_abundances\n",
    "test_abundances = test_abundances.reset_index()\n",
    "test_abundances.drop(['patientID'], axis=1, inplace=True)\n",
    "#test_abundances.columns\n",
    "test_abundances.head()"
   ]
  },
  {
   "cell_type": "markdown",
   "metadata": {},
   "source": [
    "#### plot some data "
   ]
  },
  {
   "cell_type": "code",
<<<<<<< HEAD:Lecture Notes/LN 22 2018-11-01 Pandas.ipynb
   "execution_count": 34,
=======
   "execution_count": 38,
>>>>>>> 014dcaf825f59edc4e2c7a2a97b1d3783c891293:Lecture Notes/LN 22 index error copy.ipynb
   "metadata": {
    "scrolled": true
   },
   "outputs": [
    {
<<<<<<< HEAD:Lecture Notes/LN 22 2018-11-01 Pandas.ipynb
     "ename": "ZeroDivisionError",
     "evalue": "integer division or modulo by zero",
     "output_type": "error",
     "traceback": [
      "\u001b[1;31m---------------------------------------------------------------------------\u001b[0m",
      "\u001b[1;31mZeroDivisionError\u001b[0m                         Traceback (most recent call last)",
      "\u001b[1;32m<ipython-input-34-0aecabe0cc0a>\u001b[0m in \u001b[0;36m<module>\u001b[1;34m()\u001b[0m\n\u001b[0;32m      1\u001b[0m \u001b[0max\u001b[0m \u001b[1;33m=\u001b[0m \u001b[0maxes\u001b[0m\u001b[1;33m[\u001b[0m\u001b[1;36m0\u001b[0m\u001b[1;33m]\u001b[0m  \u001b[1;31m# note that the fig is a 1-D array (list)\u001b[0m\u001b[1;33m\u001b[0m\u001b[0m\n\u001b[0;32m      2\u001b[0m \u001b[1;33m\u001b[0m\u001b[0m\n\u001b[1;32m----> 3\u001b[1;33m \u001b[0m_\u001b[0m \u001b[1;33m=\u001b[0m \u001b[0max\u001b[0m\u001b[1;33m.\u001b[0m\u001b[0mplot\u001b[0m\u001b[1;33m(\u001b[0m\u001b[0mx_abundances\u001b[0m\u001b[1;33m)\u001b[0m\u001b[1;33m\u001b[0m\u001b[0m\n\u001b[0m\u001b[0;32m      4\u001b[0m \u001b[1;33m\u001b[0m\u001b[0m\n\u001b[0;32m      5\u001b[0m \u001b[0mfig\u001b[0m\u001b[1;33m\u001b[0m\u001b[0m\n",
      "\u001b[1;32m~\\Anaconda3\\anaconda\\lib\\site-packages\\matplotlib\\__init__.py\u001b[0m in \u001b[0;36minner\u001b[1;34m(ax, *args, **kwargs)\u001b[0m\n\u001b[0;32m   1853\u001b[0m                         \u001b[1;34m\"the Matplotlib list!)\"\u001b[0m \u001b[1;33m%\u001b[0m \u001b[1;33m(\u001b[0m\u001b[0mlabel_namer\u001b[0m\u001b[1;33m,\u001b[0m \u001b[0mfunc\u001b[0m\u001b[1;33m.\u001b[0m\u001b[0m__name__\u001b[0m\u001b[1;33m)\u001b[0m\u001b[1;33m,\u001b[0m\u001b[1;33m\u001b[0m\u001b[0m\n\u001b[0;32m   1854\u001b[0m                         RuntimeWarning, stacklevel=2)\n\u001b[1;32m-> 1855\u001b[1;33m             \u001b[1;32mreturn\u001b[0m \u001b[0mfunc\u001b[0m\u001b[1;33m(\u001b[0m\u001b[0max\u001b[0m\u001b[1;33m,\u001b[0m \u001b[1;33m*\u001b[0m\u001b[0margs\u001b[0m\u001b[1;33m,\u001b[0m \u001b[1;33m**\u001b[0m\u001b[0mkwargs\u001b[0m\u001b[1;33m)\u001b[0m\u001b[1;33m\u001b[0m\u001b[0m\n\u001b[0m\u001b[0;32m   1856\u001b[0m \u001b[1;33m\u001b[0m\u001b[0m\n\u001b[0;32m   1857\u001b[0m         inner.__doc__ = _add_data_doc(inner.__doc__,\n",
      "\u001b[1;32m~\\Anaconda3\\anaconda\\lib\\site-packages\\matplotlib\\axes\\_axes.py\u001b[0m in \u001b[0;36mplot\u001b[1;34m(self, *args, **kwargs)\u001b[0m\n\u001b[0;32m   1525\u001b[0m         \u001b[0mkwargs\u001b[0m \u001b[1;33m=\u001b[0m \u001b[0mcbook\u001b[0m\u001b[1;33m.\u001b[0m\u001b[0mnormalize_kwargs\u001b[0m\u001b[1;33m(\u001b[0m\u001b[0mkwargs\u001b[0m\u001b[1;33m,\u001b[0m \u001b[0m_alias_map\u001b[0m\u001b[1;33m)\u001b[0m\u001b[1;33m\u001b[0m\u001b[0m\n\u001b[0;32m   1526\u001b[0m \u001b[1;33m\u001b[0m\u001b[0m\n\u001b[1;32m-> 1527\u001b[1;33m         \u001b[1;32mfor\u001b[0m \u001b[0mline\u001b[0m \u001b[1;32min\u001b[0m \u001b[0mself\u001b[0m\u001b[1;33m.\u001b[0m\u001b[0m_get_lines\u001b[0m\u001b[1;33m(\u001b[0m\u001b[1;33m*\u001b[0m\u001b[0margs\u001b[0m\u001b[1;33m,\u001b[0m \u001b[1;33m**\u001b[0m\u001b[0mkwargs\u001b[0m\u001b[1;33m)\u001b[0m\u001b[1;33m:\u001b[0m\u001b[1;33m\u001b[0m\u001b[0m\n\u001b[0m\u001b[0;32m   1528\u001b[0m             \u001b[0mself\u001b[0m\u001b[1;33m.\u001b[0m\u001b[0madd_line\u001b[0m\u001b[1;33m(\u001b[0m\u001b[0mline\u001b[0m\u001b[1;33m)\u001b[0m\u001b[1;33m\u001b[0m\u001b[0m\n\u001b[0;32m   1529\u001b[0m             \u001b[0mlines\u001b[0m\u001b[1;33m.\u001b[0m\u001b[0mappend\u001b[0m\u001b[1;33m(\u001b[0m\u001b[0mline\u001b[0m\u001b[1;33m)\u001b[0m\u001b[1;33m\u001b[0m\u001b[0m\n",
      "\u001b[1;32m~\\Anaconda3\\anaconda\\lib\\site-packages\\matplotlib\\axes\\_base.py\u001b[0m in \u001b[0;36m_grab_next_args\u001b[1;34m(self, *args, **kwargs)\u001b[0m\n\u001b[0;32m    404\u001b[0m                 \u001b[0mthis\u001b[0m \u001b[1;33m+=\u001b[0m \u001b[0margs\u001b[0m\u001b[1;33m[\u001b[0m\u001b[1;36m0\u001b[0m\u001b[1;33m]\u001b[0m\u001b[1;33m,\u001b[0m\u001b[1;33m\u001b[0m\u001b[0m\n\u001b[0;32m    405\u001b[0m                 \u001b[0margs\u001b[0m \u001b[1;33m=\u001b[0m \u001b[0margs\u001b[0m\u001b[1;33m[\u001b[0m\u001b[1;36m1\u001b[0m\u001b[1;33m:\u001b[0m\u001b[1;33m]\u001b[0m\u001b[1;33m\u001b[0m\u001b[0m\n\u001b[1;32m--> 406\u001b[1;33m             \u001b[1;32mfor\u001b[0m \u001b[0mseg\u001b[0m \u001b[1;32min\u001b[0m \u001b[0mself\u001b[0m\u001b[1;33m.\u001b[0m\u001b[0m_plot_args\u001b[0m\u001b[1;33m(\u001b[0m\u001b[0mthis\u001b[0m\u001b[1;33m,\u001b[0m \u001b[0mkwargs\u001b[0m\u001b[1;33m)\u001b[0m\u001b[1;33m:\u001b[0m\u001b[1;33m\u001b[0m\u001b[0m\n\u001b[0m\u001b[0;32m    407\u001b[0m                 \u001b[1;32myield\u001b[0m \u001b[0mseg\u001b[0m\u001b[1;33m\u001b[0m\u001b[0m\n\u001b[0;32m    408\u001b[0m \u001b[1;33m\u001b[0m\u001b[0m\n",
      "\u001b[1;32m~\\Anaconda3\\anaconda\\lib\\site-packages\\matplotlib\\axes\\_base.py\u001b[0m in \u001b[0;36m_plot_args\u001b[1;34m(self, tup, kwargs)\u001b[0m\n\u001b[0;32m    394\u001b[0m                                   \"with non-matching shapes is deprecated.\")\n\u001b[0;32m    395\u001b[0m         \u001b[1;32mfor\u001b[0m \u001b[0mj\u001b[0m \u001b[1;32min\u001b[0m \u001b[0mxrange\u001b[0m\u001b[1;33m(\u001b[0m\u001b[0mmax\u001b[0m\u001b[1;33m(\u001b[0m\u001b[0mncx\u001b[0m\u001b[1;33m,\u001b[0m \u001b[0mncy\u001b[0m\u001b[1;33m)\u001b[0m\u001b[1;33m)\u001b[0m\u001b[1;33m:\u001b[0m\u001b[1;33m\u001b[0m\u001b[0m\n\u001b[1;32m--> 396\u001b[1;33m             \u001b[0mseg\u001b[0m \u001b[1;33m=\u001b[0m \u001b[0mfunc\u001b[0m\u001b[1;33m(\u001b[0m\u001b[0mx\u001b[0m\u001b[1;33m[\u001b[0m\u001b[1;33m:\u001b[0m\u001b[1;33m,\u001b[0m \u001b[0mj\u001b[0m \u001b[1;33m%\u001b[0m \u001b[0mncx\u001b[0m\u001b[1;33m]\u001b[0m\u001b[1;33m,\u001b[0m \u001b[0my\u001b[0m\u001b[1;33m[\u001b[0m\u001b[1;33m:\u001b[0m\u001b[1;33m,\u001b[0m \u001b[0mj\u001b[0m \u001b[1;33m%\u001b[0m \u001b[0mncy\u001b[0m\u001b[1;33m]\u001b[0m\u001b[1;33m,\u001b[0m \u001b[0mkw\u001b[0m\u001b[1;33m,\u001b[0m \u001b[0mkwargs\u001b[0m\u001b[1;33m)\u001b[0m\u001b[1;33m\u001b[0m\u001b[0m\n\u001b[0m\u001b[0;32m    397\u001b[0m             \u001b[0mret\u001b[0m\u001b[1;33m.\u001b[0m\u001b[0mappend\u001b[0m\u001b[1;33m(\u001b[0m\u001b[0mseg\u001b[0m\u001b[1;33m)\u001b[0m\u001b[1;33m\u001b[0m\u001b[0m\n\u001b[0;32m    398\u001b[0m         \u001b[1;32mreturn\u001b[0m \u001b[0mret\u001b[0m\u001b[1;33m\u001b[0m\u001b[0m\n",
      "\u001b[1;31mZeroDivisionError\u001b[0m: integer division or modulo by zero"
     ]
=======
     "data": {
      "image/png": "iVBORw0KGgoAAAANSUhEUgAAAXkAAAEACAYAAABWLgY0AAAABHNCSVQICAgIfAhkiAAAAAlwSFlz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\n",
      "text/plain": [
       "<matplotlib.figure.Figure at 0x10f241810>"
      ]
     },
     "execution_count": 38,
     "metadata": {},
     "output_type": "execute_result"
>>>>>>> 014dcaf825f59edc4e2c7a2a97b1d3783c891293:Lecture Notes/LN 22 index error copy.ipynb
    }
   ],
   "source": [
    "ax = axes[0]  # note that the fig is a 1-D array (list)\n",
    "\n",
    "_ = ax.plot(test_abundances)\n",
    "\n",
    "fig"
   ]
  },
  {
   "cell_type": "code",
   "execution_count": 46,
   "metadata": {},
   "outputs": [
    {
     "name": "stderr",
     "output_type": "stream",
     "text": [
      "/usr/local/lib/python2.7/site-packages/matplotlib/axes/_axes.py:519: UserWarning: No labelled objects found. Use label='...' kwarg on individual plots.\n",
      "  warnings.warn(\"No labelled objects found. \"\n"
     ]
    },
    {
     "data": {
      "image/png": "iVBORw0KGgoAAAANSUhEUgAAAXkAAAEWCAYAAACDoeeyAAAABHNCSVQICAgIfAhkiAAAAAlwSFlz\nAAALEgAACxIB0t1+/AAAIABJREFUeJzsvXmwXNd95/c9d+/t9fKwPCwkAJISF5AiqdUqOTbkpEYa\nVaaUSsoeUYmTOLHF8tipyKmRPUnkmKxKMpOKHNuyklgay5pKplJKlbfI8siWogiJtdMmCI4AkIDA\nBdt7AN7W693vyR+3b/ddzt26++E9EOdTxSLe7e7btxsP3/729/c7v0MopeBwOBzOWxNhty+Aw+Fw\nODsHF3kOh8N5C8NFnsPhcN7CcJHncDictzBc5DkcDuctDBd5DofDeQuTK/KEkC8SQm4SQl7OuM9n\nCSGXCCEvEUKeWuwlcjgcDmdWijj5LwH4UNqNhJC/D+BBSunbADwL4A8WdG0cDofDmZNckaeUfhvA\nVsZdPgrgfxvf9wcAmoSQg4u5PA6Hw+HMwyIy+SMAroZ+vj4+xuFwOJxdhhdeORwO5y2MtIBzXAdw\nX+jno+NjCQghfFAOh8PhzACllMzyuKJOnoz/Y/EVAP8hABBCfgLANqX0ZtqJKKXM/37rt36r9G2z\nPGbR53vhhXfi137tw3fk+spe+1+8+hfAc8BP/0c/zXzMgQMUzz5b7r34u797P375lx8tdX1vvvkm\nZFlm3v/69T/AP/pHT+z63yOlNPP38079l3V999p17IVr2CvXMQ+5Tp4Q8n8AOAVgmRByBcBvAVD8\nfw/0C5TSf0UI+Qgh5McAhgB+Ya4rusvwPB2uO9jty2Dyhb/7Ah7qPATnssO83TAAh30TE88z0e+/\nCNfdX+o6hsMhnJQn8jwDlJa4CA6HU4pckaeUfrzAfX51MZdz9+G6I7iuttuXkeBq9yq+feXb+LWf\n+DX85Q/+knmfsiI/GJyFKFbhOP1S1zIcDkEpheu6EEUxchsXeQ5nZ9kzhddTp06Vvm2Wxyz6fJ6n\n453vVBd2vllvix//ozN/hGcefwadSgcHTyY7WikFLAt47LFi5wOAXu97WF7+B3jiiWHqV0jW40aj\nEQDANM3EbZ5n4l3vajDPlXa+vNtmfW/3Anvl+vbCdeyFawD2znXMCpk37yn1ZITQO/l8LP7ZPwOe\nfRZotxdzvr/5mwaq1Ufxrnf9cDEnXACO5+DE753AV5/5Kv72xt/iO1e/gz/66B9F7mMYQKUC/Pmf\nAx/9aLHznj//DNrtD+Hy5f8C733vRSjKvkKP+9rXvoaPfOQj2NjYQKfTidz22mv/Fbrdv8HTT/9N\nsYvYQQghc+efHM5OMP7d3NHC61uGf/EvgNdeW8y5/AhCh2Wl1pl3ha9d+hqONI7gyZUnoUkaDMdI\n3Mcwov8vQq/3fTSb74eqHoFlMRuomAyHw/FzJZ/M8wx4XomL4HA4pbjnRN4wyglbFpTaADxY1s09\n5QC/8OIX8Oy7ngUAqJIK003GJEFyUvS9MM01OE4XlcrboCiHYZo3Cl9PIPJpcY3nJY9zOJzFwEV+\nDjxPhyg2IAgKHKe7mJPOydXuVXz36nfxcyd/DgAW5uR7ve9jael9IESAqh6GZRUX+SCT506ew7nz\ncJGfA9cdQRAqUJSDsO29Edl88cwX8czjz6Cm1ADkizzDXDPxRf79ADCzk+ciz+HcebjIz4Hv5KuQ\n5YN7Ipd3PAd/+OIfTqIaAFBFFaYzf1zT630PS0s/4Z9TPQLTLJ/Js+MaLvIczk5yT4k8pb647YST\n3wsi/7VLX8N9zfvwxMEnJscWEdd4noN+/+/QaLwXgO/ky8Q12U6eZ/Iczk5yT4l8WfeaR+Dk94rI\nf/7vPh9x8cBiRH44/NfQtGOQ5RYAQFXLxTU8k+dwdo97SuRnaRvMwvP2TiZ/pXsF37v2vUnBNSCt\nu6ZMJh+OaoBFO3kDlFqg1Ct8Pg6HU5x7UuSLFhvzcF0dgrA3MvkvvvhFfPzxj6MqVyPH05x8mW81\nftE1LPIrsO3b8Lxi4wiGwyEEQUjN5P3/88iGw9kJ7imRX3xcM4IoVqAoK7sq8o7n4ItnvohPvOsT\nidsWEdeEO2sAQBAkyPK+wt9ehsMh2u0208lT6v+lcJHncHaGe0rkFx/X6KHC69piTjoDP7j2A+yv\n7Y8UXAPSumsMAyAk/72wrHVY1k3Uao9GjpdpoxyNRuh0OqlxTfj/O8nW1mmMRj/e8efhcPYSXOTn\nIIhrdrvw2jN7WKmvMG/LimuWlvKjq37/B2g03gNCotMjyyyIGg6H6HQ6GXEN2XGR39r6Js6f/7ld\n/TDmcHYDLvJzMI1r/MLrbo020B0dmsQed6yICmzPhhcrbBoG0GzmvxfxPH5yXqV4r/xwOMTy8nJq\nC6UkNSexzU7gC/wzOHnyT9Bq/eSOPQ+HsxfhIj8HflxThSjWAIhw3XJz1heF4RioSBXmbYQQaJKW\niGwMA2i1iol8s/n+xPEybZSBk0+LaySptWNOfnPz/w4J/L+xI8/B4exluMjPQbAYCsCuRjaGY6Q6\necDP5eORjWnmO3lKXfR6P0Sj8b7EbWXaKPMyeVFs7ojIb25+AxcufJwLPOeehov8HASLoYDdFXnd\nTo9rAHYuH8Q1WZn8cHgBinKAOTe+rJNfXl5OZPKUeqDUhiQ1Fi7yvsD/+zh58k+5wHPuae45kVfV\nnXPyu7UgKiuuAdJFPi+uibdOhvFnyueLvOd50HWd6eQ9z4QgaBCEykJbKDc3vx4SeJ7Bc+5t7jmR\nL1JsLErYye/mgqjcuIax6rVIXBNf6RrGb6HML7zqug5N01CpVBgib4xFXluYkx8OL+DChf+ACzyH\nM+aeE/kixcaiBGMNAIwXRO1Oe15Wdw0wr5Nni7wsL8N1+3Dd7DdzNBqhWq1C0zSmyBOiQhDUhYn8\naHQBzeZPcoHncMbctSJvmqt4443nSz7GF7ZFjzUAdr/wWpHLxzVZmbxtb8Mw3kSt9g7m7YQIUJRD\nsKzVzGsbDoeo1WrQNC2RyUed/GL+UvyOp/QPPA7nXuOuFfnR6BXcvv2npR6zE05eFO+O7hpWC2VW\nXNPv/xCNxrsgCFL6eQvk8oHIq6qakckvLq7xP3jTP/A4nHuNu1bkXbdfWhgWL/JRJ79bhddZumuC\nbzVp70VWVBNQJJcPO/k7kcn75+Qiz+EE3LUi7zg9eJ5e6jGLFvlwd82dKLyurf3vzJG8hjtbd83S\nEmDbgMeY8pvVWRNQpI0ynMmz4xoVhCwuk+dxDYcT5a4Ved/J767I3+k++Vdf/UU4znbi+CzdNYYB\nVCp+S2k8l6fUm2zcnUWRBVFZTp5ScwcyeWMSoXE4nLte5Hc3rgk7eVGsA6BwnMFiTh6DUheUWswP\ntjyRT4trVBXQtOT7YRhvQBRrUNVDmdfk7/U6Tya/E3ENd/IcTpi7WuRdd+84eULIjubyWSN5czN5\nkR3XaBpb5B1nC7KcXOUax59EuYhMftFxDXfyHE7AXSvyjtMH4MLz7MKPycuhyxLukweCXH5neuWD\nDzTWB1teC6Uqsbtr0kS+aIdKkZnyRTJ5XnjlcHaOu1bkg4mPZXL5QNgUZTG98nEx3MkdooLXuei4\nhpXJF3XDRWbKF22hXNSoYf/vhMc1HE7AW0DkizvALPdaFs+zQQiBIMiTYztZfM0S+VlXvKa9F0VF\nXhSXQCkdf6tiw1soOZzd5a4VecfpAZjNyWva/E4+HtUAuyfyRQaUsbprskS+SIcKIWTcRpmey+ev\neF3sWANeeOVwoty1Ih84+TLFV9NcnJMPjzQI2MnCa14mP8s8+bTumjKrRvPaKINMXpZl2LYNL1QM\n2amxBryFksOZcpeLvLCLcc0oISY7uSAqM64pueKV0unY5XkyeSB/QVTg5H3Xr0bc/E6MNeBxDYcT\n5a4WeVneN3NcM7/Is538zot88sKLDCgLd9fYNiBJgCimxTXFhTJvfk0g8gASufzOtVDyuIbDCbhr\nRd5x+lCUA7sm8uGFUAG7kclTSmG5FlRRTX2sKqkwQiOBAxcPzJfJA/nza+IiH3XywahhPqCMw9kp\nCok8IeTDhJBXCCEXCSG/wbh9mRDyNULIS4SQf00I+Y8XfqUxfCe/f1edfLAQKsAX+Z3tk4+/XsMx\noIgKCCGpj43HNUFtApivuwbIb6MMMnn/ueJOfmfGGnCR53Cm5Io8IUQA8DkAHwJwEsAzhJBHYnf7\nVQAvUUqfAvBBAL9NCEmfUTsnviB4kKTWHcnkb968iddeey1yjOXk/ZZCB647LH7yggTiHi+85kU1\nQFLkg/cBYGfy5Qqv2aMNwk4+3ivPxxpwODtPESf/XgCXKKVvUkptAF8G8NHYfdYANMZ/bgDYoJQ6\ni7vMKI7Thyg2IAiVUt01s4r8l770Jfz2b/925BjLyfujDXZmQVRaXJPXWQMk58kXiWsW5eSLZPKL\nnULJB5RxOGGKiPwRAFdDP18bHwvzzwGcJITcAHAWwH++mMtj47pTkS8a18Q7SsqI/NraGkajUeQY\nq08e2Llc3hdBIfF68xZCAbPGNcXcsKIcgmneAKWUeXteJj8da8B3huJwdoJFRSr/JYCzlNIPEkIe\nBPANQsg7KKWJkYzPPffc5M+nTp3CqVOnSj+Z6/YhSUulvuY7DkCI31VS1smvria3uGP1yQM7KfI6\nJKnNdPJZC6GA7Lhm3sKrKFYgijXY9gYUJTnULJzJx+Oa6Kjh+Z08pbRUJn/69GmcPn06cmwRv58c\nzrywfjdnpYjIXwdwf+jno+NjYT4A4L8DAErpZULI6wAeAfC38ZOF/xHNSuDkRbG4k88TtizW1tbQ\nbDYjx1h98sDOLYhyXR2y3EmIYaG4JjZPPhzXqCqgx97Csh0qQRslS+SLtVAuSuQtECLDLyPlExfx\n559/fiG/nxzOvLB+N2elyL+GFwA8RAg5RghRAHwMwFdi97kA4N8CAELIQQBvB/AadohwJj+ryJcZ\na8COa9hOfqcWRPlOvpOoQeQthAJ2trsGSJ9G6bouTNNEpVIZP1daXKOAUjM18ikKH07G4STJFXlK\nqQu/e+brAM4B+DKl9AIh5FlCyCfGd/unAN5NCDkL4BsAfp1SurlTFx3O5IsWXvOELYvV1VXoMbvL\n6q4Bdjau8Z18+cLrLHFNOSfPnisfRDVBe2d64VUAIQootQo/JwvePsnhJCmUyVNK/wrAw7Fjnw/9\neR3AP1jspaXjuj1IUmP8Nb+YoM4a1wyHQ/T7faaTZ22soSgHsb19utjJSxA4edu+FTlepIWS1V2z\nqEweSHfy4TweYLVQmhPnHUQ2gpC+qCsPXnTlcJLclSte8+Ka73znO/jBD34QOTaryN+86X+IxJ18\nmtvdKSfvZ/LswusscU04k5+nT94/B3u0QTiPB9KdPICFjDbgw8k4nCR3pcj7cc1SauH1z/7sz/CX\nf/mXkWOzivzq6ioOHz6ccPLpcc3KjhReUzP5GVoo8518udgjzcmzRJ6VyQNYSPGVxzUcTpK7VuSn\ncU1SGIbDYUKUZxX5tbU1nDhxgunk44uhgJ0tvKZ11+S1UKqSCsu1JoXNncnk80U+P66Zr1eexzUc\nTpK7VuSz4ppFi/wDDzxQuPAqSU14nlV6k/E8Aic/S1wjEAGSIMFy/cLmIgeUAelDyuKZfHZcM7+T\n58PJOJwkd6XI5401GAwGCxP51dVVPPDAAxiNRpEWvzQn7482OLBwNz/tky/fQglEI5twp9G88+SB\nIKJah+dFJ1kUi2sWmckb3MlzODHuSpGf18mXGWuwtraGI0eOQJZlWNa0xS9trAGwMwuispx8XlwD\nRLcAzPrAm64aLS6WgiBBlpcTnT9ZhVdKvfHiJWV8jkXFNdzJczhh7lKR782UyWdFFGmsra1hZWUF\nlUolcs60sQbAzuTyQSbPmkJZxMmr0nQLwKz3wp/xrhReNRrAKr5mZfKeZ4EQddJDv6jCK++u4XCi\n3JUi78c16d01RTL5oiteV1dXsbKygmq1Gsnl08YaADszV9538q3xytDpPqlFumuA9LgmKfKzuWHW\ngqjRaJTq5OPfFhYj8rzwyuHEuStFPi+uWWQmv7a2hkOHDiWcfNpYA2BneuWDbw7xsbxFFkMB0S0A\ns+bJz9przporPxwOE4XXIJOPi/wixg3zuIbDSXLXinzZuGaWsQae5+H27ds4cOBAwsmnddcAixd5\nPyf3Bcz/9hIV+UJxjVgsrpm1Q4XVRpkd10RXty4mk+d98hxOnLtW5LO6axbVQrmxsYGlpSUoisJ0\n8qzuGmDxC6IotUGIAEGQEt9e9kpcUySTjxZezYXHNXxAGYeT5K4TeUo9uO4IolhnxjWU0oWJ/Orq\nKg4dOgQApZz8oguvYeGNf7CV6a4JO/mdyOTjvfKsTD4trlnUWAPu5DmcKHedyLvuAIJQGTtbFZRa\nkUKkaZpwXXchIh901gCIOHnPs0EIgSDIzMctOq4JRyjxD7Yy3TXhFsogrlEUwLYBb/wWzprJs+bX\nsDL5rLiG0kXENdzJczhh7kKR9/N4AGOhjX7ND4Rl0SIfdvJZPfLA4kU+7FDjHUXzLoYiJFp8nTWT\nL99Cufi4hg8o43CS3HUiH7RPBsSd7XA4RKfTgeu6sG17cnzeuCbs5LN65AGMt+kbwXUXtTn1VLx8\nMYzFNQW7a1hxDRB9P2YtXsryMly3HymeZmXyO9NCyQuvHE6cu07kg6JrQDyjHg6HqNfriQydteI1\nbyOiLCef5RgJIZDlAwsrvsYz+Vm7a1gtlEBc5Gdz8oQIUJSViJvfnUyexzUcTpi7UuSDuAZIOsDA\nPcYjm3AOLYr+fyGjzyQ9k88XwkVGNvFMPl54LRvXhN8LILo4bJ7IQ1EORRaBxTP5nW6h5APKOJwk\nd6XIx518OL4YDAapIp/mXtNI667Ji2uAxYp80skvroUSiM7ymadDRZIacN3B5OfsuGYnMnleeOVw\n4tx1Ih9MoAyIFyKznHxc5PNGG6Q7+ey4Bli8yAfPF3+98w4oA6IfePO4YUGowXWHk5/LZfK8hZLD\n2QnuOpF33V7MySfjmiCTn9fJp2fyRZz84hZEZTn5eVe8AqxMfjY3LIpVeN5U5Mtl8nxAGYezE9yF\nIt+HJGV317CcfDyiyBN5XddhGAZarRaAeHdNdgslsNgFUVmZ/LwtlEAyk5/VDYti0smHM3lFUWBZ\n1mScMSGLHmvAC68cTpy7TuTjcU1c9BaVyQcuPhiFG3fyaSMNAnYuk5+2ULqeC8dzoIhK7jnSBpQB\nyUx+Vjccjmscx4HjOFBDXxn8DVUUmKa5Y33yPK7hcKLsCZEfDs8XFsS8wmuZTL6IyAeUdfKLF/lg\nB6VpC6XpmtAkbfJBlEUwT95x/NZRSZretqhMPuzkg7+H+LUFkc3OTKHkffIcTpw9IfKvv/5f49at\n/7PQfedpoSwj8sEc+YDZnPxiZsqnFV6LRjXAOK5xjURUAyymT96/ttokk4/n8dPn8ouvO9dCyeMa\nDifMnhD54fA8bHu90H3jTp7VXbOIwmswRz4g3l1TJJNfVOE1bXZN0dWuwDSuib8PwM5k8vE8PiDo\nld+JKZQ8ruFwkuy6yLuuAV3/MWz7dqH7szL5neiTj8c1ZfvkJakFx+lFNv+elXAMEa5BFO2sAabd\nNfHOGmBnMvl4+2RA1MkvTuSDPWPD3w44HM4eEHldvwjAK+Hk81soi4h83mbeWZl8kT55QZBAiMzc\nuaosaS2URRdCAdPumry4ZtGZfOI6UjL5efvkg/MVqU9wOPcSuy7yw+E5SNIyLKuYk2e1UMZn18RF\n3nUBxwHk0GTgIpl8OK4p2ycPAKJYj7QUzkpaJl90IRQwXQyVFtfMO6DMv7YaPM9/z9My+SCuWfSo\nYV505XDY7LrIj0bn0Wr9VGEnnxfXsDJ50/Sde9jk7XR3DRA420Hu/fJItlCOFzWViWuk9LjmTmby\n07hmsZk875HncNjsusgPh+fQav30QguvcSefV2xkkZXJF+mu8a+tvJN/9tln8dWvfjVyLK3wWrq7\nZizy8ffiTmfyC4lrLl+O/MiHk3E4bPaAyJ9Hs/lTcJyNyA5PaeS1ULIKr3kRRRzP83Dz5k0cPHhw\ncuxOOflvfetbuHLlSux62Ctey3bXFMnk53Py07EG5QuvKjzPLFao9jzg0Ucjn9J8OBmHw2ZXRd7z\nTBjGG6jVHoMg1OA43dz7A4hluflOPk/Y4mxubqLRaERWa1YqFei6Pl6SX9zJh2e55NHr9XDp0iV0\nu9H3IbppSDSTL9Ndk9VCeacKr2mZPCEiCJFAac78Z//k/pzo4fS95e2THA6bXRX50egiKpUTEAQV\nirI/t43ScaKdNUD2piGzOvl4VAMAoihCluVx1LAzTv7s2bMAwBR51vZ/s3TXFMvkZ3PE4bhmNBqV\nyuT9xxfM5QeD6P/Bh5NxOGnsqsgPh+dQrT4GAJDlfbm5fLyzBijWQllW5OOdNQFBLl/U7ZbN5M+c\nOQNFURIin7UYShPnb6Fc1Dz5eVoogRK5PFPkeeGVw2Gxy07+PGq1kwCKizzLyQeiRymddHUs2skD\n01y+aFzjO9viTv7MmTN43/veh16vFzm+iExeldTcFkpKXVDqzLygyM/kR5O/h/y4huXkC7RRpoo8\nd/IcTpxCIk8I+TAh5BVCyEVCyG+k3OcUIeQMIeRHhJBvFTlv1MkXiWuSIh+JL3QdqqpCFMUdEfnA\nyRePa8o7+VOnTuVk8rO1UAZOXtcpM64xjOnsl1kXFBEijt24XqDwakZGDcdfWyYpcQ0XeQ4nSa7I\nE0IEAJ8D8CEAJwE8Qwh5JHafJoD/GcC/TSl9HMDPFnnyRTv5sLDsRFwTOPkiYw2Acpm8aZp49dVX\n8YEPfCAzk/cXDVmg1CvVQikJEggIdNNJbSddhBsOcvn8TD7p5AtPomSIPB9OxuGwKeLk3wvgEqX0\nTeq3PnwZwEdj9/k4gD+hlF4HAEppbtO755nQ9ddRrb4dgO/k81a9xtsngaj7C4quQL7IZ401KOLk\nixT5yjj5c+fO4cEHH8TKykpmJk8ImWTXZVa8Ar6bHxhm6nuxCJEPcvnZMvl5nDyPazgcFkVE/giA\nq6Gfr42PhXk7gA4h5FuEkBcIIT+fd9LR6BI07fgk/53HyQcZddAjDyRFPi2iYFEkk1+0k3/xxRfx\nzne+E81mMyLy08Fb4Z5y/9tLmbgG8HP5gWmkvhfzLIQKCEYbZGXyfiuqCUGIbnYyXybP++Q5HBZS\n/l0Kn+edAH4GQA3A9wgh36OU/jjtAaPROdRqj01+LiLyfgtlvLuGHdcEgkwphWGQUite47PkA6rV\nKobDPup1CkGQGY+MUqZP/syZM3j66aextLQUKbwG/eThnDz4YCvTQgn4Tn5kGmjVY8cjmfzOO3nD\nGIEQBX4SOGVeJ89bKDmcJEVE/jqA+0M/Hx0fC3MNwDql1ABgEEL+PwBPAkiI/HPPPQcA2Nr6Fn7i\nJ+7H44/7x4sUXovENYGwSJI06Ws3DK104TUtkx8Ot9Fs5rt4IIhrijn5M2fO4Gd/9mextLSEfr8P\nSikIIcwYIuzki3bXAGORt5JxzTSTn794WSyTHzFd93wtlOWv/fTp0zh9+nTkWPD7CQCnTp3CqVOn\nSp2Tw1kErN/NWSki8i8AeIgQcgzAKoCPAXgmdp//C8DvE0JEACqA9wH4n1gnC/4R/ehHP8L+/R+Z\nHC8a18jy/sixoLsmaNsLMnlgGtmUEXnDMDAajdButxO3+U6+W1hM4htbp78uFy+//DKeeuopSJIE\nTdMwGAzQaDSY7jr4YCsd14gqRoy4ZrGZvD/aILuFcpgi8gUnUQ6HQL2eWPEa/93IIy7izz//fETk\nOZzdgvW7OSu5mTyl1AXwqwC+DuAcgC9TSi8QQp4lhHxifJ9XAPw1gJcBfB/AFyil57POG+6sAVBw\nxWsyk58uh7cSwhKIfJmxBmtrazh48CCzjdB38r1CPfJAcSd/6dIlHDhwAK1WCwAiuTxLeIMPtpni\nGttIfS8WlcnnxTW6rjN78UvFNSsrjO4aHtdwOHEKZfKU0r8C8HDs2OdjP38GwGeKnM/zLOj6a6hU\n3j45JopL8LxguTt7MQ6r8Ar44uC6eqTwCoSdfDmRZ0U1wfl0vV9YTMLL/LMIiq4BgcgfPXqUKbyR\nuKZkd41hs+OaRTn54DXnZfJpTn5WkeeFVw6Hza6seNX1S9C0YxBDS/IJIZDlZdj2RurjWJk8EIie\nkerky4o8q+gK+E5+MOgX6qwBijv5oOgaEC6+pmXyrjtbd41us7trTHOxhdesTN402YJcKpNPiDx3\n8hwOi10R+eEw2lkTkFd8ZQ0oA6bOdqdF3nfyg8KRRtFMPi7y4biGncmP45oSi6GA6arX+HuhKIBl\nAY4z/4IiUazBMLrj8yqJ24OxBulOvmALJcPJ8+4aDifJLon8eVSrJxPH84qvflyzlDgeZNTphdfi\nIp+22hUI2jIHC3XylNJMkc/K5GfprjHdZFxDiF981XVrIU5+MNhmRjXAdMXrojN5PqCMw2GzKyIf\n75EPyFv1mh7X+OKwqEw+y8mPRsNS3TWeN8zcCOPq1auQZTnywRIX+axMvmx3jekm4xogeD/sud2w\nINTQ73czRd40k2OG/cfyuIbDWTS75uTDnTUBxZz8YuIaSZpu8B0mL5MfjUaFu2v8FZ0ElFqp9zlz\n5kyk6ArkO/ngQ22W7hrTTcY1gP/+6LqzECc/HPaYeTwQxDVpIj9v4ZWLPIcT546LvN9ZcxmVysOJ\n2/JEntVCCUwLkVkiH3evhLBXvWbFNcHsmjJikpfLv/jii5GoBvBFPii8pmXysxReNUmD5bFF3o9r\nFiXygxwnbyUmUALzZfJ8QBmHw+aOi7yu/xiadn+ksyYgq/BKqTeOLpLi4YtDuUweYIt8npMvL/LZ\nuXw8jwf87ppsJz9bC6UqqrC9ZCYPLNrJ93MyeWt+J3/wII9rOJwC3HGRD8+Qj5Pl5F13AFGsJuad\nANMWyjKZPJDM5SmliQ28w/hO3iwc1/jXlu3kWSKfl8lPFkPN0F1jeVmZvLeATL6a2iPvP48Gy7KZ\nIl9o1DCOUsJJAAAgAElEQVSlvrjv3w/oup+5gffJczhp3HGRj690DZO16pU1nCwg3F0zj8hvbm6i\nVqtBY90ZgZMvl/1mOfn19XX0ej2cOHEicjyZycdH8lZgOUNQUEhC8RlzmqTBQXombxjuQpz8aJQu\n8n4mzxb5QnGNaQKi6OdL1SownjTKB5RxOGx2xcmzOmuAPCfPzuOB/MIra6wBkBT5rKgmOJ+uW6Wc\nfFYmH7h4QYj+NRTpkx9ZA1SkSqldnDRJg0PZcY2fydMFxTV6ZuHVshwQkuyhLxTXDAb+3BrA//84\nsuGFVw6HzS6IPLtHHghEnu3k09ongak4zJLJlxH5SqUyzpMX4+RZUQ0QLbymZfKGMywV1QD+ilcH\nWXHN/CIvCDWMRnqqkxcEAbIswHGSo5rnE3leeOVwWNxxkTeMy6hWk501QCDyG8y+8jwnn9ddU0Tk\n0+bIh8/nRw3lnHzaTHlWZw1QpPCqYWTPIPKiBk8wwFiIOhH5RQwoG42MVJEHAEWR4DjJmCneJ3/t\n2jWY8co4Q+Q9zwGlHgjJn/HP4dxr3HGRV9WjqUIiCOp42FgvcVta+6T/OD+umbfwmjWcDAicvFNK\nCGd18lORTy7XF0XfyZdZ7QoAItUgqiZYCU/QabSIuEbXrRyRF2DbLJGPjhr+lV/5FXzlK1+J3iku\n8sPhpOg66wbkHM5bmTsu8mmdNQFpq16znbwGx9FhGAYqlalILTqu8Z28U9rJszL5wWCAq1ev4pFH\nHkncFog8pTQ9rinZWQMAgqdCUNhxSDBTfjGFVys1k/efS4RtJwU5Htdsbm7i9u3Y70IwSx4IOXne\nPsnhpHHHRT6tsyYgrfialcmLoj/nvVKpRIqYeSIf38w7L67xnbwLQoqLa5qTP3v2LB5//HHIcjJi\nUFUVgiDAMIz0wqs9mkHktVSR9508mTvXJkSBrlNUq+nn8Z28mLy+WFzT6/WwsRGbSsqMa3hnDYeT\nxh508uzia1YLpSBUxnuvRjcv9XdyYq94BcrHNX7RkDDz5PTHsDfzTotqAoLia3rhVS+1EAoABKpB\nkNktiv57IcztiAkhME0JlUr6e+SLPGu9Q7SFstvtFhR53iPP4aSxB538/lQnn5XJ9/vJpfS+yNuQ\nZUBgvNL4ite8uAYAVFWAaRZ/23wnn4xr0oquAUHxNW0xVNmRBgAARwXkdCdvWWQhjtiyxByRJ7Cs\n/LimuMjzuIbDSWMXnDy7syZglrhGEDQMh6MUkXeZUQ1QvrvGfwxboNLwM/nZnHwg8kwn75qlRZ64\nGkiKyPvRlbgQsTQMAZqW/h75Ip88HhZ5SmmJuIb3yHM4adxxkc9bSJS26jXPybNWWfqZvFdI5HW9\nh8Ggh06nk3N9yXk3WbCcvGVZePXVV/HEE0+kPi4Q+bSNvA3HLN1dQ1wNkNgXr6oUpnmnRB4phddp\nJj8cDuF5HtbXYx/4DJHnw8k4nHR2ZdRwFmlOPquF0i+8jpiZfFGRv3LlBbRaXmL1adZjisBy8ufO\nncMDDzyQ2YGS6+Qdq7STp7YKiGlxjQvLqkAQ5u81NwygUkkXeVkG08n7s2vMiYsHwOMaDmdO9qDI\nz+LkNQyHyQU4/hiCYiK/vn4djQaF6+qZ16coHkwzfROQOKJYTyyGOnv2LJ588snMx4ULr6xNQwzH\ngsaY5JkFtTXQFJFXFBuOU7w1NAt/jET6e6QoFJaVvF0QJBAigFIH3W4X+/fv54VXDmdO9qDIp2Xy\nPUhSencNaym9pmmwbTFVcMIiv7m5hnodsKy1zOtTFA+G4RV4JT4sJ3/+/HmcPJldgA4XXpNOXoXl\nudDkkiLvaKAiO66RZQu2nb6AqQy67kFR0t8jX+TZtwWTKLvdLu6//34MBgM44Z1deAslh1OKu0bk\n81a8jkZmQuQJIVDVZqrghEV+a+sWajXAslZTr83z7HFHjl3w1bAz+QsXLuDRRx/NfFxWJk8IgU0l\nqGLxVk4A8CwVnpBWeLVgWYsTeU1LF3lZprAs9u1B8bXX66HdbqPVamFzc3N6h8EACP6eazVeeOVw\nctiDIj/Lildf5OOZPABoWguy7DIfFxX59bGTzxJ5HaoqYjQeb1sEVp/8+fPn8dhj2esFms0mtre3\nxudI5uQWlaAKyQVFWXiWliryimLCthcT1+i6C01zUm+XZRemmSXyJrrdLmqtGjrLnWhkk5rJ87iG\nw2Gx50RekprwvCE8L+qW81ooRyObOS9FUZYgSfkiv729iXodMM1ska9UJOh6dm4fJu7kdV3HjRs3\n8OCDD2Y+zhf5jdQYwqYSFLGcyLumBpekOXkTtj2/UFJKYRgOFCX9246ieLAs9t9J2MmfPXEW4iNi\nrsizvu1wOByfPSfyhAiQpOVIZEMpzXTyoljJEXm2qwyPNdje3kajIWU6edcdQVXlUk4+nslfvHgR\nDz74ICQpO2rxC6/bqeJleyK0kiLvmDIoXLheUmBl2YBtzy+UpmlCkgSQlA8T/7ncjLhmmslbqgWl\noxRw8rzwyuGksedEHkjm8v5SdwGCwJiRCz+u0fV0kRdFtqsMO/lut4tW60BuXFOpyKWcvD9Z0Zl8\nMzl//nxuHg8Ehdd0kbeoAFUoN3XRNAkkqDDdZPFVlnVY1vwiPxwOUakomVseSpIL02R/8AaTKLvd\nLhzRgdyQC8Y13MlzOCzuCpH3oxp2Zw0AECJD1ykqlaSbk6Q6BCFd5IOFTd3uAMvLR3KdvKYppZw8\nISQyifLChQu5eTwwLbymirwnQCkp8oYBSNBgOEmXrSg6LIsx4Kckw+EQ1aqaOkOfUgpZdjJFPohr\nTMGEVJcKiTzvruFw2OxJkY+venXdXmpUAwRDsUTUakmRkuV6ISff6w2xb9+J3Ey+WlVLOXkg2itf\n1Mn7It/LyORJaZE3TUAiGkyH5eRHCxH50WiEalWD67I/CCm1oaoCrJQeykDku90uDBhAJbYgKjxq\nuFbz58nzFa8cTip7UuTjTj6rfTJA1wXmUCxRrIOQrMmL/p97PQP7978ts0/e80bQNLWUk/evYZrL\nF2mfBIJMfpDh5AmUcpE8DAOQicp08r7Is+OwMvhOXkuNazzPgKLIMFKWDQeZ/HZvGyY1QRU6HW3g\nuv4nVbBngKIAggBqDnlcw+GksEdFPu7k80XeNAmq1aTqiWKtoMib2L//UTjOBjyPHSW4ro5KpTKT\nk3fdIWzbxuXLl/H2t7899zHNZhP9frp4mR6glNwIyRd5dlwjy8MFxjXV1LjG8wxompIh8n4L5cbQ\nd++O5Eyd/HDou/fwDlDjyIaLPIfDZo+KPCuTzxZ5wyApTr6S2ukRFvl+38a+ffeNO3tuMe/veX4U\nUdbJB73yly9fxtGjRyO7V6VRrVZhmhZcly28lkehisXHKwC+CVYELaXwOoRpzj+3xt9nt5rh5E2o\napaT9+OaLd1fI2AK5lTkw3l8QL0O2h/wuIbDSWHPinx4QVQRJ28YQLWafDmEVEFpvsgPBi6Wl49C\nVQ+lFl/97prqzE5+sgjqpZeAP/iDzMcQQtBoVGAY7FZLywUUUny8AuC/VkVMi2sGsKz5RX40GqFW\nY8/QB6ZOPrFB95hJC6XVhSqq0KmeK/IY8LiGw0ljj4r8/tKZ/GhEoarJ/IKQCihli3Ig8q5rYzAA\nOp3DUJRDqcVX1x2hUqnOnMlP8vgXXgD++I9zH9doVDAcsoN30/MgzSDyqpgW1wxgWeXGJLDwnXy2\nyKuqmuvk+3Yf9zXuw9Ad5oo8GY64k+dwUtijIh+Pa9KHkwUYhodKheXkNVDKFuVA5Pv9VUgSoKoa\nFCXbyddqtfmd/OYmcONG7uMaDQ3DIfuvyHQ9qAJ71WgapumLPKu7RpJ8kffKfW4k8EW+kZnJ54u8\niaE7xInWCfSsHjY3N0EpzRB53kLJ4aSxR0W+fOHVH4rFyqjT2/kCkV9fv4ZGw3fMirKSKvK+k6/N\n4OTrUSe/uQmsprdqBjQaCkYjdnXV8lzIJH0+DAvDAFSJHdf4c3mcUhuisBgOh6jXlzIzeU3TMkXe\nNIewRRv3te+D7dmQKzL6/X6GyPMBZRxOGoVEnhDyYULIK4SQi4SQ38i433sIITYh5N+d56Jk2R9r\nQKkv2nlxjeu6cBwPipJ0tpSqqYIT7PK0sXEdjYY0Ppbn5BszOPkaHKePV199dSry29tAzodFo6Fg\nmLJw1HCdmUS+IrHjGl/k3blFfjQaoV5v5cQ1WmomT4iKXq8Ltamio3XQ1tpor7T9yCZT5Hlcw+Gw\nyBV5QogA4HMAPgTgJIBnCCGPpNzvnwH463kvyu+IkeG6fQD5Tt5fSi8xC6yely7yguAL/c2bt9Bo\n+F0sqpqeyfvdNY2ZnPyVK9fR6XTQaDSALb9zJM/N12oSBgN2B43pulBKxjWGAVRkdneN5+njWfml\nTpnAj2ua8DwdlCazH7/wmu3ke70+lCUFLa2FltbC0sGldJGv1UCGJnfyHE4KRZz8ewFcopS+SSm1\nAXwZwEcZ9/vPAPwxAHb/YUn8Va9+Lp/XQjkYDFCpyJP9QcN4ngLbTm6kHaBpwO3bm1ha0sbPeyh1\nQZTr6qjVlmZy8hcvXp+OM9jc9Hu9c0S+XhcxGLC+nVCYrg2Rpuy8kYJpApqcHtdoGl2IyNfr9XG2\nnnyffJGvZop8t9uH3JAnIl9frk9FPj6fqF6HMLK4k+dwUigi8kcAXA39fG18bAIh5DCAf4dS+r8C\nKLlEh024+FrEyVerMnPrPteV4TjZIn/rVhdLS/4s9by4plpdmsnJX7y4Ol3purkJnDiRW3z1RT4Z\nydieDQECBJTLVgwDqMrsuMZ1dajqopx8bdxRlHyfKDVRqVQyWih9J0+qBO1KGy2thUqn4q96TYtr\nRjZ38hxOCosqvP4ugHBWP7fQh4uvfiaf3l0zHYrFFnnL6qU+VtOAjY0Bmk1fPAInH9QDwnjeCLVa\ns7STF4QaLl++PXXyW1vAyZO5Il+rEQyHSZE3HAOqJDNfbxaGAVRVdneN7+SxkEy+VqtBENgLovxM\nPsvJq+j3hyAaQUtroV1pQ22qqXENrdUgjGzu5DmcFIo0Rl8HcH/o56PjY2HeDeDLhBACYB+Av08I\nsSmlX4mf7Lnnnpv8+dSpUzh16hTzSaNOvpcZ10xFPikcjiOB0myR39420Gz6HyKiqEEUq3CcTcjy\ncuS+flzTgq7roJSCkGKfZaJYx49/vIVPfjLk5E+eLBDXEKyvJ4erGY6BisT+UMvCNIGamlV4xUKc\nfLVahSjWmG2UnmegUsmOa/r9ETzV8+MatYVBYzAV+YMHI/en9QoknUAQyvf4nz59GqdPn44cK/r7\nyeHsJKzfzVkp8i/jBQAPEUKOAVgF8DEAz4TvQCl9IPgzIeRLAP6CJfBA9B9RFuFVr3lxzWAwQK3G\nFj3HEeG62SK/tWXi7W9vTY4FC6LiIu95I8hyDYrir9jUtGLuURCqeO21vh/X2LavpA8/DHzzm5mP\nq1Yp+v2ktdZtHaqoMOOpLAwDqCoqDIeVleuRFcCzEo1rWCJvQtNqMAyD+UEZiLwru5NM/kbtBjau\nbPjdSHEnX1UgGiUntY2Ji/jzzz9f+PeTw9lJWL+bs5Ib11BKXQC/CuDrAM4B+DKl9AIh5FlCyCdY\nD5n5akKEV73mtVD67rHCFHnbFmGa3dTHahrQ7TpotTqTY2m5vL85RRWVSqVULn/7tgFZBvbt2+dH\nNa0WcORIrpNPE3nDMaBJ7G8uWRgGUNfSM3lNIwsTeX9eD9vJy3IFkiTBcZJRlB/X6LBFG23Nz+Sh\nIjWu8WoKpBlFnsO5Fyj0HZdS+lcAHo4d+3zKff+TBVwXZHkfdP0ygKKF1wrT2dq2AMfZTn2spgG9\nHkWrtW9yLE3kXXcEQaigWi03v+bHP76J48fHY3w3N4FOBzh0qEAm76LXY4t8RWJ/qKVBKWBZvshf\nH7Iz+UpFWFgm73npIi8I2mTVqyxH5+X4hVcTZsecZPKu4voiL8tJka9IEPWF1Po5nLcke3LFKzAt\nvFLqwvMMiGJya78Av22vxnS2pkmgjycastA0jOfWHJgcS1v16u9AVN7JX7x4DcePj91mIPKHDxcQ\neQeDQfI1+U6e3aKYhmUBkgRomStehTuSyQuCltorLwgaukP/uCZpaGkt2KKd7uSrEsQ5r5nDeSuz\nh0XeL7y67mC88Ue6WxsMBuMZ5knRyxN5VQWGQwGdzsHQMfaCqFmd/Kuvvon77x8vDNra8kW+3fbz\nk4wPi2rVRq+XFErd0aGVdPKG4X+gaRkrXisV8Y5k8oKgQtPYq14FQcOWbqIm1kCI32FjwswQeRFi\nudIEh3NPscdF/nahCZTBAhyW6BkGAWDAttO3ABwOZbTbhybHsjL5WZz8K69cxv33j59/c9MXeEL8\nyCYjl9c0C71essffcAxU5GqpwqtpTkU+vuKVUjouiC5O5LMy+XBcE0cQVPQsG3XJF/OW1sLIG6WK\nvFsVIOoLKQNxOG9J9qzIByte89ongel423hc4zh+Fl2rpW/Z53eUSFhePhp6bvaqV8+bzcm/8spF\n3HefBUrdaVwD5EY2mmZiMBjBi42GNBwDmsz+5pKGYfjfWlgDyjzPBCEyKhUyVyZPKYWu65O4Jkvk\ns+Kavu1gSfFbWttaGz2753fjsJx8RYAwmnN0JofzFmbPirwkteG6fTjOViEn74+3jYpeEFFUq+kz\n4FWVwjBU7Nt33+QYy8l7nj1u+ZNLOfmNjQ0YhoEDB6r+CtAgrgF8kc9w8oQYqNWq/gTGELqtoyLV\nFhbX+F1Dlbn75HVdh6qqEARhrkx+4DpoV9oAfCe/bWyj0+mA9vtJJ18BRL3cDB8O515iz4o8IQIk\nqQ3DeDNX5AeDARqNZiK+KCLykmSAUg3VanNyjLU7lB/VVEAIKeXkg/HCkjTeSCOIa4DcDhvP08cb\nekf7/A3HQFWugVLH/3ZQgLDIx1e8Bq9t3j75IKoBkDrWwP/WkJ7JE6JCpxSdqv9B2NSaY5FvgwR7\nvIZwFQ/E8vxNvjkcToI9K/JA0Eb5WsFMfmkmJ09pH4pSiRR2RXEJlLqRmTdBjzyAUk7+woULeOyx\nxyYz5YvGNUFO3my20O1G+/yD7ppgF6UimOY4rmFs/xc4+UWKfNZYg+xMXoNOKfbV/JZWTdIgCiIO\nLjfhSZLfIhQ+HzXhVSSkzmTmcO5x9rzIG8brBTP5ZkLwioi853WhKNXIMUJIIrIJOmsAlHLy58+f\nx6OPPjqNL8Iin1F49TwDhChYWlpKiLzfXaNBENhrA1hkxTWuOxX5eTL5oEcewMxxDSEqLAHYv7R/\ncqyttXFwuQaHscLY83R4VcUvynI4nAR7XOT3wzBeyxxOBvgi32i0Ek4+6CjJEnnX7UKWq4njcZEP\nOmuAOZ381tY0rslw8kGE0mw2mU6+IlcgCMXbKCNxjZuMa3x3vei4JinylJqZIm8YFoQqsFydrkBu\naS10agpMObnRuOfpoFWZizyHk8KeFnnPa+Ef/+MfQteVzPsNh0MsLXVmimscZwuyXE8cj+fyQaQB\nzO7kJ5l8gcJr8HxpIq9JGkSxuMhP4hpmd83i4ppq1f8gzG6hVKGqKjOT73a7kOrAUujbVUtroVkR\nYYrJ8QWeZ4BWVS7yHE4Ke1rk/+W/fB3f/OYIV69mZwiDwQD1enumuMa2tyFJydW0irISWRAVjmuK\nOvl+v4/19XUcO3aMnclnFF6DCIVVeNXtaVwzi5NnifzOFF7LxzW9Xg9CDWiq07+TltZCXQFGTJHX\nQWtc5DmcNPasyK+treEP//CHeOABYHU1W+T9uKYDzzMjc+CLiLxlbaWIfHpcU9TJv/LKK3j44Ych\niqLvbJ2Bv7drENdkrHot4uR9kS+mylndNXspk+92uyAVgqY6dfLtShtV4oEl455ngNYqXOQ5nBT2\nrMh/+tOfxsc+9tN48kng+vXszgm/u6YBQpSI6BUT+W2IYjKuiS+ImsXJB+2TgD9T3uuu+xcUZMuE\npEY2gbtmFV6DAWVlCq9BfSKru+ZOZPJ5Yw16vR6gAUvKtMjaUlvQ4KDvJRc9ua7ORZ7DyWBPivyZ\nM2fw1a9+Fb/+6/8pVlaA69fT58ED6fuKFhF509yGIOyMkz9//vxkNyhRrIFurE+jmoCUyCbLyU+7\na4oPKQuveDXd6DeeO5/Jp7dQdrtdeCqwpKiTYy2tBcW10GX0wnueDlqvcpHncFLYcyJPKcUnP/lJ\nPP/881hePoaDB4Hr19NHBVuWBUopFEUZFyKjTl5V80WekGR3TbLwOr+Tx9ZGUuRTOmzCmfwiCq/B\nB55ABCiiAsudbgK+lzL5brcLVwKW5JjI2xa2GPOHPM8AalXeJ8/hpHDHRZ61d2qYP/3TP8X29jZ+\n8Rd/EbK8HysrwLVr66n3jy7AqZR28oaxDYDdQhktvE4XQ83q5COrXQMy4pq0wussLZRBXAMki6++\n8O58Ju8v8DImcU2ayDsSRSPULtmutCFaBjYsK3F/z9P9UQfcyXM4TO64yG8zdgMKMAwDn/rUp/A7\nv/M7EEURsrwPBw8CV68mh4UFxEU+nFEXEXld74HSpMjL8j64bg+e5wuL540gisWdvGVZuHr1Kh56\n6CEAvpMnW91ScU1an/ysi6HUsTmO5/LhwuuinDwh8ljUp+6bUgeEiCBETG2hvN27DZESiGT6e9LS\nWhANHRuGkRjWxkWew8nmjov8TYYbC/jd3/1dvOMd78DP/MzPAABEsYp2uwLLchJuNiAq8lrpwqsv\n8smVlIQIkOUDk+JreKxBESe/urqK/fv3T3Y+EsUayHavcFwTOPm0wuusLZRAckHUIguvQSZPCElE\nNkFUAyDVya/316FBhOdNr6+ltSAMR7AUBdvb0ejO8wyg0eAiz+GkcMdFfi1F5NfW1vCZz3wGn/nM\nZyLH3/a238GxY8fw5ptvMh/n98j73TGzxDW63ofrsjfkDufyZbtrVldXcejQdEa97+T7ybgmZbRB\nXiZfkSqJGkQWcZGPxjWLz+SBZGRTSOSH66gKUuR1tbU2hKG/iffGxkbk/q6rg9SXuMhzOCnsGZH/\n9Kc/jV/4hV+YxBsBhw8/i2PHjqeKfLTYFxX5ImMNRqMBHIe9ojacy5ftrrlx4wYOHz48+VkQahC2\nh6WdfH6ffLkVr0By1Wu4u2ZRmTyQLL767ZNTkWfFNZujTdREOSLyLa0FaWRAWFpKiLznGUC9yUWe\nw0mh0Ebei4Ql8kHL5Kuvvsp8zPHjx/HGG28wb8uLa/btyxP5EVQ1ORMFiO71uggnT7s6W+Qz+uSD\nwqs/y96flDld8arBdfuJx7LIcvL+twZt4U4+3kbpD13zP2lSWyitLhqSmhB5WbcgtVoMkddBGi0u\n8hxOCnc+k2e0wf3+7/8+PvWpT6HZbDIegcy4Zp7uGssyYJoGTJP9NoQXRJV18kmRr0HoGsm4ptXy\n7XOsBTBw17IsQ5blyPOFu2vKTqEEkqtedyKTB1hOPj+u6Vt9LKlaJJNvak1ohg2p3WaKvLDERZ7D\nSWNPxDWXL1/G008/nfqYPJEPZ/Jlums2N6+hVjPH+8AmCS+IivfJlxf5OsSulXTyKXu9Bu4aQKL4\nOndcI7LjGlUFLAtgLCwtxMbGBjqh1zdLJj9wBuhUahEnLwkSlmwB4j52XEMabS7yHE4Ke0Lk33jj\nDZw4cSL1MceOHUuNawaDQSyuKS7yGxtX0Wg4qe41WniNbhqi63pmzz/LyUtdJynyADOyCU+9jOfy\nQQvlLIuhgPTCKyGYCP0sXLt2DUePTvfKjTv5YMwwgNQWyhEdoVNtJArKS7YAstxIiWs6XOQ5nBR2\nvYXStm2sra1FxCHO8ePFCq/xgV15K143N1extCSAEH/T7zjRwuu0T14QBCiKwhSpgHjhVRTrEPtu\nMq4BmL3yaSJPKYXpmDMPKAOSLZRBJw+AmXP5wWAAy7LQDr0+ViYvCOr4eVLmycPAvnpS5OsWAd1X\nYzp5gYs8h5PKrjv5q1evYmVlZdJPzmJlZQXdbpcZkWR11+THNatoNJRUYYvGNVMnD2QXcwG2k5d7\nFJQl8owOm8BdA4iserVcC7IoQyDCwrtrAMycy1+/fh1HjhyJbaNYLpN3HAeO5OBAow1Kox+gNYuC\nLlcjIh9skSgsLXOR53BSuOMif9u24YZijjfeeAPHjx/PfIwgCDh69CiuXLmSuC2eyZcT+VtYWkrv\nD1eUg7Dt26DUjbhdIDuXdxwHm5ubOHDgwOQYsV0QG/CqyZnorLgm/HxhJx9ENf7r1WYrvIrJuGZe\nJx+IfJiymXyv14NUl9DSlhJOvmp6cNpaROSDLRJJfbwYKmdkBodzL3LHRb4pitgIddjk5fEBaW2U\nyUw+ueI1LUPf2rqNpaVaqrAJggJJasK21yNxDZDt5G/evIl9+/ZBDG9ysbUFZ4nAZcxYLxPXBAuh\n/OubY8VrrLsmeG2z9spfv349Ebn5m3lP36NgzDDAzuR7vR7EmoimFtuv17YhuRTOkoT19fXQ+cYf\nGrLs/zdPaxCH8xbljov8iqJEcvkiTh5I77ApMrtGEARmX/b29iZarUamew1y+Xhck+Xk41ENAGBz\nE25DZE5mZMc1xkTkw901QWcNkIynsggPKEvGNcbcTv7atWtMJ18mrgk2DGlpzUgLJYZDmJoMT6Ex\nJz/9cOLzazgcNrsi8uFc/vXXX1+oyLPiGoDtvLvdbTSbSzki7y+ICi+GSjtfQLzoCgDY3ITTlP0t\nAOMwWijjmfwkrrHDcU05Jx9k8uzFUIvJ5MOUjWu63S6oStHWOlEnPxjArqhwJCch8pO/k3qdjxvm\ncBjccZE/GBP5onFNWhtlcsVrcqwBwBbl7e0ums1WrpO3rNXIYihgBie/tQW3qZRw8tG4Jii8hp38\nXIuhGAPKgPmcfDyuyRprkBbXuLKLdiUm8sMhnJqGgTsApXTy9xj+0OBOnsNhs+tOvmhck9ZGGR5Q\nxtmiN40AACAASURBVNo0JNvJD9BqdQrENddAqQtCph1AWU4+La7xmhrbybdafnN6yImmFV6D1a5A\nsmU0i7Q+eUpdUGqHWhtnz+TjTj6rhVKS/IkaTqh3dWt7C67ooqm1Ek7eq1XRNbtYXl6euPlIMZyL\nPIfDZFczecuycOvWrYQ4sNiZuGaIdnt/psir6iHo+msQxWqkPXCWTN5rVhMbaQBgrnpNK7yGu2uK\nZvKUpq94Ddxw8Nrm6a7Jd/Ih541kZHOrewsylSGJ1WgmPxgAtRq2je2IyHMnz+Hks6tO/sqVKzh8\n+PDE1WVx5MgR3Lx5E1asz75I4RVgi3y/r6PTOZCZQyvKIRjGa5E8Pu18ATdu3GDGNV67xnbyQCKy\nCWfyaYXXonu8Oo7/ORK8zeHumvD4BGC2TN62bayvr+PgwYOR41mZPJAU+Zu9m6igkuiSwmAA0mgw\nRJ47eQ4nj13N5Ivm8QAgyzIOHTqEa9euRY4X2TQEYItyr2ei0zmUG9fo+uVIZw2Q7+RZhVfarLMz\neSDRK1+khZIQBZQ6oDS5wXWY8PsAjOMaN3Dy0f7/WZz82toa9u/fn/iwzsrkgWQuf7t/G1WhCkLU\nhMiLjSa29K2EyPPuGg4nm1118kXz+ABWZJO2GMrz/JhbGY+KZzt5G53OSmYO7Rdeb0R65NPOF5AW\n19BOM93Jh3rlPc8Bpd6kBhAuvIa7awghhYqv4agGiLZQskS+bCbPimqA7FHD/nNFnfzmaBN1qT7+\nsI7GNdJSi8c1HM4MFBJ5QsiHCSGvEEIuEkJ+g3H7xwkhZ8f/fZsQ8kTauVYUZTJueF6Rp5RGFkOF\nM+pA2IIYnSXKg4GL5eX7cjN5AIWdvOu6uH37diK6wOYmaKuV7eQnIu8Lb5CTx518IPL+deXn8iwn\nH8Q1ETeM2Zw8q0ceKJ/Jb+lbWFKWmHGNvNTmcQ2HMwO5Ik8IEQB8DsCHAJwE8Awh5JHY3V4D8FOU\n0icB/LcA/nna+ZZlGduOA9vzCvfIB8RF3jRNSJI0iQnCGXVc2OIi77ouRiOKTudoprCJYg2i2Cic\nya+vr6PZbEJRYrtNbW0B7XZ2Jr8a3oVq+nxpcY1/ffkdNsy4Zuzk4+MaZsnk05x8kUw+HNf0rJ6/\nnytD5JVmByN7hFanNVn1yp08h5NPESf/XgCXKKVvUkptAF8G8NHwHSil36eUBrNwvw8gtV1GJAT7\nZBm3bLtUJg8kRxskdyKaCl6eyHe7t1CpALJczXWvinIo0iMPpDt5ZtEVADY3QZaX0518JK6JRyga\nHMeBZVkzOflEXCNmxzWLcvLxsQb+qOHphcRXIfftPtqVNgQhmcmTRgNL6hKq7SpvoeRwSlBE5I8A\nuBr6+RoyRBzALwL4WtYJg1x+3riGJfJBPp0n8uvr11Cr+S8/X+RXCjt5ZtEVGIv8/kLdNXF3TQiZ\nuPlwC2XwmmeJaxadybPjmio8Twel3vi5suOagTvAvvo+CIIWnUI5GAD1OlpaC0pTYcc1tRoXeQ6H\nwUL3eCWEfBDALwD4ybT7PPfcc+jfvIn/sVrFrVu32IKYQlzkwwuhgKngUUphGCRT5Dc3r6HR8F9+\nEScf7pEH0p08s+jqecD2NkjnALytDCcfimviHypB8TW8GMp/zfmTKJmZvJueyW9vZ54uQVpcQ4gw\nidD86CZb5A1q4EDjADOuQb2OltWCVJcWVng9ffo0Tp8+HTn23HPPTf586tQpnDp1qtQ5OZxFwPrd\nnJUiIn8dwP2hn4+Oj0UghLwDwBcAfJhSupV2sueeew5vXLiAt5smXvjzP49Oaszh/vvvx7Vr1+C6\nLkRRZDh5CQABpQ5MU44IW6VSwe3btyc/b26uYWlpuspz3LzCRFUPwXG6kWNZTj4h8v0+UK1CVDO6\na0KrXuPCC0xzecMx0NJaodc8Q1wjxRdDzZfJp8U1wLT46ot8dgulQQwcaB4AIRIo9eB5jv93Ol4M\n1RJaEKtixMnL8rL/4BlEPi7izz//fETkOZzdgvW7OStF4poXADxECDlGCFEAfAzAV8J3IITcD+BP\nAPw8pfRy3glXFAWX1tdL5fGA7/w6nQ5Wx443LvLAtMMmL67Z3LyJpaVgWFa2sKnqUYhiPXKslJPf\n3AQ6nUS3SQRCJsXXNCff7XYjLZTh15tFmcJr2UyeUpoa1wDRNsrwWAP/uaZOnlIKW7RxqH1o3Bqq\nTiObsZNvV9rwVI9313A4JcgVeeqvtPlVAF8HcA7AlymlFwghzxJCPjG+228C6AD4XwghZwghP8w6\n54qi4Eq/XyqPDwhHNiyRD5xtnshvb99Go1FsKNehQ5/AsWP/TeRYmpNPW+3qi3w93cn7TwTcuJEQ\nXmC66jXeXbOIFsp5MvmNjQ1Uq1VUq1Xm7eEPtqy4Rtd1QAMONA6MX1eoVz6Ia9QWbNFGv9+H4zi8\nu4bDKUChTJ5S+lcAHo4d+3zoz78E4JeKPumKouCGYeCDc4j8Bz7wgUQmD/ji8ObWZVzvudC0ad4f\nF+WtrXU0m/5j8yIKSWoAaESOZTl51mpXtNuJxUEJxsVX7xEx1ckbDVZ3TbkWynh3zTx98lkuHoi2\nUWa1UHa7XQhVYRJFRXL5QOT1FnpWD81mE1tbW7y7hsMpwEILr0U5qCjYoLR0XANE2yjTnPw//e7v\nYWP1KDTttyfHk05+C63WEoDZOkpKZfKTuCbHyU/immVmJt/r9aBrye6asites7prymbyaUXXgKiT\nT2bygZPv9XpABSGRV5Mi34+uek04eT5PnsNJcMfHGgC+k+/L8o7FNWdvnsMbw3MRYUv2yXfRavmC\nMktvOMvJU0qxtraWEdfkOPlxXJOVycf75GfJ5FVJhemaoJQmBpSVfS+yiq5A8Uy+2+2CKhRtrT1+\nXCiuGQ4nmXx4fg3P5DmcfHZN5M1qdUdE3iMqzq1fwlXzRzmZfA/Npi8os4g8y8lvbm6iWq1CCz+x\nfwPQbo9FfpDYa3bCOK5hZfJhkY+3UJYVeUmQIBABjufMnckXiWuKZPIb2xugAkVVroZeV8zJay1s\nm76Tv3TpEh9QxuEUYFdEXrVtUFlG68CB3Pv+k8uXMXKnUxbjcU08k78y8nC0sR8jrwtSmTZ8J538\nEO32PgCLc/JZq13R6UAQFBAigFIreR8AOHwYV058H6PRhdTC6yyLoeJxDTDN5edd8Vokrgln8uEB\nZeEWytWtVciePFmPMBF5Sn0nX6v5Im9sY2lpCb/0S7+E7e3B9END0/wW1NAmJBwOZ5dE/sqVK5AG\nA9zO+QfZcxz8D1ev4kzIoR07dgxXrlxJDCcLuNiz8MT+B3BQeBTD2rnJ8bjI9/sjtNv+h8yinHzq\natdxXAMgM5enKyu49q4rGI3OZ/bJl83k404emC6Iihdey2by+XGNP9rA85zx4qhpGSjs5Ne216DS\n6QfAZNywrvsXJYoTkfc8D47j4NVXt6YfUITwXJ7DYbArIv/GG2+gahiRbQBZvDwW97Mhka/X65OF\nTay45pXuCI8v34/99HH01HSR7/UMdDr+pMhZRD4QqHD0wiy6ApO4BkhOZgwz6vRgtR2Y5o3sFa9z\ntlAC0+LrvH3yRQuvcRfvP9dU5G/3b6NKpm2Yk0x+HNUAQFvzM/ng7/HixV4k/uGRDYeTZNdEvuV5\nk5HDabw0GKAiCHgp9g83yOVZIv9qt4eTncPouCexrWQ5eRvtti/Is4i8IAiJAVuZIl/AyW/a30H7\nRQG2ebPkYqjsi2fGNVJ6XFMmk89z8kFcE8/j/eeaivz6cB1VIS7yRkTkAye/vb2NVquFS5dG0feJ\nizyHk2BXRP7111/HAUnKdfIvDQb4915/HS91oyMFglw+LvKUUryyvY2TnRW07ZNYF340uS0p8g6W\nl31xmnVf03guX0Tks3rlN7e+jsPf3Q/PMxO7PWXFNbM6edMx58rkR6MRDMNAZ/zaWARO3p9AGb2I\ncCa/NdpCQ56uRcgS+bW1NRw+fBiXLhlc5DmcHHbNyR+t1XJF/uz2Nn7+c5/DueEQjudNjgdOPr4Y\n6vXt11GVZLRVCQ39cdzG1MmrqgrbtuE4zjjP97C8fB+A2UU+/sGRWngtkMm77gi93vfQ3j4BxazB\nsm5Fbo+seJ2zuwaYxjXzZPJBZ018eFuY4EMt3j4JRJ38trGNptoMPU5NiHxVrsJyLFy9ehX1eh1v\nvOHA80JLPbjIczgJdk3kH2y3M0Xe8Tyc03W8/9w5HDYMXAo55rS45szqGTzWOQjP0yHpR+DAwPrI\n32CCEIJqtQpd1zEc9iHLQKXiC+8dcfI5mfz29v+Lev2dkPYdg7qtwLJuRG7PGjVcdjEUEO6uMWZ2\n8nlRDRDN5LPimq7VjQ1eG48bDok8IQRLwyUstZYwHA7R6QCvvRaalcdFnsNJsGsi/8iBA7iZIfIX\ndR1HdR2NQ4fw5PXrkVz++PHjbJFfO4PHl4/A8wyYBsFh+TGcu5XM5dfXr6JWI/A3vZpt8mL4fAHM\n7hrTBGzbn3eOdCe/ufnX6HQ+BDz1FGqXXJhmdMPyer2O4WgIy7WgilPFniuucU3mzlC27Xcu5pHX\nIw9kZ/LhuGboDLFcXQ69rmRcAwDquoqHHnkIGxsbePBB4OWXz09PyGfKczgJ7rjID4dD9Ho9PHzg\nQKaTf2kwwJNXrwK//Mt46qWXIh02x44dY2byvsgfg+v6A8rurzyOc7eTIr+xMZ0lD/ibfTuOP/a9\nDGEnTyllO/kgqhlHGvEt8aZ3G4v8+9+P1vcNGMYbkdsFQcDBwwehimokHpllxSsQjWuiG5T470eR\n4uu1a9cyO2v86wucfDKTDzv5oTfEvvq+yW2RuCY8TvqWgIdO+iL/wAMSXn755ekJuZPncBLccZF/\n8803cezYMRwa7w6Vxkv9Pp568UXgH/5DPHXxIl4aj5cF0jP5M6tn8MT+E5MplMerJ5lOfmtrFY2G\nPDlOiO9g55lf0+v1IIpiYnFWOKoB2E7eMN6EbW+gXn8aePe70f62DtO8Cs+Lvj/vfv+7IdLo/P2i\nA8qyumviPflFv9kUcfJFM3kD/iz56eOSLZQAYN+wcfTho/jQh/5N/OhHwNmzZ6cn5CLP4SS44yIf\nbPkXbAGYtsT/7Pq67+SPHsWTzWbEybfbbXieh/X19YmTvzm4CcMxcF/j0ETkH2ycxI9uJztswhuG\nBMy76jVvtWsAK5Pf3PxrtNt/z4+PajXYh1So3j6MRhci93vX+94FxLpOi654LerkgeLvRV6PPFA8\nkzeJiZXmyuS2tLhmeG2IfQ/sw5e+9LvY2gK+/e1vT0/IRZ7DSbBrIl+XJAgABq6buA+lFGdGIzzV\nbgOE4Oijj8JyXayNrTYhBMePH4fneZM55mfWzuDpQ09DkqrwPAOGATzcfhznbp2bfJBMnfwtNBrR\n+efzrnpNLbqGOmsAtpOf5PFjBo+rqG80MRicjdzvqXc/BceIrhKea8WrYyYGlAGAqnr4sz/7V5nn\nBIoWXquFMnlbtHG4M61nsER+e3sb9sCGul9FtSrg937vMAaDAT73uc/5D+Iiz+EkuOMi//rrr09G\nDB9MiWzWLAue4+DIo48CAMh73oOnrl/H2dCS9WPHjkHTtMn2gWdWz+Dplacjm4YcahwEBcWtod+O\nOBX5dTSb0UVU8zr5rA28w3GNH19MhcjzbGxv/z/odP7e5Fj3pID6qx4Gg5cipzrxthOwDRvboU1Y\ni7ZQsrprRvYQAAUhcuQ21x3ik5/8J5GFXiyKxzWjzEzedV14iofD7bDIJ1soX375Zew/vh89qwfP\n03Hw4BKefvpp/OZv/ia++c1vcpHncBjsmpMHMIls4pwdDPDktWsg732vf+A978GTL7+Ms/3+5D7H\njh2L5vFrgchrk8JrpULw+IHH8aNbfmQzFflNNJvRTUB2zMkn4pp6JK7p9X4ATTsBRTk4PfaYh8Z3\nbiWcvAMHNaWG7373u6HzzR7X6HYfglBJ9LkbRheWRaJRSAzHcXD79m2srKyk3se/vvxMvtfrgVQI\nOtXp+8TK5M+ePYujbzuKLX1r8s3g/e9/Pz7+8Y/jmWeewbXtbT67hsOJsesiz2qjfKnfx1NnzwLv\nfrd/YGUFT62u4qW1tcl9jh8/nuisefrQ05NCZBBRnNx/ctJhE4hyt7uNVqsZec5FOPlicU3UyU+6\nakKMVkzULxEMei9GahaGY6BVb0XEd74Vr8NE0RUAhsMNfPCDH8E3vvGN1HOura1h3759kGU59T5A\nsRbKbrcLqtFEn7znGZNZ8oAv8g88+sB4SJlfS3jyyScxGAzw2c9+Fv/9Zz+LUWizdg6Hswsiv/ra\na/lOfnUVT/3/7Z15fJTltce/Z2YymSSTPSSBgEH2sAVUICAWVIio4HbbiktLLbbW4lJ7udrWesu9\n1WrV23trsS51q7bWam1dEDWo7IqgMQkYCAEStpAEsm8zmeW5f7wzk5nJJISsQN7f5/N+Zt73PM95\nzjx5c97znuec8wRZwJkxMeTV1/vO09PTfUq+3l7PsYZjjE8c71N6Xut10pC2CBuvktdqyccFjNlT\nS77Thdd20TVNfuQPSUhY5DtXSuFWdswTL0ScCru9LdnH5rSRFJcUoORFwlDKjdvdcUXPjpR8c2tj\nu0XX/fv3o1QL1113Azk5OR3y7IqrBsBgMAPgcjV06K6pqK5AlBBuClGFMsiSz5icQa291reWkJmZ\nSX5+PkuXLuWSq67iy40btV2mdOjQAQyAkp/Z2Eiyp458Rz75vIYGMmMDLe2M0aMpFaHFs1A7ZcoU\nJk6cCEB+eT6TkydjNBh97guvYpucPNkXYdNmyTcSH58YwL/PLPmQ0TWaJd/aeoLm5iJiYmb76G63\nHZEwJGs21hOxAX75FmcLyQnJ5Obm+hYsReSkYZQdZ7w2tVPyOTk5JCZaGTVqIiUlJVRWBpZX8KIr\nMfJeGAxROBxV7apQmkwm3G43h48fxuQ0BfUJdNc4nU4KCwuZPHmyx5LXMnUnT55MUVERra2t/Nuy\nZaRarSxevJgqv5BbHToGM/pdyV8fGenzAYey5JtdLg4aDEwYOzbguvmCCxhfWckuj881IyODN954\nA4DcY7lMT50OtL3m+9w1yZN8ETZeJV9f30R8/JAA/t3Jeg32yZ+sljxolrw3GaqmZh1xcfN91i74\n7bk6ezbW3Q6amtr88janDavFyoQJE/jyyy/9eHbusuk4Gaq5nZJft24dqalxOJ0m5s+fz0cffRSS\nZ1cteU0+TckHW/IigsVi4VDlIczKHEALjq4pLi5m6NChDEsa5vHJa/MUGRlJeno6e/bsQaKjGZOa\nSlZWFrNmzWL37sAQVB06BiP6Xclf2tLiy5lPNZvblRve1dTE+IoKzF5/vBfnn09mYSH5IV7Fvf54\naPNRexVbUmQS4aZwyhrKfEq5ocFGfHxKAI/ubObdU0s+2FUDtCUnzZiBdXsVjXW5Ppq3lvzcuXO7\n7Jd3ubQj2HVuMVmwOZoDfPJOp5P169eTlpaEzQbZ2dkd+uW7EiPv/5udzup2Sh40v/yRE0ewqEBa\nsJLPz88nMzOTeEu8nyWv9cnMzNQyX61WpLGRRx99lAceeIB58+bx/vvvd0lGHTrOVvS7kndZLJCr\nKa5QlnxeTQ3TCgth+vTAjrGxTKupIe/w4XY8vZE1oCk8p7MlIGzQG2HTZsm3kpAQGBXSE598Y2Mj\nDoeD2CAXE9ChT14pFXLR1WfJR0VhdY+isWaHj+atJT937lw2b97su95ZGKXXVRNcKDLcFE6LMzAR\navv27aSnpxMXZ8Fuh4ULF5KTkxMyYa0rMfJtvzm0JQ+aX/5YzbGAWvLabwoPqeTbdodqy9T1+uX9\nQyiXLVvGW2+9xfLly/nd737X8b66OnSc5eh3JX8oMxPefRcI7ZPPP3SIaQ0NEBnZrm+m1UqeX4w4\ngN1pp7iqmCkpUwBN4bW2OjEawRNC74uwabPkHSQkBLpWeuKT91rxIUvuhgyhbKSpqQCj0UpExKiA\n5v4FwyJGz8fuKsfp1BSXt5b8hRdeyNatW3F7i+2UjOLQr6pDyhjKVQPe6JpAJb9u3Tqys7N9czFm\nzBjMZjOFhYXt+p+Ku8brkw8OoQRNyVfUV2A1WoP6BFah9Cr5WEsstbZaXK42V1MoJQ8wZ84cPvvs\nM15++WWWL1/uW8fQoWMwod+VfOMll7Qp+bAwKoJKG+TV15MZExOyb+bIkRSYTLj92u+q3MWYhDG+\n8rsGQ0Q7xeaNsGmzvF0kJY0I4N0TS75DV43bDXV1EOcfGqjFjYdy1Whd2hSvIetCIk9YaWraCbS5\na4YOHUpCQoLP5+z4y0LK/8dOS0l7a74zJW9zBpYZzsnJITs727c+ISIdumxOZeFVc9d0bMlXNVUR\nbQ7MW+jIXWMxWTAajDS1NgS4a/Lz87VCZk1NASU009PT2bJlC7W1tSxYsKDDhWQdOs5W9LuSt2Zn\nQ2kpHDmCxWgkymikxrOht1spCsxmMj0ZscFIOP984hsaKPHTxv7+eNBe8+12IxZL2z+6N8ImMjKS\n6upqlAKrtb1PvieWfMhF1/p6TfGY2iJHDIZwlHJRVfU+8fGXtesSUDAsKwtrod2XFOVfS97rl289\n0Ypz4yTir1eUPV3Wjl+obFdoqyfvHauuro6CggLmzp0bMBdel40/lFKnuPAaicPRsU++pqWGuPDA\nkFaDwYKyt4DbzYn6epqamkhPTwe0vV5Lmtsig9LS0nA6nZQfP66V0GwJfNhZrVb+8Y9/MG/ePHbs\n2IEOHYMJ/a7kzx07Fi6/HNasAQL98gdaWkisryc+eNHVi8xMMoMqUnrLGXghIjidsQFKflLyJAqP\nFxIREcGxY0eJigKjMThmuw8s+SBXjVc+gyGShoYviIub365LQMGw0aOx7hcaK7RFVv+t/y666CK2\nbNlC+QvlmC8pZsg9NspfKMdlC6wFFCrbFdrqyXvHWr9+PXPmzMFisQQsQl9yySVs2bIlwNVRU1OD\nxWJpt79uRzAYolCqtUNLvr61nviI+KA+4dDUolnxBQVMnTrV5w6LiJ3Akuor2OPQ+ohIhy6bNn4G\nHnzwQa688souyaxDx9mCflfyiYmJsGRJgMvGq+TzKivJLC6GSZNCdw4PZ1pDA/kHDvgu+S+6euFw\nBCr5OEscMeExNBgbKCsrw2oNLNcLPbPku7Ltnz8MBhNW61RMJms7WsAmHiJYrZk0VW0HCNj6b+7c\nuWzdvJWyp8uIWLqbsHObsZ5n5fjrgRmfnbtr2urJeF01EDgXCQkJZGRkBJRSOJVFV9DcNdrvDu2T\nb3Y3kxgVmLdgMFiQJjtERZGfn8/UqVN9tLqUqxlKDX+obXO5nUzJ69AxWNHvSl5EYNEi2LwZmpoC\nLPn8khKmNTcHuDeCMS0ykryaGgBcbhc7K3cyLXVaQBunM5bw8MAdQCYnT6bMWUZl5QliYtqn4veZ\nJR8faKG63U5criZSUm4OyTO49K/13AU0SilKuQIs+XHjxjG2ZiwqWhGeWYfL1ULaijSOPnk0gF+H\n7hpTOHZXq2+snJwcFi5cqNGCcgaC/fKn4qoBfyUf2l3jMDoCNgzxtjU02wP88QC7m5poiBzDne5X\n2GGLYqdHoetKXoeO0BiQ7f+IjYUZM2DduoD6NXm1tWT6FR3Tdlt6KaCUbuY555Bv0MQuri4mOSqZ\nWEtg6KLTGU14eKDbYtKQSRyxH0EpRXR0YOIN9E50TTuEcNeUl7+AwWAmOnpGSJ7Bm3iYZl6Mud5A\nS8v+AJ+8iLA0YimVcyp9cfKJVybSWt5K/RdtuQSduWtaXQ4MhggOHDhAY2MjU6ZMCTkX2dnZAX75\nU4mRh86VvMViAQukxgWGtIqEYWh2ooKU/IMHD5JhLwR7BT9KbOLXBw8CMHXqVF3J69ARAgOj5AGu\nugrefZcUs5kyuw2lFHkmE9M8dW0AKipepqhoOSUlv/RdO3f6dGpMJqodjnb+eC8cjtBKvrS5FICY\nmPZFuXpqyXcl29XpbKC09FdERIzB7W5u3572ljwzZmDd46SxZocvugag5UALwxuH87H62JfxKkZh\n2I+GUfbHtgXYzt01DozGCF/opNfnHZwYlpWVRXFxMSdOaJuin6q7xmA4uZIfGhf4kBQRTLYwWiMs\nFBUVaeULmpvJqalhhjpCnb2Z7ye62Fhby9dNTUycOJH9+/dji4jQlbwOHX4YOCW/ZAmsWUOCQfFi\n4dssW3Mn9UYjIz1JUDbbIfbvX0lm5joqK1+jtnajJnBGBlNLSsg/diykPx68lnxgwa7JyZPZV78P\ngJiY9jH43Slr0CVL3s9dc/jwY8THL8BsTg25mTcE+eQBoqKIahhC44GcAHdN2dNlRFwTwaZtmwIy\nXocuH8rxfx7HUa1lEncWXWP3WPL+rhpo/8ALCwtj3rx5Ws12euKuCe2Tx0LAhiG+ce1mduMmPT2d\nyMhIHjx4kLvT0ki2WKlvbSbaZOGnI0bw69JSLBYLo0ePplApvdywDh1+GDglP2oUKimJje/9FpMl\nmbxDh5hccgDDmDEo5aaoaDnDh99DfPwljBv3DHv23ILT2QBGI9MaG8nfu7dd+KQX7toEkoMs5YlD\nJrK/dj8I7WrJQ/fKGnirKDY1NWkLysHwc9fY7Uc5evRJzj33IV+sfCiE2o7Pas2ksXqHL+PV1eKi\n/MVypt4/lX379tHYKL4CZeZkM4mLEyl/sdwzbmfRNU7cbjPr169nwYIFPlqoB56/y+ZUYuTh5D55\nLDBiyIh2NKPdRH6rjczMTIqbm/mgupo7hw8nPiKeOrsW479i2DA+qa1ld1OT5pe323VLXocOPwyc\nkgc+Py+Zsdu+Ijl+Atel3Uxy5T62Hv6UsrKncTobGDHiXgCSkhYTF3cx+/evBGCaxUJeVVVId03L\n/hbGPX4h3/tsH7lzcjmy+gitla1Eh0czJGoIxENcXPtkq+64awwGA+Hh4aSkpLTLdlVKUXusQURE\n7QAAFVtJREFUxKfkS0oeYNiwH2KxnBNyC0AvQm2sbT03m0ZjqS+65vjrx4meEU1MRgwzZswgL68y\nYN0ibUUaR586inKrTt01rW4XO3eWM2LEiIA3kVBzsXDhQtatW3fKMfJwEiVv0ZT8kJgh7WimFiP5\njZryfujgQe5MSyPWZCLOEke9Q1PyVpOJe4YP58GDBzUl39ioK3kdOvwwYEp+bfFafhO3k1v2QmWr\ng5IWFzOtcdz57nUcKHmAjIw/YzC0RdmMGfO/VFd/SFXVB2SOGEEuCpPBxNDoNuXUvLeZvPl5HJlX\nyYuL00l/IJ36bfV8Pu5z8hfl862ib2FNjiQuLq6dPN1R8qD55YNdNXannVvfuZUNuf/kxYNvU1ef\nS1XVWs4552dA6M28vSiwmalwBz6ELDOW4DLYMLgbsJgsHH3yKGkrNCU7d+5cvvzyaEDtmpisGEzR\nJmrW1XSu5F0uNm3aE+CqgdBvNePGjUNEKCoqOuWFV69PPrjUMIDBYkCcgsnQPqLKZDNSUF9P8oQJ\nrKmq4i7PgyXOEkdDa1vc/Yq0NHJqakgYP5782lpdyevQ4YcuKXkRWSQie0Rkr4jc10GbJ0SkWETy\nRGRaqDYA+6r3UXSiiO+99T3u++k/SSs5SJXDwZcmEwsyprNqkoW3yqMxmkcG9DOZYpgw4UX27v0B\nVXFlFMfFcVfWv/voTXuayLskj5GrRnJkuo2wCAeJlycy8S8TmXN0DqnLUrngqwv4276/M27zAlxN\ngQuz3VXyERERAYuulU2VLHhlAdW2ahYlzGKX4wj/+jSblLSVmExaFFAoS97mcnHPvn0sPzCRy0vG\n8GpFRdvcjhmDtdTI6JbjmHaZcBx3kLBIe0O46KKL+OKL0gAlLyIMWzGMo08eDVlLHsBkMOFSio2b\ndvri4wHqbHWsPngbG2ak8Hzu876SEyLCwoULefvttzt2T3WAzix5Fa4wOtrnLQAYmg0UVNWyLiGB\nFWlpxHlKacZZ4mhwOHxvPDEmE3enpfFBfDx5xyvZvucT1havZW/VXlpd7fcr0KFjMOGkSl5EDMBq\n4DJgEnCDiEwIanM5MFopNRa4DXi6I37nP3U+s5+fzap5q7jw3G8QtmgR8U4nuw8dIiF9O+fEjabU\nfR53rL3Dp2A2bNgAQLh1Frsa48mtuZeRlcdJPqRZdk1fN5F/aT6jHhqF+QYzm13r+dJ2P9UtWtEu\nY5SRlBtSsD9j50eLb+XA0Uq2T9hOxWsVvjEsFqio2NDhPHhlCEZkZKSvUFhBRQEz/zST+enzefPb\nb7LtWCX3XXsLiWYXV7/3HPuqtYVfozGKTz/92sfj4/37GfWLX/DXm26k5ds34b5+KStXr+b6ggJq\nHA4tKco+nKkttWx/dDvDbh+GGDX3UFZWFvn5h9i8eX+AXCk3pFC3tQ53WQuVle1lFxHMBgP5O4u5\n6KKLAHi36F0mPzUZowFSc+7nqS+eYsErC3xyZ2dn89JLLxEfHx+6GFsH82Q0RpKXF1rJu8PdGEpC\n34bVNYpml4t1RiM/8XtziLfEU+9wsmVL24YqS+PDec/VjB0nb+fv4onPn+CKv15BzMMxjH5iNJf9\n5TJWvLeCp954KuRYpws6us/6G6eDHKeDDHD6yNFddMWSnwkUK6UOKqUcwGvA1UFtrgZeBlBKfQ7E\nikgKIdD6Qiste1r4z4/+k1cLXkUtXkxqeTnpn62lvP5Zxo9/gT8tfo51B9aR/Uo2M/80k5XPrmT1\n9tVMf2Y6mxsyuHjYMK5jE++tWUNjQSP5C/KxPWjjl/G/ZMwfxlDuLud4eS6jnxjNre/cSl65pgwm\nDZlE5YhKdmZ+TsbfMjj86GHy5uXRkNeAMjVzvPFNXG5XKLE7/ENHRERQX1/PW3ve4tKXL+XhSx/m\n15f8GoMYWF91nFLnamZPfYk7Z/2E2c/P5pEtj/D4V5t44K9rWfjbhSQtHcmC6ydhLX2b7169lzUf\nZrLk8oWM3riRnGuuYezDD/NRVRXWmPMYaXSy49MdpH6/LaY8JiaG0aOHsXZtoJI3RhlJ/W4qCVuP\ncexYaNkNbhiSnEiDu4Gl/1jKPR/ewyvXvsKqC56hbm81T52/jSvGXEnWc1k8tvUx5l08j6KiIszm\nwDwDtxvy8uCJJ+DppzdQVxc0jiGKvDwJcL/5+oa5kcOhHxh7yp0QG8OK4cOJ9yuIH210kB7pZMOG\nDdicNh7Z8ghZz0xhmrOE2PGTKKkN54ObP2DfXfuo/3k9H9z0AT+Z9RPGJ40nb1teyLFOF5wuCuV0\nkON0kAFOHzm6i45TS9uQBvgXcT+Cpvg7a3PUc60iqB0X/nIm3w27g9+8vIpbKr7PAwnDSQpfxLlh\n29nWfD2PvP4TNh75hBgVw8a8jUyyT6Jkbwl3v3E3xqgwIuvG8vT+m1iS8Tty9s3lke/9njeWvceJ\nskN803w7n1xbxPNPfMV2xxusueM3PJf7HEv+toT02HO4dfpynPEKa2ss+0btY8cfd1D3ch2Hv3GY\nzRM205j6GgmPvsyMYTPIGp7F7OGzmZk2k+jwaJxuJ0qpdhZsRGQEx8zHuGPtHay9cS0z0rQkJ7vT\nTtnwJj45Aav3vsmm0k3Uump56MWHMJYaaCxswmkrYUjaEMZeasQW28wb5ihWb9yFuWIvc5ZfzDeq\nR/Lpe3/mstdfYEH2In421UxLsplthWZSh7oIi6+kxnGMofOS2JW7m42lG0m1ppJiTSE2PJZhtw8j\nZfpXmGaErqWuHApzupkpT01hWeYyXrj6BSLDImlthYwM+M5NJqqqfsqsy67hRddt/Dn3b0y4eAJS\nIZSWunk7p4b3PjvAtqL9mFMOkDSmlGPFuxhyVSwjEhM5b2IMM6ZHMHzkQfY3Cs988Qx2lx2b04bd\nqX1ucW3BbXLz7JfPMjJuJOmx6aTHpWMxWfi0wYwtMY4VSS7Ky1+hrm4TtbWbaG2t5Kqhih3bnuOt\nj58j2p3Gx9fdS2rKpYwct56SrVt9v9FsNDM2cSxjE8dyOZez6v1VXbjldeg4eyAn20xBRP4NuEwp\n9UPP+c3ATKXUXX5t3gUeVkp96jn/CLhXKZUbxEtNn/YJbrcBp8NMQ4NQPuItWuc+C581wvAsZO9c\nzMUXEd6QRriYCDe4qHE9STg/wBZ1DPv49bgmbIH0XbDRjWHiOGTHzbBnMcoZh3JHoVQU8F+IrEQM\njYixDhm/FvcFr+JOOgDrBcMMT5KSV2crcO+owjAnCmWyg6kVFaZ94jbCRhfMM0BrBOKIQDyftEbg\nzjuKzI5GmZvB3IwK94RvfmRC0qfBoUmYj1xAWNV0sMRijwNH03NYLbcTWefA4gjH4jBjcZhBwWHL\nL4gaPQvb0J20pBbQkrITt8GB4cQI3AVlyMWgLPWILRppjkeaEnB/WYHMikVF1aAia8DoRJriMTTH\n4/68FsN5Kd6/uPZjPXDnVmA4LxWUaJOhFCC4vypHZsZBmA0VZoMwu++TDQouBlxGbW7cRlBGcBu0\nv+M8I9ISg9itmoy2aNy55RjHTwCXGXGFgTMMcZkQlxnHwR0YpqfijqnEHVOBij6B2KxQm4wht5ao\n2UNRLhPKaQKXEeU2ogwOWvNKCctKRJlbUCYb7jAbLlpxb7Yhc6zgNCNOc9uny8zQz4TDhV91dK8P\n+OYiq1atYtWqVQMqw+kix+kgw+kih+feDP3Ke7K+XVDyWcAqpdQiz/nPAKWU+q1fm6eB9Uqpv3vO\n9wDzlFIVQbz07Xl06NChoxvorpLvirtmBzBGRNKBY8BS4IagNu8AK4C/ex4KtcEKvidC6tChQ4eO\n7uGkSl4p5RKRO4ActIXa55VSu0XkNo2snlVKrRWRK0RkH9AE3NK3YuvQoUOHjq7gpO4aHTp06NBx\n5mJAyxro0NHf6M3Evr6UQ0RuFJF8z7FFRKb0twx+7WaIiENEruttGboqh4jMF5GvRGSXiKzvbxlE\nJFFE3vfcEztF5Ht9IMPzIlIhIgWdtDn1e1MppR/6MSgONKNmH5AOhAF5wISgNpcD73m+zwK2DZAc\nWUCs5/ui3pajKzL4tfsYWANcN0BzEQt8DaR5zpMGQIZfoUUQAiQBVYCpl+WYC0wDCjqgd+ve1C15\nHYMJvZrY15dyKKW2KaW8aWXb0PJO+lUGD+4E/gFU9vL4pyLHjcCbSqmjAEqpEwMgQzngLV8bDVQp\npZz0IpRSW4CaTpp0697sVyUvIu333eu4rXg+07zfg+hjujH+SP/XXhFpv8lqYPs4z+dUEYkIoqWJ\nyEwRSQpxfZaI9PY/ZWdytt9I9uR9wkWkfTnOk/drV91NRIwikhziuklEUkSkK1FcvYKTzEWoxL7g\nv1NHiX29ia7I4Y9bgff7WwYRGQZco5R6iraMkt5GV+ZiHJAgIutFZIeIfGcAZPgTMElEyoB84O5e\nlqEr6Na92W//fB78HvgxgIjci/YEzVFKPSsijyulVnpoTwDJInIEiEB7GN0uIo96+AgwX0TWK6Xu\n9fS5FW0C7gZswAal1BMe2n+jhX+OBGpF5Fal1N3A1yLyCfBnpdQGf0FF5EWgxaOgSoGpaOGjiMgv\ngGHAUKBGRL5QSj0tIr8BjB45rhMRp1Lq/lATISKP+sn+HeAq4EWlRSr9XCn1sIf2SyAT2ALMBwqV\nUveLyI/95uI6EXlTKfVHT59rgUPAA542ryqlXvfQ7vbMxWKgWUSOKaX+S0SKgb+jRU+VBMn6P2g3\nUyGQJiImpdRyD+02YAEQJyKNnrl8S0R+6pH7ODBERPKUUv87wHMxFGgIJcPpChG5GC1abe4ADP9/\ngL9/eqBCoE3AecAlQBTwmYh8ppTa148y/BzIV0pdLCKjgXUiMlUpddqXPO1TS96zaPS653gD8K9p\nO14p9U2gTkT+A/DfrilGKbUUzfe2AvAWlIkGdqMVTCvwfHpxPpoSXqyUug5NKXsRB4xQSt3nURje\n16y1wL3ADBFZK1qilxetSqkfA0OVUr9B88F5MUwpdQdQqpS6FfAWtY/yjLFaKXUf4KvIJSIfB83F\ntX78FiqlvgVMFJGbAP8dNMZ7aHOVUtcC3q2mrgDcwC6g2vPpRTbaa/YNSqlrgCV+tFHAdKXUd5VS\nP6LtFfQj4A3gpyLypogs9etj9fw9ZimlbkN7iHoxxSNfvkc+72vuuUqpZUqplUqpZcA5Az0XaAZA\nhh9tOJo15I+jQWOGatNTHMVvPjoaQ0SmAs8CVymlOnuN7ysZLgBeE5ES4JvAkyJy1QDIcQT4UCll\nU0pVAZvQHvb9KcOFaP8fKKX2AyXABPoX3bo3+9pd85lS6tue41tolmIAlJYlexjNsvTCq0S8WbVu\nT9vbgXrgB4BTKXXIr082ME0p5fac+1sdXwHnichfReQPgO/pq5Q6rpR6TCl1BZrv0wuziDwFVHos\nSH+3TKyI3I+WEwBtD41mEXlMRO7yvHX4V2UvDZqLj/xodo8sjwMpaBaLF94x/i9orCVoi0TTgWNK\nqU1+fbKAUUopb/3hFj/aYWCCiDwkIivxexAppfKVUncCN/tfB+I9by8u0cpa+O+6PcSjjL33knf+\nw0RkhYhc5bG0/Qsed3Uuknt5LnYAVhFJFxEzmlHwDoF4B/gu+LK9Qyb29RC+BMOO5BCRc4A3ge94\nlEpv46QyKKVGeY5z0fzyP1ZKBc9Xn8sBvA3M9bgFI9EWHXf3swy70d5YEc0PPg440IsyeOGpLxIS\n3bs3u7I62xcHMC7ofJrfdwmiDQ06Twa+eYr8h6DdHGn+fDrpL2gWLGgr3lF+tAg0azhUvxFoimVE\n0PWYTsa6MOh8ib/cQbTJQecTgTuDrqUD6X7nc4PnGrgemON3LaMT+aLQrBYTcA3am4z/3+JaINxz\nHuk/Lto/TPD4fTkXd51kLv4dKAKKgZ95rt0G/NCvzWq0aIt84Lzevvc9YyzqTA40H3AVkItmpGzv\nbxmC2r5AH0TXdFUOYCVahE1B8P3eT3+PJOBdzz1RgPaW3NsyvAqUoRk6h9DcdD2+N/s0GUpEJgJ3\nobkE6oE/KKUKT4FmRfOh/kEpVdjR9c76dDZWd2Q4GS3o91+rlPqX53sq2gJaGtrr5/NKqfLu0vyu\nD0ezzk+VX0C/3pYvxFx8QwVa2H1G6y4/HTrOSvTFk9nvqfMKHqsNiAFe6gkt6Hp0L/PrDfl+7Hes\nADYG9ZmI9mCYiLZA2W1aD/lldINfuz4n4XeF33ElsMavT6/SustPP/RjMBx97ZP39y2poPPu0ILb\ndIef/3l3+nTW70q0Rb+vPZ+1fu1cSqlCpa3G76bNn9xdWk/47e4Gv1B9OqPdh/aKO8Tz6b+w3tu0\n7vLToeOsR1+HUD4MPC4isWgK77c9pJ3u/FYrP1eAiPgvvL4kIq+hPRBcaD7XntBOd37PKaVe8ZsL\n/wSW3qZ1l58OHWc/+vI1AfgGEOb5HgZc1BPaGcLPFKqPfuiHfujHQBx9bcnfqDyWrVLK4Ym93twD\n2hnLT0QOA9tpi/lHKfXt7tLOMH6iXQ7Zp8e07vLToWMwoK+VfGvQuauHtDOZ3wrgMrQM0FdUYOxz\nd2iDjV9fjKVDx1mPPq9dIyKXiUiCiGQTtJjZHdqZyk8p9Y7Ssnd3oqVEG3tCG2z8+mIsHToGA/o6\nTj4MLTt1Elq0yZ+Up3Jbd2hnOL+VaLVztgL/Ukr5SgN0hzbY+PXFWDp0DAb0y85QolV7vAG4Umm1\nVHpEOxP5iciHaAlXoIVd+vu1T5k22Pj1xVg6dAwG9LUln4VWa8GKFqN8lZ9le8q0M5xfpFKq2W9u\nkpSnLnZ3aIONX1+MpUPHYEBf++RfQ9tl5Va0olTOHtLOZH6PA4jI7z3n/91D2mDj1xdj6dBx1qOv\nlfxYtNKvLwEXisisHtLOZH5edLZxSndog41fX4ylQ8fZC9WHQfiA2e/7COCBntDOcH5fAY96Ph8D\ncntCG2z8+mIs/dCPwXD0tU/+78BvlVK5vUE7w/mlB19TSh3sLm2w8euLsXToGAzojxDKB9Dqr5cA\nqLZt2U6Zdibz06FDh46BQF9nvCagbdqwgfa7qHSHdibz06FDh47+R1/6goC/ELSrU09oZzI//dAP\n/dCPgTj6KxkqCriR0AlFp0w7k/np0KFDR3+iT901oZKDekI7k/np0KFDx0BAT4bqP346dOjQ0e/Q\nk6H6PxlKhw4dOvoN/eKTBxCR4cAtSqlf9wbtTOanQ4cOHf2FflPyOnTo0KGj/9Hnm4bo0KFDh46B\ng67kdejQoeMshq7kdejQoeMshq7kdejQoeMshq7kdejQoeMshq7kdejQoeMshq7kdejQoeMsxv8D\n6Km02+uMHE4AAAAASUVORK5CYII=\n",
      "text/plain": [
       "<matplotlib.figure.Figure at 0x10f241810>"
      ]
     },
     "execution_count": 46,
     "metadata": {},
     "output_type": "execute_result"
    }
   ],
   "source": [
    "labels = x_abundances.index\n",
    "ax.set_xticklabels(labels, rotation=90, fontsize='x-small')\n",
    "ax.set_xticks(range(len(labels)))\n",
    "\n",
    "fig"
   ]
  },
  {
   "cell_type": "code",
   "execution_count": 35,
   "metadata": {
    "scrolled": false
   },
   "outputs": [
    {
     "data": {
      "image/png": "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\n",
      "text/plain": [
       "<Figure size 432x288 with 2 Axes>"
      ]
     },
     "execution_count": 35,
     "metadata": {},
     "output_type": "execute_result"
    }
   ],
   "source": [
    "ax = axes[1]\n",
    "\n",
    "abundance_averages = x_abundances.mean()\n",
    "index = np.arange(len(abundance_averages))\n",
    "\n",
    "_ = ax.bar(index, abundance_averages, color='brown')\n",
    "\n",
    "fig"
   ]
  },
  {
   "cell_type": "markdown",
   "metadata": {},
   "source": [
    "#### Add some decorations, such as titles, and meaningful x labels\n",
    "\n",
    "we do this by setting properties in the subplot(s) using *set_* methods. Useful ones are:\n",
    "\n",
    "method | function\n",
    ":----- | :-------\n",
    "set_title('title') | sets the title for this subplot to 'title' (goes on top)\n",
    "set_xlabel('label') | set the label for the x axis to 'label'\n",
    "set_ylabel('label') | set the label for the y axis to 'label'\n",
    "set_xticklables(labels) | set the label for each tick mark from the list labels\n",
    "set_xticks(positions) | sets the positions for the tick marks on the x axis to 'positions'"
   ]
  },
  {
   "cell_type": "markdown",
   "metadata": {},
   "source": [
    "Text-type values, such as in all the labels above and in the title, also have properties that you can set with parameters within these methods\n",
    "\n",
    "Parameter | meaning\n",
    ":-------- | :----------\n",
    "color=c   | set the color to c\n",
    "rotation=r | rotation r degrees\n",
    "fontsize=s | set font size to s ('xx-small' up to 'xx-large' are all valid)"
   ]
  },
  {
   "cell_type": "code",
<<<<<<< HEAD:Lecture Notes/LN 22 2018-11-01 Pandas.ipynb
   "execution_count": 36,
   "metadata": {},
=======
   "execution_count": 304,
   "metadata": {
    "collapsed": true
   },
>>>>>>> 014dcaf825f59edc4e2c7a2a97b1d3783c891293:Lecture Notes/LN 22 index error copy.ipynb
   "outputs": [],
   "source": [
    "# look up info on some of these\n",
    "#ax.set_title?\n",
    "#ax.set_xticklabels?"
   ]
  },
  {
   "cell_type": "markdown",
   "metadata": {},
   "source": [
    "##### Work on second subplot (since we're there) \n",
    "\n",
    "Think about what we want on the subplot.\n",
    "\n",
    "\n",
    "\n",
    "We want taxa names on the x axis, with one name per bar, in a readable orientation and font\n",
    "These exist in\n",
    "\n",
    ">abundance_averages.index\n"
   ]
  },
  {
   "cell_type": "code",
   "execution_count": 37,
   "metadata": {
    "scrolled": true
   },
   "outputs": [
    {
     "data": {
      "text/plain": [
       "Index([], dtype='object')"
      ]
     },
     "execution_count": 37,
     "metadata": {},
     "output_type": "execute_result"
    }
   ],
   "source": [
    "abundance_averages.index"
   ]
  },
  {
   "cell_type": "code",
   "execution_count": 38,
   "metadata": {
    "scrolled": true
   },
   "outputs": [
    {
     "data": {
      "image/png": "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\n",
      "text/plain": [
       "<Figure size 432x288 with 2 Axes>"
      ]
     },
     "execution_count": 38,
     "metadata": {},
     "output_type": "execute_result"
    }
   ],
   "source": [
    "#labels = ax.set_xticklabels(abundance_averages.index, \n",
    "#                            rotation=90, \n",
    "#                            fontsize='small')\n",
    "#ticks = ax.set_xticks(range(len(abundance_averages)))\n",
    "\n",
    "#title = ax.set_title('average taxon abundance')\n",
    "_ = ax.set_xlabel('Taxa')\n",
    "\n",
    "fig"
   ]
  },
  {
   "cell_type": "markdown",
   "metadata": {},
   "source": [
    "##### Work on first subplot\n",
    "\n",
    "For the first one, we want patient IDs labeling the x axis, with one ID per patient, in a readable font and format. \n",
    "\n",
    "That information exists in \n",
    "\n",
    ">x_abundances.columns"
   ]
  },
  {
   "cell_type": "code",
   "execution_count": 39,
   "metadata": {},
   "outputs": [
    {
     "data": {
      "text/plain": [
       "Index([], dtype='object', name='../Datasets/summaryByWoman.txt')"
      ]
     },
     "execution_count": 39,
     "metadata": {},
     "output_type": "execute_result"
    }
   ],
   "source": [
    "x_abundances.index"
   ]
  },
  {
   "cell_type": "code",
   "execution_count": 40,
   "metadata": {
    "scrolled": true
   },
   "outputs": [
    {
     "data": {
      "image/png": "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\n",
      "text/plain": [
       "<Figure size 432x288 with 2 Axes>"
      ]
     },
     "execution_count": 40,
     "metadata": {},
     "output_type": "execute_result"
    }
   ],
   "source": [
    "ax = axes[0]\n",
    "\n",
    "#_ = ax.set_xticks(range(len(x_abundances)))\n",
    "#_ = ax.set_xticklabels(x_abundances.index, rotation=90, fontsize='x-small')\n",
    "#_ = ax.set_xlabel('Patient ID', fontsize='small')\n",
    "#_ = ax.set_title('Relative taxa abundances')\n",
    "\n",
    "fig"
   ]
  },
  {
   "cell_type": "markdown",
   "metadata": {},
   "source": [
    "#### add the legend\n",
    "\n",
    "I play around with *loc=*, but there are several useful options."
   ]
  },
  {
   "cell_type": "code",
<<<<<<< HEAD:Lecture Notes/LN 22 2018-11-01 Pandas.ipynb
   "execution_count": 41,
   "metadata": {},
=======
   "execution_count": 309,
   "metadata": {
    "collapsed": true
   },
>>>>>>> 014dcaf825f59edc4e2c7a2a97b1d3783c891293:Lecture Notes/LN 22 index error copy.ipynb
   "outputs": [],
   "source": [
    "ax.legend?"
   ]
  },
  {
   "cell_type": "code",
   "execution_count": 42,
   "metadata": {
    "scrolled": true
   },
   "outputs": [
    {
     "data": {
      "image/png": "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\n",
      "text/plain": [
       "<Figure size 432x288 with 2 Axes>"
      ]
     },
     "execution_count": 42,
     "metadata": {},
     "output_type": "execute_result"
    }
   ],
   "source": [
    "#_ = ax.legend(x_abundances.columns, loc=(-1.5,0), fontsize='large')  # set the legend text\n",
    "\n",
    "fig"
   ]
  },
  {
   "cell_type": "markdown",
   "metadata": {},
   "source": [
    "### Add text and lines to help the readers\n",
    "\n",
    "Useful methods\n",
    "\n",
    "Method | meaning\n",
    ":----- | :--------\n",
    "annotate(text, (x,y)) | places 'text' at location (x,y). It has the usual text properties such as size, color, etc.\n",
    "hlines(y, xmin, xmax) | draws a line at y-coordinate y, stretching from hmin to hmax\n",
    "vlines(x, xmin, xmax) | draws a line at x-coordinate x, stretching from vmin to vmax\n",
    "\n",
    "Fortunately, the min and max values you normally want are xlim and ylim, and you can get these with *ax.get_xlim()* and *ax.get_ylim()*."
   ]
  },
  {
   "cell_type": "code",
<<<<<<< HEAD:Lecture Notes/LN 22 2018-11-01 Pandas.ipynb
   "execution_count": 43,
   "metadata": {},
=======
   "execution_count": 311,
   "metadata": {
    "collapsed": true
   },
>>>>>>> 014dcaf825f59edc4e2c7a2a97b1d3783c891293:Lecture Notes/LN 22 index error copy.ipynb
   "outputs": [],
   "source": [
    "ax_0, ax_1 = axes   # just to make the code easier"
   ]
  },
  {
   "cell_type": "code",
   "execution_count": 44,
   "metadata": {},
   "outputs": [
    {
     "data": {
      "image/png": "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\n",
      "text/plain": [
       "<Figure size 432x288 with 2 Axes>"
      ]
     },
     "execution_count": 44,
     "metadata": {},
     "output_type": "execute_result"
    }
   ],
   "source": [
    "min_x, max_x = ax_0.get_xlim()\n",
    "ax_0.hlines(0.5, min_x, max_x, linestyle='-', color='gray')\n",
    "\n",
    "fig"
   ]
  },
  {
   "cell_type": "code",
   "execution_count": 45,
   "metadata": {
    "scrolled": true
   },
   "outputs": [
    {
     "data": {
      "image/png": "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\n",
      "text/plain": [
       "<Figure size 432x288 with 2 Axes>"
      ]
     },
     "execution_count": 45,
     "metadata": {},
     "output_type": "execute_result"
    }
   ],
   "source": [
    "min_y, max_y  = ax_1.get_ylim()\n",
    "ax_1.vlines(2.5, min_y, max_y, linestyle='-', color='gray')\n",
    "ax_1.annotate('top 3 taxa', (3, (min_y+max_y)/2), fontsize='medium' )\n",
    "\n",
    "fig"
   ]
  },
  {
   "cell_type": "markdown",
   "metadata": {},
   "source": [
    "## save to a file\n",
    "\n",
    "matplotlib uses the *savefig(filename)* method in the figure (not the subplots, of course) to save the entire figure to a file named 'filename'. It determines what type of file to create based on the file's extension. Some extensions and image types are:\n",
    "\n",
    "extension | image type\n",
    ":-------- | :-------------\n",
    "png | creates a png file\n",
    "pdf | creates a pdf file\n",
    "jpeg | jpeg file\n",
    "\n",
    "There are many parameters to *savefig* that you can set."
   ]
  },
  {
   "cell_type": "code",
<<<<<<< HEAD:Lecture Notes/LN 22 2018-11-01 Pandas.ipynb
   "execution_count": 48,
   "metadata": {},
=======
   "execution_count": 278,
   "metadata": {
    "collapsed": true
   },
>>>>>>> 014dcaf825f59edc4e2c7a2a97b1d3783c891293:Lecture Notes/LN 22 index error copy.ipynb
   "outputs": [],
   "source": [
    "fig.s"
   ]
  },
  {
   "cell_type": "code",
<<<<<<< HEAD:Lecture Notes/LN 22 2018-11-01 Pandas.ipynb
   "execution_count": 49,
   "metadata": {},
=======
   "execution_count": 314,
   "metadata": {
    "collapsed": true
   },
>>>>>>> 014dcaf825f59edc4e2c7a2a97b1d3783c891293:Lecture Notes/LN 22 index error copy.ipynb
   "outputs": [],
   "source": [
    "fig.savefig('microbiome_figure.png')\n",
    "fig.savefig('microbiome_figure.pdf')"
   ]
  },
  {
   "cell_type": "markdown",
   "metadata": {},
   "source": [
    "### Other types of plots\n",
    "\n",
    "check out [Matplotlib Gallery](http://matplotlib.org/gallery.html) at *http://matplotlib.org/gallery.html*\n",
    "\n",
    "I need to add examples of these"
   ]
  },
  {
   "cell_type": "code",
   "execution_count": null,
   "metadata": {
    "collapsed": true
   },
   "outputs": [],
   "source": []
  }
 ],
 "metadata": {
  "anaconda-cloud": {},
  "kernelspec": {
<<<<<<< HEAD:Lecture Notes/LN 22 2018-11-01 Pandas.ipynb
   "display_name": "Python 3",
=======
   "display_name": "Python [conda env:ipykernel_py2]",
>>>>>>> 014dcaf825f59edc4e2c7a2a97b1d3783c891293:Lecture Notes/LN 22 index error copy.ipynb
   "language": "python",
   "name": "conda-env-ipykernel_py2-py"
  },
  "language_info": {
   "codemirror_mode": {
    "name": "ipython",
    "version": 2
   },
   "file_extension": ".py",
   "mimetype": "text/x-python",
   "name": "python",
   "nbconvert_exporter": "python",
<<<<<<< HEAD:Lecture Notes/LN 22 2018-11-01 Pandas.ipynb
   "pygments_lexer": "ipython3",
   "version": "3.6.5"
=======
   "pygments_lexer": "ipython2",
   "version": "2.7.15"
>>>>>>> 014dcaf825f59edc4e2c7a2a97b1d3783c891293:Lecture Notes/LN 22 index error copy.ipynb
  },
  "latex_envs": {
   "bibliofile": "biblio.bib",
   "cite_by": "apalike",
   "current_citInitial": 1,
   "eqLabelWithNumbers": true,
   "eqNumInitial": 0
  }
 },
 "nbformat": 4,
 "nbformat_minor": 2
}
