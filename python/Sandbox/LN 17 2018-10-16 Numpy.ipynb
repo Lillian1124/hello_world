{
 "cells": [
  {
   "cell_type": "markdown",
   "metadata": {},
   "source": [
    "# Lecture 16 2018-10-11: Numpy\n",
    "\n",
    "Numpy arrays (4.1); functions on ndarrays (4.2); png (4.6)\n",
    "\n",
    "This worksheet accompanies the lecture notes."
   ]
  },
  {
   "cell_type": "markdown",
   "metadata": {},
   "source": [
    "*numpy* is a package in the *scipy* suite of packages that contains specialized modules for numerical computing, that is for writing programs that use or produce larger, more complex, collections of numeric data. (Scipy is for scientific computing in general). \n",
    "\n",
    "You can do anything in basic python that you can do with numpy, but it is usually much, much harder.\n",
    "In particular, \n",
    "\n",
    "* numpy provides data objects for multi dimensional (aka *n dimensional*) arrays, whereas python only supports one dimensional arrays (lists). \n",
    "* Numpy makes it much easier to index into arrays, and supports \"slicing\", which makes it possible to work with a part of an array independently. \n",
    "* Numpy makes it easy to perform operations, such as arithmetic, on entire arrays\n",
    "* Numpy provides a rich library for working with pseudorandom numbers\n",
    "* Numpy is *highly* optimized, whereas basic python functions can be very slow\n",
    "\n",
    "As with all packages, to access numpy you need to *import* it. The convention is to\n",
    ">import numpy as np"
   ]
  },
  {
   "cell_type": "code",
   "execution_count": 1,
   "metadata": {
    "collapsed": true
   },
   "outputs": [],
   "source": [
    "import numpy as np"
   ]
  },
  {
   "cell_type": "markdown",
   "metadata": {
    "heading_collapsed": true
   },
   "source": [
    "## Motivating example: microbiome data\n",
    "Microbiome data typically take the form of microbial taxa abundances (or relative abundances) for many samples.\n",
    "The samples can be different individual hosts, different time points, different sampling sites.\n",
    "You often receive these data in the form of a tab delimited file with data such as this:\n",
    "\n",
    "```\n",
    "patientID\tLactobacillus_crispatus\tLactobacillus_iners\tEnterococcus_faecalis\tTotal\tShannon\n",
    "AYAC01 \t0.494516432\t0.046142047\t7.31E-05\t23288\t1.248969892\n",
    "AYAC02 \t0.675225602\t0.284145679\t0.000445213\t40926\t0.772621598\n",
    "EM02 \t0.012124112\t0.646553006\t0.00016129\t29019\t1.094894389\n",
    "EM03 \t0.868437628\t0.127769122\t0\t52892\t0.415003646\n",
    "```\n",
    "\n",
    "(describe the data)\n",
    "\n",
    "Suppose we want to compute 1) the average relative abundances of each taxon, and the absolute abundance of each taxa. Perhaps even do a reality check to see if we have all the data. To do this:\n",
    "\n",
    "0. get the data into a data structure we can work with\n",
    "1. compute the average of each column (except the first and the last two)\n",
    "2. multiple the total number of reads by the relative abundance\n",
    "3. compute the row totals for the relative abundances (do they sum to 1?)"
   ]
  },
  {
   "cell_type": "markdown",
   "metadata": {
    "heading_collapsed": true,
    "hidden": true
   },
   "source": [
    "### The hard way"
   ]
  },
  {
   "cell_type": "code",
   "execution_count": 2,
   "metadata": {
    "hidden": true
   },
   "outputs": [
    {
     "data": {
      "text/plain": [
       "[['AYAC01', 0.494516432, 0.046142047, 7.31e-05, 23288.0, 1.248969892],\n",
       " ['AYAC02', 0.675225602, 0.284145679, 0.000445213, 40926.0, 0.772621598],\n",
       " ['EM02', 0.012124112, 0.646553006, 0.00016129, 29019.0, 1.094894389],\n",
       " ['EM03', 0.868437628, 0.127769122, 0.0, 52892.0, 0.415003646]]"
      ]
     },
     "execution_count": 2,
     "metadata": {},
     "output_type": "execute_result"
    }
   ],
   "source": [
    "# 0. get the data into a format we can use\n",
    "\n",
    "headers = ['patientID',\n",
    " 'Lactobacillus_crispatus',\n",
    " 'Lactobacillus_iners',\n",
    " 'Enterococcus_faecalis',\n",
    " 'Total',\n",
    " 'Shannon']\n",
    "\n",
    "data = [['AYAC01', 0.494516432, 0.046142047, 7.31e-05, 23288.0, 1.248969892],\n",
    " ['AYAC02', 0.675225602, 0.284145679, 0.000445213, 40926.0, 0.772621598],\n",
    " ['EM02', 0.012124112, 0.646553006, 0.00016129, 29019.0, 1.094894389],\n",
    " ['EM03', 0.868437628, 0.127769122, 0.0, 52892.0, 0.415003646]]\n",
    "\n",
    "data"
   ]
  },
  {
   "cell_type": "code",
   "execution_count": 1,
   "metadata": {},
   "outputs": [
    {
     "data": {
      "text/plain": [
       "range(0, 10)"
      ]
     },
     "execution_count": 1,
     "metadata": {},
     "output_type": "execute_result"
    }
   ],
   "source": [
    "range(10)"
   ]
  },
  {
   "cell_type": "code",
   "execution_count": 3,
   "metadata": {
    "hidden": true
   },
   "outputs": [
    {
     "name": "stdout",
     "output_type": "stream",
     "text": [
      "patientID\tLactobacillus_crispatus\tLactobacillus_iners\tEnterococcus_faecalis\tTotal\tShannon\n",
      "0.5125759435\t0.2761524635\t0.00016990075\t36531.25\t0.88287238125\n"
     ]
    }
   ],
   "source": [
    "# 1. compute column averages\n",
    "\n",
    "number_of_samples = 0\n",
    "total_of_samples = [0, 0, 0, 0, 0]\n",
    "column_averages = [0, 0, 0, 0, 0]\n",
    "for sample in data:\n",
    "    number_of_samples = number_of_samples + 1\n",
    "    for column in range(len(total_of_samples)):\n",
    "        total_of_samples[column] = total_of_samples[column] + sample[1:][column]\n",
    "#total_of_samples is correct\n",
    "for column in range(len(total_of_samples)):\n",
    "    column_averages[column] = total_of_samples[column] / number_of_samples\n",
    "\n",
    "print('\\t'.join(headers))\n",
    "print('\\t'.join([str(x) for x in column_averages]))\n",
    "## you do it! It's a pain"
   ]
  },
  {
   "cell_type": "code",
   "execution_count": 9,
   "metadata": {
    "hidden": true
   },
   "outputs": [
    {
     "name": "stdout",
     "output_type": "stream",
     "text": [
      "['AYAC01', 0.494516432, 0.046142047, 7.31e-05, 23288.0, 1.248969892]\n",
      "['AYAC02', 0.675225602, 0.284145679, 0.000445213, 40926.0, 0.772621598]\n",
      "['EM02', 0.012124112, 0.646553006, 0.00016129, 29019.0, 1.094894389]\n",
      "['EM03', 0.868437628, 0.127769122, 0.0, 52892.0, 0.415003646]\n"
     ]
    },
    {
     "data": {
      "text/plain": [
       "['AYAC01',\n",
       " [11516, 1074, 1],\n",
       " 'AYAC02',\n",
       " [27634, 11628, 18],\n",
       " 'EM02',\n",
       " [351, 18762, 4],\n",
       " 'EM03',\n",
       " [45933, 6757, 0]]"
      ]
     },
     "execution_count": 9,
     "metadata": {},
     "output_type": "execute_result"
    }
   ],
   "source": [
    "# 2. multiple the total number of reads by the relative abundance\n",
    "\n",
    "absolute_abundances = []\n",
    "for next_sample in data:\n",
    "    print(next_sample)\n",
    "    next_abundances = [int(x * next_sample[-2]) for x in next_sample[1:-2]]\n",
    "    absolute_abundances.append(next_sample[0])\n",
    "    absolute_abundances.append(next_abundances)\n",
    "absolute_abundances"
   ]
  },
  {
   "cell_type": "code",
   "execution_count": 5,
   "metadata": {
    "collapsed": true,
    "hidden": true
   },
   "outputs": [],
   "source": [
    "# 3. compute the column totals for the relative abundances (do they sum to 1?)\n",
    "\n",
    "### left as an exercise"
   ]
  },
  {
   "cell_type": "markdown",
   "metadata": {
    "heading_collapsed": true,
    "hidden": true
   },
   "source": [
    "### The easy way, with ndarrays"
   ]
  },
  {
   "cell_type": "code",
   "execution_count": 16,
   "metadata": {
    "hidden": true
   },
   "outputs": [
    {
     "name": "stdout",
     "output_type": "stream",
     "text": [
      "[[  4.94516432e-01   4.61420470e-02   7.31000000e-05   2.32880000e+04\n",
      "    1.24896989e+00]\n",
      " [  6.75225602e-01   2.84145679e-01   4.45213000e-04   4.09260000e+04\n",
      "    7.72621598e-01]\n",
      " [  1.21241120e-02   6.46553006e-01   1.61290000e-04   2.90190000e+04\n",
      "    1.09489439e+00]\n",
      " [  8.68437628e-01   1.27769122e-01   0.00000000e+00   5.28920000e+04\n",
      "    4.15003646e-01]]\n",
      "[ 23288.  40926.  29019.  52892.]\n",
      "[[  4.94516432e-01   4.61420470e-02   7.31000000e-05]\n",
      " [  6.75225602e-01   2.84145679e-01   4.45213000e-04]\n",
      " [  1.21241120e-02   6.46553006e-01   1.61290000e-04]\n",
      " [  8.68437628e-01   1.27769122e-01   0.00000000e+00]]\n"
     ]
    }
   ],
   "source": [
    "# 0. get the data into a format we can use\n",
    "sample_ids = [sample[0] for sample in data]\n",
    "data_all = np.array([sample[1:] for sample in data])\n",
    "print data_all\n",
    "\n",
    "data_totals = data_all[:,-2]\n",
    "print  data_totals\n",
    "\n",
    "data_shannon = data_all[:,-1]# take the last column\n",
    "data_rel_abundances = data_all[:,:-2]# except the last 2 column\n",
    "print data_rel_abundances\n",
    "\n",
    "#data_abundances"
   ]
  },
  {
   "cell_type": "code",
   "execution_count": 38,
   "metadata": {
    "hidden": true
   },
   "outputs": [
    {
     "data": {
      "text/plain": [
       "array([ 0.18024386,  0.31993883,  0.2196128 ,  0.33206892])"
      ]
     },
     "execution_count": 38,
     "metadata": {},
     "output_type": "execute_result"
    }
   ],
   "source": [
    "# 1. compute column averages\n",
    "type(data_rel_abundances)\n",
    "data_rel_abundances.mean(axis=1)"
   ]
  },
  {
   "cell_type": "code",
   "execution_count": 30,
   "metadata": {},
   "outputs": [
    {
     "data": {
      "text/plain": [
       "(4, 3)"
      ]
     },
     "execution_count": 30,
     "metadata": {},
     "output_type": "execute_result"
    }
   ],
   "source": [
    "data_rel_abundances.shape"
   ]
  },
  {
   "cell_type": "code",
   "execution_count": 31,
   "metadata": {},
   "outputs": [
    {
     "data": {
      "text/plain": [
       "array([ 23288.,  40926.,  29019.,  52892.])"
      ]
     },
     "execution_count": 31,
     "metadata": {},
     "output_type": "execute_result"
    }
   ],
   "source": [
    "data_totals"
   ]
  },
  {
   "cell_type": "code",
   "execution_count": 32,
   "metadata": {
    "code_folding": [
     0
    ],
    "hidden": true
   },
   "outputs": [
    {
     "name": "stdout",
     "output_type": "stream",
     "text": [
      "total abundances: [[  1.15162987e+04   2.76342830e+04   3.51829606e+02   4.59334030e+04]\n",
      " [  1.07455599e+03   1.16289461e+04   1.87623217e+04   6.75796440e+03]\n",
      " [  1.70235280e+00   1.82207872e+01   4.68047451e+00   0.00000000e+00]]\n"
     ]
    }
   ],
   "source": [
    "# 2. multiple the total number of reads by the relative abundance\n",
    "\n",
    "#print('rel abundances: {}\\n'.format(data_rel_abundances))\n",
    "#print('totals: {}\\n'.format(data_totals))\n",
    "\n",
    "total_abundances = data_rel_abundances.T * data_totals\n",
    "\n",
    "print('total abundances: {}'.format(total_abundances))"
   ]
  },
  {
   "cell_type": "code",
   "execution_count": 33,
   "metadata": {},
   "outputs": [
    {
     "data": {
      "text/plain": [
       "array([[  1.15162987e+04,   2.76342830e+04,   3.51829606e+02,\n",
       "          4.59334030e+04],\n",
       "       [  1.07455599e+03,   1.16289461e+04,   1.87623217e+04,\n",
       "          6.75796440e+03],\n",
       "       [  1.70235280e+00,   1.82207872e+01,   4.68047451e+00,\n",
       "          0.00000000e+00]])"
      ]
     },
     "execution_count": 33,
     "metadata": {},
     "output_type": "execute_result"
    }
   ],
   "source": [
    "total_abundances"
   ]
  },
  {
   "cell_type": "code",
   "execution_count": 34,
   "metadata": {},
   "outputs": [
    {
     "data": {
      "text/plain": [
       "array([[  1.15162987e+04,   1.07455599e+03,   1.70235280e+00],\n",
       "       [  2.76342830e+04,   1.16289461e+04,   1.82207872e+01],\n",
       "       [  3.51829606e+02,   1.87623217e+04,   4.68047451e+00],\n",
       "       [  4.59334030e+04,   6.75796440e+03,   0.00000000e+00]])"
      ]
     },
     "execution_count": 34,
     "metadata": {},
     "output_type": "execute_result"
    }
   ],
   "source": [
    "total_abundances.T"
   ]
  },
  {
   "cell_type": "code",
   "execution_count": 35,
   "metadata": {
    "hidden": true
   },
   "outputs": [
    {
     "data": {
      "text/plain": [
       "array([  2.05030377e+00,   1.10460985e+00,   6.79603000e-04])"
      ]
     },
     "execution_count": 35,
     "metadata": {},
     "output_type": "execute_result"
    }
   ],
   "source": [
    "# 3. compute the row totals for the relative abundances (do they sum to 1?)\n",
    "\n",
    "data_rel_abundances.sum(axis=0)"
   ]
  },
  {
   "cell_type": "markdown",
   "metadata": {
    "heading_collapsed": true
   },
   "source": [
    "## Introduction to ndarrays"
   ]
  },
  {
   "cell_type": "markdown",
   "metadata": {
    "heading_collapsed": true,
    "hidden": true
   },
   "source": [
    "### Creating n-dimensional arrays (np.ndarray)\n",
    "\n",
    "The basic data structure for numpy is the n-dimensional array, *np.ndarray*. \n",
    "Create by casting (*array(old_data)*) or with special methods"
   ]
  },
  {
   "cell_type": "markdown",
   "metadata": {
    "heading_collapsed": true,
    "hidden": true
   },
   "source": [
    "#### Numpy provides several ways to create ndarrays\n",
    "\n",
    "One can cast from other data types as usual, with *np.array()* (note: *array()*, not *nparray*). \n",
    "See above for an example.\n",
    "\n",
    "Numpy attempts to do the \"right thing\" with casting, as is usual in Python."
   ]
  },
  {
   "cell_type": "code",
   "execution_count": 39,
   "metadata": {
    "hidden": true
   },
   "outputs": [
    {
     "data": {
      "text/plain": [
       "array([[[ 1,  2,  3],\n",
       "        [ 4,  5,  6]],\n",
       "\n",
       "       [[ 7,  8,  9],\n",
       "        [10, 11, 12]]])"
      ]
     },
     "execution_count": 39,
     "metadata": {},
     "output_type": "execute_result"
    }
   ],
   "source": [
    "# create a 2-dimensional and a 3-dimensional array \n",
    "#(note that spacing doesn't matter so make it readable!)\n",
    "array_2d = np.array([ [1,2,3], [4,5,6] ])\n",
    "array_3d = np.array(\n",
    "    [\n",
    "        [ [1,2,3], [4,5,6] ],\n",
    "        [ [7,8,9], [10,11,12] ]\n",
    "    ]\n",
    ")\n",
    "\n",
    "array_2d\n",
    "array_3d"
   ]
  },
  {
   "cell_type": "code",
   "execution_count": 6,
   "metadata": {
    "hidden": true
   },
   "outputs": [
    {
     "name": "stdout",
     "output_type": "stream",
     "text": [
      "[list([1, 2, 3]) list([4, 5, 6]) 7]\n",
      "[list([1, 2, 3]) list([4, 5, 6]) list([])]\n"
     ]
    }
   ],
   "source": [
    "# interesting error (note what's inside)\n",
    "error_array = np.array([ [1,2,3], [4,5,6], 7 ])\n",
    "print(error_array)\n",
    "\n",
    "error_array = np.array([ [1,2,3], [4,5,6], [] ])\n",
    "print(error_array)"
   ]
  },
  {
   "cell_type": "markdown",
   "metadata": {
    "hidden": true
   },
   "source": [
    "Create special arrays directly. \n",
    "Note that some provide a *shape* as a paramter--shapes are tuples."
   ]
  },
  {
   "cell_type": "code",
   "execution_count": 50,
   "metadata": {
    "hidden": true
   },
   "outputs": [
    {
     "data": {
      "text/plain": [
       "array([ 0.        ,  0.00999983,  0.01999867,  0.0299955 ,  0.03998933,\n",
       "        0.04997917,  0.05996401,  0.06994285,  0.07991469,  0.08987855,\n",
       "        0.09983342,  0.1097783 ,  0.11971221,  0.12963414,  0.13954311,\n",
       "        0.14943813,  0.15931821,  0.16918235,  0.17902957,  0.18885889,\n",
       "        0.19866933,  0.2084599 ,  0.21822962,  0.22797752,  0.23770263,\n",
       "        0.24740396,  0.25708055,  0.26673144,  0.27635565,  0.28595223,\n",
       "        0.29552021,  0.30505864,  0.31456656,  0.32404303,  0.33348709,\n",
       "        0.34289781,  0.35227423,  0.36161543,  0.37092047,  0.38018842,\n",
       "        0.38941834,  0.39860933,  0.40776045,  0.4168708 ,  0.42593947,\n",
       "        0.43496553,  0.44394811,  0.45288629,  0.46177918,  0.47062589,\n",
       "        0.47942554,  0.48817725,  0.49688014,  0.50553334,  0.51413599,\n",
       "        0.52268723,  0.5311862 ,  0.53963205,  0.54802394,  0.55636102,\n",
       "        0.56464247,  0.57286746,  0.58103516,  0.58914476,  0.59719544,\n",
       "        0.60518641,  0.61311685,  0.62098599,  0.62879302,  0.63653718,\n",
       "        0.64421769,  0.65183377,  0.65938467,  0.66686964,  0.67428791,\n",
       "        0.68163876,  0.68892145,  0.69613524,  0.70327942,  0.71035327,\n",
       "        0.71735609,  0.72428717,  0.73114583,  0.73793137,  0.74464312,\n",
       "        0.75128041,  0.75784256,  0.76432894,  0.77073888,  0.77707175,\n",
       "        0.78332691,  0.78950374,  0.79560162,  0.80161994,  0.8075581 ,\n",
       "        0.8134155 ,  0.81919157,  0.82488571,  0.83049737,  0.83602598])"
      ]
     },
     "execution_count": 50,
     "metadata": {},
     "output_type": "execute_result"
    }
   ],
   "source": [
    "np.zeros(6)\n",
    "np.zeros((2,3))\n",
    "np.ones((2,2,3))\n",
    "np.zeros_like(array_3d)\n",
    "np.ones_like(array_3d)\n",
    "np.identity(10)\n",
    "np.arange(36)\n",
    "np.sin(np.arange(0,1,0.01))"
   ]
  },
  {
   "cell_type": "code",
   "execution_count": null,
   "metadata": {
    "collapsed": true
   },
   "outputs": [],
   "source": [
    "np.sin"
   ]
  },
  {
   "cell_type": "code",
   "execution_count": 49,
   "metadata": {},
   "outputs": [
    {
     "data": {
      "text/plain": [
       "[0, 2, 4, 6, 8, 10, 12, 14, 16, 18, 20, 22, 24, 26, 28]"
      ]
     },
     "execution_count": 49,
     "metadata": {},
     "output_type": "execute_result"
    }
   ],
   "source": [
    "list(range(0,30,2))"
   ]
  },
  {
   "cell_type": "code",
   "execution_count": 51,
   "metadata": {},
   "outputs": [
    {
     "ename": "NameError",
     "evalue": "name 'randn' is not defined",
     "output_type": "error",
     "traceback": [
      "\u001b[0;31m---------------------------------------------------------------------------\u001b[0m",
      "\u001b[0;31mNameError\u001b[0m                                 Traceback (most recent call last)",
      "\u001b[0;32m<ipython-input-51-35e07da10b7b>\u001b[0m in \u001b[0;36m<module>\u001b[0;34m()\u001b[0m\n\u001b[0;32m----> 1\u001b[0;31m \u001b[0mrandn\u001b[0m\u001b[0;34m(\u001b[0m\u001b[0;36m4\u001b[0m\u001b[0;34m,\u001b[0m\u001b[0;36m4\u001b[0m\u001b[0;34m)\u001b[0m\u001b[0;34m\u001b[0m\u001b[0m\n\u001b[0m",
      "\u001b[0;31mNameError\u001b[0m: name 'randn' is not defined"
     ]
    }
   ],
   "source": []
  },
  {
   "cell_type": "code",
   "execution_count": 75,
   "metadata": {
    "hidden": true
   },
   "outputs": [
    {
     "data": {
      "text/plain": [
       "array([[ 0.48767631, -0.6062406 ,  0.44813596],\n",
       "       [ 0.66263748,  1.17674157,  1.07128099],\n",
       "       [-0.22348336, -0.21597986,  0.69483283],\n",
       "       [ 0.58800747,  1.35227754, -0.32739353]])"
      ]
     },
     "execution_count": 75,
     "metadata": {},
     "output_type": "execute_result"
    }
   ],
   "source": [
    "rand_array = np.random.randn(4,3)# 4*3 normal distribution\n",
    "rand_array"
   ]
  },
  {
   "cell_type": "code",
   "execution_count": 54,
   "metadata": {},
   "outputs": [
    {
     "data": {
      "text/plain": [
       "(4, 3)"
      ]
     },
     "execution_count": 54,
     "metadata": {},
     "output_type": "execute_result"
    }
   ],
   "source": [
    "rand_array.shape"
   ]
  },
  {
   "cell_type": "code",
   "execution_count": 55,
   "metadata": {},
   "outputs": [
    {
     "data": {
      "text/plain": [
       "dtype('float64')"
      ]
     },
     "execution_count": 55,
     "metadata": {},
     "output_type": "execute_result"
    }
   ],
   "source": [
    "rand_array.dtype"
   ]
  },
  {
   "cell_type": "code",
   "execution_count": 56,
   "metadata": {},
   "outputs": [
    {
     "data": {
      "text/plain": [
       "12"
      ]
     },
     "execution_count": 56,
     "metadata": {},
     "output_type": "execute_result"
    }
   ],
   "source": [
    "rand_array.size"
   ]
  },
  {
   "cell_type": "markdown",
   "metadata": {
    "heading_collapsed": true,
    "hidden": true
   },
   "source": [
    "#### Useful metadata in an ndarray\n",
    "\n",
    "An ndarray is an object representing an array (usually of numbers) of type *ndarray* along with information about the array, such as its underlying data type, number of dimensions, and shape. \n",
    "\n",
    "object | value\n",
    ":----- | :--------\n",
    "ndim   | number of dimensions\n",
    "shape  | shape of ndarray (number of items in each dimension)\n",
    "dtype  | underlying data type\n",
    "size   | number of data items\n"
   ]
  },
  {
   "cell_type": "code",
   "execution_count": 57,
   "metadata": {},
   "outputs": [
    {
     "data": {
      "text/plain": [
       "2"
      ]
     },
     "execution_count": 57,
     "metadata": {},
     "output_type": "execute_result"
    }
   ],
   "source": [
    "rand_array.ndim"
   ]
  },
  {
   "cell_type": "code",
   "execution_count": 59,
   "metadata": {},
   "outputs": [
    {
     "data": {
      "text/plain": [
       "array([[ 0.67366773, -0.95536656,  1.83519574],\n",
       "       [ 0.31698803, -0.22317846,  0.6671412 ],\n",
       "       [-0.6580559 , -1.21531155,  0.06162332],\n",
       "       [-0.19811637, -1.25460863, -0.23509648]])"
      ]
     },
     "execution_count": 59,
     "metadata": {},
     "output_type": "execute_result"
    }
   ],
   "source": [
    "array_2d = rand_array\n",
    "array_2d"
   ]
  },
  {
   "cell_type": "code",
   "execution_count": 9,
   "metadata": {
    "collapsed": true,
    "hidden": true
   },
   "outputs": [],
   "source": [
    "# print, and use introspection to look inside these ndarrays (shape, dim, dtype, ...)\n"
   ]
  },
  {
   "cell_type": "markdown",
   "metadata": {
    "heading_collapsed": true,
    "hidden": true
   },
   "source": [
    "#### operations on ndarrays\n",
    "In general, treat the array as if it were a single mathematical object. See the example above."
   ]
  },
  {
   "cell_type": "code",
   "execution_count": 61,
   "metadata": {
    "hidden": true
   },
   "outputs": [
    {
     "name": "stdout",
     "output_type": "stream",
     "text": [
      "[[ 0.67366773 -0.95536656  1.83519574]\n",
      " [ 0.31698803 -0.22317846  0.6671412 ]\n",
      " [-0.6580559  -1.21531155  0.06162332]\n",
      " [-0.19811637 -1.25460863 -0.23509648]]\n",
      "[[ -9.32633227 -10.95536656  -8.16480426]\n",
      " [ -9.68301197 -10.22317846  -9.3328588 ]\n",
      " [-10.6580559  -11.21531155  -9.93837668]\n",
      " [-10.19811637 -11.25460863 -10.23509648]]\n",
      "[[  67.36677338  -95.53665569  183.51957409]\n",
      " [  31.69880344  -22.31784562   66.71412034]\n",
      " [ -65.80558992 -121.53115507    6.16233249]\n",
      " [ -19.81163672 -125.46086333  -23.50964813]]\n",
      "[[  68.04044112  -96.49202225  185.35476983]\n",
      " [  32.01579147  -22.54102408   67.38126154]\n",
      " [ -66.46364582 -122.74646662    6.22395582]\n",
      " [ -20.00975308 -126.71547197  -23.74474461]]\n",
      "[[  3.05729426e-01  -8.71987187e-01   6.18083540e+00]\n",
      " [  3.18514059e-02  -1.11162117e-02   2.96929462e-01]\n",
      " [ -2.84962925e-01  -1.79499349e+00   2.34010520e-04]\n",
      " [ -7.77608622e-03  -1.97480771e+00  -1.29938661e-02]]\n",
      "[[ 0.67366773 -0.95536656  1.83519574]\n",
      " [ 0.31698803 -0.22317846  0.6671412 ]\n",
      " [-0.6580559  -1.21531155  0.06162332]\n",
      " [-0.19811637 -1.25460863 -0.23509648]]\n",
      "[[ 0.82077264         nan  1.35469397]\n",
      " [ 0.5630169          nan  0.81678712]\n",
      " [        nan         nan  0.24824046]\n",
      " [        nan         nan         nan]]\n"
     ]
    },
    {
     "name": "stderr",
     "output_type": "stream",
     "text": [
      "/usr/local/lib/python2.7/site-packages/ipykernel/__main__.py:13: RuntimeWarning: invalid value encountered in sqrt\n"
     ]
    }
   ],
   "source": [
    "a, b, c = 1, 2, 3\n",
    "x = array_2d\n",
    "y = array_2d - 10\n",
    "z = array_2d * 100\n",
    "\n",
    "print(x)\n",
    "print(y)\n",
    "print(z)\n",
    "\n",
    "print(x+z)\n",
    "print(x*x*x)\n",
    "print(x)\n",
    "print(x**0.5)# pingfang gen?"
   ]
  },
  {
   "cell_type": "code",
   "execution_count": 62,
   "metadata": {
    "hidden": true,
    "scrolled": true
   },
   "outputs": [
    {
     "name": "stdout",
     "output_type": "stream",
     "text": [
      "[[  1.48441131  -1.04671866   0.544901  ]\n",
      " [  3.15469321  -4.48071923   1.49893305]\n",
      " [ -1.51962774  -0.82283428  16.22762162]\n",
      " [ -5.04753855  -0.79706131  -4.25357281]]\n",
      "[array([[ 1.,  1.,  1.],\n",
      "       [ 1.,  1.,  1.],\n",
      "       [ 1.,  1.,  1.],\n",
      "       [ 1.,  1.,  1.]]), array([[  1.48441131,  -1.04671866,   0.544901  ],\n",
      "       [  3.15469321,  -4.48071923,   1.49893305],\n",
      "       [ -1.51962774,  -0.82283428,  16.22762162],\n",
      "       [ -5.04753855,  -0.79706131,  -4.25357281]]), array([[   2.20347692,    1.09561995,    0.2969171 ],\n",
      "       [   9.95208925,   20.0768448 ,    2.24680029],\n",
      "       [   2.30926847,    0.67705625,  263.33570332],\n",
      "       [  25.47764538,    0.63530673,   18.09288163]]), array([[  3.27086605e+00,  -1.14680584e+00,   1.61790427e-01],\n",
      "       [  3.13957884e+01,  -8.99587045e+01,   3.36780322e+00],\n",
      "       [ -3.50922843e+00,  -5.57105086e-01,   4.27331215e+03],\n",
      "       [ -1.28599397e+02,  -5.06378415e-01,  -7.69593893e+01]]), array([[  4.85531055e+00,   1.20038307e+00,   8.81597661e-02],\n",
      "       [  9.90440805e+01,   4.03079697e+02,   5.04811156e+00],\n",
      "       [  5.33272088e+00,   4.58405160e-01,   6.93456926e+04],\n",
      "       [  6.49110414e+02,   4.03614642e-01,   3.27352366e+02]])]\n"
     ]
    }
   ],
   "source": [
    "inv = 1/x\n",
    "print(inv)\n",
    "print([inv**i for i in range(5)])"
   ]
  },
  {
   "cell_type": "code",
   "execution_count": 63,
   "metadata": {
    "hidden": true
   },
   "outputs": [
    {
     "name": "stdout",
     "output_type": "stream",
     "text": [
      "[[ 0.62385665 -0.81652541  0.96524963]\n",
      " [ 0.31170607 -0.22133036  0.61874267]\n",
      " [-0.61157987 -0.93747788  0.06158433]\n",
      " [-0.19682289 -0.95042774 -0.23293681]]\n"
     ]
    }
   ],
   "source": [
    "print(np.sin(rand_array))"
   ]
  },
  {
   "cell_type": "code",
   "execution_count": 64,
   "metadata": {
    "hidden": true
   },
   "outputs": [
    {
     "name": "stderr",
     "output_type": "stream",
     "text": [
      "/usr/local/lib/python2.7/site-packages/ipykernel/__main__.py:2: RuntimeWarning: invalid value encountered in log2\n",
      "  from ipykernel import kernelapp as app\n",
      "/usr/local/lib/python2.7/site-packages/ipykernel/__main__.py:4: RuntimeWarning: invalid value encountered in sqrt\n"
     ]
    },
    {
     "data": {
      "text/plain": [
       "array([[ 0.82077264,         nan,  1.35469397],\n",
       "       [ 0.5630169 ,         nan,  0.81678712],\n",
       "       [        nan,         nan,  0.24824046],\n",
       "       [        nan,         nan,         nan]])"
      ]
     },
     "execution_count": 64,
     "metadata": {},
     "output_type": "execute_result"
    }
   ],
   "source": [
    "np.sin(array_2d)\n",
    "np.log2(array_2d)\n",
    "np.exp(array_2d)\n",
    "np.sqrt(array_2d)"
   ]
  },
  {
   "cell_type": "markdown",
   "metadata": {
    "hidden": true
   },
   "source": [
    "Comparisons are element-wise"
   ]
  },
  {
   "cell_type": "code",
   "execution_count": 76,
   "metadata": {
    "hidden": true
   },
   "outputs": [
    {
     "name": "stdout",
     "output_type": "stream",
     "text": [
      "[[ 0.48767631 -0.6062406   0.44813596]\n",
      " [ 0.66263748  1.17674157  1.07128099]\n",
      " [-0.22348336 -0.21597986  0.69483283]\n",
      " [ 0.58800747  1.35227754 -0.32739353]]\n"
     ]
    },
    {
     "data": {
      "text/plain": [
       "array([[False,  True, False],\n",
       "       [False, False, False],\n",
       "       [ True,  True, False],\n",
       "       [False, False,  True]], dtype=bool)"
      ]
     },
     "execution_count": 76,
     "metadata": {},
     "output_type": "execute_result"
    }
   ],
   "source": [
    "#print(x)\n",
    "x*x == x**2 # x de pingfang\n",
    "print(rand_array)\n",
    "rand_array < 0\n",
    "#rand_array > 0.5"
   ]
  },
  {
   "cell_type": "code",
   "execution_count": 77,
   "metadata": {},
   "outputs": [
    {
     "data": {
      "text/plain": [
       "array([-0.6062406 , -0.22348336, -0.21597986, -0.32739353])"
      ]
     },
     "execution_count": 77,
     "metadata": {},
     "output_type": "execute_result"
    }
   ],
   "source": [
    "rand_array[[rand_array < 0]]"
   ]
  },
  {
   "cell_type": "code",
   "execution_count": 78,
   "metadata": {
    "collapsed": true
   },
   "outputs": [],
   "source": [
    "rand_array[[rand_array < 0]] = 0"
   ]
  },
  {
   "cell_type": "code",
   "execution_count": 79,
   "metadata": {},
   "outputs": [
    {
     "data": {
      "text/plain": [
       "array([[ 0.48767631,  0.        ,  0.44813596],\n",
       "       [ 0.66263748,  1.17674157,  1.07128099],\n",
       "       [ 0.        ,  0.        ,  0.69483283],\n",
       "       [ 0.58800747,  1.35227754,  0.        ]])"
      ]
     },
     "execution_count": 79,
     "metadata": {},
     "output_type": "execute_result"
    }
   ],
   "source": [
    "rand_array"
   ]
  },
  {
   "cell_type": "code",
   "execution_count": 15,
   "metadata": {
    "hidden": true
   },
   "outputs": [
    {
     "data": {
      "text/plain": [
       "array([[ 1.19002306,  0.        ,  0.        ,  0.        ],\n",
       "       [ 0.        ,  1.13032307,  0.        ,  0.        ],\n",
       "       [ 0.36517981,  0.        ,  0.72541045,  0.66443252],\n",
       "       [ 0.        ,  0.        ,  0.        ,  0.68461737]])"
      ]
     },
     "execution_count": 15,
     "metadata": {},
     "output_type": "execute_result"
    }
   ],
   "source": [
    "# important example\n",
    "rand_array[[rand_array > 0.5]]\n",
    "rand_array[[rand_array < 0.8]]\n",
    "\n",
    "rand_array[[rand_array < 0]] = 0\n",
    "rand_array"
   ]
  },
  {
   "cell_type": "markdown",
   "metadata": {
    "heading_collapsed": true,
    "hidden": true
   },
   "source": [
    "#### Useful ndarray methods\n",
    "\n",
    "method | meaning\n",
    ":----- | :------\n",
    "reshape(dim) | reshape to dimension *dim* (a tuple)\n",
    "T      | tranpose the matrix"
   ]
  },
  {
   "cell_type": "code",
   "execution_count": 16,
   "metadata": {
    "hidden": true
   },
   "outputs": [
    {
     "name": "stdout",
     "output_type": "stream",
     "text": [
      "[ 0  1  2  3  4  5  6  7  8  9 10 11]\n",
      "[[ 0  1  2]\n",
      " [ 3  4  5]\n",
      " [ 6  7  8]\n",
      " [ 9 10 11]]\n",
      "[[ 0  3  6  9]\n",
      " [ 1  4  7 10]\n",
      " [ 2  5  8 11]]\n"
     ]
    }
   ],
   "source": [
    "x = np.arange(12)\n",
    "print(x)\n",
    "\n",
    "x = x.reshape((4,3))\n",
    "print(x)\n",
    "\n",
    "y = x.T\n",
    "print(y)"
   ]
  },
  {
   "cell_type": "code",
   "execution_count": 82,
   "metadata": {},
   "outputs": [
    {
     "name": "stdout",
     "output_type": "stream",
     "text": [
      "(12,)\n",
      "(4, 3)\n"
     ]
    }
   ],
   "source": [
    "x = np.arange(12)\n",
    "print(x.shape)\n",
    "x =x.reshape(4,3)\n",
    "print(x.shape)"
   ]
  },
  {
   "cell_type": "markdown",
   "metadata": {
    "heading_collapsed": true,
    "hidden": true
   },
   "source": [
    "### Indexing: major advantage of np.ndarrays\n",
    "\n",
    "Indexing and slicing as in base python works, but they are enhanced for ndarrays.\n",
    "\n",
    "Each dimension can be indexed separately, separated by commas. (see page 99, Fig 4.2). or see above for more examples."
   ]
  },
  {
   "cell_type": "code",
   "execution_count": 17,
   "metadata": {
    "hidden": true
   },
   "outputs": [
    {
     "name": "stdout",
     "output_type": "stream",
     "text": [
      "[[[ 1  2  3]\n",
      "  [ 4  5  6]]\n",
      "\n",
      " [[ 7  8  9]\n",
      "  [10 11 12]]]\n"
     ]
    },
    {
     "data": {
      "text/plain": [
       "array([[1, 2, 3]])"
      ]
     },
     "execution_count": 17,
     "metadata": {},
     "output_type": "execute_result"
    }
   ],
   "source": [
    "print(array_3d)\n",
    "array_3d[1]\n",
    "array_3d[1][0]\n",
    "array_3d[1,0]\n",
    "array_3d[0:1]\n",
    "array_3d[0:1,0]"
   ]
  },
  {
   "cell_type": "markdown",
   "metadata": {
    "hidden": true
   },
   "source": [
    "boolean indexes can be very useful"
   ]
  },
  {
   "cell_type": "code",
   "execution_count": 69,
   "metadata": {
    "hidden": true
   },
   "outputs": [
    {
     "name": "stdout",
     "output_type": "stream",
     "text": [
      "[[ 0.47165968  2.96523916  1.60571725 -0.28499313]\n",
      " [ 0.20878621 -1.4065736  -1.28408549 -1.81548301]\n",
      " [-0.11925291 -1.06156564 -0.92073385 -0.01662445]\n",
      " [ 0.14383095  0.12294332 -1.18733936 -0.05021095]]\n",
      "[[False False False  True]\n",
      " [False  True  True  True]\n",
      " [ True  True  True  True]\n",
      " [False False  True  True]]\n",
      "[-0.28499313 -1.4065736  -1.28408549 -1.81548301 -0.11925291 -1.06156564\n",
      " -0.92073385 -0.01662445 -1.18733936 -0.05021095]\n",
      "[[ 0.47165968         nan         nan  0.        ]\n",
      " [ 0.20878621  0.          0.          0.        ]\n",
      " [ 0.          0.          0.          0.        ]\n",
      " [ 0.14383095  0.12294332  0.          0.        ]]\n"
     ]
    }
   ],
   "source": [
    "rand_array = np.random.randn(4,4)\n",
    "\n",
    "print(rand_array)\n",
    "print(rand_array<0)\n",
    "\n",
    "ra_nz = rand_array[rand_array<0]\n",
    "print(ra_nz)\n",
    "\n",
    "rand_array[rand_array<0] = 0\n",
    "rand_array[rand_array>1] = None\n",
    "\n",
    "print(rand_array)"
   ]
  },
  {
   "cell_type": "markdown",
   "metadata": {
    "heading_collapsed": true,
    "hidden": true
   },
   "source": [
    "### Slices\n",
    "A  slice is a window into the original object defined by the slice. That is, it is a *reference*. Changing it changes the original object. "
   ]
  },
  {
   "cell_type": "code",
   "execution_count": 18,
   "metadata": {
    "hidden": true
   },
   "outputs": [
    {
     "data": {
      "text/plain": [
       "array([0, 1, 2, 3, 4, 5, 6, 7, 8, 9])"
      ]
     },
     "execution_count": 18,
     "metadata": {},
     "output_type": "execute_result"
    }
   ],
   "source": [
    "one_to_ten = np.arange(10)\n",
    "one_to_ten"
   ]
  },
  {
   "cell_type": "code",
   "execution_count": 19,
   "metadata": {
    "hidden": true
   },
   "outputs": [
    {
     "data": {
      "text/plain": [
       "array([2, 3, 4, 5])"
      ]
     },
     "execution_count": 19,
     "metadata": {},
     "output_type": "execute_result"
    }
   ],
   "source": [
    "middle_slice = one_to_ten[2:6]\n",
    "middle_slice"
   ]
  },
  {
   "cell_type": "code",
   "execution_count": 20,
   "metadata": {
    "hidden": true
   },
   "outputs": [
    {
     "data": {
      "text/plain": [
       "array([  0,   1, 999,   3,   4,   5,   6,   7,   8,   9])"
      ]
     },
     "execution_count": 20,
     "metadata": {},
     "output_type": "execute_result"
    }
   ],
   "source": [
    "middle_slice[0] = 999\n",
    "one_to_ten"
   ]
  },
  {
   "cell_type": "code",
   "execution_count": 21,
   "metadata": {
    "hidden": true
   },
   "outputs": [
    {
     "data": {
      "text/plain": [
       "array([  0,   1, 666, 666, 666, 666,   6,   7,   8,   9])"
      ]
     },
     "execution_count": 21,
     "metadata": {},
     "output_type": "execute_result"
    }
   ],
   "source": [
    "middle_slice[:] = 666\n",
    "one_to_ten"
   ]
  },
  {
   "cell_type": "markdown",
   "metadata": {
    "heading_collapsed": true,
    "hidden": true
   },
   "source": [
    "### Fancy indexing\n",
    "\n",
    "(probably ignore this) \n",
    "\n",
    "If you use an list as an index, the elements of the list act like individual indexes on that dimension. This is relatively esoteric. Don't worry if you don't get it."
   ]
  },
  {
   "cell_type": "code",
   "execution_count": 232,
   "metadata": {
    "hidden": true
   },
   "outputs": [
    {
     "name": "stdout",
     "output_type": "stream",
     "text": [
      "[[1 2 3]\n",
      " [4 5 6]]\n"
     ]
    },
    {
     "data": {
      "text/plain": [
       "array([3, 1])"
      ]
     },
     "execution_count": 232,
     "metadata": {},
     "output_type": "execute_result"
    }
   ],
   "source": [
    "print(array_2d)\n",
    "array_2d[0,[2,0]]"
   ]
  },
  {
   "cell_type": "markdown",
   "metadata": {},
   "source": [
    "## Math and stat methods and objects in numpy"
   ]
  },
  {
   "cell_type": "markdown",
   "metadata": {},
   "source": [
    "### Objects\n",
    "\n",
    "name | value\n",
    ":--- | :-----\n",
    "pi   | pi\n",
    "e    | e"
   ]
  },
  {
   "cell_type": "code",
   "execution_count": 233,
   "metadata": {},
   "outputs": [
    {
     "data": {
      "text/plain": [
       "2.718281828459045"
      ]
     },
     "execution_count": 233,
     "metadata": {},
     "output_type": "execute_result"
    }
   ],
   "source": [
    "np.pi\n",
    "np.e"
   ]
  },
  {
   "cell_type": "markdown",
   "metadata": {
    "heading_collapsed": true
   },
   "source": [
    "### methods"
   ]
  },
  {
   "cell_type": "markdown",
   "metadata": {
    "heading_collapsed": true,
    "hidden": true
   },
   "source": [
    "#### (pseudo) randomly generated numbers\n",
    "\n",
    "numpy.random is a namespace with *many* different methods for generating (pseudo) random numbers\n",
    "\n",
    "name | value\n",
    ":--- | :----\n",
    "randn(shape) | normally distributed random variables\n",
    "randint(max) | uniformly choose integer in [0,max]\n",
    "rand(shape)  | produce ndarray of uniformly random floats in [0,1)\n",
    "random(size) | uniformly distributed \"size\" random floats in range [0,1)\n",
    "binomial(n, p, size) | (size replicates of) n (int) samples with probability p from [0,1]\n",
    "weibull(a, size) | generate size numbers with a weibull (extreme value) distribution with parameter a"
   ]
  },
  {
   "cell_type": "code",
   "execution_count": 234,
   "metadata": {
    "collapsed": true,
    "hidden": true
   },
   "outputs": [],
   "source": [
    "from numpy import random as rnd"
   ]
  },
  {
   "cell_type": "code",
   "execution_count": 235,
   "metadata": {
    "hidden": true
   },
   "outputs": [
    {
     "name": "stdout",
     "output_type": "stream",
     "text": [
      "[[ 0.02561383  0.06899306  1.54549121  0.85423399]\n",
      " [ 1.83377112 -0.84107469  0.28661427 -0.4373543 ]\n",
      " [ 0.71233306 -0.95604234  1.06416755 -0.23506333]\n",
      " [ 0.93106263 -0.93221762  0.82433817 -0.159163  ]]\n"
     ]
    }
   ],
   "source": [
    "rand_array = np.random.randn(4,4) # normally distributed\n",
    "print(rand_array)"
   ]
  },
  {
   "cell_type": "code",
   "execution_count": 236,
   "metadata": {
    "hidden": true
   },
   "outputs": [
    {
     "name": "stdout",
     "output_type": "stream",
     "text": [
      "intimidation check. you win? False\n"
     ]
    }
   ],
   "source": [
    "print('intimidation check. you win? {}'.format(\n",
    "    np.random.randint(20) < np.random.randint(20)) \n",
    "    )"
   ]
  },
  {
   "cell_type": "code",
   "execution_count": 243,
   "metadata": {
    "hidden": true
   },
   "outputs": [
    {
     "data": {
      "text/plain": [
       "array([ 0.77785677,  0.98800478,  0.68419438,  0.20992145,  0.35217165,\n",
       "        0.23875826,  0.14737021,  0.26462766,  0.09297417,  0.37955223])"
      ]
     },
     "execution_count": 243,
     "metadata": {},
     "output_type": "execute_result"
    }
   ],
   "source": [
    "np.random.random(10) # uniform distribution on [0,1]\n"
   ]
  },
  {
   "cell_type": "code",
   "execution_count": 244,
   "metadata": {
    "collapsed": true,
    "hidden": true
   },
   "outputs": [],
   "source": [
    "POINTS = 100\n",
    "test_range = np.arange(POINTS)\n",
    "u_values = rnd.random(POINTS)\n",
    "n_values = rnd.randn(POINTS)\n",
    "w_values_1 = rnd.weibull(1,POINTS)\n",
    "w_values_4 = rnd.weibull(4,POINTS)"
   ]
  },
  {
   "cell_type": "code",
   "execution_count": 245,
   "metadata": {
    "collapsed": true,
    "hidden": true
   },
   "outputs": [],
   "source": [
    "from matplotlib import pyplot as plt\n",
    "%matplotlib inline"
   ]
  },
  {
   "cell_type": "code",
   "execution_count": 246,
   "metadata": {
    "hidden": true
   },
   "outputs": [
    {
     "data": {
      "text/plain": [
       "<matplotlib.legend.Legend at 0x12014e080>"
      ]
     },
     "execution_count": 246,
     "metadata": {},
     "output_type": "execute_result"
    },
    {
     "data": {
      "image/png": "[encoded data removed]",
      "text/plain": [
       "<Figure size 432x288 with 1 Axes>"
      ]
     },
     "metadata": {},
     "output_type": "display_data"
    }
   ],
   "source": [
    "x = plt.plot(sorted(u_values), label='uniform')\n",
    "x = plt.plot(sorted(n_values), label='normal')\n",
    "x = plt.plot(sorted(w_values_1), label='weibull 1')\n",
    "x = plt.plot(sorted(w_values_4), label='weibull 4')\n",
    "plt.title('sorted random draws')\n",
    "plt.xlabel('value of draw')\n",
    "plt.ylabel('(sorted) iteration')\n",
    "plt.hlines(0, 0, POINTS, color='b', linestyle='dashed')\n",
    "plt.legend()"
   ]
  },
  {
   "cell_type": "markdown",
   "metadata": {
    "heading_collapsed": true,
    "hidden": true
   },
   "source": [
    "#### Other methods\n",
    "\n",
    "name | value\n",
    ":--- | :----\n",
    "sum  | total of entries in the ndarray\n",
    "mean | mean of entries in ndarray\n",
    "std  | standard devisation of entries in the ndarray\n",
    "cumsum | cumulative sum of entries in the ndarray\n",
    "sort | sort the ndarray\n",
    "argmax | the index of the maximum item in the ndarray\n",
    "argmin | the index of the minimum item in the ndarray\n",
    "\n",
    "Many of these can work over different axes. Think of *axis=0* as working on rows, and *axis=1* as working on columns. (I find that thinking of \"x axis\" and \"y axis\" is misleading."
   ]
  },
  {
   "cell_type": "code",
   "execution_count": 247,
   "metadata": {
    "hidden": true
   },
   "outputs": [
    {
     "name": "stdout",
     "output_type": "stream",
     "text": [
      "[[0 1]\n",
      " [2 3]\n",
      " [4 5]]\n"
     ]
    }
   ],
   "source": [
    "seq_array = np.arange(6).reshape((3,2))\n",
    "print(seq_array)"
   ]
  },
  {
   "cell_type": "code",
   "execution_count": 248,
   "metadata": {
    "hidden": true
   },
   "outputs": [
    {
     "name": "stdout",
     "output_type": "stream",
     "text": [
      "15\n",
      "[6 9]\n",
      "[1 5 9]\n"
     ]
    }
   ],
   "source": [
    "print(seq_array.sum())\n",
    "print(seq_array.sum(axis=0))\n",
    "print(seq_array.sum(axis=1))"
   ]
  },
  {
   "cell_type": "code",
   "execution_count": 249,
   "metadata": {
    "hidden": true
   },
   "outputs": [
    {
     "name": "stdout",
     "output_type": "stream",
     "text": [
      "Random array: [[ 0.02561383  0.06899306  1.54549121  0.85423399]\n",
      " [ 1.83377112 -0.84107469  0.28661427 -0.4373543 ]\n",
      " [ 0.71233306 -0.95604234  1.06416755 -0.23506333]\n",
      " [ 0.93106263 -0.93221762  0.82433817 -0.159163  ]]\n",
      "\n",
      "means in total: 0.2866064755956365\n",
      "std in total: 0.8367664134128783\n",
      "\n",
      "means moving across rows: [ 0.87569516 -0.6650854   0.9301528   0.00566334]\n",
      "std moving across rows: [ 0.64620054  0.42598679  0.4533045   0.50036333]\n",
      "\n",
      "means moving across columns: [ 0.62358302  0.2104891   0.14634873  0.16600505]\n",
      "std moving across columns: [ 0.62614929  1.02057913  0.79427182  0.76330579]\n"
     ]
    }
   ],
   "source": [
    "print('Random array: {}\\n'.format(rand_array))\n",
    "print('means in total: {}'.format(rand_array.mean()))\n",
    "print('std in total: {}\\n'.format(rand_array.std()))\n",
    "print('means moving across rows: {}'.format(rand_array.mean(axis=0)))\n",
    "print('std moving across rows: {}\\n'.format(rand_array.std(axis=0)))\n",
    "print('means moving across columns: {}'.format(rand_array.mean(axis=1)))\n",
    "print('std moving across columns: {}'.format(rand_array.std(axis=1)))"
   ]
  },
  {
   "cell_type": "code",
   "execution_count": 250,
   "metadata": {
    "hidden": true,
    "scrolled": true
   },
   "outputs": [
    {
     "name": "stdout",
     "output_type": "stream",
     "text": [
      "[[ 0.84257346  0.5132585   0.52780596]\n",
      " [ 0.92110009  0.96585079  0.77135798]]\n",
      "\n",
      "cumulative\n",
      "[ 0.84257346  1.35583197  1.88363793  2.80473802  3.77058881  4.5419468 ]\n",
      "\n",
      "cumulative over rows\n",
      "[[ 0.84257346  0.5132585   0.52780596]\n",
      " [ 1.76367356  1.47910929  1.29916395]]\n",
      "\n",
      "cumulative over columns\n",
      "[[ 0.84257346  1.35583197  1.88363793]\n",
      " [ 0.92110009  1.88695088  2.65830886]]\n"
     ]
    }
   ],
   "source": [
    "rand_array = np.random.rand(2,3)\n",
    "print(rand_array); print()\n",
    "print('cumulative\\n{}\\n'.format(rand_array.cumsum()))\n",
    "print('cumulative over rows\\n{}\\n'.format(rand_array.cumsum(axis=0)))\n",
    "print('cumulative over columns\\n{}'.format(rand_array.cumsum(axis=1)))"
   ]
  },
  {
   "cell_type": "code",
   "execution_count": 251,
   "metadata": {
    "hidden": true
   },
   "outputs": [
    {
     "name": "stdout",
     "output_type": "stream",
     "text": [
      "Random list:\n",
      "[-1.11613449 -1.7521963  -0.91373097  1.66348375  0.02244338  0.95649189\n",
      " -0.83206792 -0.24969248 -1.59239606  0.9244957 ]\n",
      "\n",
      "max in [-1.11613449 -1.7521963  -0.91373097  1.66348375  0.02244338  0.95649189\n",
      " -0.83206792 -0.24969248 -1.59239606  0.9244957 ]\n",
      "\tis at index 3\n",
      "\tvalue 1.663483750213086\n"
     ]
    }
   ],
   "source": [
    "rand_list = np.random.randn(10)\n",
    "print('Random list:\\n{}\\n'.format(rand_list))\n",
    "#print(rand_list.argmax())\n",
    "#print(rand_list.argmin())\n",
    "\n",
    "print('max in {}\\n\\tis at index {}\\n\\tvalue {}'.format(rand_list, \n",
    "                                                  rand_list.argmax(),\n",
    "                                                  rand_list[rand_list.argmax()]\n",
    "                                                 )                                                           \n",
    "     )"
   ]
  },
  {
   "cell_type": "markdown",
   "metadata": {},
   "source": [
    "## less silly example: microbiome data from a file\n",
    "\n",
    "Compute average relative abundance of each taxa in a microbiome sample, and average relative abundance over all taxa in each sample."
   ]
  },
  {
   "cell_type": "code",
   "execution_count": 252,
   "metadata": {
    "collapsed": true
   },
   "outputs": [],
   "source": [
    "import numpy as np"
   ]
  },
  {
   "cell_type": "markdown",
   "metadata": {
    "heading_collapsed": true
   },
   "source": [
    "### The first attempt to read the file has an (instructive) problem"
   ]
  },
  {
   "cell_type": "code",
   "execution_count": 22,
   "metadata": {
    "collapsed": true,
    "hidden": true
   },
   "outputs": [],
   "source": [
    "# pull off general data from file\n",
    "\n",
    "file_name = 'microbiome_data.txt'\n",
    "fh = open(file_name, 'r')\n",
    "abundances = fh.read() # .split('\\n')\n",
    "x = [s.split('\\t') for s in abundances.split('\\n')]\n",
    "\n",
    "taxa_headers = x[0][1:-3]\n",
    "statistic_headers = x[0][-3:]\n",
    "patient_ids = [s.pop(0) for s in x[1:]]"
   ]
  },
  {
   "cell_type": "code",
   "execution_count": 25,
   "metadata": {
    "hidden": true
   },
   "outputs": [
    {
     "data": {
      "text/plain": [
       "['Total', 'Shannon', 'Simpson']"
      ]
     },
     "execution_count": 25,
     "metadata": {},
     "output_type": "execute_result"
    }
   ],
   "source": []
  },
  {
   "cell_type": "code",
   "execution_count": null,
   "metadata": {
    "collapsed": true,
    "hidden": true
   },
   "outputs": [],
   "source": [
    "# create the ndarray\n",
    "\n",
    "array2d = [[np.float(digit) for digit in line[1:]] for line in x[1:]] #x[1:-1]]\n",
    "\n",
    "data = np.array(array2d)\n",
    "\n",
    "print(data)"
   ]
  },
  {
   "cell_type": "code",
   "execution_count": null,
   "metadata": {
    "collapsed": true,
    "hidden": true
   },
   "outputs": [],
   "source": [
    "# What went wrong? How to fix it?\n",
    "\n",
    "#print('array: {}\\n'.format(array2d))\n",
    "#print([x[-1]])\n",
    "#print(x[-1])\n",
    "\n",
    "#print('{} \\n\\tline {}'.format(x[24], array2d[24]))\n",
    "#patient_ids[24]\n"
   ]
  },
  {
   "cell_type": "markdown",
   "metadata": {
    "heading_collapsed": true
   },
   "source": [
    "### example do-over"
   ]
  },
  {
   "cell_type": "code",
   "execution_count": 88,
   "metadata": {
    "collapsed": true,
    "hidden": true
   },
   "outputs": [],
   "source": [
    "# 0. get the data into a format we can use\n",
    "\n",
    "file_name = 'microbiome_data.txt'\n",
    "fh = open(file_name, 'r')\n",
    "abundances = fh.read() # .split('\\n')\n",
    "x = [l.split('\\t') for l in abundances.split('\\n') if l != ''] # <-- fixes problem\n",
    "\n",
    "taxa_headers = x[0][1:-3]\n",
    "statistic_headers = x[0][-3:]\n",
    "patient_ids = [l.pop(0).strip() for l in x[1:]]\n",
    "\n",
    "#print('taxa_headers: {}\\n'.format(taxa_headers))\n",
    "#print('statistic_headers: {}\\n'.format(statistic_headers))\n",
    "#print('patient_ids: {}\\n'.format(patient_ids))\n"
   ]
  },
  {
   "cell_type": "code",
   "execution_count": 114,
   "metadata": {
    "hidden": true
   },
   "outputs": [
    {
     "name": "stdout",
     "output_type": "stream",
     "text": [
      "data head: [[  4.94516432e-01   4.61420465e-02   1.39385638e-03   8.31490024e-04\n",
      "    9.93904827e-02   3.23562646e-01   2.52985226e-05   1.86124719e-03\n",
      "    1.38613595e-02   7.30994152e-05   1.83420418e-02   2.32880000e+04\n",
      "    1.24896989e+00   2.76408392e+00]\n",
      " [  6.75225602e-01   2.84145679e-01   1.84267718e-03   3.75865305e-02\n",
      "    4.46461733e-05   0.00000000e+00   2.94880868e-05   0.00000000e+00\n",
      "    0.00000000e+00   4.45213288e-04   6.80164379e-04   4.09260000e+04\n",
      "    7.72621598e-01   1.85843489e+00]]\n",
      "\n"
     ]
    }
   ],
   "source": [
    "# 0. get the data into a format we can use\n",
    "\n",
    "array2d = [[np.float(digit) for digit in line] for line in x[1:]]\n",
    "\n",
    "data = np.array(array2d)\n",
    "\n",
    "print('data head: {}\\n'.format(data[:2]))\n",
    "#print('data tail: {}\\n'.format(data[-2:]))\n",
    "\n",
    "#print(list(zip(taxa_headers+statistic_headers, data[0])))"
   ]
  },
  {
   "cell_type": "code",
   "execution_count": 115,
   "metadata": {
    "collapsed": true,
    "hidden": true
   },
   "outputs": [],
   "source": [
    "# 0. get the data into a format we can use\n",
    "\n",
    "sample_ids = [sample[0] for sample in data]\n",
    "data_all = np.array(data)\n",
    "data_totals = data_all[:,-3]\n",
    "data_shannon = data_all[:,-1]\n",
    "data_rel_abundances = data_all[:,:-3]"
   ]
  },
  {
   "cell_type": "code",
   "execution_count": 117,
   "metadata": {
    "hidden": true
   },
   "outputs": [
    {
     "name": "stdout",
     "output_type": "stream",
     "text": [
      "taxa and statistic means: \n",
      "('Lactobacillus_crispatus', 0.43840475505916016)\n",
      "('Lactobacillus_iners', 0.26441239340682926)\n",
      "('Lactobacillus_gasseri', 0.080128531904938918)\n",
      "('Lactobacillus_jensenii', 0.10882819179699561)\n",
      "('Atopobium_vaginae', 0.058315099304797731)\n",
      "('Megasphaera_sp._type_1', 0.022665275109257439)\n",
      "('Streptococcus_anginosus', 0.0051825775285035481)\n",
      "('Prevotella_genogroup_3', 0.010760423974206467)\n",
      "('Clostridiales', 0.008195650556625321)\n",
      "('Enterococcus_faecalis', 0.00010321410068544093)\n",
      "('Corynebacterium_accolens', 0.0030038872580000322)\n",
      "('Total', 43158.440000000002)\n",
      "('Shannon', 0.53853906182064692)\n",
      "('Simpson', 1.6183698340096688)\n",
      "\n"
     ]
    }
   ],
   "source": [
    "# 1. compute column averages\n",
    "\n",
    "column_means = data_all.mean(axis=0)\n",
    "\n",
    "print_pairs = list(zip(taxa_headers+statistic_headers, column_means))\n",
    "print('taxa and statistic means: \\n{}\\n'.format('\\n'.join([str(x) for x in print_pairs])))"
   ]
  },
  {
   "cell_type": "code",
   "execution_count": 140,
   "metadata": {
    "hidden": true
   },
   "outputs": [
    {
     "name": "stdout",
     "output_type": "stream",
     "text": [
      "sample relative abundance std: \n",
      "('Lactobacillus_crispatus', 0.40553753575829748)\n",
      "('Lactobacillus_iners', 0.29066888467660967)\n",
      "('Lactobacillus_gasseri', 0.26700995020427243)\n",
      "('Lactobacillus_jensenii', 0.26945737854601198)\n",
      "('Atopobium_vaginae', 0.15054797031570843)\n",
      "('Megasphaera_sp._type_1', 0.069852715298830276)\n",
      "('Streptococcus_anginosus', 0.01521655543208985)\n",
      "('Prevotella_genogroup_3', 0.033583473967716077)\n",
      "('Clostridiales', 0.03198618406615665)\n",
      "('Enterococcus_faecalis', 0.00027599245126451889)\n",
      "('Corynebacterium_accolens', 0.0046002279633611696)\n",
      "\n"
     ]
    }
   ],
   "source": [
    "# 1a. compute column standard deviations\n",
    "\n",
    "column_stds = data_rel_abundances.std(axis=0)\n",
    "\n",
    "print_pairs = list(zip(taxa_headers, column_stds))\n",
    "print('sample relative abundance std: \\n{}\\n'.format(\n",
    "    '\\n'.join([str(x) for x in print_pairs]) ) )"
   ]
  },
  {
   "cell_type": "code",
   "execution_count": 128,
   "metadata": {
    "collapsed": true,
    "hidden": true
   },
   "outputs": [],
   "source": [
    "# 2. multiple the total number of reads by the relative abundance\n",
    "\n",
    "#print('rel abundances: {}\\n'.format(data_rel_abundances))\n",
    "#print('totals: {}\\n'.format(data_totals))\n",
    "\n",
    "total_abundances = (data_rel_abundances.T * data_totals).astype(int)\n",
    "\n",
    "#print('total abundances: {}'.format(total_abundances))"
   ]
  },
  {
   "cell_type": "code",
   "execution_count": 130,
   "metadata": {
    "hidden": true
   },
   "outputs": [
    {
     "data": {
      "text/plain": [
       "array([ 1.,  1.,  1.,  1.,  1.,  1.,  1.,  1.,  1.,  1.,  1.,  1.,  1.,\n",
       "        1.,  1.,  1.,  1.,  1.,  1.,  1.,  1.,  1.,  1.,  1.,  1.])"
      ]
     },
     "execution_count": 130,
     "metadata": {},
     "output_type": "execute_result"
    }
   ],
   "source": [
    "# 3. compute the row totals for the relative abundances (do they sum to 1?)\n",
    "\n",
    "data_rel_abundances.sum(axis=1)"
   ]
  },
  {
   "cell_type": "code",
   "execution_count": 132,
   "metadata": {
    "hidden": true
   },
   "outputs": [
    {
     "data": {
      "image/png": "[encoded data removed]",
      "text/plain": [
       "<Figure size 432x288 with 1 Axes>"
      ]
     },
     "metadata": {},
     "output_type": "display_data"
    }
   ],
   "source": [
    "from matplotlib import pyplot as plt\n",
    "\n",
    "for sample in data:\n",
    "    plt.plot(sample[:-3], 'o')\n",
    "plt.xlabel('taxa')\n",
    "plt.ylabel('relative abundance')\n",
    "plt.title('Relative abundance of taxa by sample')\n",
    "x = plt.xticks(range(len(taxa_headers)), taxa_headers, rotation='vertical')"
   ]
  },
  {
   "cell_type": "markdown",
   "metadata": {
    "heading_collapsed": true
   },
   "source": [
    "### Using random number generation\n",
    "\n",
    "Suppose we want to create a simulation dataset of relative abundances, similar to the above dataset but with every relative abundance skewed by a gaussian amount with a spread of $\\sigma^2$"
   ]
  },
  {
   "cell_type": "code",
   "execution_count": 160,
   "metadata": {
    "hidden": true
   },
   "outputs": [
    {
     "data": {
      "text/plain": [
       "[array([  1.01579140e+00,   4.13598228e-01,   2.26781384e-01,\n",
       "          2.67407173e-01,   1.46383223e-01,   4.42195277e-02,\n",
       "          1.02253912e-02,   1.92884943e-02,   1.58386385e-02,\n",
       "          2.06373011e-04,   5.98002133e-03]),\n",
       " array([  7.24336185e-01,   4.14460613e-01,   1.77952984e-01,\n",
       "          2.48307114e-01,   1.23798705e-01,   5.01042952e-02,\n",
       "          1.02507714e-02,   2.21069606e-02,   1.57574608e-02,\n",
       "          2.06461404e-04,   5.99951319e-03]),\n",
       " array([  1.18748086e+00,   6.06335380e-01,   1.79525943e-01,\n",
       "          1.23322747e-01,   1.44091227e-01,   5.18394839e-02,\n",
       "          1.04627296e-02,   2.23905725e-02,   1.48541877e-02,\n",
       "          2.06382799e-04,   6.02149552e-03]),\n",
       " array([  1.03181793e+00,   5.53144539e-01,   2.39624833e-01,\n",
       "          2.30372132e-01,   1.08417600e-01,   5.28123175e-02,\n",
       "          1.00304858e-02,   2.43657611e-02,   1.49491032e-02,\n",
       "          2.06410954e-04,   5.98230423e-03]),\n",
       " array([  9.57283967e-01,   5.30620777e-01,   2.12605438e-01,\n",
       "          1.69305482e-01,   1.19748391e-01,   4.16459056e-02,\n",
       "          1.01882270e-02,   2.04900225e-02,   1.67320286e-02,\n",
       "          2.06435828e-04,   5.97018460e-03]),\n",
       " array([  8.18813476e-01,   5.05690990e-01,   2.62183225e-01,\n",
       "          2.03772960e-01,   1.16643731e-01,   4.93919278e-02,\n",
       "          1.01134111e-02,   2.09677430e-02,   1.66436492e-02,\n",
       "          2.06439827e-04,   6.02684010e-03]),\n",
       " array([  9.59813137e-01,   5.20821702e-01,   3.60663726e-01,\n",
       "          1.40933662e-01,   1.37886537e-01,   4.55572444e-02,\n",
       "          1.00988749e-02,   2.23303203e-02,   1.51245957e-02,\n",
       "          2.06461406e-04,   6.00621073e-03]),\n",
       " array([  1.15764539e+00,   6.66401589e-01,   1.92356685e-01,\n",
       "          1.65113645e-01,   9.49001538e-02,   4.40892542e-02,\n",
       "          1.02621070e-02,   2.12415423e-02,   1.57602618e-02,\n",
       "          2.06419557e-04,   6.02144070e-03]),\n",
       " array([  8.55613454e-01,   4.39454189e-01,   1.96243725e-01,\n",
       "          1.95451021e-01,   1.17565782e-01,   4.84143107e-02,\n",
       "          1.05029249e-02,   2.31496852e-02,   1.57650989e-02,\n",
       "          2.06409485e-04,   6.00536413e-03]),\n",
       " array([  9.63533103e-01,   4.35164097e-01,   1.54927401e-01,\n",
       "          1.07053290e-01,   1.39016703e-01,   4.67648766e-02,\n",
       "          1.01361766e-02,   2.17713060e-02,   1.62765472e-02,\n",
       "          2.06495959e-04,   6.02479844e-03])]"
      ]
     },
     "execution_count": 160,
     "metadata": {},
     "output_type": "execute_result"
    }
   ],
   "source": [
    "from numpy import random as rnd\n",
    "SIM_SIZE = 10\n",
    "\n",
    "# column_means, column_stds are mean and std of taxa in the actual samples\n",
    "\n",
    "sim_data = []\n",
    "for sample in range(SIM_SIZE):\n",
    "    adjustments = rnd.normal(column_means[:-3], column_stds**2)\n",
    "    sim_sample = column_means[:-3] + adjustments\n",
    "    sim_data.append(sim_sample)\n",
    "\n",
    "sim_data"
   ]
  },
  {
   "cell_type": "code",
   "execution_count": 157,
   "metadata": {
    "collapsed": true,
    "hidden": true
   },
   "outputs": [],
   "source": []
  },
  {
   "cell_type": "code",
   "execution_count": 155,
   "metadata": {
    "hidden": true
   },
   "outputs": [
    {
     "data": {
      "text/plain": [
       "array([  4.38404755e-01,   2.64412393e-01,   8.01285319e-02,\n",
       "         1.08828192e-01,   5.83150993e-02,   2.26652751e-02,\n",
       "         5.18257753e-03,   1.07604240e-02,   8.19565056e-03,\n",
       "         1.03214101e-04,   3.00388726e-03,   4.31584400e+04,\n",
       "         5.38539062e-01,   1.61836983e+00])"
      ]
     },
     "execution_count": 155,
     "metadata": {},
     "output_type": "execute_result"
    }
   ],
   "source": [
    "column_means"
   ]
  },
  {
   "cell_type": "code",
   "execution_count": 156,
   "metadata": {
    "hidden": true
   },
   "outputs": [
    {
     "data": {
      "text/plain": [
       "array([  4.05537536e-01,   2.90668885e-01,   2.67009950e-01,\n",
       "         2.69457379e-01,   1.50547970e-01,   6.98527153e-02,\n",
       "         1.52165554e-02,   3.35834740e-02,   3.19861841e-02,\n",
       "         2.75992451e-04,   4.60022796e-03])"
      ]
     },
     "execution_count": 156,
     "metadata": {},
     "output_type": "execute_result"
    }
   ],
   "source": [
    "column_stds"
   ]
  },
  {
   "cell_type": "code",
   "execution_count": null,
   "metadata": {
    "collapsed": true,
    "hidden": true
   },
   "outputs": [],
   "source": []
  }
 ],
 "metadata": {
  "anaconda-cloud": {},
  "kernelspec": {
   "display_name": "Python 3",
   "language": "python",
   "name": "python3"
  },
  "language_info": {
   "codemirror_mode": {
    "name": "ipython",
    "version": 3
   },
   "file_extension": ".py",
   "mimetype": "text/x-python",
   "name": "python",
   "nbconvert_exporter": "python",
   "pygments_lexer": "ipython3",
   "version": "3.6.5"
  },
  "latex_envs": {
   "bibliofile": "biblio.bib",
   "cite_by": "apalike",
   "current_citInitial": 1,
   "eqLabelWithNumbers": true,
   "eqNumInitial": 0
  }
 },
 "nbformat": 4,
 "nbformat_minor": 2
}
