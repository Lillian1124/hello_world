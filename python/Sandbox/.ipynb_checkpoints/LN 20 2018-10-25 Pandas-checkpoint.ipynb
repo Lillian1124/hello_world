{
 "cells": [
  {
   "cell_type": "markdown",
   "metadata": {},
   "source": [
    "# Lecture 19 2018-10-23: Pandas\n",
    "\n",
    "Pandas i/o and more"
   ]
  },
  {
   "cell_type": "code",
   "execution_count": 1,
   "metadata": {
    "collapsed": true
   },
   "outputs": [],
   "source": [
    "import pandas as pd\n",
    "from pandas import Series, DataFrame   # use these so often, this can be helpful\n",
    "\n",
    "import numpy as np\n",
    "\n",
    "from matplotlib import pyplot as plt\n",
    "%matplotlib inline"
   ]
  },
  {
   "cell_type": "markdown",
   "metadata": {},
   "source": [
    "## More on df.loc and df.iloc\n",
    "\n",
    "DataFrames are designed by default to work on columns. \n",
    "This is because scientific data are often arranged with rows as observations and columns as variables being measured.\n",
    "It is typical to analyze how the variables relate to each other, and to characterize how they change with the samples. \n",
    "\n",
    "But it is often useful to select specific observations. \n",
    "For example, one might want to analyze observations from different locations separately, or to separate observations with unusual values of specific variables (such as low GC content).\n",
    "\n",
    "*numpy* provided a useful way to index and slice over different dimensions separately (by using a comma-separated list of indexes and slices). \n",
    "Pandas provides this functionality with the *loc* and *iloc* operators."
   ]
  },
  {
   "cell_type": "code",
   "execution_count": 45,
   "metadata": {
    "collapsed": false
   },
   "outputs": [
    {
     "data": {
      "text/plain": [
       "pandas.core.frame.DataFrame"
      ]
     },
     "execution_count": 45,
     "metadata": {},
     "output_type": "execute_result"
    }
   ],
   "source": [
    "# create example dataset\n",
    "# create dataset to work with\n",
    "\n",
    "test_df=DataFrame( \n",
    "   [  ['w1','d1',1,10],\n",
    "      ['w1','d3',2,20],\n",
    "      ['w2','d1',3,30],\n",
    "      ['w2','d2',4,40],\n",
    "      ['w2','d2',5,60],\n",
    "      ], \n",
    "    columns=['week','day','v1','v2'],\n",
    "    index=['zero', 'one', 'two', 'three', 'four']\n",
    "   )\n",
    "\n",
    "\n",
    "type(test_df)\n",
    "#test_df\n"
   ]
  },
  {
   "cell_type": "markdown",
   "metadata": {},
   "source": [
    "### loc selects rows by index name\n",
    "\n",
    "Look closely at the shape of the objects these examples return"
   ]
  },
  {
   "cell_type": "code",
   "execution_count": 12,
   "metadata": {
    "collapsed": false
   },
   "outputs": [
    {
     "data": {
      "text/plain": [
       "week    w2\n",
       "day     d1\n",
       "v1       3\n",
       "v2      30\n",
       "Name: two, dtype: object"
      ]
     },
     "execution_count": 12,
     "metadata": {},
     "output_type": "execute_result"
    }
   ],
   "source": [
    "x = test_df.loc['two']\n",
    "#test_df.loc['week', 'v2']\n",
    "type(x)\n",
    "x.shape\n",
    "\n",
    "x"
   ]
  },
  {
   "cell_type": "code",
   "execution_count": 15,
   "metadata": {
    "collapsed": false
   },
   "outputs": [
    {
     "data": {
      "text/html": [
       "<div>\n",
       "<table border=\"1\" class=\"dataframe\">\n",
       "  <thead>\n",
       "    <tr style=\"text-align: right;\">\n",
       "      <th></th>\n",
       "      <th>week</th>\n",
       "      <th>day</th>\n",
       "      <th>v1</th>\n",
       "      <th>v2</th>\n",
       "    </tr>\n",
       "  </thead>\n",
       "  <tbody>\n",
       "    <tr>\n",
       "      <th>three</th>\n",
       "      <td>w2</td>\n",
       "      <td>d2</td>\n",
       "      <td>4</td>\n",
       "      <td>40</td>\n",
       "    </tr>\n",
       "    <tr>\n",
       "      <th>two</th>\n",
       "      <td>w2</td>\n",
       "      <td>d1</td>\n",
       "      <td>3</td>\n",
       "      <td>30</td>\n",
       "    </tr>\n",
       "    <tr>\n",
       "      <th>four</th>\n",
       "      <td>w2</td>\n",
       "      <td>d2</td>\n",
       "      <td>5</td>\n",
       "      <td>60</td>\n",
       "    </tr>\n",
       "  </tbody>\n",
       "</table>\n",
       "</div>"
      ],
      "text/plain": [
       "      week day  v1  v2\n",
       "three   w2  d2   4  40\n",
       "two     w2  d1   3  30\n",
       "four    w2  d2   5  60"
      ]
     },
     "execution_count": 15,
     "metadata": {},
     "output_type": "execute_result"
    }
   ],
   "source": [
    "x=test_df.loc[['three','two','four']]\n",
    "x"
   ]
  },
  {
   "cell_type": "markdown",
   "metadata": {},
   "source": [
    "one can select both rows and columns with numpy syntax: lists separated by commas"
   ]
  },
  {
   "cell_type": "code",
   "execution_count": 17,
   "metadata": {
    "collapsed": false
   },
   "outputs": [
    {
     "data": {
      "text/plain": [
       "'d1'"
      ]
     },
     "execution_count": 17,
     "metadata": {},
     "output_type": "execute_result"
    }
   ],
   "source": [
    "x = test_df.loc['two', 'day'] # row, clounmn\n",
    "#test_df.loc['week', 'v2']  # error\n",
    "type(x)\n",
    "\n",
    "x"
   ]
  },
  {
   "cell_type": "code",
   "execution_count": 20,
   "metadata": {
    "collapsed": false
   },
   "outputs": [
    {
     "data": {
      "text/html": [
       "<div>\n",
       "<table border=\"1\" class=\"dataframe\">\n",
       "  <thead>\n",
       "    <tr style=\"text-align: right;\">\n",
       "      <th></th>\n",
       "      <th>day</th>\n",
       "    </tr>\n",
       "  </thead>\n",
       "  <tbody>\n",
       "    <tr>\n",
       "      <th>two</th>\n",
       "      <td>d1</td>\n",
       "    </tr>\n",
       "    <tr>\n",
       "      <th>four</th>\n",
       "      <td>d2</td>\n",
       "    </tr>\n",
       "  </tbody>\n",
       "</table>\n",
       "</div>"
      ],
      "text/plain": [
       "     day\n",
       "two   d1\n",
       "four  d2"
      ]
     },
     "execution_count": 20,
     "metadata": {},
     "output_type": "execute_result"
    }
   ],
   "source": [
    "x=test_df.loc[['two','four'], ['day']]\n",
    "x"
   ]
  },
  {
   "cell_type": "code",
   "execution_count": 21,
   "metadata": {
    "collapsed": false
   },
   "outputs": [
    {
     "data": {
      "text/plain": [
       "two     d1\n",
       "four    d2\n",
       "Name: day, dtype: object"
      ]
     },
     "execution_count": 21,
     "metadata": {},
     "output_type": "execute_result"
    }
   ],
   "source": [
    "x=test_df.loc[['two','four'], 'day']\n",
    "x"
   ]
  },
  {
   "cell_type": "code",
   "execution_count": 19,
   "metadata": {
    "collapsed": false
   },
   "outputs": [
    {
     "data": {
      "text/html": [
       "<div>\n",
       "<table border=\"1\" class=\"dataframe\">\n",
       "  <thead>\n",
       "    <tr style=\"text-align: right;\">\n",
       "      <th></th>\n",
       "      <th>v1</th>\n",
       "      <th>v2</th>\n",
       "    </tr>\n",
       "  </thead>\n",
       "  <tbody>\n",
       "    <tr>\n",
       "      <th>zero</th>\n",
       "      <td>1</td>\n",
       "      <td>10</td>\n",
       "    </tr>\n",
       "    <tr>\n",
       "      <th>three</th>\n",
       "      <td>4</td>\n",
       "      <td>40</td>\n",
       "    </tr>\n",
       "  </tbody>\n",
       "</table>\n",
       "</div>"
      ],
      "text/plain": [
       "       v1  v2\n",
       "zero    1  10\n",
       "three   4  40"
      ]
     },
     "execution_count": 19,
     "metadata": {},
     "output_type": "execute_result"
    }
   ],
   "source": [
    "x=test_df.loc[['zero','three'], ['v1', 'v2']]\n",
    "x"
   ]
  },
  {
   "cell_type": "markdown",
   "metadata": {},
   "source": [
    "### iloc selects rows by index"
   ]
  },
  {
   "cell_type": "code",
   "execution_count": 534,
   "metadata": {
    "collapsed": false
   },
   "outputs": [
    {
     "data": {
      "text/plain": [
       "week    w2\n",
       "day     d1\n",
       "v1       3\n",
       "v2      30\n",
       "Name: two, dtype: object"
      ]
     },
     "execution_count": 534,
     "metadata": {},
     "output_type": "execute_result"
    }
   ],
   "source": [
    "x = test_df.iloc[2]\n",
    "#test_df.loc['week', 'v2']\n",
    "type(x)\n",
    "x.shape\n",
    "\n",
    "x"
   ]
  },
  {
   "cell_type": "code",
   "execution_count": 23,
   "metadata": {
    "collapsed": false
   },
   "outputs": [
    {
     "data": {
      "text/html": [
       "<div>\n",
       "<table border=\"1\" class=\"dataframe\">\n",
       "  <thead>\n",
       "    <tr style=\"text-align: right;\">\n",
       "      <th></th>\n",
       "      <th>week</th>\n",
       "      <th>day</th>\n",
       "      <th>v1</th>\n",
       "      <th>v2</th>\n",
       "    </tr>\n",
       "  </thead>\n",
       "  <tbody>\n",
       "    <tr>\n",
       "      <th>zero</th>\n",
       "      <td>w1</td>\n",
       "      <td>d1</td>\n",
       "      <td>1</td>\n",
       "      <td>10</td>\n",
       "    </tr>\n",
       "    <tr>\n",
       "      <th>one</th>\n",
       "      <td>w1</td>\n",
       "      <td>d3</td>\n",
       "      <td>2</td>\n",
       "      <td>20</td>\n",
       "    </tr>\n",
       "    <tr>\n",
       "      <th>two</th>\n",
       "      <td>w2</td>\n",
       "      <td>d1</td>\n",
       "      <td>3</td>\n",
       "      <td>30</td>\n",
       "    </tr>\n",
       "    <tr>\n",
       "      <th>three</th>\n",
       "      <td>w2</td>\n",
       "      <td>d2</td>\n",
       "      <td>4</td>\n",
       "      <td>40</td>\n",
       "    </tr>\n",
       "    <tr>\n",
       "      <th>four</th>\n",
       "      <td>w2</td>\n",
       "      <td>d2</td>\n",
       "      <td>5</td>\n",
       "      <td>60</td>\n",
       "    </tr>\n",
       "  </tbody>\n",
       "</table>\n",
       "</div>"
      ],
      "text/plain": [
       "      week day  v1  v2\n",
       "zero    w1  d1   1  10\n",
       "one     w1  d3   2  20\n",
       "two     w2  d1   3  30\n",
       "three   w2  d2   4  40\n",
       "four    w2  d2   5  60"
      ]
     },
     "execution_count": 23,
     "metadata": {},
     "output_type": "execute_result"
    }
   ],
   "source": [
    "test_df.head()"
   ]
  },
  {
   "cell_type": "code",
   "execution_count": 24,
   "metadata": {
    "collapsed": false
   },
   "outputs": [
    {
     "data": {
      "text/html": [
       "<div>\n",
       "<table border=\"1\" class=\"dataframe\">\n",
       "  <thead>\n",
       "    <tr style=\"text-align: right;\">\n",
       "      <th></th>\n",
       "      <th>week</th>\n",
       "      <th>day</th>\n",
       "      <th>v1</th>\n",
       "      <th>v2</th>\n",
       "    </tr>\n",
       "  </thead>\n",
       "  <tbody>\n",
       "    <tr>\n",
       "      <th>two</th>\n",
       "      <td>w2</td>\n",
       "      <td>d1</td>\n",
       "      <td>3</td>\n",
       "      <td>30</td>\n",
       "    </tr>\n",
       "    <tr>\n",
       "      <th>four</th>\n",
       "      <td>w2</td>\n",
       "      <td>d2</td>\n",
       "      <td>5</td>\n",
       "      <td>60</td>\n",
       "    </tr>\n",
       "  </tbody>\n",
       "</table>\n",
       "</div>"
      ],
      "text/plain": [
       "     week day  v1  v2\n",
       "two    w2  d1   3  30\n",
       "four   w2  d2   5  60"
      ]
     },
     "execution_count": 24,
     "metadata": {},
     "output_type": "execute_result"
    }
   ],
   "source": [
    "\n",
    "x=test_df.iloc[[2,4]] # chose row, from 0\n",
    "x"
   ]
  },
  {
   "cell_type": "code",
   "execution_count": 25,
   "metadata": {
    "collapsed": false
   },
   "outputs": [
    {
     "data": {
      "text/plain": [
       "four    d2\n",
       "two     d1\n",
       "Name: day, dtype: object"
      ]
     },
     "execution_count": 25,
     "metadata": {},
     "output_type": "execute_result"
    }
   ],
   "source": [
    "x=test_df.iloc[[4,2], 1] # note change in order!\n",
    "x"
   ]
  },
  {
   "cell_type": "code",
   "execution_count": 26,
   "metadata": {
    "collapsed": false
   },
   "outputs": [
    {
     "data": {
      "text/html": [
       "<div>\n",
       "<table border=\"1\" class=\"dataframe\">\n",
       "  <thead>\n",
       "    <tr style=\"text-align: right;\">\n",
       "      <th></th>\n",
       "      <th>v1</th>\n",
       "      <th>v2</th>\n",
       "      <th>week</th>\n",
       "    </tr>\n",
       "  </thead>\n",
       "  <tbody>\n",
       "    <tr>\n",
       "      <th>one</th>\n",
       "      <td>2</td>\n",
       "      <td>20</td>\n",
       "      <td>w1</td>\n",
       "    </tr>\n",
       "    <tr>\n",
       "      <th>two</th>\n",
       "      <td>3</td>\n",
       "      <td>30</td>\n",
       "      <td>w2</td>\n",
       "    </tr>\n",
       "  </tbody>\n",
       "</table>\n",
       "</div>"
      ],
      "text/plain": [
       "     v1  v2 week\n",
       "one   2  20   w1\n",
       "two   3  30   w2"
      ]
     },
     "execution_count": 26,
     "metadata": {},
     "output_type": "execute_result"
    }
   ],
   "source": [
    "x=test_df.iloc[[1,2], [2, 3, 0]]\n",
    "x"
   ]
  },
  {
   "cell_type": "markdown",
   "metadata": {},
   "source": [
    "With iloc, you have full access to numpy-style slicing. note that you don't need a list of lists, just a list of slice indicators."
   ]
  },
  {
   "cell_type": "code",
   "execution_count": 33,
   "metadata": {
    "collapsed": false
   },
   "outputs": [
    {
     "data": {
      "text/html": [
       "<div>\n",
       "<table border=\"1\" class=\"dataframe\">\n",
       "  <thead>\n",
       "    <tr style=\"text-align: right;\">\n",
       "      <th></th>\n",
       "      <th>day</th>\n",
       "    </tr>\n",
       "  </thead>\n",
       "  <tbody>\n",
       "    <tr>\n",
       "      <th>three</th>\n",
       "      <td>d2</td>\n",
       "    </tr>\n",
       "    <tr>\n",
       "      <th>four</th>\n",
       "      <td>d2</td>\n",
       "    </tr>\n",
       "  </tbody>\n",
       "</table>\n",
       "</div>"
      ],
      "text/plain": [
       "      day\n",
       "three  d2\n",
       "four   d2"
      ]
     },
     "execution_count": 33,
     "metadata": {},
     "output_type": "execute_result"
    }
   ],
   "source": [
    "x=test_df.iloc[-2:,1:2]\n",
    "x"
   ]
  },
  {
   "cell_type": "code",
   "execution_count": 34,
   "metadata": {
    "collapsed": true
   },
   "outputs": [],
   "source": [
    "x='??' # x is not a slice in the sense of numpy, not an alias of a parent object"
   ]
  },
  {
   "cell_type": "code",
   "execution_count": 35,
   "metadata": {
    "collapsed": false
   },
   "outputs": [
    {
     "data": {
      "text/html": [
       "<div>\n",
       "<table border=\"1\" class=\"dataframe\">\n",
       "  <thead>\n",
       "    <tr style=\"text-align: right;\">\n",
       "      <th></th>\n",
       "      <th>week</th>\n",
       "      <th>day</th>\n",
       "      <th>v1</th>\n",
       "      <th>v2</th>\n",
       "    </tr>\n",
       "  </thead>\n",
       "  <tbody>\n",
       "    <tr>\n",
       "      <th>zero</th>\n",
       "      <td>w1</td>\n",
       "      <td>d1</td>\n",
       "      <td>1</td>\n",
       "      <td>10</td>\n",
       "    </tr>\n",
       "    <tr>\n",
       "      <th>one</th>\n",
       "      <td>w1</td>\n",
       "      <td>d3</td>\n",
       "      <td>2</td>\n",
       "      <td>20</td>\n",
       "    </tr>\n",
       "    <tr>\n",
       "      <th>two</th>\n",
       "      <td>w2</td>\n",
       "      <td>d1</td>\n",
       "      <td>3</td>\n",
       "      <td>30</td>\n",
       "    </tr>\n",
       "    <tr>\n",
       "      <th>three</th>\n",
       "      <td>w2</td>\n",
       "      <td>d2</td>\n",
       "      <td>4</td>\n",
       "      <td>40</td>\n",
       "    </tr>\n",
       "    <tr>\n",
       "      <th>four</th>\n",
       "      <td>w2</td>\n",
       "      <td>d2</td>\n",
       "      <td>5</td>\n",
       "      <td>60</td>\n",
       "    </tr>\n",
       "  </tbody>\n",
       "</table>\n",
       "</div>"
      ],
      "text/plain": [
       "      week day  v1  v2\n",
       "zero    w1  d1   1  10\n",
       "one     w1  d3   2  20\n",
       "two     w2  d1   3  30\n",
       "three   w2  d2   4  40\n",
       "four    w2  d2   5  60"
      ]
     },
     "execution_count": 35,
     "metadata": {},
     "output_type": "execute_result"
    }
   ],
   "source": [
    "test_df  # change x didn't change the original dataframe"
   ]
  },
  {
   "cell_type": "code",
   "execution_count": 41,
   "metadata": {
    "collapsed": false
   },
   "outputs": [
    {
     "data": {
      "text/html": [
       "<div>\n",
       "<table border=\"1\" class=\"dataframe\">\n",
       "  <thead>\n",
       "    <tr style=\"text-align: right;\">\n",
       "      <th></th>\n",
       "      <th>week</th>\n",
       "      <th>day</th>\n",
       "      <th>v1</th>\n",
       "      <th>v2</th>\n",
       "    </tr>\n",
       "  </thead>\n",
       "  <tbody>\n",
       "    <tr>\n",
       "      <th>zero</th>\n",
       "      <td>unknown</td>\n",
       "      <td>unknown</td>\n",
       "      <td>unknown</td>\n",
       "      <td>unknown</td>\n",
       "    </tr>\n",
       "    <tr>\n",
       "      <th>one</th>\n",
       "      <td>w1</td>\n",
       "      <td>d3</td>\n",
       "      <td>2</td>\n",
       "      <td>20</td>\n",
       "    </tr>\n",
       "    <tr>\n",
       "      <th>two</th>\n",
       "      <td>w2</td>\n",
       "      <td>d1</td>\n",
       "      <td>3</td>\n",
       "      <td>30</td>\n",
       "    </tr>\n",
       "    <tr>\n",
       "      <th>three</th>\n",
       "      <td>w2</td>\n",
       "      <td>d2</td>\n",
       "      <td>4</td>\n",
       "      <td>40</td>\n",
       "    </tr>\n",
       "    <tr>\n",
       "      <th>four</th>\n",
       "      <td>w2</td>\n",
       "      <td>d2</td>\n",
       "      <td>5</td>\n",
       "      <td>60</td>\n",
       "    </tr>\n",
       "  </tbody>\n",
       "</table>\n",
       "</div>"
      ],
      "text/plain": [
       "          week      day       v1       v2\n",
       "zero   unknown  unknown  unknown  unknown\n",
       "one         w1       d3        2       20\n",
       "two         w2       d1        3       30\n",
       "three       w2       d2        4       40\n",
       "four        w2       d2        5       60"
      ]
     },
     "execution_count": 41,
     "metadata": {},
     "output_type": "execute_result"
    }
   ],
   "source": [
    "x=test_df  # but if x itself is an alias of a parent object, you can get side effects\n",
    "x.iloc[0,:] = 'unknown'\n",
    "#x['v2'] = np.inf\n",
    "x\n",
    "test_df"
   ]
  },
  {
   "cell_type": "markdown",
   "metadata": {},
   "source": [
    "### More on creating pd.DataFrames\n",
    "\n",
    "Note that one can create a pd.DataFrame in many ways. \n",
    "We used a list of lists above. \n",
    "But dicts are also common.\n",
    "\n",
    "Here the keys are the index selectors. If it is a dict of dicts, the inner keys are columns. \n",
    "\n",
    "The following are equivalent."
   ]
  },
  {
   "cell_type": "code",
   "execution_count": 42,
   "metadata": {
    "collapsed": false
   },
   "outputs": [
    {
     "data": {
      "text/html": [
       "<div>\n",
       "<table border=\"1\" class=\"dataframe\">\n",
       "  <thead>\n",
       "    <tr style=\"text-align: right;\">\n",
       "      <th></th>\n",
       "      <th>week</th>\n",
       "      <th>day</th>\n",
       "      <th>v1</th>\n",
       "      <th>v2</th>\n",
       "    </tr>\n",
       "  </thead>\n",
       "  <tbody>\n",
       "    <tr>\n",
       "      <th>zero</th>\n",
       "      <td>w1</td>\n",
       "      <td>d1</td>\n",
       "      <td>1</td>\n",
       "      <td>10</td>\n",
       "    </tr>\n",
       "    <tr>\n",
       "      <th>one</th>\n",
       "      <td>w1</td>\n",
       "      <td>d3</td>\n",
       "      <td>2</td>\n",
       "      <td>20</td>\n",
       "    </tr>\n",
       "    <tr>\n",
       "      <th>two</th>\n",
       "      <td>w2</td>\n",
       "      <td>d1</td>\n",
       "      <td>3</td>\n",
       "      <td>30</td>\n",
       "    </tr>\n",
       "    <tr>\n",
       "      <th>three</th>\n",
       "      <td>w2</td>\n",
       "      <td>d2</td>\n",
       "      <td>4</td>\n",
       "      <td>40</td>\n",
       "    </tr>\n",
       "    <tr>\n",
       "      <th>four</th>\n",
       "      <td>w2</td>\n",
       "      <td>d2</td>\n",
       "      <td>5</td>\n",
       "      <td>60</td>\n",
       "    </tr>\n",
       "  </tbody>\n",
       "</table>\n",
       "</div>"
      ],
      "text/plain": [
       "      week day  v1  v2\n",
       "zero    w1  d1   1  10\n",
       "one     w1  d3   2  20\n",
       "two     w2  d1   3  30\n",
       "three   w2  d2   4  40\n",
       "four    w2  d2   5  60"
      ]
     },
     "execution_count": 42,
     "metadata": {},
     "output_type": "execute_result"
    }
   ],
   "source": [
    "test_df=DataFrame( \n",
    "   [  ['w1','d1',1,10],\n",
    "      ['w1','d3',2,20],\n",
    "      ['w2','d1',3,30],\n",
    "      ['w2','d2',4,40],\n",
    "      ['w2','d2',5,60],\n",
    "      ], \n",
    "    columns=['week','day','v1','v2'],\n",
    "    index=['zero', 'one', 'two', 'three', 'four']\n",
    "   )\n",
    "\n",
    "\n",
    "test_df"
   ]
  },
  {
   "cell_type": "code",
   "execution_count": 48,
   "metadata": {
    "collapsed": false
   },
   "outputs": [
    {
     "data": {
      "text/html": [
       "<div>\n",
       "<table border=\"1\" class=\"dataframe\">\n",
       "  <thead>\n",
       "    <tr style=\"text-align: right;\">\n",
       "      <th></th>\n",
       "      <th>day</th>\n",
       "      <th>v1</th>\n",
       "      <th>v2</th>\n",
       "      <th>week</th>\n",
       "    </tr>\n",
       "  </thead>\n",
       "  <tbody>\n",
       "    <tr>\n",
       "      <th>zero</th>\n",
       "      <td>d1</td>\n",
       "      <td>1</td>\n",
       "      <td>10</td>\n",
       "      <td>w1</td>\n",
       "    </tr>\n",
       "    <tr>\n",
       "      <th>one</th>\n",
       "      <td>d3</td>\n",
       "      <td>2</td>\n",
       "      <td>20</td>\n",
       "      <td>w1</td>\n",
       "    </tr>\n",
       "    <tr>\n",
       "      <th>two</th>\n",
       "      <td>d1</td>\n",
       "      <td>3</td>\n",
       "      <td>20</td>\n",
       "      <td>w2</td>\n",
       "    </tr>\n",
       "    <tr>\n",
       "      <th>three</th>\n",
       "      <td>d2</td>\n",
       "      <td>4</td>\n",
       "      <td>40</td>\n",
       "      <td>w2</td>\n",
       "    </tr>\n",
       "    <tr>\n",
       "      <th>four</th>\n",
       "      <td>d2</td>\n",
       "      <td>5</td>\n",
       "      <td>60</td>\n",
       "      <td>w2</td>\n",
       "    </tr>\n",
       "  </tbody>\n",
       "</table>\n",
       "</div>"
      ],
      "text/plain": [
       "      day  v1  v2 week\n",
       "zero   d1   1  10   w1\n",
       "one    d3   2  20   w1\n",
       "two    d1   3  20   w2\n",
       "three  d2   4  40   w2\n",
       "four   d2   5  60   w2"
      ]
     },
     "execution_count": 48,
     "metadata": {},
     "output_type": "execute_result"
    }
   ],
   "source": [
    "test_df=DataFrame( \n",
    "   {  'week': ['w1','w1', 'w2', 'w2', 'w2'],\n",
    "      'day' : ['d1','d3', 'd1', 'd2', 'd2'],\n",
    "      'v1' : [1, 2, 3, 4, 5],\n",
    "      'v2' : [10, 20, 20, 40, 60],\n",
    "   }, \n",
    "    index=['zero', 'one', 'two', 'three', 'four']\n",
    "   )\n",
    "\n",
    "\n",
    "test_df"
   ]
  },
  {
   "cell_type": "code",
   "execution_count": 49,
   "metadata": {
    "code_folding": [],
    "collapsed": false
   },
   "outputs": [
    {
     "data": {
      "text/html": [
       "<div>\n",
       "<table border=\"1\" class=\"dataframe\">\n",
       "  <thead>\n",
       "    <tr style=\"text-align: right;\">\n",
       "      <th></th>\n",
       "      <th>day</th>\n",
       "      <th>v1</th>\n",
       "      <th>v2</th>\n",
       "      <th>week</th>\n",
       "    </tr>\n",
       "  </thead>\n",
       "  <tbody>\n",
       "    <tr>\n",
       "      <th>four</th>\n",
       "      <td>d2</td>\n",
       "      <td>5</td>\n",
       "      <td>50</td>\n",
       "      <td>w2</td>\n",
       "    </tr>\n",
       "    <tr>\n",
       "      <th>one</th>\n",
       "      <td>d3</td>\n",
       "      <td>2</td>\n",
       "      <td>20</td>\n",
       "      <td>w1</td>\n",
       "    </tr>\n",
       "    <tr>\n",
       "      <th>three</th>\n",
       "      <td>d2</td>\n",
       "      <td>4</td>\n",
       "      <td>40</td>\n",
       "      <td>w2</td>\n",
       "    </tr>\n",
       "    <tr>\n",
       "      <th>two</th>\n",
       "      <td>d1</td>\n",
       "      <td>3</td>\n",
       "      <td>30</td>\n",
       "      <td>w2</td>\n",
       "    </tr>\n",
       "    <tr>\n",
       "      <th>zero</th>\n",
       "      <td>d1</td>\n",
       "      <td>1</td>\n",
       "      <td>10</td>\n",
       "      <td>w1</td>\n",
       "    </tr>\n",
       "  </tbody>\n",
       "</table>\n",
       "</div>"
      ],
      "text/plain": [
       "      day  v1  v2 week\n",
       "four   d2   5  50   w2\n",
       "one    d3   2  20   w1\n",
       "three  d2   4  40   w2\n",
       "two    d1   3  30   w2\n",
       "zero   d1   1  10   w1"
      ]
     },
     "execution_count": 49,
     "metadata": {},
     "output_type": "execute_result"
    }
   ],
   "source": [
    "test_df=DataFrame( \n",
    "   {'week': \n",
    "        {  \n",
    "            'zero'  : 'w1',\n",
    "            'one'   : 'w1',\n",
    "            'two'   : 'w2',\n",
    "            'three' : 'w2', \n",
    "            'four'  : 'w2'\n",
    "        },\n",
    "    'day':\n",
    "         {\n",
    "            'zero'  : 'd1',\n",
    "            'one'   : 'd3',\n",
    "            'two'   : 'd1',\n",
    "            'three' : 'd2', \n",
    "            'four'  : 'd2'\n",
    "         }, \n",
    "     'v1': \n",
    "        { \n",
    "            'zero'  : 1,\n",
    "            'one'   : 2,\n",
    "            'two'   : 3,\n",
    "            'three' : 4, \n",
    "            'four'  : 5\n",
    "         },\n",
    "      'v2':\n",
    "        {\n",
    "           'zero'   : 10,\n",
    "            'one'   : 20,\n",
    "            'two'   : 30,\n",
    "            'three' : 40, \n",
    "            'four'  : 50\n",
    "        }\n",
    "   }\n",
    ")\n",
    "\n",
    "test_df"
   ]
  },
  {
   "cell_type": "markdown",
   "metadata": {},
   "source": [
    "## Reading and writing files to/from pandas\n",
    "\n",
    "Pandas includes methods to make I/O easy."
   ]
  },
  {
   "cell_type": "code",
   "execution_count": 545,
   "metadata": {
    "collapsed": true
   },
   "outputs": [],
   "source": [
    "pd.read_table?"
   ]
  },
  {
   "cell_type": "markdown",
   "metadata": {},
   "source": [
    "the *read_table()* method in Pandas is a general method for reading files of many formats. There are methods that use *read_table()* internally that are specifically tailored for reading comma/tab delimited files, excel files, and html files: *read_csv()*, *read_excel()*, and *read_html()*."
   ]
  },
  {
   "cell_type": "markdown",
   "metadata": {},
   "source": [
    "To read comma separated files:\n",
    "\n",
    "\tpd.read_csv( *filename* )\n",
    "\n",
    "I don't like comma-separated files, because some files include text that has commas in it. For example \"sample from US, Ethiopia, or Europe\" has two. This can confuse code that can't distinguish between field separating commas and \"text\" commas. This sort of parsing error can be **very** difficult to figure out. So, I recommend using tab delimited files when you can to avoid this confusion.\n"
   ]
  },
  {
   "cell_type": "markdown",
   "metadata": {},
   "source": [
    "To read tab delimited files, either will work:\n",
    "\n",
    "\tpd.read_csv('sequence_summary.txt', sep='\\t')\n",
    "\tpd.read_table('sequence_summary.txt')\n",
    "\n",
    "Other useful parameters to pass to these methods:\n",
    "\n",
    "parameter   | Meaning\n",
    ":---------- | :-------------------\n",
    "header=None | if the file has no headers\n",
    "header=int  | if row \"int\" is column headers. Default (if left off) is header=0\n",
    "comment='char' | treats any line beginning with 'char' like a comment. I like comment='#'\n",
    "usecols=[list] | 'list' is a list of ints or strings, this reads just columns numbered in 'list' or those with the specified headers (in order)\n",
    "index_col=int | which column is the Index"
   ]
  },
  {
   "cell_type": "markdown",
   "metadata": {},
   "source": [
    "#### Examples"
   ]
  },
  {
   "cell_type": "code",
   "execution_count": 60,
   "metadata": {
    "collapsed": false
   },
   "outputs": [
    {
     "name": "stdout",
     "output_type": "stream",
     "text": [
      "# milk summary file, created by JAF on 2018-10-23\r\n",
      "runtype\tspot_id\tsample_id\tforward_primer\treverse_primer\tread_id\tgc_content\tcountry\tgene_id\r\n",
      "MISEQ\t16998-1719\tPE716\tTTGACCCT\tTAGACCTA\tST6_21_F\t0.28776978417266186\tPE\tST6\r\n",
      "MISEQ\t9172-1724\tPE714\tTTGACCCT\tCTAGAACA\tST6_12_F\t0.38434163701067614\tPE\tST6\r\n",
      "MISEQ\t17068-1733\tETU011\tGTCGTGAT\tCTAAGCCT\tST6_16_F\t0.39568345323741005\tETU\tST6\r\n",
      "MISEQ\t20217-1738\tETR208\tACCACTGT\tTGCTCTGA\tST6_10_F\t0.3154121863799283\tETR\tST6\r\n",
      "MISEQ\t9687-1743\tPE731\tCCACTCCT\tTAGGAGTA\tST6_25_F\t0.3807829181494662\tPE\tST6\r\n",
      "MISEQ\t12088-1744\tGBR320\tTCCTGGGT\tTAGATCGC\tFUT3_3_F\t0.5907473309608541\tGBR\tFUT3\r\n",
      "MISEQ\t19205-1746\tSW903\tTCTCCGGA\tCTAGAACA\tST6_16_F\t0.3669064748201439\tSW\tST6\r\n",
      "MISEQ\t12620-1755\tETR228\tTGGATCTG\tTAAGTTCC\tST6_25_F\t0.38434163701067614\tETR\tST6\r\n"
     ]
    }
   ],
   "source": [
    "# a reminder of what the file looks like (!) executes bash commands\n",
    "!head milk_summary.txt"
   ]
  },
  {
   "cell_type": "code",
   "execution_count": 61,
   "metadata": {
    "collapsed": false
   },
   "outputs": [
    {
     "data": {
      "text/html": [
       "<div>\n",
       "<table border=\"1\" class=\"dataframe\">\n",
       "  <thead>\n",
       "    <tr style=\"text-align: right;\">\n",
       "      <th></th>\n",
       "      <th>MISEQ</th>\n",
       "      <th>PE716</th>\n",
       "      <th>TTGACCCT</th>\n",
       "      <th>TAGACCTA</th>\n",
       "      <th>ST6_21_F</th>\n",
       "      <th>0.28776978417266186</th>\n",
       "      <th>PE</th>\n",
       "      <th>ST6</th>\n",
       "    </tr>\n",
       "    <tr>\n",
       "      <th>16998-1719</th>\n",
       "      <th></th>\n",
       "      <th></th>\n",
       "      <th></th>\n",
       "      <th></th>\n",
       "      <th></th>\n",
       "      <th></th>\n",
       "      <th></th>\n",
       "      <th></th>\n",
       "    </tr>\n",
       "  </thead>\n",
       "  <tbody>\n",
       "    <tr>\n",
       "      <th>9172-1724</th>\n",
       "      <td>MISEQ</td>\n",
       "      <td>PE714</td>\n",
       "      <td>TTGACCCT</td>\n",
       "      <td>CTAGAACA</td>\n",
       "      <td>ST6_12_F</td>\n",
       "      <td>0.384342</td>\n",
       "      <td>PE</td>\n",
       "      <td>ST6</td>\n",
       "    </tr>\n",
       "    <tr>\n",
       "      <th>17068-1733</th>\n",
       "      <td>MISEQ</td>\n",
       "      <td>ETU011</td>\n",
       "      <td>GTCGTGAT</td>\n",
       "      <td>CTAAGCCT</td>\n",
       "      <td>ST6_16_F</td>\n",
       "      <td>0.395683</td>\n",
       "      <td>ETU</td>\n",
       "      <td>ST6</td>\n",
       "    </tr>\n",
       "    <tr>\n",
       "      <th>20217-1738</th>\n",
       "      <td>MISEQ</td>\n",
       "      <td>ETR208</td>\n",
       "      <td>ACCACTGT</td>\n",
       "      <td>TGCTCTGA</td>\n",
       "      <td>ST6_10_F</td>\n",
       "      <td>0.315412</td>\n",
       "      <td>ETR</td>\n",
       "      <td>ST6</td>\n",
       "    </tr>\n",
       "    <tr>\n",
       "      <th>9687-1743</th>\n",
       "      <td>MISEQ</td>\n",
       "      <td>PE731</td>\n",
       "      <td>CCACTCCT</td>\n",
       "      <td>TAGGAGTA</td>\n",
       "      <td>ST6_25_F</td>\n",
       "      <td>0.380783</td>\n",
       "      <td>PE</td>\n",
       "      <td>ST6</td>\n",
       "    </tr>\n",
       "    <tr>\n",
       "      <th>12088-1744</th>\n",
       "      <td>MISEQ</td>\n",
       "      <td>GBR320</td>\n",
       "      <td>TCCTGGGT</td>\n",
       "      <td>TAGATCGC</td>\n",
       "      <td>FUT3_3_F</td>\n",
       "      <td>0.590747</td>\n",
       "      <td>GBR</td>\n",
       "      <td>FUT3</td>\n",
       "    </tr>\n",
       "  </tbody>\n",
       "</table>\n",
       "</div>"
      ],
      "text/plain": [
       "            MISEQ   PE716  TTGACCCT  TAGACCTA  ST6_21_F  0.28776978417266186  \\\n",
       "16998-1719                                                                     \n",
       "9172-1724   MISEQ   PE714  TTGACCCT  CTAGAACA  ST6_12_F             0.384342   \n",
       "17068-1733  MISEQ  ETU011  GTCGTGAT  CTAAGCCT  ST6_16_F             0.395683   \n",
       "20217-1738  MISEQ  ETR208  ACCACTGT  TGCTCTGA  ST6_10_F             0.315412   \n",
       "9687-1743   MISEQ   PE731  CCACTCCT  TAGGAGTA  ST6_25_F             0.380783   \n",
       "12088-1744  MISEQ  GBR320  TCCTGGGT  TAGATCGC  FUT3_3_F             0.590747   \n",
       "\n",
       "             PE   ST6  \n",
       "16998-1719             \n",
       "9172-1724    PE   ST6  \n",
       "17068-1733  ETU   ST6  \n",
       "20217-1738  ETR   ST6  \n",
       "9687-1743    PE   ST6  \n",
       "12088-1744  GBR  FUT3  "
      ]
     },
     "execution_count": 61,
     "metadata": {},
     "output_type": "execute_result"
    }
   ],
   "source": [
    "x=pd.read_table('milk_summary.txt', \n",
    "                comment='#', \n",
    "                index_col=1, header= 1)\n",
    "x.columns\n",
    "x.head()"
   ]
  },
  {
   "cell_type": "code",
   "execution_count": 62,
   "metadata": {
    "collapsed": false
   },
   "outputs": [
    {
     "name": "stdout",
     "output_type": "stream",
     "text": [
      "# milk summary file, created by JAF on 2018-10-23\r\n",
      "runtype\tspot_id\tsample_id\tforward_primer\treverse_primer\tread_id\tgc_content\tcountry\tgene_id\r\n",
      "MISEQ\t16998-1719\tPE716\tTTGACCCT\tTAGACCTA\tST6_21_F\t0.28776978417266186\tPE\tST6\r\n",
      "MISEQ\t9172-1724\tPE714\tTTGACCCT\tCTAGAACA\tST6_12_F\t0.38434163701067614\tPE\tST6\r\n",
      "MISEQ\t17068-1733\tETU011\tGTCGTGAT\tCTAAGCCT\tST6_16_F\t0.39568345323741005\tETU\tST6\r\n",
      "MISEQ\t20217-1738\tETR208\tACCACTGT\tTGCTCTGA\tST6_10_F\t0.3154121863799283\tETR\tST6\r\n",
      "MISEQ\t9687-1743\tPE731\tCCACTCCT\tTAGGAGTA\tST6_25_F\t0.3807829181494662\tPE\tST6\r\n",
      "MISEQ\t12088-1744\tGBR320\tTCCTGGGT\tTAGATCGC\tFUT3_3_F\t0.5907473309608541\tGBR\tFUT3\r\n",
      "MISEQ\t19205-1746\tSW903\tTCTCCGGA\tCTAGAACA\tST6_16_F\t0.3669064748201439\tSW\tST6\r\n",
      "MISEQ\t12620-1755\tETR228\tTGGATCTG\tTAAGTTCC\tST6_25_F\t0.38434163701067614\tETR\tST6\r\n"
     ]
    }
   ],
   "source": [
    "!head milk_summary.txt"
   ]
  },
  {
   "cell_type": "code",
   "execution_count": 63,
   "metadata": {
    "collapsed": false
   },
   "outputs": [
    {
     "data": {
      "text/html": [
       "<div>\n",
       "<table border=\"1\" class=\"dataframe\">\n",
       "  <thead>\n",
       "    <tr style=\"text-align: right;\">\n",
       "      <th></th>\n",
       "      <th>runtype</th>\n",
       "      <th>spot_id</th>\n",
       "      <th>forward_primer</th>\n",
       "      <th>reverse_primer</th>\n",
       "      <th>read_id</th>\n",
       "      <th>gc_content</th>\n",
       "      <th>country</th>\n",
       "      <th>gene_id</th>\n",
       "    </tr>\n",
       "    <tr>\n",
       "      <th>sample_id</th>\n",
       "      <th></th>\n",
       "      <th></th>\n",
       "      <th></th>\n",
       "      <th></th>\n",
       "      <th></th>\n",
       "      <th></th>\n",
       "      <th></th>\n",
       "      <th></th>\n",
       "    </tr>\n",
       "  </thead>\n",
       "  <tbody>\n",
       "    <tr>\n",
       "      <th>PE716</th>\n",
       "      <td>MISEQ</td>\n",
       "      <td>16998-1719</td>\n",
       "      <td>TTGACCCT</td>\n",
       "      <td>TAGACCTA</td>\n",
       "      <td>ST6_21_F</td>\n",
       "      <td>0.287770</td>\n",
       "      <td>PE</td>\n",
       "      <td>ST6</td>\n",
       "    </tr>\n",
       "    <tr>\n",
       "      <th>PE714</th>\n",
       "      <td>MISEQ</td>\n",
       "      <td>9172-1724</td>\n",
       "      <td>TTGACCCT</td>\n",
       "      <td>CTAGAACA</td>\n",
       "      <td>ST6_12_F</td>\n",
       "      <td>0.384342</td>\n",
       "      <td>PE</td>\n",
       "      <td>ST6</td>\n",
       "    </tr>\n",
       "    <tr>\n",
       "      <th>ETU011</th>\n",
       "      <td>MISEQ</td>\n",
       "      <td>17068-1733</td>\n",
       "      <td>GTCGTGAT</td>\n",
       "      <td>CTAAGCCT</td>\n",
       "      <td>ST6_16_F</td>\n",
       "      <td>0.395683</td>\n",
       "      <td>ETU</td>\n",
       "      <td>ST6</td>\n",
       "    </tr>\n",
       "    <tr>\n",
       "      <th>ETR208</th>\n",
       "      <td>MISEQ</td>\n",
       "      <td>20217-1738</td>\n",
       "      <td>ACCACTGT</td>\n",
       "      <td>TGCTCTGA</td>\n",
       "      <td>ST6_10_F</td>\n",
       "      <td>0.315412</td>\n",
       "      <td>ETR</td>\n",
       "      <td>ST6</td>\n",
       "    </tr>\n",
       "    <tr>\n",
       "      <th>PE731</th>\n",
       "      <td>MISEQ</td>\n",
       "      <td>9687-1743</td>\n",
       "      <td>CCACTCCT</td>\n",
       "      <td>TAGGAGTA</td>\n",
       "      <td>ST6_25_F</td>\n",
       "      <td>0.380783</td>\n",
       "      <td>PE</td>\n",
       "      <td>ST6</td>\n",
       "    </tr>\n",
       "  </tbody>\n",
       "</table>\n",
       "</div>"
      ],
      "text/plain": [
       "          runtype     spot_id forward_primer reverse_primer   read_id  \\\n",
       "sample_id                                                               \n",
       "PE716       MISEQ  16998-1719       TTGACCCT       TAGACCTA  ST6_21_F   \n",
       "PE714       MISEQ   9172-1724       TTGACCCT       CTAGAACA  ST6_12_F   \n",
       "ETU011      MISEQ  17068-1733       GTCGTGAT       CTAAGCCT  ST6_16_F   \n",
       "ETR208      MISEQ  20217-1738       ACCACTGT       TGCTCTGA  ST6_10_F   \n",
       "PE731       MISEQ   9687-1743       CCACTCCT       TAGGAGTA  ST6_25_F   \n",
       "\n",
       "           gc_content country gene_id  \n",
       "sample_id                              \n",
       "PE716        0.287770      PE     ST6  \n",
       "PE714        0.384342      PE     ST6  \n",
       "ETU011       0.395683     ETU     ST6  \n",
       "ETR208       0.315412     ETR     ST6  \n",
       "PE731        0.380783      PE     ST6  "
      ]
     },
     "execution_count": 63,
     "metadata": {},
     "output_type": "execute_result"
    }
   ],
   "source": [
    "x=pd.read_csv('milk_summary.txt', \n",
    "              comment='#', \n",
    "              sep='\\t', \n",
    "              header=0,\n",
    "              index_col=2\n",
    "             )\n",
    "#print(x.columns)\n",
    "x.head()"
   ]
  },
  {
   "cell_type": "code",
   "execution_count": 64,
   "metadata": {
    "collapsed": false
   },
   "outputs": [
    {
     "data": {
      "text/html": [
       "<div>\n",
       "<table border=\"1\" class=\"dataframe\">\n",
       "  <thead>\n",
       "    <tr style=\"text-align: right;\">\n",
       "      <th></th>\n",
       "      <th>sample_id</th>\n",
       "      <th>gc_content</th>\n",
       "      <th>country</th>\n",
       "      <th>gene_id</th>\n",
       "    </tr>\n",
       "  </thead>\n",
       "  <tbody>\n",
       "    <tr>\n",
       "      <th>1995</th>\n",
       "      <td>GBR301</td>\n",
       "      <td>0.336918</td>\n",
       "      <td>GBR</td>\n",
       "      <td>ST6</td>\n",
       "    </tr>\n",
       "    <tr>\n",
       "      <th>1996</th>\n",
       "      <td>GBR308</td>\n",
       "      <td>0.444444</td>\n",
       "      <td>GBR</td>\n",
       "      <td>ST6</td>\n",
       "    </tr>\n",
       "    <tr>\n",
       "      <th>1997</th>\n",
       "      <td>PE709</td>\n",
       "      <td>0.669039</td>\n",
       "      <td>PE</td>\n",
       "      <td>FUT3</td>\n",
       "    </tr>\n",
       "    <tr>\n",
       "      <th>1998</th>\n",
       "      <td>ETU038</td>\n",
       "      <td>0.402827</td>\n",
       "      <td>ETU</td>\n",
       "      <td>ST6</td>\n",
       "    </tr>\n",
       "    <tr>\n",
       "      <th>1999</th>\n",
       "      <td>PE724</td>\n",
       "      <td>0.442446</td>\n",
       "      <td>PE</td>\n",
       "      <td>ST6</td>\n",
       "    </tr>\n",
       "  </tbody>\n",
       "</table>\n",
       "</div>"
      ],
      "text/plain": [
       "     sample_id  gc_content country gene_id\n",
       "1995    GBR301    0.336918     GBR     ST6\n",
       "1996    GBR308    0.444444     GBR     ST6\n",
       "1997     PE709    0.669039      PE    FUT3\n",
       "1998    ETU038    0.402827     ETU     ST6\n",
       "1999     PE724    0.442446      PE     ST6"
      ]
     },
     "execution_count": 64,
     "metadata": {},
     "output_type": "execute_result"
    }
   ],
   "source": [
    "# To only read certain columns, use *usecols*\n",
    "x = pd.read_table('milk_summary.txt', \n",
    "                  comment='#', \n",
    "                  usecols=['sample_id', 'gc_content', 'country', 'gene_id'] \n",
    "                 )\n",
    "\n",
    "x.head(n=5)\n",
    "x.tail(n=5)"
   ]
  },
  {
   "cell_type": "code",
   "execution_count": 65,
   "metadata": {
    "collapsed": false
   },
   "outputs": [
    {
     "data": {
      "text/html": [
       "<div>\n",
       "<table border=\"1\" class=\"dataframe\">\n",
       "  <thead>\n",
       "    <tr style=\"text-align: right;\">\n",
       "      <th></th>\n",
       "      <th>sample_id</th>\n",
       "      <th>gc_content</th>\n",
       "      <th>gene_id</th>\n",
       "    </tr>\n",
       "    <tr>\n",
       "      <th>country</th>\n",
       "      <th></th>\n",
       "      <th></th>\n",
       "      <th></th>\n",
       "    </tr>\n",
       "  </thead>\n",
       "  <tbody>\n",
       "    <tr>\n",
       "      <th>GBR</th>\n",
       "      <td>GBR301</td>\n",
       "      <td>0.336918</td>\n",
       "      <td>ST6</td>\n",
       "    </tr>\n",
       "    <tr>\n",
       "      <th>GBR</th>\n",
       "      <td>GBR308</td>\n",
       "      <td>0.444444</td>\n",
       "      <td>ST6</td>\n",
       "    </tr>\n",
       "    <tr>\n",
       "      <th>PE</th>\n",
       "      <td>PE709</td>\n",
       "      <td>0.669039</td>\n",
       "      <td>FUT3</td>\n",
       "    </tr>\n",
       "    <tr>\n",
       "      <th>ETU</th>\n",
       "      <td>ETU038</td>\n",
       "      <td>0.402827</td>\n",
       "      <td>ST6</td>\n",
       "    </tr>\n",
       "    <tr>\n",
       "      <th>PE</th>\n",
       "      <td>PE724</td>\n",
       "      <td>0.442446</td>\n",
       "      <td>ST6</td>\n",
       "    </tr>\n",
       "  </tbody>\n",
       "</table>\n",
       "</div>"
      ],
      "text/plain": [
       "        sample_id  gc_content gene_id\n",
       "country                              \n",
       "GBR        GBR301    0.336918     ST6\n",
       "GBR        GBR308    0.444444     ST6\n",
       "PE          PE709    0.669039    FUT3\n",
       "ETU        ETU038    0.402827     ST6\n",
       "PE          PE724    0.442446     ST6"
      ]
     },
     "execution_count": 65,
     "metadata": {},
     "output_type": "execute_result"
    }
   ],
   "source": [
    "# To only read certain columns, use *usecols*\n",
    "x = pd.read_table('milk_summary.txt', \n",
    "                  comment='#', \n",
    "                  usecols=[2,6,7,8],\n",
    "                  index_col=2\n",
    "                 )\n",
    "\n",
    "x.head(n=5)\n",
    "x.tail(n=5)"
   ]
  },
  {
   "cell_type": "code",
   "execution_count": 73,
   "metadata": {
    "collapsed": false
   },
   "outputs": [
    {
     "data": {
      "text/plain": [
       "gc_content    0.457919\n",
       "Name: mean, dtype: float64"
      ]
     },
     "execution_count": 73,
     "metadata": {},
     "output_type": "execute_result"
    }
   ],
   "source": [
    "x.loc['GBR'].describe().loc['mean']"
   ]
  },
  {
   "cell_type": "code",
   "execution_count": 75,
   "metadata": {
    "collapsed": false
   },
   "outputs": [],
   "source": [
    "mean_gbr = x.loc['GBR'].describe()"
   ]
  },
  {
   "cell_type": "code",
   "execution_count": 76,
   "metadata": {
    "collapsed": false
   },
   "outputs": [
    {
     "data": {
      "text/html": [
       "<div>\n",
       "<table border=\"1\" class=\"dataframe\">\n",
       "  <thead>\n",
       "    <tr style=\"text-align: right;\">\n",
       "      <th></th>\n",
       "      <th>sample_id</th>\n",
       "      <th>gc_content</th>\n",
       "      <th>gene_id</th>\n",
       "    </tr>\n",
       "    <tr>\n",
       "      <th>country</th>\n",
       "      <th></th>\n",
       "      <th></th>\n",
       "      <th></th>\n",
       "    </tr>\n",
       "  </thead>\n",
       "  <tbody>\n",
       "    <tr>\n",
       "      <th>GBR</th>\n",
       "      <td>GBR320</td>\n",
       "      <td>0.590747</td>\n",
       "      <td>FUT3</td>\n",
       "    </tr>\n",
       "    <tr>\n",
       "      <th>GBR</th>\n",
       "      <td>GBR329</td>\n",
       "      <td>0.466192</td>\n",
       "      <td>GULOP</td>\n",
       "    </tr>\n",
       "    <tr>\n",
       "      <th>GBR</th>\n",
       "      <td>GBR336</td>\n",
       "      <td>0.320285</td>\n",
       "      <td>ST6</td>\n",
       "    </tr>\n",
       "    <tr>\n",
       "      <th>GBR</th>\n",
       "      <td>GBR308</td>\n",
       "      <td>0.322581</td>\n",
       "      <td>ST6</td>\n",
       "    </tr>\n",
       "    <tr>\n",
       "      <th>GBR</th>\n",
       "      <td>GBR311</td>\n",
       "      <td>0.462633</td>\n",
       "      <td>ST6</td>\n",
       "    </tr>\n",
       "    <tr>\n",
       "      <th>GBR</th>\n",
       "      <td>GBR310</td>\n",
       "      <td>0.537367</td>\n",
       "      <td>GULOP</td>\n",
       "    </tr>\n",
       "    <tr>\n",
       "      <th>GBR</th>\n",
       "      <td>GBR335</td>\n",
       "      <td>0.326165</td>\n",
       "      <td>ST6</td>\n",
       "    </tr>\n",
       "    <tr>\n",
       "      <th>GBR</th>\n",
       "      <td>GBR338</td>\n",
       "      <td>0.667857</td>\n",
       "      <td>SEC</td>\n",
       "    </tr>\n",
       "    <tr>\n",
       "      <th>GBR</th>\n",
       "      <td>GBR325</td>\n",
       "      <td>0.327338</td>\n",
       "      <td>ST6</td>\n",
       "    </tr>\n",
       "    <tr>\n",
       "      <th>GBR</th>\n",
       "      <td>GBR307</td>\n",
       "      <td>0.387900</td>\n",
       "      <td>ST6</td>\n",
       "    </tr>\n",
       "    <tr>\n",
       "      <th>GBR</th>\n",
       "      <td>GBR315</td>\n",
       "      <td>0.402135</td>\n",
       "      <td>ST6</td>\n",
       "    </tr>\n",
       "    <tr>\n",
       "      <th>GBR</th>\n",
       "      <td>GBR331</td>\n",
       "      <td>0.626335</td>\n",
       "      <td>FUT3</td>\n",
       "    </tr>\n",
       "    <tr>\n",
       "      <th>GBR</th>\n",
       "      <td>GBR320</td>\n",
       "      <td>0.391459</td>\n",
       "      <td>ST6</td>\n",
       "    </tr>\n",
       "    <tr>\n",
       "      <th>GBR</th>\n",
       "      <td>GBR327</td>\n",
       "      <td>0.391459</td>\n",
       "      <td>ST6</td>\n",
       "    </tr>\n",
       "    <tr>\n",
       "      <th>GBR</th>\n",
       "      <td>GBR328</td>\n",
       "      <td>0.387900</td>\n",
       "      <td>ST6</td>\n",
       "    </tr>\n",
       "    <tr>\n",
       "      <th>GBR</th>\n",
       "      <td>GBR301</td>\n",
       "      <td>0.395683</td>\n",
       "      <td>ST6</td>\n",
       "    </tr>\n",
       "    <tr>\n",
       "      <th>GBR</th>\n",
       "      <td>GBR334</td>\n",
       "      <td>0.546429</td>\n",
       "      <td>FUT2</td>\n",
       "    </tr>\n",
       "    <tr>\n",
       "      <th>GBR</th>\n",
       "      <td>GBR321</td>\n",
       "      <td>0.466192</td>\n",
       "      <td>ST6</td>\n",
       "    </tr>\n",
       "    <tr>\n",
       "      <th>GBR</th>\n",
       "      <td>GBR331</td>\n",
       "      <td>0.469534</td>\n",
       "      <td>ST6</td>\n",
       "    </tr>\n",
       "    <tr>\n",
       "      <th>GBR</th>\n",
       "      <td>GBR326</td>\n",
       "      <td>0.397163</td>\n",
       "      <td>ST6</td>\n",
       "    </tr>\n",
       "    <tr>\n",
       "      <th>GBR</th>\n",
       "      <td>GBR338</td>\n",
       "      <td>0.409253</td>\n",
       "      <td>ST6</td>\n",
       "    </tr>\n",
       "    <tr>\n",
       "      <th>GBR</th>\n",
       "      <td>GBR307</td>\n",
       "      <td>0.326165</td>\n",
       "      <td>ST6</td>\n",
       "    </tr>\n",
       "    <tr>\n",
       "      <th>GBR</th>\n",
       "      <td>GBR330</td>\n",
       "      <td>0.380783</td>\n",
       "      <td>ST6</td>\n",
       "    </tr>\n",
       "    <tr>\n",
       "      <th>GBR</th>\n",
       "      <td>GBR305</td>\n",
       "      <td>0.462633</td>\n",
       "      <td>ST6</td>\n",
       "    </tr>\n",
       "    <tr>\n",
       "      <th>GBR</th>\n",
       "      <td>GBR308</td>\n",
       "      <td>0.377224</td>\n",
       "      <td>ST6</td>\n",
       "    </tr>\n",
       "    <tr>\n",
       "      <th>GBR</th>\n",
       "      <td>GBR338</td>\n",
       "      <td>0.678571</td>\n",
       "      <td>SEC</td>\n",
       "    </tr>\n",
       "    <tr>\n",
       "      <th>GBR</th>\n",
       "      <td>GBR337</td>\n",
       "      <td>0.544484</td>\n",
       "      <td>GULOP</td>\n",
       "    </tr>\n",
       "    <tr>\n",
       "      <th>GBR</th>\n",
       "      <td>GBR320</td>\n",
       "      <td>0.326165</td>\n",
       "      <td>ST6</td>\n",
       "    </tr>\n",
       "    <tr>\n",
       "      <th>GBR</th>\n",
       "      <td>GBR332</td>\n",
       "      <td>0.427046</td>\n",
       "      <td>GULOP</td>\n",
       "    </tr>\n",
       "    <tr>\n",
       "      <th>GBR</th>\n",
       "      <td>GBR310</td>\n",
       "      <td>0.651246</td>\n",
       "      <td>FUT3</td>\n",
       "    </tr>\n",
       "    <tr>\n",
       "      <th>...</th>\n",
       "      <td>...</td>\n",
       "      <td>...</td>\n",
       "      <td>...</td>\n",
       "    </tr>\n",
       "    <tr>\n",
       "      <th>GBR</th>\n",
       "      <td>GBR304</td>\n",
       "      <td>0.519573</td>\n",
       "      <td>GULOP</td>\n",
       "    </tr>\n",
       "    <tr>\n",
       "      <th>GBR</th>\n",
       "      <td>GBR328</td>\n",
       "      <td>0.276978</td>\n",
       "      <td>ST6</td>\n",
       "    </tr>\n",
       "    <tr>\n",
       "      <th>GBR</th>\n",
       "      <td>GBR304</td>\n",
       "      <td>0.476868</td>\n",
       "      <td>ST6</td>\n",
       "    </tr>\n",
       "    <tr>\n",
       "      <th>GBR</th>\n",
       "      <td>GBR333</td>\n",
       "      <td>0.419929</td>\n",
       "      <td>ST6</td>\n",
       "    </tr>\n",
       "    <tr>\n",
       "      <th>GBR</th>\n",
       "      <td>GBR321</td>\n",
       "      <td>0.622776</td>\n",
       "      <td>FUT3</td>\n",
       "    </tr>\n",
       "    <tr>\n",
       "      <th>GBR</th>\n",
       "      <td>GBR334</td>\n",
       "      <td>0.391459</td>\n",
       "      <td>ST6</td>\n",
       "    </tr>\n",
       "    <tr>\n",
       "      <th>GBR</th>\n",
       "      <td>GBR318</td>\n",
       "      <td>0.449640</td>\n",
       "      <td>ST6</td>\n",
       "    </tr>\n",
       "    <tr>\n",
       "      <th>GBR</th>\n",
       "      <td>GBR335</td>\n",
       "      <td>0.334532</td>\n",
       "      <td>ST6</td>\n",
       "    </tr>\n",
       "    <tr>\n",
       "      <th>GBR</th>\n",
       "      <td>GBR325</td>\n",
       "      <td>0.336918</td>\n",
       "      <td>ST6</td>\n",
       "    </tr>\n",
       "    <tr>\n",
       "      <th>GBR</th>\n",
       "      <td>GBR320</td>\n",
       "      <td>0.644128</td>\n",
       "      <td>FUT3</td>\n",
       "    </tr>\n",
       "    <tr>\n",
       "      <th>GBR</th>\n",
       "      <td>GBR330</td>\n",
       "      <td>0.542254</td>\n",
       "      <td>FUT2</td>\n",
       "    </tr>\n",
       "    <tr>\n",
       "      <th>GBR</th>\n",
       "      <td>GBR331</td>\n",
       "      <td>0.387900</td>\n",
       "      <td>ST6</td>\n",
       "    </tr>\n",
       "    <tr>\n",
       "      <th>GBR</th>\n",
       "      <td>GBR331</td>\n",
       "      <td>0.406475</td>\n",
       "      <td>ST6</td>\n",
       "    </tr>\n",
       "    <tr>\n",
       "      <th>GBR</th>\n",
       "      <td>GBR321</td>\n",
       "      <td>0.608541</td>\n",
       "      <td>ST6</td>\n",
       "    </tr>\n",
       "    <tr>\n",
       "      <th>GBR</th>\n",
       "      <td>GBR322</td>\n",
       "      <td>0.336918</td>\n",
       "      <td>ST6</td>\n",
       "    </tr>\n",
       "    <tr>\n",
       "      <th>GBR</th>\n",
       "      <td>GBR334</td>\n",
       "      <td>0.508897</td>\n",
       "      <td>SEC</td>\n",
       "    </tr>\n",
       "    <tr>\n",
       "      <th>GBR</th>\n",
       "      <td>GBR325</td>\n",
       "      <td>0.501779</td>\n",
       "      <td>FUT2</td>\n",
       "    </tr>\n",
       "    <tr>\n",
       "      <th>GBR</th>\n",
       "      <td>GBR319</td>\n",
       "      <td>0.427046</td>\n",
       "      <td>GULOP</td>\n",
       "    </tr>\n",
       "    <tr>\n",
       "      <th>GBR</th>\n",
       "      <td>GBR335</td>\n",
       "      <td>0.451613</td>\n",
       "      <td>ST6</td>\n",
       "    </tr>\n",
       "    <tr>\n",
       "      <th>GBR</th>\n",
       "      <td>GBR328</td>\n",
       "      <td>0.384342</td>\n",
       "      <td>ST6</td>\n",
       "    </tr>\n",
       "    <tr>\n",
       "      <th>GBR</th>\n",
       "      <td>GBR309</td>\n",
       "      <td>0.553571</td>\n",
       "      <td>FUT2</td>\n",
       "    </tr>\n",
       "    <tr>\n",
       "      <th>GBR</th>\n",
       "      <td>GBR320</td>\n",
       "      <td>0.399281</td>\n",
       "      <td>ST6</td>\n",
       "    </tr>\n",
       "    <tr>\n",
       "      <th>GBR</th>\n",
       "      <td>GBR325</td>\n",
       "      <td>0.440860</td>\n",
       "      <td>ST6</td>\n",
       "    </tr>\n",
       "    <tr>\n",
       "      <th>GBR</th>\n",
       "      <td>GBR320</td>\n",
       "      <td>0.373665</td>\n",
       "      <td>ST6</td>\n",
       "    </tr>\n",
       "    <tr>\n",
       "      <th>GBR</th>\n",
       "      <td>GBR312</td>\n",
       "      <td>0.533808</td>\n",
       "      <td>FUT3</td>\n",
       "    </tr>\n",
       "    <tr>\n",
       "      <th>GBR</th>\n",
       "      <td>GBR337</td>\n",
       "      <td>0.647687</td>\n",
       "      <td>FUT3</td>\n",
       "    </tr>\n",
       "    <tr>\n",
       "      <th>GBR</th>\n",
       "      <td>GBR311</td>\n",
       "      <td>0.466192</td>\n",
       "      <td>ST6</td>\n",
       "    </tr>\n",
       "    <tr>\n",
       "      <th>GBR</th>\n",
       "      <td>GBR316</td>\n",
       "      <td>0.622776</td>\n",
       "      <td>FUT3</td>\n",
       "    </tr>\n",
       "    <tr>\n",
       "      <th>GBR</th>\n",
       "      <td>GBR301</td>\n",
       "      <td>0.336918</td>\n",
       "      <td>ST6</td>\n",
       "    </tr>\n",
       "    <tr>\n",
       "      <th>GBR</th>\n",
       "      <td>GBR308</td>\n",
       "      <td>0.444444</td>\n",
       "      <td>ST6</td>\n",
       "    </tr>\n",
       "  </tbody>\n",
       "</table>\n",
       "<p>271 rows × 3 columns</p>\n",
       "</div>"
      ],
      "text/plain": [
       "        sample_id  gc_content gene_id\n",
       "country                              \n",
       "GBR        GBR320    0.590747    FUT3\n",
       "GBR        GBR329    0.466192   GULOP\n",
       "GBR        GBR336    0.320285     ST6\n",
       "GBR        GBR308    0.322581     ST6\n",
       "GBR        GBR311    0.462633     ST6\n",
       "GBR        GBR310    0.537367   GULOP\n",
       "GBR        GBR335    0.326165     ST6\n",
       "GBR        GBR338    0.667857     SEC\n",
       "GBR        GBR325    0.327338     ST6\n",
       "GBR        GBR307    0.387900     ST6\n",
       "GBR        GBR315    0.402135     ST6\n",
       "GBR        GBR331    0.626335    FUT3\n",
       "GBR        GBR320    0.391459     ST6\n",
       "GBR        GBR327    0.391459     ST6\n",
       "GBR        GBR328    0.387900     ST6\n",
       "GBR        GBR301    0.395683     ST6\n",
       "GBR        GBR334    0.546429    FUT2\n",
       "GBR        GBR321    0.466192     ST6\n",
       "GBR        GBR331    0.469534     ST6\n",
       "GBR        GBR326    0.397163     ST6\n",
       "GBR        GBR338    0.409253     ST6\n",
       "GBR        GBR307    0.326165     ST6\n",
       "GBR        GBR330    0.380783     ST6\n",
       "GBR        GBR305    0.462633     ST6\n",
       "GBR        GBR308    0.377224     ST6\n",
       "GBR        GBR338    0.678571     SEC\n",
       "GBR        GBR337    0.544484   GULOP\n",
       "GBR        GBR320    0.326165     ST6\n",
       "GBR        GBR332    0.427046   GULOP\n",
       "GBR        GBR310    0.651246    FUT3\n",
       "...           ...         ...     ...\n",
       "GBR        GBR304    0.519573   GULOP\n",
       "GBR        GBR328    0.276978     ST6\n",
       "GBR        GBR304    0.476868     ST6\n",
       "GBR        GBR333    0.419929     ST6\n",
       "GBR        GBR321    0.622776    FUT3\n",
       "GBR        GBR334    0.391459     ST6\n",
       "GBR        GBR318    0.449640     ST6\n",
       "GBR        GBR335    0.334532     ST6\n",
       "GBR        GBR325    0.336918     ST6\n",
       "GBR        GBR320    0.644128    FUT3\n",
       "GBR        GBR330    0.542254    FUT2\n",
       "GBR        GBR331    0.387900     ST6\n",
       "GBR        GBR331    0.406475     ST6\n",
       "GBR        GBR321    0.608541     ST6\n",
       "GBR        GBR322    0.336918     ST6\n",
       "GBR        GBR334    0.508897     SEC\n",
       "GBR        GBR325    0.501779    FUT2\n",
       "GBR        GBR319    0.427046   GULOP\n",
       "GBR        GBR335    0.451613     ST6\n",
       "GBR        GBR328    0.384342     ST6\n",
       "GBR        GBR309    0.553571    FUT2\n",
       "GBR        GBR320    0.399281     ST6\n",
       "GBR        GBR325    0.440860     ST6\n",
       "GBR        GBR320    0.373665     ST6\n",
       "GBR        GBR312    0.533808    FUT3\n",
       "GBR        GBR337    0.647687    FUT3\n",
       "GBR        GBR311    0.466192     ST6\n",
       "GBR        GBR316    0.622776    FUT3\n",
       "GBR        GBR301    0.336918     ST6\n",
       "GBR        GBR308    0.444444     ST6\n",
       "\n",
       "[271 rows x 3 columns]"
      ]
     },
     "execution_count": 76,
     "metadata": {},
     "output_type": "execute_result"
    }
   ],
   "source": [
    "x.loc['GBR']"
   ]
  },
  {
   "cell_type": "code",
   "execution_count": 70,
   "metadata": {
    "collapsed": false
   },
   "outputs": [
    {
     "data": {
      "text/html": [
       "<div>\n",
       "<table border=\"1\" class=\"dataframe\">\n",
       "  <thead>\n",
       "    <tr style=\"text-align: right;\">\n",
       "      <th></th>\n",
       "      <th>sample_id</th>\n",
       "      <th>gc_content</th>\n",
       "      <th>gene_id</th>\n",
       "    </tr>\n",
       "  </thead>\n",
       "  <tbody>\n",
       "    <tr>\n",
       "      <th>count</th>\n",
       "      <td>2000</td>\n",
       "      <td>2000.000000</td>\n",
       "      <td>2000</td>\n",
       "    </tr>\n",
       "    <tr>\n",
       "      <th>unique</th>\n",
       "      <td>341</td>\n",
       "      <td>NaN</td>\n",
       "      <td>5</td>\n",
       "    </tr>\n",
       "    <tr>\n",
       "      <th>top</th>\n",
       "      <td>GBR320</td>\n",
       "      <td>NaN</td>\n",
       "      <td>ST6</td>\n",
       "    </tr>\n",
       "    <tr>\n",
       "      <th>freq</th>\n",
       "      <td>20</td>\n",
       "      <td>NaN</td>\n",
       "      <td>1242</td>\n",
       "    </tr>\n",
       "    <tr>\n",
       "      <th>mean</th>\n",
       "      <td>NaN</td>\n",
       "      <td>0.454477</td>\n",
       "      <td>NaN</td>\n",
       "    </tr>\n",
       "    <tr>\n",
       "      <th>std</th>\n",
       "      <td>NaN</td>\n",
       "      <td>0.103666</td>\n",
       "      <td>NaN</td>\n",
       "    </tr>\n",
       "    <tr>\n",
       "      <th>min</th>\n",
       "      <td>NaN</td>\n",
       "      <td>0.269784</td>\n",
       "      <td>NaN</td>\n",
       "    </tr>\n",
       "    <tr>\n",
       "      <th>25%</th>\n",
       "      <td>NaN</td>\n",
       "      <td>0.380783</td>\n",
       "      <td>NaN</td>\n",
       "    </tr>\n",
       "    <tr>\n",
       "      <th>50%</th>\n",
       "      <td>NaN</td>\n",
       "      <td>0.446043</td>\n",
       "      <td>NaN</td>\n",
       "    </tr>\n",
       "    <tr>\n",
       "      <th>75%</th>\n",
       "      <td>NaN</td>\n",
       "      <td>0.533808</td>\n",
       "      <td>NaN</td>\n",
       "    </tr>\n",
       "    <tr>\n",
       "      <th>max</th>\n",
       "      <td>NaN</td>\n",
       "      <td>0.715302</td>\n",
       "      <td>NaN</td>\n",
       "    </tr>\n",
       "  </tbody>\n",
       "</table>\n",
       "</div>"
      ],
      "text/plain": [
       "       sample_id   gc_content gene_id\n",
       "count       2000  2000.000000    2000\n",
       "unique       341          NaN       5\n",
       "top       GBR320          NaN     ST6\n",
       "freq          20          NaN    1242\n",
       "mean         NaN     0.454477     NaN\n",
       "std          NaN     0.103666     NaN\n",
       "min          NaN     0.269784     NaN\n",
       "25%          NaN     0.380783     NaN\n",
       "50%          NaN     0.446043     NaN\n",
       "75%          NaN     0.533808     NaN\n",
       "max          NaN     0.715302     NaN"
      ]
     },
     "execution_count": 70,
     "metadata": {},
     "output_type": "execute_result"
    }
   ],
   "source": [
    "x.describe( include='all' )"
   ]
  },
  {
   "cell_type": "markdown",
   "metadata": {},
   "source": [
    "## DataFrame manipulation"
   ]
  },
  {
   "cell_type": "code",
   "execution_count": 77,
   "metadata": {
    "collapsed": false
   },
   "outputs": [
    {
     "data": {
      "text/html": [
       "<div>\n",
       "<table border=\"1\" class=\"dataframe\">\n",
       "  <thead>\n",
       "    <tr style=\"text-align: right;\">\n",
       "      <th></th>\n",
       "      <th>week</th>\n",
       "      <th>day</th>\n",
       "      <th>v1</th>\n",
       "      <th>v2</th>\n",
       "    </tr>\n",
       "  </thead>\n",
       "  <tbody>\n",
       "    <tr>\n",
       "      <th>zero</th>\n",
       "      <td>w1</td>\n",
       "      <td>d1</td>\n",
       "      <td>1</td>\n",
       "      <td>10</td>\n",
       "    </tr>\n",
       "    <tr>\n",
       "      <th>one</th>\n",
       "      <td>w1</td>\n",
       "      <td>d3</td>\n",
       "      <td>2</td>\n",
       "      <td>20</td>\n",
       "    </tr>\n",
       "    <tr>\n",
       "      <th>two</th>\n",
       "      <td>w2</td>\n",
       "      <td>d1</td>\n",
       "      <td>3</td>\n",
       "      <td>30</td>\n",
       "    </tr>\n",
       "    <tr>\n",
       "      <th>three</th>\n",
       "      <td>w2</td>\n",
       "      <td>d2</td>\n",
       "      <td>4</td>\n",
       "      <td>40</td>\n",
       "    </tr>\n",
       "    <tr>\n",
       "      <th>four</th>\n",
       "      <td>w2</td>\n",
       "      <td>d2</td>\n",
       "      <td>5</td>\n",
       "      <td>60</td>\n",
       "    </tr>\n",
       "  </tbody>\n",
       "</table>\n",
       "</div>"
      ],
      "text/plain": [
       "      week day  v1  v2\n",
       "zero    w1  d1   1  10\n",
       "one     w1  d3   2  20\n",
       "two     w2  d1   3  30\n",
       "three   w2  d2   4  40\n",
       "four    w2  d2   5  60"
      ]
     },
     "execution_count": 77,
     "metadata": {},
     "output_type": "execute_result"
    }
   ],
   "source": [
    "# create dataset to work with\n",
    "\n",
    "test_df=DataFrame( \n",
    "   [  ['w1','d1',1,10],\n",
    "      ['w1','d3',2,20],\n",
    "      ['w2','d1',3,30],\n",
    "      ['w2','d2',4,40],\n",
    "      ['w2','d2',5,60],\n",
    "      ], \n",
    "    columns=['week','day','v1','v2'],\n",
    "    index=['zero', 'one', 'two', 'three', 'four']\n",
    "   )\n",
    "\n",
    "test_df"
   ]
  },
  {
   "cell_type": "code",
   "execution_count": 79,
   "metadata": {
    "collapsed": false
   },
   "outputs": [
    {
     "data": {
      "text/html": [
       "<div>\n",
       "<table border=\"1\" class=\"dataframe\">\n",
       "  <thead>\n",
       "    <tr style=\"text-align: right;\">\n",
       "      <th></th>\n",
       "      <th>v1</th>\n",
       "      <th>v2</th>\n",
       "    </tr>\n",
       "  </thead>\n",
       "  <tbody>\n",
       "    <tr>\n",
       "      <th>zero</th>\n",
       "      <td>1</td>\n",
       "      <td>10</td>\n",
       "    </tr>\n",
       "    <tr>\n",
       "      <th>one</th>\n",
       "      <td>2</td>\n",
       "      <td>20</td>\n",
       "    </tr>\n",
       "    <tr>\n",
       "      <th>two</th>\n",
       "      <td>3</td>\n",
       "      <td>30</td>\n",
       "    </tr>\n",
       "    <tr>\n",
       "      <th>three</th>\n",
       "      <td>4</td>\n",
       "      <td>40</td>\n",
       "    </tr>\n",
       "    <tr>\n",
       "      <th>four</th>\n",
       "      <td>5</td>\n",
       "      <td>60</td>\n",
       "    </tr>\n",
       "  </tbody>\n",
       "</table>\n",
       "</div>"
      ],
      "text/plain": [
       "       v1  v2\n",
       "zero    1  10\n",
       "one     2  20\n",
       "two     3  30\n",
       "three   4  40\n",
       "four    5  60"
      ]
     },
     "execution_count": 79,
     "metadata": {},
     "output_type": "execute_result"
    }
   ],
   "source": [
    "v_columns=test_df[['v1','v2']]\n",
    "save_v_columns = v_columns # for later\n",
    "v_columns"
   ]
  },
  {
   "cell_type": "markdown",
   "metadata": {},
   "source": [
    "### built-in arithmetic operations, just as in numpy"
   ]
  },
  {
   "cell_type": "code",
   "execution_count": 80,
   "metadata": {
    "collapsed": false,
    "scrolled": true
   },
   "outputs": [
    {
     "name": "stderr",
     "output_type": "stream",
     "text": [
      "/usr/local/lib/python2.7/site-packages/ipykernel/__main__.py:3: SettingWithCopyWarning: \n",
      "A value is trying to be set on a copy of a slice from a DataFrame.\n",
      "Try using .loc[row_indexer,col_indexer] = value instead\n",
      "\n",
      "See the caveats in the documentation: http://pandas.pydata.org/pandas-docs/stable/indexing.html#indexing-view-versus-copy\n",
      "  app.launch_new_instance()\n"
     ]
    },
    {
     "data": {
      "text/html": [
       "<div>\n",
       "<table border=\"1\" class=\"dataframe\">\n",
       "  <thead>\n",
       "    <tr style=\"text-align: right;\">\n",
       "      <th></th>\n",
       "      <th>v1</th>\n",
       "      <th>v2</th>\n",
       "      <th>v2_col_sums</th>\n",
       "      <th>cumulative_v2_sums</th>\n",
       "      <th>v2_col_products</th>\n",
       "      <th>v1+v2</th>\n",
       "    </tr>\n",
       "  </thead>\n",
       "  <tbody>\n",
       "    <tr>\n",
       "      <th>zero</th>\n",
       "      <td>1</td>\n",
       "      <td>10</td>\n",
       "      <td>160</td>\n",
       "      <td>10</td>\n",
       "      <td>14400000</td>\n",
       "      <td>11</td>\n",
       "    </tr>\n",
       "    <tr>\n",
       "      <th>one</th>\n",
       "      <td>2</td>\n",
       "      <td>20</td>\n",
       "      <td>160</td>\n",
       "      <td>30</td>\n",
       "      <td>14400000</td>\n",
       "      <td>22</td>\n",
       "    </tr>\n",
       "    <tr>\n",
       "      <th>two</th>\n",
       "      <td>3</td>\n",
       "      <td>30</td>\n",
       "      <td>160</td>\n",
       "      <td>60</td>\n",
       "      <td>14400000</td>\n",
       "      <td>33</td>\n",
       "    </tr>\n",
       "    <tr>\n",
       "      <th>three</th>\n",
       "      <td>4</td>\n",
       "      <td>40</td>\n",
       "      <td>160</td>\n",
       "      <td>100</td>\n",
       "      <td>14400000</td>\n",
       "      <td>44</td>\n",
       "    </tr>\n",
       "    <tr>\n",
       "      <th>four</th>\n",
       "      <td>5</td>\n",
       "      <td>60</td>\n",
       "      <td>160</td>\n",
       "      <td>160</td>\n",
       "      <td>14400000</td>\n",
       "      <td>65</td>\n",
       "    </tr>\n",
       "  </tbody>\n",
       "</table>\n",
       "</div>"
      ],
      "text/plain": [
       "       v1  v2  v2_col_sums  cumulative_v2_sums  v2_col_products  v1+v2\n",
       "zero    1  10          160                  10         14400000     11\n",
       "one     2  20          160                  30         14400000     22\n",
       "two     3  30          160                  60         14400000     33\n",
       "three   4  40          160                 100         14400000     44\n",
       "four    5  60          160                 160         14400000     65"
      ]
     },
     "execution_count": 80,
     "metadata": {},
     "output_type": "execute_result"
    }
   ],
   "source": [
    "### column/row sums: create new columns, work on individual columns\n",
    "v_columns.sum()\n",
    "v_columns['v2_col_sums'] = v_columns['v2'].sum()\n",
    "v_columns['cumulative_v2_sums'] = v_columns['v2'].cumsum()\n",
    "v_columns['v2_col_products'] = v_columns['v2'].prod()\n",
    "v_columns['v1+v2'] = v_columns[['v1', 'v2']].sum(axis=1) # \"axis\" makes sense here, not a Series\n",
    "v_columns"
   ]
  },
  {
   "cell_type": "code",
   "execution_count": 558,
   "metadata": {
    "collapsed": false
   },
   "outputs": [
    {
     "data": {
      "text/html": [
       "<div>\n",
       "<style scoped>\n",
       "    .dataframe tbody tr th:only-of-type {\n",
       "        vertical-align: middle;\n",
       "    }\n",
       "\n",
       "    .dataframe tbody tr th {\n",
       "        vertical-align: top;\n",
       "    }\n",
       "\n",
       "    .dataframe thead th {\n",
       "        text-align: right;\n",
       "    }\n",
       "</style>\n",
       "<table border=\"1\" class=\"dataframe\">\n",
       "  <thead>\n",
       "    <tr style=\"text-align: right;\">\n",
       "      <th></th>\n",
       "      <th>v1</th>\n",
       "      <th>v2</th>\n",
       "      <th>v2_col_sums</th>\n",
       "      <th>cumulative_v2_sums</th>\n",
       "      <th>v2_col_products</th>\n",
       "      <th>v1+v2</th>\n",
       "    </tr>\n",
       "  </thead>\n",
       "  <tbody>\n",
       "    <tr>\n",
       "      <th>count</th>\n",
       "      <td>5.000000</td>\n",
       "      <td>5.000000</td>\n",
       "      <td>5.0</td>\n",
       "      <td>5.000000</td>\n",
       "      <td>5.0</td>\n",
       "      <td>5.000000</td>\n",
       "    </tr>\n",
       "    <tr>\n",
       "      <th>mean</th>\n",
       "      <td>3.000000</td>\n",
       "      <td>32.000000</td>\n",
       "      <td>160.0</td>\n",
       "      <td>72.000000</td>\n",
       "      <td>14400000.0</td>\n",
       "      <td>35.000000</td>\n",
       "    </tr>\n",
       "    <tr>\n",
       "      <th>std</th>\n",
       "      <td>1.581139</td>\n",
       "      <td>19.235384</td>\n",
       "      <td>0.0</td>\n",
       "      <td>59.749477</td>\n",
       "      <td>0.0</td>\n",
       "      <td>20.796634</td>\n",
       "    </tr>\n",
       "    <tr>\n",
       "      <th>min</th>\n",
       "      <td>1.000000</td>\n",
       "      <td>10.000000</td>\n",
       "      <td>160.0</td>\n",
       "      <td>10.000000</td>\n",
       "      <td>14400000.0</td>\n",
       "      <td>11.000000</td>\n",
       "    </tr>\n",
       "    <tr>\n",
       "      <th>25%</th>\n",
       "      <td>2.000000</td>\n",
       "      <td>20.000000</td>\n",
       "      <td>160.0</td>\n",
       "      <td>30.000000</td>\n",
       "      <td>14400000.0</td>\n",
       "      <td>22.000000</td>\n",
       "    </tr>\n",
       "    <tr>\n",
       "      <th>50%</th>\n",
       "      <td>3.000000</td>\n",
       "      <td>30.000000</td>\n",
       "      <td>160.0</td>\n",
       "      <td>60.000000</td>\n",
       "      <td>14400000.0</td>\n",
       "      <td>33.000000</td>\n",
       "    </tr>\n",
       "    <tr>\n",
       "      <th>75%</th>\n",
       "      <td>4.000000</td>\n",
       "      <td>40.000000</td>\n",
       "      <td>160.0</td>\n",
       "      <td>100.000000</td>\n",
       "      <td>14400000.0</td>\n",
       "      <td>44.000000</td>\n",
       "    </tr>\n",
       "    <tr>\n",
       "      <th>max</th>\n",
       "      <td>5.000000</td>\n",
       "      <td>60.000000</td>\n",
       "      <td>160.0</td>\n",
       "      <td>160.000000</td>\n",
       "      <td>14400000.0</td>\n",
       "      <td>65.000000</td>\n",
       "    </tr>\n",
       "  </tbody>\n",
       "</table>\n",
       "</div>"
      ],
      "text/plain": [
       "             v1         v2  v2_col_sums  cumulative_v2_sums  v2_col_products  \\\n",
       "count  5.000000   5.000000          5.0            5.000000              5.0   \n",
       "mean   3.000000  32.000000        160.0           72.000000       14400000.0   \n",
       "std    1.581139  19.235384          0.0           59.749477              0.0   \n",
       "min    1.000000  10.000000        160.0           10.000000       14400000.0   \n",
       "25%    2.000000  20.000000        160.0           30.000000       14400000.0   \n",
       "50%    3.000000  30.000000        160.0           60.000000       14400000.0   \n",
       "75%    4.000000  40.000000        160.0          100.000000       14400000.0   \n",
       "max    5.000000  60.000000        160.0          160.000000       14400000.0   \n",
       "\n",
       "           v1+v2  \n",
       "count   5.000000  \n",
       "mean   35.000000  \n",
       "std    20.796634  \n",
       "min    11.000000  \n",
       "25%    22.000000  \n",
       "50%    33.000000  \n",
       "75%    44.000000  \n",
       "max    65.000000  "
      ]
     },
     "execution_count": 558,
     "metadata": {},
     "output_type": "execute_result"
    }
   ],
   "source": [
    "v_columns.mean()\n",
    "v_columns.std(axis=1)\n",
    "v_columns.mean(axis=1)\n",
    "v_columns.describe()"
   ]
  },
  {
   "cell_type": "code",
   "execution_count": 559,
   "metadata": {
    "collapsed": false
   },
   "outputs": [
    {
     "data": {
      "text/html": [
       "<div>\n",
       "<style scoped>\n",
       "    .dataframe tbody tr th:only-of-type {\n",
       "        vertical-align: middle;\n",
       "    }\n",
       "\n",
       "    .dataframe tbody tr th {\n",
       "        vertical-align: top;\n",
       "    }\n",
       "\n",
       "    .dataframe thead th {\n",
       "        text-align: right;\n",
       "    }\n",
       "</style>\n",
       "<table border=\"1\" class=\"dataframe\">\n",
       "  <thead>\n",
       "    <tr style=\"text-align: right;\">\n",
       "      <th></th>\n",
       "      <th>v1</th>\n",
       "      <th>v2</th>\n",
       "      <th>v2_col_sums</th>\n",
       "      <th>cumulative_v2_sums</th>\n",
       "      <th>v2_col_products</th>\n",
       "      <th>v1+v2</th>\n",
       "    </tr>\n",
       "  </thead>\n",
       "  <tbody>\n",
       "    <tr>\n",
       "      <th>zero</th>\n",
       "      <td>1.000000</td>\n",
       "      <td>3.162278</td>\n",
       "      <td>12.649111</td>\n",
       "      <td>3.162278</td>\n",
       "      <td>3794.733192</td>\n",
       "      <td>3.316625</td>\n",
       "    </tr>\n",
       "    <tr>\n",
       "      <th>one</th>\n",
       "      <td>1.414214</td>\n",
       "      <td>4.472136</td>\n",
       "      <td>12.649111</td>\n",
       "      <td>5.477226</td>\n",
       "      <td>3794.733192</td>\n",
       "      <td>4.690416</td>\n",
       "    </tr>\n",
       "    <tr>\n",
       "      <th>two</th>\n",
       "      <td>1.732051</td>\n",
       "      <td>5.477226</td>\n",
       "      <td>12.649111</td>\n",
       "      <td>7.745967</td>\n",
       "      <td>3794.733192</td>\n",
       "      <td>5.744563</td>\n",
       "    </tr>\n",
       "    <tr>\n",
       "      <th>three</th>\n",
       "      <td>2.000000</td>\n",
       "      <td>6.324555</td>\n",
       "      <td>12.649111</td>\n",
       "      <td>10.000000</td>\n",
       "      <td>3794.733192</td>\n",
       "      <td>6.633250</td>\n",
       "    </tr>\n",
       "    <tr>\n",
       "      <th>four</th>\n",
       "      <td>2.236068</td>\n",
       "      <td>7.745967</td>\n",
       "      <td>12.649111</td>\n",
       "      <td>12.649111</td>\n",
       "      <td>3794.733192</td>\n",
       "      <td>8.062258</td>\n",
       "    </tr>\n",
       "  </tbody>\n",
       "</table>\n",
       "</div>"
      ],
      "text/plain": [
       "             v1        v2  v2_col_sums  cumulative_v2_sums  v2_col_products  \\\n",
       "zero   1.000000  3.162278    12.649111            3.162278      3794.733192   \n",
       "one    1.414214  4.472136    12.649111            5.477226      3794.733192   \n",
       "two    1.732051  5.477226    12.649111            7.745967      3794.733192   \n",
       "three  2.000000  6.324555    12.649111           10.000000      3794.733192   \n",
       "four   2.236068  7.745967    12.649111           12.649111      3794.733192   \n",
       "\n",
       "          v1+v2  \n",
       "zero   3.316625  \n",
       "one    4.690416  \n",
       "two    5.744563  \n",
       "three  6.633250  \n",
       "four   8.062258  "
      ]
     },
     "execution_count": 559,
     "metadata": {},
     "output_type": "execute_result"
    }
   ],
   "source": [
    "# can be useful for transforming data (more later), and can use numpy operations\n",
    "np.log(v_columns)\n",
    "np.log2(v_columns)\n",
    "np.sqrt(v_columns)"
   ]
  },
  {
   "cell_type": "markdown",
   "metadata": {},
   "source": [
    "To compute over *all* values, use *DataFrame.get_values()*. This converts a DataFrame into an *ndarray*. from there you can do anything you can do with an ndarray."
   ]
  },
  {
   "cell_type": "code",
   "execution_count": 560,
   "metadata": {
    "collapsed": false
   },
   "outputs": [
    {
     "name": "stdout",
     "output_type": "stream",
     "text": [
      "[[       1       10      160       10 14400000       11]\n",
      " [       2       20      160       30 14400000       22]\n",
      " [       3       30      160       60 14400000       33]\n",
      " [       4       40      160      100 14400000       44]\n",
      " [       5       60      160      160 14400000       65]]\n"
     ]
    },
    {
     "data": {
      "text/plain": [
       "72001510"
      ]
     },
     "execution_count": 560,
     "metadata": {},
     "output_type": "execute_result"
    }
   ],
   "source": [
    "vals = v_columns.get_values()\n",
    "print(vals)\n",
    "vals.sum()\n",
    "#vals.cumsum()\n",
    "#vals.mean()\n",
    "#vals.std()"
   ]
  },
  {
   "cell_type": "markdown",
   "metadata": {},
   "source": [
    "### Scalar operations\n",
    "\n",
    "work on entire DataFrame, just like with numpy"
   ]
  },
  {
   "cell_type": "code",
   "execution_count": 561,
   "metadata": {
    "collapsed": false
   },
   "outputs": [
    {
     "data": {
      "text/html": [
       "<div>\n",
       "<style scoped>\n",
       "    .dataframe tbody tr th:only-of-type {\n",
       "        vertical-align: middle;\n",
       "    }\n",
       "\n",
       "    .dataframe tbody tr th {\n",
       "        vertical-align: top;\n",
       "    }\n",
       "\n",
       "    .dataframe thead th {\n",
       "        text-align: right;\n",
       "    }\n",
       "</style>\n",
       "<table border=\"1\" class=\"dataframe\">\n",
       "  <thead>\n",
       "    <tr style=\"text-align: right;\">\n",
       "      <th></th>\n",
       "      <th>v1</th>\n",
       "      <th>v2</th>\n",
       "      <th>v2_col_sums</th>\n",
       "      <th>cumulative_v2_sums</th>\n",
       "      <th>v2_col_products</th>\n",
       "      <th>v1+v2</th>\n",
       "    </tr>\n",
       "  </thead>\n",
       "  <tbody>\n",
       "    <tr>\n",
       "      <th>zero</th>\n",
       "      <td>1</td>\n",
       "      <td>10</td>\n",
       "      <td>160</td>\n",
       "      <td>10</td>\n",
       "      <td>14400000</td>\n",
       "      <td>11</td>\n",
       "    </tr>\n",
       "    <tr>\n",
       "      <th>one</th>\n",
       "      <td>2</td>\n",
       "      <td>20</td>\n",
       "      <td>160</td>\n",
       "      <td>30</td>\n",
       "      <td>14400000</td>\n",
       "      <td>22</td>\n",
       "    </tr>\n",
       "    <tr>\n",
       "      <th>two</th>\n",
       "      <td>3</td>\n",
       "      <td>30</td>\n",
       "      <td>160</td>\n",
       "      <td>60</td>\n",
       "      <td>14400000</td>\n",
       "      <td>33</td>\n",
       "    </tr>\n",
       "    <tr>\n",
       "      <th>three</th>\n",
       "      <td>4</td>\n",
       "      <td>40</td>\n",
       "      <td>160</td>\n",
       "      <td>100</td>\n",
       "      <td>14400000</td>\n",
       "      <td>44</td>\n",
       "    </tr>\n",
       "    <tr>\n",
       "      <th>four</th>\n",
       "      <td>5</td>\n",
       "      <td>60</td>\n",
       "      <td>160</td>\n",
       "      <td>160</td>\n",
       "      <td>14400000</td>\n",
       "      <td>65</td>\n",
       "    </tr>\n",
       "  </tbody>\n",
       "</table>\n",
       "</div>"
      ],
      "text/plain": [
       "       v1  v2  v2_col_sums  cumulative_v2_sums  v2_col_products  v1+v2\n",
       "zero    1  10          160                  10         14400000     11\n",
       "one     2  20          160                  30         14400000     22\n",
       "two     3  30          160                  60         14400000     33\n",
       "three   4  40          160                 100         14400000     44\n",
       "four    5  60          160                 160         14400000     65"
      ]
     },
     "execution_count": 561,
     "metadata": {},
     "output_type": "execute_result"
    }
   ],
   "source": [
    "#refresh dataset\n",
    "v_columns = save_v_columns # restore original values\n",
    "v_columns"
   ]
  },
  {
   "cell_type": "code",
   "execution_count": 562,
   "metadata": {
    "collapsed": false,
    "scrolled": true
   },
   "outputs": [
    {
     "name": "stdout",
     "output_type": "stream",
     "text": [
      "       v1  v2  v2_col_sums  cumulative_v2_sums  v2_col_products  v1+v2\n",
      "zero    1  10          160                  10         14400000     11\n",
      "one     2  20          160                  30         14400000     22\n",
      "two     3  30          160                  60         14400000     33\n",
      "three   4  40          160                 100         14400000     44\n",
      "four    5  60          160                 160         14400000     65\n"
     ]
    },
    {
     "data": {
      "text/html": [
       "<div>\n",
       "<style scoped>\n",
       "    .dataframe tbody tr th:only-of-type {\n",
       "        vertical-align: middle;\n",
       "    }\n",
       "\n",
       "    .dataframe tbody tr th {\n",
       "        vertical-align: top;\n",
       "    }\n",
       "\n",
       "    .dataframe thead th {\n",
       "        text-align: right;\n",
       "    }\n",
       "</style>\n",
       "<table border=\"1\" class=\"dataframe\">\n",
       "  <thead>\n",
       "    <tr style=\"text-align: right;\">\n",
       "      <th></th>\n",
       "      <th>v1</th>\n",
       "      <th>v2</th>\n",
       "      <th>v2_col_sums</th>\n",
       "      <th>cumulative_v2_sums</th>\n",
       "      <th>v2_col_products</th>\n",
       "      <th>v1+v2</th>\n",
       "    </tr>\n",
       "  </thead>\n",
       "  <tbody>\n",
       "    <tr>\n",
       "      <th>zero</th>\n",
       "      <td>3.141593</td>\n",
       "      <td>31.415927</td>\n",
       "      <td>502.654825</td>\n",
       "      <td>31.415927</td>\n",
       "      <td>4.523893e+07</td>\n",
       "      <td>34.557519</td>\n",
       "    </tr>\n",
       "    <tr>\n",
       "      <th>one</th>\n",
       "      <td>6.283185</td>\n",
       "      <td>62.831853</td>\n",
       "      <td>502.654825</td>\n",
       "      <td>94.247780</td>\n",
       "      <td>4.523893e+07</td>\n",
       "      <td>69.115038</td>\n",
       "    </tr>\n",
       "    <tr>\n",
       "      <th>two</th>\n",
       "      <td>9.424778</td>\n",
       "      <td>94.247780</td>\n",
       "      <td>502.654825</td>\n",
       "      <td>188.495559</td>\n",
       "      <td>4.523893e+07</td>\n",
       "      <td>103.672558</td>\n",
       "    </tr>\n",
       "    <tr>\n",
       "      <th>three</th>\n",
       "      <td>12.566371</td>\n",
       "      <td>125.663706</td>\n",
       "      <td>502.654825</td>\n",
       "      <td>314.159265</td>\n",
       "      <td>4.523893e+07</td>\n",
       "      <td>138.230077</td>\n",
       "    </tr>\n",
       "    <tr>\n",
       "      <th>four</th>\n",
       "      <td>15.707963</td>\n",
       "      <td>188.495559</td>\n",
       "      <td>502.654825</td>\n",
       "      <td>502.654825</td>\n",
       "      <td>4.523893e+07</td>\n",
       "      <td>204.203522</td>\n",
       "    </tr>\n",
       "  </tbody>\n",
       "</table>\n",
       "</div>"
      ],
      "text/plain": [
       "              v1          v2  v2_col_sums  cumulative_v2_sums  \\\n",
       "zero    3.141593   31.415927   502.654825           31.415927   \n",
       "one     6.283185   62.831853   502.654825           94.247780   \n",
       "two     9.424778   94.247780   502.654825          188.495559   \n",
       "three  12.566371  125.663706   502.654825          314.159265   \n",
       "four   15.707963  188.495559   502.654825          502.654825   \n",
       "\n",
       "       v2_col_products       v1+v2  \n",
       "zero      4.523893e+07   34.557519  \n",
       "one       4.523893e+07   69.115038  \n",
       "two       4.523893e+07  103.672558  \n",
       "three     4.523893e+07  138.230077  \n",
       "four      4.523893e+07  204.203522  "
      ]
     },
     "execution_count": 562,
     "metadata": {},
     "output_type": "execute_result"
    }
   ],
   "source": [
    "print(v_columns)\n",
    "v_columns - 2\n",
    "v_columns * 10\n",
    "v_columns ** 2\n",
    "v_columns * v_columns\n",
    "v_columns / 3\n",
    "v_columns*np.pi"
   ]
  },
  {
   "cell_type": "markdown",
   "metadata": {},
   "source": [
    "### binary operations (between DataFrames)\n",
    "\n",
    "(maybe skip this?)"
   ]
  },
  {
   "cell_type": "markdown",
   "metadata": {},
   "source": [
    "## statistics on DataFrame "
   ]
  },
  {
   "cell_type": "code",
   "execution_count": 563,
   "metadata": {
    "collapsed": false
   },
   "outputs": [
    {
     "name": "stdout",
     "output_type": "stream",
     "text": [
      "              a         b         c         d\n",
      "one   -0.308925 -0.017119 -0.399319 -1.426825\n",
      "two    2.426959 -0.101732  0.771774  0.104151\n",
      "three  0.017272 -0.252565 -0.972290  0.453701\n"
     ]
    },
    {
     "data": {
      "text/plain": [
       "0.024590056689166487"
      ]
     },
     "execution_count": 563,
     "metadata": {},
     "output_type": "execute_result"
    }
   ],
   "source": [
    "# compute means\n",
    "print(rand_normal)\n",
    "rand_normal.describe(include='all')\n",
    "rand_normal.mean()                # columnwise\n",
    "rand_normal.mean(axis=1)          # rowwise\n",
    "rand_normal.get_values().mean()   # mean of all numbers"
   ]
  },
  {
   "cell_type": "code",
   "execution_count": 564,
   "metadata": {
    "collapsed": false
   },
   "outputs": [
    {
     "name": "stdout",
     "output_type": "stream",
     "text": [
      "              a         b         c         d\n",
      "one   -0.308925 -0.017119 -0.399319 -1.426825\n",
      "two    2.426959 -0.101732  0.771774  0.104151\n",
      "three  0.017272 -0.252565 -0.972290  0.453701\n"
     ]
    },
    {
     "data": {
      "text/plain": [
       "one      0.614555\n",
       "two      1.146752\n",
       "three    0.598107\n",
       "dtype: float64"
      ]
     },
     "execution_count": 564,
     "metadata": {},
     "output_type": "execute_result"
    }
   ],
   "source": [
    "# compute std\n",
    "print(rand_normal)\n",
    "rand_normal.std()                # columnwise\n",
    "rand_normal.std(axis=1)          # rowwise"
   ]
  },
  {
   "cell_type": "code",
   "execution_count": 565,
   "metadata": {
    "collapsed": false
   },
   "outputs": [
    {
     "name": "stdout",
     "output_type": "stream",
     "text": [
      "        exp  exp_skewed      norm  norm_skewed\n",
      "0  1.705131    6.705131 -1.963831     6.072338\n",
      "1  1.246314    6.246314  0.334621    10.669241\n",
      "2  0.158703    5.158703 -0.334456     9.331089\n",
      "3  1.382912    6.382912  0.740672    11.481344\n",
      "4  1.013612    6.013612 -1.027588     7.944825\n"
     ]
    },
    {
     "data": {
      "image/png": "[encoded data removed]",
      "text/plain": [
       "<Figure size 432x288 with 1 Axes>"
      ]
     },
     "metadata": {},
     "output_type": "display_data"
    },
    {
     "data": {
      "image/png": "[encoded data removed]",
      "text/plain": [
       "<Figure size 432x288 with 4 Axes>"
      ]
     },
     "metadata": {},
     "output_type": "display_data"
    }
   ],
   "source": [
    "normal_dist = np.random.normal(0,size=100)\n",
    "exp_dist = np.random.exponential(1/1.3,size=100)\n",
    "rand_df = DataFrame( {'norm': normal_dist,\n",
    "                      'norm_skewed': (normal_dist+5)*2,\n",
    "                      'exp' : exp_dist, \n",
    "                      'exp_skewed' : (exp_dist+5)\n",
    "                     }\n",
    "                   )\n",
    "\n",
    "print(rand_df.head())\n",
    "h = rand_df.plot()\n",
    "h = rand_df.hist() #column=['normal', 'normal_skewed', 'exponential', 'exp_skewed'], layout=(2,2))\n",
    "\n",
    "backup = rand_df\n",
    "transformed_df = rand_df"
   ]
  },
  {
   "cell_type": "code",
   "execution_count": 566,
   "metadata": {
    "collapsed": false,
    "scrolled": false
   },
   "outputs": [
    {
     "data": {
      "text/html": [
       "<div>\n",
       "<style scoped>\n",
       "    .dataframe tbody tr th:only-of-type {\n",
       "        vertical-align: middle;\n",
       "    }\n",
       "\n",
       "    .dataframe tbody tr th {\n",
       "        vertical-align: top;\n",
       "    }\n",
       "\n",
       "    .dataframe thead th {\n",
       "        text-align: right;\n",
       "    }\n",
       "</style>\n",
       "<table border=\"1\" class=\"dataframe\">\n",
       "  <thead>\n",
       "    <tr style=\"text-align: right;\">\n",
       "      <th></th>\n",
       "      <th>exp</th>\n",
       "      <th>exp_skewed</th>\n",
       "      <th>norm</th>\n",
       "      <th>norm_skewed</th>\n",
       "    </tr>\n",
       "  </thead>\n",
       "  <tbody>\n",
       "    <tr>\n",
       "      <th>count</th>\n",
       "      <td>100.000000</td>\n",
       "      <td>100.000000</td>\n",
       "      <td>100.000000</td>\n",
       "      <td>100.000000</td>\n",
       "    </tr>\n",
       "    <tr>\n",
       "      <th>mean</th>\n",
       "      <td>0.653033</td>\n",
       "      <td>5.653033</td>\n",
       "      <td>-0.092157</td>\n",
       "      <td>9.815686</td>\n",
       "    </tr>\n",
       "    <tr>\n",
       "      <th>std</th>\n",
       "      <td>0.590407</td>\n",
       "      <td>0.590407</td>\n",
       "      <td>1.128781</td>\n",
       "      <td>2.257562</td>\n",
       "    </tr>\n",
       "    <tr>\n",
       "      <th>min</th>\n",
       "      <td>0.001518</td>\n",
       "      <td>5.001518</td>\n",
       "      <td>-2.361399</td>\n",
       "      <td>5.277202</td>\n",
       "    </tr>\n",
       "    <tr>\n",
       "      <th>25%</th>\n",
       "      <td>0.170673</td>\n",
       "      <td>5.170673</td>\n",
       "      <td>-1.005576</td>\n",
       "      <td>7.988847</td>\n",
       "    </tr>\n",
       "    <tr>\n",
       "      <th>50%</th>\n",
       "      <td>0.498972</td>\n",
       "      <td>5.498972</td>\n",
       "      <td>-0.050237</td>\n",
       "      <td>9.899526</td>\n",
       "    </tr>\n",
       "    <tr>\n",
       "      <th>75%</th>\n",
       "      <td>0.972442</td>\n",
       "      <td>5.972442</td>\n",
       "      <td>0.661223</td>\n",
       "      <td>11.322447</td>\n",
       "    </tr>\n",
       "    <tr>\n",
       "      <th>max</th>\n",
       "      <td>3.461403</td>\n",
       "      <td>8.461403</td>\n",
       "      <td>2.404160</td>\n",
       "      <td>14.808319</td>\n",
       "    </tr>\n",
       "  </tbody>\n",
       "</table>\n",
       "</div>"
      ],
      "text/plain": [
       "              exp  exp_skewed        norm  norm_skewed\n",
       "count  100.000000  100.000000  100.000000   100.000000\n",
       "mean     0.653033    5.653033   -0.092157     9.815686\n",
       "std      0.590407    0.590407    1.128781     2.257562\n",
       "min      0.001518    5.001518   -2.361399     5.277202\n",
       "25%      0.170673    5.170673   -1.005576     7.988847\n",
       "50%      0.498972    5.498972   -0.050237     9.899526\n",
       "75%      0.972442    5.972442    0.661223    11.322447\n",
       "max      3.461403    8.461403    2.404160    14.808319"
      ]
     },
     "execution_count": 566,
     "metadata": {},
     "output_type": "execute_result"
    }
   ],
   "source": [
    "transformed_df.describe()\n"
   ]
  },
  {
   "cell_type": "code",
   "execution_count": 567,
   "metadata": {
    "collapsed": false,
    "scrolled": true
   },
   "outputs": [
    {
     "data": {
      "text/html": [
       "<div>\n",
       "<style scoped>\n",
       "    .dataframe tbody tr th:only-of-type {\n",
       "        vertical-align: middle;\n",
       "    }\n",
       "\n",
       "    .dataframe tbody tr th {\n",
       "        vertical-align: top;\n",
       "    }\n",
       "\n",
       "    .dataframe thead th {\n",
       "        text-align: right;\n",
       "    }\n",
       "</style>\n",
       "<table border=\"1\" class=\"dataframe\">\n",
       "  <thead>\n",
       "    <tr style=\"text-align: right;\">\n",
       "      <th></th>\n",
       "      <th>exp_skewed</th>\n",
       "      <th>norm_skewed</th>\n",
       "      <th>new_column_1</th>\n",
       "      <th>new_column_2</th>\n",
       "    </tr>\n",
       "  </thead>\n",
       "  <tbody>\n",
       "    <tr>\n",
       "      <th>count</th>\n",
       "      <td>100.000000</td>\n",
       "      <td>100.000000</td>\n",
       "      <td>100.000000</td>\n",
       "      <td>100.000000</td>\n",
       "    </tr>\n",
       "    <tr>\n",
       "      <th>mean</th>\n",
       "      <td>0.938885</td>\n",
       "      <td>5.101538</td>\n",
       "      <td>0.614081</td>\n",
       "      <td>50.788368</td>\n",
       "    </tr>\n",
       "    <tr>\n",
       "      <th>std</th>\n",
       "      <td>0.590407</td>\n",
       "      <td>2.257562</td>\n",
       "      <td>0.556485</td>\n",
       "      <td>14.441464</td>\n",
       "    </tr>\n",
       "    <tr>\n",
       "      <th>min</th>\n",
       "      <td>0.287370</td>\n",
       "      <td>0.563054</td>\n",
       "      <td>0.000000</td>\n",
       "      <td>24.209011</td>\n",
       "    </tr>\n",
       "    <tr>\n",
       "      <th>25%</th>\n",
       "      <td>0.456525</td>\n",
       "      <td>3.274699</td>\n",
       "      <td>0.159436</td>\n",
       "      <td>39.205357</td>\n",
       "    </tr>\n",
       "    <tr>\n",
       "      <th>50%</th>\n",
       "      <td>0.784824</td>\n",
       "      <td>5.185378</td>\n",
       "      <td>0.468871</td>\n",
       "      <td>50.650759</td>\n",
       "    </tr>\n",
       "    <tr>\n",
       "      <th>75%</th>\n",
       "      <td>1.258294</td>\n",
       "      <td>6.608299</td>\n",
       "      <td>0.915138</td>\n",
       "      <td>60.805936</td>\n",
       "    </tr>\n",
       "    <tr>\n",
       "      <th>max</th>\n",
       "      <td>3.747255</td>\n",
       "      <td>10.094171</td>\n",
       "      <td>3.261091</td>\n",
       "      <td>101.750804</td>\n",
       "    </tr>\n",
       "  </tbody>\n",
       "</table>\n",
       "</div>"
      ],
      "text/plain": [
       "       exp_skewed  norm_skewed  new_column_1  new_column_2\n",
       "count  100.000000   100.000000    100.000000    100.000000\n",
       "mean     0.938885     5.101538      0.614081     50.788368\n",
       "std      0.590407     2.257562      0.556485     14.441464\n",
       "min      0.287370     0.563054      0.000000     24.209011\n",
       "25%      0.456525     3.274699      0.159436     39.205357\n",
       "50%      0.784824     5.185378      0.468871     50.650759\n",
       "75%      1.258294     6.608299      0.915138     60.805936\n",
       "max      3.747255    10.094171      3.261091    101.750804"
      ]
     },
     "execution_count": 567,
     "metadata": {},
     "output_type": "execute_result"
    },
    {
     "data": {
      "image/png": "[encoded data removed]",
      "text/plain": [
       "<Figure size 432x288 with 4 Axes>"
      ]
     },
     "metadata": {},
     "output_type": "display_data"
    },
    {
     "data": {
      "image/png": "[encoded data removed]",
      "text/plain": [
       "<Figure size 432x288 with 1 Axes>"
      ]
     },
     "metadata": {},
     "output_type": "display_data"
    }
   ],
   "source": [
    "transformed_df = backup\n",
    "transformed_df.drop(columns=['exp', 'norm'], inplace=True)\n",
    "\n",
    "transformed_df['new_column_1'] = (transformed_df['exp_skewed'] * np.random.rand())\n",
    "transformed_df['new_column_2'] = transformed_df['exp_skewed'] * transformed_df['norm_skewed']\n",
    "transformed_df = transformed_df - transformed_df.get_values().min()  # note use of min()\n",
    "\n",
    "h = transformed_df.hist()\n",
    "h = transformed_df.plot()\n",
    "transformed_df.describe()"
   ]
  },
  {
   "cell_type": "code",
   "execution_count": 568,
   "metadata": {
    "collapsed": false
   },
   "outputs": [
    {
     "data": {
      "text/html": [
       "<div>\n",
       "<style scoped>\n",
       "    .dataframe tbody tr th:only-of-type {\n",
       "        vertical-align: middle;\n",
       "    }\n",
       "\n",
       "    .dataframe tbody tr th {\n",
       "        vertical-align: top;\n",
       "    }\n",
       "\n",
       "    .dataframe thead th {\n",
       "        text-align: right;\n",
       "    }\n",
       "</style>\n",
       "<table border=\"1\" class=\"dataframe\">\n",
       "  <thead>\n",
       "    <tr style=\"text-align: right;\">\n",
       "      <th></th>\n",
       "      <th>exp_skewed</th>\n",
       "      <th>norm_skewed</th>\n",
       "      <th>new_column_1</th>\n",
       "      <th>new_column_2</th>\n",
       "    </tr>\n",
       "  </thead>\n",
       "  <tbody>\n",
       "    <tr>\n",
       "      <th>exp_skewed</th>\n",
       "      <td>1.000000</td>\n",
       "      <td>0.010705</td>\n",
       "      <td>1.000000</td>\n",
       "      <td>0.426961</td>\n",
       "    </tr>\n",
       "    <tr>\n",
       "      <th>norm_skewed</th>\n",
       "      <td>0.010705</td>\n",
       "      <td>1.000000</td>\n",
       "      <td>0.010705</td>\n",
       "      <td>0.903680</td>\n",
       "    </tr>\n",
       "    <tr>\n",
       "      <th>new_column_1</th>\n",
       "      <td>1.000000</td>\n",
       "      <td>0.010705</td>\n",
       "      <td>1.000000</td>\n",
       "      <td>0.426961</td>\n",
       "    </tr>\n",
       "    <tr>\n",
       "      <th>new_column_2</th>\n",
       "      <td>0.426961</td>\n",
       "      <td>0.903680</td>\n",
       "      <td>0.426961</td>\n",
       "      <td>1.000000</td>\n",
       "    </tr>\n",
       "  </tbody>\n",
       "</table>\n",
       "</div>"
      ],
      "text/plain": [
       "              exp_skewed  norm_skewed  new_column_1  new_column_2\n",
       "exp_skewed      1.000000     0.010705      1.000000      0.426961\n",
       "norm_skewed     0.010705     1.000000      0.010705      0.903680\n",
       "new_column_1    1.000000     0.010705      1.000000      0.426961\n",
       "new_column_2    0.426961     0.903680      0.426961      1.000000"
      ]
     },
     "execution_count": 568,
     "metadata": {},
     "output_type": "execute_result"
    }
   ],
   "source": [
    "transformed_df.corr()"
   ]
  },
  {
   "cell_type": "code",
   "execution_count": 569,
   "metadata": {
    "collapsed": false
   },
   "outputs": [
    {
     "data": {
      "text/html": [
       "<div>\n",
       "<style scoped>\n",
       "    .dataframe tbody tr th:only-of-type {\n",
       "        vertical-align: middle;\n",
       "    }\n",
       "\n",
       "    .dataframe tbody tr th {\n",
       "        vertical-align: top;\n",
       "    }\n",
       "\n",
       "    .dataframe thead th {\n",
       "        text-align: right;\n",
       "    }\n",
       "</style>\n",
       "<table border=\"1\" class=\"dataframe\">\n",
       "  <thead>\n",
       "    <tr style=\"text-align: right;\">\n",
       "      <th></th>\n",
       "      <th>exp_skewed</th>\n",
       "      <th>norm_skewed</th>\n",
       "      <th>new_column_1</th>\n",
       "      <th>new_column_2</th>\n",
       "    </tr>\n",
       "  </thead>\n",
       "  <tbody>\n",
       "    <tr>\n",
       "      <th>exp_skewed</th>\n",
       "      <td>0.348581</td>\n",
       "      <td>0.014268</td>\n",
       "      <td>0.328553</td>\n",
       "      <td>3.640420</td>\n",
       "    </tr>\n",
       "    <tr>\n",
       "      <th>norm_skewed</th>\n",
       "      <td>0.014268</td>\n",
       "      <td>5.096584</td>\n",
       "      <td>0.013448</td>\n",
       "      <td>29.462237</td>\n",
       "    </tr>\n",
       "    <tr>\n",
       "      <th>new_column_1</th>\n",
       "      <td>0.328553</td>\n",
       "      <td>0.013448</td>\n",
       "      <td>0.309675</td>\n",
       "      <td>3.431254</td>\n",
       "    </tr>\n",
       "    <tr>\n",
       "      <th>new_column_2</th>\n",
       "      <td>3.640420</td>\n",
       "      <td>29.462237</td>\n",
       "      <td>3.431254</td>\n",
       "      <td>208.555871</td>\n",
       "    </tr>\n",
       "  </tbody>\n",
       "</table>\n",
       "</div>"
      ],
      "text/plain": [
       "              exp_skewed  norm_skewed  new_column_1  new_column_2\n",
       "exp_skewed      0.348581     0.014268      0.328553      3.640420\n",
       "norm_skewed     0.014268     5.096584      0.013448     29.462237\n",
       "new_column_1    0.328553     0.013448      0.309675      3.431254\n",
       "new_column_2    3.640420    29.462237      3.431254    208.555871"
      ]
     },
     "execution_count": 569,
     "metadata": {},
     "output_type": "execute_result"
    }
   ],
   "source": [
    "transformed_df.cov()"
   ]
  },
  {
   "cell_type": "code",
   "execution_count": 570,
   "metadata": {
    "collapsed": false,
    "scrolled": true
   },
   "outputs": [
    {
     "data": {
      "text/html": [
       "<div>\n",
       "<style scoped>\n",
       "    .dataframe tbody tr th:only-of-type {\n",
       "        vertical-align: middle;\n",
       "    }\n",
       "\n",
       "    .dataframe tbody tr th {\n",
       "        vertical-align: top;\n",
       "    }\n",
       "\n",
       "    .dataframe thead th {\n",
       "        text-align: right;\n",
       "    }\n",
       "</style>\n",
       "<table border=\"1\" class=\"dataframe\">\n",
       "  <thead>\n",
       "    <tr style=\"text-align: right;\">\n",
       "      <th></th>\n",
       "      <th>exp_skewed</th>\n",
       "      <th>new_column_1</th>\n",
       "      <th>new_column_2</th>\n",
       "    </tr>\n",
       "  </thead>\n",
       "  <tbody>\n",
       "    <tr>\n",
       "      <th>exp_skewed</th>\n",
       "      <td>0.348581</td>\n",
       "      <td>0.328553</td>\n",
       "      <td>3.640420</td>\n",
       "    </tr>\n",
       "    <tr>\n",
       "      <th>new_column_1</th>\n",
       "      <td>0.328553</td>\n",
       "      <td>0.309675</td>\n",
       "      <td>3.431254</td>\n",
       "    </tr>\n",
       "    <tr>\n",
       "      <th>new_column_2</th>\n",
       "      <td>3.640420</td>\n",
       "      <td>3.431254</td>\n",
       "      <td>208.555871</td>\n",
       "    </tr>\n",
       "  </tbody>\n",
       "</table>\n",
       "</div>"
      ],
      "text/plain": [
       "              exp_skewed  new_column_1  new_column_2\n",
       "exp_skewed      0.348581      0.328553      3.640420\n",
       "new_column_1    0.328553      0.309675      3.431254\n",
       "new_column_2    3.640420      3.431254    208.555871"
      ]
     },
     "execution_count": 570,
     "metadata": {},
     "output_type": "execute_result"
    }
   ],
   "source": [
    "transformed_df[['exp_skewed', 'new_column_1', 'new_column_2']].cov()"
   ]
  },
  {
   "cell_type": "code",
   "execution_count": null,
   "metadata": {
    "collapsed": true
   },
   "outputs": [],
   "source": []
  }
 ],
 "metadata": {
  "anaconda-cloud": {},
  "kernelspec": {
   "display_name": "Python 2",
   "language": "python",
   "name": "python2"
  },
  "language_info": {
   "codemirror_mode": {
    "name": "ipython",
    "version": 2
   },
   "file_extension": ".py",
   "mimetype": "text/x-python",
   "name": "python",
   "nbconvert_exporter": "python",
   "pygments_lexer": "ipython2",
   "version": "2.7.11"
  },
  "latex_envs": {
   "bibliofile": "biblio.bib",
   "cite_by": "apalike",
   "current_citInitial": 1,
   "eqLabelWithNumbers": true,
   "eqNumInitial": 0
  }
 },
 "nbformat": 4,
 "nbformat_minor": 2
}
