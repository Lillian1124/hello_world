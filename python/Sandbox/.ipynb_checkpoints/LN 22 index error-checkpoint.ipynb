{
 "cells": [
  {
   "cell_type": "markdown",
   "metadata": {},
   "source": [
    "# Lecture 22 2018-11-01: Matplotlib\n",
    "\n",
    "Plotting data with matplotlib package\n",
    "\n",
    "This shows how to get around the 'old matplotlib version' problem"
   ]
  },
  {
   "cell_type": "code",
   "execution_count": 1,
   "metadata": {
    "collapsed": true
   },
   "outputs": [],
   "source": [
    "import pandas as pd\n",
    "from pandas import Series, DataFrame   # use these so often, this can be helpful"
   ]
  },
  {
   "cell_type": "code",
   "execution_count": 2,
   "metadata": {
    "collapsed": true
   },
   "outputs": [],
   "source": [
    "from matplotlib import pyplot as plt\n",
    "%matplotlib inline"
   ]
  },
  {
   "cell_type": "markdown",
   "metadata": {},
   "source": [
    "### Exercise with real data"
   ]
  },
  {
   "cell_type": "code",
   "execution_count": 3,
   "metadata": {
    "collapsed": false,
    "scrolled": true
   },
   "outputs": [
    {
     "name": "stdout",
     "output_type": "stream",
     "text": [
      "patientID\tLactobacillus_crispatus\tLactobacillus_iners\tLactobacillus_gasseri\tLactobacillus_jensenii\tAtopobium_vaginae\tMegasphaera_sp._type_1\tStreptococcus_anginosus\tPrevotella_genogroup_3\tClostridiales\tEnterococcus_faecalis\tCorynebacterium_accolens\tTotal\tShannon\tSimpson\r\n",
      " AYAC01 \t0.4945164323392374\t0.04614204651947973\t0.0013938563779167972\t0.0008314900243815879\t0.09939048274723454\t0.3235626455365195\t2.529852256628213e-05\t0.0018612471942309923\t0.013861359522638336\t7.309941520467836e-05\t0.018342041800590122\t23288\t1.2489698918808638\t2.764083921045238\r\n",
      " AYAC02 \t0.6752256017633733\t0.2841456786181501\t0.0018426771758656062\t0.03758653051563417\t4.464617328552749e-05\t0.0\t2.9488086812927577e-05\t0.0\t0.0\t0.0004452132882514228\t0.0006801643786268412\t40926\t0.7726215979153231\t1.8584348880097592\r\n",
      " AYAC03 \t0.2988988574083742\t0.3366439249686981\t0.0008212921401808116\t6.940735479047098e-05\t0.1436266908783549\t0.16132430355518462\t0.000479428636078947\t0.04400760052543568\t0.004455985833629902\t4.1363335539377896e-05\t0.00963114536373301\t25299\t1.521094731732457\t3.9781043384416415\r\n",
      " AYAC04 \t0.8828673700411095\t0.09108428451543404\t0.004369517944930395\t0.021185525547729848\t0.0\t4.905808477237049e-05\t2.4767188428769565e-05\t0.0\t0.00010479653187309248\t4.973145016908693e-05\t0.00026494869555283786\t35911\t0.4439995348126398\t1.2686794883469839\r\n",
      " AYAC05 \t0.0012239001528286317\t0.7746865107924344\t0.001111262657188805\t0.1777011448031106\t0.0005782164494459757\t0.0\t0.029465383109260175\t0.0\t0.000758895815039457\t0.0013757861635220125\t0.013098900057169939\t26537\t0.7048694308146654\t1.5803675047655052\r\n",
      " AYAC06 \t0.0014584647046624172\t0.006301940592184592\t0.9722359038155824\t0.0005257229737768096\t0.0\t0.0\t0.01888088971678568\t0.0\t0.00011318577262235899\t2.4283632831471587e-05\t0.0004596087915544205\t28273\t0.1587771674159599\t1.0574809827229876\r\n",
      " AYAC07 \t0.4967566208354265\t0.4937230793635611\t0.0009927089452744279\t0.006679165533091124\t0.0\t0.0\t0.001341545734493597\t0.0\t0.0\t1.965717880169838e-05\t0.0004872224093515753\t47263\t0.7552052396889297\t2.038406623344699\r\n",
      " AYAC08 \t0.1883191087154629\t0.8095081604871948\t0.000353473685008717\t5.34880235557282e-05\t0.0\t2.0878570235510272e-05\t6.99102936241737e-05\t0.0\t9.956779243643975e-05\t2.8153153153153154e-05\t0.0015472592793286412\t39146\t0.5074556811011329\t1.447655485220374\r\n",
      " AYAC09 \t0.9994273937070547\t0.00037448852198796384\t0.0\t6.114492373242556e-05\t0.0\t2.1910604732690622e-05\t2.2186723464678736e-05\t0.0\t0.0\t1.549714852467146e-05\t7.73783705029122e-05\t56758\t0.0131899242565377\t1.0011440408504941\r\n"
     ]
    }
   ],
   "source": [
    "!head microbiome_data.txt"
   ]
  },
  {
   "cell_type": "code",
   "execution_count": 4,
   "metadata": {
    "collapsed": true,
    "scrolled": true
   },
   "outputs": [],
   "source": [
    "x=pd.read_csv('microbiome_data.txt', \n",
    "              comment='#', \n",
    "              sep='\\t', \n",
    "              header=0,\n",
    "              index_col=0\n",
    "             )\n",
    "\n",
    "# make useful sub-dataframes\n",
    "x_abundances = x.iloc[:,:-3]\n",
    "x_diversity = x.iloc[:,-3:]"
   ]
  },
  {
   "cell_type": "code",
   "execution_count": 5,
   "metadata": {
    "collapsed": false
   },
   "outputs": [
    {
     "data": {
      "text/html": [
       "<div>\n",
       "<table border=\"1\" class=\"dataframe\">\n",
       "  <thead>\n",
       "    <tr style=\"text-align: right;\">\n",
       "      <th></th>\n",
       "      <th>Lactobacillus_crispatus</th>\n",
       "      <th>Lactobacillus_iners</th>\n",
       "      <th>Lactobacillus_gasseri</th>\n",
       "      <th>Lactobacillus_jensenii</th>\n",
       "      <th>Atopobium_vaginae</th>\n",
       "      <th>Megasphaera_sp._type_1</th>\n",
       "      <th>Streptococcus_anginosus</th>\n",
       "      <th>Prevotella_genogroup_3</th>\n",
       "      <th>Clostridiales</th>\n",
       "      <th>Enterococcus_faecalis</th>\n",
       "      <th>Corynebacterium_accolens</th>\n",
       "    </tr>\n",
       "    <tr>\n",
       "      <th>patientID</th>\n",
       "      <th></th>\n",
       "      <th></th>\n",
       "      <th></th>\n",
       "      <th></th>\n",
       "      <th></th>\n",
       "      <th></th>\n",
       "      <th></th>\n",
       "      <th></th>\n",
       "      <th></th>\n",
       "      <th></th>\n",
       "      <th></th>\n",
       "    </tr>\n",
       "  </thead>\n",
       "  <tbody>\n",
       "    <tr>\n",
       "      <th>AYAC01</th>\n",
       "      <td>0.494516</td>\n",
       "      <td>0.046142</td>\n",
       "      <td>0.001394</td>\n",
       "      <td>0.000831</td>\n",
       "      <td>0.099390</td>\n",
       "      <td>0.323563</td>\n",
       "      <td>0.000025</td>\n",
       "      <td>0.001861</td>\n",
       "      <td>0.013861</td>\n",
       "      <td>0.000073</td>\n",
       "      <td>0.018342</td>\n",
       "    </tr>\n",
       "    <tr>\n",
       "      <th>AYAC02</th>\n",
       "      <td>0.675226</td>\n",
       "      <td>0.284146</td>\n",
       "      <td>0.001843</td>\n",
       "      <td>0.037587</td>\n",
       "      <td>0.000045</td>\n",
       "      <td>0.000000</td>\n",
       "      <td>0.000029</td>\n",
       "      <td>0.000000</td>\n",
       "      <td>0.000000</td>\n",
       "      <td>0.000445</td>\n",
       "      <td>0.000680</td>\n",
       "    </tr>\n",
       "    <tr>\n",
       "      <th>AYAC03</th>\n",
       "      <td>0.298899</td>\n",
       "      <td>0.336644</td>\n",
       "      <td>0.000821</td>\n",
       "      <td>0.000069</td>\n",
       "      <td>0.143627</td>\n",
       "      <td>0.161324</td>\n",
       "      <td>0.000479</td>\n",
       "      <td>0.044008</td>\n",
       "      <td>0.004456</td>\n",
       "      <td>0.000041</td>\n",
       "      <td>0.009631</td>\n",
       "    </tr>\n",
       "    <tr>\n",
       "      <th>AYAC04</th>\n",
       "      <td>0.882867</td>\n",
       "      <td>0.091084</td>\n",
       "      <td>0.004370</td>\n",
       "      <td>0.021186</td>\n",
       "      <td>0.000000</td>\n",
       "      <td>0.000049</td>\n",
       "      <td>0.000025</td>\n",
       "      <td>0.000000</td>\n",
       "      <td>0.000105</td>\n",
       "      <td>0.000050</td>\n",
       "      <td>0.000265</td>\n",
       "    </tr>\n",
       "    <tr>\n",
       "      <th>AYAC05</th>\n",
       "      <td>0.001224</td>\n",
       "      <td>0.774687</td>\n",
       "      <td>0.001111</td>\n",
       "      <td>0.177701</td>\n",
       "      <td>0.000578</td>\n",
       "      <td>0.000000</td>\n",
       "      <td>0.029465</td>\n",
       "      <td>0.000000</td>\n",
       "      <td>0.000759</td>\n",
       "      <td>0.001376</td>\n",
       "      <td>0.013099</td>\n",
       "    </tr>\n",
       "  </tbody>\n",
       "</table>\n",
       "</div>"
      ],
      "text/plain": [
       "           Lactobacillus_crispatus  Lactobacillus_iners  \\\n",
       "patientID                                                 \n",
       " AYAC01                   0.494516             0.046142   \n",
       " AYAC02                   0.675226             0.284146   \n",
       " AYAC03                   0.298899             0.336644   \n",
       " AYAC04                   0.882867             0.091084   \n",
       " AYAC05                   0.001224             0.774687   \n",
       "\n",
       "           Lactobacillus_gasseri  Lactobacillus_jensenii  Atopobium_vaginae  \\\n",
       "patientID                                                                     \n",
       " AYAC01                 0.001394                0.000831           0.099390   \n",
       " AYAC02                 0.001843                0.037587           0.000045   \n",
       " AYAC03                 0.000821                0.000069           0.143627   \n",
       " AYAC04                 0.004370                0.021186           0.000000   \n",
       " AYAC05                 0.001111                0.177701           0.000578   \n",
       "\n",
       "           Megasphaera_sp._type_1  Streptococcus_anginosus  \\\n",
       "patientID                                                    \n",
       " AYAC01                  0.323563                 0.000025   \n",
       " AYAC02                  0.000000                 0.000029   \n",
       " AYAC03                  0.161324                 0.000479   \n",
       " AYAC04                  0.000049                 0.000025   \n",
       " AYAC05                  0.000000                 0.029465   \n",
       "\n",
       "           Prevotella_genogroup_3  Clostridiales  Enterococcus_faecalis  \\\n",
       "patientID                                                                 \n",
       " AYAC01                  0.001861       0.013861               0.000073   \n",
       " AYAC02                  0.000000       0.000000               0.000445   \n",
       " AYAC03                  0.044008       0.004456               0.000041   \n",
       " AYAC04                  0.000000       0.000105               0.000050   \n",
       " AYAC05                  0.000000       0.000759               0.001376   \n",
       "\n",
       "           Corynebacterium_accolens  \n",
       "patientID                            \n",
       " AYAC01                    0.018342  \n",
       " AYAC02                    0.000680  \n",
       " AYAC03                    0.009631  \n",
       " AYAC04                    0.000265  \n",
       " AYAC05                    0.013099  "
      ]
     },
     "execution_count": 5,
     "metadata": {},
     "output_type": "execute_result"
    }
   ],
   "source": [
    "x_abundances.head()"
   ]
  },
  {
   "cell_type": "markdown",
   "metadata": {},
   "source": [
    "Create the figure and subplot"
   ]
  },
  {
   "cell_type": "code",
   "execution_count": 6,
   "metadata": {
    "collapsed": false,
    "scrolled": false
   },
   "outputs": [
    {
     "data": {
      "image/png": "[encoded data removed]",
      "text/plain": [
       "<matplotlib.figure.Figure at 0x10f9eb250>"
      ]
     },
     "metadata": {},
     "output_type": "display_data"
    }
   ],
   "source": [
    "fig, axes = plt.subplots(1, 2, sharey=True)\n",
    "fig.subplots_adjust(wspace=0, hspace=0) # change figure width and height"
   ]
  },
  {
   "cell_type": "code",
   "execution_count": 7,
   "metadata": {
    "collapsed": false,
    "scrolled": true
   },
   "outputs": [
    {
     "ename": "NameError",
     "evalue": "name 'test_abundances' is not defined",
     "output_type": "error",
     "traceback": [
      "\u001b[0;31m---------------------------------------------------------------------------\u001b[0m",
      "\u001b[0;31mNameError\u001b[0m                                 Traceback (most recent call last)",
      "\u001b[0;32m<ipython-input-7-d822b782c345>\u001b[0m in \u001b[0;36m<module>\u001b[0;34m()\u001b[0m\n\u001b[1;32m      1\u001b[0m \u001b[0max\u001b[0m \u001b[0;34m=\u001b[0m \u001b[0maxes\u001b[0m\u001b[0;34m[\u001b[0m\u001b[0;36m0\u001b[0m\u001b[0;34m]\u001b[0m  \u001b[0;31m# note that the fig is a 1-D array (list)\u001b[0m\u001b[0;34m\u001b[0m\u001b[0m\n\u001b[1;32m      2\u001b[0m \u001b[0;34m\u001b[0m\u001b[0m\n\u001b[0;32m----> 3\u001b[0;31m \u001b[0m_\u001b[0m \u001b[0;34m=\u001b[0m \u001b[0max\u001b[0m\u001b[0;34m.\u001b[0m\u001b[0mplot\u001b[0m\u001b[0;34m(\u001b[0m\u001b[0mtest_abundances\u001b[0m\u001b[0;34m)\u001b[0m\u001b[0;34m\u001b[0m\u001b[0m\n\u001b[0m\u001b[1;32m      4\u001b[0m \u001b[0;34m\u001b[0m\u001b[0m\n\u001b[1;32m      5\u001b[0m \u001b[0mfig\u001b[0m\u001b[0;34m\u001b[0m\u001b[0m\n",
      "\u001b[0;31mNameError\u001b[0m: name 'test_abundances' is not defined"
     ]
    }
   ],
   "source": [
    "ax = axes[0]  # note that the fig is a 1-D array (list)\n",
    "\n",
    "_ = ax.plot(test_abundances)\n",
    "\n",
    "fig"
   ]
  },
  {
   "cell_type": "code",
   "execution_count": 20,
   "metadata": {
    "collapsed": false
   },
   "outputs": [
    {
     "data": {
      "text/html": [
       "<div>\n",
       "<table border=\"1\" class=\"dataframe\">\n",
       "  <thead>\n",
       "    <tr style=\"text-align: right;\">\n",
       "      <th></th>\n",
       "      <th>Lactobacillus_crispatus</th>\n",
       "      <th>Lactobacillus_iners</th>\n",
       "      <th>Lactobacillus_gasseri</th>\n",
       "      <th>Lactobacillus_jensenii</th>\n",
       "      <th>Atopobium_vaginae</th>\n",
       "      <th>Megasphaera_sp._type_1</th>\n",
       "      <th>Streptococcus_anginosus</th>\n",
       "      <th>Prevotella_genogroup_3</th>\n",
       "      <th>Clostridiales</th>\n",
       "      <th>Enterococcus_faecalis</th>\n",
       "      <th>Corynebacterium_accolens</th>\n",
       "    </tr>\n",
       "    <tr>\n",
       "      <th>patientID</th>\n",
       "      <th></th>\n",
       "      <th></th>\n",
       "      <th></th>\n",
       "      <th></th>\n",
       "      <th></th>\n",
       "      <th></th>\n",
       "      <th></th>\n",
       "      <th></th>\n",
       "      <th></th>\n",
       "      <th></th>\n",
       "      <th></th>\n",
       "    </tr>\n",
       "  </thead>\n",
       "  <tbody>\n",
       "    <tr>\n",
       "      <th>AYAC01</th>\n",
       "      <td>0.494516</td>\n",
       "      <td>0.046142</td>\n",
       "      <td>0.001394</td>\n",
       "      <td>0.000831</td>\n",
       "      <td>0.099390</td>\n",
       "      <td>0.323563</td>\n",
       "      <td>0.000025</td>\n",
       "      <td>0.001861</td>\n",
       "      <td>0.013861</td>\n",
       "      <td>0.000073</td>\n",
       "      <td>0.018342</td>\n",
       "    </tr>\n",
       "    <tr>\n",
       "      <th>AYAC02</th>\n",
       "      <td>0.675226</td>\n",
       "      <td>0.284146</td>\n",
       "      <td>0.001843</td>\n",
       "      <td>0.037587</td>\n",
       "      <td>0.000045</td>\n",
       "      <td>0.000000</td>\n",
       "      <td>0.000029</td>\n",
       "      <td>0.000000</td>\n",
       "      <td>0.000000</td>\n",
       "      <td>0.000445</td>\n",
       "      <td>0.000680</td>\n",
       "    </tr>\n",
       "    <tr>\n",
       "      <th>AYAC03</th>\n",
       "      <td>0.298899</td>\n",
       "      <td>0.336644</td>\n",
       "      <td>0.000821</td>\n",
       "      <td>0.000069</td>\n",
       "      <td>0.143627</td>\n",
       "      <td>0.161324</td>\n",
       "      <td>0.000479</td>\n",
       "      <td>0.044008</td>\n",
       "      <td>0.004456</td>\n",
       "      <td>0.000041</td>\n",
       "      <td>0.009631</td>\n",
       "    </tr>\n",
       "    <tr>\n",
       "      <th>AYAC04</th>\n",
       "      <td>0.882867</td>\n",
       "      <td>0.091084</td>\n",
       "      <td>0.004370</td>\n",
       "      <td>0.021186</td>\n",
       "      <td>0.000000</td>\n",
       "      <td>0.000049</td>\n",
       "      <td>0.000025</td>\n",
       "      <td>0.000000</td>\n",
       "      <td>0.000105</td>\n",
       "      <td>0.000050</td>\n",
       "      <td>0.000265</td>\n",
       "    </tr>\n",
       "    <tr>\n",
       "      <th>AYAC05</th>\n",
       "      <td>0.001224</td>\n",
       "      <td>0.774687</td>\n",
       "      <td>0.001111</td>\n",
       "      <td>0.177701</td>\n",
       "      <td>0.000578</td>\n",
       "      <td>0.000000</td>\n",
       "      <td>0.029465</td>\n",
       "      <td>0.000000</td>\n",
       "      <td>0.000759</td>\n",
       "      <td>0.001376</td>\n",
       "      <td>0.013099</td>\n",
       "    </tr>\n",
       "  </tbody>\n",
       "</table>\n",
       "</div>"
      ],
      "text/plain": [
       "           Lactobacillus_crispatus  Lactobacillus_iners  \\\n",
       "patientID                                                 \n",
       " AYAC01                   0.494516             0.046142   \n",
       " AYAC02                   0.675226             0.284146   \n",
       " AYAC03                   0.298899             0.336644   \n",
       " AYAC04                   0.882867             0.091084   \n",
       " AYAC05                   0.001224             0.774687   \n",
       "\n",
       "           Lactobacillus_gasseri  Lactobacillus_jensenii  Atopobium_vaginae  \\\n",
       "patientID                                                                     \n",
       " AYAC01                 0.001394                0.000831           0.099390   \n",
       " AYAC02                 0.001843                0.037587           0.000045   \n",
       " AYAC03                 0.000821                0.000069           0.143627   \n",
       " AYAC04                 0.004370                0.021186           0.000000   \n",
       " AYAC05                 0.001111                0.177701           0.000578   \n",
       "\n",
       "           Megasphaera_sp._type_1  Streptococcus_anginosus  \\\n",
       "patientID                                                    \n",
       " AYAC01                  0.323563                 0.000025   \n",
       " AYAC02                  0.000000                 0.000029   \n",
       " AYAC03                  0.161324                 0.000479   \n",
       " AYAC04                  0.000049                 0.000025   \n",
       " AYAC05                  0.000000                 0.029465   \n",
       "\n",
       "           Prevotella_genogroup_3  Clostridiales  Enterococcus_faecalis  \\\n",
       "patientID                                                                 \n",
       " AYAC01                  0.001861       0.013861               0.000073   \n",
       " AYAC02                  0.000000       0.000000               0.000445   \n",
       " AYAC03                  0.044008       0.004456               0.000041   \n",
       " AYAC04                  0.000000       0.000105               0.000050   \n",
       " AYAC05                  0.000000       0.000759               0.001376   \n",
       "\n",
       "           Corynebacterium_accolens  \n",
       "patientID                            \n",
       " AYAC01                    0.018342  \n",
       " AYAC02                    0.000680  \n",
       " AYAC03                    0.009631  \n",
       " AYAC04                    0.000265  \n",
       " AYAC05                    0.013099  "
      ]
     },
     "execution_count": 20,
     "metadata": {},
     "output_type": "execute_result"
    }
   ],
   "source": [
    "test_abundances = x_abundances\n",
    "test_abundances.head()"
   ]
  },
  {
   "cell_type": "markdown",
   "metadata": {},
   "source": [
    "#### Fix the error"
   ]
  },
  {
   "cell_type": "code",
   "execution_count": 22,
   "metadata": {
    "collapsed": false
   },
   "outputs": [],
   "source": [
    "# get the patient names\n",
    "indexes = [str(s).strip() for s in test_abundances.index]\n",
    "#indexes"
   ]
  },
  {
   "cell_type": "code",
   "execution_count": 23,
   "metadata": {
    "collapsed": false
   },
   "outputs": [
    {
     "data": {
      "text/html": [
       "<div>\n",
       "<table border=\"1\" class=\"dataframe\">\n",
       "  <thead>\n",
       "    <tr style=\"text-align: right;\">\n",
       "      <th></th>\n",
       "      <th>patientID</th>\n",
       "      <th>Lactobacillus_crispatus</th>\n",
       "      <th>Lactobacillus_iners</th>\n",
       "      <th>Lactobacillus_gasseri</th>\n",
       "      <th>Lactobacillus_jensenii</th>\n",
       "      <th>Atopobium_vaginae</th>\n",
       "      <th>Megasphaera_sp._type_1</th>\n",
       "      <th>Streptococcus_anginosus</th>\n",
       "      <th>Prevotella_genogroup_3</th>\n",
       "      <th>Clostridiales</th>\n",
       "      <th>Enterococcus_faecalis</th>\n",
       "      <th>Corynebacterium_accolens</th>\n",
       "    </tr>\n",
       "  </thead>\n",
       "  <tbody>\n",
       "    <tr>\n",
       "      <th>0</th>\n",
       "      <td>AYAC01</td>\n",
       "      <td>0.494516</td>\n",
       "      <td>0.046142</td>\n",
       "      <td>0.001394</td>\n",
       "      <td>0.000831</td>\n",
       "      <td>0.099390</td>\n",
       "      <td>0.323563</td>\n",
       "      <td>0.000025</td>\n",
       "      <td>0.001861</td>\n",
       "      <td>0.013861</td>\n",
       "      <td>0.000073</td>\n",
       "      <td>0.018342</td>\n",
       "    </tr>\n",
       "    <tr>\n",
       "      <th>1</th>\n",
       "      <td>AYAC02</td>\n",
       "      <td>0.675226</td>\n",
       "      <td>0.284146</td>\n",
       "      <td>0.001843</td>\n",
       "      <td>0.037587</td>\n",
       "      <td>0.000045</td>\n",
       "      <td>0.000000</td>\n",
       "      <td>0.000029</td>\n",
       "      <td>0.000000</td>\n",
       "      <td>0.000000</td>\n",
       "      <td>0.000445</td>\n",
       "      <td>0.000680</td>\n",
       "    </tr>\n",
       "    <tr>\n",
       "      <th>2</th>\n",
       "      <td>AYAC03</td>\n",
       "      <td>0.298899</td>\n",
       "      <td>0.336644</td>\n",
       "      <td>0.000821</td>\n",
       "      <td>0.000069</td>\n",
       "      <td>0.143627</td>\n",
       "      <td>0.161324</td>\n",
       "      <td>0.000479</td>\n",
       "      <td>0.044008</td>\n",
       "      <td>0.004456</td>\n",
       "      <td>0.000041</td>\n",
       "      <td>0.009631</td>\n",
       "    </tr>\n",
       "    <tr>\n",
       "      <th>3</th>\n",
       "      <td>AYAC04</td>\n",
       "      <td>0.882867</td>\n",
       "      <td>0.091084</td>\n",
       "      <td>0.004370</td>\n",
       "      <td>0.021186</td>\n",
       "      <td>0.000000</td>\n",
       "      <td>0.000049</td>\n",
       "      <td>0.000025</td>\n",
       "      <td>0.000000</td>\n",
       "      <td>0.000105</td>\n",
       "      <td>0.000050</td>\n",
       "      <td>0.000265</td>\n",
       "    </tr>\n",
       "    <tr>\n",
       "      <th>4</th>\n",
       "      <td>AYAC05</td>\n",
       "      <td>0.001224</td>\n",
       "      <td>0.774687</td>\n",
       "      <td>0.001111</td>\n",
       "      <td>0.177701</td>\n",
       "      <td>0.000578</td>\n",
       "      <td>0.000000</td>\n",
       "      <td>0.029465</td>\n",
       "      <td>0.000000</td>\n",
       "      <td>0.000759</td>\n",
       "      <td>0.001376</td>\n",
       "      <td>0.013099</td>\n",
       "    </tr>\n",
       "  </tbody>\n",
       "</table>\n",
       "</div>"
      ],
      "text/plain": [
       "  patientID  Lactobacillus_crispatus  Lactobacillus_iners  \\\n",
       "0   AYAC01                  0.494516             0.046142   \n",
       "1   AYAC02                  0.675226             0.284146   \n",
       "2   AYAC03                  0.298899             0.336644   \n",
       "3   AYAC04                  0.882867             0.091084   \n",
       "4   AYAC05                  0.001224             0.774687   \n",
       "\n",
       "   Lactobacillus_gasseri  Lactobacillus_jensenii  Atopobium_vaginae  \\\n",
       "0               0.001394                0.000831           0.099390   \n",
       "1               0.001843                0.037587           0.000045   \n",
       "2               0.000821                0.000069           0.143627   \n",
       "3               0.004370                0.021186           0.000000   \n",
       "4               0.001111                0.177701           0.000578   \n",
       "\n",
       "   Megasphaera_sp._type_1  Streptococcus_anginosus  Prevotella_genogroup_3  \\\n",
       "0                0.323563                 0.000025                0.001861   \n",
       "1                0.000000                 0.000029                0.000000   \n",
       "2                0.161324                 0.000479                0.044008   \n",
       "3                0.000049                 0.000025                0.000000   \n",
       "4                0.000000                 0.029465                0.000000   \n",
       "\n",
       "   Clostridiales  Enterococcus_faecalis  Corynebacterium_accolens  \n",
       "0       0.013861               0.000073                  0.018342  \n",
       "1       0.000000               0.000445                  0.000680  \n",
       "2       0.004456               0.000041                  0.009631  \n",
       "3       0.000105               0.000050                  0.000265  \n",
       "4       0.000759               0.001376                  0.013099  "
      ]
     },
     "execution_count": 23,
     "metadata": {},
     "output_type": "execute_result"
    }
   ],
   "source": [
    "# get rid of index\n",
    "test_abundances = test_abundances.reset_index()\n",
    "test_abundances.head()"
   ]
  },
  {
   "cell_type": "code",
   "execution_count": 24,
   "metadata": {
    "collapsed": false,
    "scrolled": true
   },
   "outputs": [
    {
     "data": {
      "text/html": [
       "<div>\n",
       "<table border=\"1\" class=\"dataframe\">\n",
       "  <thead>\n",
       "    <tr style=\"text-align: right;\">\n",
       "      <th></th>\n",
       "      <th>Lactobacillus_crispatus</th>\n",
       "      <th>Lactobacillus_iners</th>\n",
       "      <th>Lactobacillus_gasseri</th>\n",
       "      <th>Lactobacillus_jensenii</th>\n",
       "      <th>Atopobium_vaginae</th>\n",
       "      <th>Megasphaera_sp._type_1</th>\n",
       "      <th>Streptococcus_anginosus</th>\n",
       "      <th>Prevotella_genogroup_3</th>\n",
       "      <th>Clostridiales</th>\n",
       "      <th>Enterococcus_faecalis</th>\n",
       "      <th>Corynebacterium_accolens</th>\n",
       "    </tr>\n",
       "  </thead>\n",
       "  <tbody>\n",
       "    <tr>\n",
       "      <th>0</th>\n",
       "      <td>0.494516</td>\n",
       "      <td>0.046142</td>\n",
       "      <td>0.001394</td>\n",
       "      <td>0.000831</td>\n",
       "      <td>0.099390</td>\n",
       "      <td>0.323563</td>\n",
       "      <td>0.000025</td>\n",
       "      <td>0.001861</td>\n",
       "      <td>0.013861</td>\n",
       "      <td>0.000073</td>\n",
       "      <td>0.018342</td>\n",
       "    </tr>\n",
       "    <tr>\n",
       "      <th>1</th>\n",
       "      <td>0.675226</td>\n",
       "      <td>0.284146</td>\n",
       "      <td>0.001843</td>\n",
       "      <td>0.037587</td>\n",
       "      <td>0.000045</td>\n",
       "      <td>0.000000</td>\n",
       "      <td>0.000029</td>\n",
       "      <td>0.000000</td>\n",
       "      <td>0.000000</td>\n",
       "      <td>0.000445</td>\n",
       "      <td>0.000680</td>\n",
       "    </tr>\n",
       "    <tr>\n",
       "      <th>2</th>\n",
       "      <td>0.298899</td>\n",
       "      <td>0.336644</td>\n",
       "      <td>0.000821</td>\n",
       "      <td>0.000069</td>\n",
       "      <td>0.143627</td>\n",
       "      <td>0.161324</td>\n",
       "      <td>0.000479</td>\n",
       "      <td>0.044008</td>\n",
       "      <td>0.004456</td>\n",
       "      <td>0.000041</td>\n",
       "      <td>0.009631</td>\n",
       "    </tr>\n",
       "    <tr>\n",
       "      <th>3</th>\n",
       "      <td>0.882867</td>\n",
       "      <td>0.091084</td>\n",
       "      <td>0.004370</td>\n",
       "      <td>0.021186</td>\n",
       "      <td>0.000000</td>\n",
       "      <td>0.000049</td>\n",
       "      <td>0.000025</td>\n",
       "      <td>0.000000</td>\n",
       "      <td>0.000105</td>\n",
       "      <td>0.000050</td>\n",
       "      <td>0.000265</td>\n",
       "    </tr>\n",
       "    <tr>\n",
       "      <th>4</th>\n",
       "      <td>0.001224</td>\n",
       "      <td>0.774687</td>\n",
       "      <td>0.001111</td>\n",
       "      <td>0.177701</td>\n",
       "      <td>0.000578</td>\n",
       "      <td>0.000000</td>\n",
       "      <td>0.029465</td>\n",
       "      <td>0.000000</td>\n",
       "      <td>0.000759</td>\n",
       "      <td>0.001376</td>\n",
       "      <td>0.013099</td>\n",
       "    </tr>\n",
       "  </tbody>\n",
       "</table>\n",
       "</div>"
      ],
      "text/plain": [
       "   Lactobacillus_crispatus  Lactobacillus_iners  Lactobacillus_gasseri  \\\n",
       "0                 0.494516             0.046142               0.001394   \n",
       "1                 0.675226             0.284146               0.001843   \n",
       "2                 0.298899             0.336644               0.000821   \n",
       "3                 0.882867             0.091084               0.004370   \n",
       "4                 0.001224             0.774687               0.001111   \n",
       "\n",
       "   Lactobacillus_jensenii  Atopobium_vaginae  Megasphaera_sp._type_1  \\\n",
       "0                0.000831           0.099390                0.323563   \n",
       "1                0.037587           0.000045                0.000000   \n",
       "2                0.000069           0.143627                0.161324   \n",
       "3                0.021186           0.000000                0.000049   \n",
       "4                0.177701           0.000578                0.000000   \n",
       "\n",
       "   Streptococcus_anginosus  Prevotella_genogroup_3  Clostridiales  \\\n",
       "0                 0.000025                0.001861       0.013861   \n",
       "1                 0.000029                0.000000       0.000000   \n",
       "2                 0.000479                0.044008       0.004456   \n",
       "3                 0.000025                0.000000       0.000105   \n",
       "4                 0.029465                0.000000       0.000759   \n",
       "\n",
       "   Enterococcus_faecalis  Corynebacterium_accolens  \n",
       "0               0.000073                  0.018342  \n",
       "1               0.000445                  0.000680  \n",
       "2               0.000041                  0.009631  \n",
       "3               0.000050                  0.000265  \n",
       "4               0.001376                  0.013099  "
      ]
     },
     "execution_count": 24,
     "metadata": {},
     "output_type": "execute_result"
    }
   ],
   "source": [
    "test_abundances.drop(['patientID'], axis=1, inplace=True)\n",
    "test_abundances.head()"
   ]
  },
  {
   "cell_type": "markdown",
   "metadata": {},
   "source": [
    "#### plot the data "
   ]
  },
  {
   "cell_type": "code",
   "execution_count": 25,
   "metadata": {
    "collapsed": false,
    "scrolled": true
   },
   "outputs": [
    {
     "data": {
      "image/png": "[encoded data removed]",
      "text/plain": [
       "<matplotlib.figure.Figure at 0x10d361ed0>"
      ]
     },
     "execution_count": 25,
     "metadata": {},
     "output_type": "execute_result"
    }
   ],
   "source": [
    "ax = axes[0]  # note that the fig is a 1-D array (list)\n",
    "\n",
    "_ = ax.plot(test_abundances)\n",
    "\n",
    "fig"
   ]
  },
  {
   "cell_type": "code",
   "execution_count": 26,
   "metadata": {
    "collapsed": false
   },
   "outputs": [
    {
     "data": {
      "image/png": "[encoded data removed]",
      "text/plain": [
       "<matplotlib.figure.Figure at 0x10d361ed0>"
      ]
     },
     "execution_count": 26,
     "metadata": {},
     "output_type": "execute_result"
    }
   ],
   "source": [
    "labels = x_abundances.index\n",
    "ax.set_xticklabels(labels, rotation=90, fontsize='x-small')\n",
    "ax.set_xticks(range(len(labels)))\n",
    "\n",
    "fig"
   ]
  },
  {
   "cell_type": "code",
   "execution_count": null,
   "metadata": {
    "collapsed": true
   },
   "outputs": [],
   "source": []
  }
 ],
 "metadata": {
  "anaconda-cloud": {},
  "kernelspec": {
   "display_name": "Python 2",
   "language": "python",
   "name": "python2"
  },
  "language_info": {
   "codemirror_mode": {
    "name": "ipython",
    "version": 2
   },
   "file_extension": ".py",
   "mimetype": "text/x-python",
   "name": "python",
   "nbconvert_exporter": "python",
   "pygments_lexer": "ipython2",
   "version": "2.7.11"
  },
  "latex_envs": {
   "bibliofile": "biblio.bib",
   "cite_by": "apalike",
   "current_citInitial": 1,
   "eqLabelWithNumbers": true,
   "eqNumInitial": 0
  }
 },
 "nbformat": 4,
 "nbformat_minor": 2
}
