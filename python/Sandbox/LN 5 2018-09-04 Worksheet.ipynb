{
 "cells": [
  {
   "cell_type": "markdown",
   "metadata": {},
   "source": [
    "# Worksheet for Lecture 5 2018-09-04\n",
    "\n",
    "This worksheet accompanies the lecture notes."
   ]
  },
  {
   "cell_type": "markdown",
   "metadata": {},
   "source": [
    "## Python syntax\n",
    "\n",
    "Python uses spaces to show what goes together. \n",
    "Code at the same indent level goes together.\n",
    "\n",
    "Be careful. Tabs show up as white space. Missing indents can break the \"code block\".\n",
    "\n",
    ">Best practice: always use 4 spaces for indent; have editor change tabs to spaces\n",
    "\n",
    "*within* a line, space doesn't matter"
   ]
  },
  {
   "cell_type": "markdown",
   "metadata": {},
   "source": [
    "What is wrong with the following code? How do you fix it?\n",
    "The next block doesn't work. The one after that does."
   ]
  },
  {
   "cell_type": "code",
   "execution_count": 7,
   "metadata": {},
   "outputs": [
    {
     "ename": "IndentationError",
     "evalue": "expected an indented block (<ipython-input-7-87c3868273ee>, line 4)",
     "output_type": "error",
     "traceback": [
      "\u001b[0;36m  File \u001b[0;32m\"<ipython-input-7-87c3868273ee>\"\u001b[0;36m, line \u001b[0;32m4\u001b[0m\n\u001b[0;31m    if nucleotide == 'A':\u001b[0m\n\u001b[0m     ^\u001b[0m\n\u001b[0;31mIndentationError\u001b[0m\u001b[0;31m:\u001b[0m expected an indented block\n"
     ]
    }
   ],
   "source": [
    "dna_string = 'CGCAGCTAACGCATTAAGCACTCCGCCTGGGGAGTACGACCGCAAGGTTGAA'\n",
    "\n",
    "for nucleotid in dna_string:\n",
    "if nucleotide == 'A':\n",
    "    count_purines[0] = count_purines[0] + 1\n",
    "    if nucleotide == 'G':\n",
    "        count_purines[1] = count_purines[1] + 1\n",
    "\n",
    "number_of_purines = count_purines + count_purines\n",
    "\n",
    "print('input string: ', dna_string, '\\nPurines: ', number_of_purines)"
   ]
  },
  {
   "cell_type": "code",
   "execution_count": 8,
   "metadata": {},
   "outputs": [
    {
     "name": "stdout",
     "output_type": "stream",
     "text": [
      "input string:  CGCAGCTAACGCATTAAGCACTCCGCCTGGGGAGTACGACCGCAAGGTTGAA \n",
      "Purines:  29\n"
     ]
    }
   ],
   "source": [
    "dna_string = 'CGCAGCTAACGCATTAAGCACTCCGCCTGGGGAGTACGACCGCAAGGTTGAA'\n",
    "count_purines = [0,0]\n",
    "\n",
    "for nucleotide in dna_string:\n",
    "    if nucleotide == 'A':\n",
    "        count_purines[0] = count_purines[0] + 1\n",
    "    if nucleotide == 'G':\n",
    "        count_purines[1] = count_purines[1] + 1\n",
    "\n",
    "number_of_purines = sum(count_purines)\n",
    "\n",
    "print('input string: ', dna_string, '\\nPurines: ', number_of_purines)"
   ]
  },
  {
   "cell_type": "code",
   "execution_count": 7,
   "metadata": {},
   "outputs": [
    {
     "name": "stdout",
     "output_type": "stream",
     "text": [
      "input string: CGCAGCTAACGCATTAAGCACTCCGCCTGGGGAGTACGACCGCAAGGTTGAA \n",
      "Purines:  29\n"
     ]
    }
   ],
   "source": [
    "dna_string = 'CGCAGCTAACGCATTAAGCACTCCGCCTGGGGAGTACGACCGCAAGGTTGAA'\n",
    "count_purines = [0,0]\n",
    "for nucleotide in dna_string:\n",
    "    if nucleotide == 'A' :\n",
    "        count_purines[0] = count_purines[0] + 1\n",
    "    if nucleotide == 'G' :\n",
    "        count_purines[1] = count_purines[1] +1\n",
    "number_of_purines= sum(count_purines)\n",
    "print 'input string:' , dna_string, '\\nPurines: ' , number_of_purines"
   ]
  },
  {
   "cell_type": "markdown",
   "metadata": {},
   "source": [
    "## Python comments\n",
    "single line comments begin with \\# and can go anywhere except in code.\n",
    "\n",
    "multiple line comments start and end with three tic marks: \\`\\`\\`\n",
    "\n",
    "Always include multi-line comments to describe your program. These are visible to everyone who uses your program."
   ]
  },
  {
   "cell_type": "markdown",
   "metadata": {},
   "source": [
    "Add comments to this code"
   ]
  },
  {
   "cell_type": "code",
   "execution_count": 12,
   "metadata": {
    "scrolled": true
   },
   "outputs": [
    {
     "name": "stdout",
     "output_type": "stream",
     "text": [
      "input string:  CGCAGCTAACGCATTAAGCACTCCGCCTGGGGAGTACGACCGCAAGGTTGAA \n",
      "Purines:  29\n"
     ]
    }
   ],
   "source": [
    "'''\n",
    "ADD LONG COMMENT HERE DESCRIBING CODE CHUNK\n",
    "'''\n",
    "\n",
    "dna_string = 'CGCAGCTAACGCATTAAGCACTCCGCCTGGGGAGTACGACCGCAAGGTTGAA'\n",
    "count_purines = [0,0]\n",
    "\n",
    "for nucleotide in dna_string: #ADD COMMENT HERE DESCRIBING PURPOSE OF LOOP\n",
    "    if nucleotide == 'A':\n",
    "        count_purines[0] = count_purines[0] + 1\n",
    "    if nucleotide == 'G':\n",
    "        count_purines[1] = count_purines[1] + 1\n",
    "\n",
    "number_of_purines = sum(count_purines)\n",
    "\n",
    "print'input string: ', dna_string, '\\nPurines: ', number_of_purines"
   ]
  },
  {
   "cell_type": "code",
   "execution_count": 15,
   "metadata": {
    "scrolled": true
   },
   "outputs": [
    {
     "data": {
      "text/plain": [
       "1"
      ]
     },
     "execution_count": 15,
     "metadata": {},
     "output_type": "execute_result"
    }
   ],
   "source": [
    "DNA='AATGCTTA'\n",
    "type(DNA)\n",
    "number_of_Cs=DNA.count('C')\n",
    "number_of_Cs"
   ]
  },
  {
   "cell_type": "code",
   "execution_count": 18,
   "metadata": {},
   "outputs": [
    {
     "data": {
      "text/plain": [
       "3"
      ]
     },
     "execution_count": 18,
     "metadata": {},
     "output_type": "execute_result"
    }
   ],
   "source": [
    "DNA='AATGCTTA'\n",
    "type(DNA)\n",
    "number_of_Ts= DNA.count('T')\n",
    "number_of_Ts"
   ]
  },
  {
   "cell_type": "code",
   "execution_count": 19,
   "metadata": {
    "collapsed": true
   },
   "outputs": [],
   "source": [
    "DNA.count?"
   ]
  },
  {
   "cell_type": "markdown",
   "metadata": {},
   "source": [
    "## Data types\n",
    "\n",
    "Each object which represents an item of data has a \"type\". \n",
    "The type determines what properties one should expect it to have, and what you should expect it to do. \n",
    "Important properties are \"type\" and \"value\". \n",
    "You access the value any time you use the object by itself. \n",
    "The things the object does are called *methods*. \n",
    "\n",
    "You often hear an object called a \"variable\", for historical reasons.\n",
    "Well, almost always, not just \"often\".\n",
    "\n",
    "One accesses Python methods with like this: *object.method()*\n",
    "\n",
    "For example, you expect something of type \"dog\" to have a name for its value, and to be able to bark. \n",
    "So, if *my_dog* were a python dog-type object, you would expect it's value to be something like \"fido\", and for *my_dog.bark()* to make that dog bark. \n",
    "So, one might see code like this\n",
    "\n",
    "```\n",
    "my_dog = dog('Fido')\n",
    "type(my_dog)    # returns 'dog'\n",
    "my_dog.bark()   # makes Fido bark\n",
    "```\n",
    "\n",
    "*dog* is not a built-in python data type. But there are built in types for numbers, strings, lists of objects, and more. \n",
    "\n",
    "python does it's best to guess what the type is for any object you create. \n",
    "It is not perfect (in particular, it often mistakes a string for a number). \n",
    "You can also *coerce* (or *cast*) an object to be of a specific type with *the_type(the_object)*."
   ]
  },
  {
   "cell_type": "markdown",
   "metadata": {},
   "source": [
    "### Scalar data types"
   ]
  },
  {
   "cell_type": "markdown",
   "metadata": {},
   "source": [
    "#### numbers\n",
    "\n",
    "type | description\n",
    "---- | :-----------\n",
    "int  | positive or negative integer (whole number)\n",
    "float| floating point (aka \"infinite precision\" or decimal numbers)\n",
    "\n",
    "There are other numeric types. There are variations of int and float that differ in their precision. There are (when using the appropriate module) complex numbers, fractions (in the form p/q), etc.\n",
    "\n",
    "The methods one expects of numbers are all there, namely addition, subtraction, division, multiplication, comparison, etc. \n",
    "With numbers, one accesses these methods the way one would expect, without a \".\".\n",
    "\n",
    "You can display the value of a number with the print command *print(number)*."
   ]
  },
  {
   "cell_type": "markdown",
   "metadata": {},
   "source": [
    "try out the following\n",
    "```\n",
    "\n",
    "one = \n",
    "two = \n",
    "\n",
    "x = one + two\n",
    "y = one/two\n",
    "\n",
    "float_one = \n",
    "float_two = \n",
    "\n",
    "z = one * (float_one + float_two)\n",
    "\n",
    "'1' + '2'\n",
    "\n",
    "int('1')+float('2')\n",
    "\n",
    "int(2.345)\n",
    "float(2)\n",
    "```"
   ]
  },
  {
   "cell_type": "code",
   "execution_count": 35,
   "metadata": {},
   "outputs": [
    {
     "data": {
      "text/plain": [
       "'12'"
      ]
     },
     "execution_count": 35,
     "metadata": {},
     "output_type": "execute_result"
    }
   ],
   "source": [
    "'1' + '2'"
   ]
  },
  {
   "cell_type": "code",
   "execution_count": 36,
   "metadata": {},
   "outputs": [
    {
     "data": {
      "text/plain": [
       "3.0"
      ]
     },
     "execution_count": 36,
     "metadata": {},
     "output_type": "execute_result"
    }
   ],
   "source": [
    "int('1')+float('2')"
   ]
  },
  {
   "cell_type": "code",
   "execution_count": 34,
   "metadata": {},
   "outputs": [
    {
     "data": {
      "text/plain": [
       "2.835"
      ]
     },
     "execution_count": 34,
     "metadata": {},
     "output_type": "execute_result"
    }
   ],
   "source": [
    "float(2.835)"
   ]
  },
  {
   "cell_type": "code",
   "execution_count": 30,
   "metadata": {},
   "outputs": [
    {
     "data": {
      "text/plain": [
       "3.0"
      ]
     },
     "execution_count": 30,
     "metadata": {},
     "output_type": "execute_result"
    }
   ],
   "source": [
    "one = 1\n",
    "two = 2\n",
    "x = one + two\n",
    "x\n",
    "y = one/two\n",
    "y\n",
    "float_one = 1.0\n",
    "float_two = 2.0\n",
    "z = one * (float_one + float_two)\n",
    "z"
   ]
  },
  {
   "cell_type": "code",
   "execution_count": 28,
   "metadata": {
    "scrolled": true
   },
   "outputs": [
    {
     "ename": "ValueError",
     "evalue": "invalid literal for int() with base 10: 'a2'",
     "output_type": "error",
     "traceback": [
      "\u001b[0;31m---------------------------------------------------------------------------\u001b[0m",
      "\u001b[0;31mValueError\u001b[0m                                Traceback (most recent call last)",
      "\u001b[0;32m<ipython-input-28-5c27f1274baf>\u001b[0m in \u001b[0;36m<module>\u001b[0;34m()\u001b[0m\n\u001b[1;32m      1\u001b[0m \u001b[0mone\u001b[0m \u001b[0;34m=\u001b[0m \u001b[0;34m'a'\u001b[0m\u001b[0;34m\u001b[0m\u001b[0m\n\u001b[1;32m      2\u001b[0m \u001b[0mtwo\u001b[0m \u001b[0;34m=\u001b[0m \u001b[0;34m'2'\u001b[0m\u001b[0;34m\u001b[0m\u001b[0m\n\u001b[0;32m----> 3\u001b[0;31m \u001b[0mint\u001b[0m\u001b[0;34m(\u001b[0m\u001b[0mone\u001b[0m\u001b[0;34m+\u001b[0m\u001b[0mtwo\u001b[0m\u001b[0;34m)\u001b[0m\u001b[0;34m\u001b[0m\u001b[0m\n\u001b[0m",
      "\u001b[0;31mValueError\u001b[0m: invalid literal for int() with base 10: 'a2'"
     ]
    }
   ],
   "source": [
    "one = 'a'\n",
    "two = '2'\n",
    "int(one+two) "
   ]
  },
  {
   "cell_type": "code",
   "execution_count": 34,
   "metadata": {},
   "outputs": [
    {
     "data": {
      "text/plain": [
       "True"
      ]
     },
     "execution_count": 34,
     "metadata": {},
     "output_type": "execute_result"
    }
   ],
   "source": [
    "1==1"
   ]
  },
  {
   "cell_type": "code",
   "execution_count": 21,
   "metadata": {},
   "outputs": [
    {
     "ename": "NameError",
     "evalue": "name 'one' is not defined",
     "output_type": "error",
     "traceback": [
      "\u001b[0;31m---------------------------------------------------------------------------\u001b[0m",
      "\u001b[0;31mNameError\u001b[0m                                 Traceback (most recent call last)",
      "\u001b[0;32m<ipython-input-21-6f64807f52ae>\u001b[0m in \u001b[0;36m<module>\u001b[0;34m()\u001b[0m\n\u001b[0;32m----> 1\u001b[0;31m \u001b[0mx\u001b[0m\u001b[0;34m=\u001b[0m \u001b[0mone\u001b[0m\u001b[0;34m+\u001b[0m\u001b[0mtwo\u001b[0m\u001b[0;34m\u001b[0m\u001b[0m\n\u001b[0m\u001b[1;32m      2\u001b[0m \u001b[0mx\u001b[0m\u001b[0;34m\u001b[0m\u001b[0m\n",
      "\u001b[0;31mNameError\u001b[0m: name 'one' is not defined"
     ]
    }
   ],
   "source": [
    "x= one+two\n",
    "x"
   ]
  },
  {
   "cell_type": "markdown",
   "metadata": {},
   "source": [
    "## good\n",
    "*hi*"
   ]
  },
  {
   "cell_type": "code",
   "execution_count": 30,
   "metadata": {},
   "outputs": [
    {
     "data": {
      "text/plain": [
       "2.0"
      ]
     },
     "execution_count": 30,
     "metadata": {},
     "output_type": "execute_result"
    }
   ],
   "source": [
    "float(2)"
   ]
  },
  {
   "cell_type": "code",
   "execution_count": 33,
   "metadata": {},
   "outputs": [
    {
     "data": {
      "text/plain": [
       "False"
      ]
     },
     "execution_count": 33,
     "metadata": {},
     "output_type": "execute_result"
    }
   ],
   "source": [
    "'1' < 2.3"
   ]
  },
  {
   "cell_type": "code",
   "execution_count": 31,
   "metadata": {
    "collapsed": true
   },
   "outputs": [],
   "source": [
    "# do some dumb number stuff"
   ]
  },
  {
   "cell_type": "markdown",
   "metadata": {},
   "source": [
    "what types are these objects? What are their values?\n",
    "\n",
    "What happens if you divide by zero?"
   ]
  },
  {
   "cell_type": "markdown",
   "metadata": {},
   "source": [
    "#### Booleans\n",
    "\n",
    "An object of boolean type can have one of only three possible values: *True*, *False*, or *None*. (Note the case of those values). \n",
    "These mean exactly what you think they mean (*None* means \"I have no value\").\n",
    "\n",
    "When you do a comparison, the result is a boolean. \n",
    "\n",
    "Common comparisons are <, >, <=, >=, == (note, *not* =). \n",
    "But other methods can return boolean values. For example, *dog.has_fleas()* is likely to be either true or false. \n",
    "\n",
    "Putting an exclamation point in front of a comparison negates it. So, !<, != (not !==), and !<= mean \"not less than\", \"not equal to\", and \"greater than\" (aka \"not less than or equal). \n",
    "\n",
    "Python does its best to make sense of your comparisons. Sometimes it can't figure out what you want.\n",
    "\n",
    "Try out the following.\n",
    "\n",
    "```\n",
    "    1 < 2\n",
    "    2 <= 1\n",
    "    'a' == 'apple' #false\n",
    "    'a' != 'apple' #don't work\n",
    "    '1' < 2.345 # false\n",
    "    'abraham' < 'isaac'  # true\n",
    "    True == False #don't work\n",
    "    true == FALSE #don't work\n",
    "    (1<2) == ('pies' == 'squared') #false\n",
    "```"
   ]
  },
  {
   "cell_type": "code",
   "execution_count": 45,
   "metadata": {},
   "outputs": [
    {
     "data": {
      "text/plain": [
       "False"
      ]
     },
     "execution_count": 45,
     "metadata": {},
     "output_type": "execute_result"
    }
   ],
   "source": [
    "# try some comparisons\n",
    "(1<2) == ('pies' == 'squared')"
   ]
  },
  {
   "cell_type": "markdown",
   "metadata": {},
   "source": [
    "#### Strings\n",
    " \n",
    "A string, str in python, is an object whose value is a sequence of characters.\n",
    "To create a string, enclose its characters in either single or double quotes. \n",
    "(I usually use single quotes because I am **that** lazy).\n",
    "Characters that don't display, such as a tab or a newline, can still be part of a string.\n",
    "You enter these with the *escape character*, the backslash \\\\.\n",
    "\n",
    "Strings have methods one would expect of a string.\n",
    "Some particularly useful methods are str.upper(), str.find(), str.count(), and str.join()\n",
    "They do what you think they do.\n",
    "\n",
    "When you co-erce an object to be a string, with *str(object)*, python tries to do what you think it should.\n",
    "\n",
    "you can display the value of a string with *print(string)*. \n",
    "\n",
    "Try out the following:\n",
    "\n",
    "```\n",
    "    my_name = 'puddentain, ask me again and I\\'ll tell you the same' # what is \"\\'\" doing there?\n",
    "    my_name.count('a')\n",
    "    my_name.count(a)\n",
    "    print('first a in', my_name, ' is at position ', my_name.find('a')\n",
    "    dna = CGCAGCTAACGCATTAAGCACTCCGCCTGGGGAGTACGACCGCAAGGTTGAA\n",
    "    dl = dna.lower()\n",
    "    f = 'foo'\n",
    "    b = 'bar'\n",
    "    compare = f < b\n",
    "    screw_up = f + b\n",
    "    one = '1'\n",
    "    two = '2'\n",
    "    three = one + two\n",
    "```"
   ]
  },
  {
   "cell_type": "code",
   "execution_count": 66,
   "metadata": {},
   "outputs": [
    {
     "data": {
      "text/plain": [
       "'12'"
      ]
     },
     "execution_count": 66,
     "metadata": {},
     "output_type": "execute_result"
    }
   ],
   "source": [
    "f = 'foo'\n",
    "b = 'bar'\n",
    "compare = f < b\n",
    "compare\n",
    "screw_up = f + b\n",
    "screw_up  #'foobar'\n",
    "one = '1'\n",
    "two = '2'\n",
    "three = one + two\n",
    "three #'12'"
   ]
  },
  {
   "cell_type": "code",
   "execution_count": 62,
   "metadata": {},
   "outputs": [
    {
     "data": {
      "text/plain": [
       "'cgcagctaacgcattaagcactccgcctggggagtacgaccgcaaggttgaa'"
      ]
     },
     "execution_count": 62,
     "metadata": {},
     "output_type": "execute_result"
    }
   ],
   "source": [
    "dna = 'CGCAGCTAACGCATTAAGCACTCCGCCTGGGGAGTACGACCGCAAGGTTGAA'\n",
    "dl = dna.lower()\n",
    "dl\n",
    "#'cgcagctaacgcattaagcactccgcctggggagtacgaccgcaaggttgaa'"
   ]
  },
  {
   "cell_type": "code",
   "execution_count": 57,
   "metadata": {},
   "outputs": [
    {
     "name": "stdout",
     "output_type": "stream",
     "text": [
      "first a in puddentain, ask me again and I'll tell you the same  is at position  7\n"
     ]
    }
   ],
   "source": [
    "    my_name = 'puddentain, ask me again and I\\'ll tell you the same' #  \"\\'\" there to make \"'\" work\n",
    "    my_name.count('a') # count a in the string, result 6\n",
    "    #my_name.count(a) #error\n",
    "    my_name.find('a') # returns 7, find the position of a, start from 0\n",
    "    print 'first a in', my_name, ' is at position ', my_name.find('a')\n",
    "    #first a in puddentain, ask me again and I'll tell you the same  is at position  7"
   ]
  },
  {
   "cell_type": "markdown",
   "metadata": {},
   "source": [
    "\n",
    "##### Indexing a string\n",
    "\n",
    "A string is a sequential collection (a bunch of characters, all in a row).\n",
    "You can always pull out a particular item in a sequential collection by indexing the object with []\n",
    "\n",
    "For example, suppose\n",
    "\n",
    ">dna = 'CGCAGCTAACGCATTAAGCACTCCGCCTGGGGAGTACGACCGCAAGGTTGAA'\n",
    "\n",
    "* what is the first character in *dna*?\n",
    "* what is dna[2]?\n",
    "\n",
    "You can index from the rear end by using a negative value\n",
    "\n",
    "* what is dna[-1]? dna[-2]?\n",
    "\n",
    "If you do silly indexing, python will complain\n",
    "\n",
    "Try these:\n",
    "```\n",
    "    dna[-10000]\n",
    "    dna[10000]\n",
    "```"
   ]
  },
  {
   "cell_type": "code",
   "execution_count": 71,
   "metadata": {},
   "outputs": [
    {
     "data": {
      "text/plain": [
       "'C'"
      ]
     },
     "execution_count": 71,
     "metadata": {},
     "output_type": "execute_result"
    }
   ],
   "source": [
    "dna = 'CGCAGCTAACGCATTAAGCACTCCGCCTGGGGAGTACGACCGCAAGGTTGAA'\n",
    "#dna[-10000] # error\n",
    "dna[0]"
   ]
  },
  {
   "cell_type": "markdown",
   "metadata": {},
   "source": [
    "##### Slicing a string\n",
    "\n",
    "To get a range of characters, between i and j in a string, use the index *string[i:j]*.\n",
    "*string[:x]* means \"start at the beginning and go up to position $x$\n",
    "*string[x:]* means start as position x and go to the end\n",
    "\n",
    "You can also use negative indexes, so that *string[:-3]* for example means \"start at the beginning and go up until the third position from the right\".\n",
    "\n",
    "(note: this will help you with homework 3)\n",
    "\n",
    "Consider\n",
    "\n",
    ">my_name = 'puddentain, ask me again and I\\'ll tell you the same'\n",
    "\n",
    "What do the following return:\n",
    "\n",
    "```\n",
    "    my_name[]\n",
    "    my_name[3]\n",
    "    my_name[10:]\n",
    "    my_name[3:5]\n",
    "    my_name[my_name.find(','):]\n",
    "    my_name[:]\n",
    "    i = 3\n",
    "    j = 5\n",
    "    my_name[i:j]\n",
    "    my_name[i:j+3]\n",
    "    j = j+3\n",
    "    my_name[i:j]\n",
    "    my_name = my_name[my_name.find(','):]\n",
    "```"
   ]
  },
  {
   "cell_type": "code",
   "execution_count": 84,
   "metadata": {},
   "outputs": [
    {
     "data": {
      "text/plain": [
       "\", ask me again and I'll tell you the same\""
      ]
     },
     "execution_count": 84,
     "metadata": {},
     "output_type": "execute_result"
    }
   ],
   "source": [
    "my_name = 'puddentain, ask me again and I\\'ll tell you the same'\n",
    "my_name[0]\n",
    "my_name[10:]\n",
    "my_name[3:5] # returns 'de', include 3, except 5\n",
    "my_name[my_name.find(','):]\n",
    "my_name[:]\n",
    "i = 3\n",
    "j = 5\n",
    "my_name[i:j]\n",
    "my_name[i:j+3]\n",
    "j = j+3\n",
    "my_name[i:j]\n",
    "my_name = my_name[my_name.find(','):]\n",
    "my_name"
   ]
  },
  {
   "cell_type": "markdown",
   "metadata": {},
   "source": [
    "##### Useful String methods\n",
    "\n",
    "We will look at more string methods in more depth later. For now, take a look at the string methods with introspection and get information on them with the interactive help feature in jupyter\n",
    "\n",
    "In particular, pay attention to\n",
    "```\n",
    "    str.count()\n",
    "    str.find()\n",
    "    str.upcase()\n",
    "    str.replace()\n",
    "    str.split()\n",
    "```"
   ]
  },
  {
   "cell_type": "code",
   "execution_count": 3,
   "metadata": {},
   "outputs": [
    {
     "data": {
      "text/plain": [
       "6"
      ]
     },
     "execution_count": 3,
     "metadata": {},
     "output_type": "execute_result"
    }
   ],
   "source": [
    "dna = 'CGCAGCTAACGCATTAAGCACTCCGCCTGGGGAGTACGACCGCAAGGTTGAA'\n",
    "dna.find('T')\n",
    "#dna.lower()\n",
    "#str.replace?"
   ]
  },
  {
   "cell_type": "markdown",
   "metadata": {},
   "source": [
    "##### immutability\n",
    "Python strings are *immutable*, meaning they cannot be changed. \n",
    "To modify a string, you need to make a copy of it and work on the copy, or you need to use the string methods.\n",
    "\n",
    "For example, suppose I want to change 'y range' into 'x range'. What happens here:\n",
    "```\n",
    "my_string = 'y range'\n",
    "my_string[0] = 'x'\n",
    "```\n",
    "\n",
    "You want something like\n",
    "\n",
    "> 'x' + my_string[1:]\n",
    "\n",
    "or \n",
    "\n",
    "> my_string.replace('y','x')"
   ]
  },
  {
   "cell_type": "code",
   "execution_count": 4,
   "metadata": {},
   "outputs": [
    {
     "ename": "TypeError",
     "evalue": "'str' object does not support item assignment",
     "output_type": "error",
     "traceback": [
      "\u001b[1;31m---------------------------------------------------------------------------\u001b[0m",
      "\u001b[1;31mTypeError\u001b[0m                                 Traceback (most recent call last)",
      "\u001b[1;32m<ipython-input-4-d88d52a36714>\u001b[0m in \u001b[0;36m<module>\u001b[1;34m()\u001b[0m\n\u001b[0;32m      1\u001b[0m \u001b[0mmy_string\u001b[0m \u001b[1;33m=\u001b[0m \u001b[1;34m'y range'\u001b[0m\u001b[1;33m\u001b[0m\u001b[0m\n\u001b[1;32m----> 2\u001b[1;33m \u001b[0mmy_string\u001b[0m\u001b[1;33m[\u001b[0m\u001b[1;36m0\u001b[0m\u001b[1;33m]\u001b[0m \u001b[1;33m=\u001b[0m \u001b[1;34m'x'\u001b[0m\u001b[1;33m\u001b[0m\u001b[0m\n\u001b[0m",
      "\u001b[1;31mTypeError\u001b[0m: 'str' object does not support item assignment"
     ]
    }
   ],
   "source": [
    "my_string = 'y range'\n",
    "my_string[0] = 'x'"
   ]
  },
  {
   "cell_type": "code",
   "execution_count": 12,
   "metadata": {
    "collapsed": true
   },
   "outputs": [],
   "source": [
    "# change my_string from 'y range' to 'x range'.\n",
    "# YOUR CODE HERE"
   ]
  },
  {
   "cell_type": "markdown",
   "metadata": {},
   "source": [
    "##### references\n",
    "Compound objects, like strings, take to much computing effort to copy. \n",
    "So, after *this_string = that_string*, the variable *this_string* is just another name for the object *that_string*. \n",
    "In particular, that means any change you make to the second actually changes the first.\n",
    "\n",
    "What happens if you do this:\n",
    "```\n",
    "this_string = 'y range'\n",
    "that_string = this_string\n",
    "that_string.replace('y','x')\n",
    "```\n",
    "\n",
    "If you want a copy of a string, you have to say so\n",
    "```\n",
    "this_string = 'y range'\n",
    "that_string = this_string[:]\n",
    "that_string.replace('y','x')\n",
    "```\n",
    "\n",
    "**watch out for this. It will bite you**"
   ]
  },
  {
   "cell_type": "code",
   "execution_count": 12,
   "metadata": {},
   "outputs": [
    {
     "name": "stdout",
     "output_type": "stream",
     "text": [
      "y range\n",
      "y range\n"
     ]
    }
   ],
   "source": [
    "this_string = 'y range'\n",
    "that_string = this_string\n",
    "that_string.replace('y','x')\n",
    "print(this_string)\n",
    "print(that_string)"
   ]
  },
  {
   "cell_type": "code",
   "execution_count": 13,
   "metadata": {},
   "outputs": [
    {
     "name": "stdout",
     "output_type": "stream",
     "text": [
      "y range\n",
      "y range\n"
     ]
    }
   ],
   "source": [
    "this_string = 'y range'\n",
    "that_string = this_string[:]\n",
    "that_string.replace('y','x')\n",
    "print(this_string)\n",
    "print(that_string)"
   ]
  },
  {
   "cell_type": "code",
   "execution_count": 17,
   "metadata": {},
   "outputs": [
    {
     "name": "stdout",
     "output_type": "stream",
     "text": [
      "y range\n",
      "y range\n"
     ]
    }
   ],
   "source": [
    "this_string = 'y range'\n",
    "print(this_string)\n",
    "this_string.replace('y','x')\n",
    "print(this_string)"
   ]
  },
  {
   "cell_type": "code",
   "execution_count": null,
   "metadata": {},
   "outputs": [],
   "source": []
  }
 ],
 "metadata": {
  "kernelspec": {
   "display_name": "Python 3",
   "language": "python",
   "name": "python3"
  },
  "language_info": {
   "codemirror_mode": {
    "name": "ipython",
    "version": 3
   },
   "file_extension": ".py",
   "mimetype": "text/x-python",
   "name": "python",
   "nbconvert_exporter": "python",
   "pygments_lexer": "ipython3",
   "version": "3.6.5"
  },
  "latex_envs": {
   "bibliofile": "biblio.bib",
   "cite_by": "apalike",
   "current_citInitial": 1,
   "eqLabelWithNumbers": true,
   "eqNumInitial": 0
  }
 },
 "nbformat": 4,
 "nbformat_minor": 2
}
