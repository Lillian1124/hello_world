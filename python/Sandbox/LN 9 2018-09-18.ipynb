{
 "cells": [
  {
   "cell_type": "markdown",
   "metadata": {},
   "source": [
    "Plan for today:\n",
    "\n",
    "Basic data structures (3.1): strings, Lists, slices, tuples, dicts"
   ]
  },
  {
   "cell_type": "markdown",
   "metadata": {},
   "source": [
    "# Compound data structures"
   ]
  },
  {
   "cell_type": "markdown",
   "metadata": {},
   "source": [
    "## Strings (again)\n"
   ]
  },
  {
   "cell_type": "markdown",
   "metadata": {},
   "source": [
    "### Indexing a string\n",
    "\n",
    "A string is a sequential collection (a bunch of characters, all in a row).\n",
    "You can always pull out a particular item in a sequential collection by indexing the object with []\n",
    "\n",
    "For example, suppose\n",
    "\n",
    ">dna = 'CGCAGCTAACGCATTAAGCACTCCGCCTGGGGAGTACGACCGCAAGGTTGAA'\n",
    "\n",
    "* what is the first character in *dna*? c\n",
    "* what is dna[2]? C\n",
    "\n",
    "You can index from the rear end by using a negative value\n",
    "\n",
    "* what is dna[-1]? dna[-2]?\n",
    "\n",
    "If you do silly indexing, python will complain\n",
    "\n",
    "Try these:\n",
    "```\n",
    "    dna[-10000]\n",
    "    dna[10000]\n",
    "```"
   ]
  },
  {
   "cell_type": "code",
   "execution_count": 2,
   "metadata": {
    "collapsed": true
   },
   "outputs": [],
   "source": [
    "dna = 'CGCAGCTAACGCATTAAGCACTCCGCCTGGGGAGTACGACCGCAAGGTTGAA'"
   ]
  },
  {
   "cell_type": "code",
   "execution_count": 4,
   "metadata": {},
   "outputs": [
    {
     "data": {
      "text/plain": [
       "'G'"
      ]
     },
     "execution_count": 4,
     "metadata": {},
     "output_type": "execute_result"
    }
   ],
   "source": [
    "dna[1]"
   ]
  },
  {
   "cell_type": "code",
   "execution_count": 5,
   "metadata": {},
   "outputs": [
    {
     "data": {
      "text/plain": [
       "'A'"
      ]
     },
     "execution_count": 5,
     "metadata": {},
     "output_type": "execute_result"
    }
   ],
   "source": [
    "dna[-1]"
   ]
  },
  {
   "cell_type": "code",
   "execution_count": 6,
   "metadata": {},
   "outputs": [
    {
     "data": {
      "text/plain": [
       "'G'"
      ]
     },
     "execution_count": 6,
     "metadata": {},
     "output_type": "execute_result"
    }
   ],
   "source": [
    "dna[-3] # from left"
   ]
  },
  {
   "cell_type": "code",
   "execution_count": 7,
   "metadata": {},
   "outputs": [
    {
     "ename": "IndexError",
     "evalue": "string index out of range",
     "output_type": "error",
     "traceback": [
      "\u001b[0;31m---------------------------------------------------------------------------\u001b[0m",
      "\u001b[0;31mIndexError\u001b[0m                                Traceback (most recent call last)",
      "\u001b[0;32m<ipython-input-7-ef87ce1ad6c0>\u001b[0m in \u001b[0;36m<module>\u001b[0;34m()\u001b[0m\n\u001b[0;32m----> 1\u001b[0;31m \u001b[0mdna\u001b[0m\u001b[0;34m[\u001b[0m\u001b[0;36m10000\u001b[0m\u001b[0;34m]\u001b[0m\u001b[0;34m\u001b[0m\u001b[0m\n\u001b[0m",
      "\u001b[0;31mIndexError\u001b[0m: string index out of range"
     ]
    }
   ],
   "source": [
    "dna[10000]"
   ]
  },
  {
   "cell_type": "code",
   "execution_count": null,
   "metadata": {
    "collapsed": true
   },
   "outputs": [],
   "source": []
  },
  {
   "cell_type": "markdown",
   "metadata": {},
   "source": [
    "### Slicing a string\n",
    "\n",
    "To get a range of characters, between i and j in a string, use the index *string[i:j]*.\n",
    "*string[:x]* means \"start at the beginning and go up to position $x$\n",
    "*string[x:]* means start as position x and go to the end\n",
    "\n",
    "You can also use negative indexes, so that *string[:-3]* for example means \"start at the beginning and go up until the third position from the right\".\n",
    "\n",
    "(note: this will help you with homework 3)\n",
    "\n",
    "Consider\n",
    "\n",
    ">my_name = 'puddentain, ask me again and I\\'ll tell you the same'\n",
    "\n",
    "What do the following return:\n",
    "\n",
    "```\n",
    "    my_name[]\n",
    "    my_name[3]\n",
    "    my_name[10:]\n",
    "    my_name[3:5]\n",
    "    my_name[my_name.find(','):]\n",
    "    my_name[:]\n",
    "    i = 3\n",
    "    j = 5\n",
    "    my_name[i:j]\n",
    "    my_name[i:j+3]\n",
    "    j = j+3\n",
    "    my_name[i:j]\n",
    "    my_name = my_name[my_name.find(','):]\n",
    "```"
   ]
  },
  {
   "cell_type": "code",
   "execution_count": 8,
   "metadata": {
    "collapsed": true
   },
   "outputs": [],
   "source": [
    "my_name = 'puddentain, ask me again and I\\'ll tell you the same'"
   ]
  },
  {
   "cell_type": "code",
   "execution_count": 10,
   "metadata": {},
   "outputs": [
    {
     "data": {
      "text/plain": [
       "\" ask me again and I'll te\""
      ]
     },
     "execution_count": 10,
     "metadata": {},
     "output_type": "execute_result"
    }
   ],
   "source": [
    "my_name[11:36]"
   ]
  },
  {
   "cell_type": "code",
   "execution_count": 11,
   "metadata": {},
   "outputs": [
    {
     "data": {
      "text/plain": [
       "\"puddentain, ask me again and I'll tell you the same\""
      ]
     },
     "execution_count": 11,
     "metadata": {},
     "output_type": "execute_result"
    }
   ],
   "source": [
    "my_name[:]"
   ]
  },
  {
   "cell_type": "code",
   "execution_count": 13,
   "metadata": {
    "collapsed": true
   },
   "outputs": [],
   "source": [
    "i ,j = 12 ,36"
   ]
  },
  {
   "cell_type": "code",
   "execution_count": 14,
   "metadata": {},
   "outputs": [
    {
     "data": {
      "text/plain": [
       "12"
      ]
     },
     "execution_count": 14,
     "metadata": {},
     "output_type": "execute_result"
    }
   ],
   "source": [
    "i"
   ]
  },
  {
   "cell_type": "code",
   "execution_count": 15,
   "metadata": {},
   "outputs": [
    {
     "data": {
      "text/plain": [
       "\"ask me again and I'll te\""
      ]
     },
     "execution_count": 15,
     "metadata": {},
     "output_type": "execute_result"
    }
   ],
   "source": [
    "my_name[i:j]"
   ]
  },
  {
   "cell_type": "code",
   "execution_count": 22,
   "metadata": {},
   "outputs": [
    {
     "name": "stdout",
     "output_type": "stream",
     "text": [
      "puddentain, ask me again\n"
     ]
    },
    {
     "data": {
      "text/plain": [
       "\"emas eht uoy llet ll'I dna niaga em ksa ,niatneddup\""
      ]
     },
     "execution_count": 22,
     "metadata": {},
     "output_type": "execute_result"
    }
   ],
   "source": [
    "print(my_name[0:24])\n",
    "my_name[0:24:2]\n",
    "my_name[::-1]  #revice \n",
    "#'adgdaga'[::-1]== 'adgdaga'"
   ]
  },
  {
   "cell_type": "code",
   "execution_count": 25,
   "metadata": {},
   "outputs": [
    {
     "data": {
      "text/plain": [
       "10"
      ]
     },
     "execution_count": 25,
     "metadata": {},
     "output_type": "execute_result"
    }
   ],
   "source": [
    "my_name.find(',')"
   ]
  },
  {
   "cell_type": "code",
   "execution_count": 26,
   "metadata": {},
   "outputs": [
    {
     "data": {
      "text/plain": [
       "12"
      ]
     },
     "execution_count": 26,
     "metadata": {},
     "output_type": "execute_result"
    }
   ],
   "source": [
    "my_name.find('a',8)#zhao di 8 ge hou de a"
   ]
  },
  {
   "cell_type": "code",
   "execution_count": 28,
   "metadata": {},
   "outputs": [
    {
     "data": {
      "text/plain": [
       "7"
      ]
     },
     "execution_count": 28,
     "metadata": {},
     "output_type": "execute_result"
    }
   ],
   "source": [
    "my_name.find('ain',1,18)"
   ]
  },
  {
   "cell_type": "code",
   "execution_count": 37,
   "metadata": {},
   "outputs": [
    {
     "data": {
      "text/plain": [
       "11"
      ]
     },
     "execution_count": 37,
     "metadata": {},
     "output_type": "execute_result"
    }
   ],
   "source": [
    "my_name.find(',')+1"
   ]
  },
  {
   "cell_type": "code",
   "execution_count": 39,
   "metadata": {},
   "outputs": [
    {
     "data": {
      "text/plain": [
       "\" ask me again and I'll tell you the same\""
      ]
     },
     "execution_count": 39,
     "metadata": {},
     "output_type": "execute_result"
    }
   ],
   "source": [
    "my_name[my_name.find(',')+1 :]"
   ]
  },
  {
   "cell_type": "code",
   "execution_count": null,
   "metadata": {
    "collapsed": true
   },
   "outputs": [],
   "source": [
    "# find the first and last codon in \"dna\" from above\n"
   ]
  },
  {
   "cell_type": "markdown",
   "metadata": {},
   "source": [
    "### Useful String methods\n",
    "\n",
    "We will look at more string methods in more depth later. For now, take a look at the string methods with introspection and get information on them with the interactive help feature in jupyter\n",
    "\n",
    "In particular, pay attention to\n",
    "```\n",
    "    str.count()\n",
    "    str.find()\n",
    "    str.upcase()\n",
    "    str.replace()\n",
    "    str.split()\n",
    "    str.join()\n",
    "```"
   ]
  },
  {
   "cell_type": "code",
   "execution_count": 40,
   "metadata": {
    "collapsed": true
   },
   "outputs": [],
   "source": [
    "dna = 'CGCAGCTAACGCATTAAGCACTCCGCCTGGGGAGTACGACCGCAAGGTTGAA'"
   ]
  },
  {
   "cell_type": "code",
   "execution_count": 43,
   "metadata": {},
   "outputs": [
    {
     "data": {
      "text/plain": [
       "'cgcagctaacgcattaagcactccgcctggggagtacgaccgcaaggttgaa'"
      ]
     },
     "execution_count": 43,
     "metadata": {},
     "output_type": "execute_result"
    }
   ],
   "source": [
    "dna = dna.lower()\n",
    "dna"
   ]
  },
  {
   "cell_type": "code",
   "execution_count": 46,
   "metadata": {},
   "outputs": [
    {
     "data": {
      "text/plain": [
       "'cgcagcUaacgcaUUaagcacUccgccUggggagUacgaccgcaaggUUgaa'"
      ]
     },
     "execution_count": 46,
     "metadata": {},
     "output_type": "execute_result"
    }
   ],
   "source": [
    "rna= dna.replace('t','U')\n",
    "rna"
   ]
  },
  {
   "cell_type": "code",
   "execution_count": 53,
   "metadata": {},
   "outputs": [
    {
     "data": {
      "text/plain": [
       "['cgcagc',\n",
       " 'aacgca',\n",
       " '',\n",
       " 'aagcac',\n",
       " 'ccgcc',\n",
       " 'ggggag',\n",
       " 'acgaccgcaagg',\n",
       " '',\n",
       " 'gaa']"
      ]
     },
     "execution_count": 53,
     "metadata": {},
     "output_type": "execute_result"
    }
   ],
   "source": [
    "x=rna.split('U')\n",
    "x"
   ]
  },
  {
   "cell_type": "code",
   "execution_count": 54,
   "metadata": {},
   "outputs": [
    {
     "name": "stdout",
     "output_type": "stream",
     "text": [
      "cgcagc\taacgca\t\taagcac\tccgcc\tggggag\tacgaccgcaagg\t\tgaa\n"
     ]
    }
   ],
   "source": [
    "print('\\t'.join(x))"
   ]
  },
  {
   "cell_type": "code",
   "execution_count": null,
   "metadata": {
    "collapsed": true
   },
   "outputs": [],
   "source": []
  },
  {
   "cell_type": "code",
   "execution_count": null,
   "metadata": {
    "collapsed": true
   },
   "outputs": [],
   "source": [
    "# how many \"A's are in \"dna\" above?"
   ]
  },
  {
   "cell_type": "code",
   "execution_count": null,
   "metadata": {
    "collapsed": true
   },
   "outputs": [],
   "source": []
  },
  {
   "cell_type": "code",
   "execution_count": 6,
   "metadata": {
    "collapsed": true
   },
   "outputs": [],
   "source": [
    "# What is the index of the second \"A\" in \"dna\"?"
   ]
  },
  {
   "cell_type": "code",
   "execution_count": 9,
   "metadata": {
    "collapsed": true
   },
   "outputs": [],
   "source": [
    "# change \"dna\" to an rna string (change T to U) in an appropriately named variable"
   ]
  },
  {
   "cell_type": "code",
   "execution_count": null,
   "metadata": {
    "collapsed": true
   },
   "outputs": [],
   "source": [
    "# what is the reverse complement of the rna string above? Is it a palindrome?"
   ]
  },
  {
   "cell_type": "markdown",
   "metadata": {},
   "source": [
    "### Immutability\n",
    "Python strings are *immutable*, meaning they cannot be changed. \n",
    "To modify a string, you need to make a copy of it and work on the copy, or you need to use the string methods.\n",
    "\n",
    "For example, suppose I want to change 'y range' into 'x range'. What happens here:\n",
    "```\n",
    "my_string = 'y range'\n",
    "my_string[0] = 'x'\n",
    "```\n",
    "\n",
    "You want something like\n",
    "\n",
    "> 'x' + my_string[1:]\n",
    "\n",
    "or \n",
    "\n",
    "> my_string.replace('y','x')"
   ]
  },
  {
   "cell_type": "code",
   "execution_count": 55,
   "metadata": {},
   "outputs": [
    {
     "data": {
      "text/plain": [
       "'y range'"
      ]
     },
     "execution_count": 55,
     "metadata": {},
     "output_type": "execute_result"
    }
   ],
   "source": [
    "my_string = 'y range'\n",
    "my_string"
   ]
  },
  {
   "cell_type": "code",
   "execution_count": 56,
   "metadata": {},
   "outputs": [
    {
     "ename": "TypeError",
     "evalue": "'str' object does not support item assignment",
     "output_type": "error",
     "traceback": [
      "\u001b[0;31m---------------------------------------------------------------------------\u001b[0m",
      "\u001b[0;31mTypeError\u001b[0m                                 Traceback (most recent call last)",
      "\u001b[0;32m<ipython-input-56-a966cdcea517>\u001b[0m in \u001b[0;36m<module>\u001b[0;34m()\u001b[0m\n\u001b[0;32m----> 1\u001b[0;31m \u001b[0mmy_string\u001b[0m\u001b[0;34m[\u001b[0m\u001b[0;36m0\u001b[0m\u001b[0;34m]\u001b[0m \u001b[0;34m=\u001b[0m \u001b[0;34m'x'\u001b[0m\u001b[0;34m\u001b[0m\u001b[0m\n\u001b[0m",
      "\u001b[0;31mTypeError\u001b[0m: 'str' object does not support item assignment"
     ]
    }
   ],
   "source": [
    "my_string[0] = 'x'"
   ]
  },
  {
   "cell_type": "code",
   "execution_count": 58,
   "metadata": {},
   "outputs": [
    {
     "data": {
      "text/plain": [
       "'x range'"
      ]
     },
     "execution_count": 58,
     "metadata": {},
     "output_type": "execute_result"
    }
   ],
   "source": [
    "new=my_string.replace('y','x')\n",
    "new"
   ]
  },
  {
   "cell_type": "code",
   "execution_count": 60,
   "metadata": {},
   "outputs": [
    {
     "data": {
      "text/plain": [
       "'0 range'"
      ]
     },
     "execution_count": 60,
     "metadata": {},
     "output_type": "execute_result"
    }
   ],
   "source": [
    "new=my_string.replace('y','0')\n",
    "new"
   ]
  },
  {
   "cell_type": "code",
   "execution_count": 62,
   "metadata": {},
   "outputs": [
    {
     "data": {
      "text/plain": [
       "'2 range'"
      ]
     },
     "execution_count": 62,
     "metadata": {},
     "output_type": "execute_result"
    }
   ],
   "source": [
    "new=my_string.replace('y',str(2))\n",
    "new"
   ]
  },
  {
   "cell_type": "code",
   "execution_count": 10,
   "metadata": {
    "collapsed": true
   },
   "outputs": [],
   "source": [
    "# change my_string from 'y range' to 'x range'.\n",
    "# YOUR CODE HERE"
   ]
  },
  {
   "cell_type": "markdown",
   "metadata": {},
   "source": [
    "### References\n",
    "Compound objects, like strings, take to much computing effort to copy. \n",
    "So, after *this_string = that_string*, the variable *this_string* is just another name for the object *that_string*. \n",
    "In particular, that means any change you make to the second actually changes the first.\n",
    "\n",
    "What happens if you do this:\n",
    "```\n",
    "this_string = 'y range'\n",
    "that_string = this_string\n",
    "that_string.replace('y','x')\n",
    "```\n",
    "\n",
    "If you want a copy of a string, you have to say so\n",
    "```\n",
    "this_string = 'y range'\n",
    "that_string = this_string[:]\n",
    "that_string.replace('y','x')\n",
    "```\n",
    "\n",
    "**watch out for this. It will bite you**"
   ]
  },
  {
   "cell_type": "code",
   "execution_count": null,
   "metadata": {
    "collapsed": true
   },
   "outputs": [],
   "source": []
  },
  {
   "cell_type": "markdown",
   "metadata": {},
   "source": [
    "## Lists\n",
    "\n",
    "* empty list\n",
    "* entries can be *anything* (including other lists)\n",
    "\t* there are no matrixes or tensors, just lists of lists\n"
   ]
  },
  {
   "cell_type": "markdown",
   "metadata": {},
   "source": [
    "### Useful methods\n",
    "* append()\n",
    "* pop()\n",
    "* \\+ (catenation)\n",
    "* sort()\n",
    "\n",
    "list() can be useful (e.g. list('acgnntt'))\n",
    "\n",
    "for *member* in *list*\n"
   ]
  },
  {
   "cell_type": "markdown",
   "metadata": {},
   "source": [
    "### Indexing Slicing\n",
    "* describe\n",
    "\n",
    "use as examples:  nucleotides = [\"A\",\"C\",\"G\",\"T\",\"N\",\"Y\",\"U\"]\n",
    "\n",
    ">goodReads=nucleotides[0:4] or goodReads=nucleotides[:4]\n",
    "\n",
    ">ambiguousReads=nucleotides[4:] or ambiguousReads=nucleotides[4:8]\n",
    "\n",
    "* negative indexes\n",
    "\n",
    "> nucleotides[-2]\n",
    "> nucleotides[:-2]\n",
    "\n",
    "* stepsize\n",
    "\n",
    ">nucleotides[::2]\n",
    ">nucleotides[::-1] # cute\n",
    "\n",
    "* biggest slice is a **copy**. very common construction\n",
    "\n",
    ">nucsCopy=nucleotides[:]\n"
   ]
  },
  {
   "cell_type": "markdown",
   "metadata": {},
   "source": [
    "### Compare to strings\n",
    "\n",
    "```\n",
    "DNA_string = 'AAUUUGYCCAANN'\n",
    "DNA_list = list(DNA_string) # casting, or coercion\n",
    "```\n",
    "\n",
    "Lists are mutable (unlike strings)\n",
    "\n",
    "```\n",
    "DNA_list[1] = 'X'\n",
    "DNA_list\n",
    "DNA_string[1] = 'X'\n",
    "```\n",
    "\n",
    "(for fun, what happens with *str(DNA_list)*?)\n"
   ]
  },
  {
   "cell_type": "markdown",
   "metadata": {},
   "source": [
    "#### *str.split()* returns a list of subsequences of the string split at 'x' (default, white space)\n",
    "\n",
    "for example, given the folloiwing fasta sequence description line\n",
    "\n",
    ">header = '>MISEQ:7:000000000-AMAKG:1:1101:16998:1719 1:N:0:PE716:ST6_21 TTGACCCT|0|TAGACCTA|0 ST6_21_F|0|23|'\n",
    "\n",
    "sequence_header_fields = header.split(':'\n"
   ]
  },
  {
   "cell_type": "code",
   "execution_count": 13,
   "metadata": {},
   "outputs": [
    {
     "ename": "SyntaxError",
     "evalue": "invalid syntax (<ipython-input-13-79f548e58fb7>, line 2)",
     "output_type": "error",
     "traceback": [
      "\u001b[0;36m  File \u001b[0;32m\"<ipython-input-13-79f548e58fb7>\"\u001b[0;36m, line \u001b[0;32m2\u001b[0m\n\u001b[0;31m    sequence_header_fields =\u001b[0m\n\u001b[0m                             ^\u001b[0m\n\u001b[0;31mSyntaxError\u001b[0m\u001b[0;31m:\u001b[0m invalid syntax\n"
     ]
    }
   ],
   "source": [
    "# get the fields (split at ':')\n",
    "sequence_header_fields = \n",
    "\n",
    "# get forward and reverse primers"
   ]
  },
  {
   "cell_type": "markdown",
   "metadata": {},
   "source": [
    "### Reference Versus Value #####\n",
    "\n",
    "direct assignment of larger objects (like lists) are *references*, \n",
    "because **everything in python is an object**\n",
    "\n",
    "* List example\n",
    "\n",
    ">bad_copy=nucleotides\n",
    "\n",
    "*bad_copy* *is* the nucleotides  *object* (not a new object with the same value)\n",
    "\n",
    "```\n",
    "bad_copy\n",
    "bad_copy[1]=\"foobar\"\n",
    "bad_copy\n",
    "nucleotides\n",
    "```\n",
    "\n",
    "Use copying\n",
    "\n",
    "```\n",
    "good_copy = nucleotides[:]\n",
    "good_copy[1]=\"foobar\"\n",
    "good_copy\n",
    "nucleotides\n",
    "```\n"
   ]
  },
  {
   "cell_type": "markdown",
   "metadata": {},
   "source": [
    "## control flow\n",
    "\t* boolean comparisons: ==, <, <=, ...\n",
    "\t* if/else\n",
    "\t* for\n",
    "    * while"
   ]
  },
  {
   "cell_type": "markdown",
   "metadata": {},
   "source": [
    "### for and while loops\n",
    "Assume\n",
    "\n",
    ">dna = 'CGCAGCTAACGCATTAAGCACTCCGCCTGGGGAGTACGACCGCAAGGTTGAA'\n",
    "\n",
    "\n",
    "While loops repeat for as long as the condition tested after *while* is true\n",
    "\n",
    "```\n",
    "    next_nucleotide = ''\n",
    "    while (next_nucleotide != 'A') & (len(dna)>0):\n",
    "        next_nucleotide = dna[0]\n",
    "        dna = dna[1:]\n",
    "``` \n",
    "\n",
    "For loops iterate over values in the associated *iterator* (a function that returns the next item in a sequence, but only when requested).\n",
    "These are *very common* in python.\n",
    "\n",
    "```\n",
    "    next_index = 0\n",
    "    for next_nucleotide in dna:\n",
    "        if next_nucleotide != 'A':\n",
    "            next_index = next_index + 1\n",
    "    dna = dna[next_index:]\n",
    "```\n",
    "\n",
    "Show \n",
    "```\n",
    "    range(10)\n",
    "    (type(range(10))\n",
    "    list(range(10))\n",
    "    print(range(10))\n",
    "```"
   ]
  },
  {
   "cell_type": "code",
   "execution_count": null,
   "metadata": {
    "collapsed": true
   },
   "outputs": [],
   "source": []
  },
  {
   "cell_type": "markdown",
   "metadata": {},
   "source": [
    "### if/then/else\n",
    "\n",
    ">dna = 'CGCAGCTAACGCATTAAGCACTCCGCCTGGGGAGTACGACCGCAAGGTTGAA'\n",
    "\n",
    "Chooses which block to execute based on a boolean test.\n",
    "\n",
    "```\n",
    "   counts = [0,0,0,0]\n",
    "   for next_nucleotide in dna:\n",
    "       if next_nucleotide == 'A':\n",
    "           counts[0] = counts[0] + 1\n",
    "       elif next_nucleotide == 'C':\n",
    "           counts[1] = counts[1] + 1\n",
    "       elif next_nucleotide == 'G':\n",
    "           counts[2] = counts[2] + 1\n",
    "       elif next_nucleotide == 'T':\n",
    "           counts[3] = counts[3] + 1\n",
    "       \n",
    "   print('counts of A, G, C, T: ', counts)\n",
    "```\n",
    "\n",
    "Or, more obtusely:\n",
    "\n",
    "```\n",
    "   counts = [0,0,0,0]\n",
    "   for next_nucleotide in dna:\n",
    "       if next_nucleotide == 'A':\n",
    "           counts[0] = counts[0] + 1\n",
    "       else:\n",
    "           if next_nucleotide == 'C':\n",
    "               counts[1] = counts[1] + 1\n",
    "           else:\n",
    "               if next_nucleotide == 'G':\n",
    "                   counts[2] = counts[2] + 1\n",
    "               else: \n",
    "                   if next_nucleotide == 'T':\n",
    "                       counts[3] = counts[3] + 1\n",
    "           \n",
    "   print('counts of A, G, C, T: ', counts)\n",
    "```\n",
    "\n",
    "Or, as if you were a Fortran coder rather than a python coder (example shown only to show *range()*\n",
    "\n",
    "```\n",
    "   counts = [0,0,0,0]\n",
    "   i=0\n",
    "   for i in range(len(dna)):\n",
    "       if dna[i] == 'A':\n",
    "           counts[0] = counts[0] + 1\n",
    "       elif dna[i] == 'C':\n",
    "           counts[1] = counts[1] + 1\n",
    "       elif dna[i] == 'G':\n",
    "           counts[2] = counts[2] + 1\n",
    "       elif dna[i] == 'T':\n",
    "           counts[3] = counts[3] + 1\n",
    "       \n",
    "   print('counts of A, G, C, T: ', counts)\n",
    "```"
   ]
  },
  {
   "cell_type": "code",
   "execution_count": null,
   "metadata": {
    "collapsed": true
   },
   "outputs": [],
   "source": []
  }
 ],
 "metadata": {
  "kernelspec": {
   "display_name": "Python 3",
   "language": "python",
   "name": "python3"
  },
  "language_info": {
   "codemirror_mode": {
    "name": "ipython",
    "version": 3
   },
   "file_extension": ".py",
   "mimetype": "text/x-python",
   "name": "python",
   "nbconvert_exporter": "python",
   "pygments_lexer": "ipython3",
   "version": "3.6.5"
  },
  "latex_envs": {
   "bibliofile": "biblio.bib",
   "cite_by": "apalike",
   "current_citInitial": 1,
   "eqLabelWithNumbers": true,
   "eqNumInitial": 0
  }
 },
 "nbformat": 4,
 "nbformat_minor": 2
}
