{
 "cells": [
  {
   "cell_type": "markdown",
   "metadata": {},
   "source": [
    "# Lecture 19 2018-10-23: Pandas\n",
    "\n",
    "Pandas. Eats. Shoots. and Leaves."
   ]
  },
  {
   "cell_type": "markdown",
   "metadata": {},
   "source": [
    "We will use an abbreviated version of a dataset containing milk oligosaccaride gene sequences. "
   ]
  },
  {
   "cell_type": "code",
   "execution_count": 1,
<<<<<<< HEAD
   "metadata": {
    "collapsed": true
   },
=======
   "metadata": {},
>>>>>>> origin/master
   "outputs": [],
   "source": [
    "import pandas as pd\n",
    "from pandas import Series, DataFrame   # use these so often, this can be helpful\n",
    "\n",
    "import numpy as np\n",
    "\n",
    "from matplotlib import pyplot as plt\n",
    "%matplotlib inline"
   ]
  },
  {
   "cell_type": "markdown",
   "metadata": {},
   "source": [
    "## Get summary of milk oligo data\n",
    "\n",
    "There is a link to a file that summarizes milk oligosaccaride gene data in Resources/Datasets. We use that link to read the dataset into this notbook. \n",
    "\n",
    "The purpose of this lecture is to explore Pandas. "
   ]
  },
  {
   "cell_type": "code",
<<<<<<< HEAD
   "execution_count": 2,
=======
<<<<<<< HEAD
   "execution_count": 2,
   "metadata": {
    "collapsed": false
   },
=======
   "execution_count": 4,
>>>>>>> cdd5beb57dbf76209559c684e2c40684d8fda8b5
   "metadata": {},
>>>>>>> origin/master
   "outputs": [],
   "source": [
    "# walk through use of exceptions\n",
    "\n",
    "milk_summary_file = 'milk_summary.txt'\n",
    "try:\n",
    "   with open( milk_summary_file ) as input_file:\n",
    "      input_lines = input_file.readlines()\n",
    "except OSError as err:\n",
    "   print( \"**ERROR** Cannot open {}, error {}\".format( milk_summary_file, err ) )\n",
    "except:\n",
    "   print( \"**ERROR** unknown error with {%s: %s}\".format( milk_summary_file ) )"
   ]
  },
  {
   "cell_type": "code",
<<<<<<< HEAD
   "execution_count": 4,
   "metadata": {
    "collapsed": false
   },
=======
   "execution_count": 3,
   "metadata": {},
>>>>>>> origin/master
   "outputs": [
    {
     "ename": "KeyError",
     "evalue": "'%s'",
     "output_type": "error",
     "traceback": [
<<<<<<< HEAD
      "\u001b[0;31m---------------------------------------------------------------------------\u001b[0m",
      "\u001b[0;31mKeyError\u001b[0m                                  Traceback (most recent call last)",
      "\u001b[0;32m<ipython-input-4-ba6d297df74b>\u001b[0m in \u001b[0;36m<module>\u001b[0;34m()\u001b[0m\n\u001b[1;32m      4\u001b[0m    \u001b[0;32mprint\u001b[0m\u001b[0;34m(\u001b[0m \u001b[0;34m\"**ERROR** Cannot open {}, error {}\"\u001b[0m\u001b[0;34m.\u001b[0m\u001b[0mformat\u001b[0m\u001b[0;34m(\u001b[0m \u001b[0mmilk_summary_file\u001b[0m\u001b[0;34m,\u001b[0m \u001b[0merr\u001b[0m \u001b[0;34m)\u001b[0m \u001b[0;34m)\u001b[0m\u001b[0;34m\u001b[0m\u001b[0m\n\u001b[1;32m      5\u001b[0m \u001b[0;32mexcept\u001b[0m\u001b[0;34m:\u001b[0m\u001b[0;34m\u001b[0m\u001b[0m\n\u001b[0;32m----> 6\u001b[0;31m    \u001b[0;32mprint\u001b[0m\u001b[0;34m(\u001b[0m \u001b[0;34m\"**ERROR** unknown error with {%s: %s}\"\u001b[0m\u001b[0;34m.\u001b[0m\u001b[0mformat\u001b[0m\u001b[0;34m(\u001b[0m \u001b[0mmilk_summary_file\u001b[0m \u001b[0;34m)\u001b[0m \u001b[0;34m)\u001b[0m\u001b[0;34m\u001b[0m\u001b[0m\n\u001b[0m",
      "\u001b[0;31mKeyError\u001b[0m: '%s'"
=======
      "\u001b[1;31m---------------------------------------------------------------------------\u001b[0m",
      "\u001b[1;31mZeroDivisionError\u001b[0m                         Traceback (most recent call last)",
      "\u001b[1;32m<ipython-input-3-46c287a8d393>\u001b[0m in \u001b[0;36m<module>\u001b[1;34m()\u001b[0m\n\u001b[0;32m      1\u001b[0m \u001b[1;32mtry\u001b[0m\u001b[1;33m:\u001b[0m\u001b[1;33m\u001b[0m\u001b[0m\n\u001b[1;32m----> 2\u001b[1;33m     \u001b[1;36m1\u001b[0m\u001b[1;33m/\u001b[0m\u001b[1;36m0\u001b[0m\u001b[1;33m\u001b[0m\u001b[0m\n\u001b[0m\u001b[0;32m      3\u001b[0m \u001b[1;32mexcept\u001b[0m \u001b[0mOSError\u001b[0m \u001b[1;32mas\u001b[0m \u001b[0merr\u001b[0m\u001b[1;33m:\u001b[0m\u001b[1;33m\u001b[0m\u001b[0m\n",
      "\u001b[1;31mZeroDivisionError\u001b[0m: division by zero",
      "\nDuring handling of the above exception, another exception occurred:\n",
      "\u001b[1;31mKeyError\u001b[0m                                  Traceback (most recent call last)",
      "\u001b[1;32m<ipython-input-3-46c287a8d393>\u001b[0m in \u001b[0;36m<module>\u001b[1;34m()\u001b[0m\n\u001b[0;32m      4\u001b[0m    \u001b[0mprint\u001b[0m\u001b[1;33m(\u001b[0m \u001b[1;34m\"**ERROR** Cannot open {}, error {}\"\u001b[0m\u001b[1;33m.\u001b[0m\u001b[0mformat\u001b[0m\u001b[1;33m(\u001b[0m \u001b[0mmilk_summary_file\u001b[0m\u001b[1;33m,\u001b[0m \u001b[0merr\u001b[0m \u001b[1;33m)\u001b[0m \u001b[1;33m)\u001b[0m\u001b[1;33m\u001b[0m\u001b[0m\n\u001b[0;32m      5\u001b[0m \u001b[1;32mexcept\u001b[0m\u001b[1;33m:\u001b[0m\u001b[1;33m\u001b[0m\u001b[0m\n\u001b[1;32m----> 6\u001b[1;33m    \u001b[0mprint\u001b[0m\u001b[1;33m(\u001b[0m \u001b[1;34m\"**ERROR** unknown error with {%s: %s}\"\u001b[0m\u001b[1;33m.\u001b[0m\u001b[0mformat\u001b[0m\u001b[1;33m(\u001b[0m \u001b[0mmilk_summary_file\u001b[0m \u001b[1;33m)\u001b[0m \u001b[1;33m)\u001b[0m\u001b[1;33m\u001b[0m\u001b[0m\n\u001b[0m",
      "\u001b[1;31mKeyError\u001b[0m: '%s'"
>>>>>>> origin/master
     ]
    }
   ],
   "source": [
    "try:\n",
    "    1/0\n",
    "except OSError as err:\n",
    "   print( \"**ERROR** Cannot open {}, error {}\".format( milk_summary_file, err ) )\n",
    "except:\n",
    "   print( \"**ERROR** unknown error with {%s: %s}\".format( milk_summary_file ) )"
   ]
  },
  {
   "cell_type": "code",
   "execution_count": null,
   "metadata": {},
   "outputs": [],
   "source": []
  },
  {
   "cell_type": "code",
<<<<<<< HEAD
   "execution_count": 4,
=======
   "execution_count": 5,
<<<<<<< HEAD
   "metadata": {
    "collapsed": true
   },
=======
>>>>>>> cdd5beb57dbf76209559c684e2c40684d8fda8b5
   "metadata": {},
>>>>>>> origin/master
   "outputs": [],
   "source": [
    "# parse the data\n",
    "milk_summary_data = []\n",
    "for line in input_lines:\n",
    "    if line[0] == '#': continue\n",
    "    line = line.strip()\n",
    "    next_line = line.split()\n",
    "    milk_summary_data.append(next_line)"
   ]
  },
  {
   "cell_type": "code",
<<<<<<< HEAD
   "execution_count": 5,
=======
   "execution_count": 6,
<<<<<<< HEAD
   "metadata": {
    "collapsed": false
   },
=======
>>>>>>> cdd5beb57dbf76209559c684e2c40684d8fda8b5
   "metadata": {},
>>>>>>> origin/master
   "outputs": [
    {
     "data": {
      "text/plain": [
       "[['runtype',\n",
       "  'spot_id',\n",
       "  'sample_id',\n",
       "  'forward_primer',\n",
       "  'reverse_primer',\n",
       "  'read_id',\n",
       "  'gc_content',\n",
       "  'country',\n",
       "  'gene_id'],\n",
       " ['MISEQ',\n",
       "  '16998-1719',\n",
       "  'PE716',\n",
       "  'TTGACCCT',\n",
       "  'TAGACCTA',\n",
       "  'ST6_21_F',\n",
       "  '0.28776978417266186',\n",
       "  'PE',\n",
       "  'ST6'],\n",
       " ['MISEQ',\n",
       "  '9172-1724',\n",
       "  'PE714',\n",
       "  'TTGACCCT',\n",
       "  'CTAGAACA',\n",
       "  'ST6_12_F',\n",
       "  '0.38434163701067614',\n",
       "  'PE',\n",
       "  'ST6']]"
      ]
     },
     "execution_count": 5,
     "metadata": {},
     "output_type": "execute_result"
    }
   ],
   "source": [
    "milk_summary_data[:3]"
   ]
  },
  {
   "cell_type": "code",
<<<<<<< HEAD
   "execution_count": 6,
=======
<<<<<<< HEAD
   "execution_count": 7,
   "metadata": {
    "collapsed": false
   },
=======
   "execution_count": 44,
>>>>>>> cdd5beb57dbf76209559c684e2c40684d8fda8b5
   "metadata": {},
>>>>>>> origin/master
   "outputs": [
    {
     "name": "stdout",
     "output_type": "stream",
     "text": [
      "[['runtype', 'spot_id', 'sample_id', 'forward_primer', 'reverse_primer', 'read_id', 'gc_content', 'country', 'gene_id'], ['MISEQ', '16998-1719', 'PE716', 'TTGACCCT', 'TAGACCTA', 'ST6_21_F', '0.28776978417266186', 'PE', 'ST6'], ['MISEQ', '9172-1724', 'PE714', 'TTGACCCT', 'CTAGAACA', 'ST6_12_F', '0.38434163701067614', 'PE', 'ST6']]\n"
     ]
    }
   ],
   "source": [
    "# convert data types (we'll see a better way to do this later)\n",
    "print(milk_summary_data[:3])\n",
    "for index, data in enumerate(milk_summary_data):\n",
    "    if index == 0: continue\n",
    "    data[-3] = float(data[-3])\n",
    "    milk_summary_data[index] = data"
   ]
  },
  {
   "cell_type": "code",
<<<<<<< HEAD
   "execution_count": 7,
=======
<<<<<<< HEAD
   "execution_count": 8,
   "metadata": {
    "collapsed": false
   },
=======
   "execution_count": 45,
>>>>>>> cdd5beb57dbf76209559c684e2c40684d8fda8b5
   "metadata": {},
>>>>>>> origin/master
   "outputs": [
    {
     "data": {
      "text/plain": [
       "[['runtype',\n",
       "  'spot_id',\n",
       "  'sample_id',\n",
       "  'forward_primer',\n",
       "  'reverse_primer',\n",
       "  'read_id',\n",
       "  'gc_content',\n",
       "  'country',\n",
       "  'gene_id'],\n",
       " ['MISEQ',\n",
       "  '16998-1719',\n",
       "  'PE716',\n",
       "  'TTGACCCT',\n",
       "  'TAGACCTA',\n",
       "  'ST6_21_F',\n",
       "  0.28776978417266186,\n",
       "  'PE',\n",
       "  'ST6'],\n",
       " ['MISEQ',\n",
       "  '9172-1724',\n",
       "  'PE714',\n",
       "  'TTGACCCT',\n",
       "  'CTAGAACA',\n",
       "  'ST6_12_F',\n",
       "  0.38434163701067614,\n",
       "  'PE',\n",
       "  'ST6']]"
      ]
     },
<<<<<<< HEAD
     "execution_count": 7,
=======
<<<<<<< HEAD
     "execution_count": 8,
=======
     "execution_count": 45,
>>>>>>> origin/master
>>>>>>> cdd5beb57dbf76209559c684e2c40684d8fda8b5
     "metadata": {},
     "output_type": "execute_result"
    }
   ],
   "source": [
    "milk_summary_data[:3]"
   ]
  },
  {
   "cell_type": "markdown",
   "metadata": {},
   "source": [
    "### Without using Pandas, can do a lot already"
   ]
  },
  {
   "cell_type": "code",
<<<<<<< HEAD
   "execution_count": 8,
=======
<<<<<<< HEAD
   "execution_count": 9,
   "metadata": {
    "collapsed": false
   },
=======
   "execution_count": 46,
>>>>>>> cdd5beb57dbf76209559c684e2c40684d8fda8b5
   "metadata": {},
>>>>>>> origin/master
   "outputs": [
    {
     "name": "stdout",
     "output_type": "stream",
     "text": [
      "countries sampled: {'USW', 'GN', 'KE', 'SW', 'ETU', 'GBU', 'PE', 'GBR', 'SP', 'ETR'}\n",
      "120/37 different forward/reverse primers\n"
     ]
    }
   ],
   "source": [
    "countries = set([x[-2] for x in milk_summary_data[1:]])\n",
    "print('countries sampled: {}'.format(countries))\n",
    "print('{}/{} different forward/reverse primers'.format(\n",
    "        len(set( [x[4] for x in milk_summary_data[1:]] )),\n",
    "        len(set( [x[5] for x in milk_summary_data[1:]] ))\n",
    "        )\n",
    "    )\n",
    "   "
   ]
  },
  {
   "cell_type": "code",
<<<<<<< HEAD
   "execution_count": 9,
=======
<<<<<<< HEAD
   "execution_count": 10,
   "metadata": {
    "collapsed": false
   },
=======
   "execution_count": 47,
>>>>>>> cdd5beb57dbf76209559c684e2c40684d8fda8b5
   "metadata": {},
>>>>>>> origin/master
   "outputs": [
    {
     "data": {
      "text/plain": [
       "dict_keys(['PE', 'ETU', 'ETR', 'GBR', 'SW', 'SP', 'GN', 'USW', 'KE', 'GBU'])"
      ]
     },
<<<<<<< HEAD
     "execution_count": 9,
=======
<<<<<<< HEAD
     "execution_count": 10,
=======
     "execution_count": 47,
>>>>>>> origin/master
>>>>>>> cdd5beb57dbf76209559c684e2c40684d8fda8b5
     "metadata": {},
     "output_type": "execute_result"
    }
   ],
   "source": [
    "GC_content_by_country = {}\n",
    "for data in milk_summary_data[1:]:\n",
    "    gc, country, gene = float(data[-3]), data[-2], data[-1]\n",
    "    GC_content_by_country[country] = GC_content_by_country.get(country,[])\n",
    "    GC_content_by_country[country].append(gc)\n",
    "\n",
    "GC_content_by_country.keys()"
   ]
  },
  {
   "cell_type": "code",
<<<<<<< HEAD
   "execution_count": 11,
=======
<<<<<<< HEAD
   "execution_count": 11,
   "metadata": {
    "collapsed": false
   },
=======
   "execution_count": 48,
>>>>>>> cdd5beb57dbf76209559c684e2c40684d8fda8b5
   "metadata": {},
>>>>>>> origin/master
   "outputs": [
    {
     "data": {
      "text/plain": [
       "dict_keys(['PE', 'ETU', 'ETR', 'GBR', 'SW', 'SP', 'GN', 'USW', 'KE', 'GBU'])"
      ]
     },
<<<<<<< HEAD
     "execution_count": 11,
=======
<<<<<<< HEAD
     "execution_count": 11,
=======
     "execution_count": 48,
>>>>>>> origin/master
>>>>>>> cdd5beb57dbf76209559c684e2c40684d8fda8b5
     "metadata": {},
     "output_type": "execute_result"
    }
   ],
   "source": [
    "GC_content_by_country.keys()"
   ]
  },
  {
   "cell_type": "code",
<<<<<<< HEAD
   "execution_count": 12,
=======
<<<<<<< HEAD
   "execution_count": 12,
   "metadata": {
    "collapsed": false
   },
   "outputs": [
    {
     "ename": "ValueError",
     "evalue": "could not convert string to float: ETR",
     "output_type": "error",
     "traceback": [
      "\u001b[0;31m---------------------------------------------------------------------------\u001b[0m",
      "\u001b[0;31mValueError\u001b[0m                                Traceback (most recent call last)",
      "\u001b[0;32m<ipython-input-12-f0c24ecf230e>\u001b[0m in \u001b[0;36m<module>\u001b[0;34m()\u001b[0m\n\u001b[1;32m      3\u001b[0m \u001b[0mcountries\u001b[0m \u001b[0;34m=\u001b[0m \u001b[0mGC_content_by_country\u001b[0m\u001b[0;34m.\u001b[0m\u001b[0mkeys\u001b[0m\u001b[0;34m(\u001b[0m\u001b[0;34m)\u001b[0m\u001b[0;34m\u001b[0m\u001b[0m\n\u001b[1;32m      4\u001b[0m \u001b[0mmeans\u001b[0m \u001b[0;34m=\u001b[0m \u001b[0;34m[\u001b[0m \u001b[0mnp\u001b[0m\u001b[0;34m.\u001b[0m\u001b[0mmean\u001b[0m\u001b[0;34m(\u001b[0m\u001b[0mGC_content_by_country\u001b[0m\u001b[0;34m[\u001b[0m\u001b[0mc\u001b[0m\u001b[0;34m]\u001b[0m\u001b[0;34m)\u001b[0m \u001b[0;32mfor\u001b[0m \u001b[0mc\u001b[0m \u001b[0;32min\u001b[0m \u001b[0mcountries\u001b[0m\u001b[0;34m]\u001b[0m\u001b[0;34m\u001b[0m\u001b[0m\n\u001b[0;32m----> 5\u001b[0;31m \u001b[0mx\u001b[0m \u001b[0;34m=\u001b[0m \u001b[0mplt\u001b[0m\u001b[0;34m.\u001b[0m\u001b[0mplot\u001b[0m\u001b[0;34m(\u001b[0m\u001b[0mcountries\u001b[0m\u001b[0;34m,\u001b[0m \u001b[0mmeans\u001b[0m\u001b[0;34m,\u001b[0m \u001b[0;34m'o'\u001b[0m\u001b[0;34m)\u001b[0m\u001b[0;34m\u001b[0m\u001b[0m\n\u001b[0m\u001b[1;32m      6\u001b[0m \u001b[0mplt\u001b[0m\u001b[0;34m.\u001b[0m\u001b[0mtitle\u001b[0m\u001b[0;34m(\u001b[0m\u001b[0;34m'Average GC content of oligo genes by country'\u001b[0m\u001b[0;34m)\u001b[0m\u001b[0;34m\u001b[0m\u001b[0m\n\u001b[1;32m      7\u001b[0m \u001b[0mplt\u001b[0m\u001b[0;34m.\u001b[0m\u001b[0mylabel\u001b[0m\u001b[0;34m(\u001b[0m\u001b[0;34m'Average GC content'\u001b[0m\u001b[0;34m)\u001b[0m\u001b[0;34m\u001b[0m\u001b[0m\n",
      "\u001b[0;32m/usr/local/lib/python2.7/site-packages/matplotlib/pyplot.pyc\u001b[0m in \u001b[0;36mplot\u001b[0;34m(*args, **kwargs)\u001b[0m\n\u001b[1;32m   3152\u001b[0m         \u001b[0max\u001b[0m\u001b[0;34m.\u001b[0m\u001b[0mhold\u001b[0m\u001b[0;34m(\u001b[0m\u001b[0mhold\u001b[0m\u001b[0;34m)\u001b[0m\u001b[0;34m\u001b[0m\u001b[0m\n\u001b[1;32m   3153\u001b[0m     \u001b[0;32mtry\u001b[0m\u001b[0;34m:\u001b[0m\u001b[0;34m\u001b[0m\u001b[0m\n\u001b[0;32m-> 3154\u001b[0;31m         \u001b[0mret\u001b[0m \u001b[0;34m=\u001b[0m \u001b[0max\u001b[0m\u001b[0;34m.\u001b[0m\u001b[0mplot\u001b[0m\u001b[0;34m(\u001b[0m\u001b[0;34m*\u001b[0m\u001b[0margs\u001b[0m\u001b[0;34m,\u001b[0m \u001b[0;34m**\u001b[0m\u001b[0mkwargs\u001b[0m\u001b[0;34m)\u001b[0m\u001b[0;34m\u001b[0m\u001b[0m\n\u001b[0m\u001b[1;32m   3155\u001b[0m     \u001b[0;32mfinally\u001b[0m\u001b[0;34m:\u001b[0m\u001b[0;34m\u001b[0m\u001b[0m\n\u001b[1;32m   3156\u001b[0m         \u001b[0max\u001b[0m\u001b[0;34m.\u001b[0m\u001b[0mhold\u001b[0m\u001b[0;34m(\u001b[0m\u001b[0mwashold\u001b[0m\u001b[0;34m)\u001b[0m\u001b[0;34m\u001b[0m\u001b[0m\n",
      "\u001b[0;32m/usr/local/lib/python2.7/site-packages/matplotlib/__init__.pyc\u001b[0m in \u001b[0;36minner\u001b[0;34m(ax, *args, **kwargs)\u001b[0m\n\u001b[1;32m   1810\u001b[0m                     warnings.warn(msg % (label_namer, func.__name__),\n\u001b[1;32m   1811\u001b[0m                                   RuntimeWarning, stacklevel=2)\n\u001b[0;32m-> 1812\u001b[0;31m             \u001b[0;32mreturn\u001b[0m \u001b[0mfunc\u001b[0m\u001b[0;34m(\u001b[0m\u001b[0max\u001b[0m\u001b[0;34m,\u001b[0m \u001b[0;34m*\u001b[0m\u001b[0margs\u001b[0m\u001b[0;34m,\u001b[0m \u001b[0;34m**\u001b[0m\u001b[0mkwargs\u001b[0m\u001b[0;34m)\u001b[0m\u001b[0;34m\u001b[0m\u001b[0m\n\u001b[0m\u001b[1;32m   1813\u001b[0m         \u001b[0mpre_doc\u001b[0m \u001b[0;34m=\u001b[0m \u001b[0minner\u001b[0m\u001b[0;34m.\u001b[0m\u001b[0m__doc__\u001b[0m\u001b[0;34m\u001b[0m\u001b[0m\n\u001b[1;32m   1814\u001b[0m         \u001b[0;32mif\u001b[0m \u001b[0mpre_doc\u001b[0m \u001b[0;32mis\u001b[0m \u001b[0mNone\u001b[0m\u001b[0;34m:\u001b[0m\u001b[0;34m\u001b[0m\u001b[0m\n",
      "\u001b[0;32m/usr/local/lib/python2.7/site-packages/matplotlib/axes/_axes.pyc\u001b[0m in \u001b[0;36mplot\u001b[0;34m(self, *args, **kwargs)\u001b[0m\n\u001b[1;32m   1423\u001b[0m \u001b[0;34m\u001b[0m\u001b[0m\n\u001b[1;32m   1424\u001b[0m         \u001b[0;32mfor\u001b[0m \u001b[0mline\u001b[0m \u001b[0;32min\u001b[0m \u001b[0mself\u001b[0m\u001b[0;34m.\u001b[0m\u001b[0m_get_lines\u001b[0m\u001b[0;34m(\u001b[0m\u001b[0;34m*\u001b[0m\u001b[0margs\u001b[0m\u001b[0;34m,\u001b[0m \u001b[0;34m**\u001b[0m\u001b[0mkwargs\u001b[0m\u001b[0;34m)\u001b[0m\u001b[0;34m:\u001b[0m\u001b[0;34m\u001b[0m\u001b[0m\n\u001b[0;32m-> 1425\u001b[0;31m             \u001b[0mself\u001b[0m\u001b[0;34m.\u001b[0m\u001b[0madd_line\u001b[0m\u001b[0;34m(\u001b[0m\u001b[0mline\u001b[0m\u001b[0;34m)\u001b[0m\u001b[0;34m\u001b[0m\u001b[0m\n\u001b[0m\u001b[1;32m   1426\u001b[0m             \u001b[0mlines\u001b[0m\u001b[0;34m.\u001b[0m\u001b[0mappend\u001b[0m\u001b[0;34m(\u001b[0m\u001b[0mline\u001b[0m\u001b[0;34m)\u001b[0m\u001b[0;34m\u001b[0m\u001b[0m\n\u001b[1;32m   1427\u001b[0m \u001b[0;34m\u001b[0m\u001b[0m\n",
      "\u001b[0;32m/usr/local/lib/python2.7/site-packages/matplotlib/axes/_base.pyc\u001b[0m in \u001b[0;36madd_line\u001b[0;34m(self, line)\u001b[0m\n\u001b[1;32m   1706\u001b[0m             \u001b[0mline\u001b[0m\u001b[0;34m.\u001b[0m\u001b[0mset_clip_path\u001b[0m\u001b[0;34m(\u001b[0m\u001b[0mself\u001b[0m\u001b[0;34m.\u001b[0m\u001b[0mpatch\u001b[0m\u001b[0;34m)\u001b[0m\u001b[0;34m\u001b[0m\u001b[0m\n\u001b[1;32m   1707\u001b[0m \u001b[0;34m\u001b[0m\u001b[0m\n\u001b[0;32m-> 1708\u001b[0;31m         \u001b[0mself\u001b[0m\u001b[0;34m.\u001b[0m\u001b[0m_update_line_limits\u001b[0m\u001b[0;34m(\u001b[0m\u001b[0mline\u001b[0m\u001b[0;34m)\u001b[0m\u001b[0;34m\u001b[0m\u001b[0m\n\u001b[0m\u001b[1;32m   1709\u001b[0m         \u001b[0;32mif\u001b[0m \u001b[0;32mnot\u001b[0m \u001b[0mline\u001b[0m\u001b[0;34m.\u001b[0m\u001b[0mget_label\u001b[0m\u001b[0;34m(\u001b[0m\u001b[0;34m)\u001b[0m\u001b[0;34m:\u001b[0m\u001b[0;34m\u001b[0m\u001b[0m\n\u001b[1;32m   1710\u001b[0m             \u001b[0mline\u001b[0m\u001b[0;34m.\u001b[0m\u001b[0mset_label\u001b[0m\u001b[0;34m(\u001b[0m\u001b[0;34m'_line%d'\u001b[0m \u001b[0;34m%\u001b[0m \u001b[0mlen\u001b[0m\u001b[0;34m(\u001b[0m\u001b[0mself\u001b[0m\u001b[0;34m.\u001b[0m\u001b[0mlines\u001b[0m\u001b[0;34m)\u001b[0m\u001b[0;34m)\u001b[0m\u001b[0;34m\u001b[0m\u001b[0m\n",
      "\u001b[0;32m/usr/local/lib/python2.7/site-packages/matplotlib/axes/_base.pyc\u001b[0m in \u001b[0;36m_update_line_limits\u001b[0;34m(self, line)\u001b[0m\n\u001b[1;32m   1728\u001b[0m         \u001b[0mFigures\u001b[0m \u001b[0mout\u001b[0m \u001b[0mthe\u001b[0m \u001b[0mdata\u001b[0m \u001b[0mlimit\u001b[0m \u001b[0mof\u001b[0m \u001b[0mthe\u001b[0m \u001b[0mgiven\u001b[0m \u001b[0mline\u001b[0m\u001b[0;34m,\u001b[0m \u001b[0mupdating\u001b[0m \u001b[0mself\u001b[0m\u001b[0;34m.\u001b[0m\u001b[0mdataLim\u001b[0m\u001b[0;34m.\u001b[0m\u001b[0;34m\u001b[0m\u001b[0m\n\u001b[1;32m   1729\u001b[0m         \"\"\"\n\u001b[0;32m-> 1730\u001b[0;31m         \u001b[0mpath\u001b[0m \u001b[0;34m=\u001b[0m \u001b[0mline\u001b[0m\u001b[0;34m.\u001b[0m\u001b[0mget_path\u001b[0m\u001b[0;34m(\u001b[0m\u001b[0;34m)\u001b[0m\u001b[0;34m\u001b[0m\u001b[0m\n\u001b[0m\u001b[1;32m   1731\u001b[0m         \u001b[0;32mif\u001b[0m \u001b[0mpath\u001b[0m\u001b[0;34m.\u001b[0m\u001b[0mvertices\u001b[0m\u001b[0;34m.\u001b[0m\u001b[0msize\u001b[0m \u001b[0;34m==\u001b[0m \u001b[0;36m0\u001b[0m\u001b[0;34m:\u001b[0m\u001b[0;34m\u001b[0m\u001b[0m\n\u001b[1;32m   1732\u001b[0m             \u001b[0;32mreturn\u001b[0m\u001b[0;34m\u001b[0m\u001b[0m\n",
      "\u001b[0;32m/usr/local/lib/python2.7/site-packages/matplotlib/lines.pyc\u001b[0m in \u001b[0;36mget_path\u001b[0;34m(self)\u001b[0m\n\u001b[1;32m    923\u001b[0m         \"\"\"\n\u001b[1;32m    924\u001b[0m         \u001b[0;32mif\u001b[0m \u001b[0mself\u001b[0m\u001b[0;34m.\u001b[0m\u001b[0m_invalidy\u001b[0m \u001b[0;32mor\u001b[0m \u001b[0mself\u001b[0m\u001b[0;34m.\u001b[0m\u001b[0m_invalidx\u001b[0m\u001b[0;34m:\u001b[0m\u001b[0;34m\u001b[0m\u001b[0m\n\u001b[0;32m--> 925\u001b[0;31m             \u001b[0mself\u001b[0m\u001b[0;34m.\u001b[0m\u001b[0mrecache\u001b[0m\u001b[0;34m(\u001b[0m\u001b[0;34m)\u001b[0m\u001b[0;34m\u001b[0m\u001b[0m\n\u001b[0m\u001b[1;32m    926\u001b[0m         \u001b[0;32mreturn\u001b[0m \u001b[0mself\u001b[0m\u001b[0;34m.\u001b[0m\u001b[0m_path\u001b[0m\u001b[0;34m\u001b[0m\u001b[0m\n\u001b[1;32m    927\u001b[0m \u001b[0;34m\u001b[0m\u001b[0m\n",
      "\u001b[0;32m/usr/local/lib/python2.7/site-packages/matplotlib/lines.pyc\u001b[0m in \u001b[0;36mrecache\u001b[0;34m(self, always)\u001b[0m\n\u001b[1;32m    610\u001b[0m                 \u001b[0mx\u001b[0m \u001b[0;34m=\u001b[0m \u001b[0mma\u001b[0m\u001b[0;34m.\u001b[0m\u001b[0masarray\u001b[0m\u001b[0;34m(\u001b[0m\u001b[0mxconv\u001b[0m\u001b[0;34m,\u001b[0m \u001b[0mnp\u001b[0m\u001b[0;34m.\u001b[0m\u001b[0mfloat_\u001b[0m\u001b[0;34m)\u001b[0m\u001b[0;34m.\u001b[0m\u001b[0mfilled\u001b[0m\u001b[0;34m(\u001b[0m\u001b[0mnp\u001b[0m\u001b[0;34m.\u001b[0m\u001b[0mnan\u001b[0m\u001b[0;34m)\u001b[0m\u001b[0;34m\u001b[0m\u001b[0m\n\u001b[1;32m    611\u001b[0m             \u001b[0;32melse\u001b[0m\u001b[0;34m:\u001b[0m\u001b[0;34m\u001b[0m\u001b[0m\n\u001b[0;32m--> 612\u001b[0;31m                 \u001b[0mx\u001b[0m \u001b[0;34m=\u001b[0m \u001b[0mnp\u001b[0m\u001b[0;34m.\u001b[0m\u001b[0masarray\u001b[0m\u001b[0;34m(\u001b[0m\u001b[0mxconv\u001b[0m\u001b[0;34m,\u001b[0m \u001b[0mnp\u001b[0m\u001b[0;34m.\u001b[0m\u001b[0mfloat_\u001b[0m\u001b[0;34m)\u001b[0m\u001b[0;34m\u001b[0m\u001b[0m\n\u001b[0m\u001b[1;32m    613\u001b[0m             \u001b[0mx\u001b[0m \u001b[0;34m=\u001b[0m \u001b[0mx\u001b[0m\u001b[0;34m.\u001b[0m\u001b[0mravel\u001b[0m\u001b[0;34m(\u001b[0m\u001b[0;34m)\u001b[0m\u001b[0;34m\u001b[0m\u001b[0m\n\u001b[1;32m    614\u001b[0m         \u001b[0;32melse\u001b[0m\u001b[0;34m:\u001b[0m\u001b[0;34m\u001b[0m\u001b[0m\n",
      "\u001b[0;32m/usr/local/lib/python2.7/site-packages/numpy/core/numeric.pyc\u001b[0m in \u001b[0;36masarray\u001b[0;34m(a, dtype, order)\u001b[0m\n\u001b[1;32m    480\u001b[0m \u001b[0;34m\u001b[0m\u001b[0m\n\u001b[1;32m    481\u001b[0m     \"\"\"\n\u001b[0;32m--> 482\u001b[0;31m     \u001b[0;32mreturn\u001b[0m \u001b[0marray\u001b[0m\u001b[0;34m(\u001b[0m\u001b[0ma\u001b[0m\u001b[0;34m,\u001b[0m \u001b[0mdtype\u001b[0m\u001b[0;34m,\u001b[0m \u001b[0mcopy\u001b[0m\u001b[0;34m=\u001b[0m\u001b[0mFalse\u001b[0m\u001b[0;34m,\u001b[0m \u001b[0morder\u001b[0m\u001b[0;34m=\u001b[0m\u001b[0morder\u001b[0m\u001b[0;34m)\u001b[0m\u001b[0;34m\u001b[0m\u001b[0m\n\u001b[0m\u001b[1;32m    483\u001b[0m \u001b[0;34m\u001b[0m\u001b[0m\n\u001b[1;32m    484\u001b[0m \u001b[0;32mdef\u001b[0m \u001b[0masanyarray\u001b[0m\u001b[0;34m(\u001b[0m\u001b[0ma\u001b[0m\u001b[0;34m,\u001b[0m \u001b[0mdtype\u001b[0m\u001b[0;34m=\u001b[0m\u001b[0mNone\u001b[0m\u001b[0;34m,\u001b[0m \u001b[0morder\u001b[0m\u001b[0;34m=\u001b[0m\u001b[0mNone\u001b[0m\u001b[0;34m)\u001b[0m\u001b[0;34m:\u001b[0m\u001b[0;34m\u001b[0m\u001b[0m\n",
      "\u001b[0;31mValueError\u001b[0m: could not convert string to float: ETR"
     ]
=======
   "execution_count": 49,
>>>>>>> cdd5beb57dbf76209559c684e2c40684d8fda8b5
   "metadata": {},
   "outputs": [
    {
     "data": {
      "text/plain": [
       "Text(0.5,0,'Country')"
      ]
     },
     "execution_count": 12,
     "metadata": {},
     "output_type": "execute_result"
>>>>>>> origin/master
    },
    {
     "data": {
      "image/png": "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\n",
      "text/plain": [
<<<<<<< HEAD
       "<matplotlib.figure.Figure at 0x10e0bcfd0>"
=======
       "<Figure size 432x288 with 1 Axes>"
>>>>>>> origin/master
      ]
     },
     "metadata": {},
     "output_type": "display_data"
    }
   ],
   "source": [
    "\n",
    "\n",
    "countries = GC_content_by_country.keys()\n",
    "means = [ np.mean(GC_content_by_country[c]) for c in countries]\n",
    "x = plt.plot(countries, means, 'o')\n",
    "plt.title('Average GC content of oligo genes by country')\n",
    "plt.ylabel('Average GC content')\n",
    "plt.xlabel('Country')"
   ]
  },
  {
   "cell_type": "markdown",
   "metadata": {},
   "source": [
    "## In pandas"
   ]
  },
  {
   "cell_type": "markdown",
   "metadata": {},
   "source": [
    "### Creating a DataFrame\n",
    "\n",
    "\n",
    "There are many ways. Here we use a list. See the book for more."
   ]
  },
  {
   "cell_type": "code",
<<<<<<< HEAD
   "execution_count": 13,
=======
<<<<<<< HEAD
   "execution_count": 23,
   "metadata": {
    "collapsed": true
   },
=======
   "execution_count": 50,
>>>>>>> cdd5beb57dbf76209559c684e2c40684d8fda8b5
   "metadata": {},
>>>>>>> origin/master
   "outputs": [],
   "source": [
    "# create DataFrame from list of summary data\n",
    "all_data = pd.DataFrame(milk_summary_data[1:],columns=milk_summary_data[0]\n",
    "                        \n",
    "                       )\n",
    "all_data = all_data.set_index('spot_id')"
   ]
  },
  {
   "cell_type": "code",
<<<<<<< HEAD
   "execution_count": 14,
=======
<<<<<<< HEAD
   "execution_count": 24,
   "metadata": {
    "collapsed": true
   },
=======
   "execution_count": 51,
>>>>>>> cdd5beb57dbf76209559c684e2c40684d8fda8b5
   "metadata": {},
   "outputs": [],
   "source": [
    "#print(all_data)"
   ]
  },
  {
   "cell_type": "code",
   "execution_count": 15,
   "metadata": {},
>>>>>>> origin/master
   "outputs": [],
   "source": [
    "all_data = DataFrame(milk_summary_data[1:],   # faster\n",
    "                        columns=milk_summary_data[0],\n",
    "                       )\n",
    "all_data = all_data.set_index('spot_id')"
   ]
  },
  {
   "cell_type": "code",
<<<<<<< HEAD
   "execution_count": 16,
=======
<<<<<<< HEAD
   "execution_count": 25,
   "metadata": {
    "collapsed": false
   },
=======
   "execution_count": 53,
>>>>>>> cdd5beb57dbf76209559c684e2c40684d8fda8b5
   "metadata": {},
>>>>>>> origin/master
   "outputs": [
    {
     "data": {
      "text/html": [
       "<div>\n",
       "<style scoped>\n",
       "    .dataframe tbody tr th:only-of-type {\n",
       "        vertical-align: middle;\n",
       "    }\n",
       "\n",
       "    .dataframe tbody tr th {\n",
       "        vertical-align: top;\n",
       "    }\n",
       "\n",
       "    .dataframe thead th {\n",
       "        text-align: right;\n",
       "    }\n",
       "</style>\n",
       "<table border=\"1\" class=\"dataframe\">\n",
       "  <thead>\n",
       "    <tr style=\"text-align: right;\">\n",
       "      <th></th>\n",
       "      <th>runtype</th>\n",
       "      <th>sample_id</th>\n",
       "      <th>forward_primer</th>\n",
       "      <th>reverse_primer</th>\n",
       "      <th>read_id</th>\n",
       "      <th>gc_content</th>\n",
       "      <th>country</th>\n",
       "      <th>gene_id</th>\n",
       "    </tr>\n",
       "    <tr>\n",
       "      <th>spot_id</th>\n",
       "      <th></th>\n",
       "      <th></th>\n",
       "      <th></th>\n",
       "      <th></th>\n",
       "      <th></th>\n",
       "      <th></th>\n",
       "      <th></th>\n",
       "      <th></th>\n",
       "    </tr>\n",
       "  </thead>\n",
       "  <tbody>\n",
       "    <tr>\n",
       "      <th>16998-1719</th>\n",
       "      <td>MISEQ</td>\n",
       "      <td>PE716</td>\n",
       "      <td>TTGACCCT</td>\n",
       "      <td>TAGACCTA</td>\n",
       "      <td>ST6_21_F</td>\n",
       "      <td>0.287770</td>\n",
       "      <td>PE</td>\n",
       "      <td>ST6</td>\n",
       "    </tr>\n",
       "    <tr>\n",
       "      <th>9172-1724</th>\n",
       "      <td>MISEQ</td>\n",
       "      <td>PE714</td>\n",
       "      <td>TTGACCCT</td>\n",
       "      <td>CTAGAACA</td>\n",
       "      <td>ST6_12_F</td>\n",
       "      <td>0.384342</td>\n",
       "      <td>PE</td>\n",
       "      <td>ST6</td>\n",
       "    </tr>\n",
       "    <tr>\n",
       "      <th>17068-1733</th>\n",
       "      <td>MISEQ</td>\n",
       "      <td>ETU011</td>\n",
       "      <td>GTCGTGAT</td>\n",
       "      <td>CTAAGCCT</td>\n",
       "      <td>ST6_16_F</td>\n",
       "      <td>0.395683</td>\n",
       "      <td>ETU</td>\n",
       "      <td>ST6</td>\n",
       "    </tr>\n",
       "    <tr>\n",
       "      <th>20217-1738</th>\n",
       "      <td>MISEQ</td>\n",
       "      <td>ETR208</td>\n",
       "      <td>ACCACTGT</td>\n",
       "      <td>TGCTCTGA</td>\n",
       "      <td>ST6_10_F</td>\n",
       "      <td>0.315412</td>\n",
       "      <td>ETR</td>\n",
       "      <td>ST6</td>\n",
       "    </tr>\n",
       "    <tr>\n",
       "      <th>9687-1743</th>\n",
       "      <td>MISEQ</td>\n",
       "      <td>PE731</td>\n",
       "      <td>CCACTCCT</td>\n",
       "      <td>TAGGAGTA</td>\n",
       "      <td>ST6_25_F</td>\n",
       "      <td>0.380783</td>\n",
       "      <td>PE</td>\n",
       "      <td>ST6</td>\n",
       "    </tr>\n",
       "  </tbody>\n",
       "</table>\n",
       "</div>"
      ],
      "text/plain": [
       "           runtype sample_id forward_primer reverse_primer   read_id  \\\n",
       "spot_id                                                                \n",
       "16998-1719   MISEQ     PE716       TTGACCCT       TAGACCTA  ST6_21_F   \n",
       "9172-1724    MISEQ     PE714       TTGACCCT       CTAGAACA  ST6_12_F   \n",
       "17068-1733   MISEQ    ETU011       GTCGTGAT       CTAAGCCT  ST6_16_F   \n",
       "20217-1738   MISEQ    ETR208       ACCACTGT       TGCTCTGA  ST6_10_F   \n",
       "9687-1743    MISEQ     PE731       CCACTCCT       TAGGAGTA  ST6_25_F   \n",
       "\n",
       "            gc_content country gene_id  \n",
       "spot_id                                 \n",
       "16998-1719    0.287770      PE     ST6  \n",
       "9172-1724     0.384342      PE     ST6  \n",
       "17068-1733    0.395683     ETU     ST6  \n",
       "20217-1738    0.315412     ETR     ST6  \n",
       "9687-1743     0.380783      PE     ST6  "
      ]
     },
<<<<<<< HEAD
     "execution_count": 16,
=======
<<<<<<< HEAD
     "execution_count": 25,
=======
     "execution_count": 53,
>>>>>>> origin/master
>>>>>>> cdd5beb57dbf76209559c684e2c40684d8fda8b5
     "metadata": {},
     "output_type": "execute_result"
    }
   ],
   "source": [
    "# Note Index and columns\n",
    "all_data.head()\n"
   ]
  },
  {
   "cell_type": "code",
<<<<<<< HEAD
   "execution_count": 17,
=======
<<<<<<< HEAD
   "execution_count": 26,
   "metadata": {
    "collapsed": false
   },
=======
   "execution_count": 54,
>>>>>>> cdd5beb57dbf76209559c684e2c40684d8fda8b5
   "metadata": {},
>>>>>>> origin/master
   "outputs": [
    {
     "data": {
      "text/html": [
       "<div>\n",
       "<style scoped>\n",
       "    .dataframe tbody tr th:only-of-type {\n",
       "        vertical-align: middle;\n",
       "    }\n",
       "\n",
       "    .dataframe tbody tr th {\n",
       "        vertical-align: top;\n",
       "    }\n",
       "\n",
       "    .dataframe thead th {\n",
       "        text-align: right;\n",
       "    }\n",
       "</style>\n",
       "<table border=\"1\" class=\"dataframe\">\n",
       "  <thead>\n",
       "    <tr style=\"text-align: right;\">\n",
       "      <th></th>\n",
       "      <th>runtype</th>\n",
       "      <th>sample_id</th>\n",
       "      <th>forward_primer</th>\n",
       "      <th>reverse_primer</th>\n",
       "      <th>read_id</th>\n",
       "      <th>gc_content</th>\n",
       "      <th>country</th>\n",
       "      <th>gene_id</th>\n",
       "    </tr>\n",
       "    <tr>\n",
       "      <th>spot_id</th>\n",
       "      <th></th>\n",
       "      <th></th>\n",
       "      <th></th>\n",
       "      <th></th>\n",
       "      <th></th>\n",
       "      <th></th>\n",
       "      <th></th>\n",
       "      <th></th>\n",
       "    </tr>\n",
       "  </thead>\n",
       "  <tbody>\n",
       "    <tr>\n",
       "      <th>16998-1719</th>\n",
       "      <td>MISEQ</td>\n",
       "      <td>PE716</td>\n",
       "      <td>TTGACCCT</td>\n",
       "      <td>TAGACCTA</td>\n",
       "      <td>ST6_21_F</td>\n",
       "      <td>0.287770</td>\n",
       "      <td>PE</td>\n",
       "      <td>ST6</td>\n",
       "    </tr>\n",
       "    <tr>\n",
       "      <th>9172-1724</th>\n",
       "      <td>MISEQ</td>\n",
       "      <td>PE714</td>\n",
       "      <td>TTGACCCT</td>\n",
       "      <td>CTAGAACA</td>\n",
       "      <td>ST6_12_F</td>\n",
       "      <td>0.384342</td>\n",
       "      <td>PE</td>\n",
       "      <td>ST6</td>\n",
       "    </tr>\n",
       "    <tr>\n",
       "      <th>17068-1733</th>\n",
       "      <td>MISEQ</td>\n",
       "      <td>ETU011</td>\n",
       "      <td>GTCGTGAT</td>\n",
       "      <td>CTAAGCCT</td>\n",
       "      <td>ST6_16_F</td>\n",
       "      <td>0.395683</td>\n",
       "      <td>ETU</td>\n",
       "      <td>ST6</td>\n",
       "    </tr>\n",
       "  </tbody>\n",
       "</table>\n",
       "</div>"
      ],
      "text/plain": [
       "           runtype sample_id forward_primer reverse_primer   read_id  \\\n",
       "spot_id                                                                \n",
       "16998-1719   MISEQ     PE716       TTGACCCT       TAGACCTA  ST6_21_F   \n",
       "9172-1724    MISEQ     PE714       TTGACCCT       CTAGAACA  ST6_12_F   \n",
       "17068-1733   MISEQ    ETU011       GTCGTGAT       CTAAGCCT  ST6_16_F   \n",
       "\n",
       "            gc_content country gene_id  \n",
       "spot_id                                 \n",
       "16998-1719    0.287770      PE     ST6  \n",
       "9172-1724     0.384342      PE     ST6  \n",
       "17068-1733    0.395683     ETU     ST6  "
      ]
     },
<<<<<<< HEAD
     "execution_count": 17,
=======
<<<<<<< HEAD
     "execution_count": 26,
=======
     "execution_count": 54,
>>>>>>> origin/master
>>>>>>> cdd5beb57dbf76209559c684e2c40684d8fda8b5
     "metadata": {},
     "output_type": "execute_result"
    }
   ],
   "source": [
    "all_data.head(n=3) # frist 3 row"
   ]
  },
  {
   "cell_type": "code",
   "execution_count": null,
   "metadata": {},
   "outputs": [],
   "source": []
  },
  {
   "cell_type": "markdown",
   "metadata": {},
   "source": [
    "#### Index object\n",
    "\n",
    "The Index contains and returns information about the way rows are named and constituted."
   ]
  },
  {
   "cell_type": "code",
<<<<<<< HEAD
   "execution_count": 18,
=======
<<<<<<< HEAD
   "execution_count": 27,
   "metadata": {
    "collapsed": false
   },
=======
   "execution_count": 55,
>>>>>>> cdd5beb57dbf76209559c684e2c40684d8fda8b5
   "metadata": {},
>>>>>>> origin/master
   "outputs": [
    {
     "data": {
      "text/plain": [
       "Index(['16998-1719', '9172-1724', '17068-1733', '20217-1738', '9687-1743',\n",
       "       '12088-1744', '19205-1746', '12620-1755', '13772-1757', '11827-1761',\n",
       "       ...\n",
       "       '10674-2819', '15015-2820', '24207-2821', '19898-2821', '24726-2821',\n",
       "       '15288-2823', '10554-2823', '16830-2823', '22270-2823', '24700-2823'],\n",
       "      dtype='object', name='spot_id', length=2000)"
      ]
     },
<<<<<<< HEAD
     "execution_count": 18,
=======
<<<<<<< HEAD
     "execution_count": 27,
=======
     "execution_count": 55,
>>>>>>> origin/master
>>>>>>> cdd5beb57dbf76209559c684e2c40684d8fda8b5
     "metadata": {},
     "output_type": "execute_result"
    }
   ],
   "source": [
    "milk_index = all_data.index\n",
    "type(milk_index)\n",
    "#milk_index.  # introspect to see what all is there. Lots\n",
    "milk_index"
   ]
  },
  {
   "cell_type": "markdown",
   "metadata": {},
   "source": [
    "### Inside a DataFrame"
   ]
  },
  {
   "cell_type": "code",
<<<<<<< HEAD
   "execution_count": 19,
=======
<<<<<<< HEAD
   "execution_count": 28,
   "metadata": {
    "collapsed": false
   },
=======
   "execution_count": 56,
>>>>>>> cdd5beb57dbf76209559c684e2c40684d8fda8b5
   "metadata": {},
>>>>>>> origin/master
   "outputs": [
    {
     "data": {
      "text/plain": [
<<<<<<< HEAD
       "array([['MISEQ', 'PE716', 'TTGACCCT', ..., 0.28776978417266186, 'PE', 'ST6'],\n",
       "       ['MISEQ', 'PE714', 'TTGACCCT', ..., 0.38434163701067614, 'PE', 'ST6'],\n",
       "       ['MISEQ', 'ETU011', 'GTCGTGAT', ..., 0.39568345323741005, 'ETU',\n",
       "        'ST6'],\n",
       "       ..., \n",
       "       ['MISEQ', 'PE709', 'TTGACCCT', ..., 0.6690391459074733, 'PE', 'FUT3'],\n",
       "       ['MISEQ', 'ETU038', 'ACCACTGT', ..., 0.4028268551236749, 'ETU',\n",
       "        'ST6'],\n",
       "       ['MISEQ', 'PE724', 'TTGACCCT', ..., 0.44244604316546765, 'PE', 'ST6']], dtype=object)"
      ]
     },
     "execution_count": 28,
=======
       "array([['MISEQ', 'PE716', 'TTGACCCT', ..., 0.28776978417266186, 'PE',\n",
       "        'ST6'],\n",
       "       ['MISEQ', 'PE714', 'TTGACCCT', ..., 0.38434163701067614, 'PE',\n",
       "        'ST6'],\n",
       "       ['MISEQ', 'ETU011', 'GTCGTGAT', ..., 0.39568345323741005, 'ETU',\n",
       "        'ST6'],\n",
       "       ...,\n",
       "       ['MISEQ', 'PE709', 'TTGACCCT', ..., 0.6690391459074733, 'PE',\n",
       "        'FUT3'],\n",
       "       ['MISEQ', 'ETU038', 'ACCACTGT', ..., 0.4028268551236749, 'ETU',\n",
       "        'ST6'],\n",
       "       ['MISEQ', 'PE724', 'TTGACCCT', ..., 0.44244604316546765, 'PE',\n",
       "        'ST6']], dtype=object)"
      ]
     },
<<<<<<< HEAD
     "execution_count": 19,
=======
     "execution_count": 56,
>>>>>>> origin/master
>>>>>>> cdd5beb57dbf76209559c684e2c40684d8fda8b5
     "metadata": {},
     "output_type": "execute_result"
    }
   ],
   "source": [
    "####other stuff\n",
    "all_data.values\n",
    "#all_data.   # introspection"
   ]
  },
  {
   "cell_type": "code",
<<<<<<< HEAD
   "execution_count": 20,
=======
<<<<<<< HEAD
   "execution_count": 29,
   "metadata": {
    "collapsed": false
   },
=======
   "execution_count": 57,
>>>>>>> cdd5beb57dbf76209559c684e2c40684d8fda8b5
   "metadata": {},
>>>>>>> origin/master
   "outputs": [
    {
     "data": {
      "text/plain": [
       "Index(['runtype', 'sample_id', 'forward_primer', 'reverse_primer', 'read_id',\n",
       "       'gc_content', 'country', 'gene_id'],\n",
       "      dtype='object')"
      ]
     },
<<<<<<< HEAD
     "execution_count": 20,
=======
<<<<<<< HEAD
     "execution_count": 29,
=======
     "execution_count": 57,
>>>>>>> origin/master
>>>>>>> cdd5beb57dbf76209559c684e2c40684d8fda8b5
     "metadata": {},
     "output_type": "execute_result"
    }
   ],
   "source": [
    "all_data.columns\n",
    "#all_data.index"
   ]
  },
  {
   "cell_type": "markdown",
   "metadata": {},
   "source": [
    "### Working with DataFrame"
   ]
  },
  {
   "cell_type": "markdown",
   "metadata": {},
   "source": [
    "#### Working with columns\n",
    "\n",
    "(We will talk more about working with rows later)"
   ]
  },
  {
   "cell_type": "code",
<<<<<<< HEAD
   "execution_count": 21,
=======
<<<<<<< HEAD
   "execution_count": 30,
   "metadata": {
    "collapsed": false
   },
=======
   "execution_count": 58,
>>>>>>> cdd5beb57dbf76209559c684e2c40684d8fda8b5
   "metadata": {},
>>>>>>> origin/master
   "outputs": [
    {
     "data": {
      "text/html": [
       "<div>\n",
       "<style scoped>\n",
       "    .dataframe tbody tr th:only-of-type {\n",
       "        vertical-align: middle;\n",
       "    }\n",
       "\n",
       "    .dataframe tbody tr th {\n",
       "        vertical-align: top;\n",
       "    }\n",
       "\n",
       "    .dataframe thead th {\n",
       "        text-align: right;\n",
       "    }\n",
       "</style>\n",
       "<table border=\"1\" class=\"dataframe\">\n",
       "  <thead>\n",
       "    <tr style=\"text-align: right;\">\n",
       "      <th></th>\n",
       "      <th>runtype</th>\n",
       "      <th>sample_id</th>\n",
       "      <th>forward_primer</th>\n",
       "      <th>reverse_primer</th>\n",
       "      <th>read_id</th>\n",
       "      <th>gc_content</th>\n",
       "      <th>country</th>\n",
       "      <th>gene_id</th>\n",
       "    </tr>\n",
       "    <tr>\n",
       "      <th>spot_id</th>\n",
       "      <th></th>\n",
       "      <th></th>\n",
       "      <th></th>\n",
       "      <th></th>\n",
       "      <th></th>\n",
       "      <th></th>\n",
       "      <th></th>\n",
       "      <th></th>\n",
       "    </tr>\n",
       "  </thead>\n",
       "  <tbody>\n",
       "    <tr>\n",
       "      <th>16998-1719</th>\n",
       "      <td>MISEQ</td>\n",
       "      <td>PE716</td>\n",
       "      <td>TTGACCCT</td>\n",
       "      <td>TAGACCTA</td>\n",
       "      <td>ST6_21_F</td>\n",
       "      <td>0.287770</td>\n",
       "      <td>PE</td>\n",
       "      <td>ST6</td>\n",
       "    </tr>\n",
       "    <tr>\n",
       "      <th>9172-1724</th>\n",
       "      <td>MISEQ</td>\n",
       "      <td>PE714</td>\n",
       "      <td>TTGACCCT</td>\n",
       "      <td>CTAGAACA</td>\n",
       "      <td>ST6_12_F</td>\n",
       "      <td>0.384342</td>\n",
       "      <td>PE</td>\n",
       "      <td>ST6</td>\n",
       "    </tr>\n",
       "    <tr>\n",
       "      <th>17068-1733</th>\n",
       "      <td>MISEQ</td>\n",
       "      <td>ETU011</td>\n",
       "      <td>GTCGTGAT</td>\n",
       "      <td>CTAAGCCT</td>\n",
       "      <td>ST6_16_F</td>\n",
       "      <td>0.395683</td>\n",
       "      <td>ETU</td>\n",
       "      <td>ST6</td>\n",
       "    </tr>\n",
       "    <tr>\n",
       "      <th>20217-1738</th>\n",
       "      <td>MISEQ</td>\n",
       "      <td>ETR208</td>\n",
       "      <td>ACCACTGT</td>\n",
       "      <td>TGCTCTGA</td>\n",
       "      <td>ST6_10_F</td>\n",
       "      <td>0.315412</td>\n",
       "      <td>ETR</td>\n",
       "      <td>ST6</td>\n",
       "    </tr>\n",
       "    <tr>\n",
       "      <th>9687-1743</th>\n",
       "      <td>MISEQ</td>\n",
       "      <td>PE731</td>\n",
       "      <td>CCACTCCT</td>\n",
       "      <td>TAGGAGTA</td>\n",
       "      <td>ST6_25_F</td>\n",
       "      <td>0.380783</td>\n",
       "      <td>PE</td>\n",
       "      <td>ST6</td>\n",
       "    </tr>\n",
       "  </tbody>\n",
       "</table>\n",
       "</div>"
      ],
      "text/plain": [
       "           runtype sample_id forward_primer reverse_primer   read_id  \\\n",
       "spot_id                                                                \n",
       "16998-1719   MISEQ     PE716       TTGACCCT       TAGACCTA  ST6_21_F   \n",
       "9172-1724    MISEQ     PE714       TTGACCCT       CTAGAACA  ST6_12_F   \n",
       "17068-1733   MISEQ    ETU011       GTCGTGAT       CTAAGCCT  ST6_16_F   \n",
       "20217-1738   MISEQ    ETR208       ACCACTGT       TGCTCTGA  ST6_10_F   \n",
       "9687-1743    MISEQ     PE731       CCACTCCT       TAGGAGTA  ST6_25_F   \n",
       "\n",
       "            gc_content country gene_id  \n",
       "spot_id                                 \n",
       "16998-1719    0.287770      PE     ST6  \n",
       "9172-1724     0.384342      PE     ST6  \n",
       "17068-1733    0.395683     ETU     ST6  \n",
       "20217-1738    0.315412     ETR     ST6  \n",
       "9687-1743     0.380783      PE     ST6  "
      ]
     },
<<<<<<< HEAD
     "execution_count": 21,
=======
<<<<<<< HEAD
     "execution_count": 30,
=======
     "execution_count": 58,
>>>>>>> origin/master
>>>>>>> cdd5beb57dbf76209559c684e2c40684d8fda8b5
     "metadata": {},
     "output_type": "execute_result"
    }
   ],
   "source": [
    "all_data.head()"
   ]
  },
  {
   "cell_type": "code",
<<<<<<< HEAD
   "execution_count": 22,
=======
<<<<<<< HEAD
   "execution_count": 31,
   "metadata": {
    "collapsed": false
   },
=======
   "execution_count": 59,
>>>>>>> cdd5beb57dbf76209559c684e2c40684d8fda8b5
   "metadata": {},
>>>>>>> origin/master
   "outputs": [
    {
     "data": {
      "text/plain": [
       "spot_id\n",
       "16998-1719    ST6\n",
       "9172-1724     ST6\n",
       "17068-1733    ST6\n",
       "20217-1738    ST6\n",
       "9687-1743     ST6\n",
       "Name: gene_id, dtype: object"
      ]
     },
<<<<<<< HEAD
     "execution_count": 22,
=======
<<<<<<< HEAD
     "execution_count": 31,
=======
     "execution_count": 59,
>>>>>>> origin/master
>>>>>>> cdd5beb57dbf76209559c684e2c40684d8fda8b5
     "metadata": {},
     "output_type": "execute_result"
    }
   ],
   "source": [
    "# two ways to access columns\n",
    "all_data['gene_id']   #.head()\n",
    "all_data.gene_id.head()      #.head()"
   ]
  },
  {
   "cell_type": "code",
<<<<<<< HEAD
   "execution_count": 32,
   "metadata": {
    "collapsed": false
   },
=======
   "execution_count": 60,
   "metadata": {},
>>>>>>> origin/master
   "outputs": [
    {
     "data": {
      "text/html": [
       "<div>\n",
       "<style scoped>\n",
       "    .dataframe tbody tr th:only-of-type {\n",
       "        vertical-align: middle;\n",
       "    }\n",
       "\n",
       "    .dataframe tbody tr th {\n",
       "        vertical-align: top;\n",
       "    }\n",
       "\n",
       "    .dataframe thead th {\n",
       "        text-align: right;\n",
       "    }\n",
       "</style>\n",
       "<table border=\"1\" class=\"dataframe\">\n",
       "  <thead>\n",
       "    <tr style=\"text-align: right;\">\n",
       "      <th></th>\n",
       "      <th>country</th>\n",
       "      <th>gene_id</th>\n",
       "    </tr>\n",
       "    <tr>\n",
       "      <th>spot_id</th>\n",
       "      <th></th>\n",
       "      <th></th>\n",
       "    </tr>\n",
       "  </thead>\n",
       "  <tbody>\n",
       "    <tr>\n",
       "      <th>16998-1719</th>\n",
       "      <td>PE</td>\n",
       "      <td>ST6</td>\n",
       "    </tr>\n",
       "    <tr>\n",
       "      <th>9172-1724</th>\n",
       "      <td>PE</td>\n",
       "      <td>ST6</td>\n",
       "    </tr>\n",
       "    <tr>\n",
       "      <th>17068-1733</th>\n",
       "      <td>ETU</td>\n",
       "      <td>ST6</td>\n",
       "    </tr>\n",
       "    <tr>\n",
       "      <th>20217-1738</th>\n",
       "      <td>ETR</td>\n",
       "      <td>ST6</td>\n",
       "    </tr>\n",
       "    <tr>\n",
       "      <th>9687-1743</th>\n",
       "      <td>PE</td>\n",
       "      <td>ST6</td>\n",
       "    </tr>\n",
       "  </tbody>\n",
       "</table>\n",
       "</div>"
      ],
      "text/plain": [
       "           country gene_id\n",
       "spot_id                   \n",
       "16998-1719      PE     ST6\n",
       "9172-1724       PE     ST6\n",
       "17068-1733     ETU     ST6\n",
       "20217-1738     ETR     ST6\n",
       "9687-1743       PE     ST6"
      ]
     },
<<<<<<< HEAD
     "execution_count": 32,
=======
     "execution_count": 60,
>>>>>>> origin/master
     "metadata": {},
     "output_type": "execute_result"
    }
   ],
   "source": [
    "# create new DataFrames by selecting columns\n",
    "new_df = all_data[['country',  'gene_id']].head()\n",
    "new_df\n",
    "#all_data.gene_id.head()"
   ]
  },
  {
   "cell_type": "code",
<<<<<<< HEAD
   "execution_count": 33,
   "metadata": {
    "collapsed": false
   },
=======
   "execution_count": 61,
   "metadata": {},
>>>>>>> origin/master
   "outputs": [
    {
     "name": "stdout",
     "output_type": "stream",
     "text": [
      "genes: {'ST6', 'FUT3', 'FUT2', 'SEC', 'GULOP'}\n",
      "countries: {'KE', 'USW', 'GBR', 'ETU', 'SW', 'PE', 'GN', 'GBU', 'ETR', 'SP'}\n"
     ]
    }
   ],
   "source": [
    "####summary information\n",
    "all_countries = {x for x in all_data['country']}      \n",
    "all_genes = {x for x in all_data['gene_id']}   \n",
    "\n",
    "print('genes: {}\\ncountries: {}'.format(all_genes, all_countries))"
   ]
  },
  {
   "cell_type": "code",
   "execution_count": 62,
   "metadata": {},
   "outputs": [
    {
     "data": {
      "text/html": [
       "<div>\n",
       "<style scoped>\n",
       "    .dataframe tbody tr th:only-of-type {\n",
       "        vertical-align: middle;\n",
       "    }\n",
       "\n",
       "    .dataframe tbody tr th {\n",
       "        vertical-align: top;\n",
       "    }\n",
       "\n",
       "    .dataframe thead th {\n",
       "        text-align: right;\n",
       "    }\n",
       "</style>\n",
       "<table border=\"1\" class=\"dataframe\">\n",
       "  <thead>\n",
       "    <tr style=\"text-align: right;\">\n",
       "      <th></th>\n",
       "      <th>runtype</th>\n",
       "      <th>sample_id</th>\n",
       "      <th>forward_primer</th>\n",
       "      <th>reverse_primer</th>\n",
       "      <th>read_id</th>\n",
       "      <th>gc_content</th>\n",
       "      <th>country</th>\n",
       "      <th>gene_id</th>\n",
       "    </tr>\n",
       "    <tr>\n",
       "      <th>spot_id</th>\n",
       "      <th></th>\n",
       "      <th></th>\n",
       "      <th></th>\n",
       "      <th></th>\n",
       "      <th></th>\n",
       "      <th></th>\n",
       "      <th></th>\n",
       "      <th></th>\n",
       "    </tr>\n",
       "  </thead>\n",
       "  <tbody>\n",
       "    <tr>\n",
       "      <th>16998-1719</th>\n",
       "      <td>MISEQ</td>\n",
       "      <td>PE716</td>\n",
       "      <td>TTGACCCT</td>\n",
       "      <td>TAGACCTA</td>\n",
       "      <td>ST6_21_F</td>\n",
       "      <td>0.287770</td>\n",
       "      <td>PE</td>\n",
       "      <td>ST6</td>\n",
       "    </tr>\n",
       "    <tr>\n",
       "      <th>9172-1724</th>\n",
       "      <td>MISEQ</td>\n",
       "      <td>PE714</td>\n",
       "      <td>TTGACCCT</td>\n",
       "      <td>CTAGAACA</td>\n",
       "      <td>ST6_12_F</td>\n",
       "      <td>0.384342</td>\n",
       "      <td>PE</td>\n",
       "      <td>ST6</td>\n",
       "    </tr>\n",
       "    <tr>\n",
       "      <th>17068-1733</th>\n",
       "      <td>MISEQ</td>\n",
       "      <td>ETU011</td>\n",
       "      <td>GTCGTGAT</td>\n",
       "      <td>CTAAGCCT</td>\n",
       "      <td>ST6_16_F</td>\n",
       "      <td>0.395683</td>\n",
       "      <td>ETU</td>\n",
       "      <td>ST6</td>\n",
       "    </tr>\n",
       "    <tr>\n",
       "      <th>20217-1738</th>\n",
       "      <td>MISEQ</td>\n",
       "      <td>ETR208</td>\n",
       "      <td>ACCACTGT</td>\n",
       "      <td>TGCTCTGA</td>\n",
       "      <td>ST6_10_F</td>\n",
       "      <td>0.315412</td>\n",
       "      <td>ETR</td>\n",
       "      <td>ST6</td>\n",
       "    </tr>\n",
       "    <tr>\n",
       "      <th>9687-1743</th>\n",
       "      <td>MISEQ</td>\n",
       "      <td>PE731</td>\n",
       "      <td>CCACTCCT</td>\n",
       "      <td>TAGGAGTA</td>\n",
       "      <td>ST6_25_F</td>\n",
       "      <td>0.380783</td>\n",
       "      <td>PE</td>\n",
       "      <td>ST6</td>\n",
       "    </tr>\n",
       "  </tbody>\n",
       "</table>\n",
       "</div>"
      ],
      "text/plain": [
       "           runtype sample_id forward_primer reverse_primer   read_id  \\\n",
       "spot_id                                                                \n",
       "16998-1719   MISEQ     PE716       TTGACCCT       TAGACCTA  ST6_21_F   \n",
       "9172-1724    MISEQ     PE714       TTGACCCT       CTAGAACA  ST6_12_F   \n",
       "17068-1733   MISEQ    ETU011       GTCGTGAT       CTAAGCCT  ST6_16_F   \n",
       "20217-1738   MISEQ    ETR208       ACCACTGT       TGCTCTGA  ST6_10_F   \n",
       "9687-1743    MISEQ     PE731       CCACTCCT       TAGGAGTA  ST6_25_F   \n",
       "\n",
       "            gc_content country gene_id  \n",
       "spot_id                                 \n",
       "16998-1719    0.287770      PE     ST6  \n",
       "9172-1724     0.384342      PE     ST6  \n",
       "17068-1733    0.395683     ETU     ST6  \n",
       "20217-1738    0.315412     ETR     ST6  \n",
       "9687-1743     0.380783      PE     ST6  "
      ]
     },
     "execution_count": 62,
     "metadata": {},
     "output_type": "execute_result"
    }
   ],
   "source": [
    "####manipulating columns (from code) add read id, high gc, low gc column\n",
    "all_data.head()"
   ]
  },
  {
   "cell_type": "markdown",
   "metadata": {},
   "source": [
    "it is possible to assign labels to rows and then access the rows by name--for example by using sample IDs."
   ]
  },
  {
   "cell_type": "code",
<<<<<<< HEAD
   "execution_count": 34,
=======
   "execution_count": 63,
>>>>>>> origin/master
   "metadata": {
    "scrolled": true
   },
   "outputs": [
    {
     "data": {
      "text/html": [
       "<div>\n",
       "<style scoped>\n",
       "    .dataframe tbody tr th:only-of-type {\n",
       "        vertical-align: middle;\n",
       "    }\n",
       "\n",
       "    .dataframe tbody tr th {\n",
       "        vertical-align: top;\n",
       "    }\n",
       "\n",
       "    .dataframe thead th {\n",
       "        text-align: right;\n",
       "    }\n",
       "</style>\n",
       "<table border=\"1\" class=\"dataframe\">\n",
       "  <thead>\n",
       "    <tr style=\"text-align: right;\">\n",
       "      <th></th>\n",
       "      <th>runtype</th>\n",
       "      <th>sample_id</th>\n",
       "      <th>forward_primer</th>\n",
       "      <th>reverse_primer</th>\n",
       "      <th>read_id</th>\n",
       "      <th>gc_content</th>\n",
       "      <th>country</th>\n",
       "      <th>gene_id</th>\n",
       "      <th>gene_family</th>\n",
       "      <th>high_GC</th>\n",
       "      <th>low_GC</th>\n",
       "    </tr>\n",
       "    <tr>\n",
       "      <th>spot_id</th>\n",
       "      <th></th>\n",
       "      <th></th>\n",
       "      <th></th>\n",
       "      <th></th>\n",
       "      <th></th>\n",
       "      <th></th>\n",
       "      <th></th>\n",
       "      <th></th>\n",
       "      <th></th>\n",
       "      <th></th>\n",
       "      <th></th>\n",
       "    </tr>\n",
       "  </thead>\n",
       "  <tbody>\n",
       "    <tr>\n",
       "      <th>16998-1719</th>\n",
       "      <td>MISEQ</td>\n",
       "      <td>PE716</td>\n",
       "      <td>TTGACCCT</td>\n",
       "      <td>TAGACCTA</td>\n",
       "      <td>ST6_21_F</td>\n",
       "      <td>0.287770</td>\n",
       "      <td>PE</td>\n",
       "      <td>ST6</td>\n",
       "      <td>ST6</td>\n",
       "      <td>False</td>\n",
       "      <td>True</td>\n",
       "    </tr>\n",
       "    <tr>\n",
       "      <th>9172-1724</th>\n",
       "      <td>MISEQ</td>\n",
       "      <td>PE714</td>\n",
       "      <td>TTGACCCT</td>\n",
       "      <td>CTAGAACA</td>\n",
       "      <td>ST6_12_F</td>\n",
       "      <td>0.384342</td>\n",
       "      <td>PE</td>\n",
       "      <td>ST6</td>\n",
       "      <td>ST6</td>\n",
       "      <td>False</td>\n",
       "      <td>True</td>\n",
       "    </tr>\n",
       "    <tr>\n",
       "      <th>17068-1733</th>\n",
       "      <td>MISEQ</td>\n",
       "      <td>ETU011</td>\n",
       "      <td>GTCGTGAT</td>\n",
       "      <td>CTAAGCCT</td>\n",
       "      <td>ST6_16_F</td>\n",
       "      <td>0.395683</td>\n",
       "      <td>ETU</td>\n",
       "      <td>ST6</td>\n",
       "      <td>ST6</td>\n",
       "      <td>False</td>\n",
       "      <td>True</td>\n",
       "    </tr>\n",
       "    <tr>\n",
       "      <th>20217-1738</th>\n",
       "      <td>MISEQ</td>\n",
       "      <td>ETR208</td>\n",
       "      <td>ACCACTGT</td>\n",
       "      <td>TGCTCTGA</td>\n",
       "      <td>ST6_10_F</td>\n",
       "      <td>0.315412</td>\n",
       "      <td>ETR</td>\n",
       "      <td>ST6</td>\n",
       "      <td>ST6</td>\n",
       "      <td>False</td>\n",
       "      <td>True</td>\n",
       "    </tr>\n",
       "    <tr>\n",
       "      <th>9687-1743</th>\n",
       "      <td>MISEQ</td>\n",
       "      <td>PE731</td>\n",
       "      <td>CCACTCCT</td>\n",
       "      <td>TAGGAGTA</td>\n",
       "      <td>ST6_25_F</td>\n",
       "      <td>0.380783</td>\n",
       "      <td>PE</td>\n",
       "      <td>ST6</td>\n",
       "      <td>ST6</td>\n",
       "      <td>False</td>\n",
       "      <td>True</td>\n",
       "    </tr>\n",
       "  </tbody>\n",
       "</table>\n",
       "</div>"
      ],
      "text/plain": [
       "           runtype sample_id forward_primer reverse_primer   read_id  \\\n",
       "spot_id                                                                \n",
       "16998-1719   MISEQ     PE716       TTGACCCT       TAGACCTA  ST6_21_F   \n",
       "9172-1724    MISEQ     PE714       TTGACCCT       CTAGAACA  ST6_12_F   \n",
       "17068-1733   MISEQ    ETU011       GTCGTGAT       CTAAGCCT  ST6_16_F   \n",
       "20217-1738   MISEQ    ETR208       ACCACTGT       TGCTCTGA  ST6_10_F   \n",
       "9687-1743    MISEQ     PE731       CCACTCCT       TAGGAGTA  ST6_25_F   \n",
       "\n",
<<<<<<< HEAD
       "            gc_content country gene_id gene_family high_GC low_GC  \n",
       "spot_id                                                            \n",
       "16998-1719    0.287770      PE     ST6         ST6   False   True  \n",
       "9172-1724     0.384342      PE     ST6         ST6   False   True  \n",
       "17068-1733    0.395683     ETU     ST6         ST6   False   True  \n",
       "20217-1738    0.315412     ETR     ST6         ST6   False   True  \n",
       "9687-1743     0.380783      PE     ST6         ST6   False   True  "
      ]
     },
     "execution_count": 34,
=======
       "            gc_content country gene_id gene_family  high_GC  low_GC  \n",
       "spot_id                                                              \n",
       "16998-1719    0.287770      PE     ST6         ST6    False    True  \n",
       "9172-1724     0.384342      PE     ST6         ST6    False    True  \n",
       "17068-1733    0.395683     ETU     ST6         ST6    False    True  \n",
       "20217-1738    0.315412     ETR     ST6         ST6    False    True  \n",
       "9687-1743     0.380783      PE     ST6         ST6    False    True  "
      ]
     },
     "execution_count": 63,
>>>>>>> origin/master
     "metadata": {},
     "output_type": "execute_result"
    }
   ],
   "source": [
    "####manipulating columns (from code) add read id, high gc, low gc column\n",
    "all_data.head()\n",
    "all_data['gene_family'] = [x[:x.find('_')] for x in all_data['read_id'] ]\n",
    "\n",
    "all_data['high_GC'] = all_data.gc_content > 0.4\n",
    "all_data['low_GC']  = all_data.gc_content < 0.4\n",
    "\n",
    "all_data.head()"
   ]
  },
  {
   "cell_type": "code",
<<<<<<< HEAD
   "execution_count": 35,
   "metadata": {
    "collapsed": false
   },
=======
   "execution_count": 64,
   "metadata": {},
>>>>>>> origin/master
   "outputs": [
    {
     "data": {
      "text/plain": [
       "spot_id\n",
       "16998-1719    False\n",
       "9172-1724     False\n",
       "17068-1733    False\n",
       "20217-1738    False\n",
       "9687-1743     False\n",
       "Name: high_GC, dtype: bool"
      ]
     },
<<<<<<< HEAD
     "execution_count": 35,
=======
     "execution_count": 64,
>>>>>>> origin/master
     "metadata": {},
     "output_type": "execute_result"
    }
   ],
   "source": [
    "all_data['high_GC'].head()\n"
   ]
  },
  {
   "cell_type": "code",
<<<<<<< HEAD
   "execution_count": 36,
   "metadata": {
    "collapsed": false
   },
=======
   "execution_count": 65,
   "metadata": {},
>>>>>>> origin/master
   "outputs": [
    {
     "data": {
      "text/html": [
       "<div>\n",
       "<style scoped>\n",
       "    .dataframe tbody tr th:only-of-type {\n",
       "        vertical-align: middle;\n",
       "    }\n",
       "\n",
       "    .dataframe tbody tr th {\n",
       "        vertical-align: top;\n",
       "    }\n",
       "\n",
       "    .dataframe thead th {\n",
       "        text-align: right;\n",
       "    }\n",
       "</style>\n",
       "<table border=\"1\" class=\"dataframe\">\n",
       "  <thead>\n",
       "    <tr style=\"text-align: right;\">\n",
       "      <th></th>\n",
       "      <th>runtype</th>\n",
       "      <th>sample_id</th>\n",
       "      <th>forward_primer</th>\n",
       "      <th>reverse_primer</th>\n",
       "      <th>read_id</th>\n",
       "      <th>gc_content</th>\n",
       "      <th>country</th>\n",
       "      <th>gene_id</th>\n",
       "      <th>gene_family</th>\n",
       "      <th>high_GC</th>\n",
       "      <th>low_GC</th>\n",
       "    </tr>\n",
       "    <tr>\n",
       "      <th>spot_id</th>\n",
       "      <th></th>\n",
       "      <th></th>\n",
       "      <th></th>\n",
       "      <th></th>\n",
       "      <th></th>\n",
       "      <th></th>\n",
       "      <th></th>\n",
       "      <th></th>\n",
       "      <th></th>\n",
       "      <th></th>\n",
       "      <th></th>\n",
       "    </tr>\n",
       "  </thead>\n",
       "  <tbody>\n",
       "    <tr>\n",
       "      <th>12088-1744</th>\n",
       "      <td>MISEQ</td>\n",
       "      <td>GBR320</td>\n",
       "      <td>TCCTGGGT</td>\n",
       "      <td>TAGATCGC</td>\n",
       "      <td>FUT3_3_F</td>\n",
       "      <td>0.590747</td>\n",
       "      <td>GBR</td>\n",
       "      <td>FUT3</td>\n",
       "      <td>FUT3</td>\n",
       "      <td>True</td>\n",
       "      <td>False</td>\n",
       "    </tr>\n",
       "    <tr>\n",
       "      <th>10797-1764</th>\n",
       "      <td>MISEQ</td>\n",
       "      <td>PE713</td>\n",
       "      <td>TTGACCCT</td>\n",
       "      <td>CTAATCGA</td>\n",
       "      <td>FUT3_4_F</td>\n",
       "      <td>0.615658</td>\n",
       "      <td>PE</td>\n",
       "      <td>FUT3</td>\n",
       "      <td>FUT3</td>\n",
       "      <td>True</td>\n",
       "      <td>False</td>\n",
       "    </tr>\n",
       "    <tr>\n",
       "      <th>15170-1766</th>\n",
       "      <td>MISEQ</td>\n",
       "      <td>GBR329</td>\n",
       "      <td>TGCTGGGT</td>\n",
       "      <td>TGCTAAGT</td>\n",
       "      <td>GULOP_2_F</td>\n",
       "      <td>0.466192</td>\n",
       "      <td>GBR</td>\n",
       "      <td>GULOP</td>\n",
       "      <td>GULOP</td>\n",
       "      <td>True</td>\n",
       "      <td>False</td>\n",
       "    </tr>\n",
       "    <tr>\n",
       "      <th>11566-1772</th>\n",
       "      <td>MISEQ</td>\n",
       "      <td>PE740</td>\n",
       "      <td>CCACTCCT</td>\n",
       "      <td>TAGACCTA</td>\n",
       "      <td>FUT2_9_F</td>\n",
       "      <td>0.452899</td>\n",
       "      <td>PE</td>\n",
       "      <td>FUT2</td>\n",
       "      <td>FUT2</td>\n",
       "      <td>True</td>\n",
       "      <td>False</td>\n",
       "    </tr>\n",
       "    <tr>\n",
       "      <th>13492-1773</th>\n",
       "      <td>MISEQ</td>\n",
       "      <td>GBR311</td>\n",
       "      <td>CCGTTTGT</td>\n",
       "      <td>TAGACCTA</td>\n",
       "      <td>ST6_8_F</td>\n",
       "      <td>0.462633</td>\n",
       "      <td>GBR</td>\n",
       "      <td>ST6</td>\n",
       "      <td>ST6</td>\n",
       "      <td>True</td>\n",
       "      <td>False</td>\n",
       "    </tr>\n",
       "  </tbody>\n",
       "</table>\n",
       "</div>"
      ],
      "text/plain": [
       "           runtype sample_id forward_primer reverse_primer    read_id  \\\n",
       "spot_id                                                                 \n",
       "12088-1744   MISEQ    GBR320       TCCTGGGT       TAGATCGC   FUT3_3_F   \n",
       "10797-1764   MISEQ     PE713       TTGACCCT       CTAATCGA   FUT3_4_F   \n",
       "15170-1766   MISEQ    GBR329       TGCTGGGT       TGCTAAGT  GULOP_2_F   \n",
       "11566-1772   MISEQ     PE740       CCACTCCT       TAGACCTA   FUT2_9_F   \n",
       "13492-1773   MISEQ    GBR311       CCGTTTGT       TAGACCTA    ST6_8_F   \n",
       "\n",
<<<<<<< HEAD
       "            gc_content country gene_id gene_family high_GC low_GC  \n",
       "spot_id                                                            \n",
       "12088-1744    0.590747     GBR    FUT3        FUT3    True  False  \n",
       "10797-1764    0.615658      PE    FUT3        FUT3    True  False  \n",
       "15170-1766    0.466192     GBR   GULOP       GULOP    True  False  \n",
       "11566-1772    0.452899      PE    FUT2        FUT2    True  False  \n",
       "13492-1773    0.462633     GBR     ST6         ST6    True  False  "
      ]
     },
     "execution_count": 36,
=======
       "            gc_content country gene_id gene_family  high_GC  low_GC  \n",
       "spot_id                                                              \n",
       "12088-1744    0.590747     GBR    FUT3        FUT3     True   False  \n",
       "10797-1764    0.615658      PE    FUT3        FUT3     True   False  \n",
       "15170-1766    0.466192     GBR   GULOP       GULOP     True   False  \n",
       "11566-1772    0.452899      PE    FUT2        FUT2     True   False  \n",
       "13492-1773    0.462633     GBR     ST6         ST6     True   False  "
      ]
     },
     "execution_count": 65,
>>>>>>> origin/master
     "metadata": {},
     "output_type": "execute_result"
    }
   ],
   "source": [
    "# look at just the low GC content observations\n",
    "all_data[ all_data['high_GC'] ].head()"
   ]
  },
  {
   "cell_type": "code",
<<<<<<< HEAD
   "execution_count": 37,
   "metadata": {
    "collapsed": false
   },
=======
   "execution_count": 66,
   "metadata": {},
>>>>>>> origin/master
   "outputs": [
    {
     "data": {
      "text/html": [
       "<div>\n",
       "<style scoped>\n",
       "    .dataframe tbody tr th:only-of-type {\n",
       "        vertical-align: middle;\n",
       "    }\n",
       "\n",
       "    .dataframe tbody tr th {\n",
       "        vertical-align: top;\n",
       "    }\n",
       "\n",
       "    .dataframe thead th {\n",
       "        text-align: right;\n",
       "    }\n",
       "</style>\n",
       "<table border=\"1\" class=\"dataframe\">\n",
       "  <thead>\n",
       "    <tr style=\"text-align: right;\">\n",
       "      <th></th>\n",
       "      <th>runtype</th>\n",
       "      <th>sample_id</th>\n",
       "      <th>forward_primer</th>\n",
       "      <th>reverse_primer</th>\n",
       "      <th>read_id</th>\n",
       "      <th>gc_content</th>\n",
       "      <th>country</th>\n",
       "      <th>gene_id</th>\n",
       "      <th>gene_family</th>\n",
       "      <th>high_GC</th>\n",
       "      <th>low_GC</th>\n",
       "    </tr>\n",
       "    <tr>\n",
       "      <th>spot_id</th>\n",
       "      <th></th>\n",
       "      <th></th>\n",
       "      <th></th>\n",
       "      <th></th>\n",
       "      <th></th>\n",
       "      <th></th>\n",
       "      <th></th>\n",
       "      <th></th>\n",
       "      <th></th>\n",
       "      <th></th>\n",
       "      <th></th>\n",
       "    </tr>\n",
       "  </thead>\n",
       "  <tbody>\n",
       "    <tr>\n",
       "      <th>16998-1719</th>\n",
       "      <td>MISEQ</td>\n",
       "      <td>PE716</td>\n",
       "      <td>TTGACCCT</td>\n",
       "      <td>TAGACCTA</td>\n",
       "      <td>ST6_21_F</td>\n",
       "      <td>0.287770</td>\n",
       "      <td>PE</td>\n",
       "      <td>ST6</td>\n",
       "      <td>ST6</td>\n",
       "      <td>False</td>\n",
       "      <td>True</td>\n",
       "    </tr>\n",
       "    <tr>\n",
       "      <th>9172-1724</th>\n",
       "      <td>MISEQ</td>\n",
       "      <td>PE714</td>\n",
       "      <td>TTGACCCT</td>\n",
       "      <td>CTAGAACA</td>\n",
       "      <td>ST6_12_F</td>\n",
       "      <td>0.384342</td>\n",
       "      <td>PE</td>\n",
       "      <td>ST6</td>\n",
       "      <td>ST6</td>\n",
       "      <td>False</td>\n",
       "      <td>True</td>\n",
       "    </tr>\n",
       "    <tr>\n",
       "      <th>9687-1743</th>\n",
       "      <td>MISEQ</td>\n",
       "      <td>PE731</td>\n",
       "      <td>CCACTCCT</td>\n",
       "      <td>TAGGAGTA</td>\n",
       "      <td>ST6_25_F</td>\n",
       "      <td>0.380783</td>\n",
       "      <td>PE</td>\n",
       "      <td>ST6</td>\n",
       "      <td>ST6</td>\n",
       "      <td>False</td>\n",
       "      <td>True</td>\n",
       "    </tr>\n",
       "    <tr>\n",
       "      <th>10797-1764</th>\n",
       "      <td>MISEQ</td>\n",
       "      <td>PE713</td>\n",
       "      <td>TTGACCCT</td>\n",
       "      <td>CTAATCGA</td>\n",
       "      <td>FUT3_4_F</td>\n",
       "      <td>0.615658</td>\n",
       "      <td>PE</td>\n",
       "      <td>FUT3</td>\n",
       "      <td>FUT3</td>\n",
       "      <td>True</td>\n",
       "      <td>False</td>\n",
       "    </tr>\n",
       "    <tr>\n",
       "      <th>11566-1772</th>\n",
       "      <td>MISEQ</td>\n",
       "      <td>PE740</td>\n",
       "      <td>CCACTCCT</td>\n",
       "      <td>TAGACCTA</td>\n",
       "      <td>FUT2_9_F</td>\n",
       "      <td>0.452899</td>\n",
       "      <td>PE</td>\n",
       "      <td>FUT2</td>\n",
       "      <td>FUT2</td>\n",
       "      <td>True</td>\n",
       "      <td>False</td>\n",
       "    </tr>\n",
       "  </tbody>\n",
       "</table>\n",
       "</div>"
      ],
      "text/plain": [
       "           runtype sample_id forward_primer reverse_primer   read_id  \\\n",
       "spot_id                                                                \n",
       "16998-1719   MISEQ     PE716       TTGACCCT       TAGACCTA  ST6_21_F   \n",
       "9172-1724    MISEQ     PE714       TTGACCCT       CTAGAACA  ST6_12_F   \n",
       "9687-1743    MISEQ     PE731       CCACTCCT       TAGGAGTA  ST6_25_F   \n",
       "10797-1764   MISEQ     PE713       TTGACCCT       CTAATCGA  FUT3_4_F   \n",
       "11566-1772   MISEQ     PE740       CCACTCCT       TAGACCTA  FUT2_9_F   \n",
       "\n",
<<<<<<< HEAD
       "            gc_content country gene_id gene_family high_GC low_GC  \n",
       "spot_id                                                            \n",
       "16998-1719    0.287770      PE     ST6         ST6   False   True  \n",
       "9172-1724     0.384342      PE     ST6         ST6   False   True  \n",
       "9687-1743     0.380783      PE     ST6         ST6   False   True  \n",
       "10797-1764    0.615658      PE    FUT3        FUT3    True  False  \n",
       "11566-1772    0.452899      PE    FUT2        FUT2    True  False  "
      ]
     },
     "execution_count": 37,
=======
       "            gc_content country gene_id gene_family  high_GC  low_GC  \n",
       "spot_id                                                              \n",
       "16998-1719    0.287770      PE     ST6         ST6    False    True  \n",
       "9172-1724     0.384342      PE     ST6         ST6    False    True  \n",
       "9687-1743     0.380783      PE     ST6         ST6    False    True  \n",
       "10797-1764    0.615658      PE    FUT3        FUT3     True   False  \n",
       "11566-1772    0.452899      PE    FUT2        FUT2     True   False  "
      ]
     },
     "execution_count": 66,
>>>>>>> origin/master
     "metadata": {},
     "output_type": "execute_result"
    }
   ],
   "source": [
    "# look at just one country\n",
    "x= all_data[ all_data.country=='PE'].head()\n",
    "x"
   ]
  },
  {
   "cell_type": "markdown",
   "metadata": {},
   "source": [
    "It is possible re-shape DataFrames using DataFrame methods"
   ]
  },
  {
   "cell_type": "code",
   "execution_count": 70,
   "metadata": {
    "scrolled": false
   },
   "outputs": [
    {
     "ename": "TypeError",
     "evalue": "'Index' object is not callable",
     "output_type": "error",
     "traceback": [
      "\u001b[1;31m---------------------------------------------------------------------------\u001b[0m",
      "\u001b[1;31mTypeError\u001b[0m                                 Traceback (most recent call last)",
      "\u001b[1;32m<ipython-input-70-a8e33739c4e5>\u001b[0m in \u001b[0;36m<module>\u001b[1;34m()\u001b[0m\n\u001b[0;32m      3\u001b[0m \u001b[1;33m\u001b[0m\u001b[0m\n\u001b[0;32m      4\u001b[0m \u001b[0mall_data\u001b[0m\u001b[1;33m.\u001b[0m\u001b[0mhead\u001b[0m\u001b[1;33m(\u001b[0m\u001b[1;33m)\u001b[0m\u001b[1;33m\u001b[0m\u001b[0m\n\u001b[1;32m----> 5\u001b[1;33m \u001b[0my\u001b[0m \u001b[1;33m=\u001b[0m \u001b[0mall_data\u001b[0m\u001b[1;33m.\u001b[0m\u001b[0mcolumns\u001b[0m\u001b[1;33m(\u001b[0m\u001b[1;33m[\u001b[0m\u001b[1;34m'country'\u001b[0m\u001b[1;33m]\u001b[0m\u001b[1;33m,\u001b[0m\u001b[0maxis\u001b[0m \u001b[1;33m=\u001b[0m \u001b[1;36m1\u001b[0m\u001b[1;33m)\u001b[0m\u001b[1;33m\u001b[0m\u001b[0m\n\u001b[0m\u001b[0;32m      6\u001b[0m \u001b[1;31m#y\u001b[0m\u001b[1;33m\u001b[0m\u001b[1;33m\u001b[0m\u001b[0m\n",
      "\u001b[1;31mTypeError\u001b[0m: 'Index' object is not callable"
     ]
    }
   ],
   "source": [
    "# re-order and drop columns,delet the primer column\n",
    "#all_data = all_data.drop(['forward_primer', 'reverse_primer' ], axis=1)\n",
    "\n",
    "all_data.head()\n",
    "y = all_data.columns(['country'],axis = 1)\n",
    "#y"
   ]
  },
  {
   "cell_type": "code",
   "execution_count": 44,
   "metadata": {
    "collapsed": false
   },
   "outputs": [
    {
     "data": {
      "text/html": [
       "<div>\n",
       "<table border=\"1\" class=\"dataframe\">\n",
       "  <thead>\n",
       "    <tr style=\"text-align: right;\">\n",
       "      <th></th>\n",
       "      <th>runtype</th>\n",
       "      <th>sample_id</th>\n",
       "      <th>forward_primer</th>\n",
       "      <th>reverse_primer</th>\n",
       "      <th>read_id</th>\n",
       "      <th>gc_content</th>\n",
       "      <th>country</th>\n",
       "      <th>gene_id</th>\n",
       "      <th>gene_family</th>\n",
       "      <th>high_GC</th>\n",
       "      <th>low_GC</th>\n",
       "    </tr>\n",
       "    <tr>\n",
       "      <th>spot_id</th>\n",
       "      <th></th>\n",
       "      <th></th>\n",
       "      <th></th>\n",
       "      <th></th>\n",
       "      <th></th>\n",
       "      <th></th>\n",
       "      <th></th>\n",
       "      <th></th>\n",
       "      <th></th>\n",
       "      <th></th>\n",
       "      <th></th>\n",
       "    </tr>\n",
       "  </thead>\n",
       "  <tbody>\n",
       "    <tr>\n",
       "      <th>16998-1719</th>\n",
       "      <td>MISEQ</td>\n",
       "      <td>PE716</td>\n",
       "      <td>TTGACCCT</td>\n",
       "      <td>TAGACCTA</td>\n",
       "      <td>ST6_21_F</td>\n",
       "      <td>0.287770</td>\n",
       "      <td>PE</td>\n",
       "      <td>ST6</td>\n",
       "      <td>ST6</td>\n",
       "      <td>False</td>\n",
       "      <td>True</td>\n",
       "    </tr>\n",
       "    <tr>\n",
       "      <th>9172-1724</th>\n",
       "      <td>MISEQ</td>\n",
       "      <td>PE714</td>\n",
       "      <td>TTGACCCT</td>\n",
       "      <td>CTAGAACA</td>\n",
       "      <td>ST6_12_F</td>\n",
       "      <td>0.384342</td>\n",
       "      <td>PE</td>\n",
       "      <td>ST6</td>\n",
       "      <td>ST6</td>\n",
       "      <td>False</td>\n",
       "      <td>True</td>\n",
       "    </tr>\n",
       "    <tr>\n",
       "      <th>17068-1733</th>\n",
       "      <td>MISEQ</td>\n",
       "      <td>ETU011</td>\n",
       "      <td>GTCGTGAT</td>\n",
       "      <td>CTAAGCCT</td>\n",
       "      <td>ST6_16_F</td>\n",
       "      <td>0.395683</td>\n",
       "      <td>ETU</td>\n",
       "      <td>ST6</td>\n",
       "      <td>ST6</td>\n",
       "      <td>False</td>\n",
       "      <td>True</td>\n",
       "    </tr>\n",
       "    <tr>\n",
       "      <th>20217-1738</th>\n",
       "      <td>MISEQ</td>\n",
       "      <td>ETR208</td>\n",
       "      <td>ACCACTGT</td>\n",
       "      <td>TGCTCTGA</td>\n",
       "      <td>ST6_10_F</td>\n",
       "      <td>0.315412</td>\n",
       "      <td>ETR</td>\n",
       "      <td>ST6</td>\n",
       "      <td>ST6</td>\n",
       "      <td>False</td>\n",
       "      <td>True</td>\n",
       "    </tr>\n",
       "    <tr>\n",
       "      <th>9687-1743</th>\n",
       "      <td>MISEQ</td>\n",
       "      <td>PE731</td>\n",
       "      <td>CCACTCCT</td>\n",
       "      <td>TAGGAGTA</td>\n",
       "      <td>ST6_25_F</td>\n",
       "      <td>0.380783</td>\n",
       "      <td>PE</td>\n",
       "      <td>ST6</td>\n",
       "      <td>ST6</td>\n",
       "      <td>False</td>\n",
       "      <td>True</td>\n",
       "    </tr>\n",
       "  </tbody>\n",
       "</table>\n",
       "</div>"
      ],
      "text/plain": [
       "           runtype sample_id forward_primer reverse_primer   read_id  \\\n",
       "spot_id                                                                \n",
       "16998-1719   MISEQ     PE716       TTGACCCT       TAGACCTA  ST6_21_F   \n",
       "9172-1724    MISEQ     PE714       TTGACCCT       CTAGAACA  ST6_12_F   \n",
       "17068-1733   MISEQ    ETU011       GTCGTGAT       CTAAGCCT  ST6_16_F   \n",
       "20217-1738   MISEQ    ETR208       ACCACTGT       TGCTCTGA  ST6_10_F   \n",
       "9687-1743    MISEQ     PE731       CCACTCCT       TAGGAGTA  ST6_25_F   \n",
       "\n",
       "            gc_content country gene_id gene_family high_GC low_GC  \n",
       "spot_id                                                            \n",
       "16998-1719    0.287770      PE     ST6         ST6   False   True  \n",
       "9172-1724     0.384342      PE     ST6         ST6   False   True  \n",
       "17068-1733    0.395683     ETU     ST6         ST6   False   True  \n",
       "20217-1738    0.315412     ETR     ST6         ST6   False   True  \n",
       "9687-1743     0.380783      PE     ST6         ST6   False   True  "
      ]
     },
     "execution_count": 44,
     "metadata": {},
     "output_type": "execute_result"
    }
   ],
   "source": [
    "all_data.head()\n",
    "\n"
   ]
  },
  {
   "cell_type": "markdown",
   "metadata": {},
   "source": [
    "### Get summary information about DataFrames\n",
    "\n",
    "*DataFrame.describe()* is very useful. Look at these examples carefully."
   ]
  },
  {
   "cell_type": "code",
   "execution_count": 129,
   "metadata": {},
   "outputs": [
    {
     "data": {
      "text/html": [
       "<div>\n",
       "<table border=\"1\" class=\"dataframe\">\n",
       "  <thead>\n",
       "    <tr style=\"text-align: right;\">\n",
       "      <th></th>\n",
       "      <th>runtype</th>\n",
       "      <th>sample_id</th>\n",
       "      <th>read_id</th>\n",
       "      <th>gc_content</th>\n",
       "      <th>country</th>\n",
       "      <th>gene_id</th>\n",
       "      <th>gene_family</th>\n",
       "      <th>high_GC</th>\n",
       "      <th>low_GC</th>\n",
       "    </tr>\n",
       "  </thead>\n",
       "  <tbody>\n",
       "    <tr>\n",
       "      <th>count</th>\n",
       "      <td>2000</td>\n",
       "      <td>2000</td>\n",
       "      <td>2000</td>\n",
       "      <td>2000.000000</td>\n",
       "      <td>2000</td>\n",
       "      <td>2000</td>\n",
       "      <td>2000</td>\n",
       "      <td>2000</td>\n",
       "      <td>2000</td>\n",
       "    </tr>\n",
       "    <tr>\n",
       "      <th>unique</th>\n",
       "      <td>1</td>\n",
       "      <td>341</td>\n",
       "      <td>37</td>\n",
       "      <td>NaN</td>\n",
       "      <td>10</td>\n",
       "      <td>5</td>\n",
       "      <td>5</td>\n",
       "      <td>2</td>\n",
       "      <td>2</td>\n",
       "    </tr>\n",
       "    <tr>\n",
       "      <th>top</th>\n",
       "      <td>MISEQ</td>\n",
       "      <td>GBR320</td>\n",
       "      <td>ST6_25_F</td>\n",
       "      <td>NaN</td>\n",
       "      <td>PE</td>\n",
       "      <td>ST6</td>\n",
       "      <td>ST6</td>\n",
       "      <td>True</td>\n",
       "      <td>False</td>\n",
       "    </tr>\n",
       "    <tr>\n",
       "      <th>freq</th>\n",
       "      <td>2000</td>\n",
       "      <td>20</td>\n",
       "      <td>167</td>\n",
       "      <td>NaN</td>\n",
       "      <td>317</td>\n",
       "      <td>1242</td>\n",
       "      <td>1242</td>\n",
       "      <td>1170</td>\n",
       "      <td>1170</td>\n",
       "    </tr>\n",
       "    <tr>\n",
       "      <th>mean</th>\n",
       "      <td>NaN</td>\n",
       "      <td>NaN</td>\n",
       "      <td>NaN</td>\n",
       "      <td>0.454477</td>\n",
       "      <td>NaN</td>\n",
       "      <td>NaN</td>\n",
       "      <td>NaN</td>\n",
       "      <td>NaN</td>\n",
       "      <td>NaN</td>\n",
       "    </tr>\n",
       "    <tr>\n",
       "      <th>std</th>\n",
       "      <td>NaN</td>\n",
       "      <td>NaN</td>\n",
       "      <td>NaN</td>\n",
       "      <td>0.103666</td>\n",
       "      <td>NaN</td>\n",
       "      <td>NaN</td>\n",
       "      <td>NaN</td>\n",
       "      <td>NaN</td>\n",
       "      <td>NaN</td>\n",
       "    </tr>\n",
       "    <tr>\n",
       "      <th>min</th>\n",
       "      <td>NaN</td>\n",
       "      <td>NaN</td>\n",
       "      <td>NaN</td>\n",
       "      <td>0.269784</td>\n",
       "      <td>NaN</td>\n",
       "      <td>NaN</td>\n",
       "      <td>NaN</td>\n",
       "      <td>NaN</td>\n",
       "      <td>NaN</td>\n",
       "    </tr>\n",
       "    <tr>\n",
       "      <th>25%</th>\n",
       "      <td>NaN</td>\n",
       "      <td>NaN</td>\n",
       "      <td>NaN</td>\n",
       "      <td>0.380783</td>\n",
       "      <td>NaN</td>\n",
       "      <td>NaN</td>\n",
       "      <td>NaN</td>\n",
       "      <td>NaN</td>\n",
       "      <td>NaN</td>\n",
       "    </tr>\n",
       "    <tr>\n",
       "      <th>50%</th>\n",
       "      <td>NaN</td>\n",
       "      <td>NaN</td>\n",
       "      <td>NaN</td>\n",
       "      <td>0.446043</td>\n",
       "      <td>NaN</td>\n",
       "      <td>NaN</td>\n",
       "      <td>NaN</td>\n",
       "      <td>NaN</td>\n",
       "      <td>NaN</td>\n",
       "    </tr>\n",
       "    <tr>\n",
       "      <th>75%</th>\n",
       "      <td>NaN</td>\n",
       "      <td>NaN</td>\n",
       "      <td>NaN</td>\n",
       "      <td>0.533808</td>\n",
       "      <td>NaN</td>\n",
       "      <td>NaN</td>\n",
       "      <td>NaN</td>\n",
       "      <td>NaN</td>\n",
       "      <td>NaN</td>\n",
       "    </tr>\n",
       "    <tr>\n",
       "      <th>max</th>\n",
       "      <td>NaN</td>\n",
       "      <td>NaN</td>\n",
       "      <td>NaN</td>\n",
       "      <td>0.715302</td>\n",
       "      <td>NaN</td>\n",
       "      <td>NaN</td>\n",
       "      <td>NaN</td>\n",
       "      <td>NaN</td>\n",
       "      <td>NaN</td>\n",
       "    </tr>\n",
       "  </tbody>\n",
       "</table>\n",
       "</div>"
      ],
      "text/plain": [
       "       runtype sample_id   read_id   gc_content country gene_id gene_family  \\\n",
       "count     2000      2000      2000  2000.000000    2000    2000        2000   \n",
       "unique       1       341        37          NaN      10       5           5   \n",
       "top      MISEQ    GBR320  ST6_25_F          NaN      PE     ST6         ST6   \n",
       "freq      2000        20       167          NaN     317    1242        1242   \n",
       "mean       NaN       NaN       NaN     0.454477     NaN     NaN         NaN   \n",
       "std        NaN       NaN       NaN     0.103666     NaN     NaN         NaN   \n",
       "min        NaN       NaN       NaN     0.269784     NaN     NaN         NaN   \n",
       "25%        NaN       NaN       NaN     0.380783     NaN     NaN         NaN   \n",
       "50%        NaN       NaN       NaN     0.446043     NaN     NaN         NaN   \n",
       "75%        NaN       NaN       NaN     0.533808     NaN     NaN         NaN   \n",
       "max        NaN       NaN       NaN     0.715302     NaN     NaN         NaN   \n",
       "\n",
       "       high_GC low_GC  \n",
       "count     2000   2000  \n",
       "unique       2      2  \n",
       "top       True  False  \n",
       "freq      1170   1170  \n",
       "mean       NaN    NaN  \n",
       "std        NaN    NaN  \n",
       "min        NaN    NaN  \n",
       "25%        NaN    NaN  \n",
       "50%        NaN    NaN  \n",
       "75%        NaN    NaN  \n",
       "max        NaN    NaN  "
      ]
     },
     "execution_count": 129,
     "metadata": {},
     "output_type": "execute_result"
    }
   ],
   "source": [
    "all_data.describe(include='all')"
   ]
  },
  {
   "cell_type": "code",
   "execution_count": 132,
   "metadata": {
    "scrolled": true
   },
   "outputs": [
    {
     "name": "stdout",
     "output_type": "stream",
     "text": [
      "summary of Great Britain:\n",
      "count     271.000000\n",
      "unique           NaN\n",
      "top              NaN\n",
      "freq             NaN\n",
      "mean        0.457919\n",
      "std         0.102523\n",
      "min         0.276978\n",
      "25%         0.380783\n",
      "50%         0.449640\n",
      "75%         0.533808\n",
      "max         0.696429\n",
      "Name: gc_content, dtype: float64\n",
      "\n",
      "summary of Peru:\n",
      "       runtype sample_id   read_id  gc_content country gene_id gene_family  \\\n",
      "count      317       317       317  317.000000     317     317         317   \n",
      "unique       1        41        37         NaN       1       5           5   \n",
      "top      MISEQ     PE742  ST6_25_F         NaN      PE     ST6         ST6   \n",
      "freq       317        18        24         NaN     317     208         208   \n",
      "mean       NaN       NaN       NaN    0.450601     NaN     NaN         NaN   \n",
      "std        NaN       NaN       NaN    0.103884     NaN     NaN         NaN   \n",
      "min        NaN       NaN       NaN    0.269784     NaN     NaN         NaN   \n",
      "25%        NaN       NaN       NaN    0.377224     NaN     NaN         NaN   \n",
      "50%        NaN       NaN       NaN    0.448029     NaN     NaN         NaN   \n",
      "75%        NaN       NaN       NaN    0.519573     NaN     NaN         NaN   \n",
      "max        NaN       NaN       NaN    0.692857     NaN     NaN         NaN   \n",
      "\n",
      "       high_GC low_GC  \n",
      "count      317    317  \n",
      "unique       2      2  \n",
      "top       True  False  \n",
      "freq       185    185  \n",
      "mean       NaN    NaN  \n",
      "std        NaN    NaN  \n",
      "min        NaN    NaN  \n",
      "25%        NaN    NaN  \n",
      "50%        NaN    NaN  \n",
      "75%        NaN    NaN  \n",
      "max        NaN    NaN  \n",
      "\n"
     ]
    }
   ],
   "source": [
    "####summary statistics for sub-DataFrames\n",
    "\n",
    "summary_gbr = all_data[ all_data.country == 'GBR' ].describe(include='all')\n",
    "summary_pe  = all_data[ all_data.country == 'PE' ].describe(include='all')\n",
    "\n",
    "print('summary of Great Britain:\\n{}\\n'.format(summary_gbr['gc_content']))\n",
    "print('summary of Peru:\\n{}\\n'.format(summary_pe))"
   ]
  },
  {
   "cell_type": "code",
   "execution_count": 133,
   "metadata": {},
   "outputs": [
    {
     "name": "stdout",
     "output_type": "stream",
     "text": [
      "Statistics for ETR: \n",
      "       runtype sample_id   read_id  gc_content country gene_id gene_family  \\\n",
      "count      154       154       154  154.000000     154     154         154   \n",
      "unique       1        38        33         NaN       1       5           5   \n",
      "top      MISEQ    ETR207  ST6_22_F         NaN     ETR     ST6         ST6   \n",
      "freq       154        15        18         NaN     154     104         104   \n",
      "mean       NaN       NaN       NaN    0.445550     NaN     NaN         NaN   \n",
      "std        NaN       NaN       NaN    0.105342     NaN     NaN         NaN   \n",
      "min        NaN       NaN       NaN    0.276978     NaN     NaN         NaN   \n",
      "25%        NaN       NaN       NaN    0.371886     NaN     NaN         NaN   \n",
      "50%        NaN       NaN       NaN    0.400708     NaN     NaN         NaN   \n",
      "75%        NaN       NaN       NaN    0.543273     NaN     NaN         NaN   \n",
      "max        NaN       NaN       NaN    0.685714     NaN     NaN         NaN   \n",
      "\n",
      "       high_GC low_GC  \n",
      "count      154    154  \n",
      "unique       2      2  \n",
      "top       True   True  \n",
      "freq        77     77  \n",
      "mean       NaN    NaN  \n",
      "std        NaN    NaN  \n",
      "min        NaN    NaN  \n",
      "25%        NaN    NaN  \n",
      "50%        NaN    NaN  \n",
      "75%        NaN    NaN  \n",
      "max        NaN    NaN  \n",
      "\n",
      "Statistics for ETU: \n",
      "       runtype sample_id   read_id  gc_content country gene_id gene_family  \\\n",
      "count      194       194       194  194.000000     194     194         194   \n",
      "unique       1        30        36         NaN       1       5           5   \n",
      "top      MISEQ    ETU025  ST6_22_F         NaN     ETU     ST6         ST6   \n",
      "freq       194        15        14         NaN     194     121         121   \n",
      "mean       NaN       NaN       NaN    0.451564     NaN     NaN         NaN   \n",
      "std        NaN       NaN       NaN    0.104092     NaN     NaN         NaN   \n",
      "min        NaN       NaN       NaN    0.273381     NaN     NaN         NaN   \n",
      "25%        NaN       NaN       NaN    0.384342     NaN     NaN         NaN   \n",
      "50%        NaN       NaN       NaN    0.419929     NaN     NaN         NaN   \n",
      "75%        NaN       NaN       NaN    0.518683     NaN     NaN         NaN   \n",
      "max        NaN       NaN       NaN    0.690391     NaN     NaN         NaN   \n",
      "\n",
      "       high_GC low_GC  \n",
      "count      194    194  \n",
      "unique       2      2  \n",
      "top       True  False  \n",
      "freq       108    108  \n",
      "mean       NaN    NaN  \n",
      "std        NaN    NaN  \n",
      "min        NaN    NaN  \n",
      "25%        NaN    NaN  \n",
      "50%        NaN    NaN  \n",
      "75%        NaN    NaN  \n",
      "max        NaN    NaN  \n",
      "\n",
      "Statistics for GBR: \n",
      "       runtype sample_id   read_id  gc_content country gene_id gene_family  \\\n",
      "count      271       271       271  271.000000     271     271         271   \n",
      "unique       1        37        36         NaN       1       5           5   \n",
      "top      MISEQ    GBR320  ST6_25_F         NaN     GBR     ST6         ST6   \n",
      "freq       271        20        26         NaN     271     163         163   \n",
      "mean       NaN       NaN       NaN    0.457919     NaN     NaN         NaN   \n",
      "std        NaN       NaN       NaN    0.102523     NaN     NaN         NaN   \n",
      "min        NaN       NaN       NaN    0.276978     NaN     NaN         NaN   \n",
      "25%        NaN       NaN       NaN    0.380783     NaN     NaN         NaN   \n",
      "50%        NaN       NaN       NaN    0.449640     NaN     NaN         NaN   \n",
      "75%        NaN       NaN       NaN    0.533808     NaN     NaN         NaN   \n",
      "max        NaN       NaN       NaN    0.696429     NaN     NaN         NaN   \n",
      "\n",
      "       high_GC low_GC  \n",
      "count      271    271  \n",
      "unique       2      2  \n",
      "top       True  False  \n",
      "freq       164    164  \n",
      "mean       NaN    NaN  \n",
      "std        NaN    NaN  \n",
      "min        NaN    NaN  \n",
      "25%        NaN    NaN  \n",
      "50%        NaN    NaN  \n",
      "75%        NaN    NaN  \n",
      "max        NaN    NaN  \n",
      "\n",
      "Statistics for GBU: \n",
      "       runtype sample_id   read_id  gc_content country gene_id gene_family  \\\n",
      "count      292       292       292  292.000000     292     292         292   \n",
      "unique       1        38        36         NaN       1       5           5   \n",
      "top      MISEQ    GBU415  ST6_25_F         NaN     GBU     ST6         ST6   \n",
      "freq       292        19        24         NaN     292     175         175   \n",
      "mean       NaN       NaN       NaN    0.457202     NaN     NaN         NaN   \n",
      "std        NaN       NaN       NaN    0.103366     NaN     NaN         NaN   \n",
      "min        NaN       NaN       NaN    0.273381     NaN     NaN         NaN   \n",
      "25%        NaN       NaN       NaN    0.380783     NaN     NaN         NaN   \n",
      "50%        NaN       NaN       NaN    0.447842     NaN     NaN         NaN   \n",
      "75%        NaN       NaN       NaN    0.530249     NaN     NaN         NaN   \n",
      "max        NaN       NaN       NaN    0.715302     NaN     NaN         NaN   \n",
      "\n",
      "       high_GC low_GC  \n",
      "count      292    292  \n",
      "unique       2      2  \n",
      "top       True  False  \n",
      "freq       177    177  \n",
      "mean       NaN    NaN  \n",
      "std        NaN    NaN  \n",
      "min        NaN    NaN  \n",
      "25%        NaN    NaN  \n",
      "50%        NaN    NaN  \n",
      "75%        NaN    NaN  \n",
      "max        NaN    NaN  \n",
      "\n",
      "Statistics for GN: \n",
      "       runtype sample_id   read_id  gc_content country gene_id gene_family  \\\n",
      "count      186       186       186  186.000000     186     186         186   \n",
      "unique       1        29        33         NaN       1       5           5   \n",
      "top      MISEQ     GN526  ST6_25_F         NaN      GN     ST6         ST6   \n",
      "freq       186        14        21         NaN     186      99          99   \n",
      "mean       NaN       NaN       NaN    0.468612     NaN     NaN         NaN   \n",
      "std        NaN       NaN       NaN    0.101205     NaN     NaN         NaN   \n",
      "min        NaN       NaN       NaN    0.269784     NaN     NaN         NaN   \n",
      "25%        NaN       NaN       NaN    0.384342     NaN     NaN         NaN   \n",
      "50%        NaN       NaN       NaN    0.453405     NaN     NaN         NaN   \n",
      "75%        NaN       NaN       NaN    0.548043     NaN     NaN         NaN   \n",
      "max        NaN       NaN       NaN    0.689286     NaN     NaN         NaN   \n",
      "\n",
      "       high_GC low_GC  \n",
      "count      186    186  \n",
      "unique       2      2  \n",
      "top       True  False  \n",
      "freq       119    119  \n",
      "mean       NaN    NaN  \n",
      "std        NaN    NaN  \n",
      "min        NaN    NaN  \n",
      "25%        NaN    NaN  \n",
      "50%        NaN    NaN  \n",
      "75%        NaN    NaN  \n",
      "max        NaN    NaN  \n",
      "\n",
      "Statistics for KE: \n",
      "       runtype sample_id   read_id  gc_content country gene_id gene_family  \\\n",
      "count      153       153       153  153.000000     153     153         153   \n",
      "unique       1        35        33         NaN       1       5           5   \n",
      "top      MISEQ     KE617  ST6_25_F         NaN      KE     ST6         ST6   \n",
      "freq       153        13        17         NaN     153      98          98   \n",
      "mean       NaN       NaN       NaN    0.457715     NaN     NaN         NaN   \n",
      "std        NaN       NaN       NaN    0.104160     NaN     NaN         NaN   \n",
      "min        NaN       NaN       NaN    0.273381     NaN     NaN         NaN   \n",
      "25%        NaN       NaN       NaN    0.380783     NaN     NaN         NaN   \n",
      "50%        NaN       NaN       NaN    0.446043     NaN     NaN         NaN   \n",
      "75%        NaN       NaN       NaN    0.544484     NaN     NaN         NaN   \n",
      "max        NaN       NaN       NaN    0.692857     NaN     NaN         NaN   \n",
      "\n",
      "       high_GC low_GC  \n",
      "count      153    153  \n",
      "unique       2      2  \n",
      "top       True  False  \n",
      "freq        89     89  \n",
      "mean       NaN    NaN  \n",
      "std        NaN    NaN  \n",
      "min        NaN    NaN  \n",
      "25%        NaN    NaN  \n",
      "50%        NaN    NaN  \n",
      "75%        NaN    NaN  \n",
      "max        NaN    NaN  \n",
      "\n",
      "Statistics for PE: \n",
      "       runtype sample_id   read_id  gc_content country gene_id gene_family  \\\n",
      "count      317       317       317  317.000000     317     317         317   \n",
      "unique       1        41        37         NaN       1       5           5   \n",
      "top      MISEQ     PE742  ST6_25_F         NaN      PE     ST6         ST6   \n",
      "freq       317        18        24         NaN     317     208         208   \n",
      "mean       NaN       NaN       NaN    0.450601     NaN     NaN         NaN   \n",
      "std        NaN       NaN       NaN    0.103884     NaN     NaN         NaN   \n",
      "min        NaN       NaN       NaN    0.269784     NaN     NaN         NaN   \n",
      "25%        NaN       NaN       NaN    0.377224     NaN     NaN         NaN   \n",
      "50%        NaN       NaN       NaN    0.448029     NaN     NaN         NaN   \n",
      "75%        NaN       NaN       NaN    0.519573     NaN     NaN         NaN   \n",
      "max        NaN       NaN       NaN    0.692857     NaN     NaN         NaN   \n",
      "\n",
      "       high_GC low_GC  \n",
      "count      317    317  \n",
      "unique       2      2  \n",
      "top       True  False  \n",
      "freq       185    185  \n",
      "mean       NaN    NaN  \n",
      "std        NaN    NaN  \n",
      "min        NaN    NaN  \n",
      "25%        NaN    NaN  \n",
      "50%        NaN    NaN  \n",
      "75%        NaN    NaN  \n",
      "max        NaN    NaN  \n",
      "\n",
      "Statistics for SP: \n",
      "       runtype sample_id   read_id  gc_content country gene_id gene_family  \\\n",
      "count      179       179       179  179.000000     179     179         179   \n",
      "unique       1        36        33         NaN       1       5           5   \n",
      "top      MISEQ     SP841  ST6_17_F         NaN      SP     ST6         ST6   \n",
      "freq       179        10        14         NaN     179     122         122   \n",
      "mean       NaN       NaN       NaN    0.442890     NaN     NaN         NaN   \n",
      "std        NaN       NaN       NaN    0.100716     NaN     NaN         NaN   \n",
      "min        NaN       NaN       NaN    0.276978     NaN     NaN         NaN   \n",
      "25%        NaN       NaN       NaN    0.347039     NaN     NaN         NaN   \n",
      "50%        NaN       NaN       NaN    0.409253     NaN     NaN         NaN   \n",
      "75%        NaN       NaN       NaN    0.517794     NaN     NaN         NaN   \n",
      "max        NaN       NaN       NaN    0.669039     NaN     NaN         NaN   \n",
      "\n",
      "       high_GC low_GC  \n",
      "count      179    179  \n",
      "unique       2      2  \n",
      "top       True  False  \n",
      "freq        97     97  \n",
      "mean       NaN    NaN  \n",
      "std        NaN    NaN  \n",
      "min        NaN    NaN  \n",
      "25%        NaN    NaN  \n",
      "50%        NaN    NaN  \n",
      "75%        NaN    NaN  \n",
      "max        NaN    NaN  \n",
      "\n",
      "Statistics for SW: \n",
      "       runtype sample_id  read_id  gc_content country gene_id gene_family  \\\n",
      "count      104       104      104  104.000000     104     104         104   \n",
      "unique       1        23       31         NaN       1       5           5   \n",
      "top      MISEQ     SW902  ST6_7_F         NaN      SW     ST6         ST6   \n",
      "freq       104         9       10         NaN     104      62          62   \n",
      "mean       NaN       NaN      NaN    0.464215     NaN     NaN         NaN   \n",
      "std        NaN       NaN      NaN    0.109825     NaN     NaN         NaN   \n",
      "min        NaN       NaN      NaN    0.276978     NaN     NaN         NaN   \n",
      "25%        NaN       NaN      NaN    0.387900     NaN     NaN         NaN   \n",
      "50%        NaN       NaN      NaN    0.454358     NaN     NaN         NaN   \n",
      "75%        NaN       NaN      NaN    0.553969     NaN     NaN         NaN   \n",
      "max        NaN       NaN      NaN    0.679715     NaN     NaN         NaN   \n",
      "\n",
      "       high_GC low_GC  \n",
      "count      104    104  \n",
      "unique       2      2  \n",
      "top       True  False  \n",
      "freq        66     66  \n",
      "mean       NaN    NaN  \n",
      "std        NaN    NaN  \n",
      "min        NaN    NaN  \n",
      "25%        NaN    NaN  \n",
      "50%        NaN    NaN  \n",
      "75%        NaN    NaN  \n",
      "max        NaN    NaN  \n",
      "\n",
      "Statistics for USW: \n",
      "       runtype sample_id   read_id  gc_content country gene_id gene_family  \\\n",
      "count      150       150       150  150.000000     150     150         150   \n",
      "unique       1        34        34         NaN       1       5           5   \n",
      "top      MISEQ   USW1008  ST6_25_F         NaN     USW     ST6         ST6   \n",
      "freq       150        13        10         NaN     150      90          90   \n",
      "mean       NaN       NaN       NaN    0.450324     NaN     NaN         NaN   \n",
      "std        NaN       NaN       NaN    0.105077     NaN     NaN         NaN   \n",
      "min        NaN       NaN       NaN    0.276978     NaN     NaN         NaN   \n",
      "25%        NaN       NaN       NaN    0.355107     NaN     NaN         NaN   \n",
      "50%        NaN       NaN       NaN    0.449640     NaN     NaN         NaN   \n",
      "75%        NaN       NaN       NaN    0.541964     NaN     NaN         NaN   \n",
      "max        NaN       NaN       NaN    0.665480     NaN     NaN         NaN   \n",
      "\n",
      "       high_GC low_GC  \n",
      "count      150    150  \n",
      "unique       2      2  \n",
      "top       True  False  \n",
      "freq        88     88  \n",
      "mean       NaN    NaN  \n",
      "std        NaN    NaN  \n",
      "min        NaN    NaN  \n",
      "25%        NaN    NaN  \n",
      "50%        NaN    NaN  \n",
      "75%        NaN    NaN  \n",
      "max        NaN    NaN  \n",
      "\n"
     ]
    }
   ],
   "source": [
    "# if you can do it once, you can do it many times\n",
    "\n",
    "for next_country in sorted( set( all_data.country ) ):\n",
    "    print( \"Statistics for {}: \\n{}\\n\".format(\n",
    "        next_country,\n",
    "        all_data[ all_data.country == next_country ].describe( include='all' ) \n",
    "    )\n",
    " )"
   ]
  },
  {
   "cell_type": "markdown",
   "metadata": {},
   "source": [
    "*describe()* returns **another Pandas DataFrame**. \n",
    "We can use this to find mean gc_content, total countries, total gene families for all entries:"
   ]
  },
  {
   "cell_type": "code",
   "execution_count": 121,
   "metadata": {},
   "outputs": [
    {
     "data": {
      "text/plain": [
       "pandas.core.frame.DataFrame"
      ]
     },
     "execution_count": 121,
     "metadata": {},
     "output_type": "execute_result"
    }
   ],
   "source": [
    "data_summary=all_data.describe(include='all')\n",
    "\n",
    "type(data_summary )"
   ]
  },
  {
   "cell_type": "code",
   "execution_count": 122,
   "metadata": {},
   "outputs": [
    {
     "name": "stdout",
     "output_type": "stream",
     "text": [
      "       runtype sample_id   read_id   gc_content country gene_id gene_family  \\\n",
      "count     2000      2000      2000  2000.000000    2000    2000        2000   \n",
      "unique       1       341        37          NaN      10       5           5   \n",
      "top      MISEQ    GBR320  ST6_25_F          NaN      PE     ST6         ST6   \n",
      "freq      2000        20       167          NaN     317    1242        1242   \n",
      "mean       NaN       NaN       NaN     0.454477     NaN     NaN         NaN   \n",
      "std        NaN       NaN       NaN     0.103666     NaN     NaN         NaN   \n",
      "min        NaN       NaN       NaN     0.269784     NaN     NaN         NaN   \n",
      "25%        NaN       NaN       NaN     0.380783     NaN     NaN         NaN   \n",
      "50%        NaN       NaN       NaN     0.446043     NaN     NaN         NaN   \n",
      "75%        NaN       NaN       NaN     0.533808     NaN     NaN         NaN   \n",
      "max        NaN       NaN       NaN     0.715302     NaN     NaN         NaN   \n",
      "\n",
      "       high_GC low_GC  \n",
      "count     2000   2000  \n",
      "unique       2      2  \n",
      "top       True  False  \n",
      "freq      1170   1170  \n",
      "mean       NaN    NaN  \n",
      "std        NaN    NaN  \n",
      "min        NaN    NaN  \n",
      "25%        NaN    NaN  \n",
      "50%        NaN    NaN  \n",
      "75%        NaN    NaN  \n",
      "max        NaN    NaN  \n"
     ]
    }
   ],
   "source": [
    "print(data_summary)"
   ]
  },
  {
   "cell_type": "code",
   "execution_count": 134,
   "metadata": {
    "scrolled": true
   },
   "outputs": [
    {
     "data": {
      "text/html": [
       "<div>\n",
       "<table border=\"1\" class=\"dataframe\">\n",
       "  <thead>\n",
       "    <tr style=\"text-align: right;\">\n",
       "      <th></th>\n",
       "      <th>gc_content</th>\n",
       "      <th>country</th>\n",
       "      <th>gene_id</th>\n",
       "    </tr>\n",
       "  </thead>\n",
       "  <tbody>\n",
       "    <tr>\n",
       "      <th>mean</th>\n",
       "      <td>0.454477</td>\n",
       "      <td>NaN</td>\n",
       "      <td>NaN</td>\n",
       "    </tr>\n",
       "    <tr>\n",
       "      <th>std</th>\n",
       "      <td>0.103666</td>\n",
       "      <td>NaN</td>\n",
       "      <td>NaN</td>\n",
       "    </tr>\n",
       "    <tr>\n",
       "      <th>unique</th>\n",
       "      <td>NaN</td>\n",
       "      <td>10</td>\n",
       "      <td>5</td>\n",
       "    </tr>\n",
       "  </tbody>\n",
       "</table>\n",
       "</div>"
      ],
      "text/plain": [
       "        gc_content country gene_id\n",
       "mean      0.454477     NaN     NaN\n",
       "std       0.103666     NaN     NaN\n",
       "unique         NaN      10       5"
      ]
     },
     "execution_count": 134,
     "metadata": {},
     "output_type": "execute_result"
    }
   ],
   "source": [
    "# DataFrame.loc selects rows, more on that later\n",
    "\n",
    "data_summary.loc[['mean','std', 'unique'], ['gc_content', 'country', 'gene_id']]"
   ]
  },
  {
   "cell_type": "code",
   "execution_count": 136,
   "metadata": {},
   "outputs": [
    {
     "data": {
      "text/html": [
       "<div>\n",
       "<table border=\"1\" class=\"dataframe\">\n",
       "  <thead>\n",
       "    <tr style=\"text-align: right;\">\n",
       "      <th></th>\n",
       "      <th>gc_content</th>\n",
       "      <th>country</th>\n",
       "      <th>gene_id</th>\n",
       "    </tr>\n",
       "  </thead>\n",
       "  <tbody>\n",
       "    <tr>\n",
       "      <th>mean</th>\n",
       "      <td>0.358030</td>\n",
       "      <td>NaN</td>\n",
       "      <td>NaN</td>\n",
       "    </tr>\n",
       "    <tr>\n",
       "      <th>std</th>\n",
       "      <td>0.033096</td>\n",
       "      <td>NaN</td>\n",
       "      <td>NaN</td>\n",
       "    </tr>\n",
       "    <tr>\n",
       "      <th>unique</th>\n",
       "      <td>NaN</td>\n",
       "      <td>10</td>\n",
       "      <td>5</td>\n",
       "    </tr>\n",
       "  </tbody>\n",
       "</table>\n",
       "</div>"
      ],
      "text/plain": [
       "        gc_content country gene_id\n",
       "mean      0.358030     NaN     NaN\n",
       "std       0.033096     NaN     NaN\n",
       "unique         NaN      10       5"
      ]
     },
     "execution_count": 136,
     "metadata": {},
     "output_type": "execute_result"
    }
   ],
   "source": [
    "summary_low_gc = all_data[ all_data['low_GC'] ].describe(include='all')\n",
    "summary_low_gc.loc[['mean','std', 'unique'], ['gc_content', 'country', 'gene_id']]"
   ]
  },
  {
   "cell_type": "code",
   "execution_count": 125,
   "metadata": {},
   "outputs": [
    {
     "data": {
      "text/html": [
       "<div>\n",
       "<table border=\"1\" class=\"dataframe\">\n",
       "  <thead>\n",
       "    <tr style=\"text-align: right;\">\n",
       "      <th></th>\n",
       "      <th>gc_content</th>\n",
       "      <th>country</th>\n",
       "      <th>gene_id</th>\n",
       "    </tr>\n",
       "  </thead>\n",
       "  <tbody>\n",
       "    <tr>\n",
       "      <th>mean</th>\n",
       "      <td>0.522897</td>\n",
       "      <td>NaN</td>\n",
       "      <td>NaN</td>\n",
       "    </tr>\n",
       "    <tr>\n",
       "      <th>std</th>\n",
       "      <td>0.079438</td>\n",
       "      <td>NaN</td>\n",
       "      <td>NaN</td>\n",
       "    </tr>\n",
       "    <tr>\n",
       "      <th>unique</th>\n",
       "      <td>NaN</td>\n",
       "      <td>10</td>\n",
       "      <td>5</td>\n",
       "    </tr>\n",
       "  </tbody>\n",
       "</table>\n",
       "</div>"
      ],
      "text/plain": [
       "        gc_content country gene_id\n",
       "mean      0.522897     NaN     NaN\n",
       "std       0.079438     NaN     NaN\n",
       "unique         NaN      10       5"
      ]
     },
     "execution_count": 125,
     "metadata": {},
     "output_type": "execute_result"
    }
   ],
   "source": [
    "summary_high_gc = all_data[ all_data['high_GC'] ].describe(include='all')\n",
    "summary_high_gc.loc[['mean','std', 'unique'], ['gc_content', 'country', 'gene_id']]"
   ]
  },
  {
   "cell_type": "markdown",
   "metadata": {},
   "source": [
    "So, one can accumulate the mean and std of gcContent for each country like this:"
   ]
  },
  {
   "cell_type": "code",
   "execution_count": 126,
   "metadata": {
    "scrolled": true
   },
   "outputs": [
    {
     "data": {
      "text/plain": [
       "[['ETR', 0.44554970974867297, 0.10534151849461713],\n",
       " ['ETU', 0.45156401929852419, 0.10409161378255034],\n",
       " ['GBR', 0.45791893848194437, 0.10252263578786502],\n",
       " ['GBU', 0.45720193765176947, 0.10336569094513781],\n",
       " ['GN', 0.4686122112816708, 0.10120458309604971],\n",
       " ['KE', 0.45771457970993795, 0.10415971160644032],\n",
       " ['PE', 0.45060127368175973, 0.10388439640639764],\n",
       " ['SP', 0.44288960171733605, 0.10071596509062411],\n",
       " ['SW', 0.46421487149272789, 0.10982505880438465],\n",
       " ['USW', 0.45032393461507697, 0.10507740013263712]]"
      ]
     },
     "execution_count": 126,
     "metadata": {},
     "output_type": "execute_result"
    }
   ],
   "source": [
    "output = []\n",
    "for next_country in sorted( set( all_data.country ) ):\n",
    "    next_mean, next_std = all_data[ all_data.country == next_country ].describe().loc[['mean','std'],'gc_content'] \n",
    "    output.append([next_country, next_mean, next_std])\n",
    "\n",
    "output"
   ]
  }
 ],
 "metadata": {
  "anaconda-cloud": {},
  "kernelspec": {
   "display_name": "Python 3",
   "language": "python",
   "name": "python3"
  },
  "language_info": {
   "codemirror_mode": {
    "name": "ipython",
    "version": 3
   },
   "file_extension": ".py",
   "mimetype": "text/x-python",
   "name": "python",
   "nbconvert_exporter": "python",
   "pygments_lexer": "ipython3",
   "version": "3.6.5"
  },
  "latex_envs": {
   "bibliofile": "biblio.bib",
   "cite_by": "apalike",
   "current_citInitial": 1,
   "eqLabelWithNumbers": true,
   "eqNumInitial": 0
  }
 },
 "nbformat": 4,
 "nbformat_minor": 2
}
