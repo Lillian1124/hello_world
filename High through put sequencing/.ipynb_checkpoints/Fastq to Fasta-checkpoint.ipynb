{
 "cells": [
  {
   "cell_type": "code",
   "execution_count": 1,
   "metadata": {},
   "outputs": [],
   "source": [
    "def fastaq_2_fasta(fastaq):\n",
    "    fasta_dict = {}\n",
    "    fasta_q_split = fastaq.split('\\n+\\n')[:-1]\n",
    "    for fastaq in fasta_q_split:\n",
    "        fasta = fastaq.split('\\n')[-2:]\n",
    "        fasta_dict['>'+fasta[0]] = fasta[1] \n",
    "    return fasta_dict"
   ]
  },
  {
   "cell_type": "code",
   "execution_count": 6,
   "metadata": {},
   "outputs": [],
   "source": [
    "file_read_name = 'CB037_8_3.1_R1.fastq'\n",
    " \n",
    "with open(file_read_name) as fastafile:\n",
    "    fileRead = fastafile.read()\n",
    " \n",
    "fasta = fastaq_2_fasta(fileRead)\n",
    " \n",
    "file_save_name = 'CB037_8_3.1_R1.fasta'\n",
    " \n",
    "with open(file_save_name,'w') as save_file:\n",
    "    for name in fasta:\n",
    "        string = name+'\\n'+fasta[name]+'\\n'\n",
    "        save_file.write(string)"
   ]
  },
  {
   "cell_type": "code",
   "execution_count": null,
   "metadata": {},
   "outputs": [],
   "source": []
  }
 ],
 "metadata": {
  "kernelspec": {
   "display_name": "Python 3",
   "language": "python",
   "name": "python3"
  },
  "language_info": {
   "codemirror_mode": {
    "name": "ipython",
    "version": 3
   },
   "file_extension": ".py",
   "mimetype": "text/x-python",
   "name": "python",
   "nbconvert_exporter": "python",
   "pygments_lexer": "ipython3",
   "version": "3.6.5"
  }
 },
 "nbformat": 4,
 "nbformat_minor": 2
}
