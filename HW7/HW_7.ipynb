{
 "cells": [
  {
   "cell_type": "markdown",
   "metadata": {},
   "source": [
    "# Homework 7: errors\n",
    "\n",
    "You will create a new function, and then break it and the functions you made in Homework 6!\n",
    "\n",
    "Fill out this jupyter notebook, adding code to the cells that say to do so. Be sure to save your final version.\n",
    "\n",
    "In this homework, you will have to develop your own test cases. We will run your code on our own test cases, so your code should work for sequence other than what you test them on! Think about how we might try to break your code. (better, work in a team and try to break each other's code.) One common way to break code is to give it empty input, for example.\n",
    "\n",
    "Remember that style matters. Use good function and variable names. Include appropriate comments. (one way to check this is to work in a team and \"walk through\" your code with someone else.)\n",
    "\n",
    "We will use inputs that are of the right type. For example, DNA reads will be strings of appropriate characters, not ints.\n",
    "\n",
    "**Assigned:** LN 15 10-09\n",
    "\n",
    "**Due:** LN 17 10-16\n",
    "\n",
    "Please put all your work in a directory named HW7 on your private repo, so we can keep the different homework solutions separated."
   ]
  },
  {
   "cell_type": "markdown",
   "metadata": {},
   "source": [
    "## Write new functions\n",
    "\n",
    "In HW 5 you wrote code to change a sequence into a list of open reading frames and then translate the ORFs into proteins.\n",
    "Since these are things you may want to do more than once, converrt the code to functions."
   ]
  },
  {
   "cell_type": "markdown",
   "metadata": {},
   "source": [
    "### ORF detection\n",
    "\n",
    "Write a function that converts a DNA sequence into a list of ORFs. Assume that the only reading frame of interest is the one you are given (not the other five). "
   ]
  },
  {
   "cell_type": "markdown",
   "metadata": {},
   "source": [
    "\n",
    "#### Question\n",
    "\n",
    "What do you do with a sequence that has a start codon, then another start codon, then a stop codon, then another stop codon? How many ORFs is that? Make a decision and justify your answer."
   ]
  },
  {
   "cell_type": "markdown",
   "metadata": {},
   "source": [
    "**Answer the question here:**\n",
    "There are 4 ORFs.\n",
    "First start codon to first stop codon.\n",
    "First start codon to second stop codon.\n",
    "Second start codon to first stop codon.\n",
    "Second start codon to second stop codon."
   ]
  },
  {
   "cell_type": "markdown",
   "metadata": {},
   "source": [
    "#### your ORF function"
   ]
  },
  {
   "cell_type": "code",
   "execution_count": 104,
   "metadata": {
    "code_folding": []
   },
   "outputs": [],
   "source": [
    "# PUT YOUR ORF FUNCTION HERE\n",
    "def find_ORF(dna):\n",
    "    '''\n",
    "    input a DNA sequence, it will print a list of ORFs\n",
    "    '''\n",
    "    dna = dna.upper()\n",
    "    if sum([dna.count(c) for c in {'C', 'G', 'T', 'A'}]) != len(dna):\n",
    "        print('ERROR: invalid input {}, The sequence may contain unknown letters'.format(dna))\n",
    "        return(None)\n",
    "    else:\n",
    "        \n",
    "        list_of_codons = []  \n",
    "        for i in range(int(len(dna)/3)):\n",
    "            list_of_codons.append(dna[:3]) \n",
    "            dna = dna[3:]\n",
    "  \n",
    "\n",
    "        orf_list = []    # FILL IN\n",
    "        next_orf =  []   # FILL IN\n",
    "\n",
    "        found_start, found_stop = False, False\n",
    "        for next_codon in list_of_codons:\n",
    "            if next_codon == 'ATG':    # found start\n",
    "                found_start = True   # start looking for stop\n",
    "                found_stop = False\n",
    "                next_orf = []\n",
    "            if (next_codon == 'TAG') | (next_codon == 'TGA') | (next_codon == 'TAA'): # found stop\n",
    "                found_stop = True   # start looking for next start\n",
    "            if found_start:\n",
    "                next_orf.append(next_codon)\n",
    "                if found_stop:\n",
    "                    orf_list.append(next_orf[1:-1])\n",
    "                    next_orf = []\n",
    "                    found_start, found_stop = False, False \n",
    "\n",
    "        return print('List of codons: ',list_of_codons,'\\n\\nlist of orfs: ',orf_list)"
   ]
  },
  {
   "cell_type": "code",
   "execution_count": 105,
   "metadata": {},
   "outputs": [
    {
     "name": "stdout",
     "output_type": "stream",
     "text": [
      "List of codons:  ['CCC', 'ATG', 'TCT', 'TTT', 'TGA', 'CCT', 'TAT', 'GCC', 'CTC', 'TTG'] \n",
      "\n",
      "list of orfs:  [['TCT', 'TTT']]\n"
     ]
    }
   ],
   "source": [
    "find_ORF('cccAtgtcttttTgaccttAtgccctctTga')"
   ]
  },
  {
   "cell_type": "markdown",
   "metadata": {},
   "source": [
    "### Translation\n",
    "\n",
    "Write a function that translates each ORF in a list of ORFs into a list of corresponding proteins."
   ]
  },
  {
   "cell_type": "code",
   "execution_count": 106,
   "metadata": {},
   "outputs": [],
   "source": [
    "# PUT YOUR TRANSLATION FUNCTION HERE\n",
    "\n",
    "codons = {\n",
    "        'ATA':'I', 'ATC':'I', 'ATT':'I', 'ATG':'M',\n",
    "        'ACA':'T', 'ACC':'T', 'ACG':'T', 'ACT':'T',\n",
    "        'AAC':'N', 'AAT':'N', 'AAA':'K', 'AAG':'K',\n",
    "        'AGC':'S', 'AGT':'S', 'AGA':'R', 'AGG':'R',\n",
    "        'CTA':'L', 'CTC':'L', 'CTG':'L', 'CTT':'L',\n",
    "        'CCA':'P', 'CCC':'P', 'CCG':'P', 'CCT':'P',\n",
    "        'CAC':'H', 'CAT':'H', 'CAA':'Q', 'CAG':'Q',\n",
    "        'CGA':'R', 'CGC':'R', 'CGG':'R', 'CGT':'R',\n",
    "        'GTA':'V', 'GTC':'V', 'GTG':'V', 'GTT':'V',\n",
    "        'GCA':'A', 'GCC':'A', 'GCG':'A', 'GCT':'A',\n",
    "        'GAC':'D', 'GAT':'D', 'GAA':'E', 'GAG':'E',\n",
    "        'GGA':'G', 'GGC':'G', 'GGG':'G', 'GGT':'G',\n",
    "        'TCA':'S', 'TCC':'S', 'TCG':'S', 'TCT':'S',\n",
    "        'TTC':'F', 'TTT':'F', 'TTA':'L', 'TTG':'L',\n",
    "        'TAC':'Y', 'TAT':'Y', 'TAA':'_', 'TAG':'_',\n",
    "        'TGC':'C', 'TGT':'C', 'TGA':'_', 'TGG':'W',\n",
    "    }\n",
    "def translate( dna,codon_table=codons):\n",
    "    '''\n",
    "    imput a DNA sequence (string), it will output a protein sequence\n",
    "    '''\n",
    "    dna = dna.upper()\n",
    "    if sum([dna.count(c) for c in {'C', 'G', 'T', 'A'}]) != len(dna):\n",
    "        print('ERROR: invalid input {}, The sequence may contain unknown letters'.format(dna))\n",
    "        return(None)\n",
    "    else:\n",
    "        \n",
    "        list_of_codons = []  \n",
    "        for i in range(int(len(dna)/3)):\n",
    "            list_of_codons.append(dna[:3]) \n",
    "            dna = dna[3:]\n",
    "  \n",
    "\n",
    "        orf_list = []    # FILL IN\n",
    "        next_orf =  []   # FILL IN\n",
    "\n",
    "        found_start, found_stop = False, False\n",
    "        for next_codon in list_of_codons:\n",
    "            if next_codon == 'ATG':    # found start\n",
    "                found_start = True   # start looking for stop\n",
    "                found_stop = False\n",
    "                next_orf = []\n",
    "            if (next_codon == 'TAG') | (next_codon == 'TGA') | (next_codon == 'TAA'): # found stop\n",
    "                found_stop = True   # start looking for next start\n",
    "            if found_start:\n",
    "                next_orf.append(next_codon)\n",
    "                if found_stop:\n",
    "                    orf_list.append(next_orf[1:-1])\n",
    "                    next_orf = []\n",
    "                    found_start, found_stop = False, False \n",
    "    \n",
    "        all_translated_proteins = []\n",
    "        for next_orf in orf_list:\n",
    "            protein_translation = []\n",
    "            for next_codon in next_orf:\n",
    "                protein_translation.append(codons[next_codon])\n",
    "            all_translated_proteins.append(''.join(protein_translation))\n",
    "\n",
    "        return print(all_translated_proteins)\n"
   ]
  },
  {
   "cell_type": "code",
   "execution_count": 107,
   "metadata": {},
   "outputs": [
    {
     "name": "stdout",
     "output_type": "stream",
     "text": [
      "ERROR: invalid input AAATGAAAA?TAGA, The sequence may contain unknown letters\n"
     ]
    }
   ],
   "source": [
    "translate('aaatgaaaa?tagA')"
   ]
  },
  {
   "cell_type": "markdown",
   "metadata": {},
   "source": [
    "## Break your code\n",
    "\n",
    "In each of these questions, you will first copy your working code to a cell, then revise your code so that it throws the required exception."
   ]
  },
  {
   "cell_type": "markdown",
   "metadata": {},
   "source": [
    "### Break *compute_content* from HW 6 \n",
    "\n",
    "Revise your *compute_content* function from HW6 so that it throws a *DivideByZero* exception on some inputs, but always gets the GC content correct. (hint, that means you can't just out a zero into the division when computing gc content)."
   ]
  },
  {
   "cell_type": "code",
   "execution_count": 75,
   "metadata": {},
   "outputs": [],
   "source": [
    "# copy your correct code here\n",
    "def get_gc_content_correct( input_string, \n",
    "                    nucleotides = {'A', 'C', 'G', 'T'},\n",
    "                    ambiguity_codes = {'K', 'M', 'R', 'Y', 'S', 'W', 'B', 'V', 'H', 'D', 'N'}):\n",
    "    input_string = input_string.upper()\n",
    "    if (set(input_string).intersection(nucleotides) == set() & \n",
    "        set(input_string).intersection(ambiguity_codes) == set()\n",
    "       ) or (sum([input_string.count(c) for c in {'C', 'G','T','A','K', 'M', 'R', 'Y',\n",
    "                                                 'S', 'W', 'B', 'V', 'H', 'D', 'N'}]) !=len(input_string)) : \n",
    "            print('ERROR: invalid input {}, The sequence may contain unknown letters.'.format(input_string))\n",
    "            return(None)\n",
    "    else:\n",
    "        gc_content = sum([input_string.count(c) for c in {'C', 'G'}])\n",
    "        gc_content = gc_content / sum([input_string.count(c) for c in nucleotides.union(ambiguity_codes) ])\n",
    "        return print('The GC content is {}.'.format(round(gc_content,3)))"
   ]
  },
  {
   "cell_type": "code",
   "execution_count": 77,
   "metadata": {},
   "outputs": [
    {
     "name": "stdout",
     "output_type": "stream",
     "text": [
      "The GC content is 0.462.\n"
     ]
    }
   ],
   "source": [
    "get_gc_content_correct('ttaacccgggttt')"
   ]
  },
  {
   "cell_type": "code",
   "execution_count": 88,
   "metadata": {},
   "outputs": [],
   "source": [
    "# put your broken code here\n",
    "def get_gc_content_correct( input_string, \n",
    "                    nucleotides = {'A', 'C', 'G', 'T'},\n",
    "                    ambiguity_codes = {'K', 'M', 'R', 'Y', 'S', 'W', 'B', 'V', 'H', 'D', 'N'}):\n",
    "    input_string = input_string.upper()\n",
    "    gc_content = sum([input_string.count(c) for c in {'C', 'G'}])\n",
    "    gc_content = gc_content / sum([input_string.count(c) for c in nucleotides.union(ambiguity_codes) ])\n",
    "    return print('The GC content is {}.'.format(round(gc_content,3)))"
   ]
  },
  {
   "cell_type": "code",
   "execution_count": 89,
   "metadata": {},
   "outputs": [
    {
     "ename": "ZeroDivisionError",
     "evalue": "division by zero",
     "output_type": "error",
     "traceback": [
      "\u001b[1;31m---------------------------------------------------------------------------\u001b[0m",
      "\u001b[1;31mZeroDivisionError\u001b[0m                         Traceback (most recent call last)",
      "\u001b[1;32m<ipython-input-89-c6102fdc8276>\u001b[0m in \u001b[0;36m<module>\u001b[1;34m()\u001b[0m\n\u001b[1;32m----> 1\u001b[1;33m \u001b[0mget_gc_content_correct\u001b[0m\u001b[1;33m(\u001b[0m\u001b[1;34m''\u001b[0m\u001b[1;33m)\u001b[0m\u001b[1;33m\u001b[0m\u001b[0m\n\u001b[0m",
      "\u001b[1;32m<ipython-input-88-d62e285c7f38>\u001b[0m in \u001b[0;36mget_gc_content_correct\u001b[1;34m(input_string, nucleotides, ambiguity_codes)\u001b[0m\n\u001b[0;32m      5\u001b[0m     \u001b[0minput_string\u001b[0m \u001b[1;33m=\u001b[0m \u001b[0minput_string\u001b[0m\u001b[1;33m.\u001b[0m\u001b[0mupper\u001b[0m\u001b[1;33m(\u001b[0m\u001b[1;33m)\u001b[0m\u001b[1;33m\u001b[0m\u001b[0m\n\u001b[0;32m      6\u001b[0m     \u001b[0mgc_content\u001b[0m \u001b[1;33m=\u001b[0m \u001b[0msum\u001b[0m\u001b[1;33m(\u001b[0m\u001b[1;33m[\u001b[0m\u001b[0minput_string\u001b[0m\u001b[1;33m.\u001b[0m\u001b[0mcount\u001b[0m\u001b[1;33m(\u001b[0m\u001b[0mc\u001b[0m\u001b[1;33m)\u001b[0m \u001b[1;32mfor\u001b[0m \u001b[0mc\u001b[0m \u001b[1;32min\u001b[0m \u001b[1;33m{\u001b[0m\u001b[1;34m'C'\u001b[0m\u001b[1;33m,\u001b[0m \u001b[1;34m'G'\u001b[0m\u001b[1;33m}\u001b[0m\u001b[1;33m]\u001b[0m\u001b[1;33m)\u001b[0m\u001b[1;33m\u001b[0m\u001b[0m\n\u001b[1;32m----> 7\u001b[1;33m     \u001b[0mgc_content\u001b[0m \u001b[1;33m=\u001b[0m \u001b[0mgc_content\u001b[0m \u001b[1;33m/\u001b[0m \u001b[0msum\u001b[0m\u001b[1;33m(\u001b[0m\u001b[1;33m[\u001b[0m\u001b[0minput_string\u001b[0m\u001b[1;33m.\u001b[0m\u001b[0mcount\u001b[0m\u001b[1;33m(\u001b[0m\u001b[0mc\u001b[0m\u001b[1;33m)\u001b[0m \u001b[1;32mfor\u001b[0m \u001b[0mc\u001b[0m \u001b[1;32min\u001b[0m \u001b[0mnucleotides\u001b[0m\u001b[1;33m.\u001b[0m\u001b[0munion\u001b[0m\u001b[1;33m(\u001b[0m\u001b[0mambiguity_codes\u001b[0m\u001b[1;33m)\u001b[0m \u001b[1;33m]\u001b[0m\u001b[1;33m)\u001b[0m\u001b[1;33m\u001b[0m\u001b[0m\n\u001b[0m\u001b[0;32m      8\u001b[0m     \u001b[1;32mreturn\u001b[0m \u001b[0mprint\u001b[0m\u001b[1;33m(\u001b[0m\u001b[1;34m'The GC content is {}.'\u001b[0m\u001b[1;33m.\u001b[0m\u001b[0mformat\u001b[0m\u001b[1;33m(\u001b[0m\u001b[0mround\u001b[0m\u001b[1;33m(\u001b[0m\u001b[0mgc_content\u001b[0m\u001b[1;33m,\u001b[0m\u001b[1;36m3\u001b[0m\u001b[1;33m)\u001b[0m\u001b[1;33m)\u001b[0m\u001b[1;33m)\u001b[0m\u001b[1;33m\u001b[0m\u001b[0m\n",
      "\u001b[1;31mZeroDivisionError\u001b[0m: division by zero"
     ]
    }
   ],
   "source": [
    "get_gc_content_correct('')"
   ]
  },
  {
   "cell_type": "markdown",
   "metadata": {},
   "source": [
    "### Break *compute_content* from HW 6 a different way\n",
    "\n",
    "Make your code throw a *TypeError*"
   ]
  },
  {
   "cell_type": "code",
   "execution_count": 122,
   "metadata": {},
   "outputs": [],
   "source": [
    "# copy your correct code here\n",
    "\n",
    "def get_gc_content_correct( input_string, \n",
    "                    nucleotides = {'A', 'C', 'G', 'T'},\n",
    "                    ambiguity_codes = {'K', 'M', 'R', 'Y', 'S', 'W', 'B', 'V', 'H', 'D', 'N'}):\n",
    "    type(input_string) == str\n",
    "    while True:\n",
    "        try:\n",
    "            input_string = input_string.upper()\n",
    "            if (set(input_string).intersection(nucleotides) == set() & \n",
    "                set(input_string).intersection(ambiguity_codes) == set()\n",
    "               ) or (sum([input_string.count(c) for c in {'C', 'G','T','A','K', 'M', 'R', 'Y',\n",
    "                                                 'S', 'W', 'B', 'V', 'H', 'D', 'N'}]) !=len(input_string)) : \n",
    "                    print('ERROR: invalid input {}'.format(input_string))\n",
    "                    return(None)\n",
    "            else:\n",
    "                gc_content = sum([input_string.count(c) for c in {'C', 'G'}])\n",
    "                gc_content = gc_content / sum([input_string.count(c) for c in nucleotides.union(ambiguity_codes) ])\n",
    "                return print('The GC content is {}.'.format(round(gc_content,3)))\n",
    "        except TypeError:\n",
    "            print('ddd')\n",
    "            "
   ]
  },
  {
   "cell_type": "code",
   "execution_count": 123,
   "metadata": {},
   "outputs": [
    {
     "ename": "AttributeError",
     "evalue": "'int' object has no attribute 'upper'",
     "output_type": "error",
     "traceback": [
      "\u001b[1;31m---------------------------------------------------------------------------\u001b[0m",
      "\u001b[1;31mAttributeError\u001b[0m                            Traceback (most recent call last)",
      "\u001b[1;32m<ipython-input-123-ee8024310294>\u001b[0m in \u001b[0;36m<module>\u001b[1;34m()\u001b[0m\n\u001b[1;32m----> 1\u001b[1;33m \u001b[0mget_gc_content_correct\u001b[0m\u001b[1;33m(\u001b[0m\u001b[1;36m1\u001b[0m\u001b[1;33m)\u001b[0m\u001b[1;33m\u001b[0m\u001b[0m\n\u001b[0m",
      "\u001b[1;32m<ipython-input-122-b7681a9a9f3a>\u001b[0m in \u001b[0;36mget_gc_content_correct\u001b[1;34m(input_string, nucleotides, ambiguity_codes)\u001b[0m\n\u001b[0;32m      7\u001b[0m     \u001b[1;32mwhile\u001b[0m \u001b[1;32mTrue\u001b[0m\u001b[1;33m:\u001b[0m\u001b[1;33m\u001b[0m\u001b[0m\n\u001b[0;32m      8\u001b[0m         \u001b[1;32mtry\u001b[0m\u001b[1;33m:\u001b[0m\u001b[1;33m\u001b[0m\u001b[0m\n\u001b[1;32m----> 9\u001b[1;33m             \u001b[0minput_string\u001b[0m \u001b[1;33m=\u001b[0m \u001b[0minput_string\u001b[0m\u001b[1;33m.\u001b[0m\u001b[0mupper\u001b[0m\u001b[1;33m(\u001b[0m\u001b[1;33m)\u001b[0m\u001b[1;33m\u001b[0m\u001b[0m\n\u001b[0m\u001b[0;32m     10\u001b[0m             if (set(input_string).intersection(nucleotides) == set() & \n\u001b[0;32m     11\u001b[0m                 \u001b[0mset\u001b[0m\u001b[1;33m(\u001b[0m\u001b[0minput_string\u001b[0m\u001b[1;33m)\u001b[0m\u001b[1;33m.\u001b[0m\u001b[0mintersection\u001b[0m\u001b[1;33m(\u001b[0m\u001b[0mambiguity_codes\u001b[0m\u001b[1;33m)\u001b[0m \u001b[1;33m==\u001b[0m \u001b[0mset\u001b[0m\u001b[1;33m(\u001b[0m\u001b[1;33m)\u001b[0m\u001b[1;33m\u001b[0m\u001b[0m\n",
      "\u001b[1;31mAttributeError\u001b[0m: 'int' object has no attribute 'upper'"
     ]
    }
   ],
   "source": [
    "get_gc_content_correct(1)"
   ]
  },
  {
   "cell_type": "code",
   "execution_count": 93,
   "metadata": {},
   "outputs": [],
   "source": [
    "# put your broken code here   ????\n",
    "def get_gc_content_correct( input_string, \n",
    "                    nucleotides = {'A', 'C', 'G', 'T'},\n",
    "                    ambiguity_codes = {'K', 'M', 'R', 'Y', 'S', 'W', 'B', 'V', 'H', 'D', 'N'}):\n",
    "    input_string = input_string.upper()\n",
    "    if (set(input_string).intersection(nucleotides) == set() & \n",
    "        set(input_string).intersection(ambiguity_codes) == set()\n",
    "       ) : \n",
    "            print('ERROR: invalid input {}'.format(input_string))\n",
    "            return(None)\n",
    "    else:\n",
    "        gc_content = sum([input_string.count(c) for c in {'C', 'G'}])\n",
    "        gc_content = gc_content / sum([input_string.count(c) for c in nucleotides.union(ambiguity_codes) ])\n",
    "        return print('The GC content is {}.'.format(round(gc_content,3)))"
   ]
  },
  {
   "cell_type": "code",
   "execution_count": 69,
   "metadata": {},
   "outputs": [
    {
     "ename": "TypeError",
     "evalue": "must be str, not int",
     "output_type": "error",
     "traceback": [
      "\u001b[1;31m---------------------------------------------------------------------------\u001b[0m",
      "\u001b[1;31mTypeError\u001b[0m                                 Traceback (most recent call last)",
      "\u001b[1;32m<ipython-input-69-f4ce1ac1bdd7>\u001b[0m in \u001b[0;36m<module>\u001b[1;34m()\u001b[0m\n\u001b[1;32m----> 1\u001b[1;33m \u001b[0mget_gc_content_correct\u001b[0m\u001b[1;33m(\u001b[0m\u001b[1;34m'c'\u001b[0m\u001b[1;33m+\u001b[0m\u001b[1;36m1\u001b[0m\u001b[1;33m)\u001b[0m\u001b[1;33m\u001b[0m\u001b[0m\n\u001b[0m",
      "\u001b[1;31mTypeError\u001b[0m: must be str, not int"
     ]
    }
   ],
   "source": [
    "get_gc_content_correct('c'+1)"
   ]
  },
  {
   "cell_type": "markdown",
   "metadata": {},
   "source": [
    "### Break your ORF  code\n",
    "\n",
    "Make your code throw an *IndexError*"
   ]
  },
  {
   "cell_type": "code",
   "execution_count": 6,
   "metadata": {},
   "outputs": [],
   "source": [
    "# copy your correct code here\n",
    "def find_ORF(dna):\n",
    "    '''\n",
    "    input a DNA sequence, it will print a list of ORFs\n",
    "    '''\n",
    "    dna = dna.upper()\n",
    "    list_of_codons = []  \n",
    "    for i in range(int(len(dna)/3)):\n",
    "        list_of_codons.append(dna[:3]) \n",
    "        dna = dna[3:]\n",
    "  \n",
    "\n",
    "    orf_list = []    # FILL IN\n",
    "    next_orf =  []   # FILL IN\n",
    "\n",
    "    found_start, found_stop = False, False\n",
    "    for next_codon in list_of_codons:\n",
    "        if next_codon == 'ATG':    # found start\n",
    "            found_start = True   # start looking for stop\n",
    "            found_stop = False\n",
    "            next_orf = []\n",
    "        if (next_codon == 'TAG') | (next_codon == 'TGA') | (next_codon == 'TAA'): # found stop\n",
    "            found_stop = True   # start looking for next start\n",
    "        if found_start:\n",
    "            next_orf.append(next_codon)\n",
    "            if found_stop:\n",
    "                orf_list.append(next_orf[1:-1])\n",
    "                next_orf = []\n",
    "                found_start, found_stop = False, False \n",
    "\n",
    "    return print('List of codons: ',list_of_codons,'\\n\\nlist of orfs: ',orf_list)"
   ]
  },
  {
   "cell_type": "code",
   "execution_count": 148,
   "metadata": {
    "code_folding": []
   },
   "outputs": [],
   "source": [
    "# put your broken code here  ???\n",
    "def find_ORF(dna):\n",
    "    '''\n",
    "    input a DNA sequence, it will print a list of ORFs\n",
    "    '''\n",
    "    dna = dna.upper()\n",
    "    list_of_codons = []  \n",
    "    for i in range(int(len(dna)/3)):\n",
    "        list_of_codons.append(dna[:3]) \n",
    "        dna = dna[3:]\n",
    "  \n",
    "\n",
    "    orf_list = []    # FILL IN\n",
    "    next_orf =  []   # FILL IN\n",
    "\n",
    "    found_start, found_stop = False, False\n",
    "    for next_codon in list_of_codons:\n",
    "        if next_codon == 'ATG':    # found start\n",
    "            found_start = True   # start looking for stop\n",
    "            found_stop = False\n",
    "            next_orf = []\n",
    "        if (next_codon == 'TAG') | (next_codon == 'TGA') | (next_codon == 'TAA'): # found stop\n",
    "            found_stop = True   # start looking for next start\n",
    "        if found_start:\n",
    "            next_orf.append(next_codon)\n",
    "            if found_stop:\n",
    "                orf_list.append(next_orf[1:-1])\n",
    "                next_orf = []\n",
    "                found_start, found_stop = False, False \n",
    "\n",
    "    return print('List of codons: ',list_of_codons,'\\n\\nlist of orfs: ',orf_list)"
   ]
  },
  {
   "cell_type": "code",
   "execution_count": 149,
   "metadata": {},
   "outputs": [
    {
     "name": "stdout",
     "output_type": "stream",
     "text": [
      "List of codons:  ['GGA', '', '', ''] \n",
      "\n",
      "list of orfs:  []\n"
     ]
    }
   ],
   "source": [
    "find_ORF('ggatggccttta')"
   ]
  },
  {
   "cell_type": "markdown",
   "metadata": {},
   "source": [
    "## Extra Credit"
   ]
  },
  {
   "cell_type": "markdown",
   "metadata": {},
   "source": [
    "### Break your translation code\n",
    "\n",
    "Make your code throw a *KeyError*"
   ]
  },
  {
   "cell_type": "code",
   "execution_count": 93,
   "metadata": {},
   "outputs": [],
   "source": [
    "# copy your correct code here\n",
    "# PUT YOUR TRANSLATION FUNCTION HERE\n",
    "\n",
    "codons = {\n",
    "        'ATA':'I', 'ATC':'I', 'ATT':'I', 'ATG':'M',\n",
    "        'ACA':'T', 'ACC':'T', 'ACG':'T', 'ACT':'T',\n",
    "        'AAC':'N', 'AAT':'N', 'AAA':'K', 'AAG':'K',\n",
    "        'AGC':'S', 'AGT':'S', 'AGA':'R', 'AGG':'R',\n",
    "        'CTA':'L', 'CTC':'L', 'CTG':'L', 'CTT':'L',\n",
    "        'CCA':'P', 'CCC':'P', 'CCG':'P', 'CCT':'P',\n",
    "        'CAC':'H', 'CAT':'H', 'CAA':'Q', 'CAG':'Q',\n",
    "        'CGA':'R', 'CGC':'R', 'CGG':'R', 'CGT':'R',\n",
    "        'GTA':'V', 'GTC':'V', 'GTG':'V', 'GTT':'V',\n",
    "        'GCA':'A', 'GCC':'A', 'GCG':'A', 'GCT':'A',\n",
    "        'GAC':'D', 'GAT':'D', 'GAA':'E', 'GAG':'E',\n",
    "        'GGA':'G', 'GGC':'G', 'GGG':'G', 'GGT':'G',\n",
    "        'TCA':'S', 'TCC':'S', 'TCG':'S', 'TCT':'S',\n",
    "        'TTC':'F', 'TTT':'F', 'TTA':'L', 'TTG':'L',\n",
    "        'TAC':'Y', 'TAT':'Y', 'TAA':'_', 'TAG':'_',\n",
    "        'TGC':'C', 'TGT':'C', 'TGA':'_', 'TGG':'W',\n",
    "    }\n",
    "def translate( dna,codon_table=codons):\n",
    "    '''\n",
    "    imput a DNA sequence (string), it will output a protein sequence\n",
    "    '''\n",
    "    dna = dna.upper()\n",
    "    if sum([dna.count(c) for c in {'C', 'G', 'T', 'A'}]) != len(dna):\n",
    "        print('ERROR: invalid input {}, The sequence may contain unknown letters'.format(dna))\n",
    "        return(None)\n",
    "    else:\n",
    "        \n",
    "        list_of_codons = []  \n",
    "        for i in range(int(len(dna)/3)):\n",
    "            list_of_codons.append(dna[:3]) \n",
    "            dna = dna[3:]\n",
    "  \n",
    "\n",
    "        orf_list = []    # FILL IN\n",
    "        next_orf =  []   # FILL IN\n",
    "\n",
    "        found_start, found_stop = False, False\n",
    "        for next_codon in list_of_codons:\n",
    "            if next_codon == 'ATG':    # found start\n",
    "                found_start = True   # start looking for stop\n",
    "                found_stop = False\n",
    "                next_orf = []\n",
    "            if (next_codon == 'TAG') | (next_codon == 'TGA') | (next_codon == 'TAA'): # found stop\n",
    "                found_stop = True   # start looking for next start\n",
    "            if found_start:\n",
    "                next_orf.append(next_codon)\n",
    "                if found_stop:\n",
    "                    orf_list.append(next_orf[1:-1])\n",
    "                    next_orf = []\n",
    "                    found_start, found_stop = False, False \n",
    "    \n",
    "        all_translated_proteins = []\n",
    "        for next_orf in orf_list:\n",
    "            protein_translation = []\n",
    "            for next_codon in next_orf:\n",
    "                protein_translation.append(codons[next_codon])\n",
    "            all_translated_proteins.append(''.join(protein_translation))\n",
    "\n",
    "        return print(all_translated_proteins)\n"
   ]
  },
  {
   "cell_type": "code",
   "execution_count": 94,
   "metadata": {},
   "outputs": [
    {
     "name": "stdout",
     "output_type": "stream",
     "text": [
      "ERROR: invalid input A?CGGCC, The sequence may contain unknown letters\n"
     ]
    }
   ],
   "source": [
    "translate('a?cggcc')"
   ]
  },
  {
   "cell_type": "code",
   "execution_count": 95,
   "metadata": {},
   "outputs": [],
   "source": [
    "# put your broken code here\n",
    "# PUT YOUR TRANSLATION FUNCTION HERE\n",
    "\n",
    "codons = {\n",
    "        'ATA':'I', 'ATC':'I', 'ATT':'I', 'ATG':'M',\n",
    "        'ACA':'T', 'ACC':'T', 'ACG':'T', 'ACT':'T',\n",
    "        'AAC':'N', 'AAT':'N', 'AAA':'K', 'AAG':'K',\n",
    "        'AGC':'S', 'AGT':'S', 'AGA':'R', 'AGG':'R',\n",
    "        'CTA':'L', 'CTC':'L', 'CTG':'L', 'CTT':'L',\n",
    "        'CCA':'P', 'CCC':'P', 'CCG':'P', 'CCT':'P',\n",
    "        'CAC':'H', 'CAT':'H', 'CAA':'Q', 'CAG':'Q',\n",
    "        'CGA':'R', 'CGC':'R', 'CGG':'R', 'CGT':'R',\n",
    "        'GTA':'V', 'GTC':'V', 'GTG':'V', 'GTT':'V',\n",
    "        'GCA':'A', 'GCC':'A', 'GCG':'A', 'GCT':'A',\n",
    "        'GAC':'D', 'GAT':'D', 'GAA':'E', 'GAG':'E',\n",
    "        'GGA':'G', 'GGC':'G', 'GGG':'G', 'GGT':'G',\n",
    "        'TCA':'S', 'TCC':'S', 'TCG':'S', 'TCT':'S',\n",
    "        'TTC':'F', 'TTT':'F', 'TTA':'L', 'TTG':'L',\n",
    "        'TAC':'Y', 'TAT':'Y', 'TAA':'_', 'TAG':'_',\n",
    "        'TGC':'C', 'TGT':'C', 'TGA':'_', 'TGG':'W',\n",
    "    }\n",
    "def translate( dna,codon_table=codons):\n",
    "    '''\n",
    "    imput a DNA sequence (string), it will output a protein sequence\n",
    "    '''\n",
    "    dna = dna.upper()  \n",
    "    list_of_codons = []  \n",
    "    for i in range(int(len(dna)/3)):\n",
    "        list_of_codons.append(dna[:3]) \n",
    "        dna = dna[3:]\n",
    "  \n",
    "\n",
    "    orf_list = []    # FILL IN\n",
    "    next_orf =  []   # FILL IN\n",
    "\n",
    "    found_start, found_stop = False, False\n",
    "    for next_codon in list_of_codons:\n",
    "        if next_codon == 'ATG':    # found start\n",
    "            found_start = True   # start looking for stop\n",
    "            found_stop = False\n",
    "            next_orf = []\n",
    "        if (next_codon == 'TAG') | (next_codon == 'TGA') | (next_codon == 'TAA'): # found stop\n",
    "            found_stop = True   # start looking for next start\n",
    "        if found_start:\n",
    "            next_orf.append(next_codon)\n",
    "            if found_stop:\n",
    "                orf_list.append(next_orf[1:-1])\n",
    "                next_orf = []\n",
    "                found_start, found_stop = False, False\n",
    "    print(orf_list)\n",
    "    \n",
    "    all_translated_proteins = []\n",
    "    for next_orf in orf_list:\n",
    "        protein_translation = []\n",
    "        for next_codon in next_orf:\n",
    "            protein_translation.append(codons[next_codon])\n",
    "        all_translated_proteins.append(''.join(protein_translation))\n",
    "\n",
    "    return print(all_translated_proteins)\n"
   ]
  },
  {
   "cell_type": "code",
   "execution_count": 96,
   "metadata": {},
   "outputs": [
    {
     "name": "stdout",
     "output_type": "stream",
     "text": [
      "[['?CC', 'TTT', 'CCC']]\n"
     ]
    },
    {
     "ename": "KeyError",
     "evalue": "'?CC'",
     "output_type": "error",
     "traceback": [
      "\u001b[1;31m---------------------------------------------------------------------------\u001b[0m",
      "\u001b[1;31mKeyError\u001b[0m                                  Traceback (most recent call last)",
      "\u001b[1;32m<ipython-input-96-327d51ea0fe0>\u001b[0m in \u001b[0;36m<module>\u001b[1;34m()\u001b[0m\n\u001b[1;32m----> 1\u001b[1;33m \u001b[0mtranslate\u001b[0m\u001b[1;33m(\u001b[0m\u001b[1;34m'acgatg?cctttccctaggcc'\u001b[0m\u001b[1;33m)\u001b[0m\u001b[1;33m\u001b[0m\u001b[0m\n\u001b[0m",
      "\u001b[1;32m<ipython-input-95-60f285c624ac>\u001b[0m in \u001b[0;36mtranslate\u001b[1;34m(dna, codon_table)\u001b[0m\n\u001b[0;32m     54\u001b[0m         \u001b[0mprotein_translation\u001b[0m \u001b[1;33m=\u001b[0m \u001b[1;33m[\u001b[0m\u001b[1;33m]\u001b[0m\u001b[1;33m\u001b[0m\u001b[0m\n\u001b[0;32m     55\u001b[0m         \u001b[1;32mfor\u001b[0m \u001b[0mnext_codon\u001b[0m \u001b[1;32min\u001b[0m \u001b[0mnext_orf\u001b[0m\u001b[1;33m:\u001b[0m\u001b[1;33m\u001b[0m\u001b[0m\n\u001b[1;32m---> 56\u001b[1;33m             \u001b[0mprotein_translation\u001b[0m\u001b[1;33m.\u001b[0m\u001b[0mappend\u001b[0m\u001b[1;33m(\u001b[0m\u001b[0mcodons\u001b[0m\u001b[1;33m[\u001b[0m\u001b[0mnext_codon\u001b[0m\u001b[1;33m]\u001b[0m\u001b[1;33m)\u001b[0m\u001b[1;33m\u001b[0m\u001b[0m\n\u001b[0m\u001b[0;32m     57\u001b[0m         \u001b[0mall_translated_proteins\u001b[0m\u001b[1;33m.\u001b[0m\u001b[0mappend\u001b[0m\u001b[1;33m(\u001b[0m\u001b[1;34m''\u001b[0m\u001b[1;33m.\u001b[0m\u001b[0mjoin\u001b[0m\u001b[1;33m(\u001b[0m\u001b[0mprotein_translation\u001b[0m\u001b[1;33m)\u001b[0m\u001b[1;33m)\u001b[0m\u001b[1;33m\u001b[0m\u001b[0m\n\u001b[0;32m     58\u001b[0m \u001b[1;33m\u001b[0m\u001b[0m\n",
      "\u001b[1;31mKeyError\u001b[0m: '?CC'"
     ]
    }
   ],
   "source": [
    "translate('acgatg?cctttccctaggcc')"
   ]
  },
  {
   "cell_type": "markdown",
   "metadata": {},
   "source": [
    "## Grading\n",
    "\n",
    "grade | if\n",
    "----- | :---------\n",
    "0     | you don't turn in anything (in the *master* branch of *HW6* in your private repo)\n",
    "1     | you turn in something but it isn't correct\n",
    "2     | you turn in something, some is correct but some isn't\n",
    "3     | All of your code is correct, but it violates proper style, or has poor/missing comments\n",
    "4     | what you turned in is correct, stylish, and complete, and you answer all questions\n"
   ]
  },
  {
   "cell_type": "code",
   "execution_count": null,
   "metadata": {},
   "outputs": [],
   "source": []
  }
 ],
 "metadata": {
  "anaconda-cloud": {},
  "kernelspec": {
   "display_name": "Python 3",
   "language": "python",
   "name": "python3"
  },
  "language_info": {
   "codemirror_mode": {
    "name": "ipython",
    "version": 3
   },
   "file_extension": ".py",
   "mimetype": "text/x-python",
   "name": "python",
   "nbconvert_exporter": "python",
   "pygments_lexer": "ipython3",
   "version": "3.6.5"
  },
  "latex_envs": {
   "bibliofile": "biblio.bib",
   "cite_by": "apalike",
   "current_citInitial": 1,
   "eqLabelWithNumbers": true,
   "eqNumInitial": 0
  }
 },
 "nbformat": 4,
 "nbformat_minor": 2
}
