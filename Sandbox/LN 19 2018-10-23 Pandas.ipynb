{
 "cells": [
  {
   "cell_type": "markdown",
   "metadata": {},
   "source": [
    "# Lecture 19 2018-10-23: Pandas\n",
    "\n",
    "Pandas. Eats. Shoots. and Leaves."
   ]
  },
  {
   "cell_type": "markdown",
   "metadata": {},
   "source": [
    "We will use an abbreviated version of a dataset containing milk oligosaccaride gene sequences. "
   ]
  },
  {
   "cell_type": "code",
   "execution_count": 93,
   "metadata": {
    "collapsed": true
   },
   "outputs": [],
   "source": [
    "import pandas as pd\n",
    "from pandas import Series, DataFrame   # use these so often, this can be helpful\n",
    "\n",
    "import numpy as np\n",
    "\n",
    "from matplotlib import pyplot as plt\n",
    "%matplotlib inline"
   ]
  },
  {
   "cell_type": "markdown",
   "metadata": {},
   "source": [
    "## Get summary of milk oligo data\n",
    "\n",
    "There is a link to a file that summarizes milk oligosaccaride gene data in Resources/Datasets. We use that link to read the dataset into this notbook. \n",
    "\n",
    "The purpose of this lecture is to explore Pandas. "
   ]
  },
  {
   "cell_type": "code",
   "execution_count": 94,
   "metadata": {
    "collapsed": false
   },
   "outputs": [],
   "source": [
    "# walk through use of exceptions\n",
    "\n",
    "milk_summary_file = 'milk_summary.txt'\n",
    "try:\n",
    "   with open( milk_summary_file ) as input_file:\n",
    "      input_lines = input_file.readlines()\n",
    "except OSError as err:\n",
    "   print( \"**ERROR** Cannot open {}, error {}\".format( milk_summary_file, err ) )\n",
    "except:\n",
    "   print( \"**ERROR** unknown error with {%s: %s}\".format( milk_summary_file ) )"
   ]
  },
  {
   "cell_type": "code",
   "execution_count": 95,
   "metadata": {
    "collapsed": false
   },
   "outputs": [
    {
     "ename": "KeyError",
     "evalue": "'%s'",
     "output_type": "error",
     "traceback": [
      "\u001b[0;31m---------------------------------------------------------------------------\u001b[0m",
      "\u001b[0;31mKeyError\u001b[0m                                  Traceback (most recent call last)",
      "\u001b[0;32m<ipython-input-95-ba6d297df74b>\u001b[0m in \u001b[0;36m<module>\u001b[0;34m()\u001b[0m\n\u001b[1;32m      4\u001b[0m    \u001b[0;32mprint\u001b[0m\u001b[0;34m(\u001b[0m \u001b[0;34m\"**ERROR** Cannot open {}, error {}\"\u001b[0m\u001b[0;34m.\u001b[0m\u001b[0mformat\u001b[0m\u001b[0;34m(\u001b[0m \u001b[0mmilk_summary_file\u001b[0m\u001b[0;34m,\u001b[0m \u001b[0merr\u001b[0m \u001b[0;34m)\u001b[0m \u001b[0;34m)\u001b[0m\u001b[0;34m\u001b[0m\u001b[0m\n\u001b[1;32m      5\u001b[0m \u001b[0;32mexcept\u001b[0m\u001b[0;34m:\u001b[0m\u001b[0;34m\u001b[0m\u001b[0m\n\u001b[0;32m----> 6\u001b[0;31m    \u001b[0;32mprint\u001b[0m\u001b[0;34m(\u001b[0m \u001b[0;34m\"**ERROR** unknown error with {%s: %s}\"\u001b[0m\u001b[0;34m.\u001b[0m\u001b[0mformat\u001b[0m\u001b[0;34m(\u001b[0m \u001b[0mmilk_summary_file\u001b[0m \u001b[0;34m)\u001b[0m \u001b[0;34m)\u001b[0m\u001b[0;34m\u001b[0m\u001b[0m\n\u001b[0m",
      "\u001b[0;31mKeyError\u001b[0m: '%s'"
     ]
    }
   ],
   "source": [
    "try:\n",
    "    1/0\n",
    "except OSError as err:\n",
    "   print( \"**ERROR** Cannot open {}, error {}\".format( milk_summary_file, err ) )\n",
    "except:\n",
    "   print( \"**ERROR** unknown error with {%s: %s}\".format( milk_summary_file ) )"
   ]
  },
  {
   "cell_type": "code",
   "execution_count": null,
   "metadata": {
    "collapsed": false
   },
   "outputs": [],
   "source": []
  },
  {
   "cell_type": "code",
   "execution_count": 96,
   "metadata": {
    "collapsed": true
   },
   "outputs": [],
   "source": [
    "# parse the data\n",
    "milk_summary_data = []\n",
    "for line in input_lines:\n",
    "    if line[0] == '#': continue\n",
    "    line = line.strip()\n",
    "    next_line = line.split()\n",
    "    milk_summary_data.append(next_line)"
   ]
  },
  {
   "cell_type": "code",
   "execution_count": 97,
   "metadata": {
    "collapsed": false
   },
   "outputs": [
    {
     "data": {
      "text/plain": [
       "[['runtype',\n",
       "  'spot_id',\n",
       "  'sample_id',\n",
       "  'forward_primer',\n",
       "  'reverse_primer',\n",
       "  'read_id',\n",
       "  'gc_content',\n",
       "  'country',\n",
       "  'gene_id'],\n",
       " ['MISEQ',\n",
       "  '16998-1719',\n",
       "  'PE716',\n",
       "  'TTGACCCT',\n",
       "  'TAGACCTA',\n",
       "  'ST6_21_F',\n",
       "  '0.28776978417266186',\n",
       "  'PE',\n",
       "  'ST6'],\n",
       " ['MISEQ',\n",
       "  '9172-1724',\n",
       "  'PE714',\n",
       "  'TTGACCCT',\n",
       "  'CTAGAACA',\n",
       "  'ST6_12_F',\n",
       "  '0.38434163701067614',\n",
       "  'PE',\n",
       "  'ST6']]"
      ]
     },
     "execution_count": 97,
     "metadata": {},
     "output_type": "execute_result"
    }
   ],
   "source": [
    "milk_summary_data[:3]"
   ]
  },
  {
   "cell_type": "code",
   "execution_count": 98,
   "metadata": {
    "collapsed": false
   },
   "outputs": [
    {
     "name": "stdout",
     "output_type": "stream",
     "text": [
      "[['runtype', 'spot_id', 'sample_id', 'forward_primer', 'reverse_primer', 'read_id', 'gc_content', 'country', 'gene_id'], ['MISEQ', '16998-1719', 'PE716', 'TTGACCCT', 'TAGACCTA', 'ST6_21_F', '0.28776978417266186', 'PE', 'ST6'], ['MISEQ', '9172-1724', 'PE714', 'TTGACCCT', 'CTAGAACA', 'ST6_12_F', '0.38434163701067614', 'PE', 'ST6']]\n"
     ]
    }
   ],
   "source": [
    "# convert data types (we'll see a better way to do this later)\n",
    "print milk_summary_data[:3]\n",
    "for index, data in enumerate(milk_summary_data):\n",
    "    if index == 0: continue\n",
    "    data[-3] = float(data[-3])\n",
    "    milk_summary_data[index] = data"
   ]
  },
  {
   "cell_type": "code",
   "execution_count": 99,
   "metadata": {
    "collapsed": false
   },
   "outputs": [
    {
     "data": {
      "text/plain": [
       "[['runtype',\n",
       "  'spot_id',\n",
       "  'sample_id',\n",
       "  'forward_primer',\n",
       "  'reverse_primer',\n",
       "  'read_id',\n",
       "  'gc_content',\n",
       "  'country',\n",
       "  'gene_id'],\n",
       " ['MISEQ',\n",
       "  '16998-1719',\n",
       "  'PE716',\n",
       "  'TTGACCCT',\n",
       "  'TAGACCTA',\n",
       "  'ST6_21_F',\n",
       "  0.28776978417266186,\n",
       "  'PE',\n",
       "  'ST6'],\n",
       " ['MISEQ',\n",
       "  '9172-1724',\n",
       "  'PE714',\n",
       "  'TTGACCCT',\n",
       "  'CTAGAACA',\n",
       "  'ST6_12_F',\n",
       "  0.38434163701067614,\n",
       "  'PE',\n",
       "  'ST6']]"
      ]
     },
     "execution_count": 99,
     "metadata": {},
     "output_type": "execute_result"
    }
   ],
   "source": [
    "milk_summary_data[:3]"
   ]
  },
  {
   "cell_type": "markdown",
   "metadata": {},
   "source": [
    "### Without using Pandas, can do a lot already"
   ]
  },
  {
   "cell_type": "code",
   "execution_count": 100,
   "metadata": {
    "collapsed": false
   },
   "outputs": [
    {
     "name": "stdout",
     "output_type": "stream",
     "text": [
      "countries sampled: set(['ETR', 'KE', 'ETU', 'SP', 'SW', 'USW', 'GBU', 'GBR', 'PE', 'GN'])\n",
      "120/37 different forward/reverse primers\n"
     ]
    }
   ],
   "source": [
    "countries = set([x[-2] for x in milk_summary_data[1:]])\n",
    "print('countries sampled: {}'.format(countries))\n",
    "print('{}/{} different forward/reverse primers'.format(\n",
    "        len(set( [x[4] for x in milk_summary_data[1:]] )),\n",
    "        len(set( [x[5] for x in milk_summary_data[1:]] ))\n",
    "        )\n",
    "    )\n",
    "   "
   ]
  },
  {
   "cell_type": "code",
   "execution_count": 101,
   "metadata": {
    "collapsed": false
   },
   "outputs": [
    {
     "data": {
      "text/plain": [
       "['ETR', 'KE', 'ETU', 'SP', 'SW', 'USW', 'GBU', 'GBR', 'PE', 'GN']"
      ]
     },
     "execution_count": 101,
     "metadata": {},
     "output_type": "execute_result"
    }
   ],
   "source": [
    "GC_content_by_country = {}\n",
    "for data in milk_summary_data[1:]:\n",
    "    gc, country, gene = float(data[-3]), data[-2], data[-1]\n",
    "    GC_content_by_country[country] = GC_content_by_country.get(country,[])\n",
    "    GC_content_by_country[country].append(gc)\n",
    "\n",
    "GC_content_by_country.keys()"
   ]
  },
  {
   "cell_type": "code",
   "execution_count": 102,
   "metadata": {
    "collapsed": false
   },
   "outputs": [
    {
     "data": {
      "text/plain": [
       "['ETR', 'KE', 'ETU', 'SP', 'SW', 'USW', 'GBU', 'GBR', 'PE', 'GN']"
      ]
     },
     "execution_count": 102,
     "metadata": {},
     "output_type": "execute_result"
    }
   ],
   "source": [
    "GC_content_by_country.keys()"
   ]
  },
  {
   "cell_type": "code",
   "execution_count": 103,
   "metadata": {
    "collapsed": false
   },
   "outputs": [
    {
     "ename": "ValueError",
     "evalue": "could not convert string to float: ETR",
     "output_type": "error",
     "traceback": [
      "\u001b[0;31m---------------------------------------------------------------------------\u001b[0m",
      "\u001b[0;31mValueError\u001b[0m                                Traceback (most recent call last)",
      "\u001b[0;32m<ipython-input-103-f0c24ecf230e>\u001b[0m in \u001b[0;36m<module>\u001b[0;34m()\u001b[0m\n\u001b[1;32m      3\u001b[0m \u001b[0mcountries\u001b[0m \u001b[0;34m=\u001b[0m \u001b[0mGC_content_by_country\u001b[0m\u001b[0;34m.\u001b[0m\u001b[0mkeys\u001b[0m\u001b[0;34m(\u001b[0m\u001b[0;34m)\u001b[0m\u001b[0;34m\u001b[0m\u001b[0m\n\u001b[1;32m      4\u001b[0m \u001b[0mmeans\u001b[0m \u001b[0;34m=\u001b[0m \u001b[0;34m[\u001b[0m \u001b[0mnp\u001b[0m\u001b[0;34m.\u001b[0m\u001b[0mmean\u001b[0m\u001b[0;34m(\u001b[0m\u001b[0mGC_content_by_country\u001b[0m\u001b[0;34m[\u001b[0m\u001b[0mc\u001b[0m\u001b[0;34m]\u001b[0m\u001b[0;34m)\u001b[0m \u001b[0;32mfor\u001b[0m \u001b[0mc\u001b[0m \u001b[0;32min\u001b[0m \u001b[0mcountries\u001b[0m\u001b[0;34m]\u001b[0m\u001b[0;34m\u001b[0m\u001b[0m\n\u001b[0;32m----> 5\u001b[0;31m \u001b[0mx\u001b[0m \u001b[0;34m=\u001b[0m \u001b[0mplt\u001b[0m\u001b[0;34m.\u001b[0m\u001b[0mplot\u001b[0m\u001b[0;34m(\u001b[0m\u001b[0mcountries\u001b[0m\u001b[0;34m,\u001b[0m \u001b[0mmeans\u001b[0m\u001b[0;34m,\u001b[0m \u001b[0;34m'o'\u001b[0m\u001b[0;34m)\u001b[0m\u001b[0;34m\u001b[0m\u001b[0m\n\u001b[0m\u001b[1;32m      6\u001b[0m \u001b[0mplt\u001b[0m\u001b[0;34m.\u001b[0m\u001b[0mtitle\u001b[0m\u001b[0;34m(\u001b[0m\u001b[0;34m'Average GC content of oligo genes by country'\u001b[0m\u001b[0;34m)\u001b[0m\u001b[0;34m\u001b[0m\u001b[0m\n\u001b[1;32m      7\u001b[0m \u001b[0mplt\u001b[0m\u001b[0;34m.\u001b[0m\u001b[0mylabel\u001b[0m\u001b[0;34m(\u001b[0m\u001b[0;34m'Average GC content'\u001b[0m\u001b[0;34m)\u001b[0m\u001b[0;34m\u001b[0m\u001b[0m\n",
      "\u001b[0;32m/usr/local/lib/python2.7/site-packages/matplotlib/pyplot.pyc\u001b[0m in \u001b[0;36mplot\u001b[0;34m(*args, **kwargs)\u001b[0m\n\u001b[1;32m   3152\u001b[0m         \u001b[0max\u001b[0m\u001b[0;34m.\u001b[0m\u001b[0mhold\u001b[0m\u001b[0;34m(\u001b[0m\u001b[0mhold\u001b[0m\u001b[0;34m)\u001b[0m\u001b[0;34m\u001b[0m\u001b[0m\n\u001b[1;32m   3153\u001b[0m     \u001b[0;32mtry\u001b[0m\u001b[0;34m:\u001b[0m\u001b[0;34m\u001b[0m\u001b[0m\n\u001b[0;32m-> 3154\u001b[0;31m         \u001b[0mret\u001b[0m \u001b[0;34m=\u001b[0m \u001b[0max\u001b[0m\u001b[0;34m.\u001b[0m\u001b[0mplot\u001b[0m\u001b[0;34m(\u001b[0m\u001b[0;34m*\u001b[0m\u001b[0margs\u001b[0m\u001b[0;34m,\u001b[0m \u001b[0;34m**\u001b[0m\u001b[0mkwargs\u001b[0m\u001b[0;34m)\u001b[0m\u001b[0;34m\u001b[0m\u001b[0m\n\u001b[0m\u001b[1;32m   3155\u001b[0m     \u001b[0;32mfinally\u001b[0m\u001b[0;34m:\u001b[0m\u001b[0;34m\u001b[0m\u001b[0m\n\u001b[1;32m   3156\u001b[0m         \u001b[0max\u001b[0m\u001b[0;34m.\u001b[0m\u001b[0mhold\u001b[0m\u001b[0;34m(\u001b[0m\u001b[0mwashold\u001b[0m\u001b[0;34m)\u001b[0m\u001b[0;34m\u001b[0m\u001b[0m\n",
      "\u001b[0;32m/usr/local/lib/python2.7/site-packages/matplotlib/__init__.pyc\u001b[0m in \u001b[0;36minner\u001b[0;34m(ax, *args, **kwargs)\u001b[0m\n\u001b[1;32m   1810\u001b[0m                     warnings.warn(msg % (label_namer, func.__name__),\n\u001b[1;32m   1811\u001b[0m                                   RuntimeWarning, stacklevel=2)\n\u001b[0;32m-> 1812\u001b[0;31m             \u001b[0;32mreturn\u001b[0m \u001b[0mfunc\u001b[0m\u001b[0;34m(\u001b[0m\u001b[0max\u001b[0m\u001b[0;34m,\u001b[0m \u001b[0;34m*\u001b[0m\u001b[0margs\u001b[0m\u001b[0;34m,\u001b[0m \u001b[0;34m**\u001b[0m\u001b[0mkwargs\u001b[0m\u001b[0;34m)\u001b[0m\u001b[0;34m\u001b[0m\u001b[0m\n\u001b[0m\u001b[1;32m   1813\u001b[0m         \u001b[0mpre_doc\u001b[0m \u001b[0;34m=\u001b[0m \u001b[0minner\u001b[0m\u001b[0;34m.\u001b[0m\u001b[0m__doc__\u001b[0m\u001b[0;34m\u001b[0m\u001b[0m\n\u001b[1;32m   1814\u001b[0m         \u001b[0;32mif\u001b[0m \u001b[0mpre_doc\u001b[0m \u001b[0;32mis\u001b[0m \u001b[0mNone\u001b[0m\u001b[0;34m:\u001b[0m\u001b[0;34m\u001b[0m\u001b[0m\n",
      "\u001b[0;32m/usr/local/lib/python2.7/site-packages/matplotlib/axes/_axes.pyc\u001b[0m in \u001b[0;36mplot\u001b[0;34m(self, *args, **kwargs)\u001b[0m\n\u001b[1;32m   1423\u001b[0m \u001b[0;34m\u001b[0m\u001b[0m\n\u001b[1;32m   1424\u001b[0m         \u001b[0;32mfor\u001b[0m \u001b[0mline\u001b[0m \u001b[0;32min\u001b[0m \u001b[0mself\u001b[0m\u001b[0;34m.\u001b[0m\u001b[0m_get_lines\u001b[0m\u001b[0;34m(\u001b[0m\u001b[0;34m*\u001b[0m\u001b[0margs\u001b[0m\u001b[0;34m,\u001b[0m \u001b[0;34m**\u001b[0m\u001b[0mkwargs\u001b[0m\u001b[0;34m)\u001b[0m\u001b[0;34m:\u001b[0m\u001b[0;34m\u001b[0m\u001b[0m\n\u001b[0;32m-> 1425\u001b[0;31m             \u001b[0mself\u001b[0m\u001b[0;34m.\u001b[0m\u001b[0madd_line\u001b[0m\u001b[0;34m(\u001b[0m\u001b[0mline\u001b[0m\u001b[0;34m)\u001b[0m\u001b[0;34m\u001b[0m\u001b[0m\n\u001b[0m\u001b[1;32m   1426\u001b[0m             \u001b[0mlines\u001b[0m\u001b[0;34m.\u001b[0m\u001b[0mappend\u001b[0m\u001b[0;34m(\u001b[0m\u001b[0mline\u001b[0m\u001b[0;34m)\u001b[0m\u001b[0;34m\u001b[0m\u001b[0m\n\u001b[1;32m   1427\u001b[0m \u001b[0;34m\u001b[0m\u001b[0m\n",
      "\u001b[0;32m/usr/local/lib/python2.7/site-packages/matplotlib/axes/_base.pyc\u001b[0m in \u001b[0;36madd_line\u001b[0;34m(self, line)\u001b[0m\n\u001b[1;32m   1706\u001b[0m             \u001b[0mline\u001b[0m\u001b[0;34m.\u001b[0m\u001b[0mset_clip_path\u001b[0m\u001b[0;34m(\u001b[0m\u001b[0mself\u001b[0m\u001b[0;34m.\u001b[0m\u001b[0mpatch\u001b[0m\u001b[0;34m)\u001b[0m\u001b[0;34m\u001b[0m\u001b[0m\n\u001b[1;32m   1707\u001b[0m \u001b[0;34m\u001b[0m\u001b[0m\n\u001b[0;32m-> 1708\u001b[0;31m         \u001b[0mself\u001b[0m\u001b[0;34m.\u001b[0m\u001b[0m_update_line_limits\u001b[0m\u001b[0;34m(\u001b[0m\u001b[0mline\u001b[0m\u001b[0;34m)\u001b[0m\u001b[0;34m\u001b[0m\u001b[0m\n\u001b[0m\u001b[1;32m   1709\u001b[0m         \u001b[0;32mif\u001b[0m \u001b[0;32mnot\u001b[0m \u001b[0mline\u001b[0m\u001b[0;34m.\u001b[0m\u001b[0mget_label\u001b[0m\u001b[0;34m(\u001b[0m\u001b[0;34m)\u001b[0m\u001b[0;34m:\u001b[0m\u001b[0;34m\u001b[0m\u001b[0m\n\u001b[1;32m   1710\u001b[0m             \u001b[0mline\u001b[0m\u001b[0;34m.\u001b[0m\u001b[0mset_label\u001b[0m\u001b[0;34m(\u001b[0m\u001b[0;34m'_line%d'\u001b[0m \u001b[0;34m%\u001b[0m \u001b[0mlen\u001b[0m\u001b[0;34m(\u001b[0m\u001b[0mself\u001b[0m\u001b[0;34m.\u001b[0m\u001b[0mlines\u001b[0m\u001b[0;34m)\u001b[0m\u001b[0;34m)\u001b[0m\u001b[0;34m\u001b[0m\u001b[0m\n",
      "\u001b[0;32m/usr/local/lib/python2.7/site-packages/matplotlib/axes/_base.pyc\u001b[0m in \u001b[0;36m_update_line_limits\u001b[0;34m(self, line)\u001b[0m\n\u001b[1;32m   1728\u001b[0m         \u001b[0mFigures\u001b[0m \u001b[0mout\u001b[0m \u001b[0mthe\u001b[0m \u001b[0mdata\u001b[0m \u001b[0mlimit\u001b[0m \u001b[0mof\u001b[0m \u001b[0mthe\u001b[0m \u001b[0mgiven\u001b[0m \u001b[0mline\u001b[0m\u001b[0;34m,\u001b[0m \u001b[0mupdating\u001b[0m \u001b[0mself\u001b[0m\u001b[0;34m.\u001b[0m\u001b[0mdataLim\u001b[0m\u001b[0;34m.\u001b[0m\u001b[0;34m\u001b[0m\u001b[0m\n\u001b[1;32m   1729\u001b[0m         \"\"\"\n\u001b[0;32m-> 1730\u001b[0;31m         \u001b[0mpath\u001b[0m \u001b[0;34m=\u001b[0m \u001b[0mline\u001b[0m\u001b[0;34m.\u001b[0m\u001b[0mget_path\u001b[0m\u001b[0;34m(\u001b[0m\u001b[0;34m)\u001b[0m\u001b[0;34m\u001b[0m\u001b[0m\n\u001b[0m\u001b[1;32m   1731\u001b[0m         \u001b[0;32mif\u001b[0m \u001b[0mpath\u001b[0m\u001b[0;34m.\u001b[0m\u001b[0mvertices\u001b[0m\u001b[0;34m.\u001b[0m\u001b[0msize\u001b[0m \u001b[0;34m==\u001b[0m \u001b[0;36m0\u001b[0m\u001b[0;34m:\u001b[0m\u001b[0;34m\u001b[0m\u001b[0m\n\u001b[1;32m   1732\u001b[0m             \u001b[0;32mreturn\u001b[0m\u001b[0;34m\u001b[0m\u001b[0m\n",
      "\u001b[0;32m/usr/local/lib/python2.7/site-packages/matplotlib/lines.pyc\u001b[0m in \u001b[0;36mget_path\u001b[0;34m(self)\u001b[0m\n\u001b[1;32m    923\u001b[0m         \"\"\"\n\u001b[1;32m    924\u001b[0m         \u001b[0;32mif\u001b[0m \u001b[0mself\u001b[0m\u001b[0;34m.\u001b[0m\u001b[0m_invalidy\u001b[0m \u001b[0;32mor\u001b[0m \u001b[0mself\u001b[0m\u001b[0;34m.\u001b[0m\u001b[0m_invalidx\u001b[0m\u001b[0;34m:\u001b[0m\u001b[0;34m\u001b[0m\u001b[0m\n\u001b[0;32m--> 925\u001b[0;31m             \u001b[0mself\u001b[0m\u001b[0;34m.\u001b[0m\u001b[0mrecache\u001b[0m\u001b[0;34m(\u001b[0m\u001b[0;34m)\u001b[0m\u001b[0;34m\u001b[0m\u001b[0m\n\u001b[0m\u001b[1;32m    926\u001b[0m         \u001b[0;32mreturn\u001b[0m \u001b[0mself\u001b[0m\u001b[0;34m.\u001b[0m\u001b[0m_path\u001b[0m\u001b[0;34m\u001b[0m\u001b[0m\n\u001b[1;32m    927\u001b[0m \u001b[0;34m\u001b[0m\u001b[0m\n",
      "\u001b[0;32m/usr/local/lib/python2.7/site-packages/matplotlib/lines.pyc\u001b[0m in \u001b[0;36mrecache\u001b[0;34m(self, always)\u001b[0m\n\u001b[1;32m    610\u001b[0m                 \u001b[0mx\u001b[0m \u001b[0;34m=\u001b[0m \u001b[0mma\u001b[0m\u001b[0;34m.\u001b[0m\u001b[0masarray\u001b[0m\u001b[0;34m(\u001b[0m\u001b[0mxconv\u001b[0m\u001b[0;34m,\u001b[0m \u001b[0mnp\u001b[0m\u001b[0;34m.\u001b[0m\u001b[0mfloat_\u001b[0m\u001b[0;34m)\u001b[0m\u001b[0;34m.\u001b[0m\u001b[0mfilled\u001b[0m\u001b[0;34m(\u001b[0m\u001b[0mnp\u001b[0m\u001b[0;34m.\u001b[0m\u001b[0mnan\u001b[0m\u001b[0;34m)\u001b[0m\u001b[0;34m\u001b[0m\u001b[0m\n\u001b[1;32m    611\u001b[0m             \u001b[0;32melse\u001b[0m\u001b[0;34m:\u001b[0m\u001b[0;34m\u001b[0m\u001b[0m\n\u001b[0;32m--> 612\u001b[0;31m                 \u001b[0mx\u001b[0m \u001b[0;34m=\u001b[0m \u001b[0mnp\u001b[0m\u001b[0;34m.\u001b[0m\u001b[0masarray\u001b[0m\u001b[0;34m(\u001b[0m\u001b[0mxconv\u001b[0m\u001b[0;34m,\u001b[0m \u001b[0mnp\u001b[0m\u001b[0;34m.\u001b[0m\u001b[0mfloat_\u001b[0m\u001b[0;34m)\u001b[0m\u001b[0;34m\u001b[0m\u001b[0m\n\u001b[0m\u001b[1;32m    613\u001b[0m             \u001b[0mx\u001b[0m \u001b[0;34m=\u001b[0m \u001b[0mx\u001b[0m\u001b[0;34m.\u001b[0m\u001b[0mravel\u001b[0m\u001b[0;34m(\u001b[0m\u001b[0;34m)\u001b[0m\u001b[0;34m\u001b[0m\u001b[0m\n\u001b[1;32m    614\u001b[0m         \u001b[0;32melse\u001b[0m\u001b[0;34m:\u001b[0m\u001b[0;34m\u001b[0m\u001b[0m\n",
      "\u001b[0;32m/usr/local/lib/python2.7/site-packages/numpy/core/numeric.pyc\u001b[0m in \u001b[0;36masarray\u001b[0;34m(a, dtype, order)\u001b[0m\n\u001b[1;32m    480\u001b[0m \u001b[0;34m\u001b[0m\u001b[0m\n\u001b[1;32m    481\u001b[0m     \"\"\"\n\u001b[0;32m--> 482\u001b[0;31m     \u001b[0;32mreturn\u001b[0m \u001b[0marray\u001b[0m\u001b[0;34m(\u001b[0m\u001b[0ma\u001b[0m\u001b[0;34m,\u001b[0m \u001b[0mdtype\u001b[0m\u001b[0;34m,\u001b[0m \u001b[0mcopy\u001b[0m\u001b[0;34m=\u001b[0m\u001b[0mFalse\u001b[0m\u001b[0;34m,\u001b[0m \u001b[0morder\u001b[0m\u001b[0;34m=\u001b[0m\u001b[0morder\u001b[0m\u001b[0;34m)\u001b[0m\u001b[0;34m\u001b[0m\u001b[0m\n\u001b[0m\u001b[1;32m    483\u001b[0m \u001b[0;34m\u001b[0m\u001b[0m\n\u001b[1;32m    484\u001b[0m \u001b[0;32mdef\u001b[0m \u001b[0masanyarray\u001b[0m\u001b[0;34m(\u001b[0m\u001b[0ma\u001b[0m\u001b[0;34m,\u001b[0m \u001b[0mdtype\u001b[0m\u001b[0;34m=\u001b[0m\u001b[0mNone\u001b[0m\u001b[0;34m,\u001b[0m \u001b[0morder\u001b[0m\u001b[0;34m=\u001b[0m\u001b[0mNone\u001b[0m\u001b[0;34m)\u001b[0m\u001b[0;34m:\u001b[0m\u001b[0;34m\u001b[0m\u001b[0m\n",
      "\u001b[0;31mValueError\u001b[0m: could not convert string to float: ETR"
     ]
    },
    {
     "data": {
      "image/png": "[encoded data removed]",
      "text/plain": [
       "<matplotlib.figure.Figure at 0x11561ac10>"
      ]
     },
     "metadata": {},
     "output_type": "display_data"
    }
   ],
   "source": [
    "\n",
    "\n",
    "countries = GC_content_by_country.keys()\n",
    "means = [ np.mean(GC_content_by_country[c]) for c in countries]\n",
    "x = plt.plot(countries, means, 'o')\n",
    "plt.title('Average GC content of oligo genes by country')\n",
    "plt.ylabel('Average GC content')\n",
    "plt.xlabel('Country')"
   ]
  },
  {
   "cell_type": "markdown",
   "metadata": {},
   "source": [
    "## In pandas"
   ]
  },
  {
   "cell_type": "markdown",
   "metadata": {},
   "source": [
    "### Creating a DataFrame\n",
    "\n",
    "\n",
    "There are many ways. Here we use a list. See the book for more."
   ]
  },
  {
   "cell_type": "code",
   "execution_count": null,
   "metadata": {
    "collapsed": true
   },
   "outputs": [],
   "source": [
    "# create DataFrame from list of summary data\n",
    "all_data = pd.DataFrame(milk_summary_data[1:], \n",
    "                        columns=milk_summary_data[0],\n",
    "                       )\n",
    "all_data = all_data.set_index('spot_id')"
   ]
  },
  {
   "cell_type": "code",
   "execution_count": null,
   "metadata": {
    "collapsed": true
   },
   "outputs": [],
   "source": [
    "all_data = DataFrame(milk_summary_data[1:],   # faster\n",
    "                        columns=milk_summary_data[0],\n",
    "                       )\n",
    "all_data = all_data.set_index('spot_id')"
   ]
  },
  {
   "cell_type": "code",
   "execution_count": 104,
   "metadata": {
    "collapsed": false
   },
   "outputs": [
    {
     "data": {
      "text/html": [
       "<div>\n",
       "<table border=\"1\" class=\"dataframe\">\n",
       "  <thead>\n",
       "    <tr style=\"text-align: right;\">\n",
       "      <th></th>\n",
       "      <th>runtype</th>\n",
       "      <th>sample_id</th>\n",
       "      <th>read_id</th>\n",
       "      <th>gc_content</th>\n",
       "      <th>country</th>\n",
       "      <th>gene_id</th>\n",
       "      <th>gene_family</th>\n",
       "      <th>high_GC</th>\n",
       "      <th>low_GC</th>\n",
       "    </tr>\n",
       "    <tr>\n",
       "      <th>spot_id</th>\n",
       "      <th></th>\n",
       "      <th></th>\n",
       "      <th></th>\n",
       "      <th></th>\n",
       "      <th></th>\n",
       "      <th></th>\n",
       "      <th></th>\n",
       "      <th></th>\n",
       "      <th></th>\n",
       "    </tr>\n",
       "  </thead>\n",
       "  <tbody>\n",
       "    <tr>\n",
       "      <th>16998-1719</th>\n",
       "      <td>MISEQ</td>\n",
       "      <td>PE716</td>\n",
       "      <td>ST6_21_F</td>\n",
       "      <td>0.287770</td>\n",
       "      <td>PE</td>\n",
       "      <td>ST6</td>\n",
       "      <td>ST6</td>\n",
       "      <td>False</td>\n",
       "      <td>True</td>\n",
       "    </tr>\n",
       "    <tr>\n",
       "      <th>9172-1724</th>\n",
       "      <td>MISEQ</td>\n",
       "      <td>PE714</td>\n",
       "      <td>ST6_12_F</td>\n",
       "      <td>0.384342</td>\n",
       "      <td>PE</td>\n",
       "      <td>ST6</td>\n",
       "      <td>ST6</td>\n",
       "      <td>False</td>\n",
       "      <td>True</td>\n",
       "    </tr>\n",
       "    <tr>\n",
       "      <th>17068-1733</th>\n",
       "      <td>MISEQ</td>\n",
       "      <td>ETU011</td>\n",
       "      <td>ST6_16_F</td>\n",
       "      <td>0.395683</td>\n",
       "      <td>ETU</td>\n",
       "      <td>ST6</td>\n",
       "      <td>ST6</td>\n",
       "      <td>False</td>\n",
       "      <td>True</td>\n",
       "    </tr>\n",
       "    <tr>\n",
       "      <th>20217-1738</th>\n",
       "      <td>MISEQ</td>\n",
       "      <td>ETR208</td>\n",
       "      <td>ST6_10_F</td>\n",
       "      <td>0.315412</td>\n",
       "      <td>ETR</td>\n",
       "      <td>ST6</td>\n",
       "      <td>ST6</td>\n",
       "      <td>False</td>\n",
       "      <td>True</td>\n",
       "    </tr>\n",
       "    <tr>\n",
       "      <th>9687-1743</th>\n",
       "      <td>MISEQ</td>\n",
       "      <td>PE731</td>\n",
       "      <td>ST6_25_F</td>\n",
       "      <td>0.380783</td>\n",
       "      <td>PE</td>\n",
       "      <td>ST6</td>\n",
       "      <td>ST6</td>\n",
       "      <td>False</td>\n",
       "      <td>True</td>\n",
       "    </tr>\n",
       "  </tbody>\n",
       "</table>\n",
       "</div>"
      ],
      "text/plain": [
       "           runtype sample_id   read_id  gc_content country gene_id  \\\n",
       "spot_id                                                              \n",
       "16998-1719   MISEQ     PE716  ST6_21_F    0.287770      PE     ST6   \n",
       "9172-1724    MISEQ     PE714  ST6_12_F    0.384342      PE     ST6   \n",
       "17068-1733   MISEQ    ETU011  ST6_16_F    0.395683     ETU     ST6   \n",
       "20217-1738   MISEQ    ETR208  ST6_10_F    0.315412     ETR     ST6   \n",
       "9687-1743    MISEQ     PE731  ST6_25_F    0.380783      PE     ST6   \n",
       "\n",
       "           gene_family high_GC low_GC  \n",
       "spot_id                                \n",
       "16998-1719         ST6   False   True  \n",
       "9172-1724          ST6   False   True  \n",
       "17068-1733         ST6   False   True  \n",
       "20217-1738         ST6   False   True  \n",
       "9687-1743          ST6   False   True  "
      ]
     },
     "execution_count": 104,
     "metadata": {},
     "output_type": "execute_result"
    }
   ],
   "source": [
    "# Note Index and columns\n",
    "all_data.head()\n"
   ]
  },
  {
   "cell_type": "code",
   "execution_count": 105,
   "metadata": {
    "collapsed": false
   },
   "outputs": [
    {
     "data": {
      "text/html": [
       "<div>\n",
       "<table border=\"1\" class=\"dataframe\">\n",
       "  <thead>\n",
       "    <tr style=\"text-align: right;\">\n",
       "      <th></th>\n",
       "      <th>runtype</th>\n",
       "      <th>sample_id</th>\n",
       "      <th>read_id</th>\n",
       "      <th>gc_content</th>\n",
       "      <th>country</th>\n",
       "      <th>gene_id</th>\n",
       "      <th>gene_family</th>\n",
       "      <th>high_GC</th>\n",
       "      <th>low_GC</th>\n",
       "    </tr>\n",
       "    <tr>\n",
       "      <th>spot_id</th>\n",
       "      <th></th>\n",
       "      <th></th>\n",
       "      <th></th>\n",
       "      <th></th>\n",
       "      <th></th>\n",
       "      <th></th>\n",
       "      <th></th>\n",
       "      <th></th>\n",
       "      <th></th>\n",
       "    </tr>\n",
       "  </thead>\n",
       "  <tbody>\n",
       "    <tr>\n",
       "      <th>16998-1719</th>\n",
       "      <td>MISEQ</td>\n",
       "      <td>PE716</td>\n",
       "      <td>ST6_21_F</td>\n",
       "      <td>0.287770</td>\n",
       "      <td>PE</td>\n",
       "      <td>ST6</td>\n",
       "      <td>ST6</td>\n",
       "      <td>False</td>\n",
       "      <td>True</td>\n",
       "    </tr>\n",
       "    <tr>\n",
       "      <th>9172-1724</th>\n",
       "      <td>MISEQ</td>\n",
       "      <td>PE714</td>\n",
       "      <td>ST6_12_F</td>\n",
       "      <td>0.384342</td>\n",
       "      <td>PE</td>\n",
       "      <td>ST6</td>\n",
       "      <td>ST6</td>\n",
       "      <td>False</td>\n",
       "      <td>True</td>\n",
       "    </tr>\n",
       "    <tr>\n",
       "      <th>17068-1733</th>\n",
       "      <td>MISEQ</td>\n",
       "      <td>ETU011</td>\n",
       "      <td>ST6_16_F</td>\n",
       "      <td>0.395683</td>\n",
       "      <td>ETU</td>\n",
       "      <td>ST6</td>\n",
       "      <td>ST6</td>\n",
       "      <td>False</td>\n",
       "      <td>True</td>\n",
       "    </tr>\n",
       "  </tbody>\n",
       "</table>\n",
       "</div>"
      ],
      "text/plain": [
       "           runtype sample_id   read_id  gc_content country gene_id  \\\n",
       "spot_id                                                              \n",
       "16998-1719   MISEQ     PE716  ST6_21_F    0.287770      PE     ST6   \n",
       "9172-1724    MISEQ     PE714  ST6_12_F    0.384342      PE     ST6   \n",
       "17068-1733   MISEQ    ETU011  ST6_16_F    0.395683     ETU     ST6   \n",
       "\n",
       "           gene_family high_GC low_GC  \n",
       "spot_id                                \n",
       "16998-1719         ST6   False   True  \n",
       "9172-1724          ST6   False   True  \n",
       "17068-1733         ST6   False   True  "
      ]
     },
     "execution_count": 105,
     "metadata": {},
     "output_type": "execute_result"
    }
   ],
   "source": [
    "all_data.head(n=3) # frist 3 row"
   ]
  },
  {
   "cell_type": "code",
   "execution_count": null,
   "metadata": {
    "collapsed": true
   },
   "outputs": [],
   "source": []
  },
  {
   "cell_type": "markdown",
   "metadata": {},
   "source": [
    "#### Index object\n",
    "\n",
    "The Index contains and returns information about the way rows are named and constituted."
   ]
  },
  {
   "cell_type": "code",
   "execution_count": 106,
   "metadata": {
    "collapsed": false
   },
   "outputs": [
    {
     "data": {
      "text/plain": [
       "Index([u'16998-1719', u'9172-1724', u'17068-1733', u'20217-1738', u'9687-1743',\n",
       "       u'12088-1744', u'19205-1746', u'12620-1755', u'13772-1757',\n",
       "       u'11827-1761',\n",
       "       ...\n",
       "       u'10674-2819', u'15015-2820', u'24207-2821', u'19898-2821',\n",
       "       u'24726-2821', u'15288-2823', u'10554-2823', u'16830-2823',\n",
       "       u'22270-2823', u'24700-2823'],\n",
       "      dtype='object', name=u'spot_id', length=2000)"
      ]
     },
     "execution_count": 106,
     "metadata": {},
     "output_type": "execute_result"
    }
   ],
   "source": [
    "milk_index = all_data.index\n",
    "type(milk_index)\n",
    "#milk_index.  # introspect to see what all is there. Lots\n",
    "milk_index"
   ]
  },
  {
   "cell_type": "markdown",
   "metadata": {},
   "source": [
    "### Inside a DataFrame"
   ]
  },
  {
   "cell_type": "code",
   "execution_count": 107,
   "metadata": {
    "collapsed": false
   },
   "outputs": [
    {
     "data": {
      "text/plain": [
       "array([['MISEQ', 'PE716', 'ST6_21_F', ..., 'ST6', False, True],\n",
       "       ['MISEQ', 'PE714', 'ST6_12_F', ..., 'ST6', False, True],\n",
       "       ['MISEQ', 'ETU011', 'ST6_16_F', ..., 'ST6', False, True],\n",
       "       ..., \n",
       "       ['MISEQ', 'PE709', 'FUT3_5_F', ..., 'FUT3', True, False],\n",
       "       ['MISEQ', 'ETU038', 'ST6_19_F', ..., 'ST6', True, False],\n",
       "       ['MISEQ', 'PE724', 'ST6_3_F', ..., 'ST6', True, False]], dtype=object)"
      ]
     },
     "execution_count": 107,
     "metadata": {},
     "output_type": "execute_result"
    }
   ],
   "source": [
    "####other stuff\n",
    "all_data.values\n",
    "#all_data.   # introspection"
   ]
  },
  {
   "cell_type": "code",
   "execution_count": 108,
   "metadata": {
    "collapsed": false
   },
   "outputs": [
    {
     "data": {
      "text/plain": [
       "Index([u'16998-1719', u'9172-1724', u'17068-1733', u'20217-1738', u'9687-1743',\n",
       "       u'12088-1744', u'19205-1746', u'12620-1755', u'13772-1757',\n",
       "       u'11827-1761',\n",
       "       ...\n",
       "       u'10674-2819', u'15015-2820', u'24207-2821', u'19898-2821',\n",
       "       u'24726-2821', u'15288-2823', u'10554-2823', u'16830-2823',\n",
       "       u'22270-2823', u'24700-2823'],\n",
       "      dtype='object', name=u'spot_id', length=2000)"
      ]
     },
     "execution_count": 108,
     "metadata": {},
     "output_type": "execute_result"
    }
   ],
   "source": [
    "all_data.columns\n",
    "all_data.index"
   ]
  },
  {
   "cell_type": "markdown",
   "metadata": {},
   "source": [
    "### Working with DataFrame"
   ]
  },
  {
   "cell_type": "markdown",
   "metadata": {},
   "source": [
    "#### Working with columns\n",
    "\n",
    "(We will talk more about working with rows later)"
   ]
  },
  {
   "cell_type": "code",
   "execution_count": 109,
   "metadata": {
    "collapsed": false
   },
   "outputs": [
    {
     "data": {
      "text/html": [
       "<div>\n",
       "<table border=\"1\" class=\"dataframe\">\n",
       "  <thead>\n",
       "    <tr style=\"text-align: right;\">\n",
       "      <th></th>\n",
       "      <th>runtype</th>\n",
       "      <th>sample_id</th>\n",
       "      <th>read_id</th>\n",
       "      <th>gc_content</th>\n",
       "      <th>country</th>\n",
       "      <th>gene_id</th>\n",
       "      <th>gene_family</th>\n",
       "      <th>high_GC</th>\n",
       "      <th>low_GC</th>\n",
       "    </tr>\n",
       "    <tr>\n",
       "      <th>spot_id</th>\n",
       "      <th></th>\n",
       "      <th></th>\n",
       "      <th></th>\n",
       "      <th></th>\n",
       "      <th></th>\n",
       "      <th></th>\n",
       "      <th></th>\n",
       "      <th></th>\n",
       "      <th></th>\n",
       "    </tr>\n",
       "  </thead>\n",
       "  <tbody>\n",
       "    <tr>\n",
       "      <th>16998-1719</th>\n",
       "      <td>MISEQ</td>\n",
       "      <td>PE716</td>\n",
       "      <td>ST6_21_F</td>\n",
       "      <td>0.287770</td>\n",
       "      <td>PE</td>\n",
       "      <td>ST6</td>\n",
       "      <td>ST6</td>\n",
       "      <td>False</td>\n",
       "      <td>True</td>\n",
       "    </tr>\n",
       "    <tr>\n",
       "      <th>9172-1724</th>\n",
       "      <td>MISEQ</td>\n",
       "      <td>PE714</td>\n",
       "      <td>ST6_12_F</td>\n",
       "      <td>0.384342</td>\n",
       "      <td>PE</td>\n",
       "      <td>ST6</td>\n",
       "      <td>ST6</td>\n",
       "      <td>False</td>\n",
       "      <td>True</td>\n",
       "    </tr>\n",
       "    <tr>\n",
       "      <th>17068-1733</th>\n",
       "      <td>MISEQ</td>\n",
       "      <td>ETU011</td>\n",
       "      <td>ST6_16_F</td>\n",
       "      <td>0.395683</td>\n",
       "      <td>ETU</td>\n",
       "      <td>ST6</td>\n",
       "      <td>ST6</td>\n",
       "      <td>False</td>\n",
       "      <td>True</td>\n",
       "    </tr>\n",
       "    <tr>\n",
       "      <th>20217-1738</th>\n",
       "      <td>MISEQ</td>\n",
       "      <td>ETR208</td>\n",
       "      <td>ST6_10_F</td>\n",
       "      <td>0.315412</td>\n",
       "      <td>ETR</td>\n",
       "      <td>ST6</td>\n",
       "      <td>ST6</td>\n",
       "      <td>False</td>\n",
       "      <td>True</td>\n",
       "    </tr>\n",
       "    <tr>\n",
       "      <th>9687-1743</th>\n",
       "      <td>MISEQ</td>\n",
       "      <td>PE731</td>\n",
       "      <td>ST6_25_F</td>\n",
       "      <td>0.380783</td>\n",
       "      <td>PE</td>\n",
       "      <td>ST6</td>\n",
       "      <td>ST6</td>\n",
       "      <td>False</td>\n",
       "      <td>True</td>\n",
       "    </tr>\n",
       "  </tbody>\n",
       "</table>\n",
       "</div>"
      ],
      "text/plain": [
       "           runtype sample_id   read_id  gc_content country gene_id  \\\n",
       "spot_id                                                              \n",
       "16998-1719   MISEQ     PE716  ST6_21_F    0.287770      PE     ST6   \n",
       "9172-1724    MISEQ     PE714  ST6_12_F    0.384342      PE     ST6   \n",
       "17068-1733   MISEQ    ETU011  ST6_16_F    0.395683     ETU     ST6   \n",
       "20217-1738   MISEQ    ETR208  ST6_10_F    0.315412     ETR     ST6   \n",
       "9687-1743    MISEQ     PE731  ST6_25_F    0.380783      PE     ST6   \n",
       "\n",
       "           gene_family high_GC low_GC  \n",
       "spot_id                                \n",
       "16998-1719         ST6   False   True  \n",
       "9172-1724          ST6   False   True  \n",
       "17068-1733         ST6   False   True  \n",
       "20217-1738         ST6   False   True  \n",
       "9687-1743          ST6   False   True  "
      ]
     },
     "execution_count": 109,
     "metadata": {},
     "output_type": "execute_result"
    }
   ],
   "source": [
    "all_data.head()"
   ]
  },
  {
   "cell_type": "code",
   "execution_count": 110,
   "metadata": {
    "collapsed": false
   },
   "outputs": [
    {
     "data": {
      "text/plain": [
       "spot_id\n",
       "16998-1719    ST6\n",
       "9172-1724     ST6\n",
       "17068-1733    ST6\n",
       "20217-1738    ST6\n",
       "9687-1743     ST6\n",
       "Name: gene_id, dtype: object"
      ]
     },
     "execution_count": 110,
     "metadata": {},
     "output_type": "execute_result"
    }
   ],
   "source": [
    "# two ways to access columns\n",
    "all_data['gene_id']   #.head()\n",
    "all_data.gene_id.head()      #.head()"
   ]
  },
  {
   "cell_type": "code",
   "execution_count": 111,
   "metadata": {
    "collapsed": false
   },
   "outputs": [
    {
     "data": {
      "text/html": [
       "<div>\n",
       "<table border=\"1\" class=\"dataframe\">\n",
       "  <thead>\n",
       "    <tr style=\"text-align: right;\">\n",
       "      <th></th>\n",
       "      <th>country</th>\n",
       "      <th>gene_id</th>\n",
       "    </tr>\n",
       "    <tr>\n",
       "      <th>spot_id</th>\n",
       "      <th></th>\n",
       "      <th></th>\n",
       "    </tr>\n",
       "  </thead>\n",
       "  <tbody>\n",
       "    <tr>\n",
       "      <th>16998-1719</th>\n",
       "      <td>PE</td>\n",
       "      <td>ST6</td>\n",
       "    </tr>\n",
       "    <tr>\n",
       "      <th>9172-1724</th>\n",
       "      <td>PE</td>\n",
       "      <td>ST6</td>\n",
       "    </tr>\n",
       "    <tr>\n",
       "      <th>17068-1733</th>\n",
       "      <td>ETU</td>\n",
       "      <td>ST6</td>\n",
       "    </tr>\n",
       "    <tr>\n",
       "      <th>20217-1738</th>\n",
       "      <td>ETR</td>\n",
       "      <td>ST6</td>\n",
       "    </tr>\n",
       "    <tr>\n",
       "      <th>9687-1743</th>\n",
       "      <td>PE</td>\n",
       "      <td>ST6</td>\n",
       "    </tr>\n",
       "  </tbody>\n",
       "</table>\n",
       "</div>"
      ],
      "text/plain": [
       "           country gene_id\n",
       "spot_id                   \n",
       "16998-1719      PE     ST6\n",
       "9172-1724       PE     ST6\n",
       "17068-1733     ETU     ST6\n",
       "20217-1738     ETR     ST6\n",
       "9687-1743       PE     ST6"
      ]
     },
     "execution_count": 111,
     "metadata": {},
     "output_type": "execute_result"
    }
   ],
   "source": [
    "# create new DataFrames by selecting columns\n",
    "new_df = all_data[['country',  'gene_id']].head()\n",
    "new_df\n",
    "#all_data.gene_id.head()"
   ]
  },
  {
   "cell_type": "code",
   "execution_count": 112,
   "metadata": {
    "collapsed": false
   },
   "outputs": [
    {
     "name": "stdout",
     "output_type": "stream",
     "text": [
      "genes: set(['GULOP', 'ST6', 'FUT3', 'FUT2', 'SEC'])\n",
      "countries: set(['ETR', 'KE', 'ETU', 'SP', 'SW', 'USW', 'GBU', 'GBR', 'PE', 'GN'])\n"
     ]
    }
   ],
   "source": [
    "####summary information\n",
    "all_countries = {x for x in all_data['country']}      \n",
    "all_genes = {x for x in all_data['gene_id']}   \n",
    "\n",
    "print('genes: {}\\ncountries: {}'.format(all_genes, all_countries))"
   ]
  },
  {
   "cell_type": "markdown",
   "metadata": {},
   "source": [
    "it is possible to assign labels to rows and then access the rows by name--for example by using sample IDs."
   ]
  },
  {
   "cell_type": "code",
   "execution_count": 113,
   "metadata": {
    "collapsed": false,
    "scrolled": true
   },
   "outputs": [
    {
     "data": {
      "text/html": [
       "<div>\n",
       "<table border=\"1\" class=\"dataframe\">\n",
       "  <thead>\n",
       "    <tr style=\"text-align: right;\">\n",
       "      <th></th>\n",
       "      <th>runtype</th>\n",
       "      <th>sample_id</th>\n",
       "      <th>read_id</th>\n",
       "      <th>gc_content</th>\n",
       "      <th>country</th>\n",
       "      <th>gene_id</th>\n",
       "      <th>gene_family</th>\n",
       "      <th>high_GC</th>\n",
       "      <th>low_GC</th>\n",
       "    </tr>\n",
       "    <tr>\n",
       "      <th>spot_id</th>\n",
       "      <th></th>\n",
       "      <th></th>\n",
       "      <th></th>\n",
       "      <th></th>\n",
       "      <th></th>\n",
       "      <th></th>\n",
       "      <th></th>\n",
       "      <th></th>\n",
       "      <th></th>\n",
       "    </tr>\n",
       "  </thead>\n",
       "  <tbody>\n",
       "    <tr>\n",
       "      <th>16998-1719</th>\n",
       "      <td>MISEQ</td>\n",
       "      <td>PE716</td>\n",
       "      <td>ST6_21_F</td>\n",
       "      <td>0.287770</td>\n",
       "      <td>PE</td>\n",
       "      <td>ST6</td>\n",
       "      <td>ST6</td>\n",
       "      <td>False</td>\n",
       "      <td>True</td>\n",
       "    </tr>\n",
       "    <tr>\n",
       "      <th>9172-1724</th>\n",
       "      <td>MISEQ</td>\n",
       "      <td>PE714</td>\n",
       "      <td>ST6_12_F</td>\n",
       "      <td>0.384342</td>\n",
       "      <td>PE</td>\n",
       "      <td>ST6</td>\n",
       "      <td>ST6</td>\n",
       "      <td>False</td>\n",
       "      <td>True</td>\n",
       "    </tr>\n",
       "    <tr>\n",
       "      <th>17068-1733</th>\n",
       "      <td>MISEQ</td>\n",
       "      <td>ETU011</td>\n",
       "      <td>ST6_16_F</td>\n",
       "      <td>0.395683</td>\n",
       "      <td>ETU</td>\n",
       "      <td>ST6</td>\n",
       "      <td>ST6</td>\n",
       "      <td>False</td>\n",
       "      <td>True</td>\n",
       "    </tr>\n",
       "    <tr>\n",
       "      <th>20217-1738</th>\n",
       "      <td>MISEQ</td>\n",
       "      <td>ETR208</td>\n",
       "      <td>ST6_10_F</td>\n",
       "      <td>0.315412</td>\n",
       "      <td>ETR</td>\n",
       "      <td>ST6</td>\n",
       "      <td>ST6</td>\n",
       "      <td>False</td>\n",
       "      <td>True</td>\n",
       "    </tr>\n",
       "    <tr>\n",
       "      <th>9687-1743</th>\n",
       "      <td>MISEQ</td>\n",
       "      <td>PE731</td>\n",
       "      <td>ST6_25_F</td>\n",
       "      <td>0.380783</td>\n",
       "      <td>PE</td>\n",
       "      <td>ST6</td>\n",
       "      <td>ST6</td>\n",
       "      <td>False</td>\n",
       "      <td>True</td>\n",
       "    </tr>\n",
       "  </tbody>\n",
       "</table>\n",
       "</div>"
      ],
      "text/plain": [
       "           runtype sample_id   read_id  gc_content country gene_id  \\\n",
       "spot_id                                                              \n",
       "16998-1719   MISEQ     PE716  ST6_21_F    0.287770      PE     ST6   \n",
       "9172-1724    MISEQ     PE714  ST6_12_F    0.384342      PE     ST6   \n",
       "17068-1733   MISEQ    ETU011  ST6_16_F    0.395683     ETU     ST6   \n",
       "20217-1738   MISEQ    ETR208  ST6_10_F    0.315412     ETR     ST6   \n",
       "9687-1743    MISEQ     PE731  ST6_25_F    0.380783      PE     ST6   \n",
       "\n",
       "           gene_family high_GC low_GC  \n",
       "spot_id                                \n",
       "16998-1719         ST6   False   True  \n",
       "9172-1724          ST6   False   True  \n",
       "17068-1733         ST6   False   True  \n",
       "20217-1738         ST6   False   True  \n",
       "9687-1743          ST6   False   True  "
      ]
     },
     "execution_count": 113,
     "metadata": {},
     "output_type": "execute_result"
    }
   ],
   "source": [
    "####manipulating columns (from code) add read id, high gc, low gc column\n",
    "\n",
    "all_data['gene_family'] = [x[:x.find('_')] for x in all_data['read_id'] ]\n",
    "\n",
    "all_data['high_GC'] = all_data.gc_content > 0.4\n",
    "all_data['low_GC']  = all_data.gc_content < 0.4\n",
    "\n",
    "all_data.head()"
   ]
  },
  {
   "cell_type": "code",
   "execution_count": 114,
   "metadata": {
    "collapsed": false
   },
   "outputs": [
    {
     "data": {
      "text/plain": [
       "spot_id\n",
       "16998-1719    False\n",
       "9172-1724     False\n",
       "17068-1733    False\n",
       "20217-1738    False\n",
       "9687-1743     False\n",
       "Name: high_GC, dtype: bool"
      ]
     },
     "execution_count": 114,
     "metadata": {},
     "output_type": "execute_result"
    }
   ],
   "source": [
    "all_data['high_GC'].head()\n"
   ]
  },
  {
   "cell_type": "code",
   "execution_count": 115,
   "metadata": {
    "collapsed": false
   },
   "outputs": [
    {
     "data": {
      "text/html": [
       "<div>\n",
       "<table border=\"1\" class=\"dataframe\">\n",
       "  <thead>\n",
       "    <tr style=\"text-align: right;\">\n",
       "      <th></th>\n",
       "      <th>runtype</th>\n",
       "      <th>sample_id</th>\n",
       "      <th>read_id</th>\n",
       "      <th>gc_content</th>\n",
       "      <th>country</th>\n",
       "      <th>gene_id</th>\n",
       "      <th>gene_family</th>\n",
       "      <th>high_GC</th>\n",
       "      <th>low_GC</th>\n",
       "    </tr>\n",
       "    <tr>\n",
       "      <th>spot_id</th>\n",
       "      <th></th>\n",
       "      <th></th>\n",
       "      <th></th>\n",
       "      <th></th>\n",
       "      <th></th>\n",
       "      <th></th>\n",
       "      <th></th>\n",
       "      <th></th>\n",
       "      <th></th>\n",
       "    </tr>\n",
       "  </thead>\n",
       "  <tbody>\n",
       "    <tr>\n",
       "      <th>12088-1744</th>\n",
       "      <td>MISEQ</td>\n",
       "      <td>GBR320</td>\n",
       "      <td>FUT3_3_F</td>\n",
       "      <td>0.590747</td>\n",
       "      <td>GBR</td>\n",
       "      <td>FUT3</td>\n",
       "      <td>FUT3</td>\n",
       "      <td>True</td>\n",
       "      <td>False</td>\n",
       "    </tr>\n",
       "    <tr>\n",
       "      <th>10797-1764</th>\n",
       "      <td>MISEQ</td>\n",
       "      <td>PE713</td>\n",
       "      <td>FUT3_4_F</td>\n",
       "      <td>0.615658</td>\n",
       "      <td>PE</td>\n",
       "      <td>FUT3</td>\n",
       "      <td>FUT3</td>\n",
       "      <td>True</td>\n",
       "      <td>False</td>\n",
       "    </tr>\n",
       "    <tr>\n",
       "      <th>15170-1766</th>\n",
       "      <td>MISEQ</td>\n",
       "      <td>GBR329</td>\n",
       "      <td>GULOP_2_F</td>\n",
       "      <td>0.466192</td>\n",
       "      <td>GBR</td>\n",
       "      <td>GULOP</td>\n",
       "      <td>GULOP</td>\n",
       "      <td>True</td>\n",
       "      <td>False</td>\n",
       "    </tr>\n",
       "    <tr>\n",
       "      <th>11566-1772</th>\n",
       "      <td>MISEQ</td>\n",
       "      <td>PE740</td>\n",
       "      <td>FUT2_9_F</td>\n",
       "      <td>0.452899</td>\n",
       "      <td>PE</td>\n",
       "      <td>FUT2</td>\n",
       "      <td>FUT2</td>\n",
       "      <td>True</td>\n",
       "      <td>False</td>\n",
       "    </tr>\n",
       "    <tr>\n",
       "      <th>13492-1773</th>\n",
       "      <td>MISEQ</td>\n",
       "      <td>GBR311</td>\n",
       "      <td>ST6_8_F</td>\n",
       "      <td>0.462633</td>\n",
       "      <td>GBR</td>\n",
       "      <td>ST6</td>\n",
       "      <td>ST6</td>\n",
       "      <td>True</td>\n",
       "      <td>False</td>\n",
       "    </tr>\n",
       "  </tbody>\n",
       "</table>\n",
       "</div>"
      ],
      "text/plain": [
       "           runtype sample_id    read_id  gc_content country gene_id  \\\n",
       "spot_id                                                               \n",
       "12088-1744   MISEQ    GBR320   FUT3_3_F    0.590747     GBR    FUT3   \n",
       "10797-1764   MISEQ     PE713   FUT3_4_F    0.615658      PE    FUT3   \n",
       "15170-1766   MISEQ    GBR329  GULOP_2_F    0.466192     GBR   GULOP   \n",
       "11566-1772   MISEQ     PE740   FUT2_9_F    0.452899      PE    FUT2   \n",
       "13492-1773   MISEQ    GBR311    ST6_8_F    0.462633     GBR     ST6   \n",
       "\n",
       "           gene_family high_GC low_GC  \n",
       "spot_id                                \n",
       "12088-1744        FUT3    True  False  \n",
       "10797-1764        FUT3    True  False  \n",
       "15170-1766       GULOP    True  False  \n",
       "11566-1772        FUT2    True  False  \n",
       "13492-1773         ST6    True  False  "
      ]
     },
     "execution_count": 115,
     "metadata": {},
     "output_type": "execute_result"
    }
   ],
   "source": [
    "# look at just the low GC content observations\n",
    "all_data[ all_data['high_GC'] ].head()"
   ]
  },
  {
   "cell_type": "code",
   "execution_count": 116,
   "metadata": {
    "collapsed": false
   },
   "outputs": [
    {
     "data": {
      "text/html": [
       "<div>\n",
       "<table border=\"1\" class=\"dataframe\">\n",
       "  <thead>\n",
       "    <tr style=\"text-align: right;\">\n",
       "      <th></th>\n",
       "      <th>runtype</th>\n",
       "      <th>sample_id</th>\n",
       "      <th>read_id</th>\n",
       "      <th>gc_content</th>\n",
       "      <th>country</th>\n",
       "      <th>gene_id</th>\n",
       "      <th>gene_family</th>\n",
       "      <th>high_GC</th>\n",
       "      <th>low_GC</th>\n",
       "    </tr>\n",
       "    <tr>\n",
       "      <th>spot_id</th>\n",
       "      <th></th>\n",
       "      <th></th>\n",
       "      <th></th>\n",
       "      <th></th>\n",
       "      <th></th>\n",
       "      <th></th>\n",
       "      <th></th>\n",
       "      <th></th>\n",
       "      <th></th>\n",
       "    </tr>\n",
       "  </thead>\n",
       "  <tbody>\n",
       "    <tr>\n",
       "      <th>16998-1719</th>\n",
       "      <td>MISEQ</td>\n",
       "      <td>PE716</td>\n",
       "      <td>ST6_21_F</td>\n",
       "      <td>0.287770</td>\n",
       "      <td>PE</td>\n",
       "      <td>ST6</td>\n",
       "      <td>ST6</td>\n",
       "      <td>False</td>\n",
       "      <td>True</td>\n",
       "    </tr>\n",
       "    <tr>\n",
       "      <th>9172-1724</th>\n",
       "      <td>MISEQ</td>\n",
       "      <td>PE714</td>\n",
       "      <td>ST6_12_F</td>\n",
       "      <td>0.384342</td>\n",
       "      <td>PE</td>\n",
       "      <td>ST6</td>\n",
       "      <td>ST6</td>\n",
       "      <td>False</td>\n",
       "      <td>True</td>\n",
       "    </tr>\n",
       "    <tr>\n",
       "      <th>9687-1743</th>\n",
       "      <td>MISEQ</td>\n",
       "      <td>PE731</td>\n",
       "      <td>ST6_25_F</td>\n",
       "      <td>0.380783</td>\n",
       "      <td>PE</td>\n",
       "      <td>ST6</td>\n",
       "      <td>ST6</td>\n",
       "      <td>False</td>\n",
       "      <td>True</td>\n",
       "    </tr>\n",
       "    <tr>\n",
       "      <th>10797-1764</th>\n",
       "      <td>MISEQ</td>\n",
       "      <td>PE713</td>\n",
       "      <td>FUT3_4_F</td>\n",
       "      <td>0.615658</td>\n",
       "      <td>PE</td>\n",
       "      <td>FUT3</td>\n",
       "      <td>FUT3</td>\n",
       "      <td>True</td>\n",
       "      <td>False</td>\n",
       "    </tr>\n",
       "    <tr>\n",
       "      <th>11566-1772</th>\n",
       "      <td>MISEQ</td>\n",
       "      <td>PE740</td>\n",
       "      <td>FUT2_9_F</td>\n",
       "      <td>0.452899</td>\n",
       "      <td>PE</td>\n",
       "      <td>FUT2</td>\n",
       "      <td>FUT2</td>\n",
       "      <td>True</td>\n",
       "      <td>False</td>\n",
       "    </tr>\n",
       "  </tbody>\n",
       "</table>\n",
       "</div>"
      ],
      "text/plain": [
       "           runtype sample_id   read_id  gc_content country gene_id  \\\n",
       "spot_id                                                              \n",
       "16998-1719   MISEQ     PE716  ST6_21_F    0.287770      PE     ST6   \n",
       "9172-1724    MISEQ     PE714  ST6_12_F    0.384342      PE     ST6   \n",
       "9687-1743    MISEQ     PE731  ST6_25_F    0.380783      PE     ST6   \n",
       "10797-1764   MISEQ     PE713  FUT3_4_F    0.615658      PE    FUT3   \n",
       "11566-1772   MISEQ     PE740  FUT2_9_F    0.452899      PE    FUT2   \n",
       "\n",
       "           gene_family high_GC low_GC  \n",
       "spot_id                                \n",
       "16998-1719         ST6   False   True  \n",
       "9172-1724          ST6   False   True  \n",
       "9687-1743          ST6   False   True  \n",
       "10797-1764        FUT3    True  False  \n",
       "11566-1772        FUT2    True  False  "
      ]
     },
     "execution_count": 116,
     "metadata": {},
     "output_type": "execute_result"
    }
   ],
   "source": [
    "# look at just one country\n",
    "x= all_data[ all_data.country=='PE'].head()\n",
    "x"
   ]
  },
  {
   "cell_type": "markdown",
   "metadata": {},
   "source": [
    "It is possible re-shape DataFrames using DataFrame methods"
   ]
  },
  {
   "cell_type": "code",
   "execution_count": 128,
   "metadata": {
    "collapsed": false,
    "scrolled": false
   },
   "outputs": [
    {
     "ename": "TypeError",
     "evalue": "'Index' object is not callable",
     "output_type": "error",
     "traceback": [
      "\u001b[0;31m---------------------------------------------------------------------------\u001b[0m",
      "\u001b[0;31mTypeError\u001b[0m                                 Traceback (most recent call last)",
      "\u001b[0;32m<ipython-input-128-550e3c651b09>\u001b[0m in \u001b[0;36m<module>\u001b[0;34m()\u001b[0m\n\u001b[1;32m      3\u001b[0m \u001b[0;34m\u001b[0m\u001b[0m\n\u001b[1;32m      4\u001b[0m \u001b[0mall_data\u001b[0m\u001b[0;34m.\u001b[0m\u001b[0mhead\u001b[0m\u001b[0;34m(\u001b[0m\u001b[0;34m)\u001b[0m\u001b[0;34m\u001b[0m\u001b[0m\n\u001b[0;32m----> 5\u001b[0;31m \u001b[0my\u001b[0m \u001b[0;34m=\u001b[0m \u001b[0mall_data\u001b[0m\u001b[0;34m.\u001b[0m\u001b[0mcolumns\u001b[0m\u001b[0;34m(\u001b[0m\u001b[0;34m[\u001b[0m\u001b[0;34m'runtype'\u001b[0m\u001b[0;34m,\u001b[0m\u001b[0;34m'country'\u001b[0m\u001b[0;34m,\u001b[0m\u001b[0;34m'gene_id'\u001b[0m\u001b[0;34m]\u001b[0m\u001b[0;34m,\u001b[0m\u001b[0maxis\u001b[0m \u001b[0;34m=\u001b[0m \u001b[0;36m1\u001b[0m\u001b[0;34m)\u001b[0m\u001b[0;34m\u001b[0m\u001b[0m\n\u001b[0m\u001b[1;32m      6\u001b[0m \u001b[0my\u001b[0m\u001b[0;34m\u001b[0m\u001b[0m\n",
      "\u001b[0;31mTypeError\u001b[0m: 'Index' object is not callable"
     ]
    }
   ],
   "source": [
    "# re-order and drop columns,delet the primer column\n",
    "#all_data = all_data.drop(['forward_primer', 'reverse_primer' ], axis=1)\n",
    "\n",
    "all_data.head()\n",
    "y = all_data.columns(['runtype','country','gene_id'],axis = 1)\n",
    "y"
   ]
  },
  {
   "cell_type": "markdown",
   "metadata": {},
   "source": [
    "### Get summary information about DataFrames\n",
    "\n",
    "*DataFrame.describe()* is very useful. Look at these examples carefully."
   ]
  },
  {
   "cell_type": "code",
   "execution_count": 129,
   "metadata": {
    "collapsed": false
   },
   "outputs": [
    {
     "data": {
      "text/html": [
       "<div>\n",
       "<table border=\"1\" class=\"dataframe\">\n",
       "  <thead>\n",
       "    <tr style=\"text-align: right;\">\n",
       "      <th></th>\n",
       "      <th>runtype</th>\n",
       "      <th>sample_id</th>\n",
       "      <th>read_id</th>\n",
       "      <th>gc_content</th>\n",
       "      <th>country</th>\n",
       "      <th>gene_id</th>\n",
       "      <th>gene_family</th>\n",
       "      <th>high_GC</th>\n",
       "      <th>low_GC</th>\n",
       "    </tr>\n",
       "  </thead>\n",
       "  <tbody>\n",
       "    <tr>\n",
       "      <th>count</th>\n",
       "      <td>2000</td>\n",
       "      <td>2000</td>\n",
       "      <td>2000</td>\n",
       "      <td>2000.000000</td>\n",
       "      <td>2000</td>\n",
       "      <td>2000</td>\n",
       "      <td>2000</td>\n",
       "      <td>2000</td>\n",
       "      <td>2000</td>\n",
       "    </tr>\n",
       "    <tr>\n",
       "      <th>unique</th>\n",
       "      <td>1</td>\n",
       "      <td>341</td>\n",
       "      <td>37</td>\n",
       "      <td>NaN</td>\n",
       "      <td>10</td>\n",
       "      <td>5</td>\n",
       "      <td>5</td>\n",
       "      <td>2</td>\n",
       "      <td>2</td>\n",
       "    </tr>\n",
       "    <tr>\n",
       "      <th>top</th>\n",
       "      <td>MISEQ</td>\n",
       "      <td>GBR320</td>\n",
       "      <td>ST6_25_F</td>\n",
       "      <td>NaN</td>\n",
       "      <td>PE</td>\n",
       "      <td>ST6</td>\n",
       "      <td>ST6</td>\n",
       "      <td>True</td>\n",
       "      <td>False</td>\n",
       "    </tr>\n",
       "    <tr>\n",
       "      <th>freq</th>\n",
       "      <td>2000</td>\n",
       "      <td>20</td>\n",
       "      <td>167</td>\n",
       "      <td>NaN</td>\n",
       "      <td>317</td>\n",
       "      <td>1242</td>\n",
       "      <td>1242</td>\n",
       "      <td>1170</td>\n",
       "      <td>1170</td>\n",
       "    </tr>\n",
       "    <tr>\n",
       "      <th>mean</th>\n",
       "      <td>NaN</td>\n",
       "      <td>NaN</td>\n",
       "      <td>NaN</td>\n",
       "      <td>0.454477</td>\n",
       "      <td>NaN</td>\n",
       "      <td>NaN</td>\n",
       "      <td>NaN</td>\n",
       "      <td>NaN</td>\n",
       "      <td>NaN</td>\n",
       "    </tr>\n",
       "    <tr>\n",
       "      <th>std</th>\n",
       "      <td>NaN</td>\n",
       "      <td>NaN</td>\n",
       "      <td>NaN</td>\n",
       "      <td>0.103666</td>\n",
       "      <td>NaN</td>\n",
       "      <td>NaN</td>\n",
       "      <td>NaN</td>\n",
       "      <td>NaN</td>\n",
       "      <td>NaN</td>\n",
       "    </tr>\n",
       "    <tr>\n",
       "      <th>min</th>\n",
       "      <td>NaN</td>\n",
       "      <td>NaN</td>\n",
       "      <td>NaN</td>\n",
       "      <td>0.269784</td>\n",
       "      <td>NaN</td>\n",
       "      <td>NaN</td>\n",
       "      <td>NaN</td>\n",
       "      <td>NaN</td>\n",
       "      <td>NaN</td>\n",
       "    </tr>\n",
       "    <tr>\n",
       "      <th>25%</th>\n",
       "      <td>NaN</td>\n",
       "      <td>NaN</td>\n",
       "      <td>NaN</td>\n",
       "      <td>0.380783</td>\n",
       "      <td>NaN</td>\n",
       "      <td>NaN</td>\n",
       "      <td>NaN</td>\n",
       "      <td>NaN</td>\n",
       "      <td>NaN</td>\n",
       "    </tr>\n",
       "    <tr>\n",
       "      <th>50%</th>\n",
       "      <td>NaN</td>\n",
       "      <td>NaN</td>\n",
       "      <td>NaN</td>\n",
       "      <td>0.446043</td>\n",
       "      <td>NaN</td>\n",
       "      <td>NaN</td>\n",
       "      <td>NaN</td>\n",
       "      <td>NaN</td>\n",
       "      <td>NaN</td>\n",
       "    </tr>\n",
       "    <tr>\n",
       "      <th>75%</th>\n",
       "      <td>NaN</td>\n",
       "      <td>NaN</td>\n",
       "      <td>NaN</td>\n",
       "      <td>0.533808</td>\n",
       "      <td>NaN</td>\n",
       "      <td>NaN</td>\n",
       "      <td>NaN</td>\n",
       "      <td>NaN</td>\n",
       "      <td>NaN</td>\n",
       "    </tr>\n",
       "    <tr>\n",
       "      <th>max</th>\n",
       "      <td>NaN</td>\n",
       "      <td>NaN</td>\n",
       "      <td>NaN</td>\n",
       "      <td>0.715302</td>\n",
       "      <td>NaN</td>\n",
       "      <td>NaN</td>\n",
       "      <td>NaN</td>\n",
       "      <td>NaN</td>\n",
       "      <td>NaN</td>\n",
       "    </tr>\n",
       "  </tbody>\n",
       "</table>\n",
       "</div>"
      ],
      "text/plain": [
       "       runtype sample_id   read_id   gc_content country gene_id gene_family  \\\n",
       "count     2000      2000      2000  2000.000000    2000    2000        2000   \n",
       "unique       1       341        37          NaN      10       5           5   \n",
       "top      MISEQ    GBR320  ST6_25_F          NaN      PE     ST6         ST6   \n",
       "freq      2000        20       167          NaN     317    1242        1242   \n",
       "mean       NaN       NaN       NaN     0.454477     NaN     NaN         NaN   \n",
       "std        NaN       NaN       NaN     0.103666     NaN     NaN         NaN   \n",
       "min        NaN       NaN       NaN     0.269784     NaN     NaN         NaN   \n",
       "25%        NaN       NaN       NaN     0.380783     NaN     NaN         NaN   \n",
       "50%        NaN       NaN       NaN     0.446043     NaN     NaN         NaN   \n",
       "75%        NaN       NaN       NaN     0.533808     NaN     NaN         NaN   \n",
       "max        NaN       NaN       NaN     0.715302     NaN     NaN         NaN   \n",
       "\n",
       "       high_GC low_GC  \n",
       "count     2000   2000  \n",
       "unique       2      2  \n",
       "top       True  False  \n",
       "freq      1170   1170  \n",
       "mean       NaN    NaN  \n",
       "std        NaN    NaN  \n",
       "min        NaN    NaN  \n",
       "25%        NaN    NaN  \n",
       "50%        NaN    NaN  \n",
       "75%        NaN    NaN  \n",
       "max        NaN    NaN  "
      ]
     },
     "execution_count": 129,
     "metadata": {},
     "output_type": "execute_result"
    }
   ],
   "source": [
    "all_data.describe(include='all')"
   ]
  },
  {
   "cell_type": "code",
   "execution_count": 132,
   "metadata": {
    "collapsed": false,
    "scrolled": true
   },
   "outputs": [
    {
     "name": "stdout",
     "output_type": "stream",
     "text": [
      "summary of Great Britain:\n",
      "count     271.000000\n",
      "unique           NaN\n",
      "top              NaN\n",
      "freq             NaN\n",
      "mean        0.457919\n",
      "std         0.102523\n",
      "min         0.276978\n",
      "25%         0.380783\n",
      "50%         0.449640\n",
      "75%         0.533808\n",
      "max         0.696429\n",
      "Name: gc_content, dtype: float64\n",
      "\n",
      "summary of Peru:\n",
      "       runtype sample_id   read_id  gc_content country gene_id gene_family  \\\n",
      "count      317       317       317  317.000000     317     317         317   \n",
      "unique       1        41        37         NaN       1       5           5   \n",
      "top      MISEQ     PE742  ST6_25_F         NaN      PE     ST6         ST6   \n",
      "freq       317        18        24         NaN     317     208         208   \n",
      "mean       NaN       NaN       NaN    0.450601     NaN     NaN         NaN   \n",
      "std        NaN       NaN       NaN    0.103884     NaN     NaN         NaN   \n",
      "min        NaN       NaN       NaN    0.269784     NaN     NaN         NaN   \n",
      "25%        NaN       NaN       NaN    0.377224     NaN     NaN         NaN   \n",
      "50%        NaN       NaN       NaN    0.448029     NaN     NaN         NaN   \n",
      "75%        NaN       NaN       NaN    0.519573     NaN     NaN         NaN   \n",
      "max        NaN       NaN       NaN    0.692857     NaN     NaN         NaN   \n",
      "\n",
      "       high_GC low_GC  \n",
      "count      317    317  \n",
      "unique       2      2  \n",
      "top       True  False  \n",
      "freq       185    185  \n",
      "mean       NaN    NaN  \n",
      "std        NaN    NaN  \n",
      "min        NaN    NaN  \n",
      "25%        NaN    NaN  \n",
      "50%        NaN    NaN  \n",
      "75%        NaN    NaN  \n",
      "max        NaN    NaN  \n",
      "\n"
     ]
    }
   ],
   "source": [
    "####summary statistics for sub-DataFrames\n",
    "\n",
    "summary_gbr = all_data[ all_data.country == 'GBR' ].describe(include='all')\n",
    "summary_pe  = all_data[ all_data.country == 'PE' ].describe(include='all')\n",
    "\n",
    "print('summary of Great Britain:\\n{}\\n'.format(summary_gbr['gc_content']))\n",
    "print('summary of Peru:\\n{}\\n'.format(summary_pe))"
   ]
  },
  {
   "cell_type": "code",
   "execution_count": 133,
   "metadata": {
    "collapsed": false
   },
   "outputs": [
    {
     "name": "stdout",
     "output_type": "stream",
     "text": [
      "Statistics for ETR: \n",
      "       runtype sample_id   read_id  gc_content country gene_id gene_family  \\\n",
      "count      154       154       154  154.000000     154     154         154   \n",
      "unique       1        38        33         NaN       1       5           5   \n",
      "top      MISEQ    ETR207  ST6_22_F         NaN     ETR     ST6         ST6   \n",
      "freq       154        15        18         NaN     154     104         104   \n",
      "mean       NaN       NaN       NaN    0.445550     NaN     NaN         NaN   \n",
      "std        NaN       NaN       NaN    0.105342     NaN     NaN         NaN   \n",
      "min        NaN       NaN       NaN    0.276978     NaN     NaN         NaN   \n",
      "25%        NaN       NaN       NaN    0.371886     NaN     NaN         NaN   \n",
      "50%        NaN       NaN       NaN    0.400708     NaN     NaN         NaN   \n",
      "75%        NaN       NaN       NaN    0.543273     NaN     NaN         NaN   \n",
      "max        NaN       NaN       NaN    0.685714     NaN     NaN         NaN   \n",
      "\n",
      "       high_GC low_GC  \n",
      "count      154    154  \n",
      "unique       2      2  \n",
      "top       True   True  \n",
      "freq        77     77  \n",
      "mean       NaN    NaN  \n",
      "std        NaN    NaN  \n",
      "min        NaN    NaN  \n",
      "25%        NaN    NaN  \n",
      "50%        NaN    NaN  \n",
      "75%        NaN    NaN  \n",
      "max        NaN    NaN  \n",
      "\n",
      "Statistics for ETU: \n",
      "       runtype sample_id   read_id  gc_content country gene_id gene_family  \\\n",
      "count      194       194       194  194.000000     194     194         194   \n",
      "unique       1        30        36         NaN       1       5           5   \n",
      "top      MISEQ    ETU025  ST6_22_F         NaN     ETU     ST6         ST6   \n",
      "freq       194        15        14         NaN     194     121         121   \n",
      "mean       NaN       NaN       NaN    0.451564     NaN     NaN         NaN   \n",
      "std        NaN       NaN       NaN    0.104092     NaN     NaN         NaN   \n",
      "min        NaN       NaN       NaN    0.273381     NaN     NaN         NaN   \n",
      "25%        NaN       NaN       NaN    0.384342     NaN     NaN         NaN   \n",
      "50%        NaN       NaN       NaN    0.419929     NaN     NaN         NaN   \n",
      "75%        NaN       NaN       NaN    0.518683     NaN     NaN         NaN   \n",
      "max        NaN       NaN       NaN    0.690391     NaN     NaN         NaN   \n",
      "\n",
      "       high_GC low_GC  \n",
      "count      194    194  \n",
      "unique       2      2  \n",
      "top       True  False  \n",
      "freq       108    108  \n",
      "mean       NaN    NaN  \n",
      "std        NaN    NaN  \n",
      "min        NaN    NaN  \n",
      "25%        NaN    NaN  \n",
      "50%        NaN    NaN  \n",
      "75%        NaN    NaN  \n",
      "max        NaN    NaN  \n",
      "\n",
      "Statistics for GBR: \n",
      "       runtype sample_id   read_id  gc_content country gene_id gene_family  \\\n",
      "count      271       271       271  271.000000     271     271         271   \n",
      "unique       1        37        36         NaN       1       5           5   \n",
      "top      MISEQ    GBR320  ST6_25_F         NaN     GBR     ST6         ST6   \n",
      "freq       271        20        26         NaN     271     163         163   \n",
      "mean       NaN       NaN       NaN    0.457919     NaN     NaN         NaN   \n",
      "std        NaN       NaN       NaN    0.102523     NaN     NaN         NaN   \n",
      "min        NaN       NaN       NaN    0.276978     NaN     NaN         NaN   \n",
      "25%        NaN       NaN       NaN    0.380783     NaN     NaN         NaN   \n",
      "50%        NaN       NaN       NaN    0.449640     NaN     NaN         NaN   \n",
      "75%        NaN       NaN       NaN    0.533808     NaN     NaN         NaN   \n",
      "max        NaN       NaN       NaN    0.696429     NaN     NaN         NaN   \n",
      "\n",
      "       high_GC low_GC  \n",
      "count      271    271  \n",
      "unique       2      2  \n",
      "top       True  False  \n",
      "freq       164    164  \n",
      "mean       NaN    NaN  \n",
      "std        NaN    NaN  \n",
      "min        NaN    NaN  \n",
      "25%        NaN    NaN  \n",
      "50%        NaN    NaN  \n",
      "75%        NaN    NaN  \n",
      "max        NaN    NaN  \n",
      "\n",
      "Statistics for GBU: \n",
      "       runtype sample_id   read_id  gc_content country gene_id gene_family  \\\n",
      "count      292       292       292  292.000000     292     292         292   \n",
      "unique       1        38        36         NaN       1       5           5   \n",
      "top      MISEQ    GBU415  ST6_25_F         NaN     GBU     ST6         ST6   \n",
      "freq       292        19        24         NaN     292     175         175   \n",
      "mean       NaN       NaN       NaN    0.457202     NaN     NaN         NaN   \n",
      "std        NaN       NaN       NaN    0.103366     NaN     NaN         NaN   \n",
      "min        NaN       NaN       NaN    0.273381     NaN     NaN         NaN   \n",
      "25%        NaN       NaN       NaN    0.380783     NaN     NaN         NaN   \n",
      "50%        NaN       NaN       NaN    0.447842     NaN     NaN         NaN   \n",
      "75%        NaN       NaN       NaN    0.530249     NaN     NaN         NaN   \n",
      "max        NaN       NaN       NaN    0.715302     NaN     NaN         NaN   \n",
      "\n",
      "       high_GC low_GC  \n",
      "count      292    292  \n",
      "unique       2      2  \n",
      "top       True  False  \n",
      "freq       177    177  \n",
      "mean       NaN    NaN  \n",
      "std        NaN    NaN  \n",
      "min        NaN    NaN  \n",
      "25%        NaN    NaN  \n",
      "50%        NaN    NaN  \n",
      "75%        NaN    NaN  \n",
      "max        NaN    NaN  \n",
      "\n",
      "Statistics for GN: \n",
      "       runtype sample_id   read_id  gc_content country gene_id gene_family  \\\n",
      "count      186       186       186  186.000000     186     186         186   \n",
      "unique       1        29        33         NaN       1       5           5   \n",
      "top      MISEQ     GN526  ST6_25_F         NaN      GN     ST6         ST6   \n",
      "freq       186        14        21         NaN     186      99          99   \n",
      "mean       NaN       NaN       NaN    0.468612     NaN     NaN         NaN   \n",
      "std        NaN       NaN       NaN    0.101205     NaN     NaN         NaN   \n",
      "min        NaN       NaN       NaN    0.269784     NaN     NaN         NaN   \n",
      "25%        NaN       NaN       NaN    0.384342     NaN     NaN         NaN   \n",
      "50%        NaN       NaN       NaN    0.453405     NaN     NaN         NaN   \n",
      "75%        NaN       NaN       NaN    0.548043     NaN     NaN         NaN   \n",
      "max        NaN       NaN       NaN    0.689286     NaN     NaN         NaN   \n",
      "\n",
      "       high_GC low_GC  \n",
      "count      186    186  \n",
      "unique       2      2  \n",
      "top       True  False  \n",
      "freq       119    119  \n",
      "mean       NaN    NaN  \n",
      "std        NaN    NaN  \n",
      "min        NaN    NaN  \n",
      "25%        NaN    NaN  \n",
      "50%        NaN    NaN  \n",
      "75%        NaN    NaN  \n",
      "max        NaN    NaN  \n",
      "\n",
      "Statistics for KE: \n",
      "       runtype sample_id   read_id  gc_content country gene_id gene_family  \\\n",
      "count      153       153       153  153.000000     153     153         153   \n",
      "unique       1        35        33         NaN       1       5           5   \n",
      "top      MISEQ     KE617  ST6_25_F         NaN      KE     ST6         ST6   \n",
      "freq       153        13        17         NaN     153      98          98   \n",
      "mean       NaN       NaN       NaN    0.457715     NaN     NaN         NaN   \n",
      "std        NaN       NaN       NaN    0.104160     NaN     NaN         NaN   \n",
      "min        NaN       NaN       NaN    0.273381     NaN     NaN         NaN   \n",
      "25%        NaN       NaN       NaN    0.380783     NaN     NaN         NaN   \n",
      "50%        NaN       NaN       NaN    0.446043     NaN     NaN         NaN   \n",
      "75%        NaN       NaN       NaN    0.544484     NaN     NaN         NaN   \n",
      "max        NaN       NaN       NaN    0.692857     NaN     NaN         NaN   \n",
      "\n",
      "       high_GC low_GC  \n",
      "count      153    153  \n",
      "unique       2      2  \n",
      "top       True  False  \n",
      "freq        89     89  \n",
      "mean       NaN    NaN  \n",
      "std        NaN    NaN  \n",
      "min        NaN    NaN  \n",
      "25%        NaN    NaN  \n",
      "50%        NaN    NaN  \n",
      "75%        NaN    NaN  \n",
      "max        NaN    NaN  \n",
      "\n",
      "Statistics for PE: \n",
      "       runtype sample_id   read_id  gc_content country gene_id gene_family  \\\n",
      "count      317       317       317  317.000000     317     317         317   \n",
      "unique       1        41        37         NaN       1       5           5   \n",
      "top      MISEQ     PE742  ST6_25_F         NaN      PE     ST6         ST6   \n",
      "freq       317        18        24         NaN     317     208         208   \n",
      "mean       NaN       NaN       NaN    0.450601     NaN     NaN         NaN   \n",
      "std        NaN       NaN       NaN    0.103884     NaN     NaN         NaN   \n",
      "min        NaN       NaN       NaN    0.269784     NaN     NaN         NaN   \n",
      "25%        NaN       NaN       NaN    0.377224     NaN     NaN         NaN   \n",
      "50%        NaN       NaN       NaN    0.448029     NaN     NaN         NaN   \n",
      "75%        NaN       NaN       NaN    0.519573     NaN     NaN         NaN   \n",
      "max        NaN       NaN       NaN    0.692857     NaN     NaN         NaN   \n",
      "\n",
      "       high_GC low_GC  \n",
      "count      317    317  \n",
      "unique       2      2  \n",
      "top       True  False  \n",
      "freq       185    185  \n",
      "mean       NaN    NaN  \n",
      "std        NaN    NaN  \n",
      "min        NaN    NaN  \n",
      "25%        NaN    NaN  \n",
      "50%        NaN    NaN  \n",
      "75%        NaN    NaN  \n",
      "max        NaN    NaN  \n",
      "\n",
      "Statistics for SP: \n",
      "       runtype sample_id   read_id  gc_content country gene_id gene_family  \\\n",
      "count      179       179       179  179.000000     179     179         179   \n",
      "unique       1        36        33         NaN       1       5           5   \n",
      "top      MISEQ     SP841  ST6_17_F         NaN      SP     ST6         ST6   \n",
      "freq       179        10        14         NaN     179     122         122   \n",
      "mean       NaN       NaN       NaN    0.442890     NaN     NaN         NaN   \n",
      "std        NaN       NaN       NaN    0.100716     NaN     NaN         NaN   \n",
      "min        NaN       NaN       NaN    0.276978     NaN     NaN         NaN   \n",
      "25%        NaN       NaN       NaN    0.347039     NaN     NaN         NaN   \n",
      "50%        NaN       NaN       NaN    0.409253     NaN     NaN         NaN   \n",
      "75%        NaN       NaN       NaN    0.517794     NaN     NaN         NaN   \n",
      "max        NaN       NaN       NaN    0.669039     NaN     NaN         NaN   \n",
      "\n",
      "       high_GC low_GC  \n",
      "count      179    179  \n",
      "unique       2      2  \n",
      "top       True  False  \n",
      "freq        97     97  \n",
      "mean       NaN    NaN  \n",
      "std        NaN    NaN  \n",
      "min        NaN    NaN  \n",
      "25%        NaN    NaN  \n",
      "50%        NaN    NaN  \n",
      "75%        NaN    NaN  \n",
      "max        NaN    NaN  \n",
      "\n",
      "Statistics for SW: \n",
      "       runtype sample_id  read_id  gc_content country gene_id gene_family  \\\n",
      "count      104       104      104  104.000000     104     104         104   \n",
      "unique       1        23       31         NaN       1       5           5   \n",
      "top      MISEQ     SW902  ST6_7_F         NaN      SW     ST6         ST6   \n",
      "freq       104         9       10         NaN     104      62          62   \n",
      "mean       NaN       NaN      NaN    0.464215     NaN     NaN         NaN   \n",
      "std        NaN       NaN      NaN    0.109825     NaN     NaN         NaN   \n",
      "min        NaN       NaN      NaN    0.276978     NaN     NaN         NaN   \n",
      "25%        NaN       NaN      NaN    0.387900     NaN     NaN         NaN   \n",
      "50%        NaN       NaN      NaN    0.454358     NaN     NaN         NaN   \n",
      "75%        NaN       NaN      NaN    0.553969     NaN     NaN         NaN   \n",
      "max        NaN       NaN      NaN    0.679715     NaN     NaN         NaN   \n",
      "\n",
      "       high_GC low_GC  \n",
      "count      104    104  \n",
      "unique       2      2  \n",
      "top       True  False  \n",
      "freq        66     66  \n",
      "mean       NaN    NaN  \n",
      "std        NaN    NaN  \n",
      "min        NaN    NaN  \n",
      "25%        NaN    NaN  \n",
      "50%        NaN    NaN  \n",
      "75%        NaN    NaN  \n",
      "max        NaN    NaN  \n",
      "\n",
      "Statistics for USW: \n",
      "       runtype sample_id   read_id  gc_content country gene_id gene_family  \\\n",
      "count      150       150       150  150.000000     150     150         150   \n",
      "unique       1        34        34         NaN       1       5           5   \n",
      "top      MISEQ   USW1008  ST6_25_F         NaN     USW     ST6         ST6   \n",
      "freq       150        13        10         NaN     150      90          90   \n",
      "mean       NaN       NaN       NaN    0.450324     NaN     NaN         NaN   \n",
      "std        NaN       NaN       NaN    0.105077     NaN     NaN         NaN   \n",
      "min        NaN       NaN       NaN    0.276978     NaN     NaN         NaN   \n",
      "25%        NaN       NaN       NaN    0.355107     NaN     NaN         NaN   \n",
      "50%        NaN       NaN       NaN    0.449640     NaN     NaN         NaN   \n",
      "75%        NaN       NaN       NaN    0.541964     NaN     NaN         NaN   \n",
      "max        NaN       NaN       NaN    0.665480     NaN     NaN         NaN   \n",
      "\n",
      "       high_GC low_GC  \n",
      "count      150    150  \n",
      "unique       2      2  \n",
      "top       True  False  \n",
      "freq        88     88  \n",
      "mean       NaN    NaN  \n",
      "std        NaN    NaN  \n",
      "min        NaN    NaN  \n",
      "25%        NaN    NaN  \n",
      "50%        NaN    NaN  \n",
      "75%        NaN    NaN  \n",
      "max        NaN    NaN  \n",
      "\n"
     ]
    }
   ],
   "source": [
    "# if you can do it once, you can do it many times\n",
    "\n",
    "for next_country in sorted( set( all_data.country ) ):\n",
    "    print( \"Statistics for {}: \\n{}\\n\".format(\n",
    "        next_country,\n",
    "        all_data[ all_data.country == next_country ].describe( include='all' ) \n",
    "    )\n",
    " )"
   ]
  },
  {
   "cell_type": "markdown",
   "metadata": {},
   "source": [
    "*describe()* returns **another Pandas DataFrame**. \n",
    "We can use this to find mean gc_content, total countries, total gene families for all entries:"
   ]
  },
  {
   "cell_type": "code",
   "execution_count": 121,
   "metadata": {
    "collapsed": false
   },
   "outputs": [
    {
     "data": {
      "text/plain": [
       "pandas.core.frame.DataFrame"
      ]
     },
     "execution_count": 121,
     "metadata": {},
     "output_type": "execute_result"
    }
   ],
   "source": [
    "data_summary=all_data.describe(include='all')\n",
    "\n",
    "type(data_summary )"
   ]
  },
  {
   "cell_type": "code",
   "execution_count": 122,
   "metadata": {
    "collapsed": false
   },
   "outputs": [
    {
     "name": "stdout",
     "output_type": "stream",
     "text": [
      "       runtype sample_id   read_id   gc_content country gene_id gene_family  \\\n",
      "count     2000      2000      2000  2000.000000    2000    2000        2000   \n",
      "unique       1       341        37          NaN      10       5           5   \n",
      "top      MISEQ    GBR320  ST6_25_F          NaN      PE     ST6         ST6   \n",
      "freq      2000        20       167          NaN     317    1242        1242   \n",
      "mean       NaN       NaN       NaN     0.454477     NaN     NaN         NaN   \n",
      "std        NaN       NaN       NaN     0.103666     NaN     NaN         NaN   \n",
      "min        NaN       NaN       NaN     0.269784     NaN     NaN         NaN   \n",
      "25%        NaN       NaN       NaN     0.380783     NaN     NaN         NaN   \n",
      "50%        NaN       NaN       NaN     0.446043     NaN     NaN         NaN   \n",
      "75%        NaN       NaN       NaN     0.533808     NaN     NaN         NaN   \n",
      "max        NaN       NaN       NaN     0.715302     NaN     NaN         NaN   \n",
      "\n",
      "       high_GC low_GC  \n",
      "count     2000   2000  \n",
      "unique       2      2  \n",
      "top       True  False  \n",
      "freq      1170   1170  \n",
      "mean       NaN    NaN  \n",
      "std        NaN    NaN  \n",
      "min        NaN    NaN  \n",
      "25%        NaN    NaN  \n",
      "50%        NaN    NaN  \n",
      "75%        NaN    NaN  \n",
      "max        NaN    NaN  \n"
     ]
    }
   ],
   "source": [
    "print(data_summary)"
   ]
  },
  {
   "cell_type": "code",
   "execution_count": 134,
   "metadata": {
    "collapsed": false,
    "scrolled": true
   },
   "outputs": [
    {
     "data": {
      "text/html": [
       "<div>\n",
       "<table border=\"1\" class=\"dataframe\">\n",
       "  <thead>\n",
       "    <tr style=\"text-align: right;\">\n",
       "      <th></th>\n",
       "      <th>gc_content</th>\n",
       "      <th>country</th>\n",
       "      <th>gene_id</th>\n",
       "    </tr>\n",
       "  </thead>\n",
       "  <tbody>\n",
       "    <tr>\n",
       "      <th>mean</th>\n",
       "      <td>0.454477</td>\n",
       "      <td>NaN</td>\n",
       "      <td>NaN</td>\n",
       "    </tr>\n",
       "    <tr>\n",
       "      <th>std</th>\n",
       "      <td>0.103666</td>\n",
       "      <td>NaN</td>\n",
       "      <td>NaN</td>\n",
       "    </tr>\n",
       "    <tr>\n",
       "      <th>unique</th>\n",
       "      <td>NaN</td>\n",
       "      <td>10</td>\n",
       "      <td>5</td>\n",
       "    </tr>\n",
       "  </tbody>\n",
       "</table>\n",
       "</div>"
      ],
      "text/plain": [
       "        gc_content country gene_id\n",
       "mean      0.454477     NaN     NaN\n",
       "std       0.103666     NaN     NaN\n",
       "unique         NaN      10       5"
      ]
     },
     "execution_count": 134,
     "metadata": {},
     "output_type": "execute_result"
    }
   ],
   "source": [
    "# DataFrame.loc selects rows, more on that later\n",
    "\n",
    "data_summary.loc[['mean','std', 'unique'], ['gc_content', 'country', 'gene_id']]"
   ]
  },
  {
   "cell_type": "code",
   "execution_count": 136,
   "metadata": {
    "collapsed": false
   },
   "outputs": [
    {
     "data": {
      "text/html": [
       "<div>\n",
       "<table border=\"1\" class=\"dataframe\">\n",
       "  <thead>\n",
       "    <tr style=\"text-align: right;\">\n",
       "      <th></th>\n",
       "      <th>gc_content</th>\n",
       "      <th>country</th>\n",
       "      <th>gene_id</th>\n",
       "    </tr>\n",
       "  </thead>\n",
       "  <tbody>\n",
       "    <tr>\n",
       "      <th>mean</th>\n",
       "      <td>0.358030</td>\n",
       "      <td>NaN</td>\n",
       "      <td>NaN</td>\n",
       "    </tr>\n",
       "    <tr>\n",
       "      <th>std</th>\n",
       "      <td>0.033096</td>\n",
       "      <td>NaN</td>\n",
       "      <td>NaN</td>\n",
       "    </tr>\n",
       "    <tr>\n",
       "      <th>unique</th>\n",
       "      <td>NaN</td>\n",
       "      <td>10</td>\n",
       "      <td>5</td>\n",
       "    </tr>\n",
       "  </tbody>\n",
       "</table>\n",
       "</div>"
      ],
      "text/plain": [
       "        gc_content country gene_id\n",
       "mean      0.358030     NaN     NaN\n",
       "std       0.033096     NaN     NaN\n",
       "unique         NaN      10       5"
      ]
     },
     "execution_count": 136,
     "metadata": {},
     "output_type": "execute_result"
    }
   ],
   "source": [
    "summary_low_gc = all_data[ all_data['low_GC'] ].describe(include='all')\n",
    "summary_low_gc.loc[['mean','std', 'unique'], ['gc_content', 'country', 'gene_id']]"
   ]
  },
  {
   "cell_type": "code",
   "execution_count": 125,
   "metadata": {
    "collapsed": false
   },
   "outputs": [
    {
     "data": {
      "text/html": [
       "<div>\n",
       "<table border=\"1\" class=\"dataframe\">\n",
       "  <thead>\n",
       "    <tr style=\"text-align: right;\">\n",
       "      <th></th>\n",
       "      <th>gc_content</th>\n",
       "      <th>country</th>\n",
       "      <th>gene_id</th>\n",
       "    </tr>\n",
       "  </thead>\n",
       "  <tbody>\n",
       "    <tr>\n",
       "      <th>mean</th>\n",
       "      <td>0.522897</td>\n",
       "      <td>NaN</td>\n",
       "      <td>NaN</td>\n",
       "    </tr>\n",
       "    <tr>\n",
       "      <th>std</th>\n",
       "      <td>0.079438</td>\n",
       "      <td>NaN</td>\n",
       "      <td>NaN</td>\n",
       "    </tr>\n",
       "    <tr>\n",
       "      <th>unique</th>\n",
       "      <td>NaN</td>\n",
       "      <td>10</td>\n",
       "      <td>5</td>\n",
       "    </tr>\n",
       "  </tbody>\n",
       "</table>\n",
       "</div>"
      ],
      "text/plain": [
       "        gc_content country gene_id\n",
       "mean      0.522897     NaN     NaN\n",
       "std       0.079438     NaN     NaN\n",
       "unique         NaN      10       5"
      ]
     },
     "execution_count": 125,
     "metadata": {},
     "output_type": "execute_result"
    }
   ],
   "source": [
    "summary_high_gc = all_data[ all_data['high_GC'] ].describe(include='all')\n",
    "summary_high_gc.loc[['mean','std', 'unique'], ['gc_content', 'country', 'gene_id']]"
   ]
  },
  {
   "cell_type": "markdown",
   "metadata": {},
   "source": [
    "So, one can accumulate the mean and std of gcContent for each country like this:"
   ]
  },
  {
   "cell_type": "code",
   "execution_count": 126,
   "metadata": {
    "collapsed": false,
    "scrolled": true
   },
   "outputs": [
    {
     "data": {
      "text/plain": [
       "[['ETR', 0.44554970974867297, 0.10534151849461713],\n",
       " ['ETU', 0.45156401929852419, 0.10409161378255034],\n",
       " ['GBR', 0.45791893848194437, 0.10252263578786502],\n",
       " ['GBU', 0.45720193765176947, 0.10336569094513781],\n",
       " ['GN', 0.4686122112816708, 0.10120458309604971],\n",
       " ['KE', 0.45771457970993795, 0.10415971160644032],\n",
       " ['PE', 0.45060127368175973, 0.10388439640639764],\n",
       " ['SP', 0.44288960171733605, 0.10071596509062411],\n",
       " ['SW', 0.46421487149272789, 0.10982505880438465],\n",
       " ['USW', 0.45032393461507697, 0.10507740013263712]]"
      ]
     },
     "execution_count": 126,
     "metadata": {},
     "output_type": "execute_result"
    }
   ],
   "source": [
    "output = []\n",
    "for next_country in sorted( set( all_data.country ) ):\n",
    "    next_mean, next_std = all_data[ all_data.country == next_country ].describe().loc[['mean','std'],'gc_content'] \n",
    "    output.append([next_country, next_mean, next_std])\n",
    "\n",
    "output"
   ]
  }
 ],
 "metadata": {
  "anaconda-cloud": {},
  "kernelspec": {
   "display_name": "Python 2",
   "language": "python",
   "name": "python2"
  },
  "language_info": {
   "codemirror_mode": {
    "name": "ipython",
    "version": 2
   },
   "file_extension": ".py",
   "mimetype": "text/x-python",
   "name": "python",
   "nbconvert_exporter": "python",
   "pygments_lexer": "ipython2",
   "version": "2.7.11"
  },
  "latex_envs": {
   "bibliofile": "biblio.bib",
   "cite_by": "apalike",
   "current_citInitial": 1,
   "eqLabelWithNumbers": true,
   "eqNumInitial": 0
  }
 },
 "nbformat": 4,
 "nbformat_minor": 2
}
