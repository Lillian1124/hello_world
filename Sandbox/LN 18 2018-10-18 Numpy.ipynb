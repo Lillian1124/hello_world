{
 "cells": [
  {
   "cell_type": "markdown",
   "metadata": {},
   "source": [
    "# Lecture 18 2018-10-18: Numpy\n",
    "\n",
    "Numpy arrays (4.1); functions on ndarrays (4.2); png (4.6)\n",
    "\n",
    "This worksheet accompanies the lecture notes."
   ]
  },
  {
   "cell_type": "code",
   "execution_count": 1,
   "metadata": {
    "collapsed": true
   },
   "outputs": [],
   "source": [
    "import numpy as np"
   ]
  },
  {
   "cell_type": "markdown",
   "metadata": {},
   "source": [
    "## Introduction to ndarrays (part 2)"
   ]
  },
  {
   "cell_type": "code",
   "execution_count": 2,
   "metadata": {
    "collapsed": false
   },
   "outputs": [
    {
     "name": "stdout",
     "output_type": "stream",
     "text": [
      "array_3d: \n",
      "[[[ 0  1  2  3]\n",
      "  [ 4  5  6  7]\n",
      "  [ 8  9 10 11]]\n",
      "\n",
      " [[12 13 14 15]\n",
      "  [16 17 18 19]\n",
      "  [20 21 22 23]]]\n",
      "\n",
      "array_2d: \n",
      "[[ 0  1  2  3]\n",
      " [ 4  5  6  7]\n",
      " [ 8  9 10 11]]\n",
      "\n"
     ]
    }
   ],
   "source": [
    "array_3d = np.arange(24).reshape((2,3,4))\n",
    "array_2d = np.arange(12).reshape((3,4))\n",
    "\n",
    "print('array_3d: \\n{}\\n'.format(array_3d))\n",
    "print('array_2d: \\n{}\\n'.format(array_2d))"
   ]
  },
  {
   "cell_type": "markdown",
   "metadata": {},
   "source": [
    "### Indexing: major advantage of np.ndarrays\n",
    "\n",
    "Indexing and slicing as in base python works, but they are enhanced for ndarrays.\n",
    "\n",
    "Each dimension can be indexed separately, separated by commas. (see page 99, Fig 4.2). or see above for more examples."
   ]
  },
  {
   "cell_type": "code",
   "execution_count": 11,
   "metadata": {
    "collapsed": false
   },
   "outputs": [
    {
     "name": "stdout",
     "output_type": "stream",
     "text": [
      "[[[ 0  1  2  3]\n",
      "  [ 4  5  6  7]\n",
      "  [ 8  9 10 11]]\n",
      "\n",
      " [[12 13 14 15]\n",
      "  [16 17 18 19]\n",
      "  [20 21 22 23]]]\n"
     ]
    },
    {
     "data": {
      "text/plain": [
       "array([[0, 1, 2, 3]])"
      ]
     },
     "execution_count": 11,
     "metadata": {},
     "output_type": "execute_result"
    }
   ],
   "source": [
    "print(array_3d)\n",
    "\n",
    "array_3d[1]\n",
    "#array_3d[1][0]\n",
    "#array_3d[1,0]\n",
    "array_3d[0:1]\n",
    "array_3d[0:1,0]"
   ]
  },
  {
   "cell_type": "code",
   "execution_count": 7,
   "metadata": {
    "collapsed": false
   },
   "outputs": [
    {
     "name": "stdout",
     "output_type": "stream",
     "text": [
      "[[ 0  1  2  3]\n",
      " [ 4  5  6  7]\n",
      " [ 8  9 10 11]]\n"
     ]
    },
    {
     "data": {
      "text/plain": [
       "array([[1, 2],\n",
       "       [5, 6]])"
      ]
     },
     "execution_count": 7,
     "metadata": {},
     "output_type": "execute_result"
    }
   ],
   "source": [
    "print(array_2d)\n",
    "array_2d[:-1,1:3]"
   ]
  },
  {
   "cell_type": "markdown",
   "metadata": {},
   "source": [
    "boolean indexes can be very useful"
   ]
  },
  {
   "cell_type": "code",
   "execution_count": 29,
   "metadata": {
    "collapsed": false
   },
   "outputs": [
    {
     "name": "stdout",
     "output_type": "stream",
     "text": [
      "[[ 0.32101087  0.32244864  0.1419272   1.13841638]\n",
      " [ 1.68942129 -0.14932056 -0.3575925   0.20138041]\n",
      " [ 0.01512578  0.39434022 -0.21510672  0.19614691]\n",
      " [ 0.92913133  0.24728876 -0.09755357 -0.28556481]]\n",
      "[[False False False False]\n",
      " [False  True  True False]\n",
      " [False False  True False]\n",
      " [False False  True  True]]\n",
      "[-0.14932056 -0.3575925  -0.21510672 -0.09755357 -0.28556481]\n",
      "[[ 0.32101087  0.32244864  0.1419272          nan]\n",
      " [        nan  0.          0.          0.20138041]\n",
      " [ 0.01512578  0.39434022  0.          0.19614691]\n",
      " [ 0.92913133  0.24728876  0.          0.        ]]\n"
     ]
    }
   ],
   "source": [
    "rand_array = np.random.randn(4,4)\n",
    "\n",
    "print(rand_array)\n",
    "print(rand_array<0)\n",
    "\n",
    "ra_non_neg = rand_array[rand_array<0]\n",
    "print(ra_non_neg)\n",
    "\n",
    "rand_array[rand_array<0] = 0\n",
    "rand_array[rand_array>1] = None\n",
    "\n",
    "print(rand_array)"
   ]
  },
  {
   "cell_type": "markdown",
   "metadata": {},
   "source": [
    "### Slices\n",
    "A  slice is a window into the original object defined by the slice. That is, it is a *reference*. Changing it changes the original object. "
   ]
  },
  {
   "cell_type": "code",
   "execution_count": 12,
   "metadata": {
    "collapsed": false
   },
   "outputs": [
    {
     "data": {
      "text/plain": [
       "array([0, 1, 2, 3, 4, 5, 6, 7, 8, 9])"
      ]
     },
     "execution_count": 12,
     "metadata": {},
     "output_type": "execute_result"
    }
   ],
   "source": [
    "one_to_ten = np.arange(10)\n",
    "one_to_ten"
   ]
  },
  {
   "cell_type": "code",
   "execution_count": 13,
   "metadata": {
    "collapsed": false
   },
   "outputs": [
    {
     "data": {
      "text/plain": [
       "array([2, 3, 4, 5])"
      ]
     },
     "execution_count": 13,
     "metadata": {},
     "output_type": "execute_result"
    }
   ],
   "source": [
    "middle_slice = one_to_ten[2:6]\n",
    "middle_slice"
   ]
  },
  {
   "cell_type": "code",
   "execution_count": 14,
   "metadata": {
    "collapsed": false
   },
   "outputs": [
    {
     "data": {
      "text/plain": [
       "array([  0,   1, 999,   3,   4,   5,   6,   7,   8,   9])"
      ]
     },
     "execution_count": 14,
     "metadata": {},
     "output_type": "execute_result"
    }
   ],
   "source": [
    "middle_slice[0] = 999\n",
    "one_to_ten # change the silice , it change the original array"
   ]
  },
  {
   "cell_type": "code",
   "execution_count": 16,
   "metadata": {
    "collapsed": false
   },
   "outputs": [
    {
     "data": {
      "text/plain": [
       "array([  0,   1, 666, 666, 666, 666,   6,   7,   8,   9])"
      ]
     },
     "execution_count": 16,
     "metadata": {},
     "output_type": "execute_result"
    }
   ],
   "source": [
    "middle_slice[:] = 666\n",
    "one_to_ten"
   ]
  },
  {
   "cell_type": "markdown",
   "metadata": {},
   "source": [
    "### Fancy indexing\n",
    "\n",
    "(probably ignore this) \n",
    "\n",
    "If you use an list as an index, the elements of the list act like individual indexes on that dimension. This is relatively esoteric. Don't worry if you don't get it."
   ]
  },
  {
   "cell_type": "code",
   "execution_count": 17,
   "metadata": {
    "collapsed": false
   },
   "outputs": [
    {
     "name": "stdout",
     "output_type": "stream",
     "text": [
      "[[ 0  1  2  3]\n",
      " [ 4  5  6  7]\n",
      " [ 8  9 10 11]]\n"
     ]
    },
    {
     "data": {
      "text/plain": [
       "array([2, 0])"
      ]
     },
     "execution_count": 17,
     "metadata": {},
     "output_type": "execute_result"
    }
   ],
   "source": [
    "print(array_2d)\n",
    "array_2d[0,[2,0]]"
   ]
  },
  {
   "cell_type": "markdown",
   "metadata": {},
   "source": [
    "## Math and stat methods and objects in numpy"
   ]
  },
  {
   "cell_type": "markdown",
   "metadata": {},
   "source": [
    "### Objects\n",
    "\n",
    "name | value\n",
    ":--- | :-----\n",
    "pi   | pi\n",
    "e    | e"
   ]
  },
  {
   "cell_type": "code",
   "execution_count": 19,
   "metadata": {
    "collapsed": false
   },
   "outputs": [
    {
     "data": {
      "text/plain": [
       "2.718281828459045"
      ]
     },
     "execution_count": 19,
     "metadata": {},
     "output_type": "execute_result"
    }
   ],
   "source": [
    "np.pi\n",
    "np.e"
   ]
  },
  {
   "cell_type": "markdown",
   "metadata": {},
   "source": [
    "### methods"
   ]
  },
  {
   "cell_type": "markdown",
   "metadata": {},
   "source": [
    "#### (pseudo) randomly generated numbers\n",
    "\n",
    "numpy.random is a namespace with *many* different methods for generating (pseudo) random numbers\n",
    "\n",
    "name | value\n",
    ":--- | :----\n",
    "randn(shape) | normally distributed random variables\n",
    "randint(max) | uniformly choose integer in [0,max]\n",
    "rand(shape)  | produce ndarray of uniformly random floats in [0,1)\n",
    "random(size) | uniformly distributed \"size\" random floats in range [0,1)\n",
    "binomial(n, p, size) | (size replicates of) n (int) samples with probability p from [0,1]\n",
    "weibull(a, size) | generate size numbers with a weibull (extreme value) distribution with parameter a"
   ]
  },
  {
   "cell_type": "code",
   "execution_count": 20,
   "metadata": {
    "collapsed": true
   },
   "outputs": [],
   "source": [
    "from numpy import random as rnd"
   ]
  },
  {
   "cell_type": "code",
   "execution_count": 26,
   "metadata": {
    "collapsed": false
   },
   "outputs": [
    {
     "name": "stdout",
     "output_type": "stream",
     "text": [
      "[[ 1.19498867 -0.38309088 -1.0390716  -0.20434023]\n",
      " [ 0.34405066 -0.12863235  0.97460834 -0.90161537]\n",
      " [-0.40167926 -0.35377191  0.80891513 -0.47139225]\n",
      " [ 0.75011726  0.83632439 -0.44373794 -0.02691897]]\n"
     ]
    }
   ],
   "source": [
    "rand_array = np.random.randn(4,4) # normally distributed\n",
    "print(rand_array)"
   ]
  },
  {
   "cell_type": "code",
   "execution_count": 27,
   "metadata": {
    "collapsed": false
   },
   "outputs": [
    {
     "name": "stdout",
     "output_type": "stream",
     "text": [
      "intimidation check. you win? True\n"
     ]
    }
   ],
   "source": [
    "print('intimidation check. you win? {}'.format(\n",
    "    np.random.randint(20) < np.random.randint(20)) \n",
    "    )"
   ]
  },
  {
   "cell_type": "code",
   "execution_count": null,
   "metadata": {
    "collapsed": true
   },
   "outputs": [],
   "source": []
  },
  {
   "cell_type": "code",
   "execution_count": 23,
   "metadata": {
    "collapsed": false
   },
   "outputs": [
    {
     "data": {
      "text/plain": [
       "array([ 0.88853949,  0.95494226,  0.73312264,  0.74718392,  0.94629609,\n",
       "        0.74755325,  0.1577957 ,  0.75609752,  0.88262425,  0.45083684])"
      ]
     },
     "execution_count": 23,
     "metadata": {},
     "output_type": "execute_result"
    }
   ],
   "source": [
    "np.random.random(10) # uniform distribution on [0,1]\n"
   ]
  },
  {
   "cell_type": "code",
   "execution_count": 28,
   "metadata": {
    "collapsed": true
   },
   "outputs": [],
   "source": [
    "POINTS = 100\n",
    "\n",
    "u_values = rnd.random(POINTS)\n",
    "n_values = rnd.randn(POINTS)\n",
    "w_values_1 = rnd.weibull(1,POINTS)\n",
    "w_values_4 = rnd.weibull(4,POINTS)"
   ]
  },
  {
   "cell_type": "code",
   "execution_count": 29,
   "metadata": {
    "collapsed": true
   },
   "outputs": [],
   "source": [
    "from matplotlib import pyplot as plt\n",
    "%matplotlib inline"
   ]
  },
  {
   "cell_type": "code",
   "execution_count": 42,
   "metadata": {
    "collapsed": false
   },
   "outputs": [
    {
     "data": {
      "text/plain": [
       "<matplotlib.legend.Legend at 0x10f89dac8>"
      ]
     },
     "execution_count": 42,
     "metadata": {},
     "output_type": "execute_result"
    },
    {
     "data": {
      "image/png": "[encoded data removed]",
      "text/plain": [
       "<Figure size 432x288 with 1 Axes>"
      ]
     },
     "metadata": {},
     "output_type": "display_data"
    }
   ],
   "source": [
    "x = plt.plot(sorted(u_values), label='uniform')\n",
    "x = plt.plot(sorted(n_values), label='normal')\n",
    "x = plt.plot(sorted(w_values_1), label='weibull 1')\n",
    "x = plt.plot(sorted(w_values_4), label='weibull 4')\n",
    "plt.title('sorted random draws')\n",
    "plt.xlabel('value of draw')\n",
    "plt.ylabel('(sorted) iteration')\n",
    "plt.hlines(0, 0, POINTS, color='b', linestyle='dashed')\n",
    "plt.legend()"
   ]
  },
  {
   "cell_type": "markdown",
   "metadata": {},
   "source": [
    "#### Other methods\n",
    "\n",
    "name | value\n",
    ":--- | :----\n",
    "sum  | total of entries in the ndarray\n",
    "mean | mean of entries in ndarray\n",
    "std  | standard devisation of entries in the ndarray\n",
    "cumsum | cumulative sum of entries in the ndarray\n",
    "sort | sort the ndarray\n",
    "argmax | the index of the maximum item in the ndarray\n",
    "argmin | the index of the minimum item in the ndarray\n",
    "\n",
    "Many of these can work over different axes. The axis refers to a specific dimension of an ndarray. For example, if *x.dim = (2,3,4)* then axis=0 refers to the first dimension (with 2 elements), axis=1 refers to the second (with 3 elements), and axis=2 refers to the third dimension (with 4 element). When the axis is specified, the given operation works on the elements along that dimension. When no axis is specified, the default is for the operation to work on the entire array.\n",
    "\n",
    "Think of *axis=0* as working on rows, and *axis=1* as working on columns. (I find that thinking of \"x axis\" and \"y axis\" is misleading.\n",
    "\n",
    "**NOTE:** statistical functions such as computing correlations and covariances are available. But we will learn an easier way to use them, with pandas."
   ]
  },
  {
   "cell_type": "code",
   "execution_count": 43,
   "metadata": {
    "collapsed": false
   },
   "outputs": [
    {
     "name": "stdout",
     "output_type": "stream",
     "text": [
      "[[0 1]\n",
      " [2 3]\n",
      " [4 5]]\n"
     ]
    }
   ],
   "source": [
    "seq_array = np.arange(6).reshape((3,2))\n",
    "print(seq_array)"
   ]
  },
  {
   "cell_type": "code",
   "execution_count": 44,
   "metadata": {
    "collapsed": false
   },
   "outputs": [
    {
     "name": "stdout",
     "output_type": "stream",
     "text": [
      "15\n",
      "[6 9]\n",
      "[1 5 9]\n"
     ]
    }
   ],
   "source": [
    "print(seq_array.sum())\n",
    "print(seq_array.sum(axis=0))\n",
    "print(seq_array.sum(axis=1))"
   ]
  },
  {
   "cell_type": "code",
   "execution_count": 33,
   "metadata": {
    "collapsed": false
   },
   "outputs": [
    {
     "name": "stdout",
     "output_type": "stream",
     "text": [
      "[[[ 0  1  2  3]\n",
      "  [ 4  5  6  7]\n",
      "  [ 8  9 10 11]]\n",
      "\n",
      " [[12 13 14 15]\n",
      "  [16 17 18 19]\n",
      "  [20 21 22 23]]]\n",
      "276\n",
      "[[ 6 22 38]\n",
      " [54 70 86]]\n"
     ]
    }
   ],
   "source": [
    "seq_array = np.arange(24).reshape((2,3,4))\n",
    "\n",
    "print(seq_array)\n",
    "\n",
    "print(seq_array.sum())\n",
    "\n",
    "#print(seq_array.sum(axis=0))\n",
    "#print(seq_array.sum(axis=1))\n",
    "print(seq_array.sum(axis=2))"
   ]
  },
  {
   "cell_type": "code",
   "execution_count": 34,
   "metadata": {
    "collapsed": false
   },
   "outputs": [
    {
     "name": "stdout",
     "output_type": "stream",
     "text": [
      "Random array: [[ 1.19498867 -0.38309088 -1.0390716  -0.20434023]\n",
      " [ 0.34405066 -0.12863235  0.97460834 -0.90161537]\n",
      " [-0.40167926 -0.35377191  0.80891513 -0.47139225]\n",
      " [ 0.75011726  0.83632439 -0.44373794 -0.02691897]]\n",
      "\n",
      "means in total: 0.0346721062202\n",
      "std in total: 0.670700804945\n",
      "\n",
      "means moving across rows: [ 0.47186933 -0.00729269  0.07517848 -0.40106671]\n",
      "std moving across rows: [ 0.58731342  0.49691177  0.84530631  0.32946262]\n",
      "\n",
      "means moving across columns: [-0.10787851  0.07210282 -0.10448207  0.27894618]\n",
      "std moving across columns: [ 0.81388423  0.68499883  0.52900594  0.53584011]\n"
     ]
    }
   ],
   "source": [
    "print('Random array: {}\\n'.format(rand_array))\n",
    "print('means in total: {}'.format(rand_array.mean()))\n",
    "print('std in total: {}\\n'.format(rand_array.std()))\n",
    "print('means moving across rows: {}'.format(rand_array.mean(axis=0)))\n",
    "print('std moving across rows: {}\\n'.format(rand_array.std(axis=0)))\n",
    "print('means moving across columns: {}'.format(rand_array.mean(axis=1)))\n",
    "print('std moving across columns: {}'.format(rand_array.std(axis=1)))"
   ]
  },
  {
   "cell_type": "code",
   "execution_count": 35,
   "metadata": {
    "collapsed": false,
    "scrolled": true
   },
   "outputs": [
    {
     "name": "stdout",
     "output_type": "stream",
     "text": [
      "[[0 1 2]\n",
      " [3 4 5]]\n",
      "()\n",
      "cumulative over entire array\n",
      "[ 0  1  3  6 10 15]\n",
      "\n",
      "cumulative over rows\n",
      "[[0 1 2]\n",
      " [3 5 7]]\n",
      "\n",
      "cumulative over columns\n",
      "[[ 0  1  3]\n",
      " [ 3  7 12]]\n"
     ]
    }
   ],
   "source": [
    "seq_array = np.arange(6).reshape((2,3))\n",
    "print(seq_array); print()\n",
    "print('cumulative over entire array\\n{}\\n'.format(seq_array.cumsum()))\n",
    "print('cumulative over rows\\n{}\\n'.format(seq_array.cumsum(axis=0)))\n",
    "print('cumulative over columns\\n{}'.format(seq_array.cumsum(axis=1)))"
   ]
  },
  {
   "cell_type": "code",
   "execution_count": 40,
   "metadata": {
    "collapsed": false
   },
   "outputs": [
    {
     "name": "stdout",
     "output_type": "stream",
     "text": [
      "Random list:\n",
      "[-1.44868458  1.02474313  0.60198918 -0.06687054  0.45953063  0.4171702\n",
      " -0.43877519 -2.17640497  1.10788004 -1.44583842]\n",
      "\n",
      "max in [-1.44868458  1.02474313  0.60198918 -0.06687054  0.45953063  0.4171702\n",
      " -0.43877519 -2.17640497  1.10788004 -1.44583842]\n",
      "\tis at index 8\n",
      "\tvalue 1.10788004332\n"
     ]
    }
   ],
   "source": [
    "rand_list = np.random.randn(10)\n",
    "print('Random list:\\n{}\\n'.format(rand_list))\n",
    "#print(rand_list.argmax())\n",
    "#print(rand_list.argmin())\n",
    "\n",
    "print('max in {}\\n\\tis at index {}\\n\\tvalue {}'.format(rand_list, \n",
    "                                                  rand_list.argmax(),\n",
    "                                                  rand_list[rand_list.argmax()]\n",
    "                                                 )                                                           \n",
    "     )"
   ]
  },
  {
   "cell_type": "markdown",
   "metadata": {},
   "source": [
    "## less silly example: microbiome data from a file\n",
    "\n",
    "Compute average relative abundance of each taxa in a microbiome sample, and average relative abundance over all taxa in each sample."
   ]
  },
  {
   "cell_type": "code",
   "execution_count": 49,
   "metadata": {
    "collapsed": true
   },
   "outputs": [],
   "source": [
    "import numpy as np"
   ]
  },
  {
   "cell_type": "markdown",
   "metadata": {},
   "source": [
    "### The first attempt to read the file has an (instructive) problem"
   ]
  },
  {
   "cell_type": "code",
   "execution_count": 41,
   "metadata": {
    "collapsed": false
   },
   "outputs": [
    {
     "ename": "IOError",
     "evalue": "[Errno 2] No such file or directory: 'microbiome_data.txt'",
     "output_type": "error",
     "traceback": [
      "\u001b[0;31m---------------------------------------------------------------------------\u001b[0m",
      "\u001b[0;31mIOError\u001b[0m                                   Traceback (most recent call last)",
      "\u001b[0;32m<ipython-input-41-e9a0fec529d3>\u001b[0m in \u001b[0;36m<module>\u001b[0;34m()\u001b[0m\n\u001b[1;32m      2\u001b[0m \u001b[0;34m\u001b[0m\u001b[0m\n\u001b[1;32m      3\u001b[0m \u001b[0mfile_name\u001b[0m \u001b[0;34m=\u001b[0m \u001b[0;34m'microbiome_data.txt'\u001b[0m\u001b[0;34m\u001b[0m\u001b[0m\n\u001b[0;32m----> 4\u001b[0;31m \u001b[0mfh\u001b[0m \u001b[0;34m=\u001b[0m \u001b[0mopen\u001b[0m\u001b[0;34m(\u001b[0m\u001b[0mfile_name\u001b[0m\u001b[0;34m,\u001b[0m \u001b[0;34m'r'\u001b[0m\u001b[0;34m)\u001b[0m\u001b[0;34m\u001b[0m\u001b[0m\n\u001b[0m\u001b[1;32m      5\u001b[0m \u001b[0mabundances\u001b[0m \u001b[0;34m=\u001b[0m \u001b[0mfh\u001b[0m\u001b[0;34m.\u001b[0m\u001b[0mread\u001b[0m\u001b[0;34m(\u001b[0m\u001b[0;34m)\u001b[0m \u001b[0;31m# .split('\\n')\u001b[0m\u001b[0;34m\u001b[0m\u001b[0m\n\u001b[1;32m      6\u001b[0m \u001b[0mx\u001b[0m \u001b[0;34m=\u001b[0m \u001b[0;34m[\u001b[0m\u001b[0ms\u001b[0m\u001b[0;34m.\u001b[0m\u001b[0msplit\u001b[0m\u001b[0;34m(\u001b[0m\u001b[0;34m'\\t'\u001b[0m\u001b[0;34m)\u001b[0m \u001b[0;32mfor\u001b[0m \u001b[0ms\u001b[0m \u001b[0;32min\u001b[0m \u001b[0mabundances\u001b[0m\u001b[0;34m.\u001b[0m\u001b[0msplit\u001b[0m\u001b[0;34m(\u001b[0m\u001b[0;34m'\\n'\u001b[0m\u001b[0;34m)\u001b[0m\u001b[0;34m]\u001b[0m\u001b[0;34m\u001b[0m\u001b[0m\n",
      "\u001b[0;31mIOError\u001b[0m: [Errno 2] No such file or directory: 'microbiome_data.txt'"
     ]
    }
   ],
   "source": [
    "# pull off general data from file\n",
    "\n",
    "file_name = 'microbiome_data.txt'\n",
    "fh = open(file_name, 'r')\n",
    "abundances = fh.read() # .split('\\n')\n",
    "x = [s.split('\\t') for s in abundances.split('\\n')]\n",
    "\n",
    "taxa_headers = x[0][1:-3]\n",
    "statistic_headers = x[0][-3:]\n",
    "patient_ids = [s.pop(0) for s in x[1:]]"
   ]
  },
  {
   "cell_type": "code",
   "execution_count": null,
   "metadata": {
    "collapsed": true
   },
   "outputs": [],
   "source": []
  },
  {
   "cell_type": "code",
   "execution_count": 42,
   "metadata": {
    "collapsed": false
   },
   "outputs": [
    {
     "ename": "NameError",
     "evalue": "name 'x' is not defined",
     "output_type": "error",
     "traceback": [
      "\u001b[0;31m---------------------------------------------------------------------------\u001b[0m",
      "\u001b[0;31mNameError\u001b[0m                                 Traceback (most recent call last)",
      "\u001b[0;32m<ipython-input-42-18467d16ee68>\u001b[0m in \u001b[0;36m<module>\u001b[0;34m()\u001b[0m\n\u001b[1;32m      1\u001b[0m \u001b[0;31m# create the ndarray\u001b[0m\u001b[0;34m\u001b[0m\u001b[0;34m\u001b[0m\u001b[0m\n\u001b[1;32m      2\u001b[0m \u001b[0;34m\u001b[0m\u001b[0m\n\u001b[0;32m----> 3\u001b[0;31m \u001b[0marray2d\u001b[0m \u001b[0;34m=\u001b[0m \u001b[0;34m[\u001b[0m\u001b[0;34m[\u001b[0m\u001b[0mnp\u001b[0m\u001b[0;34m.\u001b[0m\u001b[0mfloat\u001b[0m\u001b[0;34m(\u001b[0m\u001b[0mdigit\u001b[0m\u001b[0;34m)\u001b[0m \u001b[0;32mfor\u001b[0m \u001b[0mdigit\u001b[0m \u001b[0;32min\u001b[0m \u001b[0mline\u001b[0m\u001b[0;34m[\u001b[0m\u001b[0;36m1\u001b[0m\u001b[0;34m:\u001b[0m\u001b[0;34m]\u001b[0m\u001b[0;34m]\u001b[0m \u001b[0;32mfor\u001b[0m \u001b[0mline\u001b[0m \u001b[0;32min\u001b[0m \u001b[0mx\u001b[0m\u001b[0;34m[\u001b[0m\u001b[0;36m1\u001b[0m\u001b[0;34m:\u001b[0m\u001b[0;34m]\u001b[0m\u001b[0;34m]\u001b[0m \u001b[0;31m#x[1:-1]]\u001b[0m\u001b[0;34m\u001b[0m\u001b[0m\n\u001b[0m\u001b[1;32m      4\u001b[0m \u001b[0;34m\u001b[0m\u001b[0m\n\u001b[1;32m      5\u001b[0m \u001b[0mdata\u001b[0m \u001b[0;34m=\u001b[0m \u001b[0mnp\u001b[0m\u001b[0;34m.\u001b[0m\u001b[0marray\u001b[0m\u001b[0;34m(\u001b[0m\u001b[0marray2d\u001b[0m\u001b[0;34m)\u001b[0m\u001b[0;34m\u001b[0m\u001b[0m\n",
      "\u001b[0;31mNameError\u001b[0m: name 'x' is not defined"
     ]
    }
   ],
   "source": [
    "# create the ndarray\n",
    "\n",
    "array2d = [[np.float(digit) for digit in line[1:]] for line in x[1:]] #x[1:-1]]\n",
    "\n",
    "data = np.array(array2d)\n",
    "\n",
    "print(data[:3])"
   ]
  },
  {
   "cell_type": "markdown",
   "metadata": {},
   "source": [
    "Why isn't this an ndarray? to find out, I tried using just chunks of data."
   ]
  },
  {
   "cell_type": "code",
   "execution_count": 66,
   "metadata": {
    "collapsed": false
   },
   "outputs": [
    {
     "name": "stdout",
     "output_type": "stream",
     "text": [
      "Original data (note, NOT type \"array\": \n",
      "[[0.04614204651947973, 0.0013938563779167972, 0.0008314900243815879, 0.09939048274723454, 0.3235626455365195, 2.529852256628213e-05, 0.0018612471942309923, 0.013861359522638336, 7.309941520467836e-05, 0.018342041800590122, 23288.0, 1.2489698918808638, 2.764083921045238], [0.2841456786181501, 0.0018426771758656062, 0.03758653051563417, 4.464617328552749e-05, 0.0, 2.9488086812927577e-05, 0.0, 0.0, 0.0004452132882514228, 0.0006801643786268412, 40926.0, 0.7726215979153231, 1.8584348880097592]]\n",
      "\n",
      "first 2 and last 2 lines of data:\n",
      " [ list([0.04614204651947973, 0.0013938563779167972, 0.0008314900243815879, 0.09939048274723454, 0.3235626455365195, 2.529852256628213e-05, 0.0018612471942309923, 0.013861359522638336, 7.309941520467836e-05, 0.018342041800590122, 23288.0, 1.2489698918808638, 2.764083921045238])\n",
      " list([0.2841456786181501, 0.0018426771758656062, 0.03758653051563417, 4.464617328552749e-05, 0.0, 2.9488086812927577e-05, 0.0, 0.0, 0.0004452132882514228, 0.0006801643786268412, 40926.0, 0.7726215979153231, 1.8584348880097592])]\n"
     ]
    }
   ],
   "source": [
    "print('Original data (note, NOT type \"array\": \\n{}\\n'.format(array2d[:2]))\n",
    "#print([array2d[-2:]])\n",
    "\n",
    "data = np.array(array2d[:]) # change range to [:n]\n",
    "\n",
    "print('first {0} and last {0} lines of data:\\n {1}'.format(2,data[:2]))\n"
   ]
  },
  {
   "cell_type": "markdown",
   "metadata": {},
   "source": [
    "### example do-over"
   ]
  },
  {
   "cell_type": "code",
   "execution_count": 67,
   "metadata": {
    "collapsed": true
   },
   "outputs": [],
   "source": [
    "# 0. get the data into a format we can use\n",
    "\n",
    "file_name = 'microbiome_data.txt'\n",
    "fh = open(file_name, 'r')\n",
    "abundances = fh.read() # .split('\\n')\n",
    "data = [ l.split('\\t') \n",
    "         for l in abundances.split('\\n') \n",
    "         if l != ''  # <-- fixes problem\n",
    "       ] \n",
    "\n",
    "taxa_headers = data[0][1:-3]     # get all taxa names, note how '-3' generalizes #/taxa\n",
    "statistic_headers = data[0][-3:] # ditto statistics\n",
    "patient_ids = [ l.pop(0).strip() for l in data[1:] ]\n",
    "\n",
    "#print('taxa_headers: {}\\n'.format(taxa_headers))\n",
    "#print('statistic_headers: {}\\n'.format(statistic_headers))\n",
    "#print('patient_ids: {}\\n'.format(patient_ids))\n"
   ]
  },
  {
   "cell_type": "code",
   "execution_count": 68,
   "metadata": {
    "collapsed": false
   },
   "outputs": [
    {
     "name": "stdout",
     "output_type": "stream",
     "text": [
      "data head: [['patientID', 'Lactobacillus_crispatus', 'Lactobacillus_iners', 'Lactobacillus_gasseri', 'Lactobacillus_jensenii', 'Atopobium_vaginae', 'Megasphaera_sp._type_1', 'Streptococcus_anginosus', 'Prevotella_genogroup_3', 'Clostridiales', 'Enterococcus_faecalis', 'Corynebacterium_accolens', 'Total', 'Shannon', 'Simpson'], ['0.4945164323392374', '0.04614204651947973', '0.0013938563779167972', '0.0008314900243815879', '0.09939048274723454', '0.3235626455365195', '2.529852256628213e-05', '0.0018612471942309923', '0.013861359522638336', '7.309941520467836e-05', '0.018342041800590122', '23288', '1.2489698918808638', '2.764083921045238']]\n",
      "\n"
     ]
    }
   ],
   "source": [
    "# 0. get the data into a format we can use\n",
    "\n",
    "array2d = [ \n",
    "    [np.float(number) for number in line] \n",
    "    for line in data[1:]     # skip patient ID column\n",
    "]\n",
    "\n",
    "data_all = np.array(array2d)\n",
    "\n",
    "print('data head: {}\\n'.format(data[:2]))\n",
    "#print('data tail: {}\\n'.format(data[-2:]))\n",
    "\n",
    "#print(list(zip(taxa_headers+statistic_headers, data[0])))"
   ]
  },
  {
   "cell_type": "code",
   "execution_count": 69,
   "metadata": {
    "collapsed": true
   },
   "outputs": [],
   "source": [
    "# 0. get the data into a format we can use\n",
    "\n",
    "sample_ids = [sample[0] for sample in data_all]\n",
    "\n",
    "# note that these are slices, so changing any of them will also change data_all\n",
    "data_totals = data_all[:,-3]\n",
    "data_shannon = data_all[:,-2]\n",
    "data_simpson = data_all[:,-1]\n",
    "data_rel_abundances = data_all[:,:-3]"
   ]
  },
  {
   "cell_type": "code",
   "execution_count": null,
   "metadata": {
    "collapsed": true
   },
   "outputs": [],
   "source": []
  },
  {
   "cell_type": "code",
   "execution_count": 70,
   "metadata": {
    "collapsed": true
   },
   "outputs": [],
   "source": [
    "# 1. compute column averages\n",
    "\n",
    "column_means = data_all.mean(axis=0)\n",
    "\n",
    "#print_pairs = list(zip(taxa_headers+statistic_headers, column_means))\n",
    "#print('Data item and statistic means: \\n{}\\n'.format('\\n'.join([str(x) for x in print_pairs])))"
   ]
  },
  {
   "cell_type": "code",
   "execution_count": 71,
   "metadata": {
    "collapsed": true
   },
   "outputs": [],
   "source": [
    "# 1a. compute column standard deviations\n",
    "\n",
    "column_stds = data_all.std(axis=0)\n",
    "\n",
    "#print_pairs = list(zip(taxa_headers+statistic_headers, column_stds))\n",
    "#print('sample relative abundance std: \\n{}\\n'.format(\n",
    "#    '\\n'.join([str(x) for x in print_pairs]) ) )"
   ]
  },
  {
   "cell_type": "code",
   "execution_count": 72,
   "metadata": {
    "collapsed": false
   },
   "outputs": [
    {
     "name": "stdout",
     "output_type": "stream",
     "text": [
      "item\tmean value\tstd\n",
      "Lactobacillus_crispatus\t0.43840475505916016\t0.4055375357582975\n",
      "Lactobacillus_iners\t0.26441239340682926\t0.2906688846766097\n",
      "Lactobacillus_gasseri\t0.08012853190493892\t0.26700995020427243\n",
      "Lactobacillus_jensenii\t0.10882819179699561\t0.269457378546012\n",
      "Atopobium_vaginae\t0.05831509930479773\t0.15054797031570843\n",
      "Megasphaera_sp._type_1\t0.02266527510925744\t0.06985271529883028\n",
      "Streptococcus_anginosus\t0.005182577528503548\t0.01521655543208985\n",
      "Prevotella_genogroup_3\t0.010760423974206467\t0.033583473967716077\n",
      "Clostridiales\t0.008195650556625321\t0.03198618406615665\n",
      "Enterococcus_faecalis\t0.00010321410068544093\t0.0002759924512645189\n",
      "Corynebacterium_accolens\t0.003003887258000032\t0.00460022796336117\n",
      "Total\t43158.44\t12940.85021342879\n",
      "Shannon\t0.5385390618206469\t0.4165163547495702\n",
      "Simpson\t1.6183698340096688\t0.689076011421449\n"
     ]
    }
   ],
   "source": [
    "print_list = list(zip(taxa_headers+statistic_headers, \n",
    "                      column_means, \n",
    "                      column_stds))\n",
    "print('item\\tmean value\\tstd')\n",
    "for line in print_list:\n",
    "    x,y,z = line\n",
    "    print('{}\\t{}\\t{}'.format(x,y,z))\n"
   ]
  },
  {
   "cell_type": "code",
   "execution_count": 73,
   "metadata": {
    "collapsed": false
   },
   "outputs": [
    {
     "data": {
      "text/plain": [
       "[(1, 4, 7), (2, 5, 8), (3, 6, 9)]"
      ]
     },
     "execution_count": 73,
     "metadata": {},
     "output_type": "execute_result"
    }
   ],
   "source": [
    "list(zip([1,2,3],[4,5,6],[7,8,9]))"
   ]
  },
  {
   "cell_type": "code",
   "execution_count": null,
   "metadata": {
    "collapsed": true
   },
   "outputs": [],
   "source": []
  },
  {
   "cell_type": "code",
   "execution_count": 74,
   "metadata": {
    "collapsed": false
   },
   "outputs": [
    {
     "name": "stdout",
     "output_type": "stream",
     "text": [
      "total abundances: [[11516 27634  7561 31704    32    41 23478  7371 56725 40118     2   351\n",
      "  45933    19    12     8 51258 47147 30965    34 62524    20    10 34110\n",
      "  44083]\n",
      " [ 1074 11628  8516  3270 20557   178 23334 31689    21 18353 20856 18762\n",
      "   6757     2     1    49  6616    37 12361 50437    50 24891  2809  3453\n",
      "   3128]\n",
      " [   32    75    20   156    29 27488    46    13     0    21     8    33\n",
      "    175    10     0 57572   474     0   352     6     0     0     0     0\n",
      "      0]\n",
      " [   19  1538     1   760  4715    14   315     2     3  1497     2     0\n",
      "     19 59938 28327     0  1156     8   183    21    44 22322     2   645\n",
      "    603]\n",
      " [ 2314     1  3633     0    15     0     0     0     0    38 18490  3921\n",
      "      2     0     0     0    10     0     0     0     0     2 14512     0\n",
      "      6]\n",
      " [ 7535     0  4081     1     0     0     0     0     1     0     0   610\n",
      "      0     0     0     0     0     0     0     0     0     0  1366     0\n",
      "      2]\n",
      " [    0     1    12     0   781   533    63     2     1     2   254    21\n",
      "      1  4674     0     0     2     0    10     3     0     0     0     0\n",
      "      0]\n",
      " [   43     0  1113     0     0     0     0     0     0     0  2300  4694\n",
      "      0     0     0     0     0     0     0     0     0     0   163     0\n",
      "      0]\n",
      " [  322     0   112     3    20     3     0     3     0     1   236   450\n",
      "      0     2     0     0     4     8    11     0     0     6  3691     0\n",
      "      1]\n",
      " [    1    18     1     1    36     0     0     1     0     0     0     4\n",
      "      0     0     0     0     0     0     8     3     0     1     0     0\n",
      "      0]\n",
      " [  427    27   243     9   347    12    23    60     4   101   373   168\n",
      "      1   190     4    14     8    66    41   151   242     7     3    41\n",
      "      4]]\n"
     ]
    }
   ],
   "source": [
    "# 2. multiple the total number of reads by the relative abundance\n",
    "\n",
    "#print('rel abundances: {}\\n'.format(data_rel_abundances))\n",
    "#print('totals: {}\\n'.format(data_totals))\n",
    "\n",
    "total_abundances = (data_rel_abundances.T * data_totals).astype(int)\n",
    "\n",
    "print('total abundances: {}'.format(total_abundances))"
   ]
  },
  {
   "cell_type": "code",
   "execution_count": 75,
   "metadata": {
    "collapsed": false
   },
   "outputs": [
    {
     "data": {
      "text/plain": [
       "array([ 1.,  1.,  1.,  1.,  1.,  1.,  1.,  1.,  1.,  1.,  1.,  1.,  1.,\n",
       "        1.,  1.,  1.,  1.,  1.,  1.,  1.,  1.,  1.,  1.,  1.,  1.])"
      ]
     },
     "execution_count": 75,
     "metadata": {},
     "output_type": "execute_result"
    }
   ],
   "source": [
    "# 3. compute the row totals for the relative abundances (do they sum to 1?)\n",
    "\n",
    "data_rel_abundances.sum(axis=1)"
   ]
  },
  {
   "cell_type": "markdown",
   "metadata": {},
   "source": [
    "##### Explore data"
   ]
  },
  {
   "cell_type": "code",
   "execution_count": 115,
   "metadata": {
    "collapsed": false,
    "scrolled": true
   },
   "outputs": [
    {
     "data": {
      "image/png": "[encoded data removed]",
      "text/plain": [
       "<Figure size 432x288 with 1 Axes>"
      ]
     },
     "metadata": {},
     "output_type": "display_data"
    }
   ],
   "source": [
    "from matplotlib import pyplot as plt\n",
    "\n",
    "for sample, sample_id in zip(data_rel_abundances, patient_ids):\n",
    "    plt.plot(sample, 'o', label=sample_id)\n",
    "\n",
    "plt.xlabel('taxa')\n",
    "plt.ylabel('relative abundance')\n",
    "plt.title('Relative abundance of taxa by sample')\n",
    "plt.text(5,0.9,'Colors represent patients')\n",
    "#plt.legend()\n",
    "x = plt.xticks(range(len(taxa_headers)), \n",
    "               taxa_headers,\n",
    "               rotation='vertical')"
   ]
  },
  {
   "cell_type": "markdown",
   "metadata": {},
   "source": [
    "Looks like different patients may have different microbiomes (duh). Let's plot by patient."
   ]
  },
  {
   "cell_type": "code",
   "execution_count": 118,
   "metadata": {
    "collapsed": false,
    "scrolled": true
   },
   "outputs": [
    {
     "data": {
      "image/png": "[encoded data removed]",
      "text/plain": [
       "<Figure size 432x288 with 1 Axes>"
      ]
     },
     "metadata": {},
     "output_type": "display_data"
    }
   ],
   "source": [
    "from matplotlib import pyplot as plt\n",
    "\n",
    "for sample, taxon_id in zip(data_rel_abundances.T, taxa_headers):\n",
    "    plt.plot(sample, 'o', label=taxon_id)\n",
    "\n",
    "plt.xlabel('sample ID')\n",
    "plt.ylabel('relative abundance')\n",
    "plt.title('Relative abundance of taxa by sample.')\n",
    "#plt.text(5,0.9,'Colors represent patients')\n",
    "plt.legend(loc=(1,0))\n",
    "x = plt.xticks(range(len(patient_ids)), \n",
    "               patient_ids,\n",
    "               rotation='vertical')"
   ]
  },
  {
   "cell_type": "markdown",
   "metadata": {},
   "source": [
    "hmmm...looks like some have a lot of *L. iners*, others have a lot if *L. crispatus*, and some may have little of either. Three classes of sample?"
   ]
  },
  {
   "cell_type": "markdown",
   "metadata": {},
   "source": [
    "### Using random number generation\n",
    "\n",
    "Suppose we want to create a simulation dataset (of *pseudo-replicates*) of relative abundances, similar to the above dataset but with every relative abundance skewed by a gaussian amount with a spread of $\\sigma^2$"
   ]
  },
  {
   "cell_type": "code",
   "execution_count": 119,
   "metadata": {
    "collapsed": false
   },
   "outputs": [
    {
     "name": "stdout",
     "output_type": "stream",
     "text": [
      "means: \n",
      "[  4.38404755e-01   2.64412393e-01   8.01285319e-02   1.08828192e-01\n",
      "   5.83150993e-02   2.26652751e-02   5.18257753e-03   1.07604240e-02\n",
      "   8.19565056e-03   1.03214101e-04   3.00388726e-03   4.31584400e+04\n",
      "   5.38539062e-01   1.61836983e+00]\n",
      "\n",
      "stds: \n",
      "[  4.05537536e-01   2.90668885e-01   2.67009950e-01   2.69457379e-01\n",
      "   1.50547970e-01   6.98527153e-02   1.52165554e-02   3.35834740e-02\n",
      "   3.19861841e-02   2.75992451e-04   4.60022796e-03   1.29408502e+04\n",
      "   4.16516355e-01   6.89076011e-01]\n",
      "\n",
      "10 pseudoreplicates: \n",
      "[array([  4.34905925e-01,   3.21359714e-01,   6.92262867e-02,\n",
      "         3.34224952e-03,   4.40250972e-02,   1.99445190e-02,\n",
      "         5.12775209e-03,   1.16328297e-02,   8.15861922e-03,\n",
      "         1.03277131e-04,   3.08568471e-03]), array([  5.35731432e-01,   2.88293639e-01,   7.62934517e-02,\n",
      "         1.21729133e-01,   3.36711413e-02,   2.44991434e-02,\n",
      "         5.52448519e-03,   1.04312771e-02,   7.81861646e-03,\n",
      "         1.03261108e-04,   3.03360529e-03]), array([  5.76836997e-01,   3.04174547e-01,   9.04206599e-02,\n",
      "        -7.08782991e-02,   6.54359468e-02,   1.37767130e-02,\n",
      "         4.74905176e-03,   1.41277974e-02,   6.65807205e-03,\n",
      "         1.03220648e-04,   3.00103696e-03]), array([  1.30253409e-01,   2.08518349e-01,   1.99690045e-01,\n",
      "         1.87360482e-01,   4.45773831e-02,   2.34243918e-02,\n",
      "         5.05416909e-03,   8.39977648e-03,   8.75396458e-03,\n",
      "         1.03283279e-04,   3.01913569e-03]), array([  4.08869542e-01,   3.75257306e-01,   3.44923172e-02,\n",
      "         1.62182935e-01,   8.47354335e-02,   3.46571568e-02,\n",
      "         5.40158162e-03,   9.67019846e-03,   7.84179931e-03,\n",
      "         1.03217444e-04,   2.97394612e-03]), array([  5.17813801e-01,   3.11407491e-01,   1.66750281e-01,\n",
      "         1.16421225e-01,   8.85463446e-02,   2.19774681e-02,\n",
      "         5.21768058e-03,   8.82570330e-03,   8.18565267e-03,\n",
      "         1.03197479e-04,   2.98503749e-03]), array([  3.45021859e-01,   2.93790974e-01,   1.11439924e-01,\n",
      "        -2.78359112e-02,   8.36022330e-02,   2.44741223e-02,\n",
      "         5.07763075e-03,   1.28746118e-02,   8.45366945e-03,\n",
      "         1.03178895e-04,   3.01094625e-03]), array([  5.83011811e-01,   3.25952882e-01,  -7.99470899e-03,\n",
      "         6.05901462e-02,   6.00917148e-02,   1.35520249e-02,\n",
      "         5.48158902e-03,   8.85551643e-03,   8.84713968e-03,\n",
      "         1.03380855e-04,   2.99621117e-03]), array([  2.88273762e-01,   3.39745623e-01,   3.40000603e-02,\n",
      "        -1.09121575e-02,   6.17279129e-02,   1.65662061e-02,\n",
      "         4.95645820e-03,   1.10423452e-02,   9.07476696e-03,\n",
      "         1.03117024e-04,   3.03188320e-03]), array([  2.96077379e-01,   2.47117049e-01,   7.04468964e-02,\n",
      "         5.49659701e-02,   6.42461376e-02,   2.36873963e-02,\n",
      "         5.51082543e-03,   1.04937970e-02,   8.02486417e-03,\n",
      "         1.03302855e-04,   3.00196101e-03])]\n",
      "\n"
     ]
    }
   ],
   "source": [
    "from numpy import random as rnd\n",
    "SIM_SIZE = 10\n",
    "\n",
    "# column_means, column_stds are mean and std of taxa in the actual samples\n",
    "\n",
    "sim_data = []\n",
    "for sample in range(SIM_SIZE):\n",
    "    sim_samples = rnd.normal(column_means[:-3], column_stds[:-3]**2)\n",
    "    sim_data.append(sim_samples)\n",
    "\n",
    "print('means: \\n{0}\\n'.format(column_means))\n",
    "print('stds: \\n{0}\\n'.format(column_stds))\n",
    "print('{0} pseudoreplicates: \\n{1}\\n'.format(SIM_SIZE, sim_data))"
   ]
  },
  {
   "cell_type": "code",
   "execution_count": null,
   "metadata": {
    "collapsed": true
   },
   "outputs": [],
   "source": []
  }
 ],
 "metadata": {
  "anaconda-cloud": {},
  "kernelspec": {
   "display_name": "Python 2",
   "language": "python",
   "name": "python2"
  },
  "language_info": {
   "codemirror_mode": {
    "name": "ipython",
    "version": 2
   },
   "file_extension": ".py",
   "mimetype": "text/x-python",
   "name": "python",
   "nbconvert_exporter": "python",
   "pygments_lexer": "ipython2",
   "version": "2.7.11"
  },
  "latex_envs": {
   "bibliofile": "biblio.bib",
   "cite_by": "apalike",
   "current_citInitial": 1,
   "eqLabelWithNumbers": true,
   "eqNumInitial": 0
  }
 },
 "nbformat": 4,
 "nbformat_minor": 2
}
