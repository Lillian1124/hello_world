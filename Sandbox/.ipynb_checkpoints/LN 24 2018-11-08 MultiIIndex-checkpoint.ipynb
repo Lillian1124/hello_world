{
 "cells": [
  {
   "cell_type": "markdown",
   "metadata": {},
   "source": [
    "# Lecture 24 2018-11-08: Matplotlib\n",
    "\n",
    "Joining and merging dataframes; clustering analysis by column values.\n",
    "\n",
    "all about indexing and using indexes."
   ]
  },
  {
   "cell_type": "code",
   "execution_count": 1,
   "metadata": {
    "collapsed": true
   },
   "outputs": [],
   "source": [
    "import pandas as pd\n",
    "from pandas import Series, DataFrame   # use these so often, this can be helpful"
   ]
  },
  {
   "cell_type": "code",
   "execution_count": 2,
   "metadata": {
    "collapsed": true
   },
   "outputs": [],
   "source": [
    "from matplotlib import pyplot as plt\n",
    "%matplotlib inline"
   ]
  },
  {
   "cell_type": "code",
   "execution_count": 3,
   "metadata": {
    "collapsed": true
   },
   "outputs": [],
   "source": [
    "import numpy as np\n",
    "from numpy.random import randn"
   ]
  },
  {
   "cell_type": "markdown",
   "metadata": {},
   "source": [
    "## Multi-indexing\n",
    "\n",
    "DataFrames can have more than one index, with different index levels having values grouped by the higher level indexes. This gives a \"hierarchical\" organization for dataframes."
   ]
  },
  {
   "cell_type": "markdown",
   "metadata": {},
   "source": [
    "### Create data for examples"
   ]
  },
  {
   "cell_type": "code",
   "execution_count": 4,
   "metadata": {
    "collapsed": false
   },
   "outputs": [
    {
     "data": {
      "text/html": [
       "<div>\n",
       "<table border=\"1\" class=\"dataframe\">\n",
       "  <thead>\n",
       "    <tr style=\"text-align: right;\">\n",
       "      <th></th>\n",
       "      <th>week</th>\n",
       "      <th>day</th>\n",
       "      <th>v1</th>\n",
       "      <th>v2</th>\n",
       "      <th>mean</th>\n",
       "      <th>std</th>\n",
       "    </tr>\n",
       "  </thead>\n",
       "  <tbody>\n",
       "    <tr>\n",
       "      <th>0</th>\n",
       "      <td>w1</td>\n",
       "      <td>d1</td>\n",
       "      <td>1</td>\n",
       "      <td>10</td>\n",
       "      <td>5.5</td>\n",
       "      <td>6.363961</td>\n",
       "    </tr>\n",
       "    <tr>\n",
       "      <th>1</th>\n",
       "      <td>w1</td>\n",
       "      <td>d3</td>\n",
       "      <td>2</td>\n",
       "      <td>20</td>\n",
       "      <td>11.0</td>\n",
       "      <td>12.727922</td>\n",
       "    </tr>\n",
       "    <tr>\n",
       "      <th>2</th>\n",
       "      <td>w2</td>\n",
       "      <td>d1</td>\n",
       "      <td>3</td>\n",
       "      <td>30</td>\n",
       "      <td>16.5</td>\n",
       "      <td>19.091883</td>\n",
       "    </tr>\n",
       "    <tr>\n",
       "      <th>3</th>\n",
       "      <td>w2</td>\n",
       "      <td>d2</td>\n",
       "      <td>4</td>\n",
       "      <td>40</td>\n",
       "      <td>22.0</td>\n",
       "      <td>25.455844</td>\n",
       "    </tr>\n",
       "    <tr>\n",
       "      <th>4</th>\n",
       "      <td>w2</td>\n",
       "      <td>d3</td>\n",
       "      <td>5</td>\n",
       "      <td>60</td>\n",
       "      <td>32.5</td>\n",
       "      <td>38.890873</td>\n",
       "    </tr>\n",
       "  </tbody>\n",
       "</table>\n",
       "</div>"
      ],
      "text/plain": [
       "  week day  v1  v2  mean        std\n",
       "0   w1  d1   1  10   5.5   6.363961\n",
       "1   w1  d3   2  20  11.0  12.727922\n",
       "2   w2  d1   3  30  16.5  19.091883\n",
       "3   w2  d2   4  40  22.0  25.455844\n",
       "4   w2  d3   5  60  32.5  38.890873"
      ]
     },
     "execution_count": 4,
     "metadata": {},
     "output_type": "execute_result"
    }
   ],
   "source": [
    "test_df = DataFrame( \n",
    "    [  \n",
    "        ['w1','d1',1,10],\n",
    "            ['w1','d3',2,20],\n",
    "            ['w2','d1',3,30],\n",
    "            ['w2','d2',4,40],\n",
    "            ['w2','d3',5,60],\n",
    "        ], \n",
    "    columns=['week','day','v1','v2'],\n",
    "    )\n",
    "\n",
    "test_df['mean'] = test_df[['v1','v2']].mean( axis=1 )\n",
    "test_df['std'] = test_df[['v1','v2']].std( axis=1 )\n",
    "\n",
    "test_df"
   ]
  },
  {
   "cell_type": "markdown",
   "metadata": {},
   "source": [
    "#### creating indexes (from columns)\n",
    "\n",
    "To set indexes, use the *set_index(l)* method, where *l* is a python list of column names to use as indexes. This converts the columns into multi-level indexes, with the level of the index corresponding to the order of the entries in *l*."
   ]
  },
  {
   "cell_type": "code",
   "execution_count": 5,
   "metadata": {
    "collapsed": false,
    "scrolled": true
   },
   "outputs": [
    {
     "data": {
      "text/html": [
       "<div>\n",
       "<table border=\"1\" class=\"dataframe\">\n",
       "  <thead>\n",
       "    <tr style=\"text-align: right;\">\n",
       "      <th></th>\n",
       "      <th></th>\n",
       "      <th>v1</th>\n",
       "      <th>v2</th>\n",
       "      <th>mean</th>\n",
       "      <th>std</th>\n",
       "    </tr>\n",
       "    <tr>\n",
       "      <th>week</th>\n",
       "      <th>day</th>\n",
       "      <th></th>\n",
       "      <th></th>\n",
       "      <th></th>\n",
       "      <th></th>\n",
       "    </tr>\n",
       "  </thead>\n",
       "  <tbody>\n",
       "    <tr>\n",
       "      <th rowspan=\"2\" valign=\"top\">w1</th>\n",
       "      <th>d1</th>\n",
       "      <td>1</td>\n",
       "      <td>10</td>\n",
       "      <td>5.5</td>\n",
       "      <td>6.363961</td>\n",
       "    </tr>\n",
       "    <tr>\n",
       "      <th>d3</th>\n",
       "      <td>2</td>\n",
       "      <td>20</td>\n",
       "      <td>11.0</td>\n",
       "      <td>12.727922</td>\n",
       "    </tr>\n",
       "    <tr>\n",
       "      <th rowspan=\"3\" valign=\"top\">w2</th>\n",
       "      <th>d1</th>\n",
       "      <td>3</td>\n",
       "      <td>30</td>\n",
       "      <td>16.5</td>\n",
       "      <td>19.091883</td>\n",
       "    </tr>\n",
       "    <tr>\n",
       "      <th>d2</th>\n",
       "      <td>4</td>\n",
       "      <td>40</td>\n",
       "      <td>22.0</td>\n",
       "      <td>25.455844</td>\n",
       "    </tr>\n",
       "    <tr>\n",
       "      <th>d3</th>\n",
       "      <td>5</td>\n",
       "      <td>60</td>\n",
       "      <td>32.5</td>\n",
       "      <td>38.890873</td>\n",
       "    </tr>\n",
       "  </tbody>\n",
       "</table>\n",
       "</div>"
      ],
      "text/plain": [
       "          v1  v2  mean        std\n",
       "week day                         \n",
       "w1   d1    1  10   5.5   6.363961\n",
       "     d3    2  20  11.0  12.727922\n",
       "w2   d1    3  30  16.5  19.091883\n",
       "     d2    4  40  22.0  25.455844\n",
       "     d3    5  60  32.5  38.890873"
      ]
     },
     "execution_count": 5,
     "metadata": {},
     "output_type": "execute_result"
    }
   ],
   "source": [
    "test_df.set_index( [ 'week', 'day' ], inplace=True )\n",
    "test_df"
   ]
  },
  {
   "cell_type": "markdown",
   "metadata": {},
   "source": [
    "Indexes have multiple *levels*, which are the layers of embedding in the hierarchy. The example below has two levels, one for the values in the weeks index, and one for the values in the day index. This is where *levels=* in examples above comes from.\n",
    "\n",
    "Indexes can have *names*, which are names for that level in the index. Below, the levels are 'week' at level 0 (the outermost level) and 'day' at level 1 (the innermost). \n",
    "\n",
    "Indexes also have *labels*, which are python list indexes into the values for index levels. They identify which group of values are associated with each entry. \n",
    "\n",
    "Each of these properties are stored as lists in the *dataframe.index* object."
   ]
  },
  {
   "cell_type": "code",
   "execution_count": 6,
   "metadata": {
    "collapsed": false,
    "scrolled": true
   },
   "outputs": [
    {
     "data": {
      "text/plain": [
       "MultiIndex(levels=[[u'w1', u'w2'], [u'd1', u'd2', u'd3']],\n",
       "           labels=[[0, 0, 1, 1, 1], [0, 2, 0, 1, 2]],\n",
       "           names=[u'week', u'day'])"
      ]
     },
     "execution_count": 6,
     "metadata": {},
     "output_type": "execute_result"
    }
   ],
   "source": [
    "test_df.index\n",
    "#test_df.columns"
   ]
  },
  {
   "cell_type": "markdown",
   "metadata": {},
   "source": [
    "#### Removing indexes, and re-indexing\n",
    "\n",
    "Note that once a column has been converted to an index, it is no longer a column. So,\n",
    ">df.set_index('d1')\n",
    "\n",
    "followed by\n",
    "\n",
    ">df.set_index('d2')\n",
    "\n",
    "will delete the 'd1' column data entirely from *df*!\n",
    "\n",
    "To convert an index level back into a column, use *reset_index(l)*, where *l* is a list of index names to convert back into columns.\n",
    "\n",
    "So, to change indexes, first *reset_index* to remove the old one, then *set_index* to set the new one."
   ]
  },
  {
   "cell_type": "code",
   "execution_count": 7,
   "metadata": {
    "collapsed": false
   },
   "outputs": [
    {
     "data": {
      "text/html": [
       "<div>\n",
       "<table border=\"1\" class=\"dataframe\">\n",
       "  <thead>\n",
       "    <tr style=\"text-align: right;\">\n",
       "      <th></th>\n",
       "      <th>week</th>\n",
       "      <th>day</th>\n",
       "      <th>v1</th>\n",
       "      <th>v2</th>\n",
       "      <th>mean</th>\n",
       "      <th>std</th>\n",
       "    </tr>\n",
       "  </thead>\n",
       "  <tbody>\n",
       "    <tr>\n",
       "      <th>0</th>\n",
       "      <td>w1</td>\n",
       "      <td>d1</td>\n",
       "      <td>1</td>\n",
       "      <td>10</td>\n",
       "      <td>5.5</td>\n",
       "      <td>6.363961</td>\n",
       "    </tr>\n",
       "    <tr>\n",
       "      <th>1</th>\n",
       "      <td>w1</td>\n",
       "      <td>d3</td>\n",
       "      <td>2</td>\n",
       "      <td>20</td>\n",
       "      <td>11.0</td>\n",
       "      <td>12.727922</td>\n",
       "    </tr>\n",
       "    <tr>\n",
       "      <th>2</th>\n",
       "      <td>w2</td>\n",
       "      <td>d1</td>\n",
       "      <td>3</td>\n",
       "      <td>30</td>\n",
       "      <td>16.5</td>\n",
       "      <td>19.091883</td>\n",
       "    </tr>\n",
       "    <tr>\n",
       "      <th>3</th>\n",
       "      <td>w2</td>\n",
       "      <td>d2</td>\n",
       "      <td>4</td>\n",
       "      <td>40</td>\n",
       "      <td>22.0</td>\n",
       "      <td>25.455844</td>\n",
       "    </tr>\n",
       "    <tr>\n",
       "      <th>4</th>\n",
       "      <td>w2</td>\n",
       "      <td>d3</td>\n",
       "      <td>5</td>\n",
       "      <td>60</td>\n",
       "      <td>32.5</td>\n",
       "      <td>38.890873</td>\n",
       "    </tr>\n",
       "  </tbody>\n",
       "</table>\n",
       "</div>"
      ],
      "text/plain": [
       "  week day  v1  v2  mean        std\n",
       "0   w1  d1   1  10   5.5   6.363961\n",
       "1   w1  d3   2  20  11.0  12.727922\n",
       "2   w2  d1   3  30  16.5  19.091883\n",
       "3   w2  d2   4  40  22.0  25.455844\n",
       "4   w2  d3   5  60  32.5  38.890873"
      ]
     },
     "execution_count": 7,
     "metadata": {},
     "output_type": "execute_result"
    }
   ],
   "source": [
    "test_df.reset_index(inplace=True)\n",
    "test_df"
   ]
  },
  {
   "cell_type": "code",
   "execution_count": 8,
   "metadata": {
    "collapsed": false
   },
   "outputs": [
    {
     "data": {
      "text/html": [
       "<div>\n",
       "<table border=\"1\" class=\"dataframe\">\n",
       "  <thead>\n",
       "    <tr style=\"text-align: right;\">\n",
       "      <th></th>\n",
       "      <th>day</th>\n",
       "      <th>v1</th>\n",
       "      <th>v2</th>\n",
       "      <th>mean</th>\n",
       "      <th>std</th>\n",
       "    </tr>\n",
       "    <tr>\n",
       "      <th>week</th>\n",
       "      <th></th>\n",
       "      <th></th>\n",
       "      <th></th>\n",
       "      <th></th>\n",
       "      <th></th>\n",
       "    </tr>\n",
       "  </thead>\n",
       "  <tbody>\n",
       "    <tr>\n",
       "      <th>w1</th>\n",
       "      <td>d1</td>\n",
       "      <td>1</td>\n",
       "      <td>10</td>\n",
       "      <td>5.5</td>\n",
       "      <td>6.363961</td>\n",
       "    </tr>\n",
       "    <tr>\n",
       "      <th>w1</th>\n",
       "      <td>d3</td>\n",
       "      <td>2</td>\n",
       "      <td>20</td>\n",
       "      <td>11.0</td>\n",
       "      <td>12.727922</td>\n",
       "    </tr>\n",
       "    <tr>\n",
       "      <th>w2</th>\n",
       "      <td>d1</td>\n",
       "      <td>3</td>\n",
       "      <td>30</td>\n",
       "      <td>16.5</td>\n",
       "      <td>19.091883</td>\n",
       "    </tr>\n",
       "    <tr>\n",
       "      <th>w2</th>\n",
       "      <td>d2</td>\n",
       "      <td>4</td>\n",
       "      <td>40</td>\n",
       "      <td>22.0</td>\n",
       "      <td>25.455844</td>\n",
       "    </tr>\n",
       "    <tr>\n",
       "      <th>w2</th>\n",
       "      <td>d3</td>\n",
       "      <td>5</td>\n",
       "      <td>60</td>\n",
       "      <td>32.5</td>\n",
       "      <td>38.890873</td>\n",
       "    </tr>\n",
       "  </tbody>\n",
       "</table>\n",
       "</div>"
      ],
      "text/plain": [
       "     day  v1  v2  mean        std\n",
       "week                             \n",
       "w1    d1   1  10   5.5   6.363961\n",
       "w1    d3   2  20  11.0  12.727922\n",
       "w2    d1   3  30  16.5  19.091883\n",
       "w2    d2   4  40  22.0  25.455844\n",
       "w2    d3   5  60  32.5  38.890873"
      ]
     },
     "execution_count": 8,
     "metadata": {},
     "output_type": "execute_result"
    }
   ],
   "source": [
    "test_df.set_index('week', inplace=True)\n",
    "test_df"
   ]
  },
  {
   "cell_type": "code",
   "execution_count": 9,
   "metadata": {
    "collapsed": false
   },
   "outputs": [
    {
     "data": {
      "text/html": [
       "<div>\n",
       "<table border=\"1\" class=\"dataframe\">\n",
       "  <thead>\n",
       "    <tr style=\"text-align: right;\">\n",
       "      <th></th>\n",
       "      <th></th>\n",
       "      <th>v1</th>\n",
       "      <th>v2</th>\n",
       "      <th>mean</th>\n",
       "      <th>std</th>\n",
       "    </tr>\n",
       "    <tr>\n",
       "      <th>week</th>\n",
       "      <th>day</th>\n",
       "      <th></th>\n",
       "      <th></th>\n",
       "      <th></th>\n",
       "      <th></th>\n",
       "    </tr>\n",
       "  </thead>\n",
       "  <tbody>\n",
       "    <tr>\n",
       "      <th rowspan=\"2\" valign=\"top\">w1</th>\n",
       "      <th>d1</th>\n",
       "      <td>1</td>\n",
       "      <td>10</td>\n",
       "      <td>5.5</td>\n",
       "      <td>6.363961</td>\n",
       "    </tr>\n",
       "    <tr>\n",
       "      <th>d3</th>\n",
       "      <td>2</td>\n",
       "      <td>20</td>\n",
       "      <td>11.0</td>\n",
       "      <td>12.727922</td>\n",
       "    </tr>\n",
       "    <tr>\n",
       "      <th rowspan=\"3\" valign=\"top\">w2</th>\n",
       "      <th>d1</th>\n",
       "      <td>3</td>\n",
       "      <td>30</td>\n",
       "      <td>16.5</td>\n",
       "      <td>19.091883</td>\n",
       "    </tr>\n",
       "    <tr>\n",
       "      <th>d2</th>\n",
       "      <td>4</td>\n",
       "      <td>40</td>\n",
       "      <td>22.0</td>\n",
       "      <td>25.455844</td>\n",
       "    </tr>\n",
       "    <tr>\n",
       "      <th>d3</th>\n",
       "      <td>5</td>\n",
       "      <td>60</td>\n",
       "      <td>32.5</td>\n",
       "      <td>38.890873</td>\n",
       "    </tr>\n",
       "  </tbody>\n",
       "</table>\n",
       "</div>"
      ],
      "text/plain": [
       "          v1  v2  mean        std\n",
       "week day                         \n",
       "w1   d1    1  10   5.5   6.363961\n",
       "     d3    2  20  11.0  12.727922\n",
       "w2   d1    3  30  16.5  19.091883\n",
       "     d2    4  40  22.0  25.455844\n",
       "     d3    5  60  32.5  38.890873"
      ]
     },
     "execution_count": 9,
     "metadata": {},
     "output_type": "execute_result"
    }
   ],
   "source": [
    "test_df.reset_index(inplace=True)\n",
    "test_df.set_index(['week','day'], inplace=True)\n",
    "test_df"
   ]
  },
  {
   "cell_type": "markdown",
   "metadata": {},
   "source": [
    "### Accessing Multi-Indexed Series ###\n",
    "\n",
    "One accesses entries in multi-level indexes with a syntax very similar to indexing in numpy's ndarray objects.\n",
    "\n",
    "These return a pandas DataFrame or Series, as appropriate."
   ]
  },
  {
   "cell_type": "code",
   "execution_count": 10,
   "metadata": {
    "collapsed": false
   },
   "outputs": [
    {
     "data": {
      "text/plain": [
       "week  day\n",
       "w1    d1      5.5\n",
       "      d3     11.0\n",
       "w2    d1     16.5\n",
       "      d2     22.0\n",
       "      d3     32.5\n",
       "Name: mean, dtype: float64"
      ]
     },
     "execution_count": 10,
     "metadata": {},
     "output_type": "execute_result"
    }
   ],
   "source": [
    "test_df_mean=test_df['mean']\n",
    "test_df_mean   # keeping this for next two examples"
   ]
  },
  {
   "cell_type": "code",
   "execution_count": 11,
   "metadata": {
    "collapsed": false
   },
   "outputs": [
    {
     "name": "stdout",
     "output_type": "stream",
     "text": [
      "day\n",
      "d1    16.5\n",
      "d2    22.0\n",
      "d3    32.5\n",
      "Name: mean, dtype: float64\n"
     ]
    }
   ],
   "source": [
    "print(test_df_mean['w2'] )          # select by first index"
   ]
  },
  {
   "cell_type": "code",
   "execution_count": 14,
   "metadata": {
    "collapsed": false,
    "scrolled": true
   },
   "outputs": [
    {
     "data": {
      "text/plain": [
       "week\n",
       "w1     5.5\n",
       "w2    16.5\n",
       "Name: mean, dtype: float64"
      ]
     },
     "execution_count": 14,
     "metadata": {},
     "output_type": "execute_result"
    }
   ],
   "source": [
    "test_df_mean[:,'d1']       # select by second index"
   ]
  },
  {
   "cell_type": "markdown",
   "metadata": {},
   "source": [
    "### Computing values in dataframes by level\n",
    "\n",
    "There are several \"aggregating\" functions that convert a collection of values into a single value. For example, *mean(d)* computes the (single) average of the valued in *d*. Similarly for *std()*, *sum()*, etc.\n",
    "\n",
    "One can compute an aggregating function on specific levels in a dataframe by specifying which level(s) to use, with the *level=* parameter of the aggregating function.\n",
    "\n",
    "*this can be very useful*"
   ]
  },
  {
   "cell_type": "code",
   "execution_count": 435,
   "metadata": {
    "collapsed": false
   },
   "outputs": [
    {
     "data": {
      "text/html": [
       "<div>\n",
       "<style scoped>\n",
       "    .dataframe tbody tr th:only-of-type {\n",
       "        vertical-align: middle;\n",
       "    }\n",
       "\n",
       "    .dataframe tbody tr th {\n",
       "        vertical-align: top;\n",
       "    }\n",
       "\n",
       "    .dataframe thead th {\n",
       "        text-align: right;\n",
       "    }\n",
       "</style>\n",
       "<table border=\"1\" class=\"dataframe\">\n",
       "  <thead>\n",
       "    <tr style=\"text-align: right;\">\n",
       "      <th></th>\n",
       "      <th></th>\n",
       "      <th>v1</th>\n",
       "      <th>v2</th>\n",
       "      <th>mean</th>\n",
       "      <th>std</th>\n",
       "    </tr>\n",
       "    <tr>\n",
       "      <th>week</th>\n",
       "      <th>day</th>\n",
       "      <th></th>\n",
       "      <th></th>\n",
       "      <th></th>\n",
       "      <th></th>\n",
       "    </tr>\n",
       "  </thead>\n",
       "  <tbody>\n",
       "    <tr>\n",
       "      <th rowspan=\"2\" valign=\"top\">w1</th>\n",
       "      <th>d1</th>\n",
       "      <td>1</td>\n",
       "      <td>10</td>\n",
       "      <td>5.5</td>\n",
       "      <td>6.363961</td>\n",
       "    </tr>\n",
       "    <tr>\n",
       "      <th>d3</th>\n",
       "      <td>2</td>\n",
       "      <td>20</td>\n",
       "      <td>11.0</td>\n",
       "      <td>12.727922</td>\n",
       "    </tr>\n",
       "    <tr>\n",
       "      <th rowspan=\"3\" valign=\"top\">w2</th>\n",
       "      <th>d1</th>\n",
       "      <td>3</td>\n",
       "      <td>30</td>\n",
       "      <td>16.5</td>\n",
       "      <td>19.091883</td>\n",
       "    </tr>\n",
       "    <tr>\n",
       "      <th>d2</th>\n",
       "      <td>4</td>\n",
       "      <td>40</td>\n",
       "      <td>22.0</td>\n",
       "      <td>25.455844</td>\n",
       "    </tr>\n",
       "    <tr>\n",
       "      <th>d3</th>\n",
       "      <td>5</td>\n",
       "      <td>60</td>\n",
       "      <td>32.5</td>\n",
       "      <td>38.890873</td>\n",
       "    </tr>\n",
       "  </tbody>\n",
       "</table>\n",
       "</div>"
      ],
      "text/plain": [
       "          v1  v2  mean        std\n",
       "week day                         \n",
       "w1   d1    1  10   5.5   6.363961\n",
       "     d3    2  20  11.0  12.727922\n",
       "w2   d1    3  30  16.5  19.091883\n",
       "     d2    4  40  22.0  25.455844\n",
       "     d3    5  60  32.5  38.890873"
      ]
     },
     "execution_count": 435,
     "metadata": {},
     "output_type": "execute_result"
    }
   ],
   "source": [
    "test_df"
   ]
  },
  {
   "cell_type": "code",
   "execution_count": 436,
   "metadata": {
    "collapsed": false
   },
   "outputs": [
    {
     "data": {
      "text/html": [
       "<div>\n",
       "<style scoped>\n",
       "    .dataframe tbody tr th:only-of-type {\n",
       "        vertical-align: middle;\n",
       "    }\n",
       "\n",
       "    .dataframe tbody tr th {\n",
       "        vertical-align: top;\n",
       "    }\n",
       "\n",
       "    .dataframe thead th {\n",
       "        text-align: right;\n",
       "    }\n",
       "</style>\n",
       "<table border=\"1\" class=\"dataframe\">\n",
       "  <thead>\n",
       "    <tr style=\"text-align: right;\">\n",
       "      <th></th>\n",
       "      <th>v1</th>\n",
       "      <th>v2</th>\n",
       "      <th>mean</th>\n",
       "      <th>std</th>\n",
       "    </tr>\n",
       "    <tr>\n",
       "      <th>week</th>\n",
       "      <th></th>\n",
       "      <th></th>\n",
       "      <th></th>\n",
       "      <th></th>\n",
       "    </tr>\n",
       "  </thead>\n",
       "  <tbody>\n",
       "    <tr>\n",
       "      <th>w1</th>\n",
       "      <td>1.5</td>\n",
       "      <td>15.000000</td>\n",
       "      <td>8.250000</td>\n",
       "      <td>9.545942</td>\n",
       "    </tr>\n",
       "    <tr>\n",
       "      <th>w2</th>\n",
       "      <td>4.0</td>\n",
       "      <td>43.333333</td>\n",
       "      <td>23.666667</td>\n",
       "      <td>27.812867</td>\n",
       "    </tr>\n",
       "  </tbody>\n",
       "</table>\n",
       "</div>"
      ],
      "text/plain": [
       "       v1         v2       mean        std\n",
       "week                                      \n",
       "w1    1.5  15.000000   8.250000   9.545942\n",
       "w2    4.0  43.333333  23.666667  27.812867"
      ]
     },
     "execution_count": 436,
     "metadata": {},
     "output_type": "execute_result"
    }
   ],
   "source": [
    "# compute means of samples in each week\n",
    "test_df.mean(level='week')          # or compute mean directly on the right level"
   ]
  },
  {
   "cell_type": "code",
   "execution_count": 437,
   "metadata": {
    "collapsed": false
   },
   "outputs": [
    {
     "data": {
      "text/html": [
       "<div>\n",
       "<style scoped>\n",
       "    .dataframe tbody tr th:only-of-type {\n",
       "        vertical-align: middle;\n",
       "    }\n",
       "\n",
       "    .dataframe tbody tr th {\n",
       "        vertical-align: top;\n",
       "    }\n",
       "\n",
       "    .dataframe thead th {\n",
       "        text-align: right;\n",
       "    }\n",
       "</style>\n",
       "<table border=\"1\" class=\"dataframe\">\n",
       "  <thead>\n",
       "    <tr style=\"text-align: right;\">\n",
       "      <th></th>\n",
       "      <th>v1</th>\n",
       "      <th>v2</th>\n",
       "      <th>mean</th>\n",
       "      <th>std</th>\n",
       "    </tr>\n",
       "    <tr>\n",
       "      <th>day</th>\n",
       "      <th></th>\n",
       "      <th></th>\n",
       "      <th></th>\n",
       "      <th></th>\n",
       "    </tr>\n",
       "  </thead>\n",
       "  <tbody>\n",
       "    <tr>\n",
       "      <th>d1</th>\n",
       "      <td>2.0</td>\n",
       "      <td>20.0</td>\n",
       "      <td>11.00</td>\n",
       "      <td>12.727922</td>\n",
       "    </tr>\n",
       "    <tr>\n",
       "      <th>d3</th>\n",
       "      <td>3.5</td>\n",
       "      <td>40.0</td>\n",
       "      <td>21.75</td>\n",
       "      <td>25.809398</td>\n",
       "    </tr>\n",
       "    <tr>\n",
       "      <th>d2</th>\n",
       "      <td>4.0</td>\n",
       "      <td>40.0</td>\n",
       "      <td>22.00</td>\n",
       "      <td>25.455844</td>\n",
       "    </tr>\n",
       "  </tbody>\n",
       "</table>\n",
       "</div>"
      ],
      "text/plain": [
       "      v1    v2   mean        std\n",
       "day                             \n",
       "d1   2.0  20.0  11.00  12.727922\n",
       "d3   3.5  40.0  21.75  25.809398\n",
       "d2   4.0  40.0  22.00  25.455844"
      ]
     },
     "execution_count": 437,
     "metadata": {},
     "output_type": "execute_result"
    }
   ],
   "source": [
    "test_df.mean(level='day')"
   ]
  },
  {
   "cell_type": "code",
   "execution_count": 438,
   "metadata": {
    "collapsed": false,
    "scrolled": false
   },
   "outputs": [
    {
     "data": {
      "text/html": [
       "<div>\n",
       "<style scoped>\n",
       "    .dataframe tbody tr th:only-of-type {\n",
       "        vertical-align: middle;\n",
       "    }\n",
       "\n",
       "    .dataframe tbody tr th {\n",
       "        vertical-align: top;\n",
       "    }\n",
       "\n",
       "    .dataframe thead th {\n",
       "        text-align: right;\n",
       "    }\n",
       "</style>\n",
       "<table border=\"1\" class=\"dataframe\">\n",
       "  <thead>\n",
       "    <tr style=\"text-align: right;\">\n",
       "      <th></th>\n",
       "      <th>v1</th>\n",
       "      <th>v2</th>\n",
       "      <th>mean</th>\n",
       "      <th>std</th>\n",
       "    </tr>\n",
       "  </thead>\n",
       "  <tbody>\n",
       "    <tr>\n",
       "      <th>count</th>\n",
       "      <td>3.000000</td>\n",
       "      <td>3.000000</td>\n",
       "      <td>3.000000</td>\n",
       "      <td>3.000000</td>\n",
       "    </tr>\n",
       "    <tr>\n",
       "      <th>mean</th>\n",
       "      <td>3.166667</td>\n",
       "      <td>33.333333</td>\n",
       "      <td>18.250000</td>\n",
       "      <td>21.331055</td>\n",
       "    </tr>\n",
       "    <tr>\n",
       "      <th>std</th>\n",
       "      <td>1.040833</td>\n",
       "      <td>11.547005</td>\n",
       "      <td>6.279928</td>\n",
       "      <td>7.452628</td>\n",
       "    </tr>\n",
       "    <tr>\n",
       "      <th>min</th>\n",
       "      <td>2.000000</td>\n",
       "      <td>20.000000</td>\n",
       "      <td>11.000000</td>\n",
       "      <td>12.727922</td>\n",
       "    </tr>\n",
       "    <tr>\n",
       "      <th>25%</th>\n",
       "      <td>2.750000</td>\n",
       "      <td>30.000000</td>\n",
       "      <td>16.375000</td>\n",
       "      <td>19.091883</td>\n",
       "    </tr>\n",
       "    <tr>\n",
       "      <th>50%</th>\n",
       "      <td>3.500000</td>\n",
       "      <td>40.000000</td>\n",
       "      <td>21.750000</td>\n",
       "      <td>25.455844</td>\n",
       "    </tr>\n",
       "    <tr>\n",
       "      <th>75%</th>\n",
       "      <td>3.750000</td>\n",
       "      <td>40.000000</td>\n",
       "      <td>21.875000</td>\n",
       "      <td>25.632621</td>\n",
       "    </tr>\n",
       "    <tr>\n",
       "      <th>max</th>\n",
       "      <td>4.000000</td>\n",
       "      <td>40.000000</td>\n",
       "      <td>22.000000</td>\n",
       "      <td>25.809398</td>\n",
       "    </tr>\n",
       "  </tbody>\n",
       "</table>\n",
       "</div>"
      ],
      "text/plain": [
       "             v1         v2       mean        std\n",
       "count  3.000000   3.000000   3.000000   3.000000\n",
       "mean   3.166667  33.333333  18.250000  21.331055\n",
       "std    1.040833  11.547005   6.279928   7.452628\n",
       "min    2.000000  20.000000  11.000000  12.727922\n",
       "25%    2.750000  30.000000  16.375000  19.091883\n",
       "50%    3.500000  40.000000  21.750000  25.455844\n",
       "75%    3.750000  40.000000  21.875000  25.632621\n",
       "max    4.000000  40.000000  22.000000  25.809398"
      ]
     },
     "execution_count": 438,
     "metadata": {},
     "output_type": "execute_result"
    }
   ],
   "source": [
    "test_df.mean(level='day').describe()"
   ]
  },
  {
   "cell_type": "markdown",
   "metadata": {},
   "source": [
    "### A less silly example"
   ]
  },
  {
   "cell_type": "markdown",
   "metadata": {},
   "source": [
    "#### Get example data"
   ]
  },
  {
   "cell_type": "code",
   "execution_count": 491,
   "metadata": {
    "collapsed": false
   },
   "outputs": [
    {
     "data": {
      "text/html": [
       "<div>\n",
       "<style scoped>\n",
       "    .dataframe tbody tr th:only-of-type {\n",
       "        vertical-align: middle;\n",
       "    }\n",
       "\n",
       "    .dataframe tbody tr th {\n",
       "        vertical-align: top;\n",
       "    }\n",
       "\n",
       "    .dataframe thead th {\n",
       "        text-align: right;\n",
       "    }\n",
       "</style>\n",
       "<table border=\"1\" class=\"dataframe\">\n",
       "  <thead>\n",
       "    <tr style=\"text-align: right;\">\n",
       "      <th></th>\n",
       "      <th>sample_id</th>\n",
       "      <th>gc_content</th>\n",
       "      <th>gene_id</th>\n",
       "    </tr>\n",
       "    <tr>\n",
       "      <th>country</th>\n",
       "      <th></th>\n",
       "      <th></th>\n",
       "      <th></th>\n",
       "    </tr>\n",
       "  </thead>\n",
       "  <tbody>\n",
       "    <tr>\n",
       "      <th>PE</th>\n",
       "      <td>PE716</td>\n",
       "      <td>0.287770</td>\n",
       "      <td>ST6</td>\n",
       "    </tr>\n",
       "    <tr>\n",
       "      <th>PE</th>\n",
       "      <td>PE714</td>\n",
       "      <td>0.384342</td>\n",
       "      <td>ST6</td>\n",
       "    </tr>\n",
       "    <tr>\n",
       "      <th>ETU</th>\n",
       "      <td>ETU011</td>\n",
       "      <td>0.395683</td>\n",
       "      <td>ST6</td>\n",
       "    </tr>\n",
       "    <tr>\n",
       "      <th>ETR</th>\n",
       "      <td>ETR208</td>\n",
       "      <td>0.315412</td>\n",
       "      <td>ST6</td>\n",
       "    </tr>\n",
       "    <tr>\n",
       "      <th>PE</th>\n",
       "      <td>PE731</td>\n",
       "      <td>0.380783</td>\n",
       "      <td>ST6</td>\n",
       "    </tr>\n",
       "    <tr>\n",
       "      <th>GBR</th>\n",
       "      <td>GBR320</td>\n",
       "      <td>0.590747</td>\n",
       "      <td>FUT3</td>\n",
       "    </tr>\n",
       "    <tr>\n",
       "      <th>SW</th>\n",
       "      <td>SW903</td>\n",
       "      <td>0.366906</td>\n",
       "      <td>ST6</td>\n",
       "    </tr>\n",
       "  </tbody>\n",
       "</table>\n",
       "</div>"
      ],
      "text/plain": [
       "        sample_id  gc_content gene_id\n",
       "country                              \n",
       "PE          PE716    0.287770     ST6\n",
       "PE          PE714    0.384342     ST6\n",
       "ETU        ETU011    0.395683     ST6\n",
       "ETR        ETR208    0.315412     ST6\n",
       "PE          PE731    0.380783     ST6\n",
       "GBR        GBR320    0.590747    FUT3\n",
       "SW          SW903    0.366906     ST6"
      ]
     },
     "execution_count": 491,
     "metadata": {},
     "output_type": "execute_result"
    }
   ],
   "source": [
    "# To only read certain columns, use *usecols*\n",
    "x = pd.read_table('milk_summary.txt', \n",
    "                  comment='#', \n",
    "                  usecols=['sample_id', 'gc_content', 'country', 'gene_id'],\n",
    "                  index_col='country'\n",
    "                 )\n",
    "\n",
    "x.head(n=7)"
   ]
  },
  {
   "cell_type": "markdown",
   "metadata": {},
   "source": [
    "#### Get mean gc content by country"
   ]
  },
  {
   "cell_type": "code",
   "execution_count": 440,
   "metadata": {
    "collapsed": false,
    "scrolled": true
   },
   "outputs": [
    {
     "data": {
      "text/html": [
       "<div>\n",
       "<style scoped>\n",
       "    .dataframe tbody tr th:only-of-type {\n",
       "        vertical-align: middle;\n",
       "    }\n",
       "\n",
       "    .dataframe tbody tr th {\n",
       "        vertical-align: top;\n",
       "    }\n",
       "\n",
       "    .dataframe thead th {\n",
       "        text-align: right;\n",
       "    }\n",
       "</style>\n",
       "<table border=\"1\" class=\"dataframe\">\n",
       "  <thead>\n",
       "    <tr style=\"text-align: right;\">\n",
       "      <th></th>\n",
       "      <th>gc_content</th>\n",
       "    </tr>\n",
       "    <tr>\n",
       "      <th>country</th>\n",
       "      <th></th>\n",
       "    </tr>\n",
       "  </thead>\n",
       "  <tbody>\n",
       "    <tr>\n",
       "      <th>PE</th>\n",
       "      <td>0.450601</td>\n",
       "    </tr>\n",
       "    <tr>\n",
       "      <th>ETU</th>\n",
       "      <td>0.451564</td>\n",
       "    </tr>\n",
       "    <tr>\n",
       "      <th>ETR</th>\n",
       "      <td>0.445550</td>\n",
       "    </tr>\n",
       "    <tr>\n",
       "      <th>GBR</th>\n",
       "      <td>0.457919</td>\n",
       "    </tr>\n",
       "    <tr>\n",
       "      <th>SW</th>\n",
       "      <td>0.464215</td>\n",
       "    </tr>\n",
       "    <tr>\n",
       "      <th>SP</th>\n",
       "      <td>0.442890</td>\n",
       "    </tr>\n",
       "    <tr>\n",
       "      <th>GN</th>\n",
       "      <td>0.468612</td>\n",
       "    </tr>\n",
       "    <tr>\n",
       "      <th>USW</th>\n",
       "      <td>0.450324</td>\n",
       "    </tr>\n",
       "    <tr>\n",
       "      <th>KE</th>\n",
       "      <td>0.457715</td>\n",
       "    </tr>\n",
       "    <tr>\n",
       "      <th>GBU</th>\n",
       "      <td>0.457202</td>\n",
       "    </tr>\n",
       "  </tbody>\n",
       "</table>\n",
       "</div>"
      ],
      "text/plain": [
       "         gc_content\n",
       "country            \n",
       "PE         0.450601\n",
       "ETU        0.451564\n",
       "ETR        0.445550\n",
       "GBR        0.457919\n",
       "SW         0.464215\n",
       "SP         0.442890\n",
       "GN         0.468612\n",
       "USW        0.450324\n",
       "KE         0.457715\n",
       "GBU        0.457202"
      ]
     },
     "execution_count": 440,
     "metadata": {},
     "output_type": "execute_result"
    }
   ],
   "source": [
    "mean_by_country = x.mean(level='country')\n",
    "mean_by_country"
   ]
  },
  {
   "cell_type": "markdown",
   "metadata": {},
   "source": [
    "#### Get mean gc content by gene"
   ]
  },
  {
   "cell_type": "code",
   "execution_count": 441,
   "metadata": {
    "collapsed": false,
    "scrolled": true
   },
   "outputs": [
    {
     "data": {
      "text/html": [
       "<div>\n",
       "<style scoped>\n",
       "    .dataframe tbody tr th:only-of-type {\n",
       "        vertical-align: middle;\n",
       "    }\n",
       "\n",
       "    .dataframe tbody tr th {\n",
       "        vertical-align: top;\n",
       "    }\n",
       "\n",
       "    .dataframe thead th {\n",
       "        text-align: right;\n",
       "    }\n",
       "</style>\n",
       "<table border=\"1\" class=\"dataframe\">\n",
       "  <thead>\n",
       "    <tr style=\"text-align: right;\">\n",
       "      <th></th>\n",
       "      <th>country</th>\n",
       "      <th>sample_id</th>\n",
       "      <th>gc_content</th>\n",
       "      <th>gene_id</th>\n",
       "    </tr>\n",
       "  </thead>\n",
       "  <tbody>\n",
       "    <tr>\n",
       "      <th>0</th>\n",
       "      <td>PE</td>\n",
       "      <td>PE716</td>\n",
       "      <td>0.287770</td>\n",
       "      <td>ST6</td>\n",
       "    </tr>\n",
       "    <tr>\n",
       "      <th>1</th>\n",
       "      <td>PE</td>\n",
       "      <td>PE714</td>\n",
       "      <td>0.384342</td>\n",
       "      <td>ST6</td>\n",
       "    </tr>\n",
       "    <tr>\n",
       "      <th>2</th>\n",
       "      <td>ETU</td>\n",
       "      <td>ETU011</td>\n",
       "      <td>0.395683</td>\n",
       "      <td>ST6</td>\n",
       "    </tr>\n",
       "    <tr>\n",
       "      <th>3</th>\n",
       "      <td>ETR</td>\n",
       "      <td>ETR208</td>\n",
       "      <td>0.315412</td>\n",
       "      <td>ST6</td>\n",
       "    </tr>\n",
       "    <tr>\n",
       "      <th>4</th>\n",
       "      <td>PE</td>\n",
       "      <td>PE731</td>\n",
       "      <td>0.380783</td>\n",
       "      <td>ST6</td>\n",
       "    </tr>\n",
       "  </tbody>\n",
       "</table>\n",
       "</div>"
      ],
      "text/plain": [
       "  country sample_id  gc_content gene_id\n",
       "0      PE     PE716    0.287770     ST6\n",
       "1      PE     PE714    0.384342     ST6\n",
       "2     ETU    ETU011    0.395683     ST6\n",
       "3     ETR    ETR208    0.315412     ST6\n",
       "4      PE     PE731    0.380783     ST6"
      ]
     },
     "execution_count": 441,
     "metadata": {},
     "output_type": "execute_result"
    }
   ],
   "source": [
    "x.reset_index(inplace=True)         # put the country index back as a column\n",
    "x.head()"
   ]
  },
  {
   "cell_type": "code",
   "execution_count": 442,
   "metadata": {
    "collapsed": false,
    "scrolled": true
   },
   "outputs": [
    {
     "data": {
      "text/html": [
       "<div>\n",
       "<style scoped>\n",
       "    .dataframe tbody tr th:only-of-type {\n",
       "        vertical-align: middle;\n",
       "    }\n",
       "\n",
       "    .dataframe tbody tr th {\n",
       "        vertical-align: top;\n",
       "    }\n",
       "\n",
       "    .dataframe thead th {\n",
       "        text-align: right;\n",
       "    }\n",
       "</style>\n",
       "<table border=\"1\" class=\"dataframe\">\n",
       "  <thead>\n",
       "    <tr style=\"text-align: right;\">\n",
       "      <th></th>\n",
       "      <th>country</th>\n",
       "      <th>sample_id</th>\n",
       "      <th>gc_content</th>\n",
       "    </tr>\n",
       "    <tr>\n",
       "      <th>gene_id</th>\n",
       "      <th></th>\n",
       "      <th></th>\n",
       "      <th></th>\n",
       "    </tr>\n",
       "  </thead>\n",
       "  <tbody>\n",
       "    <tr>\n",
       "      <th>ST6</th>\n",
       "      <td>PE</td>\n",
       "      <td>PE716</td>\n",
       "      <td>0.287770</td>\n",
       "    </tr>\n",
       "    <tr>\n",
       "      <th>ST6</th>\n",
       "      <td>PE</td>\n",
       "      <td>PE714</td>\n",
       "      <td>0.384342</td>\n",
       "    </tr>\n",
       "    <tr>\n",
       "      <th>ST6</th>\n",
       "      <td>ETU</td>\n",
       "      <td>ETU011</td>\n",
       "      <td>0.395683</td>\n",
       "    </tr>\n",
       "    <tr>\n",
       "      <th>ST6</th>\n",
       "      <td>ETR</td>\n",
       "      <td>ETR208</td>\n",
       "      <td>0.315412</td>\n",
       "    </tr>\n",
       "    <tr>\n",
       "      <th>ST6</th>\n",
       "      <td>PE</td>\n",
       "      <td>PE731</td>\n",
       "      <td>0.380783</td>\n",
       "    </tr>\n",
       "  </tbody>\n",
       "</table>\n",
       "</div>"
      ],
      "text/plain": [
       "        country sample_id  gc_content\n",
       "gene_id                              \n",
       "ST6          PE     PE716    0.287770\n",
       "ST6          PE     PE714    0.384342\n",
       "ST6         ETU    ETU011    0.395683\n",
       "ST6         ETR    ETR208    0.315412\n",
       "ST6          PE     PE731    0.380783"
      ]
     },
     "execution_count": 442,
     "metadata": {},
     "output_type": "execute_result"
    }
   ],
   "source": [
    "x.set_index('gene_id', inplace=True)\n",
    "x.head()"
   ]
  },
  {
   "cell_type": "code",
   "execution_count": 443,
   "metadata": {
    "collapsed": false
   },
   "outputs": [
    {
     "data": {
      "text/html": [
       "<div>\n",
       "<style scoped>\n",
       "    .dataframe tbody tr th:only-of-type {\n",
       "        vertical-align: middle;\n",
       "    }\n",
       "\n",
       "    .dataframe tbody tr th {\n",
       "        vertical-align: top;\n",
       "    }\n",
       "\n",
       "    .dataframe thead th {\n",
       "        text-align: right;\n",
       "    }\n",
       "</style>\n",
       "<table border=\"1\" class=\"dataframe\">\n",
       "  <thead>\n",
       "    <tr style=\"text-align: right;\">\n",
       "      <th></th>\n",
       "      <th>gc_content</th>\n",
       "    </tr>\n",
       "    <tr>\n",
       "      <th>country</th>\n",
       "      <th></th>\n",
       "    </tr>\n",
       "  </thead>\n",
       "  <tbody>\n",
       "    <tr>\n",
       "      <th>PE</th>\n",
       "      <td>0.450601</td>\n",
       "    </tr>\n",
       "    <tr>\n",
       "      <th>ETU</th>\n",
       "      <td>0.451564</td>\n",
       "    </tr>\n",
       "    <tr>\n",
       "      <th>ETR</th>\n",
       "      <td>0.445550</td>\n",
       "    </tr>\n",
       "    <tr>\n",
       "      <th>GBR</th>\n",
       "      <td>0.457919</td>\n",
       "    </tr>\n",
       "    <tr>\n",
       "      <th>SW</th>\n",
       "      <td>0.464215</td>\n",
       "    </tr>\n",
       "    <tr>\n",
       "      <th>SP</th>\n",
       "      <td>0.442890</td>\n",
       "    </tr>\n",
       "    <tr>\n",
       "      <th>GN</th>\n",
       "      <td>0.468612</td>\n",
       "    </tr>\n",
       "    <tr>\n",
       "      <th>USW</th>\n",
       "      <td>0.450324</td>\n",
       "    </tr>\n",
       "    <tr>\n",
       "      <th>KE</th>\n",
       "      <td>0.457715</td>\n",
       "    </tr>\n",
       "    <tr>\n",
       "      <th>GBU</th>\n",
       "      <td>0.457202</td>\n",
       "    </tr>\n",
       "  </tbody>\n",
       "</table>\n",
       "</div>"
      ],
      "text/plain": [
       "         gc_content\n",
       "country            \n",
       "PE         0.450601\n",
       "ETU        0.451564\n",
       "ETR        0.445550\n",
       "GBR        0.457919\n",
       "SW         0.464215\n",
       "SP         0.442890\n",
       "GN         0.468612\n",
       "USW        0.450324\n",
       "KE         0.457715\n",
       "GBU        0.457202"
      ]
     },
     "execution_count": 443,
     "metadata": {},
     "output_type": "execute_result"
    }
   ],
   "source": [
    "mean_by_gene = x.mean(level='gene_id')\n",
    "mean_by_country"
   ]
  },
  {
   "cell_type": "markdown",
   "metadata": {},
   "source": [
    "#### get gc content for both country and gene_id, using multi-indexing"
   ]
  },
  {
   "cell_type": "code",
   "execution_count": 444,
   "metadata": {
    "collapsed": false
   },
   "outputs": [
    {
     "data": {
      "text/html": [
       "<div>\n",
       "<style scoped>\n",
       "    .dataframe tbody tr th:only-of-type {\n",
       "        vertical-align: middle;\n",
       "    }\n",
       "\n",
       "    .dataframe tbody tr th {\n",
       "        vertical-align: top;\n",
       "    }\n",
       "\n",
       "    .dataframe thead th {\n",
       "        text-align: right;\n",
       "    }\n",
       "</style>\n",
       "<table border=\"1\" class=\"dataframe\">\n",
       "  <thead>\n",
       "    <tr style=\"text-align: right;\">\n",
       "      <th></th>\n",
       "      <th></th>\n",
       "      <th>sample_id</th>\n",
       "      <th>gc_content</th>\n",
       "    </tr>\n",
       "    <tr>\n",
       "      <th>country</th>\n",
       "      <th>gene_id</th>\n",
       "      <th></th>\n",
       "      <th></th>\n",
       "    </tr>\n",
       "  </thead>\n",
       "  <tbody>\n",
       "    <tr>\n",
       "      <th rowspan=\"2\" valign=\"top\">PE</th>\n",
       "      <th>ST6</th>\n",
       "      <td>PE716</td>\n",
       "      <td>0.287770</td>\n",
       "    </tr>\n",
       "    <tr>\n",
       "      <th>ST6</th>\n",
       "      <td>PE714</td>\n",
       "      <td>0.384342</td>\n",
       "    </tr>\n",
       "    <tr>\n",
       "      <th>ETU</th>\n",
       "      <th>ST6</th>\n",
       "      <td>ETU011</td>\n",
       "      <td>0.395683</td>\n",
       "    </tr>\n",
       "    <tr>\n",
       "      <th>ETR</th>\n",
       "      <th>ST6</th>\n",
       "      <td>ETR208</td>\n",
       "      <td>0.315412</td>\n",
       "    </tr>\n",
       "    <tr>\n",
       "      <th>PE</th>\n",
       "      <th>ST6</th>\n",
       "      <td>PE731</td>\n",
       "      <td>0.380783</td>\n",
       "    </tr>\n",
       "  </tbody>\n",
       "</table>\n",
       "</div>"
      ],
      "text/plain": [
       "                sample_id  gc_content\n",
       "country gene_id                      \n",
       "PE      ST6         PE716    0.287770\n",
       "        ST6         PE714    0.384342\n",
       "ETU     ST6        ETU011    0.395683\n",
       "ETR     ST6        ETR208    0.315412\n",
       "PE      ST6         PE731    0.380783"
      ]
     },
     "execution_count": 444,
     "metadata": {},
     "output_type": "execute_result"
    }
   ],
   "source": [
    "x.reset_index(inplace=True)         # put the country index back as a column\n",
    "x.set_index(['country','gene_id'], inplace=True)\n",
    "x.head()"
   ]
  },
  {
   "cell_type": "code",
   "execution_count": 445,
   "metadata": {
    "collapsed": false
   },
   "outputs": [
    {
     "data": {
      "text/html": [
       "<div>\n",
       "<style scoped>\n",
       "    .dataframe tbody tr th:only-of-type {\n",
       "        vertical-align: middle;\n",
       "    }\n",
       "\n",
       "    .dataframe tbody tr th {\n",
       "        vertical-align: top;\n",
       "    }\n",
       "\n",
       "    .dataframe thead th {\n",
       "        text-align: right;\n",
       "    }\n",
       "</style>\n",
       "<table border=\"1\" class=\"dataframe\">\n",
       "  <thead>\n",
       "    <tr style=\"text-align: right;\">\n",
       "      <th></th>\n",
       "      <th>gc_content</th>\n",
       "    </tr>\n",
       "    <tr>\n",
       "      <th>country</th>\n",
       "      <th></th>\n",
       "    </tr>\n",
       "  </thead>\n",
       "  <tbody>\n",
       "    <tr>\n",
       "      <th>PE</th>\n",
       "      <td>0.450601</td>\n",
       "    </tr>\n",
       "    <tr>\n",
       "      <th>ETU</th>\n",
       "      <td>0.451564</td>\n",
       "    </tr>\n",
       "    <tr>\n",
       "      <th>ETR</th>\n",
       "      <td>0.445550</td>\n",
       "    </tr>\n",
       "    <tr>\n",
       "      <th>GBR</th>\n",
       "      <td>0.457919</td>\n",
       "    </tr>\n",
       "    <tr>\n",
       "      <th>SW</th>\n",
       "      <td>0.464215</td>\n",
       "    </tr>\n",
       "    <tr>\n",
       "      <th>SP</th>\n",
       "      <td>0.442890</td>\n",
       "    </tr>\n",
       "    <tr>\n",
       "      <th>GN</th>\n",
       "      <td>0.468612</td>\n",
       "    </tr>\n",
       "    <tr>\n",
       "      <th>USW</th>\n",
       "      <td>0.450324</td>\n",
       "    </tr>\n",
       "    <tr>\n",
       "      <th>KE</th>\n",
       "      <td>0.457715</td>\n",
       "    </tr>\n",
       "    <tr>\n",
       "      <th>GBU</th>\n",
       "      <td>0.457202</td>\n",
       "    </tr>\n",
       "  </tbody>\n",
       "</table>\n",
       "</div>"
      ],
      "text/plain": [
       "         gc_content\n",
       "country            \n",
       "PE         0.450601\n",
       "ETU        0.451564\n",
       "ETR        0.445550\n",
       "GBR        0.457919\n",
       "SW         0.464215\n",
       "SP         0.442890\n",
       "GN         0.468612\n",
       "USW        0.450324\n",
       "KE         0.457715\n",
       "GBU        0.457202"
      ]
     },
     "execution_count": 445,
     "metadata": {},
     "output_type": "execute_result"
    }
   ],
   "source": [
    "mean_by_country = x.mean(level='country')\n",
    "mean_by_country"
   ]
  },
  {
   "cell_type": "code",
   "execution_count": 446,
   "metadata": {
    "collapsed": false
   },
   "outputs": [
    {
     "data": {
      "text/html": [
       "<div>\n",
       "<style scoped>\n",
       "    .dataframe tbody tr th:only-of-type {\n",
       "        vertical-align: middle;\n",
       "    }\n",
       "\n",
       "    .dataframe tbody tr th {\n",
       "        vertical-align: top;\n",
       "    }\n",
       "\n",
       "    .dataframe thead th {\n",
       "        text-align: right;\n",
       "    }\n",
       "</style>\n",
       "<table border=\"1\" class=\"dataframe\">\n",
       "  <thead>\n",
       "    <tr style=\"text-align: right;\">\n",
       "      <th></th>\n",
       "      <th>gc_content</th>\n",
       "    </tr>\n",
       "    <tr>\n",
       "      <th>gene_id</th>\n",
       "      <th></th>\n",
       "    </tr>\n",
       "  </thead>\n",
       "  <tbody>\n",
       "    <tr>\n",
       "      <th>ST6</th>\n",
       "      <td>0.394396</td>\n",
       "    </tr>\n",
       "    <tr>\n",
       "      <th>FUT3</th>\n",
       "      <td>0.621272</td>\n",
       "    </tr>\n",
       "    <tr>\n",
       "      <th>GULOP</th>\n",
       "      <td>0.500397</td>\n",
       "    </tr>\n",
       "    <tr>\n",
       "      <th>FUT2</th>\n",
       "      <td>0.531883</td>\n",
       "    </tr>\n",
       "    <tr>\n",
       "      <th>SEC</th>\n",
       "      <td>0.563558</td>\n",
       "    </tr>\n",
       "  </tbody>\n",
       "</table>\n",
       "</div>"
      ],
      "text/plain": [
       "         gc_content\n",
       "gene_id            \n",
       "ST6        0.394396\n",
       "FUT3       0.621272\n",
       "GULOP      0.500397\n",
       "FUT2       0.531883\n",
       "SEC        0.563558"
      ]
     },
     "execution_count": 446,
     "metadata": {},
     "output_type": "execute_result"
    }
   ],
   "source": [
    "mean_by_gene = x.mean(level='gene_id')\n",
    "mean_by_gene"
   ]
  },
  {
   "cell_type": "markdown",
   "metadata": {},
   "source": [
    "## Reshaping DataFrames\n",
    "\n",
    "DataFrame methods for multi-level indexes\n",
    "\n",
    "method | meaning\n",
    ":----- | :--------\n",
    "stack  | add extra indexs and index levels to convert to a 1D Series (\"flattens\") with lotss of indexes\n",
    "unstack| adds as many index levels as necessary *to columns names* to remove all hierarchies (\"widens\")\n",
    "\n",
    "(we didn't do examples of multi-indexing in the columns)\n",
    "\n",
    "use these to reshape dataframes."
   ]
  },
  {
   "cell_type": "code",
   "execution_count": 447,
   "metadata": {
    "collapsed": true
   },
   "outputs": [],
   "source": [
    "test_df = DataFrame( \n",
    "    [  \n",
    "        ['w1','d1',1,10],\n",
    "            ['w1','d3',2,20],\n",
    "            ['w2','d1',3,30],\n",
    "            ['w2','d2',4,40],\n",
    "            ['w2','d3',5,60],\n",
    "        ], \n",
    "    columns=['week','day','v1','v2']\n",
    "    )\n",
    "\n",
    "test_df['mean'] = test_df[['v1','v2']].mean( axis=1 )\n",
    "test_df['std'] = test_df[['v1','v2']].std( axis=1 )\n",
    "test_df.set_index( [ 'week', 'day' ], inplace=True )"
   ]
  },
  {
   "cell_type": "markdown",
   "metadata": {},
   "source": [
    "### pd.stack()\n",
    "\n",
    "flattens dataframes into 1D pd.Series"
   ]
  },
  {
   "cell_type": "code",
   "execution_count": 448,
   "metadata": {
    "collapsed": false
   },
   "outputs": [
    {
     "data": {
      "text/html": [
       "<div>\n",
       "<style scoped>\n",
       "    .dataframe tbody tr th:only-of-type {\n",
       "        vertical-align: middle;\n",
       "    }\n",
       "\n",
       "    .dataframe tbody tr th {\n",
       "        vertical-align: top;\n",
       "    }\n",
       "\n",
       "    .dataframe thead th {\n",
       "        text-align: right;\n",
       "    }\n",
       "</style>\n",
       "<table border=\"1\" class=\"dataframe\">\n",
       "  <thead>\n",
       "    <tr style=\"text-align: right;\">\n",
       "      <th></th>\n",
       "      <th></th>\n",
       "      <th>v1</th>\n",
       "      <th>v2</th>\n",
       "      <th>mean</th>\n",
       "      <th>std</th>\n",
       "    </tr>\n",
       "    <tr>\n",
       "      <th>week</th>\n",
       "      <th>day</th>\n",
       "      <th></th>\n",
       "      <th></th>\n",
       "      <th></th>\n",
       "      <th></th>\n",
       "    </tr>\n",
       "  </thead>\n",
       "  <tbody>\n",
       "    <tr>\n",
       "      <th rowspan=\"2\" valign=\"top\">w1</th>\n",
       "      <th>d1</th>\n",
       "      <td>1</td>\n",
       "      <td>10</td>\n",
       "      <td>5.5</td>\n",
       "      <td>6.363961</td>\n",
       "    </tr>\n",
       "    <tr>\n",
       "      <th>d3</th>\n",
       "      <td>2</td>\n",
       "      <td>20</td>\n",
       "      <td>11.0</td>\n",
       "      <td>12.727922</td>\n",
       "    </tr>\n",
       "    <tr>\n",
       "      <th rowspan=\"3\" valign=\"top\">w2</th>\n",
       "      <th>d1</th>\n",
       "      <td>3</td>\n",
       "      <td>30</td>\n",
       "      <td>16.5</td>\n",
       "      <td>19.091883</td>\n",
       "    </tr>\n",
       "    <tr>\n",
       "      <th>d2</th>\n",
       "      <td>4</td>\n",
       "      <td>40</td>\n",
       "      <td>22.0</td>\n",
       "      <td>25.455844</td>\n",
       "    </tr>\n",
       "    <tr>\n",
       "      <th>d3</th>\n",
       "      <td>5</td>\n",
       "      <td>60</td>\n",
       "      <td>32.5</td>\n",
       "      <td>38.890873</td>\n",
       "    </tr>\n",
       "  </tbody>\n",
       "</table>\n",
       "</div>"
      ],
      "text/plain": [
       "          v1  v2  mean        std\n",
       "week day                         \n",
       "w1   d1    1  10   5.5   6.363961\n",
       "     d3    2  20  11.0  12.727922\n",
       "w2   d1    3  30  16.5  19.091883\n",
       "     d2    4  40  22.0  25.455844\n",
       "     d3    5  60  32.5  38.890873"
      ]
     },
     "execution_count": 448,
     "metadata": {},
     "output_type": "execute_result"
    }
   ],
   "source": [
    "test_df"
   ]
  },
  {
   "cell_type": "code",
   "execution_count": 449,
   "metadata": {
    "collapsed": false
   },
   "outputs": [
    {
     "data": {
      "text/plain": [
       "week  day      \n",
       "w1    d1   v1       1.000000\n",
       "           v2      10.000000\n",
       "           mean     5.500000\n",
       "           std      6.363961\n",
       "      d3   v1       2.000000\n",
       "           v2      20.000000\n",
       "           mean    11.000000\n",
       "           std     12.727922\n",
       "w2    d1   v1       3.000000\n",
       "           v2      30.000000\n",
       "           mean    16.500000\n",
       "           std     19.091883\n",
       "      d2   v1       4.000000\n",
       "           v2      40.000000\n",
       "           mean    22.000000\n",
       "           std     25.455844\n",
       "      d3   v1       5.000000\n",
       "           v2      60.000000\n",
       "           mean    32.500000\n",
       "           std     38.890873\n",
       "dtype: float64"
      ]
     },
     "execution_count": 449,
     "metadata": {},
     "output_type": "execute_result"
    }
   ],
   "source": [
    "tDFs = test_df.stack()        # returns a pd.Series\n",
    "#type(tDFs)\n",
    "tDFs"
   ]
  },
  {
   "cell_type": "code",
   "execution_count": 450,
   "metadata": {
    "collapsed": false
   },
   "outputs": [
    {
     "data": {
      "text/plain": [
       "MultiIndex(levels=[['w1', 'w2'], ['d1', 'd2', 'd3'], ['v1', 'v2', 'mean', 'std']],\n",
       "           labels=[[0, 0, 0, 0, 0, 0, 0, 0, 1, 1, 1, 1, 1, 1, 1, 1, 1, 1, 1, 1], [0, 0, 0, 0, 2, 2, 2, 2, 0, 0, 0, 0, 1, 1, 1, 1, 2, 2, 2, 2], [0, 1, 2, 3, 0, 1, 2, 3, 0, 1, 2, 3, 0, 1, 2, 3, 0, 1, 2, 3]],\n",
       "           names=['week', 'day', None])"
      ]
     },
     "execution_count": 450,
     "metadata": {},
     "output_type": "execute_result"
    }
   ],
   "source": [
    "tDFs.index"
   ]
  },
  {
   "cell_type": "code",
   "execution_count": 492,
   "metadata": {
    "collapsed": false
   },
   "outputs": [
    {
     "data": {
      "text/plain": [
       "day      \n",
       "d1   v1       3.000000\n",
       "     v2      30.000000\n",
       "     mean    16.500000\n",
       "     std     19.091883\n",
       "d2   v1       4.000000\n",
       "     v2      40.000000\n",
       "     mean    22.000000\n",
       "     std     25.455844\n",
       "d3   v1       5.000000\n",
       "     v2      60.000000\n",
       "     mean    32.500000\n",
       "     std     38.890873\n",
       "dtype: float64"
      ]
     },
     "execution_count": 492,
     "metadata": {},
     "output_type": "execute_result"
    }
   ],
   "source": [
    "tDFs['w2']"
   ]
  },
  {
   "cell_type": "code",
   "execution_count": 493,
   "metadata": {
    "collapsed": false
   },
   "outputs": [
    {
     "data": {
      "text/plain": [
       "week      \n",
       "w1    v1       2.000000\n",
       "      v2      20.000000\n",
       "      mean    11.000000\n",
       "      std     12.727922\n",
       "w2    v1       5.000000\n",
       "      v2      60.000000\n",
       "      mean    32.500000\n",
       "      std     38.890873\n",
       "dtype: float64"
      ]
     },
     "execution_count": 493,
     "metadata": {},
     "output_type": "execute_result"
    }
   ],
   "source": [
    "tDFs[:,'d3']"
   ]
  },
  {
   "cell_type": "markdown",
   "metadata": {},
   "source": [
    "### pd.unstack()\n",
    "\n",
    "\"widens\" dataframe by spreading all but the first index across rows, addings lots of redundancy"
   ]
  },
  {
   "cell_type": "code",
   "execution_count": 452,
   "metadata": {
    "collapsed": false
   },
   "outputs": [
    {
     "data": {
      "text/html": [
       "<div>\n",
       "<style scoped>\n",
       "    .dataframe tbody tr th:only-of-type {\n",
       "        vertical-align: middle;\n",
       "    }\n",
       "\n",
       "    .dataframe tbody tr th {\n",
       "        vertical-align: top;\n",
       "    }\n",
       "\n",
       "    .dataframe thead th {\n",
       "        text-align: right;\n",
       "    }\n",
       "</style>\n",
       "<table border=\"1\" class=\"dataframe\">\n",
       "  <thead>\n",
       "    <tr style=\"text-align: right;\">\n",
       "      <th></th>\n",
       "      <th></th>\n",
       "      <th>v1</th>\n",
       "      <th>v2</th>\n",
       "      <th>mean</th>\n",
       "      <th>std</th>\n",
       "    </tr>\n",
       "    <tr>\n",
       "      <th>week</th>\n",
       "      <th>day</th>\n",
       "      <th></th>\n",
       "      <th></th>\n",
       "      <th></th>\n",
       "      <th></th>\n",
       "    </tr>\n",
       "  </thead>\n",
       "  <tbody>\n",
       "    <tr>\n",
       "      <th rowspan=\"2\" valign=\"top\">w1</th>\n",
       "      <th>d1</th>\n",
       "      <td>1</td>\n",
       "      <td>10</td>\n",
       "      <td>5.5</td>\n",
       "      <td>6.363961</td>\n",
       "    </tr>\n",
       "    <tr>\n",
       "      <th>d3</th>\n",
       "      <td>2</td>\n",
       "      <td>20</td>\n",
       "      <td>11.0</td>\n",
       "      <td>12.727922</td>\n",
       "    </tr>\n",
       "    <tr>\n",
       "      <th rowspan=\"3\" valign=\"top\">w2</th>\n",
       "      <th>d1</th>\n",
       "      <td>3</td>\n",
       "      <td>30</td>\n",
       "      <td>16.5</td>\n",
       "      <td>19.091883</td>\n",
       "    </tr>\n",
       "    <tr>\n",
       "      <th>d2</th>\n",
       "      <td>4</td>\n",
       "      <td>40</td>\n",
       "      <td>22.0</td>\n",
       "      <td>25.455844</td>\n",
       "    </tr>\n",
       "    <tr>\n",
       "      <th>d3</th>\n",
       "      <td>5</td>\n",
       "      <td>60</td>\n",
       "      <td>32.5</td>\n",
       "      <td>38.890873</td>\n",
       "    </tr>\n",
       "  </tbody>\n",
       "</table>\n",
       "</div>"
      ],
      "text/plain": [
       "          v1  v2  mean        std\n",
       "week day                         \n",
       "w1   d1    1  10   5.5   6.363961\n",
       "     d3    2  20  11.0  12.727922\n",
       "w2   d1    3  30  16.5  19.091883\n",
       "     d2    4  40  22.0  25.455844\n",
       "     d3    5  60  32.5  38.890873"
      ]
     },
     "execution_count": 452,
     "metadata": {},
     "output_type": "execute_result"
    }
   ],
   "source": [
    "test_df"
   ]
  },
  {
   "cell_type": "code",
   "execution_count": 453,
   "metadata": {
    "collapsed": false
   },
   "outputs": [
    {
     "data": {
      "text/html": [
       "<div>\n",
       "<style scoped>\n",
       "    .dataframe tbody tr th:only-of-type {\n",
       "        vertical-align: middle;\n",
       "    }\n",
       "\n",
       "    .dataframe tbody tr th {\n",
       "        vertical-align: top;\n",
       "    }\n",
       "\n",
       "    .dataframe thead tr th {\n",
       "        text-align: left;\n",
       "    }\n",
       "\n",
       "    .dataframe thead tr:last-of-type th {\n",
       "        text-align: right;\n",
       "    }\n",
       "</style>\n",
       "<table border=\"1\" class=\"dataframe\">\n",
       "  <thead>\n",
       "    <tr>\n",
       "      <th></th>\n",
       "      <th colspan=\"3\" halign=\"left\">v1</th>\n",
       "      <th colspan=\"3\" halign=\"left\">v2</th>\n",
       "      <th colspan=\"3\" halign=\"left\">mean</th>\n",
       "      <th colspan=\"3\" halign=\"left\">std</th>\n",
       "    </tr>\n",
       "    <tr>\n",
       "      <th>day</th>\n",
       "      <th>d1</th>\n",
       "      <th>d2</th>\n",
       "      <th>d3</th>\n",
       "      <th>d1</th>\n",
       "      <th>d2</th>\n",
       "      <th>d3</th>\n",
       "      <th>d1</th>\n",
       "      <th>d2</th>\n",
       "      <th>d3</th>\n",
       "      <th>d1</th>\n",
       "      <th>d2</th>\n",
       "      <th>d3</th>\n",
       "    </tr>\n",
       "    <tr>\n",
       "      <th>week</th>\n",
       "      <th></th>\n",
       "      <th></th>\n",
       "      <th></th>\n",
       "      <th></th>\n",
       "      <th></th>\n",
       "      <th></th>\n",
       "      <th></th>\n",
       "      <th></th>\n",
       "      <th></th>\n",
       "      <th></th>\n",
       "      <th></th>\n",
       "      <th></th>\n",
       "    </tr>\n",
       "  </thead>\n",
       "  <tbody>\n",
       "    <tr>\n",
       "      <th>w1</th>\n",
       "      <td>1.0</td>\n",
       "      <td>NaN</td>\n",
       "      <td>2.0</td>\n",
       "      <td>10.0</td>\n",
       "      <td>NaN</td>\n",
       "      <td>20.0</td>\n",
       "      <td>5.5</td>\n",
       "      <td>NaN</td>\n",
       "      <td>11.0</td>\n",
       "      <td>6.363961</td>\n",
       "      <td>NaN</td>\n",
       "      <td>12.727922</td>\n",
       "    </tr>\n",
       "    <tr>\n",
       "      <th>w2</th>\n",
       "      <td>3.0</td>\n",
       "      <td>4.0</td>\n",
       "      <td>5.0</td>\n",
       "      <td>30.0</td>\n",
       "      <td>40.0</td>\n",
       "      <td>60.0</td>\n",
       "      <td>16.5</td>\n",
       "      <td>22.0</td>\n",
       "      <td>32.5</td>\n",
       "      <td>19.091883</td>\n",
       "      <td>25.455844</td>\n",
       "      <td>38.890873</td>\n",
       "    </tr>\n",
       "  </tbody>\n",
       "</table>\n",
       "</div>"
      ],
      "text/plain": [
       "       v1              v2              mean                    std             \\\n",
       "day    d1   d2   d3    d1    d2    d3    d1    d2    d3         d1         d2   \n",
       "week                                                                            \n",
       "w1    1.0  NaN  2.0  10.0   NaN  20.0   5.5   NaN  11.0   6.363961        NaN   \n",
       "w2    3.0  4.0  5.0  30.0  40.0  60.0  16.5  22.0  32.5  19.091883  25.455844   \n",
       "\n",
       "                 \n",
       "day          d3  \n",
       "week             \n",
       "w1    12.727922  \n",
       "w2    38.890873  "
      ]
     },
     "execution_count": 453,
     "metadata": {},
     "output_type": "execute_result"
    }
   ],
   "source": [
    "tDFus = test_df.unstack()\n",
    "type(tDFus)\n",
    "tDFus"
   ]
  },
  {
   "cell_type": "code",
   "execution_count": 494,
   "metadata": {
    "collapsed": false
   },
   "outputs": [
    {
     "data": {
      "text/plain": [
       "      day  week\n",
       "v1    d1   w1       1.000000\n",
       "           w2       3.000000\n",
       "      d2   w1            NaN\n",
       "           w2       4.000000\n",
       "      d3   w1       2.000000\n",
       "           w2       5.000000\n",
       "v2    d1   w1      10.000000\n",
       "           w2      30.000000\n",
       "      d2   w1            NaN\n",
       "           w2      40.000000\n",
       "      d3   w1      20.000000\n",
       "           w2      60.000000\n",
       "mean  d1   w1       5.500000\n",
       "           w2      16.500000\n",
       "      d2   w1            NaN\n",
       "           w2      22.000000\n",
       "      d3   w1      11.000000\n",
       "           w2      32.500000\n",
       "std   d1   w1       6.363961\n",
       "           w2      19.091883\n",
       "      d2   w1            NaN\n",
       "           w2      25.455844\n",
       "      d3   w1      12.727922\n",
       "           w2      38.890873\n",
       "dtype: float64"
      ]
     },
     "execution_count": 494,
     "metadata": {},
     "output_type": "execute_result"
    }
   ],
   "source": [
    "# to completely flatten\n",
    "test_df.unstack().unstack()"
   ]
  },
  {
   "cell_type": "code",
   "execution_count": 495,
   "metadata": {
    "collapsed": false
   },
   "outputs": [
    {
     "data": {
      "text/plain": [
       "MultiIndex(levels=[['v1', 'v2', 'mean', 'std'], ['d1', 'd2', 'd3']],\n",
       "           labels=[[0, 0, 0, 1, 1, 1, 2, 2, 2, 3, 3, 3], [0, 1, 2, 0, 1, 2, 0, 1, 2, 0, 1, 2]],\n",
       "           names=[None, 'day'])"
      ]
     },
     "execution_count": 495,
     "metadata": {},
     "output_type": "execute_result"
    }
   ],
   "source": [
    "tDFus.columns"
   ]
  },
  {
   "cell_type": "markdown",
   "metadata": {},
   "source": [
    "can unstack into new multi-indexes"
   ]
  },
  {
   "cell_type": "code",
   "execution_count": 456,
   "metadata": {
    "collapsed": false
   },
   "outputs": [
    {
     "data": {
      "text/plain": [
       "MultiIndex(levels=[['w1', 'w2'], ['d1', 'd2', 'd3'], ['v1', 'v2', 'mean', 'std']],\n",
       "           labels=[[0, 0, 0, 0, 0, 0, 0, 0, 1, 1, 1, 1, 1, 1, 1, 1, 1, 1, 1, 1], [0, 0, 0, 0, 2, 2, 2, 2, 0, 0, 0, 0, 1, 1, 1, 1, 2, 2, 2, 2], [0, 1, 2, 3, 0, 1, 2, 3, 0, 1, 2, 3, 0, 1, 2, 3, 0, 1, 2, 3]],\n",
       "           names=['week', 'day', None])"
      ]
     },
     "execution_count": 456,
     "metadata": {},
     "output_type": "execute_result"
    }
   ],
   "source": [
    "tDFs.index"
   ]
  },
  {
   "cell_type": "code",
   "execution_count": 457,
   "metadata": {
    "collapsed": false
   },
   "outputs": [
    {
     "data": {
      "text/plain": [
       "week  day      \n",
       "w1    d1   v1       1.000000\n",
       "           v2      10.000000\n",
       "           mean     5.500000\n",
       "           std      6.363961\n",
       "      d3   v1       2.000000\n",
       "           v2      20.000000\n",
       "           mean    11.000000\n",
       "           std     12.727922\n",
       "w2    d1   v1       3.000000\n",
       "           v2      30.000000\n",
       "           mean    16.500000\n",
       "           std     19.091883\n",
       "      d2   v1       4.000000\n",
       "           v2      40.000000\n",
       "           mean    22.000000\n",
       "           std     25.455844\n",
       "      d3   v1       5.000000\n",
       "           v2      60.000000\n",
       "           mean    32.500000\n",
       "           std     38.890873\n",
       "dtype: float64"
      ]
     },
     "execution_count": 457,
     "metadata": {},
     "output_type": "execute_result"
    }
   ],
   "source": [
    "tDFs"
   ]
  },
  {
   "cell_type": "code",
   "execution_count": 458,
   "metadata": {
    "collapsed": false
   },
   "outputs": [
    {
     "data": {
      "text/html": [
       "<div>\n",
       "<style scoped>\n",
       "    .dataframe tbody tr th:only-of-type {\n",
       "        vertical-align: middle;\n",
       "    }\n",
       "\n",
       "    .dataframe tbody tr th {\n",
       "        vertical-align: top;\n",
       "    }\n",
       "\n",
       "    .dataframe thead th {\n",
       "        text-align: right;\n",
       "    }\n",
       "</style>\n",
       "<table border=\"1\" class=\"dataframe\">\n",
       "  <thead>\n",
       "    <tr style=\"text-align: right;\">\n",
       "      <th></th>\n",
       "      <th>week</th>\n",
       "      <th>w1</th>\n",
       "      <th>w2</th>\n",
       "    </tr>\n",
       "    <tr>\n",
       "      <th>day</th>\n",
       "      <th></th>\n",
       "      <th></th>\n",
       "      <th></th>\n",
       "    </tr>\n",
       "  </thead>\n",
       "  <tbody>\n",
       "    <tr>\n",
       "      <th rowspan=\"4\" valign=\"top\">d1</th>\n",
       "      <th>v1</th>\n",
       "      <td>1.000000</td>\n",
       "      <td>3.000000</td>\n",
       "    </tr>\n",
       "    <tr>\n",
       "      <th>v2</th>\n",
       "      <td>10.000000</td>\n",
       "      <td>30.000000</td>\n",
       "    </tr>\n",
       "    <tr>\n",
       "      <th>mean</th>\n",
       "      <td>5.500000</td>\n",
       "      <td>16.500000</td>\n",
       "    </tr>\n",
       "    <tr>\n",
       "      <th>std</th>\n",
       "      <td>6.363961</td>\n",
       "      <td>19.091883</td>\n",
       "    </tr>\n",
       "    <tr>\n",
       "      <th rowspan=\"4\" valign=\"top\">d2</th>\n",
       "      <th>v1</th>\n",
       "      <td>NaN</td>\n",
       "      <td>4.000000</td>\n",
       "    </tr>\n",
       "    <tr>\n",
       "      <th>v2</th>\n",
       "      <td>NaN</td>\n",
       "      <td>40.000000</td>\n",
       "    </tr>\n",
       "    <tr>\n",
       "      <th>mean</th>\n",
       "      <td>NaN</td>\n",
       "      <td>22.000000</td>\n",
       "    </tr>\n",
       "    <tr>\n",
       "      <th>std</th>\n",
       "      <td>NaN</td>\n",
       "      <td>25.455844</td>\n",
       "    </tr>\n",
       "    <tr>\n",
       "      <th rowspan=\"4\" valign=\"top\">d3</th>\n",
       "      <th>v1</th>\n",
       "      <td>2.000000</td>\n",
       "      <td>5.000000</td>\n",
       "    </tr>\n",
       "    <tr>\n",
       "      <th>v2</th>\n",
       "      <td>20.000000</td>\n",
       "      <td>60.000000</td>\n",
       "    </tr>\n",
       "    <tr>\n",
       "      <th>mean</th>\n",
       "      <td>11.000000</td>\n",
       "      <td>32.500000</td>\n",
       "    </tr>\n",
       "    <tr>\n",
       "      <th>std</th>\n",
       "      <td>12.727922</td>\n",
       "      <td>38.890873</td>\n",
       "    </tr>\n",
       "  </tbody>\n",
       "</table>\n",
       "</div>"
      ],
      "text/plain": [
       "week             w1         w2\n",
       "day                           \n",
       "d1  v1     1.000000   3.000000\n",
       "    v2    10.000000  30.000000\n",
       "    mean   5.500000  16.500000\n",
       "    std    6.363961  19.091883\n",
       "d2  v1          NaN   4.000000\n",
       "    v2          NaN  40.000000\n",
       "    mean        NaN  22.000000\n",
       "    std         NaN  25.455844\n",
       "d3  v1     2.000000   5.000000\n",
       "    v2    20.000000  60.000000\n",
       "    mean  11.000000  32.500000\n",
       "    std   12.727922  38.890873"
      ]
     },
     "execution_count": 458,
     "metadata": {},
     "output_type": "execute_result"
    }
   ],
   "source": [
    "tDFs.unstack(level='week')"
   ]
  },
  {
   "cell_type": "code",
   "execution_count": 459,
   "metadata": {
    "collapsed": false
   },
   "outputs": [
    {
     "data": {
      "text/html": [
       "<div>\n",
       "<style scoped>\n",
       "    .dataframe tbody tr th:only-of-type {\n",
       "        vertical-align: middle;\n",
       "    }\n",
       "\n",
       "    .dataframe tbody tr th {\n",
       "        vertical-align: top;\n",
       "    }\n",
       "\n",
       "    .dataframe thead tr th {\n",
       "        text-align: left;\n",
       "    }\n",
       "</style>\n",
       "<table border=\"1\" class=\"dataframe\">\n",
       "  <thead>\n",
       "    <tr>\n",
       "      <th>week</th>\n",
       "      <th colspan=\"2\" halign=\"left\">w1</th>\n",
       "      <th colspan=\"3\" halign=\"left\">w2</th>\n",
       "    </tr>\n",
       "    <tr>\n",
       "      <th>day</th>\n",
       "      <th>d1</th>\n",
       "      <th>d3</th>\n",
       "      <th>d1</th>\n",
       "      <th>d2</th>\n",
       "      <th>d3</th>\n",
       "    </tr>\n",
       "  </thead>\n",
       "  <tbody>\n",
       "    <tr>\n",
       "      <th>v1</th>\n",
       "      <td>1.000000</td>\n",
       "      <td>2.000000</td>\n",
       "      <td>3.000000</td>\n",
       "      <td>4.000000</td>\n",
       "      <td>5.000000</td>\n",
       "    </tr>\n",
       "    <tr>\n",
       "      <th>v2</th>\n",
       "      <td>10.000000</td>\n",
       "      <td>20.000000</td>\n",
       "      <td>30.000000</td>\n",
       "      <td>40.000000</td>\n",
       "      <td>60.000000</td>\n",
       "    </tr>\n",
       "    <tr>\n",
       "      <th>mean</th>\n",
       "      <td>5.500000</td>\n",
       "      <td>11.000000</td>\n",
       "      <td>16.500000</td>\n",
       "      <td>22.000000</td>\n",
       "      <td>32.500000</td>\n",
       "    </tr>\n",
       "    <tr>\n",
       "      <th>std</th>\n",
       "      <td>6.363961</td>\n",
       "      <td>12.727922</td>\n",
       "      <td>19.091883</td>\n",
       "      <td>25.455844</td>\n",
       "      <td>38.890873</td>\n",
       "    </tr>\n",
       "  </tbody>\n",
       "</table>\n",
       "</div>"
      ],
      "text/plain": [
       "week         w1                    w2                      \n",
       "day          d1         d3         d1         d2         d3\n",
       "v1     1.000000   2.000000   3.000000   4.000000   5.000000\n",
       "v2    10.000000  20.000000  30.000000  40.000000  60.000000\n",
       "mean   5.500000  11.000000  16.500000  22.000000  32.500000\n",
       "std    6.363961  12.727922  19.091883  25.455844  38.890873"
      ]
     },
     "execution_count": 459,
     "metadata": {},
     "output_type": "execute_result"
    }
   ],
   "source": [
    "tDFs.unstack(level=['week','day'])"
   ]
  },
  {
   "cell_type": "code",
   "execution_count": 460,
   "metadata": {
    "collapsed": false
   },
   "outputs": [
    {
     "data": {
      "text/html": [
       "<div>\n",
       "<style scoped>\n",
       "    .dataframe tbody tr th:only-of-type {\n",
       "        vertical-align: middle;\n",
       "    }\n",
       "\n",
       "    .dataframe tbody tr th {\n",
       "        vertical-align: top;\n",
       "    }\n",
       "\n",
       "    .dataframe thead tr th {\n",
       "        text-align: left;\n",
       "    }\n",
       "\n",
       "    .dataframe thead tr:last-of-type th {\n",
       "        text-align: right;\n",
       "    }\n",
       "</style>\n",
       "<table border=\"1\" class=\"dataframe\">\n",
       "  <thead>\n",
       "    <tr>\n",
       "      <th></th>\n",
       "      <th>v1</th>\n",
       "      <th>v2</th>\n",
       "      <th>mean</th>\n",
       "      <th>std</th>\n",
       "      <th>v1</th>\n",
       "      <th>v2</th>\n",
       "      <th>mean</th>\n",
       "      <th>std</th>\n",
       "      <th>v1</th>\n",
       "      <th>v2</th>\n",
       "      <th>mean</th>\n",
       "      <th>std</th>\n",
       "    </tr>\n",
       "    <tr>\n",
       "      <th>day</th>\n",
       "      <th>d1</th>\n",
       "      <th>d1</th>\n",
       "      <th>d1</th>\n",
       "      <th>d1</th>\n",
       "      <th>d3</th>\n",
       "      <th>d3</th>\n",
       "      <th>d3</th>\n",
       "      <th>d3</th>\n",
       "      <th>d2</th>\n",
       "      <th>d2</th>\n",
       "      <th>d2</th>\n",
       "      <th>d2</th>\n",
       "    </tr>\n",
       "    <tr>\n",
       "      <th>week</th>\n",
       "      <th></th>\n",
       "      <th></th>\n",
       "      <th></th>\n",
       "      <th></th>\n",
       "      <th></th>\n",
       "      <th></th>\n",
       "      <th></th>\n",
       "      <th></th>\n",
       "      <th></th>\n",
       "      <th></th>\n",
       "      <th></th>\n",
       "      <th></th>\n",
       "    </tr>\n",
       "  </thead>\n",
       "  <tbody>\n",
       "    <tr>\n",
       "      <th>w1</th>\n",
       "      <td>1.0</td>\n",
       "      <td>10.0</td>\n",
       "      <td>5.5</td>\n",
       "      <td>6.363961</td>\n",
       "      <td>2.0</td>\n",
       "      <td>20.0</td>\n",
       "      <td>11.0</td>\n",
       "      <td>12.727922</td>\n",
       "      <td>NaN</td>\n",
       "      <td>NaN</td>\n",
       "      <td>NaN</td>\n",
       "      <td>NaN</td>\n",
       "    </tr>\n",
       "    <tr>\n",
       "      <th>w2</th>\n",
       "      <td>3.0</td>\n",
       "      <td>30.0</td>\n",
       "      <td>16.5</td>\n",
       "      <td>19.091883</td>\n",
       "      <td>5.0</td>\n",
       "      <td>60.0</td>\n",
       "      <td>32.5</td>\n",
       "      <td>38.890873</td>\n",
       "      <td>4.0</td>\n",
       "      <td>40.0</td>\n",
       "      <td>22.0</td>\n",
       "      <td>25.455844</td>\n",
       "    </tr>\n",
       "  </tbody>\n",
       "</table>\n",
       "</div>"
      ],
      "text/plain": [
       "       v1    v2  mean        std   v1    v2  mean        std   v1    v2  mean  \\\n",
       "day    d1    d1    d1         d1   d3    d3    d3         d3   d2    d2    d2   \n",
       "week                                                                            \n",
       "w1    1.0  10.0   5.5   6.363961  2.0  20.0  11.0  12.727922  NaN   NaN   NaN   \n",
       "w2    3.0  30.0  16.5  19.091883  5.0  60.0  32.5  38.890873  4.0  40.0  22.0   \n",
       "\n",
       "            std  \n",
       "day          d2  \n",
       "week             \n",
       "w1          NaN  \n",
       "w2    25.455844  "
      ]
     },
     "execution_count": 460,
     "metadata": {},
     "output_type": "execute_result"
    }
   ],
   "source": [
    "tDFs.unstack(level=[2,'day'])"
   ]
  },
  {
   "cell_type": "code",
   "execution_count": 461,
   "metadata": {
    "collapsed": false
   },
   "outputs": [
    {
     "data": {
      "text/html": [
       "<div>\n",
       "<style scoped>\n",
       "    .dataframe tbody tr th:only-of-type {\n",
       "        vertical-align: middle;\n",
       "    }\n",
       "\n",
       "    .dataframe tbody tr th {\n",
       "        vertical-align: top;\n",
       "    }\n",
       "\n",
       "    .dataframe thead tr th {\n",
       "        text-align: left;\n",
       "    }\n",
       "\n",
       "    .dataframe thead tr:last-of-type th {\n",
       "        text-align: right;\n",
       "    }\n",
       "</style>\n",
       "<table border=\"1\" class=\"dataframe\">\n",
       "  <thead>\n",
       "    <tr>\n",
       "      <th></th>\n",
       "      <th colspan=\"3\" halign=\"left\">mean</th>\n",
       "      <th colspan=\"3\" halign=\"left\">std</th>\n",
       "    </tr>\n",
       "    <tr>\n",
       "      <th>day</th>\n",
       "      <th>d1</th>\n",
       "      <th>d3</th>\n",
       "      <th>d2</th>\n",
       "      <th>d1</th>\n",
       "      <th>d3</th>\n",
       "      <th>d2</th>\n",
       "    </tr>\n",
       "    <tr>\n",
       "      <th>week</th>\n",
       "      <th></th>\n",
       "      <th></th>\n",
       "      <th></th>\n",
       "      <th></th>\n",
       "      <th></th>\n",
       "      <th></th>\n",
       "    </tr>\n",
       "  </thead>\n",
       "  <tbody>\n",
       "    <tr>\n",
       "      <th>w1</th>\n",
       "      <td>5.5</td>\n",
       "      <td>11.0</td>\n",
       "      <td>NaN</td>\n",
       "      <td>6.363961</td>\n",
       "      <td>12.727922</td>\n",
       "      <td>NaN</td>\n",
       "    </tr>\n",
       "    <tr>\n",
       "      <th>w2</th>\n",
       "      <td>16.5</td>\n",
       "      <td>32.5</td>\n",
       "      <td>22.0</td>\n",
       "      <td>19.091883</td>\n",
       "      <td>38.890873</td>\n",
       "      <td>25.455844</td>\n",
       "    </tr>\n",
       "  </tbody>\n",
       "</table>\n",
       "</div>"
      ],
      "text/plain": [
       "      mean                    std                      \n",
       "day     d1    d3    d2         d1         d3         d2\n",
       "week                                                   \n",
       "w1     5.5  11.0   NaN   6.363961  12.727922        NaN\n",
       "w2    16.5  32.5  22.0  19.091883  38.890873  25.455844"
      ]
     },
     "execution_count": 461,
     "metadata": {},
     "output_type": "execute_result"
    }
   ],
   "source": [
    "tDFs.unstack(level=[2,'day'])[['mean','std']]"
   ]
  },
  {
   "cell_type": "code",
   "execution_count": null,
   "metadata": {
    "collapsed": true
   },
   "outputs": [],
   "source": []
  }
 ],
 "metadata": {
  "anaconda-cloud": {},
  "kernelspec": {
   "display_name": "Python 2",
   "language": "python",
   "name": "python2"
  },
  "language_info": {
   "codemirror_mode": {
    "name": "ipython",
    "version": 2
   },
   "file_extension": ".py",
   "mimetype": "text/x-python",
   "name": "python",
   "nbconvert_exporter": "python",
   "pygments_lexer": "ipython2",
   "version": "2.7.11"
  },
  "latex_envs": {
   "bibliofile": "biblio.bib",
   "cite_by": "apalike",
   "current_citInitial": 1,
   "eqLabelWithNumbers": true,
   "eqNumInitial": 0
  }
 },
 "nbformat": 4,
 "nbformat_minor": 2
}
