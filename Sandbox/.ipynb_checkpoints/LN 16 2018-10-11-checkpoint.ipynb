{
 "cells": [
  {
   "cell_type": "markdown",
   "metadata": {},
   "source": [
    "# Lecture 16 2018-10-11: Numpy\n",
    "\n",
    "Numpy arrays (4.1); functions on ndarrays (4.2); png (4.6)\n",
    "\n",
    "This worksheet accompanies the lecture notes."
   ]
  },
  {
   "cell_type": "markdown",
   "metadata": {},
   "source": [
    "## Numpy\n",
    "\n",
    "*numpy* is a package in the *scipy* suite of packages that contains specialized modules for numerical computing, that is for writing programs that use or produce larger, more complex, collections of numeric data. (Scipy is for scientific computing in general). \n",
    "\n",
    "You can do anything in basic python that you can do with numpy, but it is usually much, much harder.\n",
    "In particular, \n",
    "\n",
    "* numpy provides data objects for multi dimensional arrays, whereas python only supports one dimensional arrays (lists). \n",
    "* Numpy makes it much easier to index into arrays, and supports \"slicing\", which makes it possible to work with a part of an array independently. \n",
    "* Numpy makes it easy to perform operations, such as arithmetic, on entire arrays\n",
    "* Numpy provides a rich library for working with pseudorandom numbers\n",
    "* Numpy is *highly* optimized, whereas basic python functions can be very slow\n",
    "\n",
    "As with all packages, to access numpy you need to *import* it. The convention is to\n",
    ">import numpy as np"
   ]
  },
  {
   "cell_type": "code",
   "execution_count": 491,
   "metadata": {
    "collapsed": true
   },
   "outputs": [],
   "source": [
    "import numpy as np"
   ]
  },
  {
   "cell_type": "markdown",
   "metadata": {},
   "source": [
    "### n-dimensional arrays (np.ndarray)\n",
    "\n",
    "The basic data structure for numpy is the n-dimensional array, *np.ndarray*. \n"
   ]
  },
  {
   "cell_type": "markdown",
   "metadata": {},
   "source": [
    "#### Numpy provides several ways to create ndarrays\n",
    "\n",
    "One can cast from other data types as usual, with *np.array()* (note: *array()*, not *nparray*). \n",
    "Numpy attempts to do the \"right thing\" with casting, as is usual in Python."
   ]
  },
  {
   "cell_type": "code",
   "execution_count": 492,
   "metadata": {
    "collapsed": true
   },
   "outputs": [],
   "source": [
    "# create a 2-dimensional and a 3-dimensional array \n",
    "#(note that spacing doesn't matter so make it readable!)\n",
    "array_2d = np.array([ [1,2,3], [4,5,6] ])\n",
    "array_3d = np.array(\n",
    "    [\n",
    "        [ [1,2,3], [4,5,6] ],\n",
    "        [ [7,8,9], [10,11,12] ]\n",
    "    ]\n",
    ")"
   ]
  },
  {
   "cell_type": "code",
   "execution_count": 493,
   "metadata": {
    "collapsed": false
   },
   "outputs": [
    {
     "data": {
      "text/plain": [
       "array([list([1, 2, 3]), list([4, 5, 6]), 7], dtype=object)"
      ]
     },
     "execution_count": 493,
     "metadata": {},
     "output_type": "execute_result"
    }
   ],
   "source": [
    "# interesting error (note what's inside)\n",
    "error_array = np.array([ [1,2,3], [4,5,6], 7 ])\n",
    "error_array"
   ]
  },
  {
   "cell_type": "markdown",
   "metadata": {},
   "source": [
    "Create special arrays directly. \n",
    "Note that some provide a *shape* as a paramter--shapes are tuples."
   ]
  },
  {
   "cell_type": "code",
   "execution_count": 494,
   "metadata": {
    "collapsed": true
   },
   "outputs": [],
   "source": [
    "#np.zeros(6)\n",
    "#np.zeros((2,3))\n",
    "#np.ones((1,2,3))\n",
    "#np.zeros_like(array_3d)\n",
    "#np.ones_like(array_3d)\n",
    "#np.identity(10)\n",
    "#np.arange(36)\n",
    "#np.arange(0,1,0.01)"
   ]
  },
  {
   "cell_type": "code",
   "execution_count": 495,
   "metadata": {
    "collapsed": false
   },
   "outputs": [
    {
     "data": {
      "text/plain": [
       "array([[-1.56024652, -0.59772864, -0.02202465, -0.56502116],\n",
       "       [-0.97454806, -1.7425243 , -1.17150462, -1.23013988],\n",
       "       [ 0.29223654,  1.12072402,  0.61298384,  0.10027397],\n",
       "       [-1.11439531, -0.17389808,  0.36820554,  0.76123527]])"
      ]
     },
     "execution_count": 495,
     "metadata": {},
     "output_type": "execute_result"
    }
   ],
   "source": [
    "rand_array = np.random.randn(4,4)\n",
    "rand_array"
   ]
  },
  {
   "cell_type": "code",
   "execution_count": 496,
   "metadata": {
    "collapsed": false
   },
   "outputs": [
    {
     "data": {
      "text/plain": [
       "array([0, 1, 2, 3, 4, 5, 6, 7, 8, 9])"
      ]
     },
     "execution_count": 496,
     "metadata": {},
     "output_type": "execute_result"
    }
   ],
   "source": [
    "one_to_ten = np.arange(10)\n",
    "one_to_ten"
   ]
  },
  {
   "cell_type": "markdown",
   "metadata": {},
   "source": [
    "#### Useful metadata in an ndarray\n",
    "\n",
    "An ndarray is an object representing an array (usually of numbers) of type *ndarray* along with information about the array, such as its underlying data type, number of dimensions, and shape. \n",
    "\n",
    "object | value\n",
    ":----- | :--------\n",
    "ndim   | number of dimensions\n",
    "shape  | shape of ndarray (number of items in each dimension)\n",
    "dtype  | underlying data type\n",
    "size   | number of data items\n"
   ]
  },
  {
   "cell_type": "code",
   "execution_count": 497,
   "metadata": {
    "collapsed": true
   },
   "outputs": [],
   "source": [
    "# print, and use introspection to look inside these ndarrays (shape, dim, dtype, ...)\n"
   ]
  },
  {
   "cell_type": "code",
   "execution_count": 498,
   "metadata": {
    "collapsed": false
   },
   "outputs": [
    {
     "data": {
      "text/plain": [
       "array([list([1, 2, 3]), list([4, 5, 6]), 7], dtype=object)"
      ]
     },
     "execution_count": 498,
     "metadata": {},
     "output_type": "execute_result"
    }
   ],
   "source": [
    "# do some dumb efforts to create ndarrays that will fail\n",
    "x = np.array([[1,2,3], [4,5,6], 7])               # 1 dimensional array!\n",
    "\n",
    "#x = np.array([[1,2,3], [4,5,6], [7, 8, 'foo']])   #array of 'U21'!\n",
    "\n",
    "x   # try some introspection, too"
   ]
  },
  {
   "cell_type": "markdown",
   "metadata": {},
   "source": [
    "#### operations on ndarrays\n",
    "In general, treat the array as if it were a single mathematical object"
   ]
  },
  {
   "cell_type": "code",
   "execution_count": 499,
   "metadata": {
    "collapsed": false
   },
   "outputs": [
    {
     "name": "stdout",
     "output_type": "stream",
     "text": [
      "[[1 2 3]\n",
      " [4 5 6]]\n",
      "[[-9 -8 -7]\n",
      " [-6 -5 -4]]\n",
      "[[100 200 300]\n",
      " [400 500 600]]\n",
      "[[101 202 303]\n",
      " [404 505 606]]\n",
      "[[  1   8  27]\n",
      " [ 64 125 216]]\n",
      "[[ 1.          1.41421356  1.73205081]\n",
      " [ 2.          2.23606798  2.44948974]]\n"
     ]
    }
   ],
   "source": [
    "a, b, c = 1, 2, 3\n",
    "x = array_2d\n",
    "y = array_2d - 10\n",
    "z = array_2d * 100\n",
    "\n",
    "print(x)\n",
    "print(y)\n",
    "print(z)\n",
    "\n",
    "print(x+z)\n",
    "print(x*x*x)\n",
    "\n",
    "print(x**0.5)"
   ]
  },
  {
   "cell_type": "code",
   "execution_count": 500,
   "metadata": {
    "collapsed": false,
    "scrolled": true
   },
   "outputs": [
    {
     "name": "stdout",
     "output_type": "stream",
     "text": [
      "[[ 1.          0.5         0.33333333]\n",
      " [ 0.25        0.2         0.16666667]]\n",
      "[array([[ 1.,  1.,  1.],\n",
      "       [ 1.,  1.,  1.]]), array([[ 1.        ,  0.5       ,  0.33333333],\n",
      "       [ 0.25      ,  0.2       ,  0.16666667]]), array([[ 1.        ,  0.25      ,  0.11111111],\n",
      "       [ 0.0625    ,  0.04      ,  0.02777778]]), array([[ 1.        ,  0.125     ,  0.03703704],\n",
      "       [ 0.015625  ,  0.008     ,  0.00462963]]), array([[  1.00000000e+00,   6.25000000e-02,   1.23456790e-02],\n",
      "       [  3.90625000e-03,   1.60000000e-03,   7.71604938e-04]])]\n"
     ]
    }
   ],
   "source": [
    "inv = 1/x\n",
    "print(inv)\n",
    "print([inv**i for i in range(5)])"
   ]
  },
  {
   "cell_type": "code",
   "execution_count": 501,
   "metadata": {
    "collapsed": false
   },
   "outputs": [
    {
     "name": "stdout",
     "output_type": "stream",
     "text": [
      "[[-0.99994435 -0.56276638 -0.02202287 -0.53543369]\n",
      " [-0.82744819 -0.98529095 -0.92133658 -0.94253554]\n",
      " [ 0.28809466  0.90041565  0.5753106   0.10010601]\n",
      " [-0.89764445 -0.17302294  0.35994183  0.68981628]]\n"
     ]
    }
   ],
   "source": [
    "print(np.sin(rand_array))"
   ]
  },
  {
   "cell_type": "code",
   "execution_count": 502,
   "metadata": {
    "collapsed": false
   },
   "outputs": [
    {
     "data": {
      "text/plain": [
       "array([[ 1.        ,  1.41421356,  1.73205081],\n",
       "       [ 2.        ,  2.23606798,  2.44948974]])"
      ]
     },
     "execution_count": 502,
     "metadata": {},
     "output_type": "execute_result"
    }
   ],
   "source": [
    "np.sin(array_2d)\n",
    "np.log2(array_2d)\n",
    "np.exp(array_2d)\n",
    "np.sqrt(array_2d)"
   ]
  },
  {
   "cell_type": "markdown",
   "metadata": {},
   "source": [
    "Comparisons are element-wise"
   ]
  },
  {
   "cell_type": "code",
   "execution_count": 503,
   "metadata": {
    "collapsed": false
   },
   "outputs": [
    {
     "data": {
      "text/plain": [
       "array([[False, False, False, False],\n",
       "       [False, False, False, False],\n",
       "       [False,  True,  True, False],\n",
       "       [False, False, False,  True]], dtype=bool)"
      ]
     },
     "execution_count": 503,
     "metadata": {},
     "output_type": "execute_result"
    }
   ],
   "source": [
    "x*x == x**2\n",
    "rand_array < 0\n",
    "rand_array > 0.5"
   ]
  },
  {
   "cell_type": "code",
   "execution_count": 504,
   "metadata": {
    "collapsed": false
   },
   "outputs": [
    {
     "data": {
      "text/plain": [
       "array([-1.56024652, -0.59772864, -0.02202465, -0.56502116, -0.97454806,\n",
       "       -1.7425243 , -1.17150462, -1.23013988,  0.29223654,  0.61298384,\n",
       "        0.10027397, -1.11439531, -0.17389808,  0.36820554,  0.76123527])"
      ]
     },
     "execution_count": 504,
     "metadata": {},
     "output_type": "execute_result"
    }
   ],
   "source": [
    "rand_array[[rand_array > 0.5]]\n",
    "rand_array[[rand_array < 0.8]]"
   ]
  },
  {
   "cell_type": "markdown",
   "metadata": {},
   "source": [
    "#### Useful ndarray methods\n",
    "\n",
    "method | meaning\n",
    ":----- | :------\n",
    "reshape(dim) | reshape to dimension *dim* (a tuple)\n",
    "T      | tranpose the matrix"
   ]
  },
  {
   "cell_type": "code",
   "execution_count": 505,
   "metadata": {
    "collapsed": false
   },
   "outputs": [
    {
     "name": "stdout",
     "output_type": "stream",
     "text": [
      "[ 0  1  2  3  4  5  6  7  8  9 10 11]\n",
      "[[ 0  1  2]\n",
      " [ 3  4  5]\n",
      " [ 6  7  8]\n",
      " [ 9 10 11]]\n",
      "[[ 0  3  6  9]\n",
      " [ 1  4  7 10]\n",
      " [ 2  5  8 11]]\n"
     ]
    }
   ],
   "source": [
    "x = np.arange(12)\n",
    "print(x)\n",
    "\n",
    "x = x.reshape((4,3))\n",
    "print(x)\n",
    "\n",
    "y = x.T\n",
    "print(y)"
   ]
  },
  {
   "cell_type": "markdown",
   "metadata": {},
   "source": [
    "#### Indexing\n",
    "\n",
    "Indexing and slicing as in base python works, but they are enhanced for ndarrays.\n",
    "\n",
    "Each dimension can be indexed separately, separated by commas. (see page 99, Fig 4.2)"
   ]
  },
  {
   "cell_type": "code",
   "execution_count": 506,
   "metadata": {
    "collapsed": false
   },
   "outputs": [
    {
     "name": "stdout",
     "output_type": "stream",
     "text": [
      "[[[ 1  2  3]\n",
      "  [ 4  5  6]]\n",
      "\n",
      " [[ 7  8  9]\n",
      "  [10 11 12]]]\n"
     ]
    },
    {
     "data": {
      "text/plain": [
       "array([[1, 2, 3]])"
      ]
     },
     "execution_count": 506,
     "metadata": {},
     "output_type": "execute_result"
    }
   ],
   "source": [
    "print(array_3d)\n",
    "array_3d[1]\n",
    "array_3d[1][0]\n",
    "array_3d[1,0]\n",
    "array_3d[0:1]\n",
    "array_3d[0:1,0]"
   ]
  },
  {
   "cell_type": "markdown",
   "metadata": {},
   "source": [
    "boolean indexes can be very useful"
   ]
  },
  {
   "cell_type": "code",
   "execution_count": 507,
   "metadata": {
    "collapsed": false
   },
   "outputs": [
    {
     "name": "stdout",
     "output_type": "stream",
     "text": [
      "[[-0.68107012  0.00376108  0.23117585  0.34313879]\n",
      " [ 0.01884368 -0.60506344 -1.04707178 -2.32657899]\n",
      " [ 1.70460783 -0.23060312 -0.07261914 -1.1944307 ]\n",
      " [ 1.08620275  0.61128764  1.59172342  0.23872217]]\n",
      "[[ True False False False]\n",
      " [False  True  True  True]\n",
      " [False  True  True  True]\n",
      " [False False False False]]\n",
      "[-0.68107012 -0.60506344 -1.04707178 -2.32657899 -0.23060312 -0.07261914\n",
      " -1.1944307 ]\n",
      "[[ 0.          0.00376108  0.23117585  0.34313879]\n",
      " [ 0.01884368  0.          0.          0.        ]\n",
      " [        nan  0.          0.          0.        ]\n",
      " [        nan  0.61128764         nan  0.23872217]]\n"
     ]
    }
   ],
   "source": [
    "rand_array = np.random.randn(4,4)\n",
    "\n",
    "print(rand_array)\n",
    "print(rand_array<0)\n",
    "\n",
    "ra_nz = rand_array[rand_array<0]\n",
    "print(ra_nz)\n",
    "\n",
    "rand_array[rand_array<0] = 0\n",
    "rand_array[rand_array>1] = None\n",
    "\n",
    "print(rand_array)"
   ]
  },
  {
   "cell_type": "markdown",
   "metadata": {},
   "source": [
    "#### Slices\n",
    "A  slice is a window into the original object defined by the slice. That is, it is a *reference*. Changing it changes the original object. "
   ]
  },
  {
   "cell_type": "code",
   "execution_count": 508,
   "metadata": {
    "collapsed": false
   },
   "outputs": [
    {
     "data": {
      "text/plain": [
       "array([2, 3, 4, 5])"
      ]
     },
     "execution_count": 508,
     "metadata": {},
     "output_type": "execute_result"
    }
   ],
   "source": [
    "middle_slice = one_to_ten[2:6]\n",
    "middle_slice"
   ]
  },
  {
   "cell_type": "code",
   "execution_count": 509,
   "metadata": {
    "collapsed": false
   },
   "outputs": [
    {
     "data": {
      "text/plain": [
       "array([  0,   1, 999,   3,   4,   5,   6,   7,   8,   9])"
      ]
     },
     "execution_count": 509,
     "metadata": {},
     "output_type": "execute_result"
    }
   ],
   "source": [
    "middle_slice[0] = 999\n",
    "one_to_ten"
   ]
  },
  {
   "cell_type": "code",
   "execution_count": 510,
   "metadata": {
    "collapsed": false
   },
   "outputs": [
    {
     "data": {
      "text/plain": [
       "array([  0,   1, 666, 666, 666, 666,   6,   7,   8,   9])"
      ]
     },
     "execution_count": 510,
     "metadata": {},
     "output_type": "execute_result"
    }
   ],
   "source": [
    "middle_slice[:] = 666\n",
    "one_to_ten"
   ]
  },
  {
   "cell_type": "markdown",
   "metadata": {},
   "source": [
    "#### Fancy indexing\n",
    "\n",
    "If you use an list as an index, the elements of the list act like individual indexes on that dimension. This is relatively esoteric. Don't worry if you don't get it."
   ]
  },
  {
   "cell_type": "code",
   "execution_count": 511,
   "metadata": {
    "collapsed": false
   },
   "outputs": [
    {
     "name": "stdout",
     "output_type": "stream",
     "text": [
      "[[1 2 3]\n",
      " [4 5 6]]\n"
     ]
    },
    {
     "data": {
      "text/plain": [
       "array([3, 1])"
      ]
     },
     "execution_count": 511,
     "metadata": {},
     "output_type": "execute_result"
    }
   ],
   "source": [
    "print(array_2d)\n",
    "array_2d[0,[2,0]]"
   ]
  },
  {
   "cell_type": "markdown",
   "metadata": {},
   "source": [
    "## Math and stat methods and objects in numpy\n",
    "\n",
    "### Objects\n",
    "\n",
    "name | value\n",
    ":--- | :-----\n",
    "pi   | pi\n",
    "e    | e"
   ]
  },
  {
   "cell_type": "code",
   "execution_count": 512,
   "metadata": {
    "collapsed": true
   },
   "outputs": [],
   "source": [
    "rand_array = np.random.randn(4,4)"
   ]
  },
  {
   "cell_type": "code",
   "execution_count": 513,
   "metadata": {
    "collapsed": false
   },
   "outputs": [
    {
     "data": {
      "text/plain": [
       "2.718281828459045"
      ]
     },
     "execution_count": 513,
     "metadata": {},
     "output_type": "execute_result"
    }
   ],
   "source": [
    "np.pi\n",
    "np.e"
   ]
  },
  {
   "cell_type": "markdown",
   "metadata": {},
   "source": [
    "### methods"
   ]
  },
  {
   "cell_type": "markdown",
   "metadata": {},
   "source": [
    "#### (pseudo) randomly generated numbers\n",
    "\n",
    "name | value\n",
    ":--- | :----\n",
    "randn(shape) | normally distributed random variables"
   ]
  },
  {
   "cell_type": "code",
   "execution_count": 514,
   "metadata": {
    "collapsed": false
   },
   "outputs": [
    {
     "name": "stdout",
     "output_type": "stream",
     "text": [
      "[[ 0.18604793  0.61453522 -0.19618699  0.80899124]\n",
      " [-1.02775987 -1.17390862  1.12394355 -0.61862023]\n",
      " [ 2.00295278  0.03343106  0.02193409  0.76530131]\n",
      " [ 0.50132854  1.8274901   0.50860833 -0.90940125]]\n"
     ]
    }
   ],
   "source": [
    "rand_array = np.random.randn(4,4) # normally distributed\n",
    "print(rand_array)"
   ]
  },
  {
   "cell_type": "code",
   "execution_count": 515,
   "metadata": {
    "collapsed": false
   },
   "outputs": [
    {
     "name": "stdout",
     "output_type": "stream",
     "text": [
      "insight check. you win? True\n"
     ]
    }
   ],
   "source": [
    "print('insight check. you win? {}'.format(\n",
    "    np.random.randint(20) < np.random.randint(20)) \n",
    "    )"
   ]
  },
  {
   "cell_type": "code",
   "execution_count": 516,
   "metadata": {
    "collapsed": false
   },
   "outputs": [
    {
     "data": {
      "text/plain": [
       "array([ 0.66310851,  0.29871465,  0.50822108,  0.71837023,  0.83809826,\n",
       "        0.61054612,  0.64366922,  0.05628116,  0.53648535,  0.55325656])"
      ]
     },
     "execution_count": 516,
     "metadata": {},
     "output_type": "execute_result"
    }
   ],
   "source": [
    "np.random.random(10) # uniform distribution on [0,1]"
   ]
  },
  {
   "cell_type": "markdown",
   "metadata": {},
   "source": [
    "#### Other methods\n",
    "\n",
    "name | value\n",
    ":--- | :----\n",
    "sum  | total of entries in the ndarray\n",
    "mean | mean of entries in ndarray\n",
    "std  | standard devisation of entries in the ndarray\n",
    "cumsum | cumulative sum of entries in the ndarray\n",
    "sort | sort the ndarray\n",
    "argmax | the index of the maximum item in the ndarray\n",
    "argmin | the index of the minimum item in the ndarray\n",
    "\n",
    "Many of these can work over different axes. Think of *axis=0* as working on rows, and *axis=1* as working on columns. (I find that thinking of \"x axis\" and \"y axis\" is misleading."
   ]
  },
  {
   "cell_type": "code",
   "execution_count": 517,
   "metadata": {
    "collapsed": false
   },
   "outputs": [
    {
     "name": "stdout",
     "output_type": "stream",
     "text": [
      "[[0 1]\n",
      " [2 3]\n",
      " [4 5]]\n"
     ]
    }
   ],
   "source": [
    "seq_array = np.arange(6).reshape((3,2))\n",
    "print(seq_array)"
   ]
  },
  {
   "cell_type": "code",
   "execution_count": 518,
   "metadata": {
    "collapsed": false
   },
   "outputs": [
    {
     "name": "stdout",
     "output_type": "stream",
     "text": [
      "15\n",
      "[6 9]\n",
      "[1 5 9]\n"
     ]
    }
   ],
   "source": [
    "print(seq_array.sum())\n",
    "print(seq_array.sum(axis=0))\n",
    "print(seq_array.sum(axis=1))"
   ]
  },
  {
   "cell_type": "code",
   "execution_count": 519,
   "metadata": {
    "collapsed": false
   },
   "outputs": [
    {
     "data": {
      "text/plain": [
       "array([[0, 1],\n",
       "       [2, 3],\n",
       "       [4, 5]])"
      ]
     },
     "execution_count": 519,
     "metadata": {},
     "output_type": "execute_result"
    }
   ],
   "source": [
    "seq_array"
   ]
  },
  {
   "cell_type": "code",
   "execution_count": 520,
   "metadata": {
    "collapsed": false
   },
   "outputs": [
    {
     "name": "stdout",
     "output_type": "stream",
     "text": [
      "Random array: [[ 0.18604793  0.61453522 -0.19618699  0.80899124]\n",
      " [-1.02775987 -1.17390862  1.12394355 -0.61862023]\n",
      " [ 2.00295278  0.03343106  0.02193409  0.76530131]\n",
      " [ 0.50132854  1.8274901   0.50860833 -0.90940125]]\n",
      "\n",
      "means in total: 0.27929294932531423\n",
      "std in total: 0.9087522587954405\n",
      "\n",
      "means moving across rows: [ 0.41564235  0.32538694  0.36457475  0.01156777]\n",
      "std moving across rows: [ 1.07970136  1.08086146  0.50725807  0.78251506]\n",
      "\n",
      "means moving across columns: [ 0.35334685 -0.42408629  0.70590481  0.48200643]\n",
      "std moving across columns: [ 0.3891682   0.91663722  0.80713974  0.96791304]\n"
     ]
    }
   ],
   "source": [
    "print('Random array: {}\\n'.format(rand_array))\n",
    "print('means in total: {}'.format(rand_array.mean()))\n",
    "print('std in total: {}\\n'.format(rand_array.std()))\n",
    "print('means moving across rows: {}'.format(rand_array.mean(axis=0)))\n",
    "print('std moving across rows: {}\\n'.format(rand_array.std(axis=0)))\n",
    "print('means moving across columns: {}'.format(rand_array.mean(axis=1)))\n",
    "print('std moving across columns: {}'.format(rand_array.std(axis=1)))"
   ]
  },
  {
   "cell_type": "code",
   "execution_count": 521,
   "metadata": {
    "collapsed": false,
    "scrolled": true
   },
   "outputs": [
    {
     "name": "stdout",
     "output_type": "stream",
     "text": [
      "[[ 0.06627136  0.34160235  0.09035751]\n",
      " [ 0.03326319  0.88414258  0.06780308]]\n",
      "\n",
      "cumulative\n",
      "[ 0.06627136  0.4078737   0.49823121  0.53149441  1.41563699  1.48344007]\n",
      "\n",
      "cumulative over rows\n",
      "[[ 0.06627136  0.34160235  0.09035751]\n",
      " [ 0.09953455  1.22574493  0.15816059]]\n",
      "\n",
      "cumulative over columns\n",
      "[[ 0.06627136  0.4078737   0.49823121]\n",
      " [ 0.03326319  0.91740577  0.98520886]]\n"
     ]
    }
   ],
   "source": [
    "rand_array = np.random.rand(2,3)\n",
    "print(rand_array); print()\n",
    "print('cumulative\\n{}\\n'.format(rand_array.cumsum()))\n",
    "print('cumulative over rows\\n{}\\n'.format(rand_array.cumsum(axis=0)))\n",
    "print('cumulative over columns\\n{}'.format(rand_array.cumsum(axis=1)))"
   ]
  },
  {
   "cell_type": "code",
   "execution_count": 522,
   "metadata": {
    "collapsed": false
   },
   "outputs": [
    {
     "name": "stdout",
     "output_type": "stream",
     "text": [
      "Random list:\n",
      "[-0.45061345 -1.63416836  0.46480536 -1.05501004 -0.3304233   0.39699815\n",
      " -0.28943476  0.46709551  0.26860396  0.77370137]\n",
      "\n",
      "max in [-0.45061345 -1.63416836  0.46480536 -1.05501004 -0.3304233   0.39699815\n",
      " -0.28943476  0.46709551  0.26860396  0.77370137]\n",
      "\tis at index 9\n",
      "\tvalue 0.7737013701897275\n"
     ]
    }
   ],
   "source": [
    "rand_list = np.random.randn(10)\n",
    "print('Random list:\\n{}\\n'.format(rand_list))\n",
    "#print(rand_list.argmax())\n",
    "#print(rand_list.argmin())\n",
    "\n",
    "print('max in {}\\n\\tis at index {}\\n\\tvalue {}'.format(rand_list, \n",
    "                                                  rand_list.argmax(),\n",
    "                                                  rand_list[rand_list.argmax()]\n",
    "                                                 )                                                           \n",
    "     )"
   ]
  },
  {
   "cell_type": "code",
   "execution_count": null,
   "metadata": {
    "collapsed": true
   },
   "outputs": [],
   "source": []
  }
 ],
 "metadata": {
  "anaconda-cloud": {},
  "kernelspec": {
   "display_name": "Python 2",
   "language": "python",
   "name": "python2"
  },
  "language_info": {
   "codemirror_mode": {
    "name": "ipython",
    "version": 2
   },
   "file_extension": ".py",
   "mimetype": "text/x-python",
   "name": "python",
   "nbconvert_exporter": "python",
   "pygments_lexer": "ipython2",
   "version": "2.7.11"
  },
  "latex_envs": {
   "bibliofile": "biblio.bib",
   "cite_by": "apalike",
   "current_citInitial": 1,
   "eqLabelWithNumbers": true,
   "eqNumInitial": 0
  }
 },
 "nbformat": 4,
 "nbformat_minor": 2
}
