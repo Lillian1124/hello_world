{
 "cells": [
  {
   "cell_type": "markdown",
   "metadata": {},
   "source": [
    "# Lecture 15 2018-10-09: Comprehension, design, testing, hardening, efficiency\n",
    "\n",
    "From specs to deliverables: development; debugging; hardening; making efficient\n",
    "\n",
    "This worksheet accompanies the lecture notes."
   ]
  },
  {
   "cell_type": "markdown",
   "metadata": {},
   "source": [
    "## Comprehension\n",
    "\n",
    "Let's do some comprehension practice. \n"
   ]
  },
  {
   "cell_type": "markdown",
   "metadata": {
    "heading_collapsed": true
   },
   "source": [
    "### Squares\n",
    "\n",
    "Write two code chunks, one with a for loop and one with comprehension, to return a list of the first n squares then convert them to functions. Which of the four is better?"
   ]
  },
  {
   "cell_type": "markdown",
   "metadata": {
    "hidden": true
   },
   "source": [
    "#### Write the code"
   ]
  },
  {
   "cell_type": "code",
   "execution_count": 1,
   "metadata": {
    "collapsed": false,
    "hidden": true
   },
   "outputs": [
    {
     "name": "stdout",
     "output_type": "stream",
     "text": [
      "[0, 2, 4, 6, 8]\n"
     ]
    }
   ],
   "source": [
    "# squares in a loop want : [0,2,3,4....2n]\n",
    "mylist = []\n",
    "n = 10\n",
    "for i in range(n):\n",
    "    if i % 2 ==0:\n",
    "        mylist.append(i)\n",
    "print mylist"
   ]
  },
  {
   "cell_type": "code",
   "execution_count": 2,
   "metadata": {
    "collapsed": false
   },
   "outputs": [
    {
     "data": {
      "text/plain": [
       "[0, 2, 4, 6, 8, 10, 12, 14, 16, 18]"
      ]
     },
     "execution_count": 2,
     "metadata": {},
     "output_type": "execute_result"
    }
   ],
   "source": [
    "[2*i for i in range(n)]"
   ]
  },
  {
   "cell_type": "code",
   "execution_count": 4,
   "metadata": {
    "collapsed": false
   },
   "outputs": [
    {
     "data": {
      "text/plain": [
       "[0, 2, 4, 6, 8]"
      ]
     },
     "execution_count": 4,
     "metadata": {},
     "output_type": "execute_result"
    }
   ],
   "source": [
    "[i for i in range(n) if i%2 ==0]"
   ]
  },
  {
   "cell_type": "code",
   "execution_count": 5,
   "metadata": {
    "collapsed": false,
    "hidden": true
   },
   "outputs": [
    {
     "data": {
      "text/plain": [
       "[0, 1, 4, 9, 16, 25, 36, 49, 64, 81]"
      ]
     },
     "execution_count": 5,
     "metadata": {},
     "output_type": "execute_result"
    }
   ],
   "source": [
    "# squares in comprehension\n",
    "[i*i for i in range(n)]"
   ]
  },
  {
   "cell_type": "code",
   "execution_count": 3,
   "metadata": {
    "collapsed": true,
    "hidden": true
   },
   "outputs": [],
   "source": [
    "# square loop function"
   ]
  },
  {
   "cell_type": "code",
   "execution_count": 4,
   "metadata": {
    "collapsed": true,
    "hidden": true
   },
   "outputs": [],
   "source": [
    "# square comprehension function"
   ]
  },
  {
   "cell_type": "markdown",
   "metadata": {
    "hidden": true
   },
   "source": [
    "#### Answers and more"
   ]
  },
  {
   "cell_type": "code",
   "execution_count": 5,
   "metadata": {
    "collapsed": true,
    "hidden": true
   },
   "outputs": [],
   "source": [
    "n=100"
   ]
  },
  {
   "cell_type": "code",
   "execution_count": 6,
   "metadata": {
    "collapsed": true,
    "hidden": true
   },
   "outputs": [],
   "source": [
    "# squares in a loop\n",
    "return_value = []\n",
    "for i in range(n):\n",
    "    return_value.append((i+1)**2)\n",
    "x_1 = return_value"
   ]
  },
  {
   "cell_type": "code",
   "execution_count": 7,
   "metadata": {
    "collapsed": true,
    "hidden": true
   },
   "outputs": [],
   "source": [
    "# squares in comprehension\n",
    "x_2 = [(x+1)**2 for x in (list(range(n)))]"
   ]
  },
  {
   "cell_type": "code",
   "execution_count": 8,
   "metadata": {
    "collapsed": true,
    "hidden": true
   },
   "outputs": [],
   "source": [
    "# square loop function"
   ]
  },
  {
   "cell_type": "code",
   "execution_count": 9,
   "metadata": {
    "collapsed": true,
    "hidden": true
   },
   "outputs": [],
   "source": [
    "def squares(n):\n",
    "    return_value = []\n",
    "    for i in range(n):\n",
    "        return_value.append((i+1)**2)\n",
    "    return return_value"
   ]
  },
  {
   "cell_type": "code",
   "execution_count": 10,
   "metadata": {
    "collapsed": true,
    "hidden": true
   },
   "outputs": [],
   "source": [
    "# square comprehension function"
   ]
  },
  {
   "cell_type": "code",
   "execution_count": 11,
   "metadata": {
    "collapsed": true,
    "hidden": true
   },
   "outputs": [],
   "source": [
    "def c_squares(n):\n",
    "    return [(x+1)**2 for x in (list(range(n)))]"
   ]
  },
  {
   "cell_type": "code",
   "execution_count": 12,
   "metadata": {
    "collapsed": true,
    "hidden": true
   },
   "outputs": [],
   "source": [
    "#### Efficiency"
   ]
  },
  {
   "cell_type": "code",
   "execution_count": 13,
   "metadata": {
    "collapsed": false,
    "hidden": true
   },
   "outputs": [
    {
     "name": "stdout",
     "output_type": "stream",
     "text": [
      "37.2 µs ± 695 ns per loop (mean ± std. dev. of 7 runs, 10000 loops each)\n"
     ]
    }
   ],
   "source": [
    "%timeit squares(n)"
   ]
  },
  {
   "cell_type": "code",
   "execution_count": 14,
   "metadata": {
    "collapsed": false,
    "hidden": true
   },
   "outputs": [
    {
     "name": "stdout",
     "output_type": "stream",
     "text": [
      "32.3 µs ± 1.04 µs per loop (mean ± std. dev. of 7 runs, 10000 loops each)\n"
     ]
    }
   ],
   "source": [
    "%timeit c_squares(n)"
   ]
  },
  {
   "cell_type": "code",
   "execution_count": 15,
   "metadata": {
    "collapsed": false,
    "hidden": true
   },
   "outputs": [
    {
     "name": "stdout",
     "output_type": "stream",
     "text": [
      "32.9 µs ± 592 ns per loop (mean ± std. dev. of 7 runs, 10000 loops each)\n"
     ]
    }
   ],
   "source": [
    "%timeit [(x+1)**2 for x in list(range(n))]"
   ]
  },
  {
   "cell_type": "code",
   "execution_count": 16,
   "metadata": {
    "collapsed": false,
    "hidden": true
   },
   "outputs": [
    {
     "name": "stdout",
     "output_type": "stream",
     "text": [
      "38.9 µs ± 1.51 µs per loop (mean ± std. dev. of 7 runs, 10000 loops each)\n"
     ]
    }
   ],
   "source": [
    "%timeit parm_list =[x for x in list(range(n))]; [x**2 for x in parm_list]"
   ]
  },
  {
   "cell_type": "markdown",
   "metadata": {
    "heading_collapsed": true
   },
   "source": [
    "### codons in a string\n",
    "\n",
    "given string *dna*, the codons are all substrings between indexes i and i+3 where i is a multiple of three."
   ]
  },
  {
   "cell_type": "code",
   "execution_count": 17,
   "metadata": {
    "collapsed": true,
    "hidden": true
   },
   "outputs": [],
   "source": [
    "dna = 'accgttggcaaaaaaggtc'\n",
    "dna = dna.upper()"
   ]
  },
  {
   "cell_type": "markdown",
   "metadata": {
    "hidden": true
   },
   "source": [
    "#### Write the code"
   ]
  },
  {
   "cell_type": "code",
   "execution_count": null,
   "metadata": {
    "collapsed": true,
    "hidden": true
   },
   "outputs": [],
   "source": []
  },
  {
   "cell_type": "markdown",
   "metadata": {
    "hidden": true
   },
   "source": [
    "#### Answers"
   ]
  },
  {
   "cell_type": "code",
   "execution_count": 18,
   "metadata": {
    "collapsed": false,
    "hidden": true
   },
   "outputs": [
    {
     "data": {
      "text/plain": [
       "['ACC', 'GTT', 'GGC', 'AAA', 'AAA', 'GGT']"
      ]
     },
     "execution_count": 18,
     "metadata": {},
     "output_type": "execute_result"
    }
   ],
   "source": [
    "[dna[i:i+3] for i in range(len(dna)-2) if i%3 == 0]"
   ]
  },
  {
   "cell_type": "markdown",
   "metadata": {
    "heading_collapsed": true
   },
   "source": [
    "### Translation of a string\n",
    "get the codons, then look up their proteins"
   ]
  },
  {
   "cell_type": "code",
   "execution_count": 19,
   "metadata": {
    "collapsed": true,
    "hidden": true
   },
   "outputs": [],
   "source": [
    "codons = ['TAG', 'CCT', 'TAT', 'CTT', 'CAG', 'GTA', \n",
    "          'GGT', 'ATT', 'TGT', 'ACC', 'GTC', 'CGT', \n",
    "          'AGG', 'GCA', 'TTG', 'AAG', 'AGT', 'CCC', \n",
    "          'ACG', 'GGC', 'TCG', 'AAC', 'GAC', 'GAT', \n",
    "          'ATA', 'TCC', 'TAC', 'GTT', 'ACA', 'ATC', \n",
    "          'CCA', 'CTG', 'GAA', 'TCA', 'CGG', 'AGC', \n",
    "          'CAA', 'CAC', 'GCC', 'TGC', 'CGC', 'TTA', \n",
    "          'GTG', 'ATG', 'CTC', 'ACT', 'TTT', 'GCT', \n",
    "          'CAT', 'TCT', 'AAA', 'TAA', 'GCG', 'CCG', \n",
    "          'GAG', 'GGA', 'TGA', 'GGG', 'TTC', 'TGG', \n",
    "          'AAT', 'AGA', 'CTA', 'CGA']\n",
    "amino_acids = ['_', 'P', 'Y', 'L', 'Q', 'V', 'G', 'I', 'C', \n",
    "               'T', 'V', 'R', 'R', 'A', 'L', 'K', 'S', 'P', \n",
    "               'T', 'G', 'S', 'N', 'D', 'D', 'I', 'S', 'Y', \n",
    "               'V', 'T', 'I', 'P', 'L', 'E', 'S', 'R', 'S', \n",
    "               'Q', 'H', 'A', 'C', 'R', 'L', 'V', 'M', 'L', \n",
    "               'T', 'F', 'A', 'H', 'S', 'K', '_', 'A', 'P', \n",
    "               'E', 'G', '_', 'G', 'F', 'W', 'N', 'R', 'L', 'R']\n",
    "\n",
    "codon_translation = dict(zip(codons, amino_acids))  # complete this function"
   ]
  },
  {
   "cell_type": "markdown",
   "metadata": {
    "hidden": true
   },
   "source": [
    "#### Write the code"
   ]
  },
  {
   "cell_type": "code",
   "execution_count": 20,
   "metadata": {
    "collapsed": false,
    "hidden": true
   },
   "outputs": [
    {
     "data": {
      "text/plain": [
       "['T', 'V', 'G', 'K', 'K', 'G']"
      ]
     },
     "execution_count": 20,
     "metadata": {},
     "output_type": "execute_result"
    }
   ],
   "source": [
    "[codon_translation[c] for c in \n",
    "     [dna[i:i+3] for i in \n",
    "          range(len(dna)-2) \n",
    "          if i%3 == 0\n",
    "     ]\n",
    "]"
   ]
  },
  {
   "cell_type": "markdown",
   "metadata": {
    "hidden": true
   },
   "source": [
    "#### Answers"
   ]
  },
  {
   "cell_type": "code",
   "execution_count": null,
   "metadata": {
    "collapsed": true,
    "hidden": true
   },
   "outputs": [],
   "source": []
  },
  {
   "cell_type": "markdown",
   "metadata": {
    "heading_collapsed": true
   },
   "source": [
    "### Compute code degeneracy\n",
    "\n",
    "Figure out how many codons encode the same amino acid. We want a dict \n",
    ">{ amino_acid : [codon1, ...], ... }"
   ]
  },
  {
   "cell_type": "markdown",
   "metadata": {
    "hidden": true
   },
   "source": [
    "#### Write the code"
   ]
  },
  {
   "cell_type": "code",
   "execution_count": null,
   "metadata": {
    "collapsed": true,
    "hidden": true
   },
   "outputs": [],
   "source": []
  },
  {
   "cell_type": "markdown",
   "metadata": {
    "hidden": true
   },
   "source": [
    "#### Answers"
   ]
  },
  {
   "cell_type": "code",
   "execution_count": 21,
   "metadata": {
    "collapsed": false,
    "hidden": true
   },
   "outputs": [
    {
     "name": "stdout",
     "output_type": "stream",
     "text": [
      "{'H': ['CAT', 'CAC'], 'D': ['GAC', 'GAT'], 'R': ['AGA', 'CGG', 'AGG', 'CGA', 'CGC', 'CGT'], 'M': ['ATG'], 'T': ['ACT', 'ACC', 'ACG', 'ACA'], 'L': ['CTT', 'CTA', 'TTG', 'CTC', 'CTG', 'TTA'], 'E': ['GAA', 'GAG'], 'F': ['TTT', 'TTC'], 'K': ['AAG', 'AAA'], 'Y': ['TAC', 'TAT'], '_': ['TAA', 'TAG', 'TGA'], 'Q': ['CAG', 'CAA'], 'G': ['GGG', 'GGC', 'GGT', 'GGA'], 'C': ['TGT', 'TGC'], 'W': ['TGG'], 'N': ['AAC', 'AAT'], 'P': ['CCT', 'CCA', 'CCC', 'CCG'], 'I': ['ATT', 'ATC', 'ATA'], 'V': ['GTC', 'GTT', 'GTA', 'GTG'], 'S': ['TCA', 'AGC', 'AGT', 'TCT', 'TCG', 'TCC'], 'A': ['GCT', 'GCC', 'GCG', 'GCA']}\n"
     ]
    }
   ],
   "source": [
    "reverse = {}\n",
    "# want reverse[aa] = [c1, c2,...]\n",
    "for codon, aa in codon_translation.items():\n",
    "    reverse[aa] = reverse.get(aa,[])\n",
    "    reverse[aa].append(codon)\n",
    "\n",
    "print(reverse)"
   ]
  },
  {
   "cell_type": "markdown",
   "metadata": {
    "heading_collapsed": true
   },
   "source": [
    "### Count codons"
   ]
  },
  {
   "cell_type": "markdown",
   "metadata": {
    "hidden": true
   },
   "source": [
    "#### Write the code"
   ]
  },
  {
   "cell_type": "code",
   "execution_count": null,
   "metadata": {
    "collapsed": true,
    "hidden": true
   },
   "outputs": [],
   "source": []
  },
  {
   "cell_type": "markdown",
   "metadata": {
    "hidden": true
   },
   "source": [
    "#### Answers"
   ]
  },
  {
   "cell_type": "code",
   "execution_count": 22,
   "metadata": {
    "collapsed": false,
    "hidden": true
   },
   "outputs": [
    {
     "data": {
      "text/plain": [
       "[('ACC', 1), ('GTT', 1), ('GGC', 1), ('AAA', 2), ('AAA', 2), ('GGT', 1)]"
      ]
     },
     "execution_count": 22,
     "metadata": {},
     "output_type": "execute_result"
    }
   ],
   "source": [
    "[(codon,dna.count(codon))for codon in \n",
    "    [dna[i:i+3] for i in \n",
    "        range(len(dna)-2) \n",
    "            if i%3 == 0\n",
    "    ]\n",
    "]"
   ]
  },
  {
   "cell_type": "markdown",
   "metadata": {
    "heading_collapsed": true
   },
   "source": [
    "### Count codes\n",
    "Count the number of times each code appears. \n",
    "\n",
    "Get percent ambiguity and GC content from this."
   ]
  },
  {
   "cell_type": "code",
   "execution_count": 23,
   "metadata": {
    "collapsed": true,
    "hidden": true
   },
   "outputs": [],
   "source": [
    "nucleotides = {'A', 'C', 'G', 'T'}\n",
    "dna = 'aayy?cccgtnnyymngg'.upper()"
   ]
  },
  {
   "cell_type": "markdown",
   "metadata": {
    "hidden": true
   },
   "source": [
    "#### Write the code"
   ]
  },
  {
   "cell_type": "code",
   "execution_count": null,
   "metadata": {
    "collapsed": true,
    "hidden": true
   },
   "outputs": [],
   "source": []
  },
  {
   "cell_type": "markdown",
   "metadata": {
    "hidden": true
   },
   "source": [
    "#### Answers"
   ]
  },
  {
   "cell_type": "code",
   "execution_count": 24,
   "metadata": {
    "collapsed": false,
    "hidden": true
   },
   "outputs": [
    {
     "data": {
      "text/plain": [
       "{'?': 1, 'A': 2, 'C': 3, 'G': 3, 'M': 1, 'N': 3, 'T': 1, 'Y': 4}"
      ]
     },
     "execution_count": 24,
     "metadata": {},
     "output_type": "execute_result"
    }
   ],
   "source": [
    "counts = { code: dna.count(code) for code in dna}\n",
    "counts"
   ]
  },
  {
   "cell_type": "code",
   "execution_count": 25,
   "metadata": {
    "collapsed": false,
    "hidden": true
   },
   "outputs": [
    {
     "data": {
      "text/plain": [
       "0.3333333333333333"
      ]
     },
     "execution_count": 25,
     "metadata": {},
     "output_type": "execute_result"
    }
   ],
   "source": [
    "gc_content = sum([counts[c] for c in {'C','G'}])/len(dna)\n",
    "gc_content"
   ]
  },
  {
   "cell_type": "code",
   "execution_count": 26,
   "metadata": {
    "collapsed": false,
    "hidden": true
   },
   "outputs": [
    {
     "data": {
      "text/plain": [
       "0.5"
      ]
     },
     "execution_count": 26,
     "metadata": {},
     "output_type": "execute_result"
    }
   ],
   "source": [
    "percent_ambiguity = 1-(sum([counts[c] for c in nucleotides])/len(dna))\n",
    "percent_ambiguity"
   ]
  },
  {
   "cell_type": "code",
   "execution_count": null,
   "metadata": {
    "collapsed": true,
    "hidden": true
   },
   "outputs": [],
   "source": []
  },
  {
   "cell_type": "markdown",
   "metadata": {
    "heading_collapsed": true
   },
   "source": [
    "## Software design\n",
    "\n",
    "Go through HW 3 and 4. talk about design ideas, functions, hardening, etc."
   ]
  },
  {
   "cell_type": "code",
   "execution_count": null,
   "metadata": {
    "collapsed": true,
    "hidden": true
   },
   "outputs": [],
   "source": []
  }
 ],
 "metadata": {
  "anaconda-cloud": {},
  "kernelspec": {
   "display_name": "Python 2",
   "language": "python",
   "name": "python2"
  },
  "language_info": {
   "codemirror_mode": {
    "name": "ipython",
    "version": 2
   },
   "file_extension": ".py",
   "mimetype": "text/x-python",
   "name": "python",
   "nbconvert_exporter": "python",
   "pygments_lexer": "ipython2",
   "version": "2.7.11"
  },
  "latex_envs": {
   "bibliofile": "biblio.bib",
   "cite_by": "apalike",
   "current_citInitial": 1,
   "eqLabelWithNumbers": true,
   "eqNumInitial": 0
  }
 },
 "nbformat": 4,
 "nbformat_minor": 2
}
