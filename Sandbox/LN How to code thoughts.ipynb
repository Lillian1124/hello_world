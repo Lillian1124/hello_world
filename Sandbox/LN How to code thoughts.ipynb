{
 "cells": [
  {
   "cell_type": "markdown",
   "metadata": {},
   "source": [
    "# thoughts on programming\n",
    "\n",
    "This is a first draft of thoughts I've had on how to write code. It is very rough, but here it is. "
   ]
  },
  {
   "cell_type": "markdown",
   "metadata": {},
   "source": [
    "## Writing a program is like writing a paper\n",
    "\n",
    "Think of a program like a paper where:\n",
    "\n",
    "* If you misspell a word the paper catches on fire\n",
    "* You *can* say silly things, but shouldn't\n",
    "* The paper is written for an idiot (the computer)\n",
    "* You can reference other papers and assume the reader has read (and memorized) them."
   ]
  },
  {
   "cell_type": "markdown",
   "metadata": {},
   "source": [
    "### To write a program\n",
    "\n",
    "1. understand what the program should do\n",
    "2. write an outline\n",
    "3. write one good paragraph at a time\n",
    "\n",
    "\t\ta. each \"paragraph\" says *one thing only*\n",
    "\t\tb. first sentence, topic sentence, of each paragraph (the comment) says ONE thing\n",
    "\t\tc. test each paragraph carefully, by itself, with data you understand\n",
    "\t\td. if you'll use this paragraph more than once, turn it into a function (and test the function separately)\n",
    "\t\te. Be sure flow of paragraphs follows your outline (or change outline)\n",
    "\n",
    "4. Use a good introduction:\n",
    "\n",
    "\t\ta. Comments: what the program does, who wrote it, when, how to get help\n",
    "\t\tb. imports go at the top\n",
    "\t\tc. then function definitions (written and tested individually, named well, commented) \n",
    "\n",
    "5. Methods section: the body of the code\n",
    "\n",
    "\t\ta. clear enough to be reproducible (good variable/object names)\n",
    "\t\tb. enough white space to be pretty\n",
    "\t\tc. not too long (use external modules if necessary)\n",
    "\n",
    "6. Edit the final paper \n",
    "\n",
    "\t\ta. Do the analysis: prepare test cases that you understand for program as a whole\n",
    "\t\tb. get an outside reader: code walkthrough\n",
    "\t\tc. edit so that the paper reads like one thing (test it as a whole)\n",
    "\t\td. look for, avoid, possible reader misunderstandings: harder the code by checking for and handling possible errors\n",
    "\n",
    "7. Rewrite: if you have time, and the program is correct, look for opportunities to be more elegant or efficient\n",
    "\n",
    "\t\ta. Add new functions if necessary\n",
    "\t\tb. look for awkward, convoluted expressions and simplify \n",
    "\t\tc. look for inefficiencies, where the reader will get bogged down (%profile)\n",
    "\t\td. try out possible alternatives that might be more efficient (%timeit)\n"
   ]
  },
  {
   "cell_type": "markdown",
   "metadata": {},
   "source": [
    "### To Become a Better Programmer ###\n",
    "\n",
    "Same as with becoming a better writer:\n",
    "\n",
    "1. read other people's code, asking:\n",
    "\n",
    "\t\ta. why did they put this here? why this name?\n",
    "\t\tb. Why is the code in this order?\n",
    "\t\tc. is the \"paper\" (the code) clear, concise, understandable?\n",
    "\t\td. is it clear what the \"paper\" says: do you know what the program does?\n",
    "\t\te. do the conclusions follow from the premises: does the program do what it is supposed to?\n",
    "\t\tf. how might you make this better?\n",
    "\t\tg. how might you make this worse?\n",
    "\n",
    "2. read good stuff about writing. for example, check this out: [https://en.wikipedia.org/wiki/Zen_of_Python](https://en.wikipedia.org/wiki/Zen_of_Python)\n",
    "\n",
    "2. write write write\n",
    "\n",
    "3. have other people read/criticize your code\n",
    "\n",
    "4. ask someone to break your code\n",
    "\n",
    "3. publish publish publish"
   ]
  },
  {
   "cell_type": "code",
   "execution_count": 3,
   "metadata": {
    "collapsed": false
   },
   "outputs": [
    {
     "name": "stdout",
     "output_type": "stream",
     "text": [
      "The Zen of Python, by Tim Peters\n",
      "\n",
      "Beautiful is better than ugly.\n",
      "Explicit is better than implicit.\n",
      "Simple is better than complex.\n",
      "Complex is better than complicated.\n",
      "Flat is better than nested.\n",
      "Sparse is better than dense.\n",
      "Readability counts.\n",
      "Special cases aren't special enough to break the rules.\n",
      "Although practicality beats purity.\n",
      "Errors should never pass silently.\n",
      "Unless explicitly silenced.\n",
      "In the face of ambiguity, refuse the temptation to guess.\n",
      "There should be one-- and preferably only one --obvious way to do it.\n",
      "Although that way may not be obvious at first unless you're Dutch.\n",
      "Now is better than never.\n",
      "Although never is often better than *right* now.\n",
      "If the implementation is hard to explain, it's a bad idea.\n",
      "If the implementation is easy to explain, it may be a good idea.\n",
      "Namespaces are one honking great idea -- let's do more of those!\n"
     ]
    }
   ],
   "source": [
    "import this"
   ]
  },
  {
   "cell_type": "markdown",
   "metadata": {},
   "source": [
    "### Coding, Testing, Hardening, generalizing\n",
    "\n",
    "You're goal in coding is not to just get the code running. \n",
    "You want to write code that meets the following desiderata (listed in order of importance):\n",
    "\n",
    "* *correct*: the code does what it should, and does not do what it shouldn't\n",
    "* *maintainable*: It should be clear what your code does. Use good names, include comments, indent for clarity, don't be overly clever, write elegantly.\n",
    "* *reusable*: ideally, it shouldn't be too hard to use your code to solve future problems. Plan ahead.\n",
    "* *efficient*: your code shouldn't run too slowly or use too much disk or computer space.\n",
    "\n",
    "It is common to do several iterations of refinement and revisions at each point. \n",
    "\n",
    "Throughout, remember the cardinal rule: **Do one thing at a time**"
   ]
  },
  {
   "cell_type": "markdown",
   "metadata": {},
   "source": [
    "To get started:\n",
    "    \n",
    "* Understand what your program is supposed to do\n",
    "* be able to do simple examples by hand\n",
    "* decompose the problem into small steps, keep track of those steps\n",
    "* work one one step at a time\n",
    "\n",
    "**Do one thing at a time**"
   ]
  },
  {
   "cell_type": "markdown",
   "metadata": {},
   "source": [
    "To test whether your code is correct: \n",
    "\n",
    "* Think about the normal usage cases, have inputs/outputs that you know are correct--your code should do the right thing.\n",
    "* Think about abnormal usage cases--your code should not do the wrong thing. (look for \"boundary cases\")\n",
    "* Keep track of these usage cases, so you can re-test your code after you've made modifications.\n",
    "\n",
    "When your code misbehaves, \"take it apart\". Temporarily add *print* statements. \n",
    "\n",
    "**Do one thing at a time**"
   ]
  },
  {
   "cell_type": "markdown",
   "metadata": {},
   "source": [
    "Once your code is correct, double check that there are appropriate comments and that variables have reasonable names.\n",
    "If you did anything at all tricky, document it thoroughly. Your future self will thank you."
   ]
  },
  {
   "cell_type": "markdown",
   "metadata": {},
   "source": [
    "* Make your code as robust as you can, within reason. Make it hard for someone else to make it fail. \n",
    "* Modularize. Don't do the same thing twice. Your code should *do one thing*, but only once. Write functions."
   ]
  },
  {
   "cell_type": "markdown",
   "metadata": {},
   "source": [
    "Only then consider making the code more efficient. \n",
    "This is an art which could be multiple courses in itself.\n",
    "But in a nutshell:\n",
    "\n",
    "* figure out where the code is inefficient. It's usually just in one or two places. Just work on that bit. **Do one thing at a time**.\n",
    "* clear is still better than clever, even if it's a a bit slower."
   ]
  },
  {
   "cell_type": "code",
   "execution_count": 4,
   "metadata": {
    "collapsed": false
   },
   "outputs": [],
   "source": [
    "import Bio as n\n",
    "n."
   ]
  },
  {
   "cell_type": "markdown",
   "metadata": {},
   "source": [
    "### Example code development\n",
    "\n",
    "Specifications:\n",
    "\n",
    "*input:* String of characters from a DNA sequencer\n",
    "\n",
    "*output:* GC content of the string"
   ]
  },
  {
   "cell_type": "code",
   "execution_count": null,
   "metadata": {
    "collapsed": true
   },
   "outputs": [],
   "source": []
  },
  {
   "cell_type": "code",
   "execution_count": 7,
   "metadata": {
    "collapsed": true
   },
   "outputs": [],
   "source": [
    "input_string = 'acgt?'"
   ]
  },
  {
   "cell_type": "markdown",
   "metadata": {},
   "source": [
    " Write something that works"
   ]
  },
  {
   "cell_type": "code",
   "execution_count": 9,
   "metadata": {
    "collapsed": false
   },
   "outputs": [
    {
     "name": "stdout",
     "output_type": "stream",
     "text": [
      "0.4\n"
     ]
    }
   ],
   "source": [
    "gc_content = (input_string.count('a') + input_string.count('g'))*1.0/len(input_string)\n",
    "print(gc_content)"
   ]
  },
  {
   "cell_type": "markdown",
   "metadata": {},
   "source": [
    " Stress test it. Try\n",
    " \n",
    " ```\n",
    " input_string = '?'\n",
    " input_string = 'g'\n",
    " input_string = 'ACGT?'\n",
    " input_string = '9'\n",
    " input_string = ''\n",
    "```"
   ]
  },
  {
   "cell_type": "code",
   "execution_count": 28,
   "metadata": {
    "collapsed": true
   },
   "outputs": [],
   "source": [
    "input_string = ''"
   ]
  },
  {
   "cell_type": "code",
   "execution_count": 37,
   "metadata": {
    "collapsed": false
   },
   "outputs": [
    {
     "name": "stdout",
     "output_type": "stream",
     "text": [
      "0.4\n"
     ]
    }
   ],
   "source": [
    "gc_content = (input_string.count('a') + input_string.count('g'))*1.0\\\n",
    "              /len(input_string)  # not really correct....\n",
    "print(gc_content)"
   ]
  },
  {
   "cell_type": "code",
   "execution_count": 34,
   "metadata": {
    "collapsed": false
   },
   "outputs": [
    {
     "name": "stdout",
     "output_type": "stream",
     "text": [
      "0.4\n"
     ]
    }
   ],
   "source": [
    "input_string = 'acgt?'\n",
    "gc_content = (input_string.count('a') + \n",
    "              input_string.count('g'))*1.0/len(input_string)  # not really correct....\n",
    "print(gc_content)"
   ]
  },
  {
   "cell_type": "code",
   "execution_count": 30,
   "metadata": {
    "collapsed": true
   },
   "outputs": [],
   "source": [
    "input_string = 'acgt?'"
   ]
  },
  {
   "cell_type": "markdown",
   "metadata": {},
   "source": [
    "Modularize it"
   ]
  },
  {
   "cell_type": "code",
   "execution_count": 31,
   "metadata": {
    "collapsed": false
   },
   "outputs": [
    {
     "name": "stdout",
     "output_type": "stream",
     "text": [
      "None\n"
     ]
    }
   ],
   "source": [
    "def get_gc_content( input_string ):  ### spend time on this\n",
    "    return\n",
    "\n",
    "print(get_gc_content(input_string) )"
   ]
  },
  {
   "cell_type": "markdown",
   "metadata": {},
   "source": [
    "Make it elegant"
   ]
  },
  {
   "cell_type": "code",
   "execution_count": 49,
   "metadata": {
    "collapsed": false
   },
   "outputs": [
    {
     "name": "stdout",
     "output_type": "stream",
     "text": [
      "0.4\n"
     ]
    }
   ],
   "source": [
    "\n",
    "input_string = 'acgt?'\n",
    "def get_gc_content(input_string):\n",
    "    '''\n",
    "    compute gc content of import_string\n",
    "    '''\n",
    "    input_string = input_string.lower()\n",
    "    gc_content = (input_string.count('g') + input_string.count('c'))*1.0/len(input_string)\n",
    "    return gc_content\n",
    "\n",
    "print(get_gc_content(input_string))"
   ]
  },
  {
   "cell_type": "markdown",
   "metadata": {},
   "source": [
    "harden it. Think about how a mis-user might think.\n",
    "\n",
    "What should you do if there aren't any nucleotides at all? What is the GC content then? 0? Undefined?"
   ]
  },
  {
   "cell_type": "code",
   "execution_count": 59,
   "metadata": {
    "collapsed": false
   },
   "outputs": [
    {
     "data": {
      "text/plain": [
       "{' ', 'd', 'e', 'h', 'i', 'k', 'n', 'o', 'r', 's', 't', 'w', 'y'}"
      ]
     },
     "execution_count": 59,
     "metadata": {},
     "output_type": "execute_result"
    }
   ],
   "source": [
    "input_string = 'this is the wy the work ends'\n",
    "set(input_string)\n",
    "set.intersection"
   ]
  },
  {
   "cell_type": "code",
   "execution_count": 69,
   "metadata": {
    "collapsed": false
   },
   "outputs": [
    {
     "name": "stdout",
     "output_type": "stream",
     "text": [
      "0.4\n"
     ]
    }
   ],
   "source": [
    "def get_gc_content( input_string ):\n",
    "    '''\n",
    "    comments\n",
    "    '''\n",
    "\n",
    "    input_string = input_string.lower()\n",
    "    if set(input_string).intersection({'a','c','g','t'}) == set(): \n",
    "        print 'error: input probably not a DNA sequence on input: {}'.format(input_string)\n",
    "        return(None)\n",
    "    gc_content = (input_string.count('g') + input_string.count('c'))*1.0/len(input_string)\n",
    "    return(gc_content)\n",
    "print(get_gc_content('ccsff'))"
   ]
  },
  {
   "cell_type": "markdown",
   "metadata": {},
   "source": [
    "Generalize it. In this case, perhaps:\n",
    "\n",
    "* do we want to handle strings with ambiguity codes? (yes) If so, do we want to let the user specify which codes are acceptable? (maybe) What is the best data structure for this? (list or set or ...?)\n",
    "* remember to help the mis-user as much as you can (within reason)\n",
    "* Are code counts useful on their own? (yes) If so, write and re-use that code \n",
    "\n",
    "Remember to keep it pretty."
   ]
  },
  {
   "cell_type": "code",
   "execution_count": 72,
   "metadata": {
    "collapsed": false
   },
   "outputs": [
    {
     "data": {
      "text/plain": [
       "0.6666666666666666"
      ]
     },
     "execution_count": 72,
     "metadata": {},
     "output_type": "execute_result"
    }
   ],
   "source": [
    "def get_gc_content( input_string, \n",
    "                    nucleotides = {'A', 'C', 'G', 'T'},\n",
    "                    ambiguity_codes = {'K', 'M', 'R', 'Y', 'S', 'W', 'B', 'V', 'H', 'D', 'N'}):\n",
    "    input_string = input_string.upper()\n",
    "    if (set(input_string).intersection(nucleotides) == set() & \n",
    "        set(input_string).intersection(ambiguity_codes) == set()\n",
    "       ) : \n",
    "            print('ERROR: invalid input {}'.format(input_string))\n",
    "            return(None)\n",
    "    else:\n",
    "        gc_content = sum([input_string.count(c) for c in {'C', 'G'}])\n",
    "        gc_content = gc_content*1.0 / sum([input_string.count(c) for c in nucleotides.union(ambiguity_codes) ])\n",
    "        return(gc_content)\n",
    "    \n",
    "get_gc_content('dfgg')"
   ]
  },
  {
   "cell_type": "code",
   "execution_count": 21,
   "metadata": {
    "collapsed": false
   },
   "outputs": [
    {
     "name": "stdout",
     "output_type": "stream",
     "text": [
      "ERROR: invalid input \n",
      "None\n"
     ]
    }
   ],
   "source": [
    "print(get_gc_content(''))"
   ]
  },
  {
   "cell_type": "markdown",
   "metadata": {},
   "source": [
    "This function counts the numbers of Cs and Gs. But perhaps it would be useful to have a separate function that counts the number of both nucleotides and ambiguity codes? If so, perhaps it's useful to specify what counts as a nucleotide (RNA or DNA, for example) or an ambiguiity code (perhaps all we care about is Ns). \n",
    "\n",
    "If so, what should we do if the input sequence has somethingn which is neither a nucleotide nor an ambiguity code? Is that an error? Should we keep track of it? What do we tell the user?\n",
    "\n",
    "This is calls *functional abstraction* and is a key process in programming. "
   ]
  },
  {
   "cell_type": "code",
   "execution_count": 22,
   "metadata": {
    "collapsed": false
   },
   "outputs": [
    {
     "data": {
      "text/plain": [
       "\"\\n# or is this better?\\ndef count_codes(input_string, \\n                nucleotides = {'A', 'C', 'G', 'T'},\\n                ambiguity_codes = {'K', 'M', 'R', 'Y', 'S', 'W', 'B', 'V', 'H', 'D', 'N'}):\\n    input_string = input_string.upper()\\n    return_counts = {code: input_string.count(code) \\n        for code in nucleotides.union(ambiguity_codes) } \\n    return_counts['?'] = len(input_string) - sum(return_counts.values())\\n    return return_counts\\n\""
      ]
     },
     "execution_count": 22,
     "metadata": {},
     "output_type": "execute_result"
    }
   ],
   "source": [
    "def count_codes(input_string, \n",
    "                nucleotides = {'A', 'C', 'G', 'T'},\n",
    "                ambiguity_codes = {'K', 'M', 'R', 'Y', 'S', 'W', 'B', 'V', 'H', 'D', 'N'}):\n",
    "    '''\n",
    "    Usage: count_codes(d, n, a) where\n",
    "        d is a sequence of nucleotides and ambiguity codes\n",
    "        n is a set of nucleotides\n",
    "        a is a set of ambiguity codes\n",
    "        \n",
    "        default \n",
    "            nucletides are {'A', 'C', 'G', 'T'}, \n",
    "            ambiguity codes are {'K', 'M', 'R', 'Y', 'S', 'W', 'B', 'V', 'H', 'D', 'N'}\n",
    "        \n",
    "    returns {c1: n1, ...} where ci is ith nucleotide or ambiguity code and ni is number of times \n",
    "        that code appears in input d.\n",
    "    '''\n",
    "    input_string = input_string.upper()\n",
    "    return {code: input_string.count(code) for code in nucleotides.union(ambiguity_codes) } \n",
    "\n",
    "'''\n",
    "# or is this better?\n",
    "def count_codes(input_string, \n",
    "                nucleotides = {'A', 'C', 'G', 'T'},\n",
    "                ambiguity_codes = {'K', 'M', 'R', 'Y', 'S', 'W', 'B', 'V', 'H', 'D', 'N'}):\n",
    "    input_string = input_string.upper()\n",
    "    return_counts = {code: input_string.count(code) \n",
    "        for code in nucleotides.union(ambiguity_codes) } \n",
    "    return_counts['?'] = len(input_string) - sum(return_counts.values())\n",
    "    return return_counts\n",
    "'''"
   ]
  },
  {
   "cell_type": "code",
   "execution_count": 70,
   "metadata": {
    "collapsed": false
   },
   "outputs": [
    {
     "data": {
      "text/plain": [
       "{'?': 0,\n",
       " 'A': 1,\n",
       " 'B': 0,\n",
       " 'C': 1,\n",
       " 'D': 2,\n",
       " 'G': 3,\n",
       " 'H': 0,\n",
       " 'K': 0,\n",
       " 'M': 0,\n",
       " 'N': 0,\n",
       " 'R': 0,\n",
       " 'S': 0,\n",
       " 'T': 0,\n",
       " 'V': 0,\n",
       " 'W': 0,\n",
       " 'Y': 0}"
      ]
     },
     "execution_count": 70,
     "metadata": {},
     "output_type": "execute_result"
    }
   ],
   "source": [
    "count_codes('adgggdc')"
   ]
  },
  {
   "cell_type": "code",
   "execution_count": 23,
   "metadata": {
    "collapsed": true
   },
   "outputs": [],
   "source": [
    "# or is this better?\n",
    "def count_codes(input_string, \n",
    "                nucleotides = {'A', 'C', 'G', 'T'},\n",
    "                ambiguity_codes = {'K', 'M', 'R', 'Y', 'S', 'W', 'B', 'V', 'H', 'D', 'N'}):\n",
    "    input_string = input_string.upper()\n",
    "    return_counts = {code: input_string.count(code) \n",
    "        for code in nucleotides.union(ambiguity_codes) } \n",
    "    return_counts['?'] = len(input_string) - sum(return_counts.values())\n",
    "    if return_counts.get('?', False):\n",
    "        print('WARNING: {} unrecognized characters in input {}'.format(\n",
    "            return_counts['?'], input_string)\n",
    "             )\n",
    "    return return_counts"
   ]
  },
  {
   "cell_type": "code",
   "execution_count": 24,
   "metadata": {
    "collapsed": false
   },
   "outputs": [
    {
     "name": "stdout",
     "output_type": "stream",
     "text": [
      "WARNING: 1 unrecognized characters in input ACGTN9\n",
      "{'A': 1, 'C': 1, 'B': 0, 'D': 0, 'G': 1, 'H': 0, 'K': 0, 'M': 0, 'N': 1, 'S': 0, 'R': 0, 'T': 1, 'W': 0, 'V': 0, 'Y': 0, '?': 1}\n"
     ]
    }
   ],
   "source": [
    "print( count_codes('acgtn9'))"
   ]
  },
  {
   "cell_type": "code",
   "execution_count": 25,
   "metadata": {
    "collapsed": true
   },
   "outputs": [],
   "source": [
    "def get_gc_content( input_string, \n",
    "                    nucleotides = {'A', 'C', 'G', 'T'},\n",
    "                    ambiguity_codes = {'K', 'M', 'R', 'Y', 'S', 'W', 'B', 'V', 'H', 'D', 'N'}):\n",
    "    '''\n",
    "    Usage: get_gc_content(d, n, a) where\n",
    "        d is a sequence of nucleotides and ambiguity codes\n",
    "        n is a set of nucleotides\n",
    "        a is a set of ambiguity codes\n",
    "        \n",
    "        default \n",
    "            nucletides are {'A', 'C', 'G', 'T'}, \n",
    "            ambiguity codes are {'K', 'M', 'R', 'Y', 'S', 'W', 'B', 'V', 'H', 'D', 'N'}\n",
    "        \n",
    "    returns:\n",
    "        gc content of d computed as total g's, c's divided by length of d omitting invalid characters\n",
    "        None if d has characters which are neither nucleotides nor ambiguity codes\n",
    "    '''\n",
    "    input_string = input_string.upper()\n",
    "    code_counts = count_codes( input_string, nucleotides, ambiguity_codes )\n",
    "    if (set(input_string).intersection(nucleotides.union(ambiguity_codes)) == set()):\n",
    "        print('ERROR: invalid input {}'.format(input_string))\n",
    "        return(None)\n",
    "    else:\n",
    "        # assertion: input string has only nucleotides or ambiguity codes\n",
    "        gc_content = (code_counts.get('G',0) + code_counts.get('C',0)) / len(input_string)\n",
    "        return(gc_content)"
   ]
  },
  {
   "cell_type": "code",
   "execution_count": 26,
   "metadata": {
    "collapsed": false
   },
   "outputs": [
    {
     "name": "stdout",
     "output_type": "stream",
     "text": [
      "WARNING: 1 unrecognized characters in input AC?\n",
      "0\n"
     ]
    }
   ],
   "source": [
    "print(get_gc_content('ac?'))"
   ]
  },
  {
   "cell_type": "code",
   "execution_count": 27,
   "metadata": {
    "collapsed": false
   },
   "outputs": [
    {
     "name": "stdout",
     "output_type": "stream",
     "text": [
      "WARNING: 1 unrecognized characters in input ACCG?\n"
     ]
    },
    {
     "data": {
      "text/plain": [
       "{'?': 1,\n",
       " 'A': 1,\n",
       " 'B': 0,\n",
       " 'C': 2,\n",
       " 'D': 0,\n",
       " 'G': 1,\n",
       " 'H': 0,\n",
       " 'K': 0,\n",
       " 'M': 0,\n",
       " 'N': 0,\n",
       " 'R': 0,\n",
       " 'S': 0,\n",
       " 'T': 0,\n",
       " 'V': 0,\n",
       " 'W': 0,\n",
       " 'Y': 0}"
      ]
     },
     "execution_count": 27,
     "metadata": {},
     "output_type": "execute_result"
    }
   ],
   "source": [
    "count_codes('accg?')"
   ]
  },
  {
   "cell_type": "code",
   "execution_count": 229,
   "metadata": {
    "collapsed": false
   },
   "outputs": [
    {
     "name": "stdout",
     "output_type": "stream",
     "text": [
      "input string quality is below acceptable.\n"
     ]
    }
   ],
   "source": [
    "def sequence_quality( input_string,                 \n",
    "    nucleotides = {'A', 'C', 'G', 'T'},\n",
    "    ambiguity_codes = {'K', 'M', 'R', 'Y', 'S', 'W', 'B', 'V', 'H', 'D', 'N'}):\n",
    "    code_counts = count_codes( input_string, nucleotides, ambiguity_codes )\n",
    "    if code_counts != None:\n",
    "        nucleotide_count = sum([ code_counts[c] for c in nucleotides])\n",
    "        return nucleotide_count / len(input_string)\n",
    "    else:\n",
    "        return 0.\n",
    "\n",
    "#print(sequence_quality('acnnnnna'))\n",
    "\n",
    "if sequence_quality('acnnnnna') < 0.8:\n",
    "    print('input string quality is below acceptable.')\n",
    "else:\n",
    "    # sequence is ok, do what you want to do\n",
    "    pass"
   ]
  },
  {
   "cell_type": "code",
   "execution_count": null,
   "metadata": {
    "collapsed": true
   },
   "outputs": [],
   "source": []
  }
 ],
 "metadata": {
  "anaconda-cloud": {},
  "kernelspec": {
   "display_name": "Python 2",
   "language": "python",
   "name": "python2"
  },
  "language_info": {
   "codemirror_mode": {
    "name": "ipython",
    "version": 2
   },
   "file_extension": ".py",
   "mimetype": "text/x-python",
   "name": "python",
   "nbconvert_exporter": "python",
   "pygments_lexer": "ipython2",
   "version": "2.7.11"
  },
  "latex_envs": {
   "bibliofile": "biblio.bib",
   "cite_by": "apalike",
   "current_citInitial": 1,
   "eqLabelWithNumbers": true,
   "eqNumInitial": 0
  }
 },
 "nbformat": 4,
 "nbformat_minor": 2
}
