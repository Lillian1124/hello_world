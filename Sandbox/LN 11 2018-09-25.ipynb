{
 "cells": [
  {
   "cell_type": "markdown",
   "metadata": {},
   "source": [
    "# Objectives\n",
    "\n",
    "* Work with dicts (review [https://docs.python.org/3.5/tutorial/datastructures.html#dictionaries](https://docs.python.org/3.5/tutorial/datastructures.html#dictionaries)), tuples and sets\n",
    "\n",
    "# Dicts\n",
    "\n",
    "Dicts are actually *sets* of *key*/*value* pairs. \n",
    "List lists where you access elements by a key value rather than by their location in the structure.\n",
    "Like Webster's: look up values using a word.\n",
    "\n",
    "They are **very** useful\n"
   ]
  },
  {
   "cell_type": "code",
   "execution_count": 3,
   "metadata": {},
   "outputs": [
    {
     "name": "stdout",
     "output_type": "stream",
     "text": [
      "{'this': 2, 'forever': 1, 'that': 3}\n"
     ]
    }
   ],
   "source": [
    "wordCounts={'this':2,'that':3,'forever':1}\n",
    "wordCounts['that']\n",
    "type(wordCounts)\n",
    "print(wordCounts) # redom order"
   ]
  },
  {
   "cell_type": "code",
   "execution_count": 6,
   "metadata": {},
   "outputs": [
    {
     "data": {
      "text/plain": [
       "3"
      ]
     },
     "execution_count": 6,
     "metadata": {},
     "output_type": "execute_result"
    }
   ],
   "source": [
    "hash(wordCounts['that'])"
   ]
  },
  {
   "cell_type": "markdown",
   "metadata": {},
   "source": [
    "\n",
    "## Example: count words\n",
    "\n",
    "Simple start: \n",
    "\n",
    "```\n",
    "\twordCounts={'this':2,'that':3,'forever':1}\n",
    "\twordCounts['this']\n",
    "\twordCounts['that']\n",
    "```\n",
    "\n",
    "or, imagine:\n",
    "\n",
    "```\t\n",
    "\tsequence=\"CGGATCGNNAAGCTCTGTTGTTGGTGANNNYYGGATAYAGGUUNYGTAACTGGCCT\"\n",
    "\tnucs=['A','C','G','T']\n",
    "\tamb=['N','Y','U']\n",
    "\n",
    "\tcharacters = nucs+amb\n",
    "\tcharCounts = [ sequence.count(x) for x in nucs+amb ]\n",
    "```\n",
    "\n",
    "Look up a couple entries\n",
    "\n",
    "```1\n",
    "\tcharCounts[1]  # C's\n",
    "\tcharCounts[5]  # Y's\n",
    "```\n",
    "\n",
    "To see all the counts:\n",
    "\n",
    "```\n",
    "\tfor nextIndex in range(len(characters)):\n",
    "\t\tprint( \"%s\\t%d\" % ( characters[ nextIndex ], charCounts[ nextIndex ] ) )\n",
    "```\n",
    "\n",
    "easier would be \n",
    "\n",
    "```\n",
    "\tcharCounts['C']  # C's\n",
    "\tcharCounts['Y']  # Y's\n",
    "\t\n",
    "\tfor nextKey in charCountDict:\n",
    "\t\tprint( \"%s\\t%d\" % ( nextKey, charCountDict[nextKey] ) )\n",
    "```\n",
    "\n",
    "Which requires a dictionary:\n",
    "\n",
    "```\n",
    "\tcharCountDict = { 'A':\t9, 'C':\t7, 'G':\t16, 'T':\t12, 'N':\t6, 'Y':\t4, 'U':\t2 }\n",
    "```\n",
    "\n",
    "* moral of the story: dicts let you look up entries in a collection using a *value* rather than an *index*\n",
    "\n"
   ]
  },
  {
   "cell_type": "code",
   "execution_count": 2,
   "metadata": {},
   "outputs": [
    {
     "data": {
      "text/plain": [
       "[9, 7, 16, 12, 6, 4, 2]"
      ]
     },
     "execution_count": 2,
     "metadata": {},
     "output_type": "execute_result"
    }
   ],
   "source": [
    "sequence=\"CGGATCGNNAAGCTCTGTTGTTGGTGANNNYYGGATAYAGGUUNYGTAACTGGCCT\"\n",
    "nucs=['A','C','G','T']\n",
    "amb=['N','Y','U']\n",
    "\n",
    "characters = nucs+amb\n",
    "charCounts = [ sequence.count(x) for x in nucs+amb ]\n",
    "charCounts"
   ]
  },
  {
   "cell_type": "code",
   "execution_count": 27,
   "metadata": {},
   "outputs": [
    {
     "name": "stdout",
     "output_type": "stream",
     "text": [
      "{'A': 9, 'C': 7, 'G': 16, 'N': 6, 'U': 2, 'T': 12, 'Y': 4}\n"
     ]
    }
   ],
   "source": [
    "sequence=\"CGGATCGNNAAGCTCTGTTGTTGGTGANNNYYGGATAYAGGUUNYGTAACTGGCCT\"\n",
    "counts = {}\n",
    "for next_char in sequence:\n",
    "    counts[next_char] = counts.get(next_char, 0) + 1\n",
    "    \n",
    "print(counts)"
   ]
  },
  {
   "cell_type": "code",
   "execution_count": 34,
   "metadata": {},
   "outputs": [
    {
     "ename": "NameError",
     "evalue": "name 'codon_list' is not defined",
     "output_type": "error",
     "traceback": [
      "\u001b[0;31m---------------------------------------------------------------------------\u001b[0m",
      "\u001b[0;31mNameError\u001b[0m                                 Traceback (most recent call last)",
      "\u001b[0;32m<ipython-input-34-780c238a0c72>\u001b[0m in \u001b[0;36m<module>\u001b[0;34m()\u001b[0m\n\u001b[1;32m      7\u001b[0m     \u001b[0mnext_codon\u001b[0m \u001b[0;34m=\u001b[0m \u001b[0mchars\u001b[0m\u001b[0;34m[\u001b[0m\u001b[0;34m:\u001b[0m\u001b[0;36m3\u001b[0m\u001b[0;34m]\u001b[0m\u001b[0;34m\u001b[0m\u001b[0m\n\u001b[1;32m      8\u001b[0m     \u001b[0mnext_codon\u001b[0m \u001b[0;34m=\u001b[0m \u001b[0;34m''\u001b[0m\u001b[0;34m.\u001b[0m\u001b[0mjoin\u001b[0m\u001b[0;34m(\u001b[0m\u001b[0mnext_codon\u001b[0m\u001b[0;34m)\u001b[0m\u001b[0;34m\u001b[0m\u001b[0m\n\u001b[0;32m----> 9\u001b[0;31m     \u001b[0mcodon_list\u001b[0m\u001b[0;34m.\u001b[0m\u001b[0mappend\u001b[0m\u001b[0;34m(\u001b[0m\u001b[0mnext_codon\u001b[0m\u001b[0;34m)\u001b[0m\u001b[0;34m\u001b[0m\u001b[0m\n\u001b[0m\u001b[1;32m     10\u001b[0m     \u001b[0mchars\u001b[0m \u001b[0;34m=\u001b[0m \u001b[0mchars\u001b[0m\u001b[0;34m[\u001b[0m\u001b[0;36m3\u001b[0m\u001b[0;34m:\u001b[0m\u001b[0;34m]\u001b[0m\u001b[0;34m\u001b[0m\u001b[0m\n\u001b[1;32m     11\u001b[0m \u001b[0;32mprint\u001b[0m\u001b[0;34m(\u001b[0m\u001b[0mnext_codon\u001b[0m\u001b[0;34m)\u001b[0m\u001b[0;34m\u001b[0m\u001b[0m\n",
      "\u001b[0;31mNameError\u001b[0m: name 'codon_list' is not defined"
     ]
    }
   ],
   "source": [
    "sequence = sequence[:-2]\n",
    "len(sequence)\n",
    "\n",
    "chars = list(sequence)\n",
    "chars\n",
    "while len(chars) > 0:\n",
    "    next_codon = chars[:3]\n",
    "    next_codon = ''.join(next_codon)\n",
    "    codon_list.append(next_codon)\n",
    "    chars = chars[3:]\n",
    "print(next_codon)"
   ]
  },
  {
   "cell_type": "code",
   "execution_count": 35,
   "metadata": {},
   "outputs": [
    {
     "ename": "SyntaxError",
     "evalue": "invalid syntax (<ipython-input-35-4176acb8e13d>, line 2)",
     "output_type": "error",
     "traceback": [
      "\u001b[0;36m  File \u001b[0;32m\"<ipython-input-35-4176acb8e13d>\"\u001b[0;36m, line \u001b[0;32m2\u001b[0m\n\u001b[0;31m    print(\"{}\\t{}\".format(next_word,word_counts{next_word}))\u001b[0m\n\u001b[0m                                               ^\u001b[0m\n\u001b[0;31mSyntaxError\u001b[0m\u001b[0;31m:\u001b[0m invalid syntax\n"
     ]
    }
   ],
   "source": [
    "for next_word in sorted(wordCounts.keys()):\n",
    "    print(\"{}\\t{}\".format(next_word,word_counts{next_word}))"
   ]
  },
  {
   "cell_type": "markdown",
   "metadata": {},
   "source": [
    "## Creating Dictionaries\n",
    "\n",
    "* Easy to add entries\n",
    "\n",
    "```\n",
    "\t\tmy_dict = {}\n",
    "\t\tmy_dict['A'] = sequence.count('A')\n",
    "```\n",
    "\n",
    "* To create from scratch: set of pairs\n",
    "\n",
    "```\n",
    "\t\tchar_count_dict = { 'A':\t9, 'C':\t7, 'G':\t16, 'T': 12, 'N': 6, 'Y': 4, 'U': 2 }\n",
    "```\n",
    "\n",
    "But spacing can make it easier to read:\n",
    "\n",
    "```\n",
    "\tchar_count_dict = { \n",
    "\t\t'A':\t9, \n",
    "\t\t'C':\t7, \n",
    "\t\t'G':\t16, \n",
    "\t\t'T': 12, \n",
    "\t\t'N': 6, \n",
    "\t\t'Y': 4, \n",
    "\t\t'U': 2 \n",
    "\t\t}\n",
    "```\n",
    "\n",
    "**note* that order of entries in dict is unpredictable (based on hash())**\n",
    "\n",
    ">print(char_count_dict)"
   ]
  },
  {
   "cell_type": "code",
   "execution_count": 10,
   "metadata": {
    "collapsed": true
   },
   "outputs": [],
   "source": [
    "char_count_dict = { 'A':    9, 'C':    7, 'G':    16, 'T': 12, 'N': 6, 'Y': 4, 'U': 2 }"
   ]
  },
  {
   "cell_type": "code",
   "execution_count": 11,
   "metadata": {},
   "outputs": [
    {
     "data": {
      "text/plain": [
       "['A', 'C', 'G', 'N', 'U', 'T', 'Y']"
      ]
     },
     "execution_count": 11,
     "metadata": {},
     "output_type": "execute_result"
    }
   ],
   "source": [
    "char_count_dict.keys()"
   ]
  },
  {
   "cell_type": "markdown",
   "metadata": {},
   "source": [
    "\n",
    "## A more interesting example:\n",
    "\n",
    "```\n",
    "    codontable = {\n",
    "    \t'ATA':'I', 'ATC':'I', 'ATT':'I', 'ATG':'M',\n",
    "    \t'ACA':'T', 'ACC':'T', 'ACG':'T', 'ACT':'T',\n",
    "    \t'AAC':'N', 'AAT':'N', 'AAA':'K', 'AAG':'K',\n",
    "    \t'AGC':'S', 'AGT':'S', 'AGA':'R', 'AGG':'R',\n",
    "    \t'CTA':'L', 'CTC':'L', 'CTG':'L', 'CTT':'L',\n",
    "    \t'CCA':'P', 'CCC':'P', 'CCG':'P', 'CCT':'P',\n",
    "    \t'CAC':'H', 'CAT':'H', 'CAA':'Q', 'CAG':'Q',\n",
    "    \t'CGA':'R', 'CGC':'R', 'CGG':'R', 'CGT':'R',\n",
    "    \t'GTA':'V', 'GTC':'V', 'GTG':'V', 'GTT':'V',\n",
    "    \t'GCA':'A', 'GCC':'A', 'GCG':'A', 'GCT':'A',\n",
    "    \t'GAC':'D', 'GAT':'D', 'GAA':'E', 'GAG':'E',\n",
    "    \t'GGA':'G', 'GGC':'G', 'GGG':'G', 'GGT':'G',\n",
    "    \t'TCA':'S', 'TCC':'S', 'TCG':'S', 'TCT':'S',\n",
    "    \t'TTC':'F', 'TTT':'F', 'TTA':'L', 'TTG':'L',\n",
    "    \t'TAC':'Y', 'TAT':'Y', 'TAA':'_', 'TAG':'_',\n",
    "    \t'TGC':'C', 'TGT':'C', 'TGA':'_', 'TGG':'W',\n",
    "    }\n",
    "```\n"
   ]
  },
  {
   "cell_type": "code",
   "execution_count": 12,
   "metadata": {
    "collapsed": true
   },
   "outputs": [],
   "source": [
    "codontable = {\n",
    "        'ATA':'I', 'ATC':'I', 'ATT':'I', 'ATG':'M',\n",
    "        'ACA':'T', 'ACC':'T', 'ACG':'T', 'ACT':'T',\n",
    "        'AAC':'N', 'AAT':'N', 'AAA':'K', 'AAG':'K',\n",
    "        'AGC':'S', 'AGT':'S', 'AGA':'R', 'AGG':'R',\n",
    "        'CTA':'L', 'CTC':'L', 'CTG':'L', 'CTT':'L',\n",
    "        'CCA':'P', 'CCC':'P', 'CCG':'P', 'CCT':'P',\n",
    "        'CAC':'H', 'CAT':'H', 'CAA':'Q', 'CAG':'Q',\n",
    "        'CGA':'R', 'CGC':'R', 'CGG':'R', 'CGT':'R',\n",
    "        'GTA':'V', 'GTC':'V', 'GTG':'V', 'GTT':'V',\n",
    "        'GCA':'A', 'GCC':'A', 'GCG':'A', 'GCT':'A',\n",
    "        'GAC':'D', 'GAT':'D', 'GAA':'E', 'GAG':'E',\n",
    "        'GGA':'G', 'GGC':'G', 'GGG':'G', 'GGT':'G',\n",
    "        'TCA':'S', 'TCC':'S', 'TCG':'S', 'TCT':'S',\n",
    "        'TTC':'F', 'TTT':'F', 'TTA':'L', 'TTG':'L',\n",
    "        'TAC':'Y', 'TAT':'Y', 'TAA':'_', 'TAG':'_',\n",
    "        'TGC':'C', 'TGT':'C', 'TGA':'_', 'TGG':'W',\n",
    "    }"
   ]
  },
  {
   "cell_type": "code",
   "execution_count": 13,
   "metadata": {},
   "outputs": [
    {
     "name": "stdout",
     "output_type": "stream",
     "text": [
      "{'ACC': 'T', 'ATG': 'M', 'ACA': 'T', 'ACG': 'T', 'ATC': 'I', 'AAC': 'N', 'ATA': 'I', 'AGG': 'R', 'CCT': 'P', 'CTC': 'L', 'AGC': 'S', 'AAG': 'K', 'AGA': 'R', 'CAT': 'H', 'AAT': 'N', 'ATT': 'I', 'CTG': 'L', 'CTA': 'L', 'ACT': 'T', 'CAC': 'H', 'AAA': 'K', 'CCG': 'P', 'AGT': 'S', 'CCA': 'P', 'CAA': 'Q', 'CCC': 'P', 'TAT': 'Y', 'GGT': 'G', 'TGT': 'C', 'CGA': 'R', 'CAG': 'Q', 'CGC': 'R', 'GAT': 'D', 'CGG': 'R', 'CTT': 'L', 'TGC': 'C', 'GGG': 'G', 'TAG': '_', 'GGA': 'G', 'TAA': '_', 'GGC': 'G', 'TAC': 'Y', 'GAG': 'E', 'TCG': 'S', 'TTT': 'F', 'GAC': 'D', 'CGT': 'R', 'GAA': 'E', 'TCA': 'S', 'GCA': 'A', 'GTA': 'V', 'GCC': 'A', 'GTC': 'V', 'TGA': '_', 'GCG': 'A', 'GTG': 'V', 'TTC': 'F', 'GTT': 'V', 'GCT': 'A', 'TTA': 'L', 'TTG': 'L', 'TCC': 'S', 'TGG': 'W', 'TCT': 'S'}\n"
     ]
    }
   ],
   "source": [
    "print(codontable)"
   ]
  },
  {
   "cell_type": "code",
   "execution_count": 17,
   "metadata": {},
   "outputs": [],
   "source": [
    "#codontable.keys()"
   ]
  },
  {
   "cell_type": "code",
   "execution_count": 16,
   "metadata": {},
   "outputs": [
    {
     "data": {
      "text/plain": [
       "[('ACC', 'T'),\n",
       " ('ATG', 'M'),\n",
       " ('ACA', 'T'),\n",
       " ('ACG', 'T'),\n",
       " ('ATC', 'I'),\n",
       " ('AAC', 'N'),\n",
       " ('ATA', 'I'),\n",
       " ('AGG', 'R'),\n",
       " ('CCT', 'P'),\n",
       " ('CTC', 'L'),\n",
       " ('AGC', 'S'),\n",
       " ('AAG', 'K'),\n",
       " ('AGA', 'R'),\n",
       " ('CAT', 'H'),\n",
       " ('AAT', 'N'),\n",
       " ('ATT', 'I'),\n",
       " ('CTG', 'L'),\n",
       " ('CTA', 'L'),\n",
       " ('ACT', 'T'),\n",
       " ('CAC', 'H'),\n",
       " ('AAA', 'K'),\n",
       " ('CCG', 'P'),\n",
       " ('AGT', 'S'),\n",
       " ('CCA', 'P'),\n",
       " ('CAA', 'Q'),\n",
       " ('CCC', 'P'),\n",
       " ('TAT', 'Y'),\n",
       " ('GGT', 'G'),\n",
       " ('TGT', 'C'),\n",
       " ('CGA', 'R'),\n",
       " ('CAG', 'Q'),\n",
       " ('CGC', 'R'),\n",
       " ('GAT', 'D'),\n",
       " ('CGG', 'R'),\n",
       " ('CTT', 'L'),\n",
       " ('TGC', 'C'),\n",
       " ('GGG', 'G'),\n",
       " ('TAG', '_'),\n",
       " ('GGA', 'G'),\n",
       " ('TAA', '_'),\n",
       " ('GGC', 'G'),\n",
       " ('TAC', 'Y'),\n",
       " ('GAG', 'E'),\n",
       " ('TCG', 'S'),\n",
       " ('TTT', 'F'),\n",
       " ('GAC', 'D'),\n",
       " ('CGT', 'R'),\n",
       " ('GAA', 'E'),\n",
       " ('TCA', 'S'),\n",
       " ('GCA', 'A'),\n",
       " ('GTA', 'V'),\n",
       " ('GCC', 'A'),\n",
       " ('GTC', 'V'),\n",
       " ('TGA', '_'),\n",
       " ('GCG', 'A'),\n",
       " ('GTG', 'V'),\n",
       " ('TTC', 'F'),\n",
       " ('GTT', 'V'),\n",
       " ('GCT', 'A'),\n",
       " ('TTA', 'L'),\n",
       " ('TTG', 'L'),\n",
       " ('TCC', 'S'),\n",
       " ('TGG', 'W'),\n",
       " ('TCT', 'S')]"
      ]
     },
     "execution_count": 16,
     "metadata": {},
     "output_type": "execute_result"
    }
   ],
   "source": [
    "codontable.items()"
   ]
  },
  {
   "cell_type": "code",
   "execution_count": 18,
   "metadata": {},
   "outputs": [
    {
     "data": {
      "text/plain": [
       "['T',\n",
       " 'M',\n",
       " 'T',\n",
       " 'T',\n",
       " 'I',\n",
       " 'N',\n",
       " 'I',\n",
       " 'R',\n",
       " 'P',\n",
       " 'L',\n",
       " 'S',\n",
       " 'K',\n",
       " 'R',\n",
       " 'H',\n",
       " 'N',\n",
       " 'I',\n",
       " 'L',\n",
       " 'L',\n",
       " 'T',\n",
       " 'H',\n",
       " 'K',\n",
       " 'P',\n",
       " 'S',\n",
       " 'P',\n",
       " 'Q',\n",
       " 'P',\n",
       " 'Y',\n",
       " 'G',\n",
       " 'C',\n",
       " 'R',\n",
       " 'Q',\n",
       " 'R',\n",
       " 'D',\n",
       " 'R',\n",
       " 'L',\n",
       " 'C',\n",
       " 'G',\n",
       " '_',\n",
       " 'G',\n",
       " '_',\n",
       " 'G',\n",
       " 'Y',\n",
       " 'E',\n",
       " 'S',\n",
       " 'F',\n",
       " 'D',\n",
       " 'R',\n",
       " 'E',\n",
       " 'S',\n",
       " 'A',\n",
       " 'V',\n",
       " 'A',\n",
       " 'V',\n",
       " '_',\n",
       " 'A',\n",
       " 'V',\n",
       " 'F',\n",
       " 'V',\n",
       " 'A',\n",
       " 'L',\n",
       " 'L',\n",
       " 'S',\n",
       " 'W',\n",
       " 'S']"
      ]
     },
     "execution_count": 18,
     "metadata": {},
     "output_type": "execute_result"
    }
   ],
   "source": [
    "codontable.values()"
   ]
  },
  {
   "cell_type": "code",
   "execution_count": 19,
   "metadata": {
    "collapsed": true
   },
   "outputs": [],
   "source": [
    "codontable.items?"
   ]
  },
  {
   "cell_type": "code",
   "execution_count": 20,
   "metadata": {},
   "outputs": [
    {
     "data": {
      "text/plain": [
       "'C'"
      ]
     },
     "execution_count": 20,
     "metadata": {},
     "output_type": "execute_result"
    }
   ],
   "source": [
    "codontable['TGT']"
   ]
  },
  {
   "cell_type": "code",
   "execution_count": 21,
   "metadata": {},
   "outputs": [
    {
     "ename": "KeyError",
     "evalue": "'S'",
     "output_type": "error",
     "traceback": [
      "\u001b[0;31m---------------------------------------------------------------------------\u001b[0m",
      "\u001b[0;31mKeyError\u001b[0m                                  Traceback (most recent call last)",
      "\u001b[0;32m<ipython-input-21-179182babc73>\u001b[0m in \u001b[0;36m<module>\u001b[0;34m()\u001b[0m\n\u001b[0;32m----> 1\u001b[0;31m \u001b[0mcodontable\u001b[0m\u001b[0;34m[\u001b[0m\u001b[0;34m'S'\u001b[0m\u001b[0;34m]\u001b[0m\u001b[0;34m\u001b[0m\u001b[0m\n\u001b[0m",
      "\u001b[0;31mKeyError\u001b[0m: 'S'"
     ]
    }
   ],
   "source": [
    "codontable['S']"
   ]
  },
  {
   "cell_type": "code",
   "execution_count": 22,
   "metadata": {},
   "outputs": [
    {
     "data": {
      "text/plain": [
       "False"
      ]
     },
     "execution_count": 22,
     "metadata": {},
     "output_type": "execute_result"
    }
   ],
   "source": [
    "'YYY' in codontable"
   ]
  },
  {
   "cell_type": "code",
   "execution_count": 5,
   "metadata": {},
   "outputs": [
    {
     "data": {
      "text/plain": [
       "{'A': 9}"
      ]
     },
     "execution_count": 5,
     "metadata": {},
     "output_type": "execute_result"
    }
   ],
   "source": [
    "my_dict = {}\n",
    "my_dict['A'] = sequence.count('A')\n",
    "my_dict"
   ]
  },
  {
   "cell_type": "code",
   "execution_count": 6,
   "metadata": {},
   "outputs": [
    {
     "ename": "KeyError",
     "evalue": "'B'",
     "output_type": "error",
     "traceback": [
      "\u001b[1;31m---------------------------------------------------------------------------\u001b[0m",
      "\u001b[1;31mKeyError\u001b[0m                                  Traceback (most recent call last)",
      "\u001b[1;32m<ipython-input-6-f1c9d69301f9>\u001b[0m in \u001b[0;36m<module>\u001b[1;34m()\u001b[0m\n\u001b[1;32m----> 1\u001b[1;33m \u001b[0mmy_dict\u001b[0m\u001b[1;33m[\u001b[0m\u001b[1;34m'B'\u001b[0m\u001b[1;33m]\u001b[0m\u001b[1;33m\u001b[0m\u001b[0m\n\u001b[0m",
      "\u001b[1;31mKeyError\u001b[0m: 'B'"
     ]
    }
   ],
   "source": [
    "my_dict['B']"
   ]
  },
  {
   "cell_type": "code",
   "execution_count": 7,
   "metadata": {},
   "outputs": [
    {
     "data": {
      "text/plain": [
       "'its not there'"
      ]
     },
     "execution_count": 7,
     "metadata": {},
     "output_type": "execute_result"
    }
   ],
   "source": [
    "my_dict.get('B', 'its not there')"
   ]
  },
  {
   "cell_type": "code",
   "execution_count": 8,
   "metadata": {},
   "outputs": [
    {
     "data": {
      "text/plain": [
       "9"
      ]
     },
     "execution_count": 8,
     "metadata": {},
     "output_type": "execute_result"
    }
   ],
   "source": [
    "my_dict.get('A', 'its not there')"
   ]
  },
  {
   "cell_type": "markdown",
   "metadata": {},
   "source": [
    "\n",
    "## dict.get() method with default value\n",
    "\n",
    "Easy to look up entries that already exist. What about when they don't exist?\n",
    "\n",
    "```\n",
    "\tmy_dict['B']\n",
    "\t\n",
    "\tmy_dict.get('B', 'its not there')\n",
    "\tmy_dict.get('A', 'its not there')\n",
    "```\n",
    "\n",
    "for example, count words in a file (deconstruct this) the data is in the datasets/TSE.txt\n",
    "\n",
    "```\n",
    "\tword_counts = {}\n",
    "\twith open('TSE.txt') as in_file:\n",
    "\t\tfor next_line in in_file: \n",
    "            print(word_counts)\n",
    "\t\t\tprint(next_line)\n",
    "\t\t\twords = next_line.split()\n",
    "\t\t\tfor next_word in words:\n",
    "\t\t\t\tword_counts[next_word] = word_counts.get(next_word,0) + 1\n",
    "\t\t\t\t# word_counts[next_word] = word_counts[next_word] + 1\n",
    "\tprint(word_counts.sort())\n",
    "```\n"
   ]
  },
  {
   "cell_type": "markdown",
   "metadata": {},
   "source": [
    "\n",
    "## Useful Dict Methods\n",
    "\n",
    "* dict.get(): see above\n",
    "* iterators\n",
    "\t* dict.keys()\n",
    "\t* dict.values()\n",
    "\t* dict.items()\n",
    "\n",
    "```\n",
    "\tword_counts.keys()\n",
    "\tword_counts.values()\n",
    "\tword_counts.items()\n",
    "\tword_counts\n",
    "\n",
    "\tfor next_word in sorted( word_counts.keys() ):\n",
    "\t\tprint( \"{}\\t{}\".format(next_word, word_counts[nextWord] ) ) \n",
    "\n",
    "\tfor word, count in word_counts.items():\n",
    "\t\tprint( \"{}\\t{}\".format( word, count ) )\n",
    "```\n",
    "\n",
    "* keys must be *hashable*, but you don't have to know what that really means. Keys can be\n",
    "\t* tuples\n",
    "\t* strings\n",
    "\t* int\n",
    "\t* float\n",
    "* keys can **not** be lists or dicts\n",
    "\n",
    "Describe how hashing works. Note, order of entrys in dicts are **unpredictable**.\n",
    "\n",
    "* dictionary values can be *any* object: lists, dictionaries, mixed types, lists of lists of lists, ...\n",
    "\n"
   ]
  },
  {
   "cell_type": "code",
   "execution_count": 37,
   "metadata": {},
   "outputs": [
    {
     "ename": "NameError",
     "evalue": "name 'word_counts' is not defined",
     "output_type": "error",
     "traceback": [
      "\u001b[0;31m---------------------------------------------------------------------------\u001b[0m",
      "\u001b[0;31mNameError\u001b[0m                                 Traceback (most recent call last)",
      "\u001b[0;32m<ipython-input-37-ca7e1be641d5>\u001b[0m in \u001b[0;36m<module>\u001b[0;34m()\u001b[0m\n\u001b[1;32m      1\u001b[0m \u001b[0;34m\u001b[0m\u001b[0m\n\u001b[0;32m----> 2\u001b[0;31m \u001b[0;32mfor\u001b[0m \u001b[0mnext_word\u001b[0m \u001b[0;32min\u001b[0m \u001b[0msorted\u001b[0m\u001b[0;34m(\u001b[0m \u001b[0mword_counts\u001b[0m\u001b[0;34m.\u001b[0m\u001b[0mkeys\u001b[0m\u001b[0;34m(\u001b[0m\u001b[0;34m)\u001b[0m \u001b[0;34m)\u001b[0m\u001b[0;34m:\u001b[0m\u001b[0;34m\u001b[0m\u001b[0m\n\u001b[0m\u001b[1;32m      3\u001b[0m     \u001b[0;32mprint\u001b[0m\u001b[0;34m(\u001b[0m \u001b[0;34m\"{}\\t{}\"\u001b[0m\u001b[0;34m.\u001b[0m\u001b[0mformat\u001b[0m\u001b[0;34m(\u001b[0m\u001b[0mnext_word\u001b[0m\u001b[0;34m,\u001b[0m \u001b[0mword_counts\u001b[0m\u001b[0;34m[\u001b[0m\u001b[0mnextWord\u001b[0m\u001b[0;34m]\u001b[0m \u001b[0;34m)\u001b[0m \u001b[0;34m)\u001b[0m\u001b[0;34m\u001b[0m\u001b[0m\n",
      "\u001b[0;31mNameError\u001b[0m: name 'word_counts' is not defined"
     ]
    }
   ],
   "source": [
    "\n",
    "for next_word in sorted( word_counts.keys() ):\n",
    "    print( \"{}\\t{}\".format(next_word, word_counts[nextWord] ) )"
   ]
  },
  {
   "cell_type": "markdown",
   "metadata": {},
   "source": [
    "## A still MORE interesting example\n",
    "\n",
    "Consider this HISEQ fasta header:\n",
    "\n",
    "```\n",
    "GFU6RAN01AFQ0P_cs_nbp_rc cs_nbp=31-445 sample=700113576 rbarcode=TCGTTGTC primer=V3-V5 subject=764346198 body_site=Mid vagina center=WUGSC\n",
    "```\n",
    "\n",
    "A useful dict entry might be:\n",
    "\n",
    "```\n",
    "\tsequences = {}\n",
    "\tsequences['GFU6RAN01AFQ0P'] = { \n",
    "\t\t'sample': 700113576, \n",
    "\t\t'rbarcode' : 'TCGTTGTC',\n",
    "\t\t'primer' : 'V3-V5',\n",
    "\t\t'subject' : 764346198,\n",
    "\t\t'body_site' : 'Mid vagina',\n",
    "\t\t'center' : 'WUGSC'\n",
    "\t\t}\n",
    "```\n",
    "\n",
    "Note that this is a dict of dicts. That can be *very* useful.\n",
    "\n",
    "or, equivalently\n",
    "\n",
    "```\n",
    "\tsequences = {\n",
    "\t\t'GFU6RAN01AFQ0P': \n",
    "\t\t\t{\n",
    "\t\t\t'sample': 700113576, \n",
    "\t\t\t'rbarcode' : 'TCGTTGTC',\n",
    "\t\t\t'primer' : 'V3-V5',\n",
    "\t\t\t'subject' : 764346198,\n",
    "\t\t\t'body_site' : 'Mid vagina',\n",
    "\t\t\t'center' : 'WUGSC'\n",
    "\t\t\t}\n",
    "\t\t}\n",
    "```\n",
    "\n",
    "Look up all information about a specific read:\n",
    "\n",
    "```\n",
    "\tsequences['GFU6RAN01AFQ0P']\n",
    "```\n",
    "\n",
    "From which patient was this DNA taken? who did the sequencing?\n",
    "\n",
    "```\n",
    "\tsequences['GFU6RAN01AFQ0P']['subject']\n",
    "\tsequences['GFU6RAN01AFQ0P']['center']\n",
    "```\n"
   ]
  },
  {
   "cell_type": "markdown",
   "metadata": {},
   "source": [
    "\n",
    "## Other useful functions\n"
   ]
  },
  {
   "cell_type": "markdown",
   "metadata": {},
   "source": [
    "\n",
    "### zip(): good for combining lists into a dict\n",
    "\n",
    "*zip(a, b)* returns a zip object (actually a generator), where the first tuple entry is from *a* and the second from *b*\n",
    "\n",
    "For example, remember that we have:\n",
    "\n",
    "```\n",
    "    sequence=\"CGGATCGNNAAGCTCTGTTGTTGGTGANNNYYGGATAYAGGUUNYGTAACTGGCCT\"\n",
    "    nucs=['A','C','G','T']\n",
    "    amb=['N','Y','U']\n",
    "    char_counts = [ sequence.count(x) for x in nucs+amb ]\n",
    "```\n",
    "\n",
    "Try this:\n",
    "\n",
    "```\n",
    "\tzip( nucs+amb, char_counts )\n",
    "\tlist(zip( nucs+amb, char_counts ))\n",
    "```\n",
    "\n",
    "Another way to make a dict:\n",
    "\n",
    "```\n",
    "\tdict( zip( nucs+amb, char_counts ) )\n",
    "```\n",
    "\n",
    "Yet another;\n",
    "\n",
    "```\n",
    "\t{ x:y for (x,y) in zip( nucs+amb, char_counts ) }\n",
    "```\n"
   ]
  },
  {
   "cell_type": "code",
   "execution_count": 41,
   "metadata": {},
   "outputs": [
    {
     "data": {
      "text/plain": [
       "{'A': 9, 'C': 7, 'G': 16, 'N': 6, 'T': 12, 'U': 2, 'Y': 4}"
      ]
     },
     "execution_count": 41,
     "metadata": {},
     "output_type": "execute_result"
    }
   ],
   "source": [
    "sequence=\"CGGATCGNNAAGCTCTGTTGTTGGTGANNNYYGGATAYAGGUUNYGTAACTGGCCT\"\n",
    "nucs=['A','C','G','T']\n",
    "amb=['N','Y','U']\n",
    "char_counts = [ sequence.count(x) for x in nucs+amb ]\n",
    "zip( nucs+amb, char_counts )\n",
    "#list(zip( nucs+amb, char_counts ))\n",
    "dict( zip( nucs+amb, char_counts ) )"
   ]
  },
  {
   "cell_type": "markdown",
   "metadata": {},
   "source": [
    "\n",
    "### enumerate()\n",
    "\n",
    "*enumerate(b)* returns a ennumerate object (a generator) of tuples where the first tuple entry is the\n",
    "order of the element in *b* and the second is the actual element in *b*.\n",
    "\n",
    "Try this:\n",
    "\n",
    "```\n",
    "\tenumerate( nucs+amb, char_counts )\n",
    "\tlist(enumerate( nucs+amb, char_counts ))\n",
    "```\n",
    "\n",
    "this can be useful for printing a sequence of data with \"line numbers\".\n",
    "For example, if you have a list of lines of poetry, you can print with line numbers like this:\n",
    "\n",
    "```\n",
    "\tpoem = ['this is the way the world ends',\n",
    "\t\t\t'this is the way the world ends',\n",
    "\t\t\t'this is the way the world ends',\n",
    "            '\\n',\n",
    "\t\t\t'not with a bang',\n",
    "            '\\n',\n",
    "\t\t\t'but a whimper']\n",
    "\tfor (line_number, line) in enumerate(poem):\n",
    "\t\tprint(line_number, line)\n",
    "```\n"
   ]
  },
  {
   "cell_type": "code",
   "execution_count": 43,
   "metadata": {},
   "outputs": [
    {
     "data": {
      "text/plain": [
       "[(0, 'this is the way the world ends'),\n",
       " (1, 'this is the way the world ends'),\n",
       " (2, 'this is the way the world ends'),\n",
       " (3, '\\n'),\n",
       " (4, 'not with a bang'),\n",
       " (5, '\\n'),\n",
       " (6, 'but a whimper')]"
      ]
     },
     "execution_count": 43,
     "metadata": {},
     "output_type": "execute_result"
    }
   ],
   "source": [
    "poem = ['this is the way the world ends',\n",
    "            'this is the way the world ends',\n",
    "            'this is the way the world ends',\n",
    "            '\\n',\n",
    "            'not with a bang',\n",
    "            '\\n',\n",
    "            'but a whimper']\n",
    "#for (line_number, line) in enumerate(poem):\n",
    " #   print(line_number, line)\n",
    "list(enumerate(poem))"
   ]
  },
  {
   "cell_type": "markdown",
   "metadata": {},
   "source": [
    "# (if time) Tuples and sets"
   ]
  },
  {
   "cell_type": "markdown",
   "metadata": {},
   "source": [
    "## Tuples"
   ]
  },
  {
   "cell_type": "markdown",
   "metadata": {},
   "source": [
    "Tuples are (iterable) sequences of values. Unlike lists (but like strings) they are immutable. \n",
    "\n",
    "Syntax \n",
    "\n",
    ">(value, value, value...)\n",
    "\n",
    "You have seen tuples before! In \n",
    ">enumerate( nucs+amb, char_counts )\n",
    "\n",
    "this is a tuple whose first element is a string and second element a list of ints\n",
    "\n",
    ">( nucs+amb, char_counts )\n",
    "\n",
    "Indexing and slicing tuples is same as with lists.\n",
    "\n",
    "There are only two tuple methods. (compare to string!)\n",
    "\n",
    ">tuple.count()\n",
    ">tuple.index()\n",
    "\n",
    "Examples:\n",
    "\n",
    "```\n",
    "    sequence=\"CGGATCGNNAAGCTCTGTTGTTGGTGANNNYYGGATAYAGGUUNYGTAACTGGCCT\"\n",
    "    nucs=['A','C','G','T']\n",
    "    amb=['N','Y','U']\n",
    "    char_counts = [ sequence.count(x) for x in nucs+amb ]\n",
    "\n",
    "    nuc_tuple = ( nucs+amb, char_counts )\n",
    "    nuc_tuple[:-1]\n",
    "\n",
    "    tuple(sequence)\n",
    "\n",
    "    sequence.count('A')\n",
    "\n",
    "    counts = 1\n",
    "    for next_char in sequence:\n",
    "        if next_char = 'A':\n",
    "            counts = counts + 1\n",
    "\n",
    "    x, y = 0, 1\n",
    "    print(x,y)\n",
    "    x, y = y, x\n",
    "    print(x,y)\n",
    "\n",
    "    sequence[0] = 'X'\n",
    "```       "
   ]
  },
  {
   "cell_type": "markdown",
   "metadata": {},
   "source": [
    "## Sets\n",
    "\n",
    "Sets are iterable sequences of *unique* elements (like mathematical sets)\n",
    "\n",
    "Useful methods (note that they use the *object.method(other_object)* format we saw with *str.join(list)*\n",
    "\n",
    ">set.add(item)\n",
    ">set.remove(item)\n",
    "\n",
    ">set.difference(set)\n",
    ">set.intersection(set)\n",
    ">set.symmetric_difference(set)\n",
    ">set.union(set)\n",
    "\n",
    "```\n",
    "mammals = {'horse', 'platypus', 'cat', 'human'}\n",
    "quadrapeds = {'horse', 'platypus', 'dog'}\n",
    "placental_mammals = {'horse', 'cat', 'human', 'fish'} # remember to check your data for accuracy!\n",
    "\n",
    "placental_mammals.remove('fish')\n",
    "placental_mammals.add('rat')\n",
    "\n",
    "hairy_quadrapeds = quadrapends.intersection(placental_mammals)\n",
    "hairy_quadrapeds_placentals = quadrapends.intersection(placental_mammals.intersection(mammals))\n",
    "\n",
    "'booze_hound' in mammals\n",
    "'dog' in quadrapeds\n",
    "\n",
    "all_animals = mammals.union(quadrapeds.union(placental_mammals))\n",
    "len(all_animals)\n",
    "```\n",
    "\n",
    "Common use: get rid of duplicates\n",
    "```\n",
    "mammals = [ 'horse', 'platypus', 'cat', 'human', 'horse', 'horse']\n",
    "print(mammals)\n",
    "mammals = list(set(mammals))\n",
    "print(mammals)\n",
    "```\n",
    "\n",
    "Iterative, so they can be used in loops:\n",
    "\n",
    "```\n",
    "for next_animal in mammals:\n",
    "   print('my next favorite animal', next_animal)\n",
    "```\n"
   ]
  },
  {
   "cell_type": "code",
   "execution_count": null,
   "metadata": {
    "collapsed": true
   },
   "outputs": [],
   "source": []
  }
 ],
 "metadata": {
  "anaconda-cloud": {},
  "kernelspec": {
   "display_name": "Python 3",
   "language": "python",
   "name": "python3"
  },
  "language_info": {
   "codemirror_mode": {
    "name": "ipython",
    "version": 3
   },
   "file_extension": ".py",
   "mimetype": "text/x-python",
   "name": "python",
   "nbconvert_exporter": "python",
   "pygments_lexer": "ipython3",
   "version": "3.6.5"
  },
  "latex_envs": {
   "bibliofile": "biblio.bib",
   "cite_by": "apalike",
   "current_citInitial": 1,
   "eqLabelWithNumbers": true,
   "eqNumInitial": 0
  }
 },
 "nbformat": 4,
 "nbformat_minor": 2
}
