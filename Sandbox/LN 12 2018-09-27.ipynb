{
 "cells": [
  {
   "cell_type": "markdown",
   "metadata": {},
   "source": [
    "# Lecture 12 2018-09-27: tuples, sets; formatting strings redux; comprehension\n",
    "\n",
    "This worksheet accompanies the lecture notes.\n"
   ]
  },
  {
   "cell_type": "markdown",
   "metadata": {
    "heading_collapsed": true
   },
   "source": [
    "# Tuples and sets"
   ]
  },
  {
   "cell_type": "markdown",
   "metadata": {
    "hidden": true
   },
   "source": [
    "## Tuples"
   ]
  },
  {
   "cell_type": "markdown",
   "metadata": {},
   "source": [
    "Tuples are (iterable) sequences of values. Unlike lists (but like strings) they are immutable. \n",
    "\n",
    "Syntax \n",
    "\n",
    ">(value, value, value...)\n",
    "\n",
    "You have seen tuples before! In \n",
    ">enumerate( nucs+amb, char_counts )\n",
    "\n",
    "this is a tuple whose first element is a string and second element a list of ints\n",
    "\n",
    ">( nucs+amb, char_counts )\n",
    "\n",
    "Indexing and slicing tuples is same as with lists.\n",
    "\n",
    "There are only two tuple methods. (compare to string!)\n",
    "\n",
    ">tuple.count()\n",
    ">tuple.index()\n",
    "\n",
    "Examples:\n",
    "\n",
    "```\n",
    "    sequence=\"CGGATCGNNAAGCTCTGTTGTTGGTGANNNYYGGATAYAGGUUNYGTAACTGGCCT\"\n",
    "    nucs=['A','C','G','T']\n",
    "    amb=['N','Y','U']\n",
    "    char_counts = [ sequence.count(x) for x in nucs+amb ]\n",
    "\n",
    "    nuc_tuple = ( nucs+amb, char_counts )\n",
    "    nuc_tuple[:-1]\n",
    "\n",
    "    tuple(sequence)\n",
    "\n",
    "    sequence.count('A')\n",
    "\n",
    "    counts = 1\n",
    "    for next_char in sequence:\n",
    "        if next_char = 'A':\n",
    "            counts = counts + 1\n",
    "\n",
    "    x, y = 0, 1\n",
    "    print(x,y)\n",
    "    x, y = y, x\n",
    "    print(x,y)\n",
    "\n",
    "    sequence[0] = 'X'\n",
    "```       "
   ]
  },
  {
   "cell_type": "code",
   "execution_count": 3,
   "metadata": {
    "collapsed": false
   },
   "outputs": [
    {
     "name": "stdout",
     "output_type": "stream",
     "text": [
      "('hello', 'there')\n"
     ]
    },
    {
     "data": {
      "text/plain": [
       "str"
      ]
     },
     "execution_count": 3,
     "metadata": {},
     "output_type": "execute_result"
    }
   ],
   "source": [
    "print('hello','there')\n",
    "type('hello')"
   ]
  },
  {
   "cell_type": "code",
   "execution_count": 8,
   "metadata": {
    "collapsed": false
   },
   "outputs": [
    {
     "data": {
      "text/plain": [
       "[9, 7, 16, 12, 6, 4, 2]"
      ]
     },
     "execution_count": 8,
     "metadata": {},
     "output_type": "execute_result"
    }
   ],
   "source": [
    "sequence=\"CGGATCGNNAAGCTCTGTTGTTGGTGANNNYYGGATAYAGGUUNYGTAACTGGCCT\"\n",
    "nucs=['A','C','G','T']\n",
    "amb=['N','Y','U']\n",
    "char_counts = [ sequence.count(x) for x in nucs+amb ]\n",
    "char_counts"
   ]
  },
  {
   "cell_type": "code",
   "execution_count": 6,
   "metadata": {
    "collapsed": false
   },
   "outputs": [
    {
     "name": "stdout",
     "output_type": "stream",
     "text": [
      "(['A', 'C', 'G', 'T', 'N', 'Y', 'U'], [9, 7, 16, 12, 6, 4, 2])\n"
     ]
    },
    {
     "data": {
      "text/plain": [
       "(['A', 'C', 'G', 'T', 'N', 'Y', 'U'],)"
      ]
     },
     "execution_count": 6,
     "metadata": {},
     "output_type": "execute_result"
    }
   ],
   "source": [
    "nuc_tuple = ( nucs+amb, char_counts )\n",
    "print(nuc_tuple)\n",
    "nuc_tuple[:-1]"
   ]
  },
  {
   "cell_type": "code",
   "execution_count": null,
   "metadata": {
    "collapsed": true
   },
   "outputs": [],
   "source": []
  },
  {
   "cell_type": "code",
   "execution_count": 11,
   "metadata": {
    "collapsed": false
   },
   "outputs": [
    {
     "name": "stdout",
     "output_type": "stream",
     "text": [
      "('C', 'G', 'G', 'A', 'T', 'C', 'G', 'N', 'N', 'A', 'A', 'G', 'C', 'T', 'C', 'T', 'G', 'T', 'T', 'G', 'T', 'T', 'G', 'G', 'T', 'G', 'A', 'N', 'N', 'N', 'Y', 'Y', 'G', 'G', 'A', 'T', 'A', 'Y', 'A', 'G', 'G', 'U', 'U', 'N', 'Y', 'G', 'T', 'A', 'A', 'C', 'T', 'G', 'G', 'C', 'C', 'T')\n"
     ]
    },
    {
     "data": {
      "text/plain": [
       "9"
      ]
     },
     "execution_count": 11,
     "metadata": {},
     "output_type": "execute_result"
    }
   ],
   "source": [
    "t = tuple(sequence)\n",
    "print(t)\n",
    "t.count('A')"
   ]
  },
  {
   "cell_type": "code",
   "execution_count": 12,
   "metadata": {
    "collapsed": false
   },
   "outputs": [
    {
     "ename": "TypeError",
     "evalue": "'tuple' object does not support item assignment",
     "output_type": "error",
     "traceback": [
      "\u001b[0;31m---------------------------------------------------------------------------\u001b[0m",
      "\u001b[0;31mTypeError\u001b[0m                                 Traceback (most recent call last)",
      "\u001b[0;32m<ipython-input-12-6a6c3df64f94>\u001b[0m in \u001b[0;36m<module>\u001b[0;34m()\u001b[0m\n\u001b[0;32m----> 1\u001b[0;31m \u001b[0mt\u001b[0m\u001b[0;34m[\u001b[0m\u001b[0;36m1\u001b[0m\u001b[0;34m]\u001b[0m \u001b[0;34m=\u001b[0m \u001b[0;34m'XXX'\u001b[0m\u001b[0;34m\u001b[0m\u001b[0m\n\u001b[0m",
      "\u001b[0;31mTypeError\u001b[0m: 'tuple' object does not support item assignment"
     ]
    }
   ],
   "source": [
    "t[1] = 'XXX' # can't change"
   ]
  },
  {
   "cell_type": "code",
   "execution_count": null,
   "metadata": {
    "collapsed": true
   },
   "outputs": [],
   "source": [
    "\n",
    "\n",
    "\n",
    "\n",
    "\n",
    "    sequence.count('A')\n",
    "\n",
    "    counts = 1\n",
    "    for next_char in sequence:\n",
    "        if next_char = 'A':\n",
    "            counts = counts + 1\n",
    "\n",
    "    x, y = 0, 1\n",
    "    print(x,y)\n",
    "    x, y = y, x\n",
    "    print(x,y)\n",
    "\n",
    "    sequence[0] = 'X'"
   ]
  },
  {
   "cell_type": "code",
   "execution_count": 23,
   "metadata": {
    "collapsed": false
   },
   "outputs": [
    {
     "name": "stdout",
     "output_type": "stream",
     "text": [
      "('x', 1, 'y', 2)\n"
     ]
    }
   ],
   "source": [
    "x, y = 1, 2\n",
    "print('x',x,'y',y)"
   ]
  },
  {
   "cell_type": "markdown",
   "metadata": {},
   "source": [
    "step code    x    y    x    y\n",
    "0    -       x'   y'   1    2\n",
    "1    x=x-y   x'-y'y'   -1   1"
   ]
  },
  {
   "cell_type": "code",
   "execution_count": 20,
   "metadata": {
    "collapsed": false
   },
   "outputs": [
    {
     "name": "stdout",
     "output_type": "stream",
     "text": [
      "('x', 2, 'y', 1)\n"
     ]
    }
   ],
   "source": [
    "# easy way\n",
    "x, y =y, x\n",
    "print('x',x,'y',y)"
   ]
  },
  {
   "cell_type": "code",
   "execution_count": 24,
   "metadata": {
    "collapsed": false
   },
   "outputs": [
    {
     "name": "stdout",
     "output_type": "stream",
     "text": [
      "('x', 2, 'y', 1)\n"
     ]
    }
   ],
   "source": [
    "(x, y) =(y, x)\n",
    "print('x',x,'y',y)"
   ]
  },
  {
   "cell_type": "code",
   "execution_count": 17,
   "metadata": {
    "collapsed": false
   },
   "outputs": [
    {
     "name": "stdout",
     "output_type": "stream",
     "text": [
      "('x', 2, 'y', 1)\n"
     ]
    }
   ],
   "source": [
    "z = x # z = 1\n",
    "x = y# x=2\n",
    "y = z\n",
    "print('x',x,'y',y)"
   ]
  },
  {
   "cell_type": "code",
   "execution_count": 18,
   "metadata": {
    "collapsed": false
   },
   "outputs": [
    {
     "name": "stdout",
     "output_type": "stream",
     "text": [
      "('x', 1, 'y', 1)\n"
     ]
    }
   ],
   "source": [
    "#wrong\n",
    "x = y\n",
    "y = x\n",
    "print('x',x,'y',y)"
   ]
  },
  {
   "cell_type": "markdown",
   "metadata": {
    "hidden": true
   },
   "source": [
    "## Sets\n",
    "\n",
    "Sets are iterable sequences of *unique* elements (like mathematical sets)\n",
    "\n",
    "Useful methods (note that they use the *object.method(other_object)* format we saw with *str.join(list)*\n",
    "\n",
    ">set.add(item)\n",
    ">set.remove(item)\n",
    "\n",
    ">set.difference(set)\n",
    ">set.intersection(set)\n",
    ">set.symmetric_difference(set)\n",
    ">set.union(set)\n",
    "\n",
    "```\n",
    "mammals = {'horse', 'platypus', 'cat', 'human'}\n",
    "quadrapeds = {'horse', 'platypus', 'dog'}\n",
    "placental_mammals = {'horse', 'cat', 'human', 'fish'} # remember to check your data for accuracy!\n",
    "\n",
    "placental_mammals.remove('fish')\n",
    "placental_mammals.add('rat')\n",
    "\n",
    "hairy_quadrapeds = quadrapends.intersection(placental_mammals)\n",
    "hairy_quadrapeds_placentals = quadrapends.intersection(placental_mammals.intersection(mammals))\n",
    "\n",
    "'booze_hound' in mammals\n",
    "'dog' in quadrapeds\n",
    "\n",
    "all_animals = mammals.union(quadrapeds.union(placental_mammals))\n",
    "len(all_animals)\n",
    "```\n",
    "\n",
    "Common use: get rid of duplicates\n",
    "```\n",
    "mammals = [ 'horse', 'platypus', 'cat', 'human', 'horse', 'horse']\n",
    "print(mammals)\n",
    "mammals = list(set(mammals))\n",
    "print(mammals)\n",
    "```\n",
    "\n",
    "Iterative, so they can be used in loops:\n",
    "\n",
    "```\n",
    "for next_animal in mammals:\n",
    "   print('my next favorite animal', next_animal)\n",
    "```\n"
   ]
  },
  {
   "cell_type": "code",
   "execution_count": 25,
   "metadata": {
    "collapsed": true
   },
   "outputs": [],
   "source": [
    "mammals = {'horse', 'platypus', 'cat', 'human'}\n",
    "quadrapeds = {'horse', 'platypus', 'dog'} # four feet animals\n",
    "placental_mammals = {'horse', 'cat', 'human', 'fish'} # remember to check your data for accuracy! taisheng"
   ]
  },
  {
   "cell_type": "code",
   "execution_count": 27,
   "metadata": {
    "collapsed": false
   },
   "outputs": [
    {
     "data": {
      "text/plain": [
       "{'cat', 'dog', 'horse', 'human', 'platypus'}"
      ]
     },
     "execution_count": 27,
     "metadata": {},
     "output_type": "execute_result"
    }
   ],
   "source": [
    "mammals.union(quadrapeds)"
   ]
  },
  {
   "cell_type": "code",
   "execution_count": 28,
   "metadata": {
    "collapsed": false
   },
   "outputs": [
    {
     "data": {
      "text/plain": [
       "{'cat', 'dog', 'human'}"
      ]
     },
     "execution_count": 28,
     "metadata": {},
     "output_type": "execute_result"
    }
   ],
   "source": [
    "mammals.symmetric_difference(quadrapeds)"
   ]
  },
  {
   "cell_type": "code",
   "execution_count": 30,
   "metadata": {
    "collapsed": false
   },
   "outputs": [
    {
     "data": {
      "text/plain": [
       "{1, 2, 3, 4}"
      ]
     },
     "execution_count": 30,
     "metadata": {},
     "output_type": "execute_result"
    }
   ],
   "source": [
    "x = [1,2,3,4,4,4,4]\n",
    "set(x)"
   ]
  },
  {
   "cell_type": "code",
   "execution_count": 31,
   "metadata": {
    "collapsed": false
   },
   "outputs": [
    {
     "data": {
      "text/plain": [
       "[1, 2, 3, 4]"
      ]
     },
     "execution_count": 31,
     "metadata": {},
     "output_type": "execute_result"
    }
   ],
   "source": [
    "x = [1,2,3,4,4,4,4]\n",
    "x = list(set(x))\n",
    "x"
   ]
  },
  {
   "cell_type": "code",
   "execution_count": 34,
   "metadata": {
    "collapsed": false
   },
   "outputs": [
    {
     "data": {
      "text/plain": [
       "'CGGATCGNNAAGCTCTGTTGTTGGTGANNNYYGGATAYAGGUUNYGTAACTGGCCT'"
      ]
     },
     "execution_count": 34,
     "metadata": {},
     "output_type": "execute_result"
    }
   ],
   "source": [
    "sequence"
   ]
  },
  {
   "cell_type": "code",
   "execution_count": 32,
   "metadata": {
    "collapsed": false
   },
   "outputs": [
    {
     "data": {
      "text/plain": [
       "{'A', 'C', 'G', 'N', 'T', 'U', 'Y'}"
      ]
     },
     "execution_count": 32,
     "metadata": {},
     "output_type": "execute_result"
    }
   ],
   "source": [
    "set(sequence)"
   ]
  },
  {
   "cell_type": "code",
   "execution_count": 36,
   "metadata": {
    "collapsed": false
   },
   "outputs": [
    {
     "name": "stdout",
     "output_type": "stream",
     "text": [
      "set(['A', 'C', 'G', 'N', 'U', 'T', 'Y'])\n"
     ]
    },
    {
     "data": {
      "text/plain": [
       "{'N', 'U', 'Y'}"
      ]
     },
     "execution_count": 36,
     "metadata": {},
     "output_type": "execute_result"
    }
   ],
   "source": [
    "s = set(sequence)\n",
    "print(s)\n",
    "s.difference({'A','C',\"G\",'T'})"
   ]
  },
  {
   "cell_type": "markdown",
   "metadata": {},
   "source": [
    "# String formatting, fancy style\n",
    "\n",
    "So far, we have seen how to use *print* with multiple strings, and how to include escape characters (like tab, '\\t' and new line '\\n') in strings, to get some primitive formatting. We have also seen how so use the *str.join(list)* method to form tab delimited strings from a list of strings. \n",
    "\n",
    "An alternative is the *str.format()* method, which is a very powerful way to format strings. To use it, the string whose method you are invoking has what you want to print, with patterns in it that you want to format or provide values for. the parameters in parentheses are the values you want to use to replace the patterns.\n",
    "\n",
    "The parameters are enclosed in \"{}\" marks. what is in the brackets tells python how you want to format data. *format()* method replaces these with the parameters between brackets, in order. \n",
    "\n",
    "For example, this produces what you think it should:\n",
    "\n",
    "```\n",
    "gc_content = 0.667\n",
    "dna_string = 'GGCCTA'\n",
    "print('gc: content is {} for {}'.format(gc_content, dna_string))\n",
    "```"
   ]
  },
  {
   "cell_type": "code",
   "execution_count": 37,
   "metadata": {
    "collapsed": false
   },
   "outputs": [
    {
     "name": "stdout",
     "output_type": "stream",
     "text": [
      "gc: content is 0.667 for GGCCTA\n"
     ]
    }
   ],
   "source": [
    "gc_content = 0.667\n",
    "dna_string = 'GGCCTA'\n",
    "print('gc: content is {} for {}'.format(gc_content, dna_string))"
   ]
  },
  {
   "cell_type": "code",
   "execution_count": 45,
   "metadata": {
    "collapsed": false
   },
   "outputs": [
    {
     "name": "stdout",
     "output_type": "stream",
     "text": [
      "GC Content: 0.667 DNA GGCCTA\n"
     ]
    }
   ],
   "source": [
    "print'GC Content:', gc_content, 'DNA', dna_string"
   ]
  },
  {
   "cell_type": "code",
   "execution_count": 42,
   "metadata": {
    "collapsed": false
   },
   "outputs": [
    {
     "data": {
      "text/plain": [
       "'gc: content is 0.667 for GGCCTA'"
      ]
     },
     "execution_count": 42,
     "metadata": {},
     "output_type": "execute_result"
    }
   ],
   "source": [
    "'gc: content is {} for {}'.format(gc_content, dna_string)"
   ]
  },
  {
   "cell_type": "code",
   "execution_count": null,
   "metadata": {
    "collapsed": true
   },
   "outputs": [],
   "source": [
    "'gc: content is {} for {}'.format"
   ]
  },
  {
   "cell_type": "markdown",
   "metadata": {},
   "source": [
    "## more complicated formatting\n",
    "\n",
    "Using '{n}' for an integer n uses the nth parameter from the *format()* method. And you can re-use patterns. \n",
    "\n",
    "```\n",
    "name='James'\n",
    "greeting='hello'\n",
    "print('dear {1}. I bid you {0}, {1}'.format(greeting, name))\n",
    "```"
   ]
  },
  {
   "cell_type": "code",
   "execution_count": 46,
   "metadata": {
    "collapsed": false
   },
   "outputs": [
    {
     "name": "stdout",
     "output_type": "stream",
     "text": [
      "dear James. I bid you hello, James\n"
     ]
    }
   ],
   "source": [
    "name='James'\n",
    "greeting='hello'\n",
    "print('dear {1}. I bid you {0}, {1}'.format(greeting, name))"
   ]
  },
  {
   "cell_type": "markdown",
   "metadata": {},
   "source": [
    "More fine-grained formatting is possible. \n",
    "Here are some common uses.\n",
    "(for details on formatting, see the very, very geeky: https://docs.python.org/3/library/string.html#formatstrings)\n",
    "\n",
    "In general, a number before the \":\" says which parameter to use, a number after \":\" is a width, a number after \".\" says how many digits/characters to use, and characters after the number change the formatting in self-explanatory ways. \n",
    "\n",
    "* to format the ith parameter as an int, right aligned to a column of width w use '{i:w}'\n",
    "* to format with comma separations, use '{i:w,}'\n",
    "* to format as a percentage, use 'i:w%'\n",
    "* to format a float with a after the decimal, use 'i:.a'\n",
    "* to format a number in exponential notation with with d digits, use 'i:.d' \n",
    "\n",
    "Strings make sense, too"
   ]
  },
  {
   "cell_type": "code",
   "execution_count": 59,
   "metadata": {
    "collapsed": false
   },
   "outputs": [
    {
     "name": "stdout",
     "output_type": "stream",
     "text": [
      "as percent 1234500.000000%    \twith commas 12,345  \tfloat 3.142\texponential 1.2346e-10\n"
     ]
    }
   ],
   "source": [
    "print('as percent {0:1%}    \\twith commas {0:1,}  \\tfloat {1:.4}\\texponential {2:.5}'.format(\n",
    "    12345, 3.14156, 0.0000000001234567)\n",
    "     )\n",
    "#print('--{0:.3}\\t{0:.2}\\t{0}--'.format('jabberwocky'))"
   ]
  },
  {
   "cell_type": "code",
   "execution_count": 60,
   "metadata": {
    "collapsed": false
   },
   "outputs": [
    {
     "name": "stdout",
     "output_type": "stream",
     "text": [
      "thing 0 1234\tthing 1 1234\t thing 0 again1234\n",
      "thing 0 1\tthing 1 1\t thing 0 again1\n",
      "thing 0 2\tthing 1 2\t thing 0 again2\n",
      "thing 0 3\tthing 1 3\t thing 0 again3\n",
      "thing 0 4\tthing 1 4\t thing 0 again4\n"
     ]
    }
   ],
   "source": [
    "pattern = 'thing 0 {0}\\tthing 1 {0}\\t thing 0 again{0}'\n",
    "print(pattern.format(1234))\n",
    "for x in [1,2,3,4]:\n",
    "    print(pattern.format(x))"
   ]
  },
  {
   "cell_type": "code",
   "execution_count": 61,
   "metadata": {
    "collapsed": false
   },
   "outputs": [
    {
     "ename": "ValueError",
     "evalue": "unsupported format character 't' (0x74) at index 10",
     "output_type": "error",
     "traceback": [
      "\u001b[0;31m---------------------------------------------------------------------------\u001b[0m",
      "\u001b[0;31mValueError\u001b[0m                                Traceback (most recent call last)",
      "\u001b[0;32m<ipython-input-61-5e4241a8ffd1>\u001b[0m in \u001b[0;36m<module>\u001b[0;34m()\u001b[0m\n\u001b[0;32m----> 1\u001b[0;31m \u001b[0;32mprint\u001b[0m\u001b[0;34m(\u001b[0m\u001b[0;34m'thing 1 % thing 2%'\u001b[0m \u001b[0;34m%\u001b[0m \u001b[0;34m(\u001b[0m\u001b[0;34m'foo'\u001b[0m\u001b[0;34m,\u001b[0m\u001b[0;36m99\u001b[0m\u001b[0;34m)\u001b[0m\u001b[0;34m)\u001b[0m\u001b[0;34m\u001b[0m\u001b[0m\n\u001b[0m",
      "\u001b[0;31mValueError\u001b[0m: unsupported format character 't' (0x74) at index 10"
     ]
    }
   ],
   "source": [
    "print('thing 1 % thing 2%' % ('foo',99))"
   ]
  },
  {
   "cell_type": "markdown",
   "metadata": {},
   "source": [
    "# comprehension\n",
    "\n",
    "Comprehension creates one sequential structure from another. \n",
    "this is a very powerful feature of python.\n",
    "\n",
    "*list comprehension* creates a list, *dictioary comprehension* creates a dict, *set comprehension* creates a set, etc. Comprehension is essential shorthand for the usual way of creating a structure, by creating an empty structure then adding elements one at a time in a *for* loop. For example, a list comprehension equivalent to \n",
    "\n",
    "```\n",
    "numbers = list(range(20))\n",
    "\n",
    "evens = []\n",
    "for x in numbers:\n",
    "    if x%2 == 0:\n",
    "       evens.append(x)\n",
    "print(evens)\n",
    "```\n",
    "\n",
    "is\n",
    "\n",
    "```\n",
    "evens = [x for x in numbers if x%2 == 0]\n",
    "\n",
    "print(evens)\n",
    "```\n",
    "\n",
    "Here are more examples\n",
    "\n",
    "```\n",
    "evens = [x for x in numbers if x%2 == 0]\n",
    "pairs = [(x,y) for x,y in list(range(4))]\n",
    "distinct_pairs = [(x,y) for x,y in range(4) if x != y]\n",
    "```"
   ]
  },
  {
   "cell_type": "code",
   "execution_count": 66,
   "metadata": {
    "collapsed": false
   },
   "outputs": [
    {
     "name": "stdout",
     "output_type": "stream",
     "text": [
      "[0, 2, 4, 6, 8, 10, 12, 14, 16, 18]\n",
      "[0, 1, 2, 3, 4, 5, 6, 7, 8, 9, 10, 11, 12, 13, 14, 15, 16, 17, 18, 19]\n"
     ]
    }
   ],
   "source": [
    "numbers = list(range(20))\n",
    "#zhao ou shu\n",
    "evens = []\n",
    "for next_number in numbers:\n",
    "    if next_number%2 == 0: #qu yu\n",
    "       evens.append(next_number)\n",
    "print(evens)\n",
    "print(numbers)"
   ]
  },
  {
   "cell_type": "markdown",
   "metadata": {},
   "source": [
    "## List comprehension\n",
    "\n",
    "Lists are a sequence of values between '[' and ']', so comprehension looks like\n",
    "\n",
    ">[how to build the list from other structures]\n",
    "\n",
    "The \"other structures\" can be lists, sets, tuples, strings ... any sequential structure\n",
    "\n",
    "```\n",
    "numbers = list(range(20))\n",
    "\n",
    "evens = []\n",
    "for x in numbers:\n",
    "    if x%2 == 0:\n",
    "       evens.append(x)\n",
    "print(evens)\n",
    "```\n",
    "\n",
    "is\n",
    "\n",
    "```\n",
    "evens = [x for x in numbers if x%2 == 0]\n",
    "\n",
    "print(evens)\n",
    "```\n",
    "\n",
    "Here are more examples\n",
    "\n",
    "```\n",
    "evens = [x for x in numbers if x%2 == 0]\n",
    "pairs = [(x,y) for x,y in list(range(4))]\n",
    "distinct_pairs = [(x,y) for x,y in range(4) if x != y]\n",
    "```"
   ]
  },
  {
   "cell_type": "code",
   "execution_count": 102,
   "metadata": {
    "collapsed": false
   },
   "outputs": [
    {
     "name": "stdout",
     "output_type": "stream",
     "text": [
      "[0, 2, 4, 6, 8, 10, 12, 14, 16, 18]\n"
     ]
    }
   ],
   "source": [
    "evens = []\n",
    "for x in numbers:\n",
    "    if x%2 == 0:\n",
    "       evens.append(x)\n",
    "print(evens)"
   ]
  },
  {
   "cell_type": "code",
   "execution_count": 70,
   "metadata": {
    "collapsed": false
   },
   "outputs": [
    {
     "name": "stdout",
     "output_type": "stream",
     "text": [
      "[0, 1, 2, 3, 4, 5, 6, 7, 8, 9, 10, 11, 12, 13, 14, 15, 16, 17, 18, 19]\n",
      "0\t2\t4\t6\t8\t10\t12\t14\t16\t18\n"
     ]
    }
   ],
   "source": [
    "numbers = list(range(20))\n",
    "print(numbers)\n",
    "\n",
    "evens = [x for x in numbers if x%2 == 0]\n",
    "evens\n",
    "print('\\t'.join([str(x) for x in evens]))"
   ]
  },
  {
   "cell_type": "code",
   "execution_count": 79,
   "metadata": {
    "collapsed": false
   },
   "outputs": [
    {
     "data": {
      "text/plain": [
       "[(0, 1), (0, 2), (0, 3), (1, 2), (1, 3), (2, 3)]"
      ]
     },
     "execution_count": 79,
     "metadata": {},
     "output_type": "execute_result"
    }
   ],
   "source": [
    "pairs = [(x,y) \n",
    "         for x in list(range(4)) \n",
    "         for y in list(range(4))\n",
    "        if x < y\n",
    "        ]\n",
    "pairs"
   ]
  },
  {
   "cell_type": "markdown",
   "metadata": {},
   "source": [
    "Multiple *for*s are possible, just as one can have multiple *for* loops. For example, to make a list with pairs of ints, for \n",
    "\n",
    "```\n",
    "pairs = []\n",
    "for x in range(4):\n",
    "    for y in range(2):\n",
    "       pairs.append((x,y))\n",
    "\n",
    "print('pairs: {}'.format(pairs))\n",
    "```\n",
    "\n",
    "use\n",
    "\n",
    "```\n",
    "pairs = [(x,y) for x in range(4) for y in range(2)]\n",
    "print('pairs: {}'.format(pairs))\n",
    "```\n",
    "\n",
    "and for pairs of unique ints, instead of \n",
    "```\n",
    "distinct_pairs = []\n",
    "for x in range(4):\n",
    "    for y in range(2):\n",
    "       if x != y:\n",
    "           distinct_pairs.append((x,y))\n",
    "\n",
    "print('distinct_pairs: {}'.format(distinct_pairs))\n",
    "```\n",
    "\n",
    "use\n",
    "\n",
    "```\n",
    "distinct_pairs = [(x,y) for x in range(4) for y in range(2) if x != y]\n",
    "\n",
    "print('distinct_pairs: {}'.format(distinct_pairs))\n",
    "```"
   ]
  },
  {
   "cell_type": "code",
   "execution_count": 104,
   "metadata": {
    "collapsed": false
   },
   "outputs": [
    {
     "name": "stdout",
     "output_type": "stream",
     "text": [
      "pairs: [(0, 0), (0, 1), (1, 0), (1, 1), (2, 0), (2, 1), (3, 0), (3, 1)]\n",
      "distinct_pairs: [(0, 1), (1, 0), (2, 0), (2, 1), (3, 0), (3, 1)]\n"
     ]
    }
   ],
   "source": [
    "pairs = []\n",
    "for x in range(4):\n",
    "    for y in range(2):\n",
    "       pairs.append((x,y))\n",
    "\n",
    "print('pairs: {}'.format(pairs))\n",
    "\n",
    "distinct_pairs = [(x,y) for x in range(4) for y in range(2) if x != y]\n",
    "\n",
    "print('distinct_pairs: {}'.format(distinct_pairs))\n"
   ]
  },
  {
   "cell_type": "markdown",
   "metadata": {},
   "source": [
    "though better formatting for this may have been\n",
    "\n",
    "```\n",
    "distinct_pairs = [(x,y) \n",
    "    for x in range(4) \n",
    "    for y in range(2) \n",
    "    if x != y]\n",
    "```"
   ]
  },
  {
   "cell_type": "markdown",
   "metadata": {},
   "source": [
    "Or\n",
    "\n",
    "```\n",
    "sequence_list = ['AAA', 'AAG', 'ATC', 'TAG', 'AAG', 'AAG']\n",
    "\n",
    "two_As = [x for x in sequence_list if x.count('A' == 2)]\n",
    "```"
   ]
  },
  {
   "cell_type": "markdown",
   "metadata": {},
   "source": [
    "One can perform operations and invoke methods when appropriate"
   ]
  },
  {
   "cell_type": "code",
   "execution_count": 105,
   "metadata": {
    "collapsed": false
   },
   "outputs": [
    {
     "name": "stdout",
     "output_type": "stream",
     "text": [
      "[0, 4, 16, 36, 64, 100, 144, 196, 256, 324]\n"
     ]
    }
   ],
   "source": [
    "squared_evens = [x*x for x in evens]\n",
    "print(squared_evens)"
   ]
  },
  {
   "cell_type": "code",
   "execution_count": 106,
   "metadata": {
    "collapsed": false
   },
   "outputs": [
    {
     "name": "stdout",
     "output_type": "stream",
     "text": [
      "['AAG', 'AAG', 'AAG']\n"
     ]
    }
   ],
   "source": [
    "sequence_list = ['AAA', 'AAG', 'ATC', 'TAG', 'AAG', 'AAG']\n",
    "\n",
    "two_As = [x for x in sequence_list if x.count('A') == 2]\n",
    "print(two_As)"
   ]
  },
  {
   "cell_type": "markdown",
   "metadata": {},
   "source": [
    "### A very important example\n",
    "\n",
    "As you know, *str.join(list)* only works if *list* is a list **of strings**. \n",
    "If it isn't, list comprehension is an easy way to make it one. \n",
    "We have seen this in several lectures and homeworks, but there I just called it \"magic\".\n",
    "\n",
    "Consider\n",
    "```\n",
    "int_list = [1,2,3,4,5]\n",
    "list_list = [[1,2], [3,4], [5], [6,'foo']]\n",
    "```\n",
    "\n",
    "these will not work\n",
    "\n",
    "```\n",
    "print('\\t'.join(int_list))\n",
    "print('\\t'.join(list_list))\n",
    "```\n",
    "\n",
    "But this will:\n",
    "\n",
    "````\n",
    "print('\\t'.join( \n",
    "   [ str(value) for value in int_list ] \n",
    "       )\n",
    "   )\n",
    "print('\\t'.join(\n",
    "    [ str(s) for s in list_list ]\n",
    "        )\n",
    "    )\n",
    "```"
   ]
  },
  {
   "cell_type": "code",
   "execution_count": 82,
   "metadata": {
    "collapsed": true
   },
   "outputs": [],
   "source": [
    "int_list = [1,2,3,4,5]\n",
    "list_list = [[1,2], [3,4], [5], [6,'foo']]"
   ]
  },
  {
   "cell_type": "code",
   "execution_count": 83,
   "metadata": {
    "collapsed": false
   },
   "outputs": [
    {
     "ename": "TypeError",
     "evalue": "sequence item 0: expected string, int found",
     "output_type": "error",
     "traceback": [
      "\u001b[0;31m---------------------------------------------------------------------------\u001b[0m",
      "\u001b[0;31mTypeError\u001b[0m                                 Traceback (most recent call last)",
      "\u001b[0;32m<ipython-input-83-e19407bbdf80>\u001b[0m in \u001b[0;36m<module>\u001b[0;34m()\u001b[0m\n\u001b[0;32m----> 1\u001b[0;31m \u001b[0;32mprint\u001b[0m\u001b[0;34m(\u001b[0m\u001b[0;34m'\\t'\u001b[0m\u001b[0;34m.\u001b[0m\u001b[0mjoin\u001b[0m\u001b[0;34m(\u001b[0m\u001b[0mint_list\u001b[0m\u001b[0;34m)\u001b[0m\u001b[0;34m)\u001b[0m\u001b[0;34m\u001b[0m\u001b[0m\n\u001b[0m\u001b[1;32m      2\u001b[0m \u001b[0;32mprint\u001b[0m\u001b[0;34m(\u001b[0m\u001b[0;34m'\\t'\u001b[0m\u001b[0;34m.\u001b[0m\u001b[0mjoin\u001b[0m\u001b[0;34m(\u001b[0m\u001b[0mlist_list\u001b[0m\u001b[0;34m)\u001b[0m\u001b[0;34m)\u001b[0m\u001b[0;34m\u001b[0m\u001b[0m\n",
      "\u001b[0;31mTypeError\u001b[0m: sequence item 0: expected string, int found"
     ]
    }
   ],
   "source": [
    "print('\\t'.join(int_list))\n",
    "print('\\t'.join(list_list))"
   ]
  },
  {
   "cell_type": "code",
   "execution_count": 84,
   "metadata": {
    "collapsed": false
   },
   "outputs": [
    {
     "name": "stdout",
     "output_type": "stream",
     "text": [
      "1\t2\t3\t4\t5\n",
      "[1, 2]\t[3, 4]\t[5]\t[6, 'foo']\n"
     ]
    }
   ],
   "source": [
    "print('\\t'.join( \n",
    "   [ str(value) for value in int_list ] \n",
    "       )\n",
    "   )\n",
    "print('\\t'.join(\n",
    "    [ str(s) for s in list_list ]\n",
    "        )\n",
    "    )"
   ]
  },
  {
   "cell_type": "markdown",
   "metadata": {},
   "source": [
    "## Set Comprehension\n",
    "\n",
    "Similarly, set comprehension looks like this\n",
    "\n",
    ">{how to build the set from other structures}\n",
    "\n",
    "```\n",
    "two_As_unique = {x for x in sequence_list if x.count('A') == 2}\n",
    "two_As_unique\n",
    "```"
   ]
  },
  {
   "cell_type": "code",
   "execution_count": 89,
   "metadata": {
    "collapsed": false
   },
   "outputs": [
    {
     "data": {
      "text/plain": [
       "['AAG', 'AAG', 'AAG']"
      ]
     },
     "execution_count": 89,
     "metadata": {},
     "output_type": "execute_result"
    }
   ],
   "source": [
    "[x for x in sequence_list if x.count('A') == 2]"
   ]
  },
  {
   "cell_type": "code",
   "execution_count": 113,
   "metadata": {
    "collapsed": false
   },
   "outputs": [
    {
     "data": {
      "text/plain": [
       "{'AAG'}"
      ]
     },
     "execution_count": 113,
     "metadata": {},
     "output_type": "execute_result"
    }
   ],
   "source": [
    "two_As_unique = {x for x in sequence_list if x.count('A') == 2} # set don't have duplecate\n",
    "two_As_unique"
   ]
  },
  {
   "cell_type": "markdown",
   "metadata": {},
   "source": [
    "## Dictionary comprehension\n",
    "\n",
    "For dicts, the syntax is\n",
    "\n",
    ">{ how to build a dict with keys k and values v, from other structures}\n",
    "\n",
    "The \"other structures\" can be lists, sets, tuples, strings ... any sequential structure\n",
    "\n",
    "for example to convert \n",
    "\n",
    "```\n",
    "list_list = [ (1,2), ('foo','bar'), (3, [1,2,3])]\n",
    "```\n",
    "\n",
    "to a dict with the first of each pair as a key and the second as a value, use\n",
    "\n",
    "```\n",
    "dict_version = { x: y for x,y in list_list }\n",
    "print(dict_version)\n",
    "```"
   ]
  },
  {
   "cell_type": "code",
   "execution_count": 90,
   "metadata": {
    "collapsed": false
   },
   "outputs": [
    {
     "data": {
      "text/plain": [
       "{1: 2, 3: [1, 2, 3], 'foo': 'bar'}"
      ]
     },
     "execution_count": 90,
     "metadata": {},
     "output_type": "execute_result"
    }
   ],
   "source": [
    "{ 1: 2 ,'foo': 'bar', 3: [1,2,3]}"
   ]
  },
  {
   "cell_type": "code",
   "execution_count": 92,
   "metadata": {
    "collapsed": false
   },
   "outputs": [
    {
     "name": "stdout",
     "output_type": "stream",
     "text": [
      "[(1, 2), ('foo', 'bar'), (3, [1, 2, 3])]\n"
     ]
    }
   ],
   "source": [
    "list_list = [ (1,2), ('foo','bar'), (3, [1,2,3])]\n",
    "print(list_list)"
   ]
  },
  {
   "cell_type": "code",
   "execution_count": 115,
   "metadata": {
    "collapsed": false
   },
   "outputs": [
    {
     "name": "stdout",
     "output_type": "stream",
     "text": [
      "{1: 2, 3: [1, 2, 3], 'foo': 'bar'}\n"
     ]
    },
    {
     "data": {
      "text/plain": [
       "'bar'"
      ]
     },
     "execution_count": 115,
     "metadata": {},
     "output_type": "execute_result"
    }
   ],
   "source": [
    "dict_version = { x: y for x,y in list_list }\n",
    "print(dict_version)\n",
    "\n",
    "dict_version['foo']"
   ]
  },
  {
   "cell_type": "markdown",
   "metadata": {},
   "source": [
    "A silly example of using methods\n",
    "\n",
    "```\n",
    "words = ['when', 'in', 'the', 'course', 'of']\n",
    "word_lengths = { w:len(w) for w in words }\n",
    "\n",
    "print(word_lengths)\n",
    "print('length of \"course\" is ', word_lengths['course'])\n",
    "```"
   ]
  },
  {
   "cell_type": "code",
   "execution_count": 116,
   "metadata": {
    "collapsed": false
   },
   "outputs": [
    {
     "name": "stdout",
     "output_type": "stream",
     "text": [
      "{'when': 4, 'the': 3, 'of': 2, 'course': 6, 'in': 2}\n",
      "length of \"course\" is  6\n"
     ]
    }
   ],
   "source": [
    "words = ['when', 'in', 'the', 'course', 'of']\n",
    "word_lengths = { w:len(w) for w in words }\n",
    "\n",
    "print(word_lengths)\n",
    "print('length of \"course\" is ', word_lengths['course'])"
   ]
  },
  {
   "cell_type": "markdown",
   "metadata": {},
   "source": [
    "or, for a bad but showy version of this example that reminds you about *zip*\n",
    "\n",
    "```\n",
    "keys = [x for x,y in list_list]\n",
    "values = [y for x,y in list_list]\n",
    "\n",
    "dict_version = dict( zip( keys, values ) )\n",
    "print dict_version\n",
    "```"
   ]
  },
  {
   "cell_type": "code",
   "execution_count": 117,
   "metadata": {
    "collapsed": false
   },
   "outputs": [
    {
     "name": "stdout",
     "output_type": "stream",
     "text": [
      "keys: [1, 'foo', 3]\n",
      "values: [2, 'bar', [1, 2, 3]]\n",
      "dict_version: {1: 2, 3: [1, 2, 3], 'foo': 'bar'}\n"
     ]
    }
   ],
   "source": [
    "keys = [x for x,y in list_list]\n",
    "values = [y for x,y in list_list]\n",
    "\n",
    "dict_version = dict( zip( keys, values ) )\n",
    "print('keys: {}\\nvalues: {}\\ndict_version: {}'.format(keys, values, dict_version))"
   ]
  }
 ],
 "metadata": {
  "anaconda-cloud": {},
  "kernelspec": {
   "display_name": "Python 2",
   "language": "python",
   "name": "python2"
  },
  "language_info": {
   "codemirror_mode": {
    "name": "ipython",
    "version": 2
   },
   "file_extension": ".py",
   "mimetype": "text/x-python",
   "name": "python",
   "nbconvert_exporter": "python",
   "pygments_lexer": "ipython2",
   "version": "2.7.11"
  },
  "latex_envs": {
   "bibliofile": "biblio.bib",
   "cite_by": "apalike",
   "current_citInitial": 1,
   "eqLabelWithNumbers": true,
   "eqNumInitial": 0
  }
 },
 "nbformat": 4,
 "nbformat_minor": 2
}
