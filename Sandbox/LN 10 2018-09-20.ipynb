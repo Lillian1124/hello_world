{
 "cells": [
  {
   "cell_type": "markdown",
   "metadata": {},
   "source": [
    "Plan for today:\n",
    "\n",
    "Basic data structures (3.1): strings, Lists, slices"
   ]
  },
  {
   "cell_type": "markdown",
   "metadata": {},
   "source": [
    "# Compound data structures"
   ]
  },
  {
   "cell_type": "markdown",
   "metadata": {},
   "source": [
    "## Lists\n",
    "\n",
    "* empty list\n",
    "* entries can be *anything* (including other lists)\n",
    "\t* there are no matrixes or tensors, just lists of lists\n"
   ]
  },
  {
   "cell_type": "markdown",
   "metadata": {},
   "source": [
    "### Useful methods\n",
    "* append()\n",
    "* pop()\n",
    "* \\+ (catenation)\n",
    "* sort()\n",
    "\n",
    "list() can be useful (e.g. list('acgnntt'))\n",
    "\n",
    "for *member* in *list*\n"
   ]
  },
  {
   "cell_type": "markdown",
   "metadata": {},
   "source": [
    "### Indexing Slicing\n",
    "* describe\n",
    "\n",
    "use as examples:  nucleotides = [\"A\",\"C\",\"G\",\"T\",\"N\",\"Y\",\"U\"]\n",
    "\n",
    ">goodReads=nucleotides[0:4] or goodReads=nucleotides[:4]\n",
    "\n",
    ">ambiguousReads=nucleotides[4:] or ambiguousReads=nucleotides[4:8]\n",
    "\n",
    "* negative indexes\n",
    "\n",
    "> nucleotides[-2]\n",
    "> nucleotides[:-2]\n",
    "\n",
    "* stepsize\n",
    "\n",
    ">nucleotides[::2]\n",
    ">nucleotides[::-1] # cute\n",
    "\n",
    "* biggest slice is a **copy**. very common construction\n",
    "\n",
    ">nucsCopy=nucleotides[:]\n"
   ]
  },
  {
   "cell_type": "code",
   "execution_count": 13,
   "metadata": {},
   "outputs": [
    {
     "data": {
      "text/plain": [
       "['a', 'c', 'g', 't', 'n', 'y', 'u']"
      ]
     },
     "execution_count": 13,
     "metadata": {},
     "output_type": "execute_result"
    }
   ],
   "source": [
    "nucleotides = [\"A\",\"C\",\"G\",\"T\",\"N\",\"Y\",\"U\"]\n",
    "x= list('acgtnyu')\n",
    "x"
   ]
  },
  {
   "cell_type": "code",
   "execution_count": 14,
   "metadata": {},
   "outputs": [
    {
     "data": {
      "text/plain": [
       "['A', 'C', 'G', 'T', 'N', 'Y', 'U', '?']"
      ]
     },
     "execution_count": 14,
     "metadata": {},
     "output_type": "execute_result"
    }
   ],
   "source": [
    "nucleotides.append('?')\n",
    "nucleotides"
   ]
  },
  {
   "cell_type": "code",
   "execution_count": 15,
   "metadata": {},
   "outputs": [
    {
     "data": {
      "text/plain": [
       "'?'"
      ]
     },
     "execution_count": 15,
     "metadata": {},
     "output_type": "execute_result"
    }
   ],
   "source": [
    "y=nucleotides.pop() # delet and return the last one\n",
    "y"
   ]
  },
  {
   "cell_type": "code",
   "execution_count": 16,
   "metadata": {},
   "outputs": [
    {
     "name": "stdout",
     "output_type": "stream",
     "text": [
      "['A', 'C', 'G', 'T', 'N', 'Y', 'U']\n"
     ]
    }
   ],
   "source": [
    "print(nucleotides)"
   ]
  },
  {
   "cell_type": "code",
   "execution_count": 17,
   "metadata": {},
   "outputs": [
    {
     "data": {
      "text/plain": [
       "['G', 'N']"
      ]
     },
     "execution_count": 17,
     "metadata": {},
     "output_type": "execute_result"
    }
   ],
   "source": [
    "nucleotides[2:5:2]"
   ]
  },
  {
   "cell_type": "code",
   "execution_count": 19,
   "metadata": {
    "collapsed": true
   },
   "outputs": [],
   "source": [
    "ambiguity_codews = nucleotides[-3:]\n",
    "nucleotides= nucleotides[:-3]"
   ]
  },
  {
   "cell_type": "code",
   "execution_count": 20,
   "metadata": {},
   "outputs": [
    {
     "name": "stdout",
     "output_type": "stream",
     "text": [
      "['N', 'Y', 'U']\n",
      "['A', 'C', 'G', 'T']\n"
     ]
    }
   ],
   "source": [
    "print(ambiguity_codews)\n",
    "print(nucleotides)"
   ]
  },
  {
   "cell_type": "markdown",
   "metadata": {},
   "source": [
    "### Compare to strings\n",
    "\n",
    "```\n",
    "DNA_string = 'AAUUUGYCCAANN'\n",
    "DNA_list = list(DNA_string) # casting, or coercion\n",
    "```\n",
    "\n",
    "Lists are mutable (unlike strings)\n",
    "\n",
    "```\n",
    "DNA_list[1] = 'X'\n",
    "DNA_list\n",
    "DNA_string[1] = 'X'\n",
    "```\n",
    "\n",
    "(for fun, what happens with *str(DNA_list)*?)\n"
   ]
  },
  {
   "cell_type": "code",
   "execution_count": 22,
   "metadata": {},
   "outputs": [
    {
     "name": "stdout",
     "output_type": "stream",
     "text": [
      "['A', 'A', 'U', 'U', 'U', 'G', 'Y', 'C', 'C', 'A', 'A', 'N', 'N']\n"
     ]
    }
   ],
   "source": [
    "DNA_string = 'AAUUUGYCCAANN'\n",
    "DNA_list = list(DNA_string) # casting, or coercion\n",
    "print(DNA_list)"
   ]
  },
  {
   "cell_type": "code",
   "execution_count": 24,
   "metadata": {},
   "outputs": [
    {
     "data": {
      "text/plain": [
       "['N', 'A', 'U', 'U', 'U', 'G', 'Y', 'C', 'C', 'A', 'A', 'N', 'N']"
      ]
     },
     "execution_count": 24,
     "metadata": {},
     "output_type": "execute_result"
    }
   ],
   "source": [
    "DNA_list[0]= 'N'\n",
    "DNA_list"
   ]
  },
  {
   "cell_type": "code",
   "execution_count": 23,
   "metadata": {},
   "outputs": [
    {
     "data": {
      "text/plain": [
       "['__add__',\n",
       " '__class__',\n",
       " '__contains__',\n",
       " '__delattr__',\n",
       " '__delitem__',\n",
       " '__delslice__',\n",
       " '__doc__',\n",
       " '__eq__',\n",
       " '__format__',\n",
       " '__ge__',\n",
       " '__getattribute__',\n",
       " '__getitem__',\n",
       " '__getslice__',\n",
       " '__gt__',\n",
       " '__hash__',\n",
       " '__iadd__',\n",
       " '__imul__',\n",
       " '__init__',\n",
       " '__iter__',\n",
       " '__le__',\n",
       " '__len__',\n",
       " '__lt__',\n",
       " '__mul__',\n",
       " '__ne__',\n",
       " '__new__',\n",
       " '__reduce__',\n",
       " '__reduce_ex__',\n",
       " '__repr__',\n",
       " '__reversed__',\n",
       " '__rmul__',\n",
       " '__setattr__',\n",
       " '__setitem__',\n",
       " '__setslice__',\n",
       " '__sizeof__',\n",
       " '__str__',\n",
       " '__subclasshook__',\n",
       " 'append',\n",
       " 'count',\n",
       " 'extend',\n",
       " 'index',\n",
       " 'insert',\n",
       " 'pop',\n",
       " 'remove',\n",
       " 'reverse',\n",
       " 'sort']"
      ]
     },
     "execution_count": 23,
     "metadata": {},
     "output_type": "execute_result"
    }
   ],
   "source": [
    "dir(DNA_list)"
   ]
  },
  {
   "cell_type": "markdown",
   "metadata": {},
   "source": [
    "#### Useful methods converting strings and lists\n"
   ]
  },
  {
   "cell_type": "markdown",
   "metadata": {},
   "source": [
    "##### *str.split()* returns a list of subsequences of the string split at 'x' (default, white space)\n",
    "\n",
    "for example, given the folloiwing fasta sequence description line\n",
    "\n",
    ">header = '>MISEQ:7:000000000-AMAKG:1:1101:16998:1719 1:N:0:PE716:ST6_21 TTGACCCT|0|TAGACCTA|0 ST6_21_F|0|23|'\n"
   ]
  },
  {
   "cell_type": "code",
   "execution_count": 25,
   "metadata": {
    "collapsed": true
   },
   "outputs": [],
   "source": [
    "header = '>MISEQ:7:000000000-AMAKG:1:1101:16998:1719 1:N:0:PE716:ST6_21 TTGACCCT|0|TAGACCTA|0 ST6_21_F|0|23|'"
   ]
  },
  {
   "cell_type": "code",
   "execution_count": 32,
   "metadata": {},
   "outputs": [
    {
     "data": {
      "text/plain": [
       "['>MISEQ:7:000000000-AMAKG:1:1101:16998:1719',\n",
       " '1:N:0:PE716:ST6_21',\n",
       " 'TTGACCCT|0|TAGACCTA|0',\n",
       " 'ST6_21_F|0|23|']"
      ]
     },
     "execution_count": 32,
     "metadata": {},
     "output_type": "execute_result"
    }
   ],
   "source": [
    "# get the fields (split at ' ')\n",
    "seq_fields = sequence_header_fields = header.split(' ')\n",
    "seq_fields\n",
    "# get forward and reverse primers"
   ]
  },
  {
   "cell_type": "code",
   "execution_count": 33,
   "metadata": {},
   "outputs": [
    {
     "data": {
      "text/plain": [
       "[['>MISEQ', '7', '000000000-AMAKG', '1', '1101', '16998', '1719'],\n",
       " '1:N:0:PE716:ST6_21',\n",
       " 'TTGACCCT|0|TAGACCTA|0',\n",
       " 'ST6_21_F|0|23|']"
      ]
     },
     "execution_count": 33,
     "metadata": {},
     "output_type": "execute_result"
    }
   ],
   "source": [
    "seq_fields[0] = seq_fields[0].split(':')\n",
    "seq_fields"
   ]
  },
  {
   "cell_type": "code",
   "execution_count": 34,
   "metadata": {},
   "outputs": [
    {
     "data": {
      "text/plain": [
       "[['>MISEQ', '7', '000000000-AMAKG', '1', '1101', '16998', '1719'],\n",
       " '1:N:0:PE716:ST6_21',\n",
       " ['TTGACCCT', '0', 'TAGACCTA', '0'],\n",
       " 'ST6_21_F|0|23|']"
      ]
     },
     "execution_count": 34,
     "metadata": {},
     "output_type": "execute_result"
    }
   ],
   "source": [
    "seq_fields[2] = seq_fields[2].split('|')\n",
    "seq_fields"
   ]
  },
  {
   "cell_type": "code",
   "execution_count": 35,
   "metadata": {},
   "outputs": [
    {
     "data": {
      "text/plain": [
       "['TTGACCCT', '0', 'TAGACCTA', '0']"
      ]
     },
     "execution_count": 35,
     "metadata": {},
     "output_type": "execute_result"
    }
   ],
   "source": [
    "seq_fields[2]"
   ]
  },
  {
   "cell_type": "code",
   "execution_count": 36,
   "metadata": {},
   "outputs": [
    {
     "data": {
      "text/plain": [
       "'TAGACCTA'"
      ]
     },
     "execution_count": 36,
     "metadata": {},
     "output_type": "execute_result"
    }
   ],
   "source": [
    "seq_fields[2][2]"
   ]
  },
  {
   "cell_type": "markdown",
   "metadata": {},
   "source": [
    "##### *str.join(list)* returns a string with all the strings in list joined by string str\n",
    "\n",
    "for example, suppose one has the following lists:\n",
    "\n",
    "```\n",
    "microbiome_headers = ['ID', 'patientID', 'Week', 'Day', 'Lactobacillus_crispatus', 'Lactobacillus_iners']\n",
    "microbiome_abundances = [\n",
    "     ['w1.1', 'AYAC01', 1, 1, 4478, 12],\n",
    "     ['w1.2', 'AYAC01', 1, 2, 3548, 8],\n",
    "     ['w2.1', 'AYAC02', 1, 1, 6147, 422],\n",
    "     ['w2.64', 'AYAC02', 10, 1, 3352, 1022],\n",
    "     ['w3.65', 'AYAC03', 10, 2, 3346, 1974],\n",
    "]\n",
    "```\n",
    "\n",
    "Warning: what types of elements are in *microbiome_abundances*?\n",
    "\n",
    "Discuss syntax\n",
    "\n",
    "* object.mtd(object) syntax\n",
    "* where to put \"join\" method? Lists or strings??"
   ]
  },
  {
   "cell_type": "code",
   "execution_count": 42,
   "metadata": {
    "collapsed": true
   },
   "outputs": [],
   "source": [
    "microbiome_headers = ['ID', 'patientID', 'Week', 'Day', 'Lactobacillus_crispatus', 'Lactobacillus_iners']\n",
    "microbiome_abundances = [\n",
    "     ['w1.1', 'AYAC01', 1, 1, 4478, 12],\n",
    "     ['w1.2', 'AYAC01', 1, 2, 3548, 8],\n",
    "     ['w2.1', 'AYAC02', 1, 1, 6147, 422],\n",
    "     ['w2.64', 'AYAC02', 10, 1, 3352, 1022],\n",
    "     ['w3.65', 'AYAC03', 10, 2, 3346, 1974],\n",
    "]"
   ]
  },
  {
   "cell_type": "code",
   "execution_count": 54,
   "metadata": {},
   "outputs": [
    {
     "name": "stdout",
     "output_type": "stream",
     "text": [
      "ID\tpatientID\tWeek\tDay\tLactobacillus_crispatus\tLactobacillus_iners\n"
     ]
    }
   ],
   "source": [
    "print('\\t'.join(microbiome_headers)) # \\t is long space"
   ]
  },
  {
   "cell_type": "code",
   "execution_count": 59,
   "metadata": {},
   "outputs": [
    {
     "data": {
      "text/plain": [
       "'1\\t2'"
      ]
     },
     "execution_count": 59,
     "metadata": {},
     "output_type": "execute_result"
    }
   ],
   "source": [
    "'\\t'.join(['1','2'])"
   ]
  },
  {
   "cell_type": "code",
   "execution_count": 64,
   "metadata": {},
   "outputs": [
    {
     "name": "stdout",
     "output_type": "stream",
     "text": [
      "ID\tpatientID\tWeek\tDay\tLactobacillus_crispatus\tLactobacillus_iners\n",
      "w1.1\tAYAC01\t1\t1\t4478\t12\n"
     ]
    }
   ],
   "source": [
    "# print tab-delimited headers, and tab-delimited values of first sample\n",
    "microbiome_headers = ['ID', 'patientID', 'Week', 'Day', 'Lactobacillus_crispatus', 'Lactobacillus_iners']\n",
    "microbiome_abundances = [\n",
    "     ['w1.1', 'AYAC01', 1, 1, 4478, 12],\n",
    "     ['w1.2', 'AYAC01', 1, 2, 3548, 8],\n",
    "     ['w2.1', 'AYAC02', 1, 1, 6147, 422],\n",
    "     ['w2.64', 'AYAC02', 10, 1, 3352, 1022],\n",
    "     ['w3.65', 'AYAC03', 10, 2, 3346, 1974],\n",
    "]\n",
    "\n",
    "print( '\\t'.join(microbiome_headers) )  # fix this\n",
    "first_sample = [str(x) for x in microbiome_abundances[0]]  # We will talk about this magic later\n",
    "first_sample\n",
    "print( '\\t'.join(first_sample))  # fix this"
   ]
  },
  {
   "cell_type": "code",
   "execution_count": 6,
   "metadata": {},
   "outputs": [
    {
     "name": "stdout",
     "output_type": "stream",
     "text": [
      "numbers: [1, 2, 3, 4]\n",
      "n: [1, 2, 3, 4]\n",
      "numbers: [1, 2, 3, 4]\n",
      "n: [1, 2, 3, 4, 5]\n"
     ]
    }
   ],
   "source": [
    "numbers= [1,2,3,4]\n",
    "#n= numbers.copy()\n",
    "n = numbers[:]\n",
    "print('numbers:',numbers)\n",
    "print('n:', n)\n",
    "\n",
    "\n",
    "n.append(5)\n",
    "print('numbers:',numbers)# also change the numbers\n",
    "print('n:', n) #"
   ]
  },
  {
   "cell_type": "markdown",
   "metadata": {},
   "source": [
    "## control flow\n",
    "\t* boolean comparisons: ==, <, <=, ...\n",
    "\t* if/else\n",
    "\t* for\n",
    "    * while"
   ]
  },
  {
   "cell_type": "markdown",
   "metadata": {},
   "source": [
    "### for and while loops\n",
    "Assume\n",
    "\n",
    ">dna = 'CGCAGCTAACGCATTAAGCACTCCGCCTGGGGAGTACGACCGCAAGGTTGAA'\n",
    "\n",
    "\n",
    "While loops repeat for as long as the condition tested after *while* is true\n",
    "\n",
    "```\n",
    "    next_nucleotide = ''\n",
    "    while (next_nucleotide != 'A') & (len(dna)>0):\n",
    "        next_nucleotide = dna[0]\n",
    "        dna = dna[1:]\n",
    "``` \n",
    "\n",
    "For loops iterate over values in the associated *iterator* (a function that returns the next item in a sequence, but only when requested).\n",
    "These are *very common* in python.\n",
    "\n",
    "```\n",
    "    next_index = 0\n",
    "    for next_nucleotide in dna:\n",
    "        if next_nucleotide != 'A':\n",
    "            next_index = next_index + 1\n",
    "    dna = dna[next_index:]\n",
    "```\n",
    "\n",
    "Show \n",
    "```\n",
    "    range(10)\n",
    "    (type(range(10))\n",
    "    list(range(10))\n",
    "    print(range(10))\n",
    "```"
   ]
  },
  {
   "cell_type": "code",
   "execution_count": 76,
   "metadata": {
    "collapsed": true
   },
   "outputs": [],
   "source": [
    "dna = list('CGCAGCTAACGCATTAAGCACTCCGCCTGGGGAGTACGACCGCAAGGTTGAA')"
   ]
  },
  {
   "cell_type": "code",
   "execution_count": 82,
   "metadata": {},
   "outputs": [],
   "source": [
    "dna\n",
    "c_count = 0\n",
    "g_count = 0\n",
    "for next_character in dna:\n",
    "    if next_character == 'C':\n",
    "        c_count = c_count + 1\n",
    "    else:\n",
    "        if next_character == 'G':\n",
    "            g_count = g_count + 1\n",
    "    # elif next_character == 'G':\n",
    "     #       g_count = g_count + 1\n"
   ]
  },
  {
   "cell_type": "code",
   "execution_count": 86,
   "metadata": {},
   "outputs": [
    {
     "name": "stdout",
     "output_type": "stream",
     "text": [
      "number os c: 15 \n",
      "number of g: 15\n",
      "GC content: 0.0\n"
     ]
    }
   ],
   "source": [
    "c_count\n",
    "print'number os c:', c_count, '\\nnumber of g:', g_count\n",
    "print 'GC content:', float((c_count + g_count)/len(dna))"
   ]
  },
  {
   "cell_type": "code",
   "execution_count": 87,
   "metadata": {},
   "outputs": [
    {
     "name": "stdout",
     "output_type": "stream",
     "text": [
      "(16, 16)\n"
     ]
    }
   ],
   "source": [
    "c_count = c_count + 1\n",
    "g_count =g_count +1\n",
    "print(c_count,g_count)"
   ]
  },
  {
   "cell_type": "markdown",
   "metadata": {},
   "source": [
    "### if/then/else\n",
    "\n",
    ">dna = 'CGCAGCTAACGCATTAAGCACTCCGCCTGGGGAGTACGACCGCAAGGTTGAA'\n",
    "\n",
    "Chooses which block to execute based on a boolean test.\n",
    "\n",
    "```\n",
    "   counts = [0,0,0,0]\n",
    "   for next_nucleotide in dna:\n",
    "       if next_nucleotide == 'A':\n",
    "           counts[0] = counts[0] + 1\n",
    "       elif next_nucleotide == 'C':\n",
    "           counts[1] = counts[1] + 1\n",
    "       elif next_nucleotide == 'G':\n",
    "           counts[2] = counts[2] + 1\n",
    "       elif next_nucleotide == 'T':\n",
    "           counts[3] = counts[3] + 1\n",
    "       \n",
    "   print('counts of A, G, C, T: ', counts)\n",
    "```\n",
    "\n",
    "Or, more obtusely:\n",
    "\n",
    "```\n",
    "   counts = [0,0,0,0]\n",
    "   for next_nucleotide in dna:\n",
    "       if next_nucleotide == 'A':\n",
    "           counts[0] = counts[0] + 1\n",
    "       else:\n",
    "           if next_nucleotide == 'C':\n",
    "               counts[1] = counts[1] + 1\n",
    "           else:\n",
    "               if next_nucleotide == 'G':\n",
    "                   counts[2] = counts[2] + 1\n",
    "               else: \n",
    "                   if next_nucleotide == 'T':\n",
    "                       counts[3] = counts[3] + 1\n",
    "           \n",
    "   print('counts of A, G, C, T: ', counts)\n",
    "```\n",
    "\n",
    "Or, as if you were a Fortran coder rather than a python coder (example shown only to show *range()*\n",
    "\n",
    "```\n",
    "   counts = [0,0,0,0]\n",
    "   i=0\n",
    "   for i in range(len(dna)):\n",
    "       if dna[i] == 'A':\n",
    "           counts[0] = counts[0] + 1\n",
    "       elif dna[i] == 'C':\n",
    "           counts[1] = counts[1] + 1\n",
    "       elif dna[i] == 'G':\n",
    "           counts[2] = counts[2] + 1\n",
    "       elif dna[i] == 'T':\n",
    "           counts[3] = counts[3] + 1\n",
    "       \n",
    "   print('counts of A, G, C, T: ', counts)\n",
    "```"
   ]
  },
  {
   "cell_type": "code",
   "execution_count": 88,
   "metadata": {},
   "outputs": [
    {
     "data": {
      "text/plain": [
       "[0, 1, 2, 3, 4, 5, 6, 7, 8, 9]"
      ]
     },
     "execution_count": 88,
     "metadata": {},
     "output_type": "execute_result"
    }
   ],
   "source": [
    "list(range(10))"
   ]
  },
  {
   "cell_type": "code",
   "execution_count": 89,
   "metadata": {},
   "outputs": [
    {
     "ename": "SyntaxError",
     "evalue": "invalid syntax (<ipython-input-89-ab0cfe49fd5a>, line 5)",
     "output_type": "error",
     "traceback": [
      "\u001b[0;36m  File \u001b[0;32m\"<ipython-input-89-ab0cfe49fd5a>\"\u001b[0;36m, line \u001b[0;32m5\u001b[0m\n\u001b[0;31m    if next_num % 2 ==0\u001b[0m\n\u001b[0m                       ^\u001b[0m\n\u001b[0;31mSyntaxError\u001b[0m\u001b[0;31m:\u001b[0m invalid syntax\n"
     ]
    }
   ],
   "source": [
    "numbers =[1,2,3,4]\n",
    "next_num = 0\n",
    "next_index =0\n",
    "while True :\n",
    "    if next_num % 2 ==0\n",
    "        next_num= next_num +1\n",
    "    next_index= next_index +1\n",
    "    if next_index == len(numbers)-1:exit"
   ]
  },
  {
   "cell_type": "code",
   "execution_count": null,
   "metadata": {
    "collapsed": true
   },
   "outputs": [],
   "source": []
  }
 ],
 "metadata": {
  "anaconda-cloud": {},
  "kernelspec": {
   "display_name": "Python 3",
   "language": "python",
   "name": "python3"
  },
  "language_info": {
   "codemirror_mode": {
    "name": "ipython",
    "version": 3
   },
   "file_extension": ".py",
   "mimetype": "text/x-python",
   "name": "python",
   "nbconvert_exporter": "python",
   "pygments_lexer": "ipython3",
   "version": "3.6.5"
  },
  "latex_envs": {
   "bibliofile": "biblio.bib",
   "cite_by": "apalike",
   "current_citInitial": 1,
   "eqLabelWithNumbers": true,
   "eqNumInitial": 0
  }
 },
 "nbformat": 4,
 "nbformat_minor": 2
}
